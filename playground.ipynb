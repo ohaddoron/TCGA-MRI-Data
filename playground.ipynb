{
 "cells": [
  {
   "cell_type": "code",
   "execution_count": 2,
   "metadata": {},
   "outputs": [],
   "source": [
    "import fiftyone as fo"
   ]
  },
  {
   "cell_type": "code",
   "execution_count": 3,
   "metadata": {},
   "outputs": [
    {
     "data": {
      "text/plain": [
       "[]"
      ]
     },
     "execution_count": 3,
     "metadata": {},
     "output_type": "execute_result"
    }
   ],
   "source": [
    "fo.delete_datasets('*')\n",
    "fo.list_datasets()\n"
   ]
  },
  {
   "cell_type": "code",
   "execution_count": 4,
   "metadata": {},
   "outputs": [],
   "source": [
    "with open('dicom-files.txt', 'r') as f:\n",
    "    dicom_files = f.readlines()"
   ]
  },
  {
   "cell_type": "code",
   "execution_count": 5,
   "metadata": {},
   "outputs": [],
   "source": [
    "dicom_files =[file.split('\\n')[0] for file in dicom_files]"
   ]
  },
  {
   "cell_type": "code",
   "execution_count": 6,
   "metadata": {},
   "outputs": [],
   "source": [
    "from pathlib import Path\n",
    "base_paths = [Path(file).parent.as_posix() for file in dicom_files]"
   ]
  },
  {
   "cell_type": "code",
   "execution_count": 7,
   "metadata": {},
   "outputs": [
    {
     "name": "stderr",
     "output_type": "stream",
     "text": [
      "  0%|          | 0/1128 [00:00<?, ?it/s]"
     ]
    },
    {
     "name": "stdout",
     "output_type": "stream",
     "text": [
      "No `images_dir` provided. Images will be unpacked to '/opt/project/data/TCGA-BH-A0AW/02-19-2002-NA-BREAST MRI-78041/200.000000-CAD sag reformat-60410'\n",
      "Ignoring unsupported parameter 'overwrite' for importer type <class 'fiftyone.utils.dicom.DICOMDatasetImporter'>\n"
     ]
    },
    {
     "name": "stderr",
     "output_type": "stream",
     "text": [
      "/usr/local/lib/python3.8/site-packages/fiftyone/utils/dicom.py:99: UserWarning: Ignoring field 'DeidentificationMethodCodeSequence' with unsupported type <class 'pydicom.sequence.Sequence'>\n",
      "  warnings.warn(msg)\n",
      "/usr/local/lib/python3.8/site-packages/fiftyone/utils/dicom.py:99: UserWarning: Ignoring field 'ProcedureCodeSequence' with unsupported type <class 'pydicom.sequence.Sequence'>\n",
      "  warnings.warn(msg)\n"
     ]
    },
    {
     "name": "stdout",
     "output_type": "stream",
     "text": [
      " 100% |█████████████████| 171/171 [11.4s elapsed, 0s remaining, 20.6 samples/s]      \n"
     ]
    },
    {
     "name": "stderr",
     "output_type": "stream",
     "text": [
      "  0%|          | 1/1128 [00:12<4:02:09, 12.89s/it]"
     ]
    },
    {
     "name": "stdout",
     "output_type": "stream",
     "text": [
      "No `images_dir` provided. Images will be unpacked to '/opt/project/data/TCGA-BH-A0DI/11-20-2002-NA-BREAST MRI-40073/5.000000-Sag Vibrant C-29550'\n",
      "Ignoring unsupported parameter 'overwrite' for importer type <class 'fiftyone.utils.dicom.DICOMDatasetImporter'>\n",
      " 100% |█████████████████| 160/160 [8.1s elapsed, 0s remaining, 20.0 samples/s]      \n"
     ]
    },
    {
     "name": "stderr",
     "output_type": "stream",
     "text": [
      "  0%|          | 2/1128 [00:22<3:20:15, 10.67s/it]"
     ]
    },
    {
     "name": "stdout",
     "output_type": "stream",
     "text": [
      "No `images_dir` provided. Images will be unpacked to '/opt/project/data/TCGA-AR-A1AQ/05-07-2003-NA-MRI BREAST BILATERAL-81050/101.000000-21268225-212681-14482'\n",
      "Ignoring unsupported parameter 'overwrite' for importer type <class 'fiftyone.utils.dicom.DICOMDatasetImporter'>\n"
     ]
    },
    {
     "name": "stderr",
     "output_type": "stream",
     "text": [
      "/usr/local/lib/python3.8/site-packages/fiftyone/utils/dicom.py:99: UserWarning: Ignoring field 'VerifyingObserverIdentificationCodeSequence' with unsupported type <class 'pydicom.sequence.Sequence'>\n",
      "  warnings.warn(msg)\n"
     ]
    },
    {
     "name": "stdout",
     "output_type": "stream",
     "text": [
      " 100% |█████████████████| 112/112 [7.8s elapsed, 0s remaining, 16.3 samples/s]      \n"
     ]
    },
    {
     "name": "stderr",
     "output_type": "stream",
     "text": [
      "  0%|          | 3/1128 [00:30<3:05:00,  9.87s/it]"
     ]
    },
    {
     "name": "stdout",
     "output_type": "stream",
     "text": [
      "No `images_dir` provided. Images will be unpacked to '/opt/project/data/TCGA-BH-A0GZ/02-17-2003-NA-BREAST MRI-72293/1.000000-3 plane loc-28463'\n",
      "Ignoring unsupported parameter 'overwrite' for importer type <class 'fiftyone.utils.dicom.DICOMDatasetImporter'>\n",
      " 100% |███████████████████| 29/29 [3.2s elapsed, 0s remaining, 13.0 samples/s]      \n"
     ]
    },
    {
     "name": "stderr",
     "output_type": "stream",
     "text": [
      "  0%|          | 4/1128 [00:34<2:19:42,  7.46s/it]"
     ]
    },
    {
     "name": "stdout",
     "output_type": "stream",
     "text": [
      "No `images_dir` provided. Images will be unpacked to '/opt/project/data/TCGA-BH-A18F/12-22-2003-NA-BREAST MRI-50626/400.000000-COR REFORMAT-66600'\n",
      "Ignoring unsupported parameter 'overwrite' for importer type <class 'fiftyone.utils.dicom.DICOMDatasetImporter'>\n",
      " 100% |█████████████████| 127/127 [9.4s elapsed, 0s remaining, 21.9 samples/s]      \n"
     ]
    },
    {
     "name": "stderr",
     "output_type": "stream",
     "text": [
      "  0%|          | 5/1128 [00:45<2:40:05,  8.55s/it]"
     ]
    },
    {
     "name": "stdout",
     "output_type": "stream",
     "text": [
      "No `images_dir` provided. Images will be unpacked to '/opt/project/data/TCGA-BH-A0E2/01-21-2003-NA-BREAST MRI-05355/3.000000-AX STIR-WaterSat-33869'\n",
      "Ignoring unsupported parameter 'overwrite' for importer type <class 'fiftyone.utils.dicom.DICOMDatasetImporter'>\n",
      " 100% |███████████████████| 51/51 [3.6s elapsed, 0s remaining, 17.3 samples/s]      \n"
     ]
    },
    {
     "name": "stderr",
     "output_type": "stream",
     "text": [
      "  1%|          | 6/1128 [00:49<2:12:21,  7.08s/it]"
     ]
    },
    {
     "name": "stdout",
     "output_type": "stream",
     "text": [
      "No `images_dir` provided. Images will be unpacked to '/opt/project/data/TCGA-BH-A0DH/01-09-2001-NA-BREAST MRI-58184/3.000000-AX STIR-WaterSat-07882'\n",
      "Ignoring unsupported parameter 'overwrite' for importer type <class 'fiftyone.utils.dicom.DICOMDatasetImporter'>\n",
      " 100% |███████████████████| 49/49 [4.7s elapsed, 0s remaining, 16.3 samples/s]      \n"
     ]
    },
    {
     "name": "stderr",
     "output_type": "stream",
     "text": [
      "  1%|          | 7/1128 [00:54<2:02:52,  6.58s/it]"
     ]
    },
    {
     "name": "stdout",
     "output_type": "stream",
     "text": [
      "No `images_dir` provided. Images will be unpacked to '/opt/project/data/TCGA-BH-A0E2/01-21-2003-NA-BREAST MRI-05355/102.000000-CAD sub 2-36731'\n",
      "Ignoring unsupported parameter 'overwrite' for importer type <class 'fiftyone.utils.dicom.DICOMDatasetImporter'>\n",
      " 100% |█████████████████| 106/106 [11.6s elapsed, 0s remaining, 11.4 samples/s]      \n"
     ]
    },
    {
     "name": "stderr",
     "output_type": "stream",
     "text": [
      "  1%|          | 8/1128 [01:07<2:40:18,  8.59s/it]"
     ]
    },
    {
     "name": "stdout",
     "output_type": "stream",
     "text": [
      "No `images_dir` provided. Images will be unpacked to '/opt/project/data/TCGA-E2-A1B5/04-29-2001-NA-MR BREAST BILATERAL WWO CONT-98814/6.000000-SAG 3D POST-CONTRAST-14314'\n",
      "Ignoring unsupported parameter 'overwrite' for importer type <class 'fiftyone.utils.dicom.DICOMDatasetImporter'>\n",
      " 100% |█████████████████| 384/384 [21.3s elapsed, 0s remaining, 23.9 samples/s]      \n"
     ]
    },
    {
     "name": "stderr",
     "output_type": "stream",
     "text": [
      "  1%|          | 9/1128 [01:33<4:17:09, 13.79s/it]"
     ]
    },
    {
     "name": "stdout",
     "output_type": "stream",
     "text": [
      "No `images_dir` provided. Images will be unpacked to '/opt/project/data/TCGA-BH-A0W3/10-12-2003-NA-BREAST MRI-09153/1.000000-3 plane loc-87651'\n",
      "Ignoring unsupported parameter 'overwrite' for importer type <class 'fiftyone.utils.dicom.DICOMDatasetImporter'>\n",
      " 100% |███████████████████| 29/29 [2.1s elapsed, 0s remaining, 14.1 samples/s]      \n"
     ]
    },
    {
     "name": "stderr",
     "output_type": "stream",
     "text": [
      "  1%|          | 10/1128 [01:35<3:10:57, 10.25s/it]"
     ]
    },
    {
     "name": "stdout",
     "output_type": "stream",
     "text": [
      "No `images_dir` provided. Images will be unpacked to '/opt/project/data/TCGA-BH-A0BG/06-11-2001-NA-BREAST MRI-34066/102.000000-CAD sub 2-07463'\n",
      "Ignoring unsupported parameter 'overwrite' for importer type <class 'fiftyone.utils.dicom.DICOMDatasetImporter'>\n",
      " 100% |███████████████████| 82/82 [6.7s elapsed, 0s remaining, 16.4 samples/s]      \n"
     ]
    },
    {
     "name": "stderr",
     "output_type": "stream",
     "text": [
      "  1%|          | 11/1128 [01:42<2:53:40,  9.33s/it]"
     ]
    },
    {
     "name": "stdout",
     "output_type": "stream",
     "text": [
      "No `images_dir` provided. Images will be unpacked to '/opt/project/data/TCGA-BH-A0BM/09-03-2000-NA-BREAST MRI-42240/102.000000-CAD REG CAD Sub 3-29773'\n",
      "Ignoring unsupported parameter 'overwrite' for importer type <class 'fiftyone.utils.dicom.DICOMDatasetImporter'>\n",
      " 100% |███████████████████| 76/76 [5.3s elapsed, 0s remaining, 19.5 samples/s]      \n"
     ]
    },
    {
     "name": "stderr",
     "output_type": "stream",
     "text": [
      "  1%|          | 12/1128 [01:48<2:35:53,  8.38s/it]"
     ]
    },
    {
     "name": "stdout",
     "output_type": "stream",
     "text": [
      "No `images_dir` provided. Images will be unpacked to '/opt/project/data/TCGA-BH-A0H9/09-25-2000-NA-BREAST MRI-55072/2000.000000-CAD MIP Collection-54636'\n",
      "Ignoring unsupported parameter 'overwrite' for importer type <class 'fiftyone.utils.dicom.DICOMDatasetImporter'>\n",
      " 100% |███████████████████| 45/45 [4.4s elapsed, 0s remaining, 15.6 samples/s]      \n"
     ]
    },
    {
     "name": "stderr",
     "output_type": "stream",
     "text": [
      "  1%|          | 13/1128 [01:53<2:16:01,  7.32s/it]"
     ]
    },
    {
     "name": "stdout",
     "output_type": "stream",
     "text": [
      "No `images_dir` provided. Images will be unpacked to '/opt/project/data/TCGA-BH-A0B1/09-04-2000-NA-BREAST MRI-93235/4.000000-Sag Vibrant Pre-22865'\n",
      "Ignoring unsupported parameter 'overwrite' for importer type <class 'fiftyone.utils.dicom.DICOMDatasetImporter'>\n",
      " 100% |█████████████████| 172/172 [10.6s elapsed, 0s remaining, 18.4 samples/s]      \n"
     ]
    },
    {
     "name": "stderr",
     "output_type": "stream",
     "text": [
      "  1%|          | 14/1128 [02:05<2:42:04,  8.73s/it]"
     ]
    },
    {
     "name": "stdout",
     "output_type": "stream",
     "text": [
      "No `images_dir` provided. Images will be unpacked to '/opt/project/data/TCGA-E2-A10F/02-21-2001-NA-MR BREAST BILATERAL WWO CONT-16473/2.000000-ASSET CALIBRATION-84412'\n",
      "Ignoring unsupported parameter 'overwrite' for importer type <class 'fiftyone.utils.dicom.DICOMDatasetImporter'>\n",
      " 100% |███████████████████| 20/20 [2.4s elapsed, 0s remaining, 8.4 samples/s]      \n"
     ]
    },
    {
     "name": "stderr",
     "output_type": "stream",
     "text": [
      "  1%|▏         | 15/1128 [02:08<2:08:04,  6.90s/it]"
     ]
    },
    {
     "name": "stdout",
     "output_type": "stream",
     "text": [
      "No `images_dir` provided. Images will be unpacked to '/opt/project/data/TCGA-E2-A150/01-11-2002-NA-MR BREAST BILATERAL WWO CONT-28816/3.000000-SAG T2 FAT-SAT LEFT-14973'\n",
      "Ignoring unsupported parameter 'overwrite' for importer type <class 'fiftyone.utils.dicom.DICOMDatasetImporter'>\n",
      " 100% |███████████████████| 57/57 [4.6s elapsed, 0s remaining, 18.8 samples/s]      \n"
     ]
    },
    {
     "name": "stderr",
     "output_type": "stream",
     "text": [
      "  1%|▏         | 16/1128 [02:13<1:57:53,  6.36s/it]"
     ]
    },
    {
     "name": "stdout",
     "output_type": "stream",
     "text": [
      "No `images_dir` provided. Images will be unpacked to '/opt/project/data/TCGA-BH-A0BT/06-01-2000-NA-BREAST MRI-32173/2.000000-Calibration Scan-47847'\n",
      "Ignoring unsupported parameter 'overwrite' for importer type <class 'fiftyone.utils.dicom.DICOMDatasetImporter'>\n",
      " 100% |███████████████████| 92/92 [6.2s elapsed, 0s remaining, 18.9 samples/s]      \n"
     ]
    },
    {
     "name": "stderr",
     "output_type": "stream",
     "text": [
      "  2%|▏         | 17/1128 [02:20<2:00:22,  6.50s/it]"
     ]
    },
    {
     "name": "stdout",
     "output_type": "stream",
     "text": [
      "No `images_dir` provided. Images will be unpacked to '/opt/project/data/TCGA-E2-A1L9/05-03-2002-NA-MR BREAST BILATERAL WWO CONT-62542/2.000000-SAG T1 PRE-09243'\n",
      "Ignoring unsupported parameter 'overwrite' for importer type <class 'fiftyone.utils.dicom.DICOMDatasetImporter'>\n",
      " 100% |███████████████████| 80/80 [5.4s elapsed, 0s remaining, 20.5 samples/s]      \n"
     ]
    },
    {
     "name": "stderr",
     "output_type": "stream",
     "text": [
      "  2%|▏         | 18/1128 [02:26<1:57:35,  6.36s/it]"
     ]
    },
    {
     "name": "stdout",
     "output_type": "stream",
     "text": [
      "No `images_dir` provided. Images will be unpacked to '/opt/project/data/TCGA-BH-A0W3/10-12-2003-NA-BREAST MRI-09153/105.000000-CAD sub 1-39188'\n",
      "Ignoring unsupported parameter 'overwrite' for importer type <class 'fiftyone.utils.dicom.DICOMDatasetImporter'>\n",
      " 100% |███████████████████| 94/94 [6.5s elapsed, 0s remaining, 18.0 samples/s]      \n"
     ]
    },
    {
     "name": "stderr",
     "output_type": "stream",
     "text": [
      "  2%|▏         | 19/1128 [02:33<2:03:14,  6.67s/it]"
     ]
    },
    {
     "name": "stdout",
     "output_type": "stream",
     "text": [
      "No `images_dir` provided. Images will be unpacked to '/opt/project/data/TCGA-E2-A15M/08-11-2002-NA-MR BREAST BILATERAL WWO CONT-35322/2.000000-SAG T1 PRE-55117'\n",
      "Ignoring unsupported parameter 'overwrite' for importer type <class 'fiftyone.utils.dicom.DICOMDatasetImporter'>\n",
      " 100% |█████████████████| 110/110 [7.1s elapsed, 0s remaining, 17.4 samples/s]      \n"
     ]
    },
    {
     "name": "stderr",
     "output_type": "stream",
     "text": [
      "  2%|▏         | 20/1128 [02:41<2:10:09,  7.05s/it]"
     ]
    },
    {
     "name": "stdout",
     "output_type": "stream",
     "text": [
      "No `images_dir` provided. Images will be unpacked to '/opt/project/data/TCGA-AO-A12G/03-29-2001-NA-NA-34806/1.000000-Localization-29611'\n",
      "Ignoring unsupported parameter 'overwrite' for importer type <class 'fiftyone.utils.dicom.DICOMDatasetImporter'>\n",
      " 100% |███████████████████| 33/33 [3.0s elapsed, 0s remaining, 16.9 samples/s]      \n"
     ]
    },
    {
     "name": "stderr",
     "output_type": "stream",
     "text": [
      "  2%|▏         | 21/1128 [02:45<1:50:11,  5.97s/it]"
     ]
    },
    {
     "name": "stdout",
     "output_type": "stream",
     "text": [
      "No `images_dir` provided. Images will be unpacked to '/opt/project/data/TCGA-BH-A0E9/12-07-1999-NA-BREAST MRI-15168/104.000000-CAD REG CAD Sub 5-30087'\n",
      "Ignoring unsupported parameter 'overwrite' for importer type <class 'fiftyone.utils.dicom.DICOMDatasetImporter'>\n",
      " 100% |███████████████████| 76/76 [6.3s elapsed, 0s remaining, 17.3 samples/s]      \n"
     ]
    },
    {
     "name": "stderr",
     "output_type": "stream",
     "text": [
      "  2%|▏         | 22/1128 [02:52<1:57:53,  6.40s/it]"
     ]
    },
    {
     "name": "stdout",
     "output_type": "stream",
     "text": [
      "No `images_dir` provided. Images will be unpacked to '/opt/project/data/TCGA-BH-A0AZ/01-09-2002-NA-BREAST MRI-21010/200.000000-CAD sag reformat-67856'\n",
      "Ignoring unsupported parameter 'overwrite' for importer type <class 'fiftyone.utils.dicom.DICOMDatasetImporter'>\n",
      " 100% |█████████████████| 150/150 [12.8s elapsed, 0s remaining, 14.9 samples/s]      \n"
     ]
    },
    {
     "name": "stderr",
     "output_type": "stream",
     "text": [
      "  2%|▏         | 23/1128 [03:06<2:41:02,  8.74s/it]"
     ]
    },
    {
     "name": "stdout",
     "output_type": "stream",
     "text": [
      "No `images_dir` provided. Images will be unpacked to '/opt/project/data/TCGA-BH-A0BG/06-11-2001-NA-BREAST MRI-34066/4.000000-Ax Vibrant MULTIPHASE-61397'\n",
      "Ignoring unsupported parameter 'overwrite' for importer type <class 'fiftyone.utils.dicom.DICOMDatasetImporter'>\n",
      " 100% |█████████████████| 410/410 [32.4s elapsed, 0s remaining, 11.6 samples/s]      \n"
     ]
    },
    {
     "name": "stderr",
     "output_type": "stream",
     "text": [
      "  2%|▏         | 24/1128 [03:43<5:15:09, 17.13s/it]"
     ]
    },
    {
     "name": "stdout",
     "output_type": "stream",
     "text": [
      "No `images_dir` provided. Images will be unpacked to '/opt/project/data/TCGA-E2-A15A/03-06-2002-NA-MR BREAST BILATERAL WWO CONT-46241/5.000000-ASSET CALIBRATION-94449'\n",
      "Ignoring unsupported parameter 'overwrite' for importer type <class 'fiftyone.utils.dicom.DICOMDatasetImporter'>\n",
      " 100% |███████████████████| 82/82 [6.7s elapsed, 0s remaining, 16.8 samples/s]      \n"
     ]
    },
    {
     "name": "stderr",
     "output_type": "stream",
     "text": [
      "  2%|▏         | 25/1128 [03:51<4:23:05, 14.31s/it]"
     ]
    },
    {
     "name": "stdout",
     "output_type": "stream",
     "text": [
      "No `images_dir` provided. Images will be unpacked to '/opt/project/data/TCGA-BH-A0GY/08-27-2001-NA-MRI BREAST-03978/2.000000-Calibration Scan-73086'\n",
      "Ignoring unsupported parameter 'overwrite' for importer type <class 'fiftyone.utils.dicom.DICOMDatasetImporter'>\n",
      " 100% |███████████████████| 92/92 [7.6s elapsed, 0s remaining, 14.9 samples/s]      \n"
     ]
    },
    {
     "name": "stderr",
     "output_type": "stream",
     "text": [
      "  2%|▏         | 26/1128 [03:59<3:52:09, 12.64s/it]"
     ]
    },
    {
     "name": "stdout",
     "output_type": "stream",
     "text": [
      "No `images_dir` provided. Images will be unpacked to '/opt/project/data/TCGA-BH-A0H9/09-25-2000-NA-BREAST MRI-55072/200.000000-CAD COR REF-77415'\n",
      "Ignoring unsupported parameter 'overwrite' for importer type <class 'fiftyone.utils.dicom.DICOMDatasetImporter'>\n",
      " 100% |█████████████████| 110/110 [11.0s elapsed, 0s remaining, 10.6 samples/s]      \n"
     ]
    },
    {
     "name": "stderr",
     "output_type": "stream",
     "text": [
      "  2%|▏         | 27/1128 [04:12<3:50:31, 12.56s/it]"
     ]
    },
    {
     "name": "stdout",
     "output_type": "stream",
     "text": [
      "No `images_dir` provided. Images will be unpacked to '/opt/project/data/TCGA-AO-A0JI/05-05-2001-NA-NA-32428/5143.000000-DIAG MAMMOGRAM U-92020'\n",
      "Ignoring unsupported parameter 'overwrite' for importer type <class 'fiftyone.utils.dicom.DICOMDatasetImporter'>\n"
     ]
    },
    {
     "name": "stderr",
     "output_type": "stream",
     "text": [
      "/usr/local/lib/python3.8/site-packages/fiftyone/utils/dicom.py:99: UserWarning: Ignoring field 'AnatomicRegionSequence' with unsupported type <class 'pydicom.sequence.Sequence'>\n",
      "  warnings.warn(msg)\n",
      "/usr/local/lib/python3.8/site-packages/fiftyone/utils/dicom.py:99: UserWarning: Ignoring field 'ViewCodeSequence' with unsupported type <class 'pydicom.sequence.Sequence'>\n",
      "  warnings.warn(msg)\n"
     ]
    },
    {
     "name": "stdout",
     "output_type": "stream",
     "text": [
      " 100% |█████████████████████| 2/2 [4.8s elapsed, 0s remaining, 0.4 samples/s]   \n"
     ]
    },
    {
     "name": "stderr",
     "output_type": "stream",
     "text": [
      "  2%|▏         | 28/1128 [04:17<3:09:37, 10.34s/it]"
     ]
    },
    {
     "name": "stdout",
     "output_type": "stream",
     "text": [
      "No `images_dir` provided. Images will be unpacked to '/opt/project/data/TCGA-E2-A15F/04-28-2002-NA-MR BREAST BILATERAL WWO CONT-08560/5.000000-ASSET CALIBRATION-90215'\n",
      "Ignoring unsupported parameter 'overwrite' for importer type <class 'fiftyone.utils.dicom.DICOMDatasetImporter'>\n",
      " 100% |███████████████████| 74/74 [8.7s elapsed, 0s remaining, 10.6 samples/s]      \n"
     ]
    },
    {
     "name": "stderr",
     "output_type": "stream",
     "text": [
      "  3%|▎         | 29/1128 [04:27<3:05:42, 10.14s/it]"
     ]
    },
    {
     "name": "stdout",
     "output_type": "stream",
     "text": [
      "No `images_dir` provided. Images will be unpacked to '/opt/project/data/TCGA-E2-A1B6/05-31-2001-NA-MR BREAST BILATERAL WWO CONT-82932/4.000000-SAG T2 FAT-SAT RIGHT-62344'\n",
      "Ignoring unsupported parameter 'overwrite' for importer type <class 'fiftyone.utils.dicom.DICOMDatasetImporter'>\n",
      " 100% |███████████████████| 36/36 [4.4s elapsed, 0s remaining, 12.4 samples/s]      \n"
     ]
    },
    {
     "name": "stderr",
     "output_type": "stream",
     "text": [
      "  3%|▎         | 30/1128 [04:32<2:39:14,  8.70s/it]"
     ]
    },
    {
     "name": "stdout",
     "output_type": "stream",
     "text": [
      "No `images_dir` provided. Images will be unpacked to '/opt/project/data/TCGA-AR-A1AN/10-14-2001-NA-MRI - BREAST-21682/100.000000-38228208-38228100-62453'\n",
      "Ignoring unsupported parameter 'overwrite' for importer type <class 'fiftyone.utils.dicom.DICOMDatasetImporter'>\n",
      " 100% |█████████████████| 108/108 [9.1s elapsed, 0s remaining, 15.3 samples/s]      \n"
     ]
    },
    {
     "name": "stderr",
     "output_type": "stream",
     "text": [
      "  3%|▎         | 31/1128 [04:42<2:48:58,  9.24s/it]"
     ]
    },
    {
     "name": "stdout",
     "output_type": "stream",
     "text": [
      "No `images_dir` provided. Images will be unpacked to '/opt/project/data/TCGA-BH-A0H6/02-03-2002-NA-MRI BREAST-85463/2000.000000-CAD MIP-06085'\n",
      "Ignoring unsupported parameter 'overwrite' for importer type <class 'fiftyone.utils.dicom.DICOMDatasetImporter'>\n",
      " 100% |███████████████████| 45/45 [5.4s elapsed, 0s remaining, 11.3 samples/s]      \n"
     ]
    },
    {
     "name": "stderr",
     "output_type": "stream",
     "text": [
      "  3%|▎         | 32/1128 [04:49<2:31:41,  8.30s/it]"
     ]
    },
    {
     "name": "stdout",
     "output_type": "stream",
     "text": [
      "No `images_dir` provided. Images will be unpacked to '/opt/project/data/TCGA-BH-A0RX/09-02-2003-NA-BREAST MRI-73444/102.000000-CAD sub 2-85262'\n",
      "Ignoring unsupported parameter 'overwrite' for importer type <class 'fiftyone.utils.dicom.DICOMDatasetImporter'>\n",
      " 100% |█████████████████| 102/102 [7.0s elapsed, 0s remaining, 18.7 samples/s]      \n"
     ]
    },
    {
     "name": "stderr",
     "output_type": "stream",
     "text": [
      "  3%|▎         | 33/1128 [04:57<2:30:22,  8.24s/it]"
     ]
    },
    {
     "name": "stdout",
     "output_type": "stream",
     "text": [
      "No `images_dir` provided. Images will be unpacked to '/opt/project/data/TCGA-BH-A0DK/12-22-2002-NA-BREAST MRI-01189/105.000000-CAD sub 1-66844'\n",
      "Ignoring unsupported parameter 'overwrite' for importer type <class 'fiftyone.utils.dicom.DICOMDatasetImporter'>\n",
      " 100% |█████████████████| 102/102 [13.6s elapsed, 0s remaining, 8.2 samples/s]      \n"
     ]
    },
    {
     "name": "stderr",
     "output_type": "stream",
     "text": [
      "  3%|▎         | 34/1128 [05:11<3:05:48, 10.19s/it]"
     ]
    },
    {
     "name": "stdout",
     "output_type": "stream",
     "text": [
      "No `images_dir` provided. Images will be unpacked to '/opt/project/data/TCGA-E2-A14S/03-02-2001-NA-MR BREAST BILATERAL WWO CONT-85661/5.000000-ASSET CALIBRATION-74264'\n",
      "Ignoring unsupported parameter 'overwrite' for importer type <class 'fiftyone.utils.dicom.DICOMDatasetImporter'>\n",
      " 100% |███████████████████| 22/22 [4.4s elapsed, 0s remaining, 5.0 samples/s]      \n"
     ]
    },
    {
     "name": "stderr",
     "output_type": "stream",
     "text": [
      "  3%|▎         | 35/1128 [05:17<2:38:06,  8.68s/it]"
     ]
    },
    {
     "name": "stdout",
     "output_type": "stream",
     "text": [
      "No `images_dir` provided. Images will be unpacked to '/opt/project/data/TCGA-AR-A24S/12-11-1999-NA-MRI - BREAST-03194/3.000000-sag 3dpre-17175'\n",
      "Ignoring unsupported parameter 'overwrite' for importer type <class 'fiftyone.utils.dicom.DICOMDatasetImporter'>\n",
      " 100% |███████████████████| 20/20 [2.8s elapsed, 0s remaining, 7.1 samples/s]      \n"
     ]
    },
    {
     "name": "stderr",
     "output_type": "stream",
     "text": [
      "  3%|▎         | 36/1128 [05:20<2:08:10,  7.04s/it]"
     ]
    },
    {
     "name": "stdout",
     "output_type": "stream",
     "text": [
      "No `images_dir` provided. Images will be unpacked to '/opt/project/data/TCGA-BH-A0B6/10-18-1999-NA-BREAST MRI-60819/201.000000-CAD SAG REF-20237'\n",
      "Ignoring unsupported parameter 'overwrite' for importer type <class 'fiftyone.utils.dicom.DICOMDatasetImporter'>\n",
      " 100% |█████████████████| 107/107 [9.7s elapsed, 0s remaining, 16.2 samples/s]      \n"
     ]
    },
    {
     "name": "stderr",
     "output_type": "stream",
     "text": [
      "  3%|▎         | 37/1128 [05:31<2:29:11,  8.20s/it]"
     ]
    },
    {
     "name": "stdout",
     "output_type": "stream",
     "text": [
      "No `images_dir` provided. Images will be unpacked to '/opt/project/data/TCGA-AO-A12F/10-16-2000-NA-NA-19596/112.000000-Bind56477417..468-26523'\n",
      "Ignoring unsupported parameter 'overwrite' for importer type <class 'fiftyone.utils.dicom.DICOMDatasetImporter'>\n",
      " 100% |███████████████████| 52/52 [5.2s elapsed, 0s remaining, 13.3 samples/s]      \n"
     ]
    },
    {
     "name": "stderr",
     "output_type": "stream",
     "text": [
      "  3%|▎         | 38/1128 [05:37<2:18:21,  7.62s/it]"
     ]
    },
    {
     "name": "stdout",
     "output_type": "stream",
     "text": [
      "No `images_dir` provided. Images will be unpacked to '/opt/project/data/TCGA-BH-A0DK/12-22-2002-NA-BREAST MRI-01189/2.000000-Calibration Scan-72095'\n",
      "Ignoring unsupported parameter 'overwrite' for importer type <class 'fiftyone.utils.dicom.DICOMDatasetImporter'>\n",
      " 100% |███████████████████| 92/92 [7.6s elapsed, 0s remaining, 14.8 samples/s]      \n"
     ]
    },
    {
     "name": "stderr",
     "output_type": "stream",
     "text": [
      "  3%|▎         | 39/1128 [05:46<2:25:02,  7.99s/it]"
     ]
    },
    {
     "name": "stdout",
     "output_type": "stream",
     "text": [
      "No `images_dir` provided. Images will be unpacked to '/opt/project/data/TCGA-BH-A0W5/07-25-2001-NA-MRI BREAST-10788/102.000000-CAD sub 2-75325'\n",
      "Ignoring unsupported parameter 'overwrite' for importer type <class 'fiftyone.utils.dicom.DICOMDatasetImporter'>\n",
      " 100% |███████████████████| 82/82 [6.4s elapsed, 0s remaining, 15.5 samples/s]      \n"
     ]
    },
    {
     "name": "stderr",
     "output_type": "stream",
     "text": [
      "  4%|▎         | 40/1128 [05:54<2:24:20,  7.96s/it]"
     ]
    },
    {
     "name": "stdout",
     "output_type": "stream",
     "text": [
      "No `images_dir` provided. Images will be unpacked to '/opt/project/data/TCGA-BH-A28Q/01-26-2004-NA-BREAST MRI-39143/1.000000-3 plane loc-59940'\n",
      "Ignoring unsupported parameter 'overwrite' for importer type <class 'fiftyone.utils.dicom.DICOMDatasetImporter'>\n",
      " 100% |███████████████████| 29/29 [3.5s elapsed, 0s remaining, 13.6 samples/s]      \n"
     ]
    },
    {
     "name": "stderr",
     "output_type": "stream",
     "text": [
      "  4%|▎         | 41/1128 [05:58<2:04:00,  6.85s/it]"
     ]
    },
    {
     "name": "stdout",
     "output_type": "stream",
     "text": [
      "No `images_dir` provided. Images will be unpacked to '/opt/project/data/TCGA-BH-A0DV/11-29-2000-NA-BREAST MRI-88132/103.000000-CAD REG CAD Sub 4-19613'\n",
      "Ignoring unsupported parameter 'overwrite' for importer type <class 'fiftyone.utils.dicom.DICOMDatasetImporter'>\n",
      " 100% |███████████████████| 82/82 [7.8s elapsed, 0s remaining, 14.8 samples/s]      \n"
     ]
    },
    {
     "name": "stderr",
     "output_type": "stream",
     "text": [
      "  4%|▎         | 42/1128 [06:07<2:15:54,  7.51s/it]"
     ]
    },
    {
     "name": "stdout",
     "output_type": "stream",
     "text": [
      "No `images_dir` provided. Images will be unpacked to '/opt/project/data/TCGA-BH-A0E1/11-04-2002-NA-BREAST MRI-66574/2.000000-Calibration Scan-90096'\n",
      "Ignoring unsupported parameter 'overwrite' for importer type <class 'fiftyone.utils.dicom.DICOMDatasetImporter'>\n",
      " 100% |███████████████████| 92/92 [8.1s elapsed, 0s remaining, 15.5 samples/s]      \n"
     ]
    },
    {
     "name": "stderr",
     "output_type": "stream",
     "text": [
      "  4%|▍         | 43/1128 [06:16<2:25:35,  8.05s/it]"
     ]
    },
    {
     "name": "stdout",
     "output_type": "stream",
     "text": [
      "No `images_dir` provided. Images will be unpacked to '/opt/project/data/TCGA-AO-A12E/02-01-2000-NA-NA-34890/101.000000-NA-90064'\n",
      "Ignoring unsupported parameter 'overwrite' for importer type <class 'fiftyone.utils.dicom.DICOMDatasetImporter'>\n",
      " 100% |███████████████████| 56/56 [4.7s elapsed, 0s remaining, 15.7 samples/s]      \n"
     ]
    },
    {
     "name": "stderr",
     "output_type": "stream",
     "text": [
      "  4%|▍         | 44/1128 [06:22<2:11:18,  7.27s/it]"
     ]
    },
    {
     "name": "stdout",
     "output_type": "stream",
     "text": [
      "No `images_dir` provided. Images will be unpacked to '/opt/project/data/TCGA-BH-A0W5/07-25-2001-NA-MRI BREAST-10788/1.000000-3 plane loc-48492'\n",
      "Ignoring unsupported parameter 'overwrite' for importer type <class 'fiftyone.utils.dicom.DICOMDatasetImporter'>\n",
      " 100% |███████████████████| 29/29 [3.4s elapsed, 0s remaining, 14.0 samples/s]      \n"
     ]
    },
    {
     "name": "stderr",
     "output_type": "stream",
     "text": [
      "  4%|▍         | 45/1128 [06:26<1:52:58,  6.26s/it]"
     ]
    },
    {
     "name": "stdout",
     "output_type": "stream",
     "text": [
      "No `images_dir` provided. Images will be unpacked to '/opt/project/data/TCGA-BH-A0GY/08-27-2001-NA-MRI BREAST-03978/4.000000-Ax Vibrant MULTIPHASE-81168'\n",
      "Ignoring unsupported parameter 'overwrite' for importer type <class 'fiftyone.utils.dicom.DICOMDatasetImporter'>\n",
      " 100% |█████████████████| 530/530 [41.3s elapsed, 0s remaining, 13.7 samples/s]      \n"
     ]
    },
    {
     "name": "stderr",
     "output_type": "stream",
     "text": [
      "  4%|▍         | 46/1128 [07:10<5:19:25, 17.71s/it]"
     ]
    },
    {
     "name": "stdout",
     "output_type": "stream",
     "text": [
      "No `images_dir` provided. Images will be unpacked to '/opt/project/data/TCGA-AO-A12F/10-16-2000-NA-NA-19596/116.000000-564710652-564710252-78544'\n",
      "Ignoring unsupported parameter 'overwrite' for importer type <class 'fiftyone.utils.dicom.DICOMDatasetImporter'>\n",
      " 100% |███████████████████| 52/52 [4.3s elapsed, 0s remaining, 16.4 samples/s]      \n"
     ]
    },
    {
     "name": "stderr",
     "output_type": "stream",
     "text": [
      "  4%|▍         | 47/1128 [07:15<4:10:26, 13.90s/it]"
     ]
    },
    {
     "name": "stdout",
     "output_type": "stream",
     "text": [
      "No `images_dir` provided. Images will be unpacked to '/opt/project/data/TCGA-E2-A1IN/07-28-2002-NA-MR BREAST BILATERAL WWO CONT-40961/5.000000-ASSET CALIBRATION-59941'\n",
      "Ignoring unsupported parameter 'overwrite' for importer type <class 'fiftyone.utils.dicom.DICOMDatasetImporter'>\n",
      " 100% |███████████████████| 88/88 [6.3s elapsed, 0s remaining, 18.9 samples/s]      \n"
     ]
    },
    {
     "name": "stderr",
     "output_type": "stream",
     "text": [
      "  4%|▍         | 48/1128 [07:22<3:34:31, 11.92s/it]"
     ]
    },
    {
     "name": "stdout",
     "output_type": "stream",
     "text": [
      "No `images_dir` provided. Images will be unpacked to '/opt/project/data/TCGA-AO-A0J9/05-11-2001-NA-NA-96851/117.000000-PJN-66190'\n",
      "Ignoring unsupported parameter 'overwrite' for importer type <class 'fiftyone.utils.dicom.DICOMDatasetImporter'>\n",
      " 100% |███████████████████| 13/13 [2.1s elapsed, 0s remaining, 6.2 samples/s]      \n"
     ]
    },
    {
     "name": "stderr",
     "output_type": "stream",
     "text": [
      "  4%|▍         | 49/1128 [07:25<2:43:13,  9.08s/it]"
     ]
    },
    {
     "name": "stdout",
     "output_type": "stream",
     "text": [
      "No `images_dir` provided. Images will be unpacked to '/opt/project/data/TCGA-E2-A1B1/12-21-1999-NA-MR BREAST BILATERAL WWO CONT-74167/3.000000-ASSET CALIBRATION-27092'\n",
      "Ignoring unsupported parameter 'overwrite' for importer type <class 'fiftyone.utils.dicom.DICOMDatasetImporter'>\n",
      " 100% |███████████████████| 61/61 [4.8s elapsed, 0s remaining, 19.0 samples/s]      \n"
     ]
    },
    {
     "name": "stderr",
     "output_type": "stream",
     "text": [
      "  4%|▍         | 50/1128 [07:30<2:23:51,  8.01s/it]"
     ]
    },
    {
     "name": "stdout",
     "output_type": "stream",
     "text": [
      "No `images_dir` provided. Images will be unpacked to '/opt/project/data/TCGA-AO-A03M/03-15-2001-NA-NA-80891/115.000000-Bind112517243..288-42499'\n",
      "Ignoring unsupported parameter 'overwrite' for importer type <class 'fiftyone.utils.dicom.DICOMDatasetImporter'>\n",
      " 100% |███████████████████| 46/46 [4.2s elapsed, 0s remaining, 17.7 samples/s]      \n"
     ]
    },
    {
     "name": "stderr",
     "output_type": "stream",
     "text": [
      "  5%|▍         | 51/1128 [07:35<2:06:28,  7.05s/it]"
     ]
    },
    {
     "name": "stdout",
     "output_type": "stream",
     "text": [
      "No `images_dir` provided. Images will be unpacked to '/opt/project/data/TCGA-AR-A1AX/09-24-2003-NA-MRI BREAST BILATERAL-61364/200.000000-CAD Lt Sagittal Peak-73612'\n",
      "Ignoring unsupported parameter 'overwrite' for importer type <class 'fiftyone.utils.dicom.DICOMDatasetImporter'>\n",
      " 100% |███████████████████| 76/76 [5.8s elapsed, 0s remaining, 19.0 samples/s]      \n"
     ]
    },
    {
     "name": "stderr",
     "output_type": "stream",
     "text": [
      "  5%|▍         | 52/1128 [07:42<2:04:36,  6.95s/it]"
     ]
    },
    {
     "name": "stdout",
     "output_type": "stream",
     "text": [
      "No `images_dir` provided. Images will be unpacked to '/opt/project/data/TCGA-BH-A0H7/03-26-2002-NA-BREAST MRI-96862/105.000000-CAD sub 1-77868'\n",
      "Ignoring unsupported parameter 'overwrite' for importer type <class 'fiftyone.utils.dicom.DICOMDatasetImporter'>\n",
      " 100% |███████████████████| 58/58 [4.9s elapsed, 0s remaining, 16.1 samples/s]      \n"
     ]
    },
    {
     "name": "stderr",
     "output_type": "stream",
     "text": [
      "  5%|▍         | 53/1128 [07:47<1:56:54,  6.53s/it]"
     ]
    },
    {
     "name": "stdout",
     "output_type": "stream",
     "text": [
      "No `images_dir` provided. Images will be unpacked to '/opt/project/data/TCGA-AO-A12E/02-01-2000-NA-NA-34890/114.000000-541910460-541910260-46263'\n",
      "Ignoring unsupported parameter 'overwrite' for importer type <class 'fiftyone.utils.dicom.DICOMDatasetImporter'>\n",
      " 100% |███████████████████| 60/60 [4.1s elapsed, 0s remaining, 19.1 samples/s]      \n"
     ]
    },
    {
     "name": "stderr",
     "output_type": "stream",
     "text": [
      "  5%|▍         | 54/1128 [07:52<1:47:11,  5.99s/it]"
     ]
    },
    {
     "name": "stdout",
     "output_type": "stream",
     "text": [
      "No `images_dir` provided. Images will be unpacked to '/opt/project/data/TCGA-BH-A0B6/10-18-1999-NA-BREAST MRI-60819/200.000000-CAD COR REF-81787'\n",
      "Ignoring unsupported parameter 'overwrite' for importer type <class 'fiftyone.utils.dicom.DICOMDatasetImporter'>\n",
      " 100% |█████████████████| 107/107 [6.4s elapsed, 0s remaining, 20.4 samples/s]      \n"
     ]
    },
    {
     "name": "stderr",
     "output_type": "stream",
     "text": [
      "  5%|▍         | 55/1128 [08:00<1:55:23,  6.45s/it]"
     ]
    },
    {
     "name": "stdout",
     "output_type": "stream",
     "text": [
      "No `images_dir` provided. Images will be unpacked to '/opt/project/data/TCGA-AO-A0JI/11-06-2001-NA-NA-80329/101.000000-Bind1802951..56-21787'\n",
      "Ignoring unsupported parameter 'overwrite' for importer type <class 'fiftyone.utils.dicom.DICOMDatasetImporter'>\n",
      " 100% |███████████████████| 56/56 [4.6s elapsed, 0s remaining, 17.9 samples/s]      \n"
     ]
    },
    {
     "name": "stderr",
     "output_type": "stream",
     "text": [
      "  5%|▍         | 56/1128 [08:05<1:49:01,  6.10s/it]"
     ]
    },
    {
     "name": "stdout",
     "output_type": "stream",
     "text": [
      "No `images_dir` provided. Images will be unpacked to '/opt/project/data/TCGA-BH-A0AW/02-19-2002-NA-BREAST MRI-78041/1.000000-3 plane loc-81931'\n",
      "Ignoring unsupported parameter 'overwrite' for importer type <class 'fiftyone.utils.dicom.DICOMDatasetImporter'>\n",
      " 100% |███████████████████| 29/29 [2.6s elapsed, 0s remaining, 11.2 samples/s]      \n"
     ]
    },
    {
     "name": "stderr",
     "output_type": "stream",
     "text": [
      "  5%|▌         | 57/1128 [08:08<1:35:03,  5.33s/it]"
     ]
    },
    {
     "name": "stdout",
     "output_type": "stream",
     "text": [
      "No `images_dir` provided. Images will be unpacked to '/opt/project/data/TCGA-AR-A1AX/09-24-2003-NA-MRI BREAST BILATERAL-61364/3.000000-WATERAx IDEAL-41140'\n",
      "Ignoring unsupported parameter 'overwrite' for importer type <class 'fiftyone.utils.dicom.DICOMDatasetImporter'>\n",
      " 100% |███████████████████| 40/40 [4.4s elapsed, 0s remaining, 15.9 samples/s]      \n"
     ]
    },
    {
     "name": "stderr",
     "output_type": "stream",
     "text": [
      "  5%|▌         | 58/1128 [08:13<1:33:05,  5.22s/it]"
     ]
    },
    {
     "name": "stdout",
     "output_type": "stream",
     "text": [
      "No `images_dir` provided. Images will be unpacked to '/opt/project/data/TCGA-BH-A0BG/06-11-2001-NA-BREAST MRI-34066/2.000000-Calibration Scan-96219'\n",
      "Ignoring unsupported parameter 'overwrite' for importer type <class 'fiftyone.utils.dicom.DICOMDatasetImporter'>\n",
      " 100% |███████████████████| 92/92 [6.6s elapsed, 0s remaining, 17.0 samples/s]      \n"
     ]
    },
    {
     "name": "stderr",
     "output_type": "stream",
     "text": [
      "  5%|▌         | 59/1128 [08:21<1:45:23,  5.92s/it]"
     ]
    },
    {
     "name": "stdout",
     "output_type": "stream",
     "text": [
      "No `images_dir` provided. Images will be unpacked to '/opt/project/data/TCGA-E2-A14T/03-15-2001-NA-MR BREAST BILATERAL WWO CONT-93911/3.000000-SAG T1 PRE-94146'\n",
      "Ignoring unsupported parameter 'overwrite' for importer type <class 'fiftyone.utils.dicom.DICOMDatasetImporter'>\n",
      " 100% |█████████████████| 146/146 [10.5s elapsed, 0s remaining, 14.4 samples/s]      \n"
     ]
    },
    {
     "name": "stderr",
     "output_type": "stream",
     "text": [
      "  5%|▌         | 60/1128 [08:33<2:17:13,  7.71s/it]"
     ]
    },
    {
     "name": "stdout",
     "output_type": "stream",
     "text": [
      "No `images_dir` provided. Images will be unpacked to '/opt/project/data/TCGA-BH-A18I/01-28-2004-NA-BREAST MRI-54013/5.000000-Sag Vibrant C-85319'\n",
      "Ignoring unsupported parameter 'overwrite' for importer type <class 'fiftyone.utils.dicom.DICOMDatasetImporter'>\n",
      " 100% |█████████████████| 140/140 [10.4s elapsed, 0s remaining, 13.9 samples/s]      \n"
     ]
    },
    {
     "name": "stderr",
     "output_type": "stream",
     "text": [
      "  5%|▌         | 61/1128 [08:45<2:42:07,  9.12s/it]"
     ]
    },
    {
     "name": "stdout",
     "output_type": "stream",
     "text": [
      "No `images_dir` provided. Images will be unpacked to '/opt/project/data/TCGA-E2-A14T/03-15-2001-NA-MR BREAST BILATERAL WWO CONT-93911/2.000000-ASSET CALIBRATION-18987'\n",
      "Ignoring unsupported parameter 'overwrite' for importer type <class 'fiftyone.utils.dicom.DICOMDatasetImporter'>\n",
      " 100% |███████████████████| 33/33 [3.0s elapsed, 0s remaining, 18.5 samples/s]      \n"
     ]
    },
    {
     "name": "stderr",
     "output_type": "stream",
     "text": [
      "  5%|▌         | 62/1128 [08:49<2:12:19,  7.45s/it]"
     ]
    },
    {
     "name": "stdout",
     "output_type": "stream",
     "text": [
      "No `images_dir` provided. Images will be unpacked to '/opt/project/data/TCGA-AR-A1AN/10-18-2001-NA-MRI - BREAST-52081/1.000000-left scout-17826'\n",
      "Ignoring unsupported parameter 'overwrite' for importer type <class 'fiftyone.utils.dicom.DICOMDatasetImporter'>\n",
      " 100% |███████████████████| 51/51 [5.2s elapsed, 0s remaining, 14.5 samples/s]      \n"
     ]
    },
    {
     "name": "stderr",
     "output_type": "stream",
     "text": [
      "  6%|▌         | 63/1128 [08:55<2:03:23,  6.95s/it]"
     ]
    },
    {
     "name": "stdout",
     "output_type": "stream",
     "text": [
      "No `images_dir` provided. Images will be unpacked to '/opt/project/data/TCGA-BH-A0E1/11-04-2002-NA-BREAST MRI-66574/1.000000-3 plane loc-22922'\n",
      "Ignoring unsupported parameter 'overwrite' for importer type <class 'fiftyone.utils.dicom.DICOMDatasetImporter'>\n",
      " 100% |███████████████████| 29/29 [3.1s elapsed, 0s remaining, 15.3 samples/s]     \n"
     ]
    },
    {
     "name": "stderr",
     "output_type": "stream",
     "text": [
      "  6%|▌         | 64/1128 [08:58<1:46:43,  6.02s/it]"
     ]
    },
    {
     "name": "stdout",
     "output_type": "stream",
     "text": [
      "No `images_dir` provided. Images will be unpacked to '/opt/project/data/TCGA-BH-A0GY/08-27-2001-NA-MRI BREAST-03978/1.000000-3 plane loc-48723'\n",
      "Ignoring unsupported parameter 'overwrite' for importer type <class 'fiftyone.utils.dicom.DICOMDatasetImporter'>\n",
      " 100% |███████████████████| 29/29 [3.0s elapsed, 0s remaining, 16.3 samples/s]     \n"
     ]
    },
    {
     "name": "stderr",
     "output_type": "stream",
     "text": [
      "  6%|▌         | 65/1128 [09:02<1:32:56,  5.25s/it]"
     ]
    },
    {
     "name": "stdout",
     "output_type": "stream",
     "text": [
      "No `images_dir` provided. Images will be unpacked to '/opt/project/data/TCGA-E2-A15M/08-11-2002-NA-MR BREAST BILATERAL WWO CONT-35322/5.000000-ASSET CALIBRATION-62892'\n",
      "Ignoring unsupported parameter 'overwrite' for importer type <class 'fiftyone.utils.dicom.DICOMDatasetImporter'>\n",
      " 100% |███████████████████| 74/74 [4.0s elapsed, 0s remaining, 24.2 samples/s]      \n"
     ]
    },
    {
     "name": "stderr",
     "output_type": "stream",
     "text": [
      "  6%|▌         | 66/1128 [09:07<1:30:43,  5.13s/it]"
     ]
    },
    {
     "name": "stdout",
     "output_type": "stream",
     "text": [
      "No `images_dir` provided. Images will be unpacked to '/opt/project/data/TCGA-E2-A15H/06-09-2002-NA-MR BREAST BILATERAL WWO CONT-16052/7.000000-SAG 3D POST-CONTRAST-80255'\n",
      "Ignoring unsupported parameter 'overwrite' for importer type <class 'fiftyone.utils.dicom.DICOMDatasetImporter'>\n",
      " 100% |█████████████████| 324/324 [15.3s elapsed, 0s remaining, 21.4 samples/s]      \n"
     ]
    },
    {
     "name": "stderr",
     "output_type": "stream",
     "text": [
      "  6%|▌         | 67/1128 [09:25<2:37:51,  8.93s/it]"
     ]
    },
    {
     "name": "stdout",
     "output_type": "stream",
     "text": [
      "No `images_dir` provided. Images will be unpacked to '/opt/project/data/TCGA-BH-A0EI/02-25-2002-NA-BIOPSY-25384/5.000000-Ax Vibrant C-17515'\n",
      "Ignoring unsupported parameter 'overwrite' for importer type <class 'fiftyone.utils.dicom.DICOMDatasetImporter'>\n",
      " 100% |███████████████████| 68/68 [4.2s elapsed, 0s remaining, 21.2 samples/s]      \n"
     ]
    },
    {
     "name": "stderr",
     "output_type": "stream",
     "text": [
      "  6%|▌         | 68/1128 [09:29<2:16:12,  7.71s/it]"
     ]
    },
    {
     "name": "stdout",
     "output_type": "stream",
     "text": [
      "No `images_dir` provided. Images will be unpacked to '/opt/project/data/TCGA-BH-A0HX/11-05-2001-NA-BREAST MRI-23277/202.000000-CAD cor reformat-95111'\n",
      "Ignoring unsupported parameter 'overwrite' for importer type <class 'fiftyone.utils.dicom.DICOMDatasetImporter'>\n",
      " 100% |█████████████████| 150/150 [8.0s elapsed, 0s remaining, 19.2 samples/s]      \n"
     ]
    },
    {
     "name": "stderr",
     "output_type": "stream",
     "text": [
      "  6%|▌         | 69/1128 [09:38<2:22:46,  8.09s/it]"
     ]
    },
    {
     "name": "stdout",
     "output_type": "stream",
     "text": [
      "No `images_dir` provided. Images will be unpacked to '/opt/project/data/TCGA-BH-A0H5/06-20-2001-NA-BREAST MRI-23793/4.000000-Ax Vibrant MULTIPHASE-10168'\n",
      "Ignoring unsupported parameter 'overwrite' for importer type <class 'fiftyone.utils.dicom.DICOMDatasetImporter'>\n",
      " 100% |█████████████████| 450/450 [25.3s elapsed, 0s remaining, 18.1 samples/s]      \n"
     ]
    },
    {
     "name": "stderr",
     "output_type": "stream",
     "text": [
      "  6%|▌         | 70/1128 [10:06<4:08:03, 14.07s/it]"
     ]
    },
    {
     "name": "stdout",
     "output_type": "stream",
     "text": [
      "No `images_dir` provided. Images will be unpacked to '/opt/project/data/TCGA-AO-A12D/09-23-1999-NA-NA-51146/102.000000-NA-67238'\n",
      "Ignoring unsupported parameter 'overwrite' for importer type <class 'fiftyone.utils.dicom.DICOMDatasetImporter'>\n",
      " 100% |███████████████████| 53/53 [2.9s elapsed, 0s remaining, 24.5 samples/s]      \n"
     ]
    },
    {
     "name": "stderr",
     "output_type": "stream",
     "text": [
      "  6%|▋         | 71/1128 [10:10<3:11:39, 10.88s/it]"
     ]
    },
    {
     "name": "stdout",
     "output_type": "stream",
     "text": [
      "No `images_dir` provided. Images will be unpacked to '/opt/project/data/TCGA-AR-A24S/11-25-1999-NA-MRI - BREAST-35077/7.000000-LEFT sag fse t1-11509'\n",
      "Ignoring unsupported parameter 'overwrite' for importer type <class 'fiftyone.utils.dicom.DICOMDatasetImporter'>\n",
      " 100% |███████████████████| 24/24 [2.2s elapsed, 0s remaining, 11.0 samples/s]      \n"
     ]
    },
    {
     "name": "stderr",
     "output_type": "stream",
     "text": [
      "  6%|▋         | 72/1128 [10:12<2:27:32,  8.38s/it]"
     ]
    },
    {
     "name": "stdout",
     "output_type": "stream",
     "text": [
      "No `images_dir` provided. Images will be unpacked to '/opt/project/data/TCGA-AR-A24X/05-31-2001-NA-MRI - BREAST-56773/4.000000-LT SAG FSE T2-93453'\n",
      "Ignoring unsupported parameter 'overwrite' for importer type <class 'fiftyone.utils.dicom.DICOMDatasetImporter'>\n",
      " 100% |███████████████████| 24/24 [2.5s elapsed, 0s remaining, 9.6 samples/s]      \n"
     ]
    },
    {
     "name": "stderr",
     "output_type": "stream",
     "text": [
      "  6%|▋         | 73/1128 [10:15<1:58:20,  6.73s/it]"
     ]
    },
    {
     "name": "stdout",
     "output_type": "stream",
     "text": [
      "No `images_dir` provided. Images will be unpacked to '/opt/project/data/TCGA-BH-A0BQ/04-25-2000-NA-BREAST MRI-78053/400.000000-Exponential Apparent Diffusion Coefficient-67748'\n",
      "Ignoring unsupported parameter 'overwrite' for importer type <class 'fiftyone.utils.dicom.DICOMDatasetImporter'>\n",
      " 100% |███████████████████| 41/41 [2.7s elapsed, 0s remaining, 22.8 samples/s]      \n"
     ]
    },
    {
     "name": "stderr",
     "output_type": "stream",
     "text": [
      "  7%|▋         | 74/1128 [10:18<1:39:12,  5.65s/it]"
     ]
    },
    {
     "name": "stdout",
     "output_type": "stream",
     "text": [
      "No `images_dir` provided. Images will be unpacked to '/opt/project/data/TCGA-BH-A18I/01-28-2004-NA-BREAST MRI-54013/4.000000-Ax Vibrant MULTIPHASE-78318'\n",
      "Ignoring unsupported parameter 'overwrite' for importer type <class 'fiftyone.utils.dicom.DICOMDatasetImporter'>\n",
      " 100% |█████████████████| 440/440 [20.8s elapsed, 0s remaining, 23.7 samples/s]      \n"
     ]
    },
    {
     "name": "stderr",
     "output_type": "stream",
     "text": [
      "  7%|▋         | 75/1128 [10:42<3:12:23, 10.96s/it]"
     ]
    },
    {
     "name": "stdout",
     "output_type": "stream",
     "text": [
      "No `images_dir` provided. Images will be unpacked to '/opt/project/data/TCGA-AO-A12F/10-16-2000-NA-NA-19596/121.000000-PJN-07864'\n",
      "Ignoring unsupported parameter 'overwrite' for importer type <class 'fiftyone.utils.dicom.DICOMDatasetImporter'>\n",
      " 100% |███████████████████| 16/16 [1.7s elapsed, 0s remaining, 9.6 samples/s]       \n"
     ]
    },
    {
     "name": "stderr",
     "output_type": "stream",
     "text": [
      "  7%|▋         | 76/1128 [10:44<2:25:08,  8.28s/it]"
     ]
    },
    {
     "name": "stdout",
     "output_type": "stream",
     "text": [
      "No `images_dir` provided. Images will be unpacked to '/opt/project/data/TCGA-BH-A0BQ/04-25-2000-NA-BREAST MRI-78053/101.000000-CAD REG CAD Sub 2-02202'\n",
      "Ignoring unsupported parameter 'overwrite' for importer type <class 'fiftyone.utils.dicom.DICOMDatasetImporter'>\n",
      " 100% |███████████████████| 72/72 [4.2s elapsed, 0s remaining, 24.5 samples/s]      \n"
     ]
    },
    {
     "name": "stderr",
     "output_type": "stream",
     "text": [
      "  7%|▋         | 77/1128 [10:49<2:06:49,  7.24s/it]"
     ]
    },
    {
     "name": "stdout",
     "output_type": "stream",
     "text": [
      "No `images_dir` provided. Images will be unpacked to '/opt/project/data/TCGA-E2-A1IE/01-04-2001-NA-MR BREAST BILATERAL WWO CONT-63539/2.000000-ASSET CALIBRATION-69245'\n",
      "Ignoring unsupported parameter 'overwrite' for importer type <class 'fiftyone.utils.dicom.DICOMDatasetImporter'>\n",
      " 100% |███████████████████| 30/30 [2.1s elapsed, 0s remaining, 14.0 samples/s]      \n"
     ]
    },
    {
     "name": "stderr",
     "output_type": "stream",
     "text": [
      "  7%|▋         | 78/1128 [10:51<1:41:43,  5.81s/it]"
     ]
    },
    {
     "name": "stdout",
     "output_type": "stream",
     "text": [
      "No `images_dir` provided. Images will be unpacked to '/opt/project/data/TCGA-BH-A18I/02-07-2004-NA-BIOPSY-35028/4.000000-Ax Vibrant C-37071'\n",
      "Ignoring unsupported parameter 'overwrite' for importer type <class 'fiftyone.utils.dicom.DICOMDatasetImporter'>\n",
      " 100% |███████████████████| 78/78 [4.7s elapsed, 0s remaining, 21.1 samples/s]      \n"
     ]
    },
    {
     "name": "stderr",
     "output_type": "stream",
     "text": [
      "  7%|▋         | 79/1128 [10:56<1:38:54,  5.66s/it]"
     ]
    },
    {
     "name": "stdout",
     "output_type": "stream",
     "text": [
      "No `images_dir` provided. Images will be unpacked to '/opt/project/data/TCGA-AR-A1AX/09-12-2002-NA-MRI BREAST BILATERAL-55235/3.000000-LT SAG FSE T1-86596'\n",
      "Ignoring unsupported parameter 'overwrite' for importer type <class 'fiftyone.utils.dicom.DICOMDatasetImporter'>\n",
      " 100% |███████████████████| 28/28 [2.5s elapsed, 0s remaining, 11.2 samples/s]      \n"
     ]
    },
    {
     "name": "stderr",
     "output_type": "stream",
     "text": [
      "  7%|▋         | 80/1128 [10:59<1:24:11,  4.82s/it]"
     ]
    },
    {
     "name": "stdout",
     "output_type": "stream",
     "text": [
      "No `images_dir` provided. Images will be unpacked to '/opt/project/data/TCGA-BH-A0AW/02-19-2002-NA-BREAST MRI-78041/5.000000-Sag Vibrant C-30496'\n",
      "Ignoring unsupported parameter 'overwrite' for importer type <class 'fiftyone.utils.dicom.DICOMDatasetImporter'>\n",
      " 100% |█████████████████| 168/168 [8.2s elapsed, 0s remaining, 22.8 samples/s]      \n"
     ]
    },
    {
     "name": "stderr",
     "output_type": "stream",
     "text": [
      "  7%|▋         | 81/1128 [11:09<1:48:03,  6.19s/it]"
     ]
    },
    {
     "name": "stdout",
     "output_type": "stream",
     "text": [
      "No `images_dir` provided. Images will be unpacked to '/opt/project/data/TCGA-BH-A0E1/11-04-2002-NA-BREAST MRI-66574/5.000000-Sag Vibrant C-16668'\n",
      "Ignoring unsupported parameter 'overwrite' for importer type <class 'fiftyone.utils.dicom.DICOMDatasetImporter'>\n",
      " 100% |█████████████████| 152/152 [9.2s elapsed, 0s remaining, 19.3 samples/s]      \n"
     ]
    },
    {
     "name": "stderr",
     "output_type": "stream",
     "text": [
      "  7%|▋         | 82/1128 [11:19<2:09:38,  7.44s/it]"
     ]
    },
    {
     "name": "stdout",
     "output_type": "stream",
     "text": [
      "No `images_dir` provided. Images will be unpacked to '/opt/project/data/TCGA-BH-A0E0/04-06-2003-NA-BREAST MRI-53761/4.000000-Ax Vibrant MULTIPHASE-45900'\n",
      "Ignoring unsupported parameter 'overwrite' for importer type <class 'fiftyone.utils.dicom.DICOMDatasetImporter'>\n",
      " 100% |█████████████████| 380/380 [29.0s elapsed, 0s remaining, 17.4 samples/s]      \n"
     ]
    },
    {
     "name": "stderr",
     "output_type": "stream",
     "text": [
      "  7%|▋         | 83/1128 [11:51<4:16:22, 14.72s/it]"
     ]
    },
    {
     "name": "stdout",
     "output_type": "stream",
     "text": [
      "No `images_dir` provided. Images will be unpacked to '/opt/project/data/TCGA-BH-A0B3/10-09-2000-NA-BREAST MRI-95408/101.000000-CAD REG CAD Sub 2-30137'\n",
      "Ignoring unsupported parameter 'overwrite' for importer type <class 'fiftyone.utils.dicom.DICOMDatasetImporter'>\n",
      " 100% |███████████████████| 82/82 [5.8s elapsed, 0s remaining, 17.4 samples/s]      \n"
     ]
    },
    {
     "name": "stderr",
     "output_type": "stream",
     "text": [
      "  7%|▋         | 84/1128 [11:57<3:33:38, 12.28s/it]"
     ]
    },
    {
     "name": "stdout",
     "output_type": "stream",
     "text": [
      "No `images_dir` provided. Images will be unpacked to '/opt/project/data/TCGA-BH-A0H6/02-03-2002-NA-MRI BREAST-85463/102.000000-CAD sub 2-88092'\n",
      "Ignoring unsupported parameter 'overwrite' for importer type <class 'fiftyone.utils.dicom.DICOMDatasetImporter'>\n",
      " 100% |███████████████████| 68/68 [5.6s elapsed, 0s remaining, 14.4 samples/s]      \n"
     ]
    },
    {
     "name": "stderr",
     "output_type": "stream",
     "text": [
      "  8%|▊         | 85/1128 [12:04<3:03:13, 10.54s/it]"
     ]
    },
    {
     "name": "stdout",
     "output_type": "stream",
     "text": [
      "No `images_dir` provided. Images will be unpacked to '/opt/project/data/TCGA-BH-A0DK/01-01-2003-NA-BIOPSY-76460/2.000000-Calibration Scan-77947'\n",
      "Ignoring unsupported parameter 'overwrite' for importer type <class 'fiftyone.utils.dicom.DICOMDatasetImporter'>\n",
      " 100% |███████████████████| 92/92 [6.3s elapsed, 0s remaining, 18.7 samples/s]      \n"
     ]
    },
    {
     "name": "stderr",
     "output_type": "stream",
     "text": [
      "  8%|▊         | 86/1128 [12:11<2:46:55,  9.61s/it]"
     ]
    },
    {
     "name": "stdout",
     "output_type": "stream",
     "text": [
      "No `images_dir` provided. Images will be unpacked to '/opt/project/data/TCGA-E2-A15I/06-15-2002-NA-MR BREAST BILATERAL WWO CONT-84178/4.000000-SAG T2 FAT-SAT RIGHT-29634'\n",
      "Ignoring unsupported parameter 'overwrite' for importer type <class 'fiftyone.utils.dicom.DICOMDatasetImporter'>\n",
      " 100% |███████████████████| 33/33 [2.9s elapsed, 0s remaining, 16.7 samples/s]      \n"
     ]
    },
    {
     "name": "stderr",
     "output_type": "stream",
     "text": [
      "  8%|▊         | 87/1128 [12:15<2:14:35,  7.76s/it]"
     ]
    },
    {
     "name": "stdout",
     "output_type": "stream",
     "text": [
      "No `images_dir` provided. Images will be unpacked to '/opt/project/data/TCGA-BH-A0B3/10-09-2000-NA-BREAST MRI-95408/2000.000000-CAD MIP Collection-68950'\n",
      "Ignoring unsupported parameter 'overwrite' for importer type <class 'fiftyone.utils.dicom.DICOMDatasetImporter'>\n",
      " 100% |███████████████████| 45/45 [3.6s elapsed, 0s remaining, 18.8 samples/s]      \n"
     ]
    },
    {
     "name": "stderr",
     "output_type": "stream",
     "text": [
      "  8%|▊         | 88/1128 [12:19<1:56:01,  6.69s/it]"
     ]
    },
    {
     "name": "stdout",
     "output_type": "stream",
     "text": [
      "No `images_dir` provided. Images will be unpacked to '/opt/project/data/TCGA-BH-A0DZ/10-16-2002-NA-BREAST MRI-48146/4.000000-Ax Vibrant MULTIPHASE-98232'\n",
      "Ignoring unsupported parameter 'overwrite' for importer type <class 'fiftyone.utils.dicom.DICOMDatasetImporter'>\n",
      " 100% |█████████████████| 510/510 [25.8s elapsed, 0s remaining, 23.8 samples/s]      \n"
     ]
    },
    {
     "name": "stderr",
     "output_type": "stream",
     "text": [
      "  8%|▊         | 89/1128 [12:50<4:01:54, 13.97s/it]"
     ]
    },
    {
     "name": "stdout",
     "output_type": "stream",
     "text": [
      "No `images_dir` provided. Images will be unpacked to '/opt/project/data/TCGA-BH-A0BG/06-11-2001-NA-BREAST MRI-34066/103.000000-CAD sub 3-10919'\n",
      "Ignoring unsupported parameter 'overwrite' for importer type <class 'fiftyone.utils.dicom.DICOMDatasetImporter'>\n",
      " 100% |███████████████████| 82/82 [5.2s elapsed, 0s remaining, 20.7 samples/s]      \n"
     ]
    },
    {
     "name": "stderr",
     "output_type": "stream",
     "text": [
      "  8%|▊         | 90/1128 [12:56<3:21:02, 11.62s/it]"
     ]
    },
    {
     "name": "stdout",
     "output_type": "stream",
     "text": [
      "No `images_dir` provided. Images will be unpacked to '/opt/project/data/TCGA-BH-A0BQ/04-25-2000-NA-BREAST MRI-78053/2.000000-Calibration Scan-16274'\n",
      "Ignoring unsupported parameter 'overwrite' for importer type <class 'fiftyone.utils.dicom.DICOMDatasetImporter'>\n",
      " 100% |█████████████████| 118/118 [6.5s elapsed, 0s remaining, 22.6 samples/s]      \n"
     ]
    },
    {
     "name": "stderr",
     "output_type": "stream",
     "text": [
      "  8%|▊         | 91/1128 [13:03<2:59:02, 10.36s/it]"
     ]
    },
    {
     "name": "stdout",
     "output_type": "stream",
     "text": [
      "No `images_dir` provided. Images will be unpacked to '/opt/project/data/TCGA-BH-A0BT/06-01-2000-NA-BREAST MRI-32173/200.000000-CAD COR REF-12837'\n",
      "Ignoring unsupported parameter 'overwrite' for importer type <class 'fiftyone.utils.dicom.DICOMDatasetImporter'>\n",
      " 100% |█████████████████| 120/120 [6.7s elapsed, 0s remaining, 22.5 samples/s]      \n"
     ]
    },
    {
     "name": "stderr",
     "output_type": "stream",
     "text": [
      "  8%|▊         | 92/1128 [13:11<2:44:57,  9.55s/it]"
     ]
    },
    {
     "name": "stdout",
     "output_type": "stream",
     "text": [
      "No `images_dir` provided. Images will be unpacked to '/opt/project/data/TCGA-AR-A1AX/09-12-2002-NA-MRI BREAST BILATERAL-55235/7.000000-ASSET CAL-68968'\n",
      "Ignoring unsupported parameter 'overwrite' for importer type <class 'fiftyone.utils.dicom.DICOMDatasetImporter'>\n",
      " 100% |███████████████████| 82/82 [5.1s elapsed, 0s remaining, 21.7 samples/s]      \n"
     ]
    },
    {
     "name": "stderr",
     "output_type": "stream",
     "text": [
      "  8%|▊         | 93/1128 [13:17<2:25:53,  8.46s/it]"
     ]
    },
    {
     "name": "stdout",
     "output_type": "stream",
     "text": [
      "No `images_dir` provided. Images will be unpacked to '/opt/project/data/TCGA-AR-A1AX/09-24-2003-NA-MRI BREAST BILATERAL-61364/202.000000-CAD Lt Sagittal Sub-42052'\n",
      "Ignoring unsupported parameter 'overwrite' for importer type <class 'fiftyone.utils.dicom.DICOMDatasetImporter'>\n",
      " 100% |███████████████████| 76/76 [5.3s elapsed, 0s remaining, 21.9 samples/s]      \n"
     ]
    },
    {
     "name": "stderr",
     "output_type": "stream",
     "text": [
      "  8%|▊         | 94/1128 [13:23<2:13:24,  7.74s/it]"
     ]
    },
    {
     "name": "stdout",
     "output_type": "stream",
     "text": [
      "No `images_dir` provided. Images will be unpacked to '/opt/project/data/TCGA-BH-A0C0/08-20-2000-NA-BREAST MRI-05483/2.000000-Calibration Scan-67560'\n",
      "Ignoring unsupported parameter 'overwrite' for importer type <class 'fiftyone.utils.dicom.DICOMDatasetImporter'>\n",
      " 100% |███████████████████| 92/92 [5.0s elapsed, 0s remaining, 21.1 samples/s]      \n"
     ]
    },
    {
     "name": "stderr",
     "output_type": "stream",
     "text": [
      "  8%|▊         | 95/1128 [13:29<2:03:28,  7.17s/it]"
     ]
    },
    {
     "name": "stdout",
     "output_type": "stream",
     "text": [
      "No `images_dir` provided. Images will be unpacked to '/opt/project/data/TCGA-BH-A0GZ/02-17-2003-NA-BREAST MRI-72293/102.000000-CAD sub 2-93707'\n",
      "Ignoring unsupported parameter 'overwrite' for importer type <class 'fiftyone.utils.dicom.DICOMDatasetImporter'>\n",
      " 100% |█████████████████| 104/104 [5.7s elapsed, 0s remaining, 19.9 samples/s]      \n"
     ]
    },
    {
     "name": "stderr",
     "output_type": "stream",
     "text": [
      "  9%|▊         | 96/1128 [13:36<2:03:57,  7.21s/it]"
     ]
    },
    {
     "name": "stdout",
     "output_type": "stream",
     "text": [
      "No `images_dir` provided. Images will be unpacked to '/opt/project/data/TCGA-AO-A12D/09-23-1999-NA-NA-51146/110.000000-345610453-345610253-09881'\n",
      "Ignoring unsupported parameter 'overwrite' for importer type <class 'fiftyone.utils.dicom.DICOMDatasetImporter'>\n",
      " 100% |███████████████████| 53/53 [3.2s elapsed, 0s remaining, 20.7 samples/s]      \n"
     ]
    },
    {
     "name": "stderr",
     "output_type": "stream",
     "text": [
      "  9%|▊         | 97/1128 [13:40<1:46:15,  6.18s/it]"
     ]
    },
    {
     "name": "stdout",
     "output_type": "stream",
     "text": [
      "No `images_dir` provided. Images will be unpacked to '/opt/project/data/TCGA-BH-A0BT/06-01-2000-NA-BREAST MRI-32173/101.000000-CAD REG CAD Sub 2-12102'\n",
      "Ignoring unsupported parameter 'overwrite' for importer type <class 'fiftyone.utils.dicom.DICOMDatasetImporter'>\n",
      " 100% |███████████████████| 80/80 [4.7s elapsed, 0s remaining, 22.3 samples/s]      \n"
     ]
    },
    {
     "name": "stderr",
     "output_type": "stream",
     "text": [
      "  9%|▊         | 98/1128 [13:45<1:41:36,  5.92s/it]"
     ]
    },
    {
     "name": "stdout",
     "output_type": "stream",
     "text": [
      "No `images_dir` provided. Images will be unpacked to '/opt/project/data/TCGA-BH-A0BG/06-11-2001-NA-BREAST MRI-34066/1.000000-3 plane loc-78294'\n",
      "Ignoring unsupported parameter 'overwrite' for importer type <class 'fiftyone.utils.dicom.DICOMDatasetImporter'>\n",
      " 100% |███████████████████| 29/29 [2.1s elapsed, 0s remaining, 14.0 samples/s]      \n"
     ]
    },
    {
     "name": "stderr",
     "output_type": "stream",
     "text": [
      "  9%|▉         | 99/1128 [13:48<1:23:45,  4.88s/it]"
     ]
    },
    {
     "name": "stdout",
     "output_type": "stream",
     "text": [
      "No `images_dir` provided. Images will be unpacked to '/opt/project/data/TCGA-E2-A108/10-13-2001-NA-MR BREAST BILATERAL WWO CONT-74709/5.000000-ASSET CALIBRATION-84043'\n",
      "Ignoring unsupported parameter 'overwrite' for importer type <class 'fiftyone.utils.dicom.DICOMDatasetImporter'>\n",
      " 100% |███████████████████| 78/78 [4.0s elapsed, 0s remaining, 26.9 samples/s]      \n"
     ]
    },
    {
     "name": "stderr",
     "output_type": "stream",
     "text": [
      "  9%|▉         | 100/1128 [13:52<1:22:48,  4.83s/it]"
     ]
    },
    {
     "name": "stdout",
     "output_type": "stream",
     "text": [
      "No `images_dir` provided. Images will be unpacked to '/opt/project/data/TCGA-E2-A15F/04-28-2002-NA-MR BREAST BILATERAL WWO CONT-08560/1.000000-3-PLANE LOCALIZER-60591'\n",
      "Ignoring unsupported parameter 'overwrite' for importer type <class 'fiftyone.utils.dicom.DICOMDatasetImporter'>\n",
      " 100% |███████████████████| 45/45 [2.9s elapsed, 0s remaining, 21.6 samples/s]      \n"
     ]
    },
    {
     "name": "stderr",
     "output_type": "stream",
     "text": [
      "  9%|▉         | 101/1128 [13:56<1:15:13,  4.39s/it]"
     ]
    },
    {
     "name": "stdout",
     "output_type": "stream",
     "text": [
      "No `images_dir` provided. Images will be unpacked to '/opt/project/data/TCGA-E2-A1II/03-29-2001-NA-MR BREAST BILATERAL WWO CONT-41862/3.000000-ASSET CALIBRATION-69588'\n",
      "Ignoring unsupported parameter 'overwrite' for importer type <class 'fiftyone.utils.dicom.DICOMDatasetImporter'>\n",
      " 100% |███████████████████| 30/30 [2.3s elapsed, 0s remaining, 12.8 samples/s]      \n"
     ]
    },
    {
     "name": "stderr",
     "output_type": "stream",
     "text": [
      "  9%|▉         | 102/1128 [13:59<1:06:40,  3.90s/it]"
     ]
    },
    {
     "name": "stdout",
     "output_type": "stream",
     "text": [
      "No `images_dir` provided. Images will be unpacked to '/opt/project/data/TCGA-E2-A1L9/05-03-2002-NA-MR BREAST BILATERAL WWO CONT-62542/8.000000-SAG 3D POST-CONTRAST-70750'\n",
      "Ignoring unsupported parameter 'overwrite' for importer type <class 'fiftyone.utils.dicom.DICOMDatasetImporter'>\n",
      " 100% |█████████████████| 384/384 [19.7s elapsed, 0s remaining, 18.9 samples/s]      \n"
     ]
    },
    {
     "name": "stderr",
     "output_type": "stream",
     "text": [
      "  9%|▉         | 103/1128 [14:21<2:42:16,  9.50s/it]"
     ]
    },
    {
     "name": "stdout",
     "output_type": "stream",
     "text": [
      "No `images_dir` provided. Images will be unpacked to '/opt/project/data/TCGA-AO-A03V/08-10-2002-NA-NA-16391/100.000000-T1 Sagittal not fat sat-63171'\n",
      "Ignoring unsupported parameter 'overwrite' for importer type <class 'fiftyone.utils.dicom.DICOMDatasetImporter'>\n",
      " 100% |███████████████████| 48/48 [3.3s elapsed, 0s remaining, 20.7 samples/s]      \n"
     ]
    },
    {
     "name": "stderr",
     "output_type": "stream",
     "text": [
      "  9%|▉         | 104/1128 [14:25<2:12:58,  7.79s/it]"
     ]
    },
    {
     "name": "stdout",
     "output_type": "stream",
     "text": [
      "No `images_dir` provided. Images will be unpacked to '/opt/project/data/TCGA-AR-A1AN/10-14-2001-NA-MRI - BREAST-21682/5.000000-RT SAG FSE T1-59332'\n",
      "Ignoring unsupported parameter 'overwrite' for importer type <class 'fiftyone.utils.dicom.DICOMDatasetImporter'>\n",
      " 100% |███████████████████| 24/24 [2.2s elapsed, 0s remaining, 10.8 samples/s]     \n"
     ]
    },
    {
     "name": "stderr",
     "output_type": "stream",
     "text": [
      "  9%|▉         | 105/1128 [14:27<1:46:14,  6.23s/it]"
     ]
    },
    {
     "name": "stdout",
     "output_type": "stream",
     "text": [
      "No `images_dir` provided. Images will be unpacked to '/opt/project/data/TCGA-AO-A12E/02-01-2000-NA-NA-34890/109.000000-NA-60022'\n",
      "Ignoring unsupported parameter 'overwrite' for importer type <class 'fiftyone.utils.dicom.DICOMDatasetImporter'>\n",
      " 100% |███████████████████| 56/56 [3.1s elapsed, 0s remaining, 25.0 samples/s]      \n"
     ]
    },
    {
     "name": "stderr",
     "output_type": "stream",
     "text": [
      "  9%|▉         | 106/1128 [14:31<1:32:39,  5.44s/it]"
     ]
    },
    {
     "name": "stdout",
     "output_type": "stream",
     "text": [
      "No `images_dir` provided. Images will be unpacked to '/opt/project/data/TCGA-BH-A0BQ/04-25-2000-NA-BREAST MRI-78053/2000.000000-CAD MIP Collection-90867'\n",
      "Ignoring unsupported parameter 'overwrite' for importer type <class 'fiftyone.utils.dicom.DICOMDatasetImporter'>\n",
      " 100% |███████████████████| 45/45 [3.2s elapsed, 0s remaining, 18.6 samples/s]      \n"
     ]
    },
    {
     "name": "stderr",
     "output_type": "stream",
     "text": [
      "  9%|▉         | 107/1128 [14:35<1:23:42,  4.92s/it]"
     ]
    },
    {
     "name": "stdout",
     "output_type": "stream",
     "text": [
      "No `images_dir` provided. Images will be unpacked to '/opt/project/data/TCGA-BH-A0DH/01-09-2001-NA-BREAST MRI-58184/6.000000-Sag Vibrant C-59796'\n",
      "Ignoring unsupported parameter 'overwrite' for importer type <class 'fiftyone.utils.dicom.DICOMDatasetImporter'>\n",
      " 100% |█████████████████| 160/160 [8.2s elapsed, 0s remaining, 24.9 samples/s]      \n"
     ]
    },
    {
     "name": "stderr",
     "output_type": "stream",
     "text": [
      " 10%|▉         | 108/1128 [14:44<1:47:12,  6.31s/it]"
     ]
    },
    {
     "name": "stdout",
     "output_type": "stream",
     "text": [
      "No `images_dir` provided. Images will be unpacked to '/opt/project/data/TCGA-BH-A0HA/11-17-2001-NA-BREAST MRI-26938/105.000000-CAD sub 1-80016'\n",
      "Ignoring unsupported parameter 'overwrite' for importer type <class 'fiftyone.utils.dicom.DICOMDatasetImporter'>\n",
      " 100% |███████████████████| 92/92 [5.4s elapsed, 0s remaining, 22.5 samples/s]      \n"
     ]
    },
    {
     "name": "stderr",
     "output_type": "stream",
     "text": [
      " 10%|▉         | 109/1128 [14:51<1:46:50,  6.29s/it]"
     ]
    },
    {
     "name": "stdout",
     "output_type": "stream",
     "text": [
      "No `images_dir` provided. Images will be unpacked to '/opt/project/data/TCGA-AR-A24S/11-25-1999-NA-MRI - BREAST-35077/4.000000-RIGHTsag fse t1-00588'\n",
      "Ignoring unsupported parameter 'overwrite' for importer type <class 'fiftyone.utils.dicom.DICOMDatasetImporter'>\n",
      " 100% |███████████████████| 26/26 [2.3s elapsed, 0s remaining, 11.5 samples/s]      \n"
     ]
    },
    {
     "name": "stderr",
     "output_type": "stream",
     "text": [
      " 10%|▉         | 110/1128 [14:53<1:28:24,  5.21s/it]"
     ]
    },
    {
     "name": "stdout",
     "output_type": "stream",
     "text": [
      "No `images_dir` provided. Images will be unpacked to '/opt/project/data/TCGA-BH-A0H9/09-25-2000-NA-BREAST MRI-55072/201.000000-CAD SAG REF-45839'\n",
      "Ignoring unsupported parameter 'overwrite' for importer type <class 'fiftyone.utils.dicom.DICOMDatasetImporter'>\n",
      " 100% |█████████████████| 110/110 [6.5s elapsed, 0s remaining, 19.4 samples/s]      \n"
     ]
    },
    {
     "name": "stderr",
     "output_type": "stream",
     "text": [
      " 10%|▉         | 111/1128 [15:01<1:39:07,  5.85s/it]"
     ]
    },
    {
     "name": "stdout",
     "output_type": "stream",
     "text": [
      "No `images_dir` provided. Images will be unpacked to '/opt/project/data/TCGA-E2-A15J/06-20-2002-NA-MR BREAST BILATERAL WWO CONT-27666/1.000000-3-PLANE LOCALIZER-39265'\n",
      "Ignoring unsupported parameter 'overwrite' for importer type <class 'fiftyone.utils.dicom.DICOMDatasetImporter'>\n",
      " 100% |███████████████████| 45/45 [3.8s elapsed, 0s remaining, 16.3 samples/s]      \n"
     ]
    },
    {
     "name": "stderr",
     "output_type": "stream",
     "text": [
      " 10%|▉         | 112/1128 [15:05<1:31:36,  5.41s/it]"
     ]
    },
    {
     "name": "stdout",
     "output_type": "stream",
     "text": [
      "No `images_dir` provided. Images will be unpacked to '/opt/project/data/TCGA-BH-A0H3/07-27-2001-NA-BREAST MRI-61560/1.000000-3 plane loc-38823'\n",
      "Ignoring unsupported parameter 'overwrite' for importer type <class 'fiftyone.utils.dicom.DICOMDatasetImporter'>\n",
      " 100% |███████████████████| 29/29 [2.0s elapsed, 0s remaining, 14.4 samples/s]      \n"
     ]
    },
    {
     "name": "stderr",
     "output_type": "stream",
     "text": [
      " 10%|█         | 113/1128 [15:07<1:16:29,  4.52s/it]"
     ]
    },
    {
     "name": "stdout",
     "output_type": "stream",
     "text": [
      "No `images_dir` provided. Images will be unpacked to '/opt/project/data/TCGA-AO-A0JM/09-15-1999-NA-NA-59814/100.000000-NA-87739'\n",
      "Ignoring unsupported parameter 'overwrite' for importer type <class 'fiftyone.utils.dicom.DICOMDatasetImporter'>\n",
      " 100% |███████████████████| 45/45 [2.9s elapsed, 0s remaining, 22.8 samples/s]      \n"
     ]
    },
    {
     "name": "stderr",
     "output_type": "stream",
     "text": [
      " 10%|█         | 114/1128 [15:11<1:10:58,  4.20s/it]"
     ]
    },
    {
     "name": "stdout",
     "output_type": "stream",
     "text": [
      "No `images_dir` provided. Images will be unpacked to '/opt/project/data/TCGA-AO-A12D/09-23-1999-NA-NA-51146/105.000000-NA-54637'\n",
      "Ignoring unsupported parameter 'overwrite' for importer type <class 'fiftyone.utils.dicom.DICOMDatasetImporter'>\n",
      " 100% |███████████████████| 55/55 [3.2s elapsed, 0s remaining, 24.1 samples/s]      \n"
     ]
    },
    {
     "name": "stderr",
     "output_type": "stream",
     "text": [
      " 10%|█         | 115/1128 [15:15<1:08:50,  4.08s/it]"
     ]
    },
    {
     "name": "stdout",
     "output_type": "stream",
     "text": [
      "No `images_dir` provided. Images will be unpacked to '/opt/project/data/TCGA-BH-A0RX/09-02-2003-NA-BREAST MRI-73444/4.000000-Ax Vibrant MULTIPHASE-68629'\n",
      "Ignoring unsupported parameter 'overwrite' for importer type <class 'fiftyone.utils.dicom.DICOMDatasetImporter'>\n",
      " 100% |█████████████████| 510/510 [28.0s elapsed, 0s remaining, 17.5 samples/s]      \n"
     ]
    },
    {
     "name": "stderr",
     "output_type": "stream",
     "text": [
      " 10%|█         | 116/1128 [15:47<3:31:35, 12.55s/it]"
     ]
    },
    {
     "name": "stdout",
     "output_type": "stream",
     "text": [
      "No `images_dir` provided. Images will be unpacked to '/opt/project/data/TCGA-E2-A14Y/10-03-2001-NA-MR BREAST BILATERAL WWO CONT-22306/1.000000-3-PLANE LOCALIZER-16397'\n",
      "Ignoring unsupported parameter 'overwrite' for importer type <class 'fiftyone.utils.dicom.DICOMDatasetImporter'>\n",
      " 100% |███████████████████| 45/45 [3.2s elapsed, 0s remaining, 18.6 samples/s]      \n"
     ]
    },
    {
     "name": "stderr",
     "output_type": "stream",
     "text": [
      " 10%|█         | 117/1128 [15:51<2:47:14,  9.92s/it]"
     ]
    },
    {
     "name": "stdout",
     "output_type": "stream",
     "text": [
      "No `images_dir` provided. Images will be unpacked to '/opt/project/data/TCGA-BH-A0DI/11-25-2002-NA-BIOPSY-71577/4.000000-Ax Vibrant C-98594'\n",
      "Ignoring unsupported parameter 'overwrite' for importer type <class 'fiftyone.utils.dicom.DICOMDatasetImporter'>\n",
      " 100% |███████████████████| 56/56 [3.5s elapsed, 0s remaining, 21.1 samples/s]      \n"
     ]
    },
    {
     "name": "stderr",
     "output_type": "stream",
     "text": [
      " 10%|█         | 118/1128 [15:55<2:17:31,  8.17s/it]"
     ]
    },
    {
     "name": "stdout",
     "output_type": "stream",
     "text": [
      "No `images_dir` provided. Images will be unpacked to '/opt/project/data/TCGA-BH-A18H/02-03-2004-NA-BREAST MRI-53089/400.000000-Reformatted-11928'\n",
      "Ignoring unsupported parameter 'overwrite' for importer type <class 'fiftyone.utils.dicom.DICOMDatasetImporter'>\n",
      " 100% |█████████████████████| 6/6 [1.3s elapsed, 0s remaining, 4.8 samples/s]      \n"
     ]
    },
    {
     "name": "stderr",
     "output_type": "stream",
     "text": [
      " 11%|█         | 119/1128 [15:56<1:43:49,  6.17s/it]"
     ]
    },
    {
     "name": "stdout",
     "output_type": "stream",
     "text": [
      "No `images_dir` provided. Images will be unpacked to '/opt/project/data/TCGA-BH-A0H3/07-27-2001-NA-BREAST MRI-61560/3.000000-AX STIR-WaterSat-31802'\n",
      "Ignoring unsupported parameter 'overwrite' for importer type <class 'fiftyone.utils.dicom.DICOMDatasetImporter'>\n",
      " 100% |███████████████████| 49/49 [2.9s elapsed, 0s remaining, 23.9 samples/s]      \n"
     ]
    },
    {
     "name": "stderr",
     "output_type": "stream",
     "text": [
      " 11%|█         | 120/1128 [16:00<1:29:37,  5.34s/it]"
     ]
    },
    {
     "name": "stdout",
     "output_type": "stream",
     "text": [
      "No `images_dir` provided. Images will be unpacked to '/opt/project/data/TCGA-BH-A18F/12-22-2003-NA-BREAST MRI-50626/6.000000-BREASE right-14254'\n",
      "Ignoring unsupported parameter 'overwrite' for importer type <class 'fiftyone.utils.dicom.DICOMDatasetImporter'>\n",
      " 100% |█████████████████████| 1/1 [962.5ms elapsed, 0s remaining, 1.0 samples/s] \n"
     ]
    },
    {
     "name": "stderr",
     "output_type": "stream",
     "text": [
      " 11%|█         | 121/1128 [16:01<1:08:26,  4.08s/it]"
     ]
    },
    {
     "name": "stdout",
     "output_type": "stream",
     "text": [
      "No `images_dir` provided. Images will be unpacked to '/opt/project/data/TCGA-BH-A0B5/10-26-2000-NA-BREAST MRI-16171/200.000000-CAD COR REF-83378'\n",
      "Ignoring unsupported parameter 'overwrite' for importer type <class 'fiftyone.utils.dicom.DICOMDatasetImporter'>\n",
      " 100% |███████████████████| 94/94 [5.3s elapsed, 0s remaining, 20.8 samples/s]      \n"
     ]
    },
    {
     "name": "stderr",
     "output_type": "stream",
     "text": [
      " 11%|█         | 122/1128 [16:07<1:17:53,  4.65s/it]"
     ]
    },
    {
     "name": "stdout",
     "output_type": "stream",
     "text": [
      "No `images_dir` provided. Images will be unpacked to '/opt/project/data/TCGA-AO-A12E/02-01-2000-NA-NA-34890/102.000000-NA-36999'\n",
      "Ignoring unsupported parameter 'overwrite' for importer type <class 'fiftyone.utils.dicom.DICOMDatasetImporter'>\n",
      " 100% |███████████████████| 60/60 [3.3s elapsed, 0s remaining, 21.4 samples/s]      \n"
     ]
    },
    {
     "name": "stderr",
     "output_type": "stream",
     "text": [
      " 11%|█         | 123/1128 [16:11<1:15:04,  4.48s/it]"
     ]
    },
    {
     "name": "stdout",
     "output_type": "stream",
     "text": [
      "No `images_dir` provided. Images will be unpacked to '/opt/project/data/TCGA-E2-A15M/08-11-2002-NA-MR BREAST BILATERAL WWO CONT-35322/6.000000-SAG 3D PRE-CONTRAST-96369'\n",
      "Ignoring unsupported parameter 'overwrite' for importer type <class 'fiftyone.utils.dicom.DICOMDatasetImporter'>\n",
      " 100% |█████████████████| 148/148 [8.8s elapsed, 0s remaining, 15.8 samples/s]      \n"
     ]
    },
    {
     "name": "stderr",
     "output_type": "stream",
     "text": [
      " 11%|█         | 124/1128 [16:21<1:42:06,  6.10s/it]"
     ]
    },
    {
     "name": "stdout",
     "output_type": "stream",
     "text": [
      "No `images_dir` provided. Images will be unpacked to '/opt/project/data/TCGA-E2-A1B6/05-31-2001-NA-MR BREAST BILATERAL WWO CONT-82932/2.000000-SAG T1 PRE-75832'\n",
      "Ignoring unsupported parameter 'overwrite' for importer type <class 'fiftyone.utils.dicom.DICOMDatasetImporter'>\n",
      " 100% |███████████████████| 74/74 [3.9s elapsed, 0s remaining, 24.1 samples/s]      \n"
     ]
    },
    {
     "name": "stderr",
     "output_type": "stream",
     "text": [
      " 11%|█         | 125/1128 [16:25<1:34:30,  5.65s/it]"
     ]
    },
    {
     "name": "stdout",
     "output_type": "stream",
     "text": [
      "No `images_dir` provided. Images will be unpacked to '/opt/project/data/TCGA-E2-A1IG/09-01-2001-NA-MR BREAST BILATERAL WWO CONT-98834/7.000000-SAG 3D POST-CONTRAST-96823'\n",
      "Ignoring unsupported parameter 'overwrite' for importer type <class 'fiftyone.utils.dicom.DICOMDatasetImporter'>\n",
      " 100% |█████████████████| 384/384 [18.5s elapsed, 0s remaining, 22.6 samples/s]      \n"
     ]
    },
    {
     "name": "stderr",
     "output_type": "stream",
     "text": [
      " 11%|█         | 126/1128 [16:46<2:50:56, 10.24s/it]"
     ]
    },
    {
     "name": "stdout",
     "output_type": "stream",
     "text": [
      "No `images_dir` provided. Images will be unpacked to '/opt/project/data/TCGA-BH-A0B5/10-26-2000-NA-BREAST MRI-16171/102.000000-CAD REG CAD Sub 3-49070'\n",
      "Ignoring unsupported parameter 'overwrite' for importer type <class 'fiftyone.utils.dicom.DICOMDatasetImporter'>\n",
      " 100% |███████████████████| 70/70 [3.9s elapsed, 0s remaining, 23.8 samples/s]      \n"
     ]
    },
    {
     "name": "stderr",
     "output_type": "stream",
     "text": [
      " 11%|█▏        | 127/1128 [16:51<2:23:04,  8.58s/it]"
     ]
    },
    {
     "name": "stdout",
     "output_type": "stream",
     "text": [
      "No `images_dir` provided. Images will be unpacked to '/opt/project/data/TCGA-AR-A24X/05-31-2001-NA-MRI - BREAST-56773/3.000000-LT SAG FSE T1-82323'\n",
      "Ignoring unsupported parameter 'overwrite' for importer type <class 'fiftyone.utils.dicom.DICOMDatasetImporter'>\n",
      " 100% |███████████████████| 24/24 [2.1s elapsed, 0s remaining, 11.7 samples/s]      \n"
     ]
    },
    {
     "name": "stderr",
     "output_type": "stream",
     "text": [
      " 11%|█▏        | 128/1128 [16:53<1:51:58,  6.72s/it]"
     ]
    },
    {
     "name": "stdout",
     "output_type": "stream",
     "text": [
      "No `images_dir` provided. Images will be unpacked to '/opt/project/data/TCGA-BH-A0BT/06-01-2000-NA-BREAST MRI-32173/2000.000000-CAD MIP Collection-59151'\n",
      "Ignoring unsupported parameter 'overwrite' for importer type <class 'fiftyone.utils.dicom.DICOMDatasetImporter'>\n",
      " 100% |███████████████████| 45/45 [2.8s elapsed, 0s remaining, 23.2 samples/s]      \n"
     ]
    },
    {
     "name": "stderr",
     "output_type": "stream",
     "text": [
      " 11%|█▏        | 129/1128 [16:57<1:34:38,  5.68s/it]"
     ]
    },
    {
     "name": "stdout",
     "output_type": "stream",
     "text": [
      "No `images_dir` provided. Images will be unpacked to '/opt/project/data/TCGA-AO-A12F/10-16-2000-NA-NA-19596/100.000000-Bind564751..52-33751'\n",
      "Ignoring unsupported parameter 'overwrite' for importer type <class 'fiftyone.utils.dicom.DICOMDatasetImporter'>\n",
      " 100% |███████████████████| 52/52 [2.9s elapsed, 0s remaining, 25.0 samples/s]      \n"
     ]
    },
    {
     "name": "stderr",
     "output_type": "stream",
     "text": [
      " 12%|█▏        | 130/1128 [17:00<1:23:27,  5.02s/it]"
     ]
    },
    {
     "name": "stdout",
     "output_type": "stream",
     "text": [
      "No `images_dir` provided. Images will be unpacked to '/opt/project/data/TCGA-BH-A0DE/08-01-2000-NA-BREAST MRI-94390/1001.000000-CAD VOLUME-66906'\n",
      "Ignoring unsupported parameter 'overwrite' for importer type <class 'fiftyone.utils.dicom.DICOMDatasetImporter'>\n",
      " 100% |█████████████████████| 4/4 [1.2s elapsed, 0s remaining, 3.4 samples/s]   \n"
     ]
    },
    {
     "name": "stderr",
     "output_type": "stream",
     "text": [
      " 12%|█▏        | 131/1128 [17:02<1:05:19,  3.93s/it]"
     ]
    },
    {
     "name": "stdout",
     "output_type": "stream",
     "text": [
      "No `images_dir` provided. Images will be unpacked to '/opt/project/data/TCGA-E2-A1II/03-29-2001-NA-MR BREAST BILATERAL WWO CONT-41862/9.000000-SAG 3D PRE-CONTRAST-58229'\n",
      "Ignoring unsupported parameter 'overwrite' for importer type <class 'fiftyone.utils.dicom.DICOMDatasetImporter'>\n",
      " 100% |█████████████████| 156/156 [7.2s elapsed, 0s remaining, 25.3 samples/s]      \n"
     ]
    },
    {
     "name": "stderr",
     "output_type": "stream",
     "text": [
      " 12%|█▏        | 132/1128 [17:10<1:26:21,  5.20s/it]"
     ]
    },
    {
     "name": "stdout",
     "output_type": "stream",
     "text": [
      "No `images_dir` provided. Images will be unpacked to '/opt/project/data/TCGA-E2-A109/03-23-2000-NA-MR BREAST BILATERAL WWO CONT-06870/4.000000-SAG T2 FAT-SAT-34351'\n",
      "Ignoring unsupported parameter 'overwrite' for importer type <class 'fiftyone.utils.dicom.DICOMDatasetImporter'>\n",
      " 100% |███████████████████| 86/86 [4.9s elapsed, 0s remaining, 19.4 samples/s]      \n"
     ]
    },
    {
     "name": "stderr",
     "output_type": "stream",
     "text": [
      " 12%|█▏        | 133/1128 [17:15<1:28:14,  5.32s/it]"
     ]
    },
    {
     "name": "stdout",
     "output_type": "stream",
     "text": [
      "No `images_dir` provided. Images will be unpacked to '/opt/project/data/TCGA-E2-A1IK/05-04-2002-NA-MR BREAST BILATERAL WWO CONT-09734/4.000000-SAG T2 FAT-SAT RIGHT-02278'\n",
      "Ignoring unsupported parameter 'overwrite' for importer type <class 'fiftyone.utils.dicom.DICOMDatasetImporter'>\n",
      " 100% |███████████████████| 48/48 [3.6s elapsed, 0s remaining, 17.2 samples/s]      \n"
     ]
    },
    {
     "name": "stderr",
     "output_type": "stream",
     "text": [
      " 12%|█▏        | 134/1128 [17:20<1:22:12,  4.96s/it]"
     ]
    },
    {
     "name": "stdout",
     "output_type": "stream",
     "text": [
      "No `images_dir` provided. Images will be unpacked to '/opt/project/data/TCGA-BH-A0B6/10-18-1999-NA-BREAST MRI-60819/101.000000-CAD REG CAD Sub 2-04812'\n",
      "Ignoring unsupported parameter 'overwrite' for importer type <class 'fiftyone.utils.dicom.DICOMDatasetImporter'>\n",
      " 100% |███████████████████| 92/92 [7.3s elapsed, 0s remaining, 18.2 samples/s]      \n"
     ]
    },
    {
     "name": "stderr",
     "output_type": "stream",
     "text": [
      " 12%|█▏        | 135/1128 [17:29<1:43:18,  6.24s/it]"
     ]
    },
    {
     "name": "stdout",
     "output_type": "stream",
     "text": [
      "No `images_dir` provided. Images will be unpacked to '/opt/project/data/TCGA-AR-A24X/05-31-2001-NA-MRI - BREAST-56773/1.000000-SCOUT-68658'\n",
      "Ignoring unsupported parameter 'overwrite' for importer type <class 'fiftyone.utils.dicom.DICOMDatasetImporter'>\n",
      " 100% |███████████████████| 45/45 [4.5s elapsed, 0s remaining, 12.7 samples/s]      \n"
     ]
    },
    {
     "name": "stderr",
     "output_type": "stream",
     "text": [
      " 12%|█▏        | 136/1128 [17:34<1:37:23,  5.89s/it]"
     ]
    },
    {
     "name": "stdout",
     "output_type": "stream",
     "text": [
      "No `images_dir` provided. Images will be unpacked to '/opt/project/data/TCGA-BH-A18I/02-07-2004-NA-BIOPSY-35028/3.000000-Ax Vibrant C-22981'\n",
      "Ignoring unsupported parameter 'overwrite' for importer type <class 'fiftyone.utils.dicom.DICOMDatasetImporter'>\n",
      " 100% |█████████████████| 234/234 [14.3s elapsed, 0s remaining, 17.4 samples/s]      \n"
     ]
    },
    {
     "name": "stderr",
     "output_type": "stream",
     "text": [
      " 12%|█▏        | 137/1128 [17:50<2:27:39,  8.94s/it]"
     ]
    },
    {
     "name": "stdout",
     "output_type": "stream",
     "text": [
      "No `images_dir` provided. Images will be unpacked to '/opt/project/data/TCGA-BH-A0BJ/01-08-2002-NA-BIOPSY-69800/4.000000-Ax Vibrant C-25779'\n",
      "Ignoring unsupported parameter 'overwrite' for importer type <class 'fiftyone.utils.dicom.DICOMDatasetImporter'>\n",
      " 100% |███████████████████| 70/70 [4.9s elapsed, 0s remaining, 18.1 samples/s]      \n"
     ]
    },
    {
     "name": "stderr",
     "output_type": "stream",
     "text": [
      " 12%|█▏        | 138/1128 [17:55<2:11:04,  7.94s/it]"
     ]
    },
    {
     "name": "stdout",
     "output_type": "stream",
     "text": [
      "No `images_dir` provided. Images will be unpacked to '/opt/project/data/TCGA-BH-A0DK/12-22-2002-NA-BREAST MRI-01189/202.000000-CAD cor reformat-81595'\n",
      "Ignoring unsupported parameter 'overwrite' for importer type <class 'fiftyone.utils.dicom.DICOMDatasetImporter'>\n",
      " 100% |█████████████████| 171/171 [10.0s elapsed, 0s remaining, 16.9 samples/s]     \n"
     ]
    },
    {
     "name": "stderr",
     "output_type": "stream",
     "text": [
      " 12%|█▏        | 139/1128 [18:08<2:32:57,  9.28s/it]"
     ]
    },
    {
     "name": "stdout",
     "output_type": "stream",
     "text": [
      "No `images_dir` provided. Images will be unpacked to '/opt/project/data/TCGA-BH-A201/05-11-2004-NA-BREAST MRI-49157/103.000000-CAD sub 3-37279'\n",
      "Ignoring unsupported parameter 'overwrite' for importer type <class 'fiftyone.utils.dicom.DICOMDatasetImporter'>\n",
      " 100% |███████████████████| 90/90 [6.1s elapsed, 0s remaining, 18.0 samples/s]      \n"
     ]
    },
    {
     "name": "stderr",
     "output_type": "stream",
     "text": [
      " 12%|█▏        | 140/1128 [18:15<2:21:17,  8.58s/it]"
     ]
    },
    {
     "name": "stdout",
     "output_type": "stream",
     "text": [
      "No `images_dir` provided. Images will be unpacked to '/opt/project/data/TCGA-BH-A0BQ/04-25-2000-NA-BREAST MRI-78053/1.000000-3 plane loc-14064'\n",
      "Ignoring unsupported parameter 'overwrite' for importer type <class 'fiftyone.utils.dicom.DICOMDatasetImporter'>\n",
      " 100% |███████████████████| 29/29 [2.3s elapsed, 0s remaining, 12.5 samples/s]      \n"
     ]
    },
    {
     "name": "stderr",
     "output_type": "stream",
     "text": [
      " 12%|█▎        | 141/1128 [18:18<1:53:17,  6.89s/it]"
     ]
    },
    {
     "name": "stdout",
     "output_type": "stream",
     "text": [
      "No `images_dir` provided. Images will be unpacked to '/opt/project/data/TCGA-E2-A14S/03-02-2001-NA-MR BREAST BILATERAL WWO CONT-85661/1.000000-3-PLANE LOCALIZER-10615'\n",
      "Ignoring unsupported parameter 'overwrite' for importer type <class 'fiftyone.utils.dicom.DICOMDatasetImporter'>\n",
      " 100% |███████████████████| 45/45 [3.1s elapsed, 0s remaining, 20.3 samples/s]      \n"
     ]
    },
    {
     "name": "stderr",
     "output_type": "stream",
     "text": [
      " 13%|█▎        | 142/1128 [18:21<1:36:58,  5.90s/it]"
     ]
    },
    {
     "name": "stdout",
     "output_type": "stream",
     "text": [
      "No `images_dir` provided. Images will be unpacked to '/opt/project/data/TCGA-E2-A15J/06-20-2002-NA-MR BREAST BILATERAL WWO CONT-27666/3.000000-SAG T2 FAT-SAT LEFT-76464'\n",
      "Ignoring unsupported parameter 'overwrite' for importer type <class 'fiftyone.utils.dicom.DICOMDatasetImporter'>\n",
      " 100% |███████████████████| 48/48 [3.7s elapsed, 0s remaining, 18.7 samples/s]      \n"
     ]
    },
    {
     "name": "stderr",
     "output_type": "stream",
     "text": [
      " 13%|█▎        | 143/1128 [18:26<1:28:55,  5.42s/it]"
     ]
    },
    {
     "name": "stdout",
     "output_type": "stream",
     "text": [
      "No `images_dir` provided. Images will be unpacked to '/opt/project/data/TCGA-AO-A0JI/11-06-2001-NA-NA-80329/104.000000-Bind180296113..168-99213'\n",
      "Ignoring unsupported parameter 'overwrite' for importer type <class 'fiftyone.utils.dicom.DICOMDatasetImporter'>\n",
      " 100% |███████████████████| 56/56 [3.9s elapsed, 0s remaining, 20.9 samples/s]      \n"
     ]
    },
    {
     "name": "stderr",
     "output_type": "stream",
     "text": [
      " 13%|█▎        | 144/1128 [18:30<1:25:19,  5.20s/it]"
     ]
    },
    {
     "name": "stdout",
     "output_type": "stream",
     "text": [
      "No `images_dir` provided. Images will be unpacked to '/opt/project/data/TCGA-BH-A0EI/02-17-2002-NA-BREAST MRI-14232/202.000000-CAD cor reformat-99493'\n",
      "Ignoring unsupported parameter 'overwrite' for importer type <class 'fiftyone.utils.dicom.DICOMDatasetImporter'>\n",
      " 100% |█████████████████| 160/160 [6.4s elapsed, 0s remaining, 26.8 samples/s]      \n"
     ]
    },
    {
     "name": "stderr",
     "output_type": "stream",
     "text": [
      " 13%|█▎        | 145/1128 [18:38<1:38:39,  6.02s/it]"
     ]
    },
    {
     "name": "stdout",
     "output_type": "stream",
     "text": [
      "No `images_dir` provided. Images will be unpacked to '/opt/project/data/TCGA-BH-A0HA/11-17-2001-NA-BREAST MRI-26938/200.000000-CAD sag reformat-85414'\n",
      "Ignoring unsupported parameter 'overwrite' for importer type <class 'fiftyone.utils.dicom.DICOMDatasetImporter'>\n",
      " 100% |█████████████████| 145/145 [4.8s elapsed, 0s remaining, 36.5 samples/s]      \n"
     ]
    },
    {
     "name": "stderr",
     "output_type": "stream",
     "text": [
      " 13%|█▎        | 146/1128 [18:44<1:37:14,  5.94s/it]"
     ]
    },
    {
     "name": "stdout",
     "output_type": "stream",
     "text": [
      "No `images_dir` provided. Images will be unpacked to '/opt/project/data/TCGA-BH-A0E1/11-04-2002-NA-BREAST MRI-66574/103.000000-CAD sub 3-28634'\n",
      "Ignoring unsupported parameter 'overwrite' for importer type <class 'fiftyone.utils.dicom.DICOMDatasetImporter'>\n",
      " 100% |███████████████████| 80/80 [3.5s elapsed, 0s remaining, 27.8 samples/s]      \n"
     ]
    },
    {
     "name": "stderr",
     "output_type": "stream",
     "text": [
      " 13%|█▎        | 147/1128 [18:48<1:27:58,  5.38s/it]"
     ]
    },
    {
     "name": "stdout",
     "output_type": "stream",
     "text": [
      "No `images_dir` provided. Images will be unpacked to '/opt/project/data/TCGA-BH-A0DH/01-09-2001-NA-BREAST MRI-58184/200.000000-CAD COR REF-28079'\n",
      "Ignoring unsupported parameter 'overwrite' for importer type <class 'fiftyone.utils.dicom.DICOMDatasetImporter'>\n",
      " 100% |███████████████████| 97/97 [4.4s elapsed, 0s remaining, 28.0 samples/s]      \n"
     ]
    },
    {
     "name": "stderr",
     "output_type": "stream",
     "text": [
      " 13%|█▎        | 148/1128 [18:53<1:26:01,  5.27s/it]"
     ]
    },
    {
     "name": "stdout",
     "output_type": "stream",
     "text": [
      "No `images_dir` provided. Images will be unpacked to '/opt/project/data/TCGA-BH-A201/05-11-2004-NA-BREAST MRI-49157/3.000000-AX STIR-WaterSat-42904'\n",
      "Ignoring unsupported parameter 'overwrite' for importer type <class 'fiftyone.utils.dicom.DICOMDatasetImporter'>\n",
      " 100% |███████████████████| 50/50 [2.6s elapsed, 0s remaining, 24.9 samples/s]      \n"
     ]
    },
    {
     "name": "stderr",
     "output_type": "stream",
     "text": [
      " 13%|█▎        | 149/1128 [18:56<1:14:44,  4.58s/it]"
     ]
    },
    {
     "name": "stdout",
     "output_type": "stream",
     "text": [
      "No `images_dir` provided. Images will be unpacked to '/opt/project/data/TCGA-BH-A0E1/11-04-2002-NA-BREAST MRI-66574/105.000000-CAD sub 1-47694'\n",
      "Ignoring unsupported parameter 'overwrite' for importer type <class 'fiftyone.utils.dicom.DICOMDatasetImporter'>\n",
      " 100% |███████████████████| 80/80 [3.7s elapsed, 0s remaining, 28.3 samples/s]      \n"
     ]
    },
    {
     "name": "stderr",
     "output_type": "stream",
     "text": [
      " 13%|█▎        | 150/1128 [19:00<1:13:11,  4.49s/it]"
     ]
    },
    {
     "name": "stdout",
     "output_type": "stream",
     "text": [
      "No `images_dir` provided. Images will be unpacked to '/opt/project/data/TCGA-AR-A1AX/09-12-2002-NA-MRI BREAST BILATERAL-55235/1.000000-SCOUT-43055'\n",
      "Ignoring unsupported parameter 'overwrite' for importer type <class 'fiftyone.utils.dicom.DICOMDatasetImporter'>\n",
      " 100% |███████████████████| 45/45 [2.4s elapsed, 0s remaining, 29.4 samples/s]      \n"
     ]
    },
    {
     "name": "stderr",
     "output_type": "stream",
     "text": [
      " 13%|█▎        | 151/1128 [19:03<1:05:39,  4.03s/it]"
     ]
    },
    {
     "name": "stdout",
     "output_type": "stream",
     "text": [
      "No `images_dir` provided. Images will be unpacked to '/opt/project/data/TCGA-BH-A0B6/10-18-1999-NA-BREAST MRI-60819/4.000000-Sag Vibrant Pre-02398'\n",
      "Ignoring unsupported parameter 'overwrite' for importer type <class 'fiftyone.utils.dicom.DICOMDatasetImporter'>\n",
      " 100% |█████████████████| 168/168 [7.3s elapsed, 0s remaining, 29.6 samples/s]      \n"
     ]
    },
    {
     "name": "stderr",
     "output_type": "stream",
     "text": [
      " 13%|█▎        | 152/1128 [19:12<1:26:04,  5.29s/it]"
     ]
    },
    {
     "name": "stdout",
     "output_type": "stream",
     "text": [
      "No `images_dir` provided. Images will be unpacked to '/opt/project/data/TCGA-BH-A0DX/11-21-2000-NA-BREAST MRI-01298/201.000000-CAD SAG REF-54708'\n",
      "Ignoring unsupported parameter 'overwrite' for importer type <class 'fiftyone.utils.dicom.DICOMDatasetImporter'>\n",
      " 100% |█████████████████| 107/107 [4.0s elapsed, 0s remaining, 32.4 samples/s]      \n"
     ]
    },
    {
     "name": "stderr",
     "output_type": "stream",
     "text": [
      " 14%|█▎        | 153/1128 [19:16<1:22:19,  5.07s/it]"
     ]
    },
    {
     "name": "stdout",
     "output_type": "stream",
     "text": [
      "No `images_dir` provided. Images will be unpacked to '/opt/project/data/TCGA-BH-A0HA/11-17-2001-NA-BREAST MRI-26938/3.000000-AX STIR -Water Sat-77180'\n",
      "Ignoring unsupported parameter 'overwrite' for importer type <class 'fiftyone.utils.dicom.DICOMDatasetImporter'>\n",
      " 100% |███████████████████| 43/43 [1.9s elapsed, 0s remaining, 22.6 samples/s]      \n"
     ]
    },
    {
     "name": "stderr",
     "output_type": "stream",
     "text": [
      " 14%|█▎        | 154/1128 [19:18<1:08:30,  4.22s/it]"
     ]
    },
    {
     "name": "stdout",
     "output_type": "stream",
     "text": [
      "No `images_dir` provided. Images will be unpacked to '/opt/project/data/TCGA-BH-A0H7/03-26-2002-NA-BREAST MRI-96862/202.000000-CAD cor reformat-35267'\n",
      "Ignoring unsupported parameter 'overwrite' for importer type <class 'fiftyone.utils.dicom.DICOMDatasetImporter'>\n",
      " 100% |█████████████████| 150/150 [4.3s elapsed, 0s remaining, 39.2 samples/s]      \n"
     ]
    },
    {
     "name": "stderr",
     "output_type": "stream",
     "text": [
      " 14%|█▎        | 155/1128 [19:23<1:12:31,  4.47s/it]"
     ]
    },
    {
     "name": "stdout",
     "output_type": "stream",
     "text": [
      "No `images_dir` provided. Images will be unpacked to '/opt/project/data/TCGA-BH-A0BT/06-01-2000-NA-BREAST MRI-32173/102.000000-CAD REG CAD Sub 3-08807'\n",
      "Ignoring unsupported parameter 'overwrite' for importer type <class 'fiftyone.utils.dicom.DICOMDatasetImporter'>\n",
      " 100% |███████████████████| 80/80 [3.2s elapsed, 0s remaining, 32.6 samples/s]      \n"
     ]
    },
    {
     "name": "stderr",
     "output_type": "stream",
     "text": [
      " 14%|█▍        | 156/1128 [19:27<1:09:27,  4.29s/it]"
     ]
    },
    {
     "name": "stdout",
     "output_type": "stream",
     "text": [
      "No `images_dir` provided. Images will be unpacked to '/opt/project/data/TCGA-AO-A12E/02-01-2000-NA-NA-34890/118.000000-PJN-98911'\n",
      "Ignoring unsupported parameter 'overwrite' for importer type <class 'fiftyone.utils.dicom.DICOMDatasetImporter'>\n",
      " 100% |███████████████████| 13/13 [859.2ms elapsed, 0s remaining, 15.2 samples/s]      \n"
     ]
    },
    {
     "name": "stderr",
     "output_type": "stream",
     "text": [
      " 14%|█▍        | 157/1128 [19:28<53:47,  3.32s/it]  "
     ]
    },
    {
     "name": "stdout",
     "output_type": "stream",
     "text": [
      "No `images_dir` provided. Images will be unpacked to '/opt/project/data/TCGA-E2-A150/01-11-2002-NA-MR BREAST BILATERAL WWO CONT-28816/5.000000-ASSET CALIBRATION-66721'\n",
      "Ignoring unsupported parameter 'overwrite' for importer type <class 'fiftyone.utils.dicom.DICOMDatasetImporter'>\n",
      " 100% |███████████████████| 80/80 [2.9s elapsed, 0s remaining, 35.8 samples/s]      \n"
     ]
    },
    {
     "name": "stderr",
     "output_type": "stream",
     "text": [
      " 14%|█▍        | 158/1128 [19:32<53:48,  3.33s/it]"
     ]
    },
    {
     "name": "stdout",
     "output_type": "stream",
     "text": [
      "No `images_dir` provided. Images will be unpacked to '/opt/project/data/TCGA-BH-A0DH/01-09-2001-NA-BREAST MRI-58184/101.000000-CAD REG CAD Sub 2-14097'\n",
      "Ignoring unsupported parameter 'overwrite' for importer type <class 'fiftyone.utils.dicom.DICOMDatasetImporter'>\n",
      " 100% |███████████████████| 96/96 [3.8s elapsed, 0s remaining, 30.7 samples/s]      \n"
     ]
    },
    {
     "name": "stderr",
     "output_type": "stream",
     "text": [
      " 14%|█▍        | 159/1128 [19:36<58:37,  3.63s/it]"
     ]
    },
    {
     "name": "stdout",
     "output_type": "stream",
     "text": [
      "No `images_dir` provided. Images will be unpacked to '/opt/project/data/TCGA-E2-A15L/07-18-2002-NA-MR BREAST BILATERAL WWO CONT-99306/7.000000-SAG 3D POST-CONTRAST-59293'\n",
      "Ignoring unsupported parameter 'overwrite' for importer type <class 'fiftyone.utils.dicom.DICOMDatasetImporter'>\n",
      " 100% |█████████████████| 480/480 [16.7s elapsed, 0s remaining, 28.2 samples/s]      \n"
     ]
    },
    {
     "name": "stderr",
     "output_type": "stream",
     "text": [
      " 14%|█▍        | 160/1128 [19:54<2:10:23,  8.08s/it]"
     ]
    },
    {
     "name": "stdout",
     "output_type": "stream",
     "text": [
      "No `images_dir` provided. Images will be unpacked to '/opt/project/data/TCGA-E2-A150/01-11-2002-NA-MR BREAST BILATERAL WWO CONT-28816/2.000000-SAG T1 PRE-84150'\n",
      "Ignoring unsupported parameter 'overwrite' for importer type <class 'fiftyone.utils.dicom.DICOMDatasetImporter'>\n",
      " 100% |█████████████████| 109/109 [4.0s elapsed, 0s remaining, 30.8 samples/s]      \n"
     ]
    },
    {
     "name": "stderr",
     "output_type": "stream",
     "text": [
      " 14%|█▍        | 161/1128 [19:59<1:53:19,  7.03s/it]"
     ]
    },
    {
     "name": "stdout",
     "output_type": "stream",
     "text": [
      "No `images_dir` provided. Images will be unpacked to '/opt/project/data/TCGA-AO-A03V/08-10-2002-NA-NA-16391/109.000000-T1 Sagittal post fat sat-49392'\n",
      "Ignoring unsupported parameter 'overwrite' for importer type <class 'fiftyone.utils.dicom.DICOMDatasetImporter'>\n",
      " 100% |███████████████████| 40/40 [1.8s elapsed, 0s remaining, 21.8 samples/s]      \n"
     ]
    },
    {
     "name": "stderr",
     "output_type": "stream",
     "text": [
      " 14%|█▍        | 162/1128 [20:01<1:30:01,  5.59s/it]"
     ]
    },
    {
     "name": "stdout",
     "output_type": "stream",
     "text": [
      "No `images_dir` provided. Images will be unpacked to '/opt/project/data/TCGA-BH-A0DX/11-21-2000-NA-BREAST MRI-01298/102.000000-CAD REG CAD Sub 3-76199'\n",
      "Ignoring unsupported parameter 'overwrite' for importer type <class 'fiftyone.utils.dicom.DICOMDatasetImporter'>\n",
      " 100% |███████████████████| 82/82 [3.4s elapsed, 0s remaining, 30.2 samples/s]      \n"
     ]
    },
    {
     "name": "stderr",
     "output_type": "stream",
     "text": [
      " 14%|█▍        | 163/1128 [20:05<1:21:37,  5.08s/it]"
     ]
    },
    {
     "name": "stdout",
     "output_type": "stream",
     "text": [
      "No `images_dir` provided. Images will be unpacked to '/opt/project/data/TCGA-AO-A12E/02-01-2000-NA-NA-34890/119.000000-PJN-27988'\n",
      "Ignoring unsupported parameter 'overwrite' for importer type <class 'fiftyone.utils.dicom.DICOMDatasetImporter'>\n",
      " 100% |███████████████████| 13/13 [967.2ms elapsed, 0s remaining, 13.5 samples/s]      \n"
     ]
    },
    {
     "name": "stderr",
     "output_type": "stream",
     "text": [
      " 15%|█▍        | 164/1128 [20:06<1:02:57,  3.92s/it]"
     ]
    },
    {
     "name": "stdout",
     "output_type": "stream",
     "text": [
      "No `images_dir` provided. Images will be unpacked to '/opt/project/data/TCGA-BH-A0DV/11-29-2000-NA-BREAST MRI-88132/4.000000-Sag Vibrant Pre-01374'\n",
      "Ignoring unsupported parameter 'overwrite' for importer type <class 'fiftyone.utils.dicom.DICOMDatasetImporter'>\n",
      " 100% |█████████████████| 152/152 [5.5s elapsed, 0s remaining, 28.9 samples/s]      \n"
     ]
    },
    {
     "name": "stderr",
     "output_type": "stream",
     "text": [
      " 15%|█▍        | 165/1128 [20:13<1:14:22,  4.63s/it]"
     ]
    },
    {
     "name": "stdout",
     "output_type": "stream",
     "text": [
      "No `images_dir` provided. Images will be unpacked to '/opt/project/data/TCGA-BH-A0H7/03-26-2002-NA-BREAST MRI-96862/103.000000-CAD sub 3-09976'\n",
      "Ignoring unsupported parameter 'overwrite' for importer type <class 'fiftyone.utils.dicom.DICOMDatasetImporter'>\n",
      " 100% |███████████████████| 58/58 [2.7s elapsed, 0s remaining, 28.1 samples/s]      \n"
     ]
    },
    {
     "name": "stderr",
     "output_type": "stream",
     "text": [
      " 15%|█▍        | 166/1128 [20:16<1:06:51,  4.17s/it]"
     ]
    },
    {
     "name": "stdout",
     "output_type": "stream",
     "text": [
      "No `images_dir` provided. Images will be unpacked to '/opt/project/data/TCGA-BH-A0DX/11-21-2000-NA-BREAST MRI-01298/6.000000-Sag Vibrant C-92179'\n",
      "Ignoring unsupported parameter 'overwrite' for importer type <class 'fiftyone.utils.dicom.DICOMDatasetImporter'>\n",
      " 100% |█████████████████| 152/152 [5.2s elapsed, 0s remaining, 33.6 samples/s]      \n"
     ]
    },
    {
     "name": "stderr",
     "output_type": "stream",
     "text": [
      " 15%|█▍        | 167/1128 [20:22<1:15:32,  4.72s/it]"
     ]
    },
    {
     "name": "stdout",
     "output_type": "stream",
     "text": [
      "No `images_dir` provided. Images will be unpacked to '/opt/project/data/TCGA-BH-A0W5/07-25-2001-NA-MRI BREAST-10788/4.000000-Ax Vibrant MULTIPHASE-54650'\n",
      "Ignoring unsupported parameter 'overwrite' for importer type <class 'fiftyone.utils.dicom.DICOMDatasetImporter'>\n",
      " 100% |█████████████████| 410/410 [13.3s elapsed, 0s remaining, 31.2 samples/s]      \n"
     ]
    },
    {
     "name": "stderr",
     "output_type": "stream",
     "text": [
      " 15%|█▍        | 168/1128 [20:37<2:03:59,  7.75s/it]"
     ]
    },
    {
     "name": "stdout",
     "output_type": "stream",
     "text": [
      "No `images_dir` provided. Images will be unpacked to '/opt/project/data/TCGA-BH-A18F/12-22-2003-NA-BREAST MRI-50626/105.000000-CAD sub 1-30079'\n",
      "Ignoring unsupported parameter 'overwrite' for importer type <class 'fiftyone.utils.dicom.DICOMDatasetImporter'>\n",
      " 100% |███████████████████| 88/88 [3.1s elapsed, 0s remaining, 37.9 samples/s]      \n"
     ]
    },
    {
     "name": "stderr",
     "output_type": "stream",
     "text": [
      " 15%|█▍        | 169/1128 [20:40<1:43:59,  6.51s/it]"
     ]
    },
    {
     "name": "stdout",
     "output_type": "stream",
     "text": [
      "No `images_dir` provided. Images will be unpacked to '/opt/project/data/TCGA-BH-A0DG/12-05-2000-NA-BREAST MRI-74580/5.000000-Ax Vibrant MULTIPHASE-08588'\n",
      "Ignoring unsupported parameter 'overwrite' for importer type <class 'fiftyone.utils.dicom.DICOMDatasetImporter'>\n",
      " 100% |█████████████████| 360/360 [14.0s elapsed, 0s remaining, 27.8 samples/s]      \n"
     ]
    },
    {
     "name": "stderr",
     "output_type": "stream",
     "text": [
      " 15%|█▌        | 170/1128 [20:56<2:27:52,  9.26s/it]"
     ]
    },
    {
     "name": "stdout",
     "output_type": "stream",
     "text": [
      "No `images_dir` provided. Images will be unpacked to '/opt/project/data/TCGA-BH-A0BM/09-03-2000-NA-BREAST MRI-42240/103.000000-CAD REG CAD Sub 4-33569'\n",
      "Ignoring unsupported parameter 'overwrite' for importer type <class 'fiftyone.utils.dicom.DICOMDatasetImporter'>\n",
      " 100% |███████████████████| 76/76 [3.4s elapsed, 0s remaining, 27.8 samples/s]      \n"
     ]
    },
    {
     "name": "stderr",
     "output_type": "stream",
     "text": [
      " 15%|█▌        | 171/1128 [21:00<2:02:22,  7.67s/it]"
     ]
    },
    {
     "name": "stdout",
     "output_type": "stream",
     "text": [
      "No `images_dir` provided. Images will be unpacked to '/opt/project/data/TCGA-BH-A0E9/12-07-1999-NA-BREAST MRI-15168/103.000000-CAD REG CAD Sub 4-44184'\n",
      "Ignoring unsupported parameter 'overwrite' for importer type <class 'fiftyone.utils.dicom.DICOMDatasetImporter'>\n",
      " 100% |███████████████████| 76/76 [3.3s elapsed, 0s remaining, 29.8 samples/s]      \n"
     ]
    },
    {
     "name": "stderr",
     "output_type": "stream",
     "text": [
      " 15%|█▌        | 172/1128 [21:04<1:43:24,  6.49s/it]"
     ]
    },
    {
     "name": "stdout",
     "output_type": "stream",
     "text": [
      "No `images_dir` provided. Images will be unpacked to '/opt/project/data/TCGA-BH-A0DX/11-21-2000-NA-BREAST MRI-01298/101.000000-CAD REG CAD Sub 2-00539'\n",
      "Ignoring unsupported parameter 'overwrite' for importer type <class 'fiftyone.utils.dicom.DICOMDatasetImporter'>\n",
      " 100% |███████████████████| 82/82 [3.3s elapsed, 0s remaining, 31.2 samples/s]      \n"
     ]
    },
    {
     "name": "stderr",
     "output_type": "stream",
     "text": [
      " 15%|█▌        | 173/1128 [21:07<1:30:21,  5.68s/it]"
     ]
    },
    {
     "name": "stdout",
     "output_type": "stream",
     "text": [
      "No `images_dir` provided. Images will be unpacked to '/opt/project/data/TCGA-E2-A1IJ/08-02-2001-NA-MR BREAST BILATERAL WWO CONT-31159/1.000000-3-PLANE LOCALIZER-31827'\n",
      "Ignoring unsupported parameter 'overwrite' for importer type <class 'fiftyone.utils.dicom.DICOMDatasetImporter'>\n",
      " 100% |███████████████████| 45/45 [2.2s elapsed, 0s remaining, 29.3 samples/s]      \n"
     ]
    },
    {
     "name": "stderr",
     "output_type": "stream",
     "text": [
      " 15%|█▌        | 174/1128 [21:10<1:15:20,  4.74s/it]"
     ]
    },
    {
     "name": "stdout",
     "output_type": "stream",
     "text": [
      "No `images_dir` provided. Images will be unpacked to '/opt/project/data/TCGA-AO-A12D/09-23-1999-NA-NA-51146/100.000000-NA-42837'\n",
      "Ignoring unsupported parameter 'overwrite' for importer type <class 'fiftyone.utils.dicom.DICOMDatasetImporter'>\n",
      " 100% |███████████████████| 53/53 [2.0s elapsed, 0s remaining, 26.7 samples/s]      \n"
     ]
    },
    {
     "name": "stderr",
     "output_type": "stream",
     "text": [
      " 16%|█▌        | 175/1128 [21:12<1:04:01,  4.03s/it]"
     ]
    },
    {
     "name": "stdout",
     "output_type": "stream",
     "text": [
      "No `images_dir` provided. Images will be unpacked to '/opt/project/data/TCGA-BH-A0DX/11-25-2000-NA-BIOPSY-11698/7.000000-Ax Vibrant C-93595'\n",
      "Ignoring unsupported parameter 'overwrite' for importer type <class 'fiftyone.utils.dicom.DICOMDatasetImporter'>\n",
      " 100% |███████████████████| 78/78 [3.4s elapsed, 0s remaining, 29.0 samples/s]      \n"
     ]
    },
    {
     "name": "stderr",
     "output_type": "stream",
     "text": [
      " 16%|█▌        | 176/1128 [21:16<1:03:18,  3.99s/it]"
     ]
    },
    {
     "name": "stdout",
     "output_type": "stream",
     "text": [
      "No `images_dir` provided. Images will be unpacked to '/opt/project/data/TCGA-E2-A1IG/09-01-2001-NA-MR BREAST BILATERAL WWO CONT-98834/5.000000-ASSET CALIBRATION-15209'\n",
      "Ignoring unsupported parameter 'overwrite' for importer type <class 'fiftyone.utils.dicom.DICOMDatasetImporter'>\n",
      " 100% |███████████████████| 74/74 [3.0s elapsed, 0s remaining, 32.7 samples/s]      \n"
     ]
    },
    {
     "name": "stderr",
     "output_type": "stream",
     "text": [
      " 16%|█▌        | 177/1128 [21:20<1:01:01,  3.85s/it]"
     ]
    },
    {
     "name": "stdout",
     "output_type": "stream",
     "text": [
      "No `images_dir` provided. Images will be unpacked to '/opt/project/data/TCGA-E2-A15A/03-06-2002-NA-MR BREAST BILATERAL WWO CONT-46241/3.000000-SAG T2 FAT-SAT LEFT-59153'\n",
      "Ignoring unsupported parameter 'overwrite' for importer type <class 'fiftyone.utils.dicom.DICOMDatasetImporter'>\n",
      " 100% |███████████████████| 45/45 [2.3s elapsed, 0s remaining, 28.3 samples/s]      \n"
     ]
    },
    {
     "name": "stderr",
     "output_type": "stream",
     "text": [
      " 16%|█▌        | 178/1128 [21:22<55:08,  3.48s/it]  "
     ]
    },
    {
     "name": "stdout",
     "output_type": "stream",
     "text": [
      "No `images_dir` provided. Images will be unpacked to '/opt/project/data/TCGA-BH-A18F/12-22-2003-NA-BREAST MRI-50626/3.000000-AX STIR-WaterSat-24934'\n",
      "Ignoring unsupported parameter 'overwrite' for importer type <class 'fiftyone.utils.dicom.DICOMDatasetImporter'>\n",
      " 100% |███████████████████| 44/44 [2.1s elapsed, 0s remaining, 20.7 samples/s]      \n"
     ]
    },
    {
     "name": "stderr",
     "output_type": "stream",
     "text": [
      " 16%|█▌        | 179/1128 [21:25<50:22,  3.18s/it]"
     ]
    },
    {
     "name": "stdout",
     "output_type": "stream",
     "text": [
      "No `images_dir` provided. Images will be unpacked to '/opt/project/data/TCGA-BH-A201/05-11-2004-NA-BREAST MRI-49157/200.000000-CAD sag reformat-51303'\n",
      "Ignoring unsupported parameter 'overwrite' for importer type <class 'fiftyone.utils.dicom.DICOMDatasetImporter'>\n",
      " 100% |█████████████████| 145/145 [4.6s elapsed, 0s remaining, 35.9 samples/s]      \n"
     ]
    },
    {
     "name": "stderr",
     "output_type": "stream",
     "text": [
      " 16%|█▌        | 180/1128 [21:31<1:04:18,  4.07s/it]"
     ]
    },
    {
     "name": "stdout",
     "output_type": "stream",
     "text": [
      "No `images_dir` provided. Images will be unpacked to '/opt/project/data/TCGA-E2-A1L9/05-03-2002-NA-MR BREAST BILATERAL WWO CONT-62542/1.000000-3-PLANE LOCALIZER-73851'\n",
      "Ignoring unsupported parameter 'overwrite' for importer type <class 'fiftyone.utils.dicom.DICOMDatasetImporter'>\n",
      " 100% |███████████████████| 45/45 [2.2s elapsed, 0s remaining, 29.4 samples/s]      \n"
     ]
    },
    {
     "name": "stderr",
     "output_type": "stream",
     "text": [
      " 16%|█▌        | 181/1128 [21:33<56:55,  3.61s/it]  "
     ]
    },
    {
     "name": "stdout",
     "output_type": "stream",
     "text": [
      "No `images_dir` provided. Images will be unpacked to '/opt/project/data/TCGA-AO-A12E/02-01-2000-NA-NA-34890/116.000000-PJN-07887'\n",
      "Ignoring unsupported parameter 'overwrite' for importer type <class 'fiftyone.utils.dicom.DICOMDatasetImporter'>\n",
      " 100% |███████████████████| 13/13 [931.0ms elapsed, 0s remaining, 14.0 samples/s]      \n"
     ]
    },
    {
     "name": "stderr",
     "output_type": "stream",
     "text": [
      " 16%|█▌        | 182/1128 [21:35<45:25,  2.88s/it]"
     ]
    },
    {
     "name": "stdout",
     "output_type": "stream",
     "text": [
      "No `images_dir` provided. Images will be unpacked to '/opt/project/data/TCGA-BH-A0DH/01-09-2001-NA-BREAST MRI-58184/5.000000-Ax Vibrant MULTIPHASE-16083'\n",
      "Ignoring unsupported parameter 'overwrite' for importer type <class 'fiftyone.utils.dicom.DICOMDatasetImporter'>\n",
      " 100% |█████████████████| 480/480 [18.6s elapsed, 0s remaining, 25.4 samples/s]      \n"
     ]
    },
    {
     "name": "stderr",
     "output_type": "stream",
     "text": [
      " 16%|█▌        | 183/1128 [21:55<2:09:39,  8.23s/it]"
     ]
    },
    {
     "name": "stdout",
     "output_type": "stream",
     "text": [
      "No `images_dir` provided. Images will be unpacked to '/opt/project/data/TCGA-BH-A0H6/02-03-2002-NA-MRI BREAST-85463/103.000000-CAD sub 3-62401'\n",
      "Ignoring unsupported parameter 'overwrite' for importer type <class 'fiftyone.utils.dicom.DICOMDatasetImporter'>\n",
      " 100% |███████████████████| 68/68 [3.1s elapsed, 0s remaining, 28.2 samples/s]      \n"
     ]
    },
    {
     "name": "stderr",
     "output_type": "stream",
     "text": [
      " 16%|█▋        | 184/1128 [21:59<1:47:41,  6.84s/it]"
     ]
    },
    {
     "name": "stdout",
     "output_type": "stream",
     "text": [
      "No `images_dir` provided. Images will be unpacked to '/opt/project/data/TCGA-AO-A12F/10-16-2000-NA-NA-19596/108.000000-Bind56477209..260-20353'\n",
      "Ignoring unsupported parameter 'overwrite' for importer type <class 'fiftyone.utils.dicom.DICOMDatasetImporter'>\n",
      " 100% |███████████████████| 52/52 [2.2s elapsed, 0s remaining, 33.2 samples/s]      \n"
     ]
    },
    {
     "name": "stderr",
     "output_type": "stream",
     "text": [
      " 16%|█▋        | 185/1128 [22:02<1:28:02,  5.60s/it]"
     ]
    },
    {
     "name": "stdout",
     "output_type": "stream",
     "text": [
      "No `images_dir` provided. Images will be unpacked to '/opt/project/data/TCGA-E2-A15J/06-20-2002-NA-MR BREAST BILATERAL WWO CONT-27666/6.000000-SAG 3D PRE-CONTRAST-97144'\n",
      "Ignoring unsupported parameter 'overwrite' for importer type <class 'fiftyone.utils.dicom.DICOMDatasetImporter'>\n",
      " 100% |█████████████████| 128/128 [5.6s elapsed, 0s remaining, 26.5 samples/s]      \n"
     ]
    },
    {
     "name": "stderr",
     "output_type": "stream",
     "text": [
      " 16%|█▋        | 186/1128 [22:08<1:31:55,  5.85s/it]"
     ]
    },
    {
     "name": "stdout",
     "output_type": "stream",
     "text": [
      "No `images_dir` provided. Images will be unpacked to '/opt/project/data/TCGA-E2-A1LG/11-06-2002-NA-MR BREAST BILATERAL WWO CONT-85265/3.000000-3-PLANE LOCALIZER-74943'\n",
      "Ignoring unsupported parameter 'overwrite' for importer type <class 'fiftyone.utils.dicom.DICOMDatasetImporter'>\n",
      " 100% |█████████████████| 136/136 [5.9s elapsed, 0s remaining, 26.8 samples/s]      \n"
     ]
    },
    {
     "name": "stderr",
     "output_type": "stream",
     "text": [
      " 17%|█▋        | 187/1128 [22:15<1:35:30,  6.09s/it]"
     ]
    },
    {
     "name": "stdout",
     "output_type": "stream",
     "text": [
      "No `images_dir` provided. Images will be unpacked to '/opt/project/data/TCGA-BH-A0DG/12-05-2000-NA-BREAST MRI-74580/3.000000-AX STIR-WaterSat-33636'\n",
      "Ignoring unsupported parameter 'overwrite' for importer type <class 'fiftyone.utils.dicom.DICOMDatasetImporter'>\n",
      " 100% |███████████████████| 35/35 [2.2s elapsed, 0s remaining, 22.2 samples/s]      \n"
     ]
    },
    {
     "name": "stderr",
     "output_type": "stream",
     "text": [
      " 17%|█▋        | 188/1128 [22:17<1:18:53,  5.04s/it]"
     ]
    },
    {
     "name": "stdout",
     "output_type": "stream",
     "text": [
      "No `images_dir` provided. Images will be unpacked to '/opt/project/data/TCGA-BH-A0DK/01-01-2003-NA-BIOPSY-76460/4.000000-Ax Vibrant C-92209'\n",
      "Ignoring unsupported parameter 'overwrite' for importer type <class 'fiftyone.utils.dicom.DICOMDatasetImporter'>\n",
      " 100% |█████████████████| 210/210 [9.4s elapsed, 0s remaining, 18.9 samples/s]      \n"
     ]
    },
    {
     "name": "stderr",
     "output_type": "stream",
     "text": [
      " 17%|█▋        | 189/1128 [22:28<1:44:52,  6.70s/it]"
     ]
    },
    {
     "name": "stdout",
     "output_type": "stream",
     "text": [
      "No `images_dir` provided. Images will be unpacked to '/opt/project/data/TCGA-BH-A0GY/08-27-2001-NA-MRI BREAST-03978/101.000000-CAD sub 4-80779'\n",
      "Ignoring unsupported parameter 'overwrite' for importer type <class 'fiftyone.utils.dicom.DICOMDatasetImporter'>\n",
      " 100% |█████████████████| 106/106 [4.7s elapsed, 0s remaining, 26.8 samples/s]      \n"
     ]
    },
    {
     "name": "stderr",
     "output_type": "stream",
     "text": [
      " 17%|█▋        | 190/1128 [22:33<1:38:31,  6.30s/it]"
     ]
    },
    {
     "name": "stdout",
     "output_type": "stream",
     "text": [
      "No `images_dir` provided. Images will be unpacked to '/opt/project/data/TCGA-BH-A0BQ/04-25-2000-NA-BREAST MRI-78053/100.000000-CAD REG CAD Sub 1-41162'\n",
      "Ignoring unsupported parameter 'overwrite' for importer type <class 'fiftyone.utils.dicom.DICOMDatasetImporter'>\n",
      " 100% |███████████████████| 72/72 [3.4s elapsed, 0s remaining, 26.6 samples/s]      \n"
     ]
    },
    {
     "name": "stderr",
     "output_type": "stream",
     "text": [
      " 17%|█▋        | 191/1128 [22:37<1:27:36,  5.61s/it]"
     ]
    },
    {
     "name": "stdout",
     "output_type": "stream",
     "text": [
      "No `images_dir` provided. Images will be unpacked to '/opt/project/data/TCGA-BH-A18I/01-28-2004-NA-BREAST MRI-54013/2.000000-Calibration Scan-19584'\n",
      "Ignoring unsupported parameter 'overwrite' for importer type <class 'fiftyone.utils.dicom.DICOMDatasetImporter'>\n",
      " 100% |███████████████████| 96/96 [3.4s elapsed, 0s remaining, 37.1 samples/s]      \n"
     ]
    },
    {
     "name": "stderr",
     "output_type": "stream",
     "text": [
      " 17%|█▋        | 192/1128 [22:41<1:20:05,  5.13s/it]"
     ]
    },
    {
     "name": "stdout",
     "output_type": "stream",
     "text": [
      "No `images_dir` provided. Images will be unpacked to '/opt/project/data/TCGA-AO-A0JM/09-15-1999-NA-NA-59814/103.000000-NA-19072'\n",
      "Ignoring unsupported parameter 'overwrite' for importer type <class 'fiftyone.utils.dicom.DICOMDatasetImporter'>\n",
      " 100% |███████████████████| 51/51 [2.3s elapsed, 0s remaining, 30.7 samples/s]      \n"
     ]
    },
    {
     "name": "stderr",
     "output_type": "stream",
     "text": [
      " 17%|█▋        | 193/1128 [22:44<1:09:06,  4.44s/it]"
     ]
    },
    {
     "name": "stdout",
     "output_type": "stream",
     "text": [
      "No `images_dir` provided. Images will be unpacked to '/opt/project/data/TCGA-BH-A0HI/03-14-2002-NA-BREAST MRI-85477/105.000000-CAD sub 1-99329'\n",
      "Ignoring unsupported parameter 'overwrite' for importer type <class 'fiftyone.utils.dicom.DICOMDatasetImporter'>\n",
      " 100% |███████████████████| 70/70 [3.2s elapsed, 0s remaining, 27.7 samples/s]      \n"
     ]
    },
    {
     "name": "stderr",
     "output_type": "stream",
     "text": [
      " 17%|█▋        | 194/1128 [22:48<1:05:37,  4.22s/it]"
     ]
    },
    {
     "name": "stdout",
     "output_type": "stream",
     "text": [
      "No `images_dir` provided. Images will be unpacked to '/opt/project/data/TCGA-BH-A0B6/10-18-1999-NA-BREAST MRI-60819/3.000000-AX STIR-WaterSat-62291'\n",
      "Ignoring unsupported parameter 'overwrite' for importer type <class 'fiftyone.utils.dicom.DICOMDatasetImporter'>\n",
      " 100% |███████████████████| 36/36 [2.2s elapsed, 0s remaining, 16.5 samples/s]      \n"
     ]
    },
    {
     "name": "stderr",
     "output_type": "stream",
     "text": [
      " 17%|█▋        | 195/1128 [22:50<57:51,  3.72s/it]  "
     ]
    },
    {
     "name": "stdout",
     "output_type": "stream",
     "text": [
      "No `images_dir` provided. Images will be unpacked to '/opt/project/data/TCGA-AO-A03V/08-10-2002-NA-NA-16391/8.000000-T1 Axial post fat sat-72104'\n",
      "Ignoring unsupported parameter 'overwrite' for importer type <class 'fiftyone.utils.dicom.DICOMDatasetImporter'>\n",
      " 100% |███████████████████| 66/66 [2.9s elapsed, 0s remaining, 31.3 samples/s]      \n"
     ]
    },
    {
     "name": "stderr",
     "output_type": "stream",
     "text": [
      " 17%|█▋        | 196/1128 [22:54<56:12,  3.62s/it]"
     ]
    },
    {
     "name": "stdout",
     "output_type": "stream",
     "text": [
      "No `images_dir` provided. Images will be unpacked to '/opt/project/data/TCGA-AO-A0JM/09-15-1999-NA-NA-59814/101.000000-NA-34972'\n",
      "Ignoring unsupported parameter 'overwrite' for importer type <class 'fiftyone.utils.dicom.DICOMDatasetImporter'>\n",
      " 100% |███████████████████| 51/51 [2.4s elapsed, 0s remaining, 30.3 samples/s]      \n"
     ]
    },
    {
     "name": "stderr",
     "output_type": "stream",
     "text": [
      " 17%|█▋        | 197/1128 [22:57<52:31,  3.38s/it]"
     ]
    },
    {
     "name": "stdout",
     "output_type": "stream",
     "text": [
      "No `images_dir` provided. Images will be unpacked to '/opt/project/data/TCGA-AO-A12D/09-23-1999-NA-NA-51146/2.000000-T2 left breast-97034'\n",
      "Ignoring unsupported parameter 'overwrite' for importer type <class 'fiftyone.utils.dicom.DICOMDatasetImporter'>\n",
      " 100% |███████████████████| 40/40 [1.9s elapsed, 0s remaining, 21.1 samples/s]      \n"
     ]
    },
    {
     "name": "stderr",
     "output_type": "stream",
     "text": [
      " 18%|█▊        | 198/1128 [22:59<47:22,  3.06s/it]"
     ]
    },
    {
     "name": "stdout",
     "output_type": "stream",
     "text": [
      "No `images_dir` provided. Images will be unpacked to '/opt/project/data/TCGA-AR-A1AX/09-12-2002-NA-MRI BREAST BILATERAL-55235/100.000000-297889-29781-20089'\n",
      "Ignoring unsupported parameter 'overwrite' for importer type <class 'fiftyone.utils.dicom.DICOMDatasetImporter'>\n",
      " 100% |███████████████████| 88/88 [3.7s elapsed, 0s remaining, 30.9 samples/s]      \n"
     ]
    },
    {
     "name": "stderr",
     "output_type": "stream",
     "text": [
      " 18%|█▊        | 199/1128 [23:03<53:18,  3.44s/it]"
     ]
    },
    {
     "name": "stdout",
     "output_type": "stream",
     "text": [
      "No `images_dir` provided. Images will be unpacked to '/opt/project/data/TCGA-BH-A0HI/03-14-2002-NA-BREAST MRI-85477/1.000000-3 plane loc-01192'\n",
      "Ignoring unsupported parameter 'overwrite' for importer type <class 'fiftyone.utils.dicom.DICOMDatasetImporter'>\n",
      " 100% |███████████████████| 29/29 [1.7s elapsed, 0s remaining, 16.8 samples/s]      \n"
     ]
    },
    {
     "name": "stderr",
     "output_type": "stream",
     "text": [
      " 18%|█▊        | 200/1128 [23:05<46:43,  3.02s/it]"
     ]
    },
    {
     "name": "stdout",
     "output_type": "stream",
     "text": [
      "No `images_dir` provided. Images will be unpacked to '/opt/project/data/TCGA-BH-A28Q/01-26-2004-NA-BREAST MRI-39143/5.000000-Sag Vibrant C-86274'\n",
      "Ignoring unsupported parameter 'overwrite' for importer type <class 'fiftyone.utils.dicom.DICOMDatasetImporter'>\n",
      " 100% |█████████████████| 128/128 [4.7s elapsed, 0s remaining, 32.0 samples/s]      \n"
     ]
    },
    {
     "name": "stderr",
     "output_type": "stream",
     "text": [
      " 18%|█▊        | 201/1128 [23:11<58:11,  3.77s/it]"
     ]
    },
    {
     "name": "stdout",
     "output_type": "stream",
     "text": [
      "No `images_dir` provided. Images will be unpacked to '/opt/project/data/TCGA-E2-A15H/06-09-2002-NA-MR BREAST BILATERAL WWO CONT-16052/3.000000-SAG T2 FAT-SAT LEFT-45219'\n",
      "Ignoring unsupported parameter 'overwrite' for importer type <class 'fiftyone.utils.dicom.DICOMDatasetImporter'>\n",
      " 100% |███████████████████| 42/42 [1.8s elapsed, 0s remaining, 23.4 samples/s]      \n"
     ]
    },
    {
     "name": "stderr",
     "output_type": "stream",
     "text": [
      " 18%|█▊        | 202/1128 [23:13<50:54,  3.30s/it]"
     ]
    },
    {
     "name": "stdout",
     "output_type": "stream",
     "text": [
      "No `images_dir` provided. Images will be unpacked to '/opt/project/data/TCGA-BH-A0E2/01-21-2003-NA-BREAST MRI-05355/2.000000-Calibration Scan-15357'\n",
      "Ignoring unsupported parameter 'overwrite' for importer type <class 'fiftyone.utils.dicom.DICOMDatasetImporter'>\n",
      " 100% |███████████████████| 50/50 [2.3s elapsed, 0s remaining, 31.2 samples/s]      \n"
     ]
    },
    {
     "name": "stderr",
     "output_type": "stream",
     "text": [
      " 18%|█▊        | 203/1128 [23:16<48:42,  3.16s/it]"
     ]
    },
    {
     "name": "stdout",
     "output_type": "stream",
     "text": [
      "No `images_dir` provided. Images will be unpacked to '/opt/project/data/TCGA-BH-A0H3/07-27-2001-NA-BREAST MRI-61560/102.000000-CAD sub 2-25692'\n",
      "Ignoring unsupported parameter 'overwrite' for importer type <class 'fiftyone.utils.dicom.DICOMDatasetImporter'>\n",
      " 100% |███████████████████| 92/92 [4.0s elapsed, 0s remaining, 28.6 samples/s]      \n"
     ]
    },
    {
     "name": "stderr",
     "output_type": "stream",
     "text": [
      " 18%|█▊        | 204/1128 [23:21<55:34,  3.61s/it]"
     ]
    },
    {
     "name": "stdout",
     "output_type": "stream",
     "text": [
      "No `images_dir` provided. Images will be unpacked to '/opt/project/data/TCGA-BH-A0EI/02-17-2002-NA-BREAST MRI-14232/2.000000-Calibration Scan-86801'\n",
      "Ignoring unsupported parameter 'overwrite' for importer type <class 'fiftyone.utils.dicom.DICOMDatasetImporter'>\n",
      " 100% |███████████████████| 92/92 [3.6s elapsed, 0s remaining, 32.0 samples/s]      \n"
     ]
    },
    {
     "name": "stderr",
     "output_type": "stream",
     "text": [
      " 18%|█▊        | 205/1128 [23:25<58:16,  3.79s/it]"
     ]
    },
    {
     "name": "stdout",
     "output_type": "stream",
     "text": [
      "No `images_dir` provided. Images will be unpacked to '/opt/project/data/TCGA-BH-A0H5/06-20-2001-NA-BREAST MRI-23793/2.000000-Calibration Scan-37700'\n",
      "Ignoring unsupported parameter 'overwrite' for importer type <class 'fiftyone.utils.dicom.DICOMDatasetImporter'>\n",
      " 100% |█████████████████| 110/110 [4.4s elapsed, 0s remaining, 28.3 samples/s]      \n"
     ]
    },
    {
     "name": "stderr",
     "output_type": "stream",
     "text": [
      " 18%|█▊        | 206/1128 [23:30<1:04:39,  4.21s/it]"
     ]
    },
    {
     "name": "stdout",
     "output_type": "stream",
     "text": [
      "No `images_dir` provided. Images will be unpacked to '/opt/project/data/TCGA-BH-A0BG/06-11-2001-NA-BREAST MRI-34066/5.000000-Sag Vibrant C-55115'\n",
      "Ignoring unsupported parameter 'overwrite' for importer type <class 'fiftyone.utils.dicom.DICOMDatasetImporter'>\n",
      " 100% |█████████████████| 156/156 [5.8s elapsed, 0s remaining, 31.0 samples/s]      \n"
     ]
    },
    {
     "name": "stderr",
     "output_type": "stream",
     "text": [
      " 18%|█▊        | 207/1128 [23:37<1:16:15,  4.97s/it]"
     ]
    },
    {
     "name": "stdout",
     "output_type": "stream",
     "text": [
      "No `images_dir` provided. Images will be unpacked to '/opt/project/data/TCGA-BH-A0W3/10-12-2003-NA-BREAST MRI-09153/102.000000-CAD sub 2-40417'\n",
      "Ignoring unsupported parameter 'overwrite' for importer type <class 'fiftyone.utils.dicom.DICOMDatasetImporter'>\n",
      " 100% |███████████████████| 94/94 [4.1s elapsed, 0s remaining, 28.2 samples/s]      \n"
     ]
    },
    {
     "name": "stderr",
     "output_type": "stream",
     "text": [
      " 18%|█▊        | 208/1128 [23:41<1:15:06,  4.90s/it]"
     ]
    },
    {
     "name": "stdout",
     "output_type": "stream",
     "text": [
      "No `images_dir` provided. Images will be unpacked to '/opt/project/data/TCGA-E2-A10F/02-21-2001-NA-MR BREAST BILATERAL WWO CONT-16473/5.000000-SAG T2 FAT-SAT RIGHT-51049'\n",
      "Ignoring unsupported parameter 'overwrite' for importer type <class 'fiftyone.utils.dicom.DICOMDatasetImporter'>\n",
      " 100% |███████████████████| 43/43 [1.8s elapsed, 0s remaining, 23.8 samples/s]      \n"
     ]
    },
    {
     "name": "stderr",
     "output_type": "stream",
     "text": [
      " 19%|█▊        | 209/1128 [23:44<1:02:26,  4.08s/it]"
     ]
    },
    {
     "name": "stdout",
     "output_type": "stream",
     "text": [
      "No `images_dir` provided. Images will be unpacked to '/opt/project/data/TCGA-BH-A0H3/07-27-2001-NA-BREAST MRI-61560/200.000000-CAD sag reformat-64201'\n",
      "Ignoring unsupported parameter 'overwrite' for importer type <class 'fiftyone.utils.dicom.DICOMDatasetImporter'>\n",
      " 100% |█████████████████| 150/150 [5.8s elapsed, 0s remaining, 29.0 samples/s]      \n"
     ]
    },
    {
     "name": "stderr",
     "output_type": "stream",
     "text": [
      " 19%|█▊        | 210/1128 [23:50<1:14:05,  4.84s/it]"
     ]
    },
    {
     "name": "stdout",
     "output_type": "stream",
     "text": [
      "No `images_dir` provided. Images will be unpacked to '/opt/project/data/TCGA-AO-A12D/09-23-1999-NA-NA-51146/108.000000-NA-45990'\n",
      "Ignoring unsupported parameter 'overwrite' for importer type <class 'fiftyone.utils.dicom.DICOMDatasetImporter'>\n",
      " 100% |███████████████████| 53/53 [2.0s elapsed, 0s remaining, 26.6 samples/s]      \n"
     ]
    },
    {
     "name": "stderr",
     "output_type": "stream",
     "text": [
      " 19%|█▊        | 211/1128 [23:53<1:03:13,  4.14s/it]"
     ]
    },
    {
     "name": "stdout",
     "output_type": "stream",
     "text": [
      "No `images_dir` provided. Images will be unpacked to '/opt/project/data/TCGA-BH-A0DG/12-05-2000-NA-BREAST MRI-74580/101.000000-CAD REG CAD Sub 2-47271'\n",
      "Ignoring unsupported parameter 'overwrite' for importer type <class 'fiftyone.utils.dicom.DICOMDatasetImporter'>\n",
      " 100% |███████████████████| 72/72 [3.4s elapsed, 0s remaining, 25.6 samples/s]      \n"
     ]
    },
    {
     "name": "stderr",
     "output_type": "stream",
     "text": [
      " 19%|█▉        | 212/1128 [23:57<1:02:12,  4.07s/it]"
     ]
    },
    {
     "name": "stdout",
     "output_type": "stream",
     "text": [
      "No `images_dir` provided. Images will be unpacked to '/opt/project/data/TCGA-BH-A0DK/12-22-2002-NA-BREAST MRI-01189/2000.000000-CAD MIP-89938'\n",
      "Ignoring unsupported parameter 'overwrite' for importer type <class 'fiftyone.utils.dicom.DICOMDatasetImporter'>\n",
      " 100% |███████████████████| 45/45 [2.6s elapsed, 0s remaining, 26.0 samples/s]      \n"
     ]
    },
    {
     "name": "stderr",
     "output_type": "stream",
     "text": [
      " 19%|█▉        | 213/1128 [24:00<57:19,  3.76s/it]  "
     ]
    },
    {
     "name": "stdout",
     "output_type": "stream",
     "text": [
      "No `images_dir` provided. Images will be unpacked to '/opt/project/data/TCGA-AO-A0JI/11-06-2001-NA-NA-80329/1.000000-Localization-12008'\n",
      "Ignoring unsupported parameter 'overwrite' for importer type <class 'fiftyone.utils.dicom.DICOMDatasetImporter'>\n",
      " 100% |███████████████████| 33/33 [1.9s elapsed, 0s remaining, 17.8 samples/s]      \n"
     ]
    },
    {
     "name": "stderr",
     "output_type": "stream",
     "text": [
      " 19%|█▉        | 214/1128 [24:02<50:34,  3.32s/it]"
     ]
    },
    {
     "name": "stdout",
     "output_type": "stream",
     "text": [
      "No `images_dir` provided. Images will be unpacked to '/opt/project/data/TCGA-BH-A0E0/04-06-2003-NA-BREAST MRI-53761/2.000000-Calibration Scan-48408'\n",
      "Ignoring unsupported parameter 'overwrite' for importer type <class 'fiftyone.utils.dicom.DICOMDatasetImporter'>\n",
      " 100% |███████████████████| 92/92 [3.8s elapsed, 0s remaining, 28.7 samples/s]      \n"
     ]
    },
    {
     "name": "stderr",
     "output_type": "stream",
     "text": [
      " 19%|█▉        | 215/1128 [24:06<56:10,  3.69s/it]"
     ]
    },
    {
     "name": "stdout",
     "output_type": "stream",
     "text": [
      "No `images_dir` provided. Images will be unpacked to '/opt/project/data/TCGA-AO-A0J9/05-11-2001-NA-NA-96851/119.000000-PJN-77931'\n",
      "Ignoring unsupported parameter 'overwrite' for importer type <class 'fiftyone.utils.dicom.DICOMDatasetImporter'>\n",
      " 100% |███████████████████| 13/13 [1.2s elapsed, 0s remaining, 11.2 samples/s]        \n"
     ]
    },
    {
     "name": "stderr",
     "output_type": "stream",
     "text": [
      " 19%|█▉        | 216/1128 [24:08<45:59,  3.03s/it]"
     ]
    },
    {
     "name": "stdout",
     "output_type": "stream",
     "text": [
      "No `images_dir` provided. Images will be unpacked to '/opt/project/data/TCGA-E2-A1IN/07-28-2002-NA-MR BREAST BILATERAL WWO CONT-40961/3.000000-SAG T2 FAT-SAT LEFT-68481'\n",
      "Ignoring unsupported parameter 'overwrite' for importer type <class 'fiftyone.utils.dicom.DICOMDatasetImporter'>\n",
      " 100% |███████████████████| 43/43 [2.4s elapsed, 0s remaining, 25.9 samples/s]      \n"
     ]
    },
    {
     "name": "stderr",
     "output_type": "stream",
     "text": [
      " 19%|█▉        | 217/1128 [24:11<44:32,  2.93s/it]"
     ]
    },
    {
     "name": "stdout",
     "output_type": "stream",
     "text": [
      "No `images_dir` provided. Images will be unpacked to '/opt/project/data/TCGA-E2-A108/10-13-2001-NA-MR BREAST BILATERAL WWO CONT-74709/3.000000-SAG T2 FAT-SAT LEFT-33452'\n",
      "Ignoring unsupported parameter 'overwrite' for importer type <class 'fiftyone.utils.dicom.DICOMDatasetImporter'>\n",
      " 100% |███████████████████| 46/46 [2.1s elapsed, 0s remaining, 22.3 samples/s]      \n"
     ]
    },
    {
     "name": "stderr",
     "output_type": "stream",
     "text": [
      " 19%|█▉        | 218/1128 [24:13<42:32,  2.80s/it]"
     ]
    },
    {
     "name": "stdout",
     "output_type": "stream",
     "text": [
      "No `images_dir` provided. Images will be unpacked to '/opt/project/data/TCGA-BH-A0HY/05-29-2002-NA-BREAST MRI-25536/101.000000-CAD sub 4-70918'\n",
      "Ignoring unsupported parameter 'overwrite' for importer type <class 'fiftyone.utils.dicom.DICOMDatasetImporter'>\n",
      " 100% |█████████████████| 106/106 [4.9s elapsed, 0s remaining, 26.8 samples/s]      \n"
     ]
    },
    {
     "name": "stderr",
     "output_type": "stream",
     "text": [
      " 19%|█▉        | 219/1128 [24:19<55:21,  3.65s/it]"
     ]
    },
    {
     "name": "stdout",
     "output_type": "stream",
     "text": [
      "No `images_dir` provided. Images will be unpacked to '/opt/project/data/TCGA-AR-A1AX/09-24-2003-NA-MRI BREAST BILATERAL-61364/300.000000-FATAx IDEAL-59327'\n",
      "Ignoring unsupported parameter 'overwrite' for importer type <class 'fiftyone.utils.dicom.DICOMDatasetImporter'>\n",
      " 100% |███████████████████| 40/40 [2.4s elapsed, 0s remaining, 25.3 samples/s]      \n"
     ]
    },
    {
     "name": "stderr",
     "output_type": "stream",
     "text": [
      " 20%|█▉        | 220/1128 [24:22<51:29,  3.40s/it]"
     ]
    },
    {
     "name": "stdout",
     "output_type": "stream",
     "text": [
      "No `images_dir` provided. Images will be unpacked to '/opt/project/data/TCGA-BH-A0BQ/04-25-2000-NA-BREAST MRI-78053/103.000000-CAD REG CAD Sub 4-31208'\n",
      "Ignoring unsupported parameter 'overwrite' for importer type <class 'fiftyone.utils.dicom.DICOMDatasetImporter'>\n",
      " 100% |███████████████████| 72/72 [3.4s elapsed, 0s remaining, 27.5 samples/s]      \n"
     ]
    },
    {
     "name": "stderr",
     "output_type": "stream",
     "text": [
      " 20%|█▉        | 221/1128 [24:26<53:37,  3.55s/it]"
     ]
    },
    {
     "name": "stdout",
     "output_type": "stream",
     "text": [
      "No `images_dir` provided. Images will be unpacked to '/opt/project/data/TCGA-E2-A15J/06-20-2002-NA-MR BREAST BILATERAL WWO CONT-27666/4.000000-SAG T2 FAT-SAT RIGHT-11144'\n",
      "Ignoring unsupported parameter 'overwrite' for importer type <class 'fiftyone.utils.dicom.DICOMDatasetImporter'>\n",
      " 100% |███████████████████| 46/46 [2.0s elapsed, 0s remaining, 23.0 samples/s]      \n"
     ]
    },
    {
     "name": "stderr",
     "output_type": "stream",
     "text": [
      " 20%|█▉        | 222/1128 [24:28<48:33,  3.22s/it]"
     ]
    },
    {
     "name": "stdout",
     "output_type": "stream",
     "text": [
      "No `images_dir` provided. Images will be unpacked to '/opt/project/data/TCGA-AO-A03M/03-15-2001-NA-NA-80891/106.000000-1125110450-1125110250-90297'\n",
      "Ignoring unsupported parameter 'overwrite' for importer type <class 'fiftyone.utils.dicom.DICOMDatasetImporter'>\n",
      " 100% |███████████████████| 50/50 [2.6s elapsed, 0s remaining, 27.8 samples/s]      \n"
     ]
    },
    {
     "name": "stderr",
     "output_type": "stream",
     "text": [
      " 20%|█▉        | 223/1128 [24:31<47:51,  3.17s/it]"
     ]
    },
    {
     "name": "stdout",
     "output_type": "stream",
     "text": [
      "No `images_dir` provided. Images will be unpacked to '/opt/project/data/TCGA-BH-A0BT/06-01-2000-NA-BREAST MRI-32173/100.000000-CAD REG CAD Sub 1-63681'\n",
      "Ignoring unsupported parameter 'overwrite' for importer type <class 'fiftyone.utils.dicom.DICOMDatasetImporter'>\n",
      " 100% |███████████████████| 80/80 [3.6s elapsed, 0s remaining, 28.7 samples/s]      \n"
     ]
    },
    {
     "name": "stderr",
     "output_type": "stream",
     "text": [
      " 20%|█▉        | 224/1128 [24:35<52:12,  3.47s/it]"
     ]
    },
    {
     "name": "stdout",
     "output_type": "stream",
     "text": [
      "No `images_dir` provided. Images will be unpacked to '/opt/project/data/TCGA-BH-A0DG/12-05-2000-NA-BREAST MRI-74580/4.000000-Sag Vibrant Pre-96072'\n",
      "Ignoring unsupported parameter 'overwrite' for importer type <class 'fiftyone.utils.dicom.DICOMDatasetImporter'>\n",
      " 100% |█████████████████| 152/152 [6.2s elapsed, 0s remaining, 30.3 samples/s]      \n"
     ]
    },
    {
     "name": "stderr",
     "output_type": "stream",
     "text": [
      " 20%|█▉        | 225/1128 [24:42<1:08:03,  4.52s/it]"
     ]
    },
    {
     "name": "stdout",
     "output_type": "stream",
     "text": [
      "No `images_dir` provided. Images will be unpacked to '/opt/project/data/TCGA-BH-A0HX/11-13-2001-NA-BIOPSY-21222/1.000000-3 plane loc-74220'\n",
      "Ignoring unsupported parameter 'overwrite' for importer type <class 'fiftyone.utils.dicom.DICOMDatasetImporter'>\n",
      " 100% |███████████████████| 29/29 [1.7s elapsed, 0s remaining, 16.8 samples/s]      \n"
     ]
    },
    {
     "name": "stderr",
     "output_type": "stream",
     "text": [
      " 20%|██        | 226/1128 [24:44<56:56,  3.79s/it]  "
     ]
    },
    {
     "name": "stdout",
     "output_type": "stream",
     "text": [
      "No `images_dir` provided. Images will be unpacked to '/opt/project/data/TCGA-E2-A15E/04-06-2002-NA-MR BREAST BILATERAL WWO CONT-26083/5.000000-SAG T2 FAT-SAT LEFT-75856'\n",
      "Ignoring unsupported parameter 'overwrite' for importer type <class 'fiftyone.utils.dicom.DICOMDatasetImporter'>\n",
      " 100% |███████████████████| 50/50 [2.0s elapsed, 0s remaining, 24.6 samples/s]      \n"
     ]
    },
    {
     "name": "stderr",
     "output_type": "stream",
     "text": [
      " 20%|██        | 227/1128 [24:47<50:36,  3.37s/it]"
     ]
    },
    {
     "name": "stdout",
     "output_type": "stream",
     "text": [
      "No `images_dir` provided. Images will be unpacked to '/opt/project/data/TCGA-BH-A0DX/11-21-2000-NA-BREAST MRI-01298/200.000000-CAD COR REF-44381'\n",
      "Ignoring unsupported parameter 'overwrite' for importer type <class 'fiftyone.utils.dicom.DICOMDatasetImporter'>\n",
      " 100% |█████████████████| 107/107 [4.3s elapsed, 0s remaining, 29.1 samples/s]      \n"
     ]
    },
    {
     "name": "stderr",
     "output_type": "stream",
     "text": [
      " 20%|██        | 228/1128 [24:52<59:56,  4.00s/it]"
     ]
    },
    {
     "name": "stdout",
     "output_type": "stream",
     "text": [
      "No `images_dir` provided. Images will be unpacked to '/opt/project/data/TCGA-BH-A0HX/11-05-2001-NA-BREAST MRI-23277/5.000000-Sag Vibrant C-63505'\n",
      "Ignoring unsupported parameter 'overwrite' for importer type <class 'fiftyone.utils.dicom.DICOMDatasetImporter'>\n",
      " 100% |█████████████████| 152/152 [5.8s elapsed, 0s remaining, 30.0 samples/s]      \n"
     ]
    },
    {
     "name": "stderr",
     "output_type": "stream",
     "text": [
      " 20%|██        | 229/1128 [25:00<1:15:53,  5.07s/it]"
     ]
    },
    {
     "name": "stdout",
     "output_type": "stream",
     "text": [
      "No `images_dir` provided. Images will be unpacked to '/opt/project/data/TCGA-BH-A0GY/08-27-2001-NA-MRI BREAST-03978/102.000000-CAD sub 2-12134'\n",
      "Ignoring unsupported parameter 'overwrite' for importer type <class 'fiftyone.utils.dicom.DICOMDatasetImporter'>\n",
      " 100% |█████████████████| 106/106 [4.3s elapsed, 0s remaining, 30.3 samples/s]      \n"
     ]
    },
    {
     "name": "stderr",
     "output_type": "stream",
     "text": [
      " 20%|██        | 230/1128 [25:05<1:15:27,  5.04s/it]"
     ]
    },
    {
     "name": "stdout",
     "output_type": "stream",
     "text": [
      "No `images_dir` provided. Images will be unpacked to '/opt/project/data/TCGA-E2-A1B1/12-21-1999-NA-MR BREAST BILATERAL WWO CONT-74167/1.000000-3-PLANE LOCALIZER-57414'\n",
      "Ignoring unsupported parameter 'overwrite' for importer type <class 'fiftyone.utils.dicom.DICOMDatasetImporter'>\n",
      " 100% |███████████████████| 27/27 [1.5s elapsed, 0s remaining, 18.6 samples/s]      \n"
     ]
    },
    {
     "name": "stderr",
     "output_type": "stream",
     "text": [
      " 20%|██        | 231/1128 [25:06<1:00:33,  4.05s/it]"
     ]
    },
    {
     "name": "stdout",
     "output_type": "stream",
     "text": [
      "No `images_dir` provided. Images will be unpacked to '/opt/project/data/TCGA-AO-A12F/10-16-2000-NA-NA-19596/111.000000-Bind56477365..416-09627'\n",
      "Ignoring unsupported parameter 'overwrite' for importer type <class 'fiftyone.utils.dicom.DICOMDatasetImporter'>\n",
      " 100% |███████████████████| 52/52 [2.4s elapsed, 0s remaining, 30.0 samples/s]      \n"
     ]
    },
    {
     "name": "stderr",
     "output_type": "stream",
     "text": [
      " 21%|██        | 232/1128 [25:09<55:42,  3.73s/it]  "
     ]
    },
    {
     "name": "stdout",
     "output_type": "stream",
     "text": [
      "No `images_dir` provided. Images will be unpacked to '/opt/project/data/TCGA-AR-A24S/12-11-1999-NA-MRI - BREAST-03194/11.000000-sag 3dpost-34984'\n",
      "Ignoring unsupported parameter 'overwrite' for importer type <class 'fiftyone.utils.dicom.DICOMDatasetImporter'>\n",
      " 100% |███████████████████| 24/24 [1.8s elapsed, 0s remaining, 13.5 samples/s]      \n"
     ]
    },
    {
     "name": "stderr",
     "output_type": "stream",
     "text": [
      " 21%|██        | 233/1128 [25:11<48:16,  3.24s/it]"
     ]
    },
    {
     "name": "stdout",
     "output_type": "stream",
     "text": [
      "No `images_dir` provided. Images will be unpacked to '/opt/project/data/TCGA-BH-A0DG/12-05-2000-NA-BREAST MRI-74580/6.000000-Sag Vibrant C-80348'\n",
      "Ignoring unsupported parameter 'overwrite' for importer type <class 'fiftyone.utils.dicom.DICOMDatasetImporter'>\n",
      " 100% |█████████████████| 152/152 [5.1s elapsed, 0s remaining, 34.9 samples/s]      \n"
     ]
    },
    {
     "name": "stderr",
     "output_type": "stream",
     "text": [
      " 21%|██        | 234/1128 [25:17<59:56,  4.02s/it]"
     ]
    },
    {
     "name": "stdout",
     "output_type": "stream",
     "text": [
      "No `images_dir` provided. Images will be unpacked to '/opt/project/data/TCGA-BH-A0DE/08-01-2000-NA-BREAST MRI-94390/200.000000-CAD COR REF-81151'\n",
      "Ignoring unsupported parameter 'overwrite' for importer type <class 'fiftyone.utils.dicom.DICOMDatasetImporter'>\n",
      " 100% |███████████████████| 97/97 [3.6s elapsed, 0s remaining, 32.1 samples/s]      \n"
     ]
    },
    {
     "name": "stderr",
     "output_type": "stream",
     "text": [
      " 21%|██        | 235/1128 [25:21<1:00:13,  4.05s/it]"
     ]
    },
    {
     "name": "stdout",
     "output_type": "stream",
     "text": [
      "No `images_dir` provided. Images will be unpacked to '/opt/project/data/TCGA-E2-A14Y/10-03-2001-NA-MR BREAST BILATERAL WWO CONT-22306/6.000000-ASSET CALIBRATION-16787'\n",
      "Ignoring unsupported parameter 'overwrite' for importer type <class 'fiftyone.utils.dicom.DICOMDatasetImporter'>\n",
      " 100% |███████████████████| 74/74 [2.5s elapsed, 0s remaining, 39.4 samples/s]      \n"
     ]
    },
    {
     "name": "stderr",
     "output_type": "stream",
     "text": [
      " 21%|██        | 236/1128 [25:24<55:23,  3.73s/it]  "
     ]
    },
    {
     "name": "stdout",
     "output_type": "stream",
     "text": [
      "No `images_dir` provided. Images will be unpacked to '/opt/project/data/TCGA-E2-A15E/04-06-2002-NA-MR BREAST BILATERAL WWO CONT-26083/2.000000-SAG T1 PRE-34062'\n",
      "Ignoring unsupported parameter 'overwrite' for importer type <class 'fiftyone.utils.dicom.DICOMDatasetImporter'>\n",
      " 100% |█████████████████| 100/100 [3.0s elapsed, 0s remaining, 41.6 samples/s]      \n"
     ]
    },
    {
     "name": "stderr",
     "output_type": "stream",
     "text": [
      " 21%|██        | 237/1128 [25:28<54:24,  3.66s/it]"
     ]
    },
    {
     "name": "stdout",
     "output_type": "stream",
     "text": [
      "No `images_dir` provided. Images will be unpacked to '/opt/project/data/TCGA-BH-A0EI/02-25-2002-NA-BIOPSY-25384/1.000000-3 plane loc-96973'\n",
      "Ignoring unsupported parameter 'overwrite' for importer type <class 'fiftyone.utils.dicom.DICOMDatasetImporter'>\n",
      " 100% |███████████████████| 29/29 [1.4s elapsed, 0s remaining, 21.3 samples/s]         \n"
     ]
    },
    {
     "name": "stderr",
     "output_type": "stream",
     "text": [
      " 21%|██        | 238/1128 [25:30<45:15,  3.05s/it]"
     ]
    },
    {
     "name": "stdout",
     "output_type": "stream",
     "text": [
      "No `images_dir` provided. Images will be unpacked to '/opt/project/data/TCGA-BH-A0H6/02-03-2002-NA-MRI BREAST-85463/4.000000-Ax Vibrant MULTIPHASE-55653'\n",
      "Ignoring unsupported parameter 'overwrite' for importer type <class 'fiftyone.utils.dicom.DICOMDatasetImporter'>\n",
      " 100% |█████████████████| 340/340 [10.8s elapsed, 0s remaining, 34.5 samples/s]      \n"
     ]
    },
    {
     "name": "stderr",
     "output_type": "stream",
     "text": [
      " 21%|██        | 239/1128 [25:42<1:25:26,  5.77s/it]"
     ]
    },
    {
     "name": "stdout",
     "output_type": "stream",
     "text": [
      "No `images_dir` provided. Images will be unpacked to '/opt/project/data/TCGA-BH-A0HY/05-29-2002-NA-BREAST MRI-25536/105.000000-CAD sub 1-44002'\n",
      "Ignoring unsupported parameter 'overwrite' for importer type <class 'fiftyone.utils.dicom.DICOMDatasetImporter'>\n",
      " 100% |█████████████████| 106/106 [3.4s elapsed, 0s remaining, 38.6 samples/s]      \n"
     ]
    },
    {
     "name": "stderr",
     "output_type": "stream",
     "text": [
      " 21%|██▏       | 240/1128 [25:45<1:16:35,  5.18s/it]"
     ]
    },
    {
     "name": "stdout",
     "output_type": "stream",
     "text": [
      "No `images_dir` provided. Images will be unpacked to '/opt/project/data/TCGA-BH-A0DZ/10-16-2002-NA-BREAST MRI-48146/2000.000000-CAD MIP-55785'\n",
      "Ignoring unsupported parameter 'overwrite' for importer type <class 'fiftyone.utils.dicom.DICOMDatasetImporter'>\n",
      " 100% |███████████████████| 45/45 [1.9s elapsed, 0s remaining, 23.4 samples/s]      \n"
     ]
    },
    {
     "name": "stderr",
     "output_type": "stream",
     "text": [
      " 21%|██▏       | 241/1128 [25:48<1:03:24,  4.29s/it]"
     ]
    },
    {
     "name": "stdout",
     "output_type": "stream",
     "text": [
      "No `images_dir` provided. Images will be unpacked to '/opt/project/data/TCGA-BH-A0EI/02-17-2002-NA-BREAST MRI-14232/105.000000-CAD sub 1-55540'\n",
      "Ignoring unsupported parameter 'overwrite' for importer type <class 'fiftyone.utils.dicom.DICOMDatasetImporter'>\n",
      " 100% |███████████████████| 80/80 [2.8s elapsed, 0s remaining, 36.5 samples/s]      \n"
     ]
    },
    {
     "name": "stderr",
     "output_type": "stream",
     "text": [
      " 21%|██▏       | 242/1128 [25:51<58:24,  3.96s/it]  "
     ]
    },
    {
     "name": "stdout",
     "output_type": "stream",
     "text": [
      "No `images_dir` provided. Images will be unpacked to '/opt/project/data/TCGA-E2-A1L7/12-29-2001-NA-MR BREAST BILATERAL WWO CONT-27861/3.000000-SAG T2 FAT-SAT LEFT-73431'\n",
      "Ignoring unsupported parameter 'overwrite' for importer type <class 'fiftyone.utils.dicom.DICOMDatasetImporter'>\n",
      " 100% |███████████████████| 52/52 [1.9s elapsed, 0s remaining, 27.9 samples/s]      \n"
     ]
    },
    {
     "name": "stderr",
     "output_type": "stream",
     "text": [
      " 22%|██▏       | 243/1128 [25:53<50:28,  3.42s/it]"
     ]
    },
    {
     "name": "stdout",
     "output_type": "stream",
     "text": [
      "No `images_dir` provided. Images will be unpacked to '/opt/project/data/TCGA-BH-A0DK/12-22-2002-NA-BREAST MRI-01189/3.000000-AX STIR-WaterSat-63150'\n",
      "Ignoring unsupported parameter 'overwrite' for importer type <class 'fiftyone.utils.dicom.DICOMDatasetImporter'>\n",
      " 100% |███████████████████| 50/50 [2.0s elapsed, 0s remaining, 25.5 samples/s]      \n"
     ]
    },
    {
     "name": "stderr",
     "output_type": "stream",
     "text": [
      " 22%|██▏       | 244/1128 [25:55<45:28,  3.09s/it]"
     ]
    },
    {
     "name": "stdout",
     "output_type": "stream",
     "text": [
      "No `images_dir` provided. Images will be unpacked to '/opt/project/data/TCGA-E2-A150/01-11-2002-NA-MR BREAST BILATERAL WWO CONT-28816/1.000000-3-PLANE LOCALIZER-95260'\n",
      "Ignoring unsupported parameter 'overwrite' for importer type <class 'fiftyone.utils.dicom.DICOMDatasetImporter'>\n",
      " 100% |███████████████████| 45/45 [1.7s elapsed, 0s remaining, 27.3 samples/s]      \n"
     ]
    },
    {
     "name": "stderr",
     "output_type": "stream",
     "text": [
      " 22%|██▏       | 245/1128 [25:57<40:26,  2.75s/it]"
     ]
    },
    {
     "name": "stdout",
     "output_type": "stream",
     "text": [
      "No `images_dir` provided. Images will be unpacked to '/opt/project/data/TCGA-AO-A03M/03-15-2001-NA-NA-80891/108.000000-PJN-28453'\n",
      "Ignoring unsupported parameter 'overwrite' for importer type <class 'fiftyone.utils.dicom.DICOMDatasetImporter'>\n",
      " 100% |███████████████████| 13/13 [876.1ms elapsed, 0s remaining, 14.9 samples/s]      \n"
     ]
    },
    {
     "name": "stderr",
     "output_type": "stream",
     "text": [
      " 22%|██▏       | 246/1128 [25:58<33:36,  2.29s/it]"
     ]
    },
    {
     "name": "stdout",
     "output_type": "stream",
     "text": [
      "No `images_dir` provided. Images will be unpacked to '/opt/project/data/TCGA-BH-A0H3/07-27-2001-NA-BREAST MRI-61560/103.000000-CAD sub 3-12461'\n",
      "Ignoring unsupported parameter 'overwrite' for importer type <class 'fiftyone.utils.dicom.DICOMDatasetImporter'>\n",
      " 100% |███████████████████| 92/92 [3.0s elapsed, 0s remaining, 37.4 samples/s]      \n"
     ]
    },
    {
     "name": "stderr",
     "output_type": "stream",
     "text": [
      " 22%|██▏       | 247/1128 [26:02<38:36,  2.63s/it]"
     ]
    },
    {
     "name": "stdout",
     "output_type": "stream",
     "text": [
      "No `images_dir` provided. Images will be unpacked to '/opt/project/data/TCGA-BH-A18I/01-28-2004-NA-BREAST MRI-54013/2000.000000-CAD MIP-22279'\n",
      "Ignoring unsupported parameter 'overwrite' for importer type <class 'fiftyone.utils.dicom.DICOMDatasetImporter'>\n",
      " 100% |███████████████████| 45/45 [1.9s elapsed, 0s remaining, 23.7 samples/s]      \n"
     ]
    },
    {
     "name": "stderr",
     "output_type": "stream",
     "text": [
      " 22%|██▏       | 248/1128 [26:04<36:29,  2.49s/it]"
     ]
    },
    {
     "name": "stdout",
     "output_type": "stream",
     "text": [
      "No `images_dir` provided. Images will be unpacked to '/opt/project/data/TCGA-AO-A03V/08-10-2002-NA-NA-16391/115.000000-RT SUB-82409'\n",
      "Ignoring unsupported parameter 'overwrite' for importer type <class 'fiftyone.utils.dicom.DICOMDatasetImporter'>\n",
      " 100% |███████████████████| 13/13 [889.4ms elapsed, 0s remaining, 14.7 samples/s]      \n"
     ]
    },
    {
     "name": "stderr",
     "output_type": "stream",
     "text": [
      " 22%|██▏       | 249/1128 [26:05<30:26,  2.08s/it]"
     ]
    },
    {
     "name": "stdout",
     "output_type": "stream",
     "text": [
      "No `images_dir` provided. Images will be unpacked to '/opt/project/data/TCGA-BH-A0B5/10-26-2000-NA-BREAST MRI-16171/5.000000-Ax Vibrant MULTIPHASE-74042'\n",
      "Ignoring unsupported parameter 'overwrite' for importer type <class 'fiftyone.utils.dicom.DICOMDatasetImporter'>\n",
      " 100% |█████████████████| 350/350 [11.0s elapsed, 0s remaining, 33.4 samples/s]      \n"
     ]
    },
    {
     "name": "stderr",
     "output_type": "stream",
     "text": [
      " 22%|██▏       | 250/1128 [26:17<1:14:31,  5.09s/it]"
     ]
    },
    {
     "name": "stdout",
     "output_type": "stream",
     "text": [
      "No `images_dir` provided. Images will be unpacked to '/opt/project/data/TCGA-BH-A0H9/09-25-2000-NA-BREAST MRI-55072/2.000000-Calibration Scan-23453'\n",
      "Ignoring unsupported parameter 'overwrite' for importer type <class 'fiftyone.utils.dicom.DICOMDatasetImporter'>\n",
      " 100% |███████████████████| 72/72 [2.2s elapsed, 0s remaining, 42.2 samples/s]      \n"
     ]
    },
    {
     "name": "stderr",
     "output_type": "stream",
     "text": [
      " 22%|██▏       | 251/1128 [26:20<1:03:15,  4.33s/it]"
     ]
    },
    {
     "name": "stdout",
     "output_type": "stream",
     "text": [
      "No `images_dir` provided. Images will be unpacked to '/opt/project/data/TCGA-AR-A24X/05-31-2001-NA-MRI - BREAST-56773/8.000000-VIBRANT-66981'\n",
      "Ignoring unsupported parameter 'overwrite' for importer type <class 'fiftyone.utils.dicom.DICOMDatasetImporter'>\n",
      " 100% |█████████████████| 384/384 [10.5s elapsed, 0s remaining, 38.8 samples/s]      \n"
     ]
    },
    {
     "name": "stderr",
     "output_type": "stream",
     "text": [
      " 22%|██▏       | 252/1128 [26:32<1:36:11,  6.59s/it]"
     ]
    },
    {
     "name": "stdout",
     "output_type": "stream",
     "text": [
      "No `images_dir` provided. Images will be unpacked to '/opt/project/data/TCGA-BH-A201/05-11-2004-NA-BREAST MRI-49157/2000.000000-CAD MIP-40375'\n",
      "Ignoring unsupported parameter 'overwrite' for importer type <class 'fiftyone.utils.dicom.DICOMDatasetImporter'>\n",
      " 100% |███████████████████| 45/45 [1.8s elapsed, 0s remaining, 24.7 samples/s]      \n"
     ]
    },
    {
     "name": "stderr",
     "output_type": "stream",
     "text": [
      " 22%|██▏       | 253/1128 [26:34<1:16:23,  5.24s/it]"
     ]
    },
    {
     "name": "stdout",
     "output_type": "stream",
     "text": [
      "No `images_dir` provided. Images will be unpacked to '/opt/project/data/TCGA-BH-A0GY/08-27-2001-NA-MRI BREAST-03978/1001.000000-CAD VOLUME-03592'\n",
      "Ignoring unsupported parameter 'overwrite' for importer type <class 'fiftyone.utils.dicom.DICOMDatasetImporter'>\n",
      " 100% |█████████████████████| 4/4 [737.2ms elapsed, 0s remaining, 5.4 samples/s]   \n"
     ]
    },
    {
     "name": "stderr",
     "output_type": "stream",
     "text": [
      " 23%|██▎       | 254/1128 [26:35<57:18,  3.93s/it]  "
     ]
    },
    {
     "name": "stdout",
     "output_type": "stream",
     "text": [
      "No `images_dir` provided. Images will be unpacked to '/opt/project/data/TCGA-E2-A1IG/09-01-2001-NA-MR BREAST BILATERAL WWO CONT-98834/4.000000-SAG T2 FAT-SAT RIGHT-76131'\n",
      "Ignoring unsupported parameter 'overwrite' for importer type <class 'fiftyone.utils.dicom.DICOMDatasetImporter'>\n",
      " 100% |███████████████████| 43/43 [1.3s elapsed, 0s remaining, 33.5 samples/s]         \n"
     ]
    },
    {
     "name": "stderr",
     "output_type": "stream",
     "text": [
      " 23%|██▎       | 255/1128 [26:36<46:47,  3.22s/it]"
     ]
    },
    {
     "name": "stdout",
     "output_type": "stream",
     "text": [
      "No `images_dir` provided. Images will be unpacked to '/opt/project/data/TCGA-E2-A1IN/07-28-2002-NA-MR BREAST BILATERAL WWO CONT-40961/4.000000-SAG T2 FAT-SAT RIGHT-20645'\n",
      "Ignoring unsupported parameter 'overwrite' for importer type <class 'fiftyone.utils.dicom.DICOMDatasetImporter'>\n",
      " 100% |███████████████████| 47/47 [1.4s elapsed, 0s remaining, 34.0 samples/s]         \n"
     ]
    },
    {
     "name": "stderr",
     "output_type": "stream",
     "text": [
      " 23%|██▎       | 256/1128 [26:38<40:09,  2.76s/it]"
     ]
    },
    {
     "name": "stdout",
     "output_type": "stream",
     "text": [
      "No `images_dir` provided. Images will be unpacked to '/opt/project/data/TCGA-BH-A0DZ/10-16-2002-NA-BREAST MRI-48146/200.000000-CAD sag reformat-03746'\n",
      "Ignoring unsupported parameter 'overwrite' for importer type <class 'fiftyone.utils.dicom.DICOMDatasetImporter'>\n",
      " 100% |█████████████████| 150/150 [4.3s elapsed, 0s remaining, 38.8 samples/s]       \n"
     ]
    },
    {
     "name": "stderr",
     "output_type": "stream",
     "text": [
      " 23%|██▎       | 257/1128 [26:43<49:19,  3.40s/it]"
     ]
    },
    {
     "name": "stdout",
     "output_type": "stream",
     "text": [
      "No `images_dir` provided. Images will be unpacked to '/opt/project/data/TCGA-BH-A0HY/05-29-2002-NA-BREAST MRI-25536/4.000000-Ax Vibrant MULTIPHASE-89332'\n",
      "Ignoring unsupported parameter 'overwrite' for importer type <class 'fiftyone.utils.dicom.DICOMDatasetImporter'>\n",
      " 100% |█████████████████| 530/530 [15.1s elapsed, 0s remaining, 35.5 samples/s]      \n"
     ]
    },
    {
     "name": "stderr",
     "output_type": "stream",
     "text": [
      " 23%|██▎       | 258/1128 [27:00<1:47:08,  7.39s/it]"
     ]
    },
    {
     "name": "stdout",
     "output_type": "stream",
     "text": [
      "No `images_dir` provided. Images will be unpacked to '/opt/project/data/TCGA-BH-A0BT/06-01-2000-NA-BREAST MRI-32173/3.000000-AX STIR-WaterSat-37834'\n",
      "Ignoring unsupported parameter 'overwrite' for importer type <class 'fiftyone.utils.dicom.DICOMDatasetImporter'>\n",
      " 100% |███████████████████| 40/40 [1.6s elapsed, 0s remaining, 24.4 samples/s]      \n"
     ]
    },
    {
     "name": "stderr",
     "output_type": "stream",
     "text": [
      " 23%|██▎       | 259/1128 [27:01<1:23:11,  5.74s/it]"
     ]
    },
    {
     "name": "stdout",
     "output_type": "stream",
     "text": [
      "No `images_dir` provided. Images will be unpacked to '/opt/project/data/TCGA-BH-A0HI/03-14-2002-NA-BREAST MRI-85477/102.000000-CAD sub 2-75626'\n",
      "Ignoring unsupported parameter 'overwrite' for importer type <class 'fiftyone.utils.dicom.DICOMDatasetImporter'>\n",
      " 100% |███████████████████| 70/70 [2.2s elapsed, 0s remaining, 40.3 samples/s]      \n"
     ]
    },
    {
     "name": "stderr",
     "output_type": "stream",
     "text": [
      " 23%|██▎       | 260/1128 [27:04<1:09:18,  4.79s/it]"
     ]
    },
    {
     "name": "stdout",
     "output_type": "stream",
     "text": [
      "No `images_dir` provided. Images will be unpacked to '/opt/project/data/TCGA-AO-A12F/10-16-2000-NA-NA-19596/3.000000-T2 right breast-93491'\n",
      "Ignoring unsupported parameter 'overwrite' for importer type <class 'fiftyone.utils.dicom.DICOMDatasetImporter'>\n",
      " 100% |███████████████████| 38/38 [1.4s elapsed, 0s remaining, 27.6 samples/s]      \n"
     ]
    },
    {
     "name": "stderr",
     "output_type": "stream",
     "text": [
      " 23%|██▎       | 261/1128 [27:06<55:36,  3.85s/it]  "
     ]
    },
    {
     "name": "stdout",
     "output_type": "stream",
     "text": [
      "No `images_dir` provided. Images will be unpacked to '/opt/project/data/TCGA-BH-A0DK/12-22-2002-NA-BREAST MRI-01189/102.000000-CAD sub 2-21436'\n",
      "Ignoring unsupported parameter 'overwrite' for importer type <class 'fiftyone.utils.dicom.DICOMDatasetImporter'>\n",
      " 100% |█████████████████| 102/102 [3.0s elapsed, 0s remaining, 41.1 samples/s]      \n"
     ]
    },
    {
     "name": "stderr",
     "output_type": "stream",
     "text": [
      " 23%|██▎       | 262/1128 [27:09<54:24,  3.77s/it]"
     ]
    },
    {
     "name": "stdout",
     "output_type": "stream",
     "text": [
      "No `images_dir` provided. Images will be unpacked to '/opt/project/data/TCGA-AR-A24X/05-31-2001-NA-MRI - BREAST-56773/6.000000-RT SAG FSE T2-98726'\n",
      "Ignoring unsupported parameter 'overwrite' for importer type <class 'fiftyone.utils.dicom.DICOMDatasetImporter'>\n",
      " 100% |███████████████████| 24/24 [1.2s elapsed, 0s remaining, 20.2 samples/s]         \n"
     ]
    },
    {
     "name": "stderr",
     "output_type": "stream",
     "text": [
      " 23%|██▎       | 263/1128 [27:11<44:05,  3.06s/it]"
     ]
    },
    {
     "name": "stdout",
     "output_type": "stream",
     "text": [
      "No `images_dir` provided. Images will be unpacked to '/opt/project/data/TCGA-AR-A1AQ/11-21-2001-NA-MRI - BREAST-98628/5.000000-RT SAG FSE T1-99479'\n",
      "Ignoring unsupported parameter 'overwrite' for importer type <class 'fiftyone.utils.dicom.DICOMDatasetImporter'>\n",
      " 100% |███████████████████| 40/40 [1.6s elapsed, 0s remaining, 24.6 samples/s]      \n"
     ]
    },
    {
     "name": "stderr",
     "output_type": "stream",
     "text": [
      " 23%|██▎       | 264/1128 [27:12<38:53,  2.70s/it]"
     ]
    },
    {
     "name": "stdout",
     "output_type": "stream",
     "text": [
      "No `images_dir` provided. Images will be unpacked to '/opt/project/data/TCGA-AO-A0J9/05-11-2001-NA-NA-96851/118.000000-PJN-73667'\n",
      "Ignoring unsupported parameter 'overwrite' for importer type <class 'fiftyone.utils.dicom.DICOMDatasetImporter'>\n",
      " 100% |███████████████████| 13/13 [827.9ms elapsed, 0s remaining, 15.7 samples/s]      \n"
     ]
    },
    {
     "name": "stderr",
     "output_type": "stream",
     "text": [
      " 23%|██▎       | 265/1128 [27:13<31:29,  2.19s/it]"
     ]
    },
    {
     "name": "stdout",
     "output_type": "stream",
     "text": [
      "No `images_dir` provided. Images will be unpacked to '/opt/project/data/TCGA-AO-A12G/03-29-2001-NA-NA-34806/100.000000-T1 Sagittal not fat sat-53408'\n",
      "Ignoring unsupported parameter 'overwrite' for importer type <class 'fiftyone.utils.dicom.DICOMDatasetImporter'>\n",
      " 100% |███████████████████| 39/39 [1.4s elapsed, 0s remaining, 28.0 samples/s]      \n"
     ]
    },
    {
     "name": "stderr",
     "output_type": "stream",
     "text": [
      " 24%|██▎       | 266/1128 [27:15<29:05,  2.02s/it]"
     ]
    },
    {
     "name": "stdout",
     "output_type": "stream",
     "text": [
      "No `images_dir` provided. Images will be unpacked to '/opt/project/data/TCGA-AR-A1AN/10-18-2001-NA-MRI - BREAST-52081/100.000000-3834250-3834210-01622'\n",
      "Ignoring unsupported parameter 'overwrite' for importer type <class 'fiftyone.utils.dicom.DICOMDatasetImporter'>\n",
      " 100% |███████████████████| 20/20 [993.8ms elapsed, 0s remaining, 20.1 samples/s]      \n"
     ]
    },
    {
     "name": "stderr",
     "output_type": "stream",
     "text": [
      " 24%|██▎       | 267/1128 [27:16<25:30,  1.78s/it]"
     ]
    },
    {
     "name": "stdout",
     "output_type": "stream",
     "text": [
      "No `images_dir` provided. Images will be unpacked to '/opt/project/data/TCGA-BH-A18H/02-03-2004-NA-BREAST MRI-53089/200.000000-CAD sag reformat-43580'\n",
      "Ignoring unsupported parameter 'overwrite' for importer type <class 'fiftyone.utils.dicom.DICOMDatasetImporter'>\n",
      " 100% |█████████████████| 201/201 [5.5s elapsed, 0s remaining, 40.9 samples/s]       \n"
     ]
    },
    {
     "name": "stderr",
     "output_type": "stream",
     "text": [
      " 24%|██▍       | 268/1128 [27:22<44:21,  3.09s/it]"
     ]
    },
    {
     "name": "stdout",
     "output_type": "stream",
     "text": [
      "No `images_dir` provided. Images will be unpacked to '/opt/project/data/TCGA-BH-A0RX/09-02-2003-NA-BREAST MRI-73444/2.000000-Calibration Scan-71640'\n",
      "Ignoring unsupported parameter 'overwrite' for importer type <class 'fiftyone.utils.dicom.DICOMDatasetImporter'>\n",
      " 100% |███████████████████| 72/72 [2.1s elapsed, 0s remaining, 44.4 samples/s]      \n"
     ]
    },
    {
     "name": "stderr",
     "output_type": "stream",
     "text": [
      " 24%|██▍       | 269/1128 [27:25<41:37,  2.91s/it]"
     ]
    },
    {
     "name": "stdout",
     "output_type": "stream",
     "text": [
      "No `images_dir` provided. Images will be unpacked to '/opt/project/data/TCGA-BH-A0HI/03-14-2002-NA-BREAST MRI-85477/2.000000-Calibration Scan-86014'\n",
      "Ignoring unsupported parameter 'overwrite' for importer type <class 'fiftyone.utils.dicom.DICOMDatasetImporter'>\n",
      " 100% |███████████████████| 92/92 [2.6s elapsed, 0s remaining, 43.9 samples/s]      \n"
     ]
    },
    {
     "name": "stderr",
     "output_type": "stream",
     "text": [
      " 24%|██▍       | 270/1128 [27:28<42:10,  2.95s/it]"
     ]
    },
    {
     "name": "stdout",
     "output_type": "stream",
     "text": [
      "No `images_dir` provided. Images will be unpacked to '/opt/project/data/TCGA-AO-A0JM/09-15-1999-NA-NA-59814/2.000000-T2 left breast-17307'\n",
      "Ignoring unsupported parameter 'overwrite' for importer type <class 'fiftyone.utils.dicom.DICOMDatasetImporter'>\n",
      " 100% |███████████████████| 38/38 [1.4s elapsed, 0s remaining, 27.3 samples/s]      \n"
     ]
    },
    {
     "name": "stderr",
     "output_type": "stream",
     "text": [
      " 24%|██▍       | 271/1128 [27:30<37:10,  2.60s/it]"
     ]
    },
    {
     "name": "stdout",
     "output_type": "stream",
     "text": [
      "No `images_dir` provided. Images will be unpacked to '/opt/project/data/TCGA-AO-A12G/03-29-2001-NA-NA-34806/101.000000-T1 Sagittal not fat sat-23969'\n",
      "Ignoring unsupported parameter 'overwrite' for importer type <class 'fiftyone.utils.dicom.DICOMDatasetImporter'>\n",
      " 100% |███████████████████| 41/41 [1.5s elapsed, 0s remaining, 28.1 samples/s]      \n"
     ]
    },
    {
     "name": "stderr",
     "output_type": "stream",
     "text": [
      " 24%|██▍       | 272/1128 [27:32<33:21,  2.34s/it]"
     ]
    },
    {
     "name": "stdout",
     "output_type": "stream",
     "text": [
      "No `images_dir` provided. Images will be unpacked to '/opt/project/data/TCGA-E2-A1II/03-29-2001-NA-MR BREAST BILATERAL WWO CONT-41862/2.000000-3-PLANE LOCALIZER-45853'\n",
      "Ignoring unsupported parameter 'overwrite' for importer type <class 'fiftyone.utils.dicom.DICOMDatasetImporter'>\n",
      " 100% |███████████████████| 45/45 [1.3s elapsed, 0s remaining, 33.8 samples/s]         \n"
     ]
    },
    {
     "name": "stderr",
     "output_type": "stream",
     "text": [
      " 24%|██▍       | 273/1128 [27:33<30:11,  2.12s/it]"
     ]
    },
    {
     "name": "stdout",
     "output_type": "stream",
     "text": [
      "No `images_dir` provided. Images will be unpacked to '/opt/project/data/TCGA-BH-A0E9/12-07-1999-NA-BREAST MRI-15168/5.000000-Ax Vibrant MULTIPHASE-53554'\n",
      "Ignoring unsupported parameter 'overwrite' for importer type <class 'fiftyone.utils.dicom.DICOMDatasetImporter'>\n",
      " 100% |█████████████████| 532/532 [15.4s elapsed, 0s remaining, 34.2 samples/s]      \n"
     ]
    },
    {
     "name": "stderr",
     "output_type": "stream",
     "text": [
      " 24%|██▍       | 274/1128 [27:50<1:34:04,  6.61s/it]"
     ]
    },
    {
     "name": "stdout",
     "output_type": "stream",
     "text": [
      "No `images_dir` provided. Images will be unpacked to '/opt/project/data/TCGA-BH-A28Q/01-26-2004-NA-BREAST MRI-39143/202.000000-CAD cor reformat-37283'\n",
      "Ignoring unsupported parameter 'overwrite' for importer type <class 'fiftyone.utils.dicom.DICOMDatasetImporter'>\n",
      " 100% |█████████████████| 150/150 [4.3s elapsed, 0s remaining, 40.3 samples/s]       \n"
     ]
    },
    {
     "name": "stderr",
     "output_type": "stream",
     "text": [
      " 24%|██▍       | 275/1128 [27:55<1:26:53,  6.11s/it]"
     ]
    },
    {
     "name": "stdout",
     "output_type": "stream",
     "text": [
      "No `images_dir` provided. Images will be unpacked to '/opt/project/data/TCGA-E2-A15H/06-09-2002-NA-MR BREAST BILATERAL WWO CONT-16052/6.000000-SAG 3D PRE-CONTRAST-26673'\n",
      "Ignoring unsupported parameter 'overwrite' for importer type <class 'fiftyone.utils.dicom.DICOMDatasetImporter'>\n",
      " 100% |█████████████████| 108/108 [2.4s elapsed, 0s remaining, 55.3 samples/s]      \n"
     ]
    },
    {
     "name": "stderr",
     "output_type": "stream",
     "text": [
      " 24%|██▍       | 276/1128 [27:58<1:12:58,  5.14s/it]"
     ]
    },
    {
     "name": "stdout",
     "output_type": "stream",
     "text": [
      "No `images_dir` provided. Images will be unpacked to '/opt/project/data/TCGA-BH-A0E9/12-07-1999-NA-BREAST MRI-15168/3.000000-AX STIR-WaterSat-02560'\n",
      "Ignoring unsupported parameter 'overwrite' for importer type <class 'fiftyone.utils.dicom.DICOMDatasetImporter'>\n",
      " 100% |███████████████████| 48/48 [1.8s elapsed, 0s remaining, 26.5 samples/s]      \n"
     ]
    },
    {
     "name": "stderr",
     "output_type": "stream",
     "text": [
      " 25%|██▍       | 277/1128 [28:00<59:54,  4.22s/it]  "
     ]
    },
    {
     "name": "stdout",
     "output_type": "stream",
     "text": [
      "No `images_dir` provided. Images will be unpacked to '/opt/project/data/TCGA-BH-A0DX/11-21-2000-NA-BREAST MRI-01298/100.000000-CAD REG CAD Sub 1-31595'\n",
      "Ignoring unsupported parameter 'overwrite' for importer type <class 'fiftyone.utils.dicom.DICOMDatasetImporter'>\n",
      " 100% |███████████████████| 82/82 [2.6s elapsed, 0s remaining, 40.3 samples/s]      \n"
     ]
    },
    {
     "name": "stderr",
     "output_type": "stream",
     "text": [
      " 25%|██▍       | 278/1128 [28:03<54:56,  3.88s/it]"
     ]
    },
    {
     "name": "stdout",
     "output_type": "stream",
     "text": [
      "No `images_dir` provided. Images will be unpacked to '/opt/project/data/TCGA-BH-A0E1/11-04-2002-NA-BREAST MRI-66574/3.000000-AX STIR-WaterSat-42641'\n",
      "Ignoring unsupported parameter 'overwrite' for importer type <class 'fiftyone.utils.dicom.DICOMDatasetImporter'>\n",
      " 100% |███████████████████| 44/44 [1.7s elapsed, 0s remaining, 26.7 samples/s]      \n"
     ]
    },
    {
     "name": "stderr",
     "output_type": "stream",
     "text": [
      " 25%|██▍       | 279/1128 [28:05<46:33,  3.29s/it]"
     ]
    },
    {
     "name": "stdout",
     "output_type": "stream",
     "text": [
      "No `images_dir` provided. Images will be unpacked to '/opt/project/data/TCGA-AR-A24S/11-25-1999-NA-MRI - BREAST-35077/9.000000-BRAVA isotropic-99101'\n",
      "Ignoring unsupported parameter 'overwrite' for importer type <class 'fiftyone.utils.dicom.DICOMDatasetImporter'>\n",
      " 100% |█████████████████| 216/216 [6.6s elapsed, 0s remaining, 37.8 samples/s]      \n"
     ]
    },
    {
     "name": "stderr",
     "output_type": "stream",
     "text": [
      " 25%|██▍       | 280/1128 [28:12<1:03:36,  4.50s/it]"
     ]
    },
    {
     "name": "stdout",
     "output_type": "stream",
     "text": [
      "No `images_dir` provided. Images will be unpacked to '/opt/project/data/TCGA-BH-A0B1/09-04-2000-NA-BREAST MRI-93235/2.000000-Calibration Scan-58387'\n",
      "Ignoring unsupported parameter 'overwrite' for importer type <class 'fiftyone.utils.dicom.DICOMDatasetImporter'>\n",
      " 100% |███████████████████| 92/92 [2.5s elapsed, 0s remaining, 44.8 samples/s]      \n"
     ]
    },
    {
     "name": "stderr",
     "output_type": "stream",
     "text": [
      " 25%|██▍       | 281/1128 [28:15<56:54,  4.03s/it]  "
     ]
    },
    {
     "name": "stdout",
     "output_type": "stream",
     "text": [
      "No `images_dir` provided. Images will be unpacked to '/opt/project/data/TCGA-BH-A18H/02-03-2004-NA-BREAST MRI-53089/101.000000-CAD sub 4-50108'\n",
      "Ignoring unsupported parameter 'overwrite' for importer type <class 'fiftyone.utils.dicom.DICOMDatasetImporter'>\n",
      " 100% |█████████████████| 112/112 [3.4s elapsed, 0s remaining, 40.1 samples/s]      \n"
     ]
    },
    {
     "name": "stderr",
     "output_type": "stream",
     "text": [
      " 25%|██▌       | 282/1128 [28:19<55:50,  3.96s/it]"
     ]
    },
    {
     "name": "stdout",
     "output_type": "stream",
     "text": [
      "No `images_dir` provided. Images will be unpacked to '/opt/project/data/TCGA-BH-A0B1/09-04-2000-NA-BREAST MRI-93235/103.000000-CAD REG CAD Sub 4-78714'\n",
      "Ignoring unsupported parameter 'overwrite' for importer type <class 'fiftyone.utils.dicom.DICOMDatasetImporter'>\n",
      " 100% |███████████████████| 90/90 [2.8s elapsed, 0s remaining, 38.9 samples/s]      \n"
     ]
    },
    {
     "name": "stderr",
     "output_type": "stream",
     "text": [
      " 25%|██▌       | 283/1128 [28:22<52:39,  3.74s/it]"
     ]
    },
    {
     "name": "stdout",
     "output_type": "stream",
     "text": [
      "No `images_dir` provided. Images will be unpacked to '/opt/project/data/TCGA-AO-A0J9/05-11-2001-NA-NA-96851/116.000000-PJN-49890'\n",
      "Ignoring unsupported parameter 'overwrite' for importer type <class 'fiftyone.utils.dicom.DICOMDatasetImporter'>\n",
      " 100% |███████████████████| 13/13 [790.7ms elapsed, 0s remaining, 16.5 samples/s]      \n"
     ]
    },
    {
     "name": "stderr",
     "output_type": "stream",
     "text": [
      " 25%|██▌       | 284/1128 [28:23<40:54,  2.91s/it]"
     ]
    },
    {
     "name": "stdout",
     "output_type": "stream",
     "text": [
      "No `images_dir` provided. Images will be unpacked to '/opt/project/data/TCGA-BH-A0BQ/04-25-2000-NA-BREAST MRI-78053/102.000000-CAD REG CAD Sub 3-56218'\n",
      "Ignoring unsupported parameter 'overwrite' for importer type <class 'fiftyone.utils.dicom.DICOMDatasetImporter'>\n",
      " 100% |███████████████████| 72/72 [2.4s elapsed, 0s remaining, 38.4 samples/s]      \n"
     ]
    },
    {
     "name": "stderr",
     "output_type": "stream",
     "text": [
      " 25%|██▌       | 285/1128 [28:26<39:56,  2.84s/it]"
     ]
    },
    {
     "name": "stdout",
     "output_type": "stream",
     "text": [
      "No `images_dir` provided. Images will be unpacked to '/opt/project/data/TCGA-BH-A202/05-24-2004-NA-BREAST MRI-87769/101.000000-CAD sub 4-00115'\n",
      "Ignoring unsupported parameter 'overwrite' for importer type <class 'fiftyone.utils.dicom.DICOMDatasetImporter'>\n",
      " 100% |█████████████████| 106/106 [3.2s elapsed, 0s remaining, 40.8 samples/s]      \n"
     ]
    },
    {
     "name": "stderr",
     "output_type": "stream",
     "text": [
      " 25%|██▌       | 286/1128 [28:30<43:04,  3.07s/it]"
     ]
    },
    {
     "name": "stdout",
     "output_type": "stream",
     "text": [
      "No `images_dir` provided. Images will be unpacked to '/opt/project/data/TCGA-E2-A15A/03-06-2002-NA-MR BREAST BILATERAL WWO CONT-46241/7.000000-SAG 3D POST-CONTRAST-76172'\n",
      "Ignoring unsupported parameter 'overwrite' for importer type <class 'fiftyone.utils.dicom.DICOMDatasetImporter'>\n",
      " 100% |█████████████████| 384/384 [9.6s elapsed, 0s remaining, 39.7 samples/s]       \n"
     ]
    },
    {
     "name": "stderr",
     "output_type": "stream",
     "text": [
      " 25%|██▌       | 287/1128 [28:40<1:15:03,  5.36s/it]"
     ]
    },
    {
     "name": "stdout",
     "output_type": "stream",
     "text": [
      "No `images_dir` provided. Images will be unpacked to '/opt/project/data/TCGA-AO-A12F/10-16-2000-NA-NA-19596/122.000000-PJN-70498'\n",
      "Ignoring unsupported parameter 'overwrite' for importer type <class 'fiftyone.utils.dicom.DICOMDatasetImporter'>\n",
      " 100% |███████████████████| 16/16 [852.8ms elapsed, 0s remaining, 18.8 samples/s]      \n"
     ]
    },
    {
     "name": "stderr",
     "output_type": "stream",
     "text": [
      " 26%|██▌       | 288/1128 [28:41<56:56,  4.07s/it]  "
     ]
    },
    {
     "name": "stdout",
     "output_type": "stream",
     "text": [
      "No `images_dir` provided. Images will be unpacked to '/opt/project/data/TCGA-AO-A12E/02-01-2000-NA-NA-34890/111.000000-NA-16150'\n",
      "Ignoring unsupported parameter 'overwrite' for importer type <class 'fiftyone.utils.dicom.DICOMDatasetImporter'>\n",
      " 100% |███████████████████| 56/56 [1.5s elapsed, 0s remaining, 37.3 samples/s]      \n"
     ]
    },
    {
     "name": "stderr",
     "output_type": "stream",
     "text": [
      " 26%|██▌       | 289/1128 [28:43<47:27,  3.39s/it]"
     ]
    },
    {
     "name": "stdout",
     "output_type": "stream",
     "text": [
      "No `images_dir` provided. Images will be unpacked to '/opt/project/data/TCGA-BH-A0RX/09-02-2003-NA-BREAST MRI-73444/1.000000-3 plane loc-21100'\n",
      "Ignoring unsupported parameter 'overwrite' for importer type <class 'fiftyone.utils.dicom.DICOMDatasetImporter'>\n",
      " 100% |███████████████████| 29/29 [1.2s elapsed, 0s remaining, 25.1 samples/s]         \n"
     ]
    },
    {
     "name": "stderr",
     "output_type": "stream",
     "text": [
      " 26%|██▌       | 290/1128 [28:45<39:06,  2.80s/it]"
     ]
    },
    {
     "name": "stdout",
     "output_type": "stream",
     "text": [
      "No `images_dir` provided. Images will be unpacked to '/opt/project/data/TCGA-BH-A0W5/07-25-2001-NA-MRI BREAST-10788/200.000000-CAD sag reformat-67470'\n",
      "Ignoring unsupported parameter 'overwrite' for importer type <class 'fiftyone.utils.dicom.DICOMDatasetImporter'>\n",
      " 100% |█████████████████| 150/150 [4.1s elapsed, 0s remaining, 41.8 samples/s]       \n"
     ]
    },
    {
     "name": "stderr",
     "output_type": "stream",
     "text": [
      " 26%|██▌       | 291/1128 [28:49<47:08,  3.38s/it]"
     ]
    },
    {
     "name": "stdout",
     "output_type": "stream",
     "text": [
      "No `images_dir` provided. Images will be unpacked to '/opt/project/data/TCGA-AO-A0JI/11-06-2001-NA-NA-80329/107.000000-PJN-11034'\n",
      "Ignoring unsupported parameter 'overwrite' for importer type <class 'fiftyone.utils.dicom.DICOMDatasetImporter'>\n",
      " 100% |███████████████████| 13/13 [784.4ms elapsed, 0s remaining, 16.6 samples/s]      \n"
     ]
    },
    {
     "name": "stderr",
     "output_type": "stream",
     "text": [
      " 26%|██▌       | 292/1128 [28:50<36:59,  2.66s/it]"
     ]
    },
    {
     "name": "stdout",
     "output_type": "stream",
     "text": [
      "No `images_dir` provided. Images will be unpacked to '/opt/project/data/TCGA-AR-A1AN/10-14-2001-NA-MRI - BREAST-21682/7.000000-ASSET CAL-27798'\n",
      "Ignoring unsupported parameter 'overwrite' for importer type <class 'fiftyone.utils.dicom.DICOMDatasetImporter'>\n",
      " 100% |███████████████████| 72/72 [2.0s elapsed, 0s remaining, 35.3 samples/s]      \n"
     ]
    },
    {
     "name": "stderr",
     "output_type": "stream",
     "text": [
      " 26%|██▌       | 293/1128 [28:53<35:52,  2.58s/it]"
     ]
    },
    {
     "name": "stdout",
     "output_type": "stream",
     "text": [
      "No `images_dir` provided. Images will be unpacked to '/opt/project/data/TCGA-BH-A0BM/09-03-2000-NA-BREAST MRI-42240/1.000000-3 plane loc-63177'\n",
      "Ignoring unsupported parameter 'overwrite' for importer type <class 'fiftyone.utils.dicom.DICOMDatasetImporter'>\n",
      " 100% |███████████████████| 29/29 [1.2s elapsed, 0s remaining, 24.6 samples/s]         \n"
     ]
    },
    {
     "name": "stderr",
     "output_type": "stream",
     "text": [
      " 26%|██▌       | 294/1128 [28:54<30:57,  2.23s/it]"
     ]
    },
    {
     "name": "stdout",
     "output_type": "stream",
     "text": [
      "No `images_dir` provided. Images will be unpacked to '/opt/project/data/TCGA-BH-A0W3/10-12-2003-NA-BREAST MRI-09153/4.000000-Ax Vibrant MULTIPHASE-12898'\n",
      "Ignoring unsupported parameter 'overwrite' for importer type <class 'fiftyone.utils.dicom.DICOMDatasetImporter'>\n",
      " 100% |█████████████████| 470/470 [13.7s elapsed, 0s remaining, 36.0 samples/s]      \n"
     ]
    },
    {
     "name": "stderr",
     "output_type": "stream",
     "text": [
      " 26%|██▌       | 295/1128 [29:09<1:24:54,  6.12s/it]"
     ]
    },
    {
     "name": "stdout",
     "output_type": "stream",
     "text": [
      "No `images_dir` provided. Images will be unpacked to '/opt/project/data/TCGA-E2-A1LG/11-06-2002-NA-MR BREAST BILATERAL WWO CONT-85265/3.000000-SAG 3D PRE-CONTRAST 512-19243'\n",
      "Ignoring unsupported parameter 'overwrite' for importer type <class 'fiftyone.utils.dicom.DICOMDatasetImporter'>\n",
      " 100% |███████████████████| 45/45 [1.3s elapsed, 0s remaining, 33.6 samples/s]         \n"
     ]
    },
    {
     "name": "stderr",
     "output_type": "stream",
     "text": [
      " 26%|██▌       | 296/1128 [29:11<1:06:09,  4.77s/it]"
     ]
    },
    {
     "name": "stdout",
     "output_type": "stream",
     "text": [
      "No `images_dir` provided. Images will be unpacked to '/opt/project/data/TCGA-BH-A0H6/02-03-2002-NA-MRI BREAST-85463/2.000000-Calibration Scan-97265'\n",
      "Ignoring unsupported parameter 'overwrite' for importer type <class 'fiftyone.utils.dicom.DICOMDatasetImporter'>\n",
      " 100% |███████████████████| 92/92 [2.6s elapsed, 0s remaining, 46.4 samples/s]      \n"
     ]
    },
    {
     "name": "stderr",
     "output_type": "stream",
     "text": [
      " 26%|██▋       | 297/1128 [29:14<58:45,  4.24s/it]  "
     ]
    },
    {
     "name": "stdout",
     "output_type": "stream",
     "text": [
      "No `images_dir` provided. Images will be unpacked to '/opt/project/data/TCGA-BH-A0AW/02-19-2002-NA-BREAST MRI-78041/202.000000-CAD cor reformat-52472'\n",
      "Ignoring unsupported parameter 'overwrite' for importer type <class 'fiftyone.utils.dicom.DICOMDatasetImporter'>\n",
      " 100% |█████████████████| 171/171 [4.7s elapsed, 0s remaining, 39.2 samples/s]       \n"
     ]
    },
    {
     "name": "stderr",
     "output_type": "stream",
     "text": [
      " 26%|██▋       | 298/1128 [29:19<1:03:05,  4.56s/it]"
     ]
    },
    {
     "name": "stdout",
     "output_type": "stream",
     "text": [
      "No `images_dir` provided. Images will be unpacked to '/opt/project/data/TCGA-BH-A0HA/11-17-2001-NA-BREAST MRI-26938/4.000000-Ax Vibrant MULTIPHASE-32931'\n",
      "Ignoring unsupported parameter 'overwrite' for importer type <class 'fiftyone.utils.dicom.DICOMDatasetImporter'>\n",
      " 100% |█████████████████| 460/460 [13.7s elapsed, 0s remaining, 36.6 samples/s]      \n"
     ]
    },
    {
     "name": "stderr",
     "output_type": "stream",
     "text": [
      " 27%|██▋       | 299/1128 [29:34<1:46:34,  7.71s/it]"
     ]
    },
    {
     "name": "stdout",
     "output_type": "stream",
     "text": [
      "No `images_dir` provided. Images will be unpacked to '/opt/project/data/TCGA-BH-A0EI/02-25-2002-NA-BIOPSY-25384/3.000000-Ax Vibrant C-13467'\n",
      "Ignoring unsupported parameter 'overwrite' for importer type <class 'fiftyone.utils.dicom.DICOMDatasetImporter'>\n",
      " 100% |█████████████████| 204/204 [6.6s elapsed, 0s remaining, 32.7 samples/s]      \n"
     ]
    },
    {
     "name": "stderr",
     "output_type": "stream",
     "text": [
      " 27%|██▋       | 300/1128 [29:42<1:44:54,  7.60s/it]"
     ]
    },
    {
     "name": "stdout",
     "output_type": "stream",
     "text": [
      "No `images_dir` provided. Images will be unpacked to '/opt/project/data/TCGA-BH-A0B5/10-26-2000-NA-BREAST MRI-16171/2000.000000-CAD MIP Collection-25003'\n",
      "Ignoring unsupported parameter 'overwrite' for importer type <class 'fiftyone.utils.dicom.DICOMDatasetImporter'>\n",
      " 100% |███████████████████| 45/45 [2.0s elapsed, 0s remaining, 22.7 samples/s]      \n"
     ]
    },
    {
     "name": "stderr",
     "output_type": "stream",
     "text": [
      " 27%|██▋       | 301/1128 [29:44<1:22:55,  6.02s/it]"
     ]
    },
    {
     "name": "stdout",
     "output_type": "stream",
     "text": [
      "No `images_dir` provided. Images will be unpacked to '/opt/project/data/TCGA-AO-A12E/02-01-2000-NA-NA-34890/112.000000-NA-68060'\n",
      "Ignoring unsupported parameter 'overwrite' for importer type <class 'fiftyone.utils.dicom.DICOMDatasetImporter'>\n",
      " 100% |███████████████████| 60/60 [1.9s elapsed, 0s remaining, 32.2 samples/s]      \n"
     ]
    },
    {
     "name": "stderr",
     "output_type": "stream",
     "text": [
      " 27%|██▋       | 302/1128 [29:46<1:07:23,  4.90s/it]"
     ]
    },
    {
     "name": "stdout",
     "output_type": "stream",
     "text": [
      "No `images_dir` provided. Images will be unpacked to '/opt/project/data/TCGA-BH-A0E2/01-21-2003-NA-BREAST MRI-05355/2000.000000-CAD MIP-34551'\n",
      "Ignoring unsupported parameter 'overwrite' for importer type <class 'fiftyone.utils.dicom.DICOMDatasetImporter'>\n",
      " 100% |███████████████████| 45/45 [1.9s elapsed, 0s remaining, 23.4 samples/s]      \n"
     ]
    },
    {
     "name": "stderr",
     "output_type": "stream",
     "text": [
      " 27%|██▋       | 303/1128 [29:49<56:17,  4.09s/it]  "
     ]
    },
    {
     "name": "stdout",
     "output_type": "stream",
     "text": [
      "No `images_dir` provided. Images will be unpacked to '/opt/project/data/TCGA-BH-A0DE/08-01-2000-NA-BREAST MRI-94390/5.000000-Ax Vibrant MULTIPHASE-62449'\n",
      "Ignoring unsupported parameter 'overwrite' for importer type <class 'fiftyone.utils.dicom.DICOMDatasetImporter'>\n",
      " 100% |█████████████████| 380/380 [12.3s elapsed, 0s remaining, 31.2 samples/s]      \n"
     ]
    },
    {
     "name": "stderr",
     "output_type": "stream",
     "text": [
      " 27%|██▋       | 304/1128 [30:02<1:35:33,  6.96s/it]"
     ]
    },
    {
     "name": "stdout",
     "output_type": "stream",
     "text": [
      "No `images_dir` provided. Images will be unpacked to '/opt/project/data/TCGA-AO-A12F/10-16-2000-NA-NA-19596/114.000000-564710452-564710252-22509'\n",
      "Ignoring unsupported parameter 'overwrite' for importer type <class 'fiftyone.utils.dicom.DICOMDatasetImporter'>\n",
      " 100% |███████████████████| 52/52 [1.8s elapsed, 0s remaining, 28.3 samples/s]      \n"
     ]
    },
    {
     "name": "stderr",
     "output_type": "stream",
     "text": [
      " 27%|██▋       | 305/1128 [30:04<1:15:47,  5.53s/it]"
     ]
    },
    {
     "name": "stdout",
     "output_type": "stream",
     "text": [
      "No `images_dir` provided. Images will be unpacked to '/opt/project/data/TCGA-BH-A0B6/10-18-1999-NA-BREAST MRI-60819/6.000000-Sag Vibrant C-26597'\n",
      "Ignoring unsupported parameter 'overwrite' for importer type <class 'fiftyone.utils.dicom.DICOMDatasetImporter'>\n",
      " 100% |█████████████████| 168/168 [5.2s elapsed, 0s remaining, 37.5 samples/s]       \n"
     ]
    },
    {
     "name": "stderr",
     "output_type": "stream",
     "text": [
      " 27%|██▋       | 306/1128 [30:10<1:16:57,  5.62s/it]"
     ]
    },
    {
     "name": "stdout",
     "output_type": "stream",
     "text": [
      "No `images_dir` provided. Images will be unpacked to '/opt/project/data/TCGA-BH-A18H/02-03-2004-NA-BREAST MRI-53089/103.000000-CAD sub 3-24794'\n",
      "Ignoring unsupported parameter 'overwrite' for importer type <class 'fiftyone.utils.dicom.DICOMDatasetImporter'>\n",
      " 100% |█████████████████| 112/112 [3.6s elapsed, 0s remaining, 37.1 samples/s]      \n"
     ]
    },
    {
     "name": "stderr",
     "output_type": "stream",
     "text": [
      " 27%|██▋       | 307/1128 [30:14<1:10:22,  5.14s/it]"
     ]
    },
    {
     "name": "stdout",
     "output_type": "stream",
     "text": [
      "No `images_dir` provided. Images will be unpacked to '/opt/project/data/TCGA-AO-A03V/08-10-2002-NA-NA-16391/111.000000-419810540-419810340-33349'\n",
      "Ignoring unsupported parameter 'overwrite' for importer type <class 'fiftyone.utils.dicom.DICOMDatasetImporter'>\n",
      " 100% |███████████████████| 40/40 [1.6s elapsed, 0s remaining, 25.6 samples/s]      \n"
     ]
    },
    {
     "name": "stderr",
     "output_type": "stream",
     "text": [
      " 27%|██▋       | 308/1128 [30:16<56:53,  4.16s/it]  "
     ]
    },
    {
     "name": "stdout",
     "output_type": "stream",
     "text": [
      "No `images_dir` provided. Images will be unpacked to '/opt/project/data/TCGA-AO-A03M/03-15-2001-NA-NA-80891/118.000000-Bind112517385..434-03682'\n",
      "Ignoring unsupported parameter 'overwrite' for importer type <class 'fiftyone.utils.dicom.DICOMDatasetImporter'>\n",
      " 100% |███████████████████| 50/50 [1.8s elapsed, 0s remaining, 27.7 samples/s]      \n"
     ]
    },
    {
     "name": "stderr",
     "output_type": "stream",
     "text": [
      " 27%|██▋       | 309/1128 [30:18<48:28,  3.55s/it]"
     ]
    },
    {
     "name": "stdout",
     "output_type": "stream",
     "text": [
      "No `images_dir` provided. Images will be unpacked to '/opt/project/data/TCGA-BH-A0DV/11-29-2000-NA-BREAST MRI-88132/100.000000-CAD REG CAD Sub 1-72381'\n",
      "Ignoring unsupported parameter 'overwrite' for importer type <class 'fiftyone.utils.dicom.DICOMDatasetImporter'>\n",
      " 100% |███████████████████| 82/82 [2.9s elapsed, 0s remaining, 36.8 samples/s]      \n"
     ]
    },
    {
     "name": "stderr",
     "output_type": "stream",
     "text": [
      " 27%|██▋       | 310/1128 [30:21<47:17,  3.47s/it]"
     ]
    },
    {
     "name": "stdout",
     "output_type": "stream",
     "text": [
      "No `images_dir` provided. Images will be unpacked to '/opt/project/data/TCGA-E2-A1IJ/08-02-2001-NA-MR BREAST BILATERAL WWO CONT-31159/7.000000-SAG 3D PRE-CONTRAST-61430'\n",
      "Ignoring unsupported parameter 'overwrite' for importer type <class 'fiftyone.utils.dicom.DICOMDatasetImporter'>\n",
      " 100% |█████████████████| 128/128 [4.7s elapsed, 0s remaining, 27.4 samples/s]       \n"
     ]
    },
    {
     "name": "stderr",
     "output_type": "stream",
     "text": [
      " 28%|██▊       | 311/1128 [30:27<54:28,  4.00s/it]"
     ]
    },
    {
     "name": "stdout",
     "output_type": "stream",
     "text": [
      "No `images_dir` provided. Images will be unpacked to '/opt/project/data/TCGA-BH-A0EI/02-25-2002-NA-BIOPSY-25384/4.000000-Ax Vibrant C-34177'\n",
      "Ignoring unsupported parameter 'overwrite' for importer type <class 'fiftyone.utils.dicom.DICOMDatasetImporter'>\n",
      " 100% |███████████████████| 68/68 [2.7s elapsed, 0s remaining, 33.2 samples/s]      \n"
     ]
    },
    {
     "name": "stderr",
     "output_type": "stream",
     "text": [
      " 28%|██▊       | 312/1128 [30:30<50:40,  3.73s/it]"
     ]
    },
    {
     "name": "stdout",
     "output_type": "stream",
     "text": [
      "No `images_dir` provided. Images will be unpacked to '/opt/project/data/TCGA-BH-A0DE/08-01-2000-NA-BREAST MRI-94390/201.000000-CAD SAG REF-45205'\n",
      "Ignoring unsupported parameter 'overwrite' for importer type <class 'fiftyone.utils.dicom.DICOMDatasetImporter'>\n",
      " 100% |███████████████████| 97/97 [3.1s elapsed, 0s remaining, 38.4 samples/s]      \n"
     ]
    },
    {
     "name": "stderr",
     "output_type": "stream",
     "text": [
      " 28%|██▊       | 313/1128 [30:33<49:58,  3.68s/it]"
     ]
    },
    {
     "name": "stdout",
     "output_type": "stream",
     "text": [
      "No `images_dir` provided. Images will be unpacked to '/opt/project/data/TCGA-BH-A0DI/11-20-2002-NA-BREAST MRI-40073/4.000000-Ax Vibrant MULTIPHASE-57876'\n",
      "Ignoring unsupported parameter 'overwrite' for importer type <class 'fiftyone.utils.dicom.DICOMDatasetImporter'>\n",
      " 100% |█████████████████| 410/410 [12.9s elapsed, 0s remaining, 34.1 samples/s]      \n"
     ]
    },
    {
     "name": "stderr",
     "output_type": "stream",
     "text": [
      " 28%|██▊       | 314/1128 [30:48<1:32:47,  6.84s/it]"
     ]
    },
    {
     "name": "stdout",
     "output_type": "stream",
     "text": [
      "No `images_dir` provided. Images will be unpacked to '/opt/project/data/TCGA-E2-A1B1/12-21-1999-NA-MR BREAST BILATERAL WWO CONT-74167/4.000000-SAG T1 PRE-94265'\n",
      "Ignoring unsupported parameter 'overwrite' for importer type <class 'fiftyone.utils.dicom.DICOMDatasetImporter'>\n",
      " 100% |███████████████████| 89/89 [2.8s elapsed, 0s remaining, 41.5 samples/s]      \n"
     ]
    },
    {
     "name": "stderr",
     "output_type": "stream",
     "text": [
      " 28%|██▊       | 315/1128 [30:51<1:17:53,  5.75s/it]"
     ]
    },
    {
     "name": "stdout",
     "output_type": "stream",
     "text": [
      "No `images_dir` provided. Images will be unpacked to '/opt/project/data/TCGA-BH-A0DG/12-05-2000-NA-BREAST MRI-74580/2000.000000-CAD MIP Collection-60087'\n",
      "Ignoring unsupported parameter 'overwrite' for importer type <class 'fiftyone.utils.dicom.DICOMDatasetImporter'>\n",
      " 100% |███████████████████| 45/45 [1.9s elapsed, 0s remaining, 23.6 samples/s]      \n"
     ]
    },
    {
     "name": "stderr",
     "output_type": "stream",
     "text": [
      " 28%|██▊       | 316/1128 [30:53<1:03:48,  4.72s/it]"
     ]
    },
    {
     "name": "stdout",
     "output_type": "stream",
     "text": [
      "No `images_dir` provided. Images will be unpacked to '/opt/project/data/TCGA-E2-A15I/06-15-2002-NA-MR BREAST BILATERAL WWO CONT-84178/2.000000-SAG T1 PRE-29665'\n",
      "Ignoring unsupported parameter 'overwrite' for importer type <class 'fiftyone.utils.dicom.DICOMDatasetImporter'>\n",
      " 100% |███████████████████| 70/70 [2.5s elapsed, 0s remaining, 37.0 samples/s]      \n"
     ]
    },
    {
     "name": "stderr",
     "output_type": "stream",
     "text": [
      " 28%|██▊       | 317/1128 [30:56<56:11,  4.16s/it]  "
     ]
    },
    {
     "name": "stdout",
     "output_type": "stream",
     "text": [
      "No `images_dir` provided. Images will be unpacked to '/opt/project/data/TCGA-E2-A15M/08-11-2002-NA-MR BREAST BILATERAL WWO CONT-35322/4.000000-SAG T2 FAT-SAT RIGHT-52811'\n",
      "Ignoring unsupported parameter 'overwrite' for importer type <class 'fiftyone.utils.dicom.DICOMDatasetImporter'>\n",
      " 100% |███████████████████| 54/54 [2.4s elapsed, 0s remaining, 28.8 samples/s]      \n"
     ]
    },
    {
     "name": "stderr",
     "output_type": "stream",
     "text": [
      " 28%|██▊       | 318/1128 [30:59<50:30,  3.74s/it]"
     ]
    },
    {
     "name": "stdout",
     "output_type": "stream",
     "text": [
      "No `images_dir` provided. Images will be unpacked to '/opt/project/data/TCGA-E2-A14P/10-13-2000-NA-MR BREAST BILATERAL WWO CONT-27050/2.000000-ASSET CALIBRATION-55007'\n",
      "Ignoring unsupported parameter 'overwrite' for importer type <class 'fiftyone.utils.dicom.DICOMDatasetImporter'>\n",
      " 100% |███████████████████| 61/61 [2.0s elapsed, 0s remaining, 30.2 samples/s]      \n"
     ]
    },
    {
     "name": "stderr",
     "output_type": "stream",
     "text": [
      " 28%|██▊       | 319/1128 [31:01<45:06,  3.35s/it]"
     ]
    },
    {
     "name": "stdout",
     "output_type": "stream",
     "text": [
      "No `images_dir` provided. Images will be unpacked to '/opt/project/data/TCGA-AO-A0JI/11-06-2001-NA-NA-80329/2.000000-T2 left breast-68352'\n",
      "Ignoring unsupported parameter 'overwrite' for importer type <class 'fiftyone.utils.dicom.DICOMDatasetImporter'>\n",
      " 100% |███████████████████| 46/46 [1.8s elapsed, 0s remaining, 26.1 samples/s]      \n"
     ]
    },
    {
     "name": "stderr",
     "output_type": "stream",
     "text": [
      " 28%|██▊       | 320/1128 [31:03<39:56,  2.97s/it]"
     ]
    },
    {
     "name": "stdout",
     "output_type": "stream",
     "text": [
      "No `images_dir` provided. Images will be unpacked to '/opt/project/data/TCGA-AO-A12F/10-16-2000-NA-NA-19596/1.000000-Localization-70351'\n",
      "Ignoring unsupported parameter 'overwrite' for importer type <class 'fiftyone.utils.dicom.DICOMDatasetImporter'>\n",
      " 100% |███████████████████| 33/33 [1.4s elapsed, 0s remaining, 24.1 samples/s]         \n"
     ]
    },
    {
     "name": "stderr",
     "output_type": "stream",
     "text": [
      " 28%|██▊       | 321/1128 [31:05<34:29,  2.56s/it]"
     ]
    },
    {
     "name": "stdout",
     "output_type": "stream",
     "text": [
      "No `images_dir` provided. Images will be unpacked to '/opt/project/data/TCGA-E2-A1LG/11-06-2002-NA-MR BREAST BILATERAL WWO CONT-85265/7.000000-SAG T2 FAT-SAT RIGHT-04651'\n",
      "Ignoring unsupported parameter 'overwrite' for importer type <class 'fiftyone.utils.dicom.DICOMDatasetImporter'>\n",
      " 100% |███████████████████| 57/57 [1.8s elapsed, 0s remaining, 32.2 samples/s]      \n"
     ]
    },
    {
     "name": "stderr",
     "output_type": "stream",
     "text": [
      " 29%|██▊       | 322/1128 [31:07<32:37,  2.43s/it]"
     ]
    },
    {
     "name": "stdout",
     "output_type": "stream",
     "text": [
      "No `images_dir` provided. Images will be unpacked to '/opt/project/data/TCGA-AO-A12E/02-01-2000-NA-NA-34890/107.000000-NA-00073'\n",
      "Ignoring unsupported parameter 'overwrite' for importer type <class 'fiftyone.utils.dicom.DICOMDatasetImporter'>\n",
      " 100% |███████████████████| 56/56 [1.8s elapsed, 0s remaining, 31.6 samples/s]      \n"
     ]
    },
    {
     "name": "stderr",
     "output_type": "stream",
     "text": [
      " 29%|██▊       | 323/1128 [31:09<31:15,  2.33s/it]"
     ]
    },
    {
     "name": "stdout",
     "output_type": "stream",
     "text": [
      "No `images_dir` provided. Images will be unpacked to '/opt/project/data/TCGA-E2-A108/10-13-2001-NA-MR BREAST BILATERAL WWO CONT-74709/7.000000-SAG 3D POST-CONTRAST-50467'\n",
      "Ignoring unsupported parameter 'overwrite' for importer type <class 'fiftyone.utils.dicom.DICOMDatasetImporter'>\n",
      " 100% |█████████████████| 384/384 [11.5s elapsed, 0s remaining, 36.5 samples/s]      \n"
     ]
    },
    {
     "name": "stderr",
     "output_type": "stream",
     "text": [
      " 29%|██▊       | 324/1128 [31:22<1:13:39,  5.50s/it]"
     ]
    },
    {
     "name": "stdout",
     "output_type": "stream",
     "text": [
      "No `images_dir` provided. Images will be unpacked to '/opt/project/data/TCGA-E2-A1IJ/08-02-2001-NA-MR BREAST BILATERAL WWO CONT-31159/8.000000-SAG 3D POST-CONTRAST-11555'\n",
      "Ignoring unsupported parameter 'overwrite' for importer type <class 'fiftyone.utils.dicom.DICOMDatasetImporter'>\n",
      " 100% |█████████████████| 384/384 [11.6s elapsed, 0s remaining, 35.6 samples/s]      \n"
     ]
    },
    {
     "name": "stderr",
     "output_type": "stream",
     "text": [
      " 29%|██▉       | 325/1128 [31:35<1:43:09,  7.71s/it]"
     ]
    },
    {
     "name": "stdout",
     "output_type": "stream",
     "text": [
      "No `images_dir` provided. Images will be unpacked to '/opt/project/data/TCGA-BH-A0E0/04-06-2003-NA-BREAST MRI-53761/5.000000-Sag Vibrant C-18186'\n",
      "Ignoring unsupported parameter 'overwrite' for importer type <class 'fiftyone.utils.dicom.DICOMDatasetImporter'>\n",
      " 100% |█████████████████| 144/144 [4.5s elapsed, 0s remaining, 36.4 samples/s]      \n"
     ]
    },
    {
     "name": "stderr",
     "output_type": "stream",
     "text": [
      " 29%|██▉       | 326/1128 [31:41<1:35:03,  7.11s/it]"
     ]
    },
    {
     "name": "stdout",
     "output_type": "stream",
     "text": [
      "No `images_dir` provided. Images will be unpacked to '/opt/project/data/TCGA-E2-A159/02-10-2002-NA-MR BREAST BILATERAL WWO CONT-48613/7.000000-SAG 3D POST-CONTRAST-81641'\n",
      "Ignoring unsupported parameter 'overwrite' for importer type <class 'fiftyone.utils.dicom.DICOMDatasetImporter'>\n",
      " 100% |█████████████████| 384/384 [10.8s elapsed, 0s remaining, 34.4 samples/s]      \n"
     ]
    },
    {
     "name": "stderr",
     "output_type": "stream",
     "text": [
      " 29%|██▉       | 327/1128 [31:53<1:54:42,  8.59s/it]"
     ]
    },
    {
     "name": "stdout",
     "output_type": "stream",
     "text": [
      "No `images_dir` provided. Images will be unpacked to '/opt/project/data/TCGA-BH-A0DH/01-09-2001-NA-BREAST MRI-58184/100.000000-CAD REG CAD Sub 1-40306'\n",
      "Ignoring unsupported parameter 'overwrite' for importer type <class 'fiftyone.utils.dicom.DICOMDatasetImporter'>\n",
      " 100% |███████████████████| 96/96 [3.3s elapsed, 0s remaining, 35.7 samples/s]      \n"
     ]
    },
    {
     "name": "stderr",
     "output_type": "stream",
     "text": [
      " 29%|██▉       | 328/1128 [31:56<1:35:13,  7.14s/it]"
     ]
    },
    {
     "name": "stdout",
     "output_type": "stream",
     "text": [
      "No `images_dir` provided. Images will be unpacked to '/opt/project/data/TCGA-BH-A0B3/10-09-2000-NA-BREAST MRI-95408/100.000000-CAD REG CAD Sub 1-77170'\n",
      "Ignoring unsupported parameter 'overwrite' for importer type <class 'fiftyone.utils.dicom.DICOMDatasetImporter'>\n",
      " 100% |███████████████████| 82/82 [2.8s elapsed, 0s remaining, 36.4 samples/s]      \n"
     ]
    },
    {
     "name": "stderr",
     "output_type": "stream",
     "text": [
      " 29%|██▉       | 329/1128 [32:00<1:19:43,  5.99s/it]"
     ]
    },
    {
     "name": "stdout",
     "output_type": "stream",
     "text": [
      "No `images_dir` provided. Images will be unpacked to '/opt/project/data/TCGA-BH-A0HY/05-29-2002-NA-BREAST MRI-25536/103.000000-CAD sub 3-57565'\n",
      "Ignoring unsupported parameter 'overwrite' for importer type <class 'fiftyone.utils.dicom.DICOMDatasetImporter'>\n",
      " 100% |█████████████████| 106/106 [3.6s elapsed, 0s remaining, 36.4 samples/s]      \n"
     ]
    },
    {
     "name": "stderr",
     "output_type": "stream",
     "text": [
      " 29%|██▉       | 330/1128 [32:04<1:11:56,  5.41s/it]"
     ]
    },
    {
     "name": "stdout",
     "output_type": "stream",
     "text": [
      "No `images_dir` provided. Images will be unpacked to '/opt/project/data/TCGA-BH-A0RX/09-02-2003-NA-BREAST MRI-73444/5.000000-Sag Vibrant C-38357'\n",
      "Ignoring unsupported parameter 'overwrite' for importer type <class 'fiftyone.utils.dicom.DICOMDatasetImporter'>\n",
      " 100% |█████████████████| 152/152 [4.7s elapsed, 0s remaining, 37.1 samples/s]       \n"
     ]
    },
    {
     "name": "stderr",
     "output_type": "stream",
     "text": [
      " 29%|██▉       | 331/1128 [32:09<1:11:19,  5.37s/it]"
     ]
    },
    {
     "name": "stdout",
     "output_type": "stream",
     "text": [
      "No `images_dir` provided. Images will be unpacked to '/opt/project/data/TCGA-BH-A28Q/01-26-2004-NA-BREAST MRI-39143/2000.000000-CAD MIP-42145'\n",
      "Ignoring unsupported parameter 'overwrite' for importer type <class 'fiftyone.utils.dicom.DICOMDatasetImporter'>\n",
      " 100% |███████████████████| 45/45 [2.1s elapsed, 0s remaining, 30.4 samples/s]      \n"
     ]
    },
    {
     "name": "stderr",
     "output_type": "stream",
     "text": [
      " 29%|██▉       | 332/1128 [32:11<59:19,  4.47s/it]  "
     ]
    },
    {
     "name": "stdout",
     "output_type": "stream",
     "text": [
      "No `images_dir` provided. Images will be unpacked to '/opt/project/data/TCGA-BH-A18F/12-22-2003-NA-BREAST MRI-50626/200.000000-CAD sag reformat-55943'\n",
      "Ignoring unsupported parameter 'overwrite' for importer type <class 'fiftyone.utils.dicom.DICOMDatasetImporter'>\n",
      " 100% |█████████████████| 171/171 [5.1s elapsed, 0s remaining, 37.7 samples/s]       \n"
     ]
    },
    {
     "name": "stderr",
     "output_type": "stream",
     "text": [
      " 30%|██▉       | 333/1128 [32:17<1:04:25,  4.86s/it]"
     ]
    },
    {
     "name": "stdout",
     "output_type": "stream",
     "text": [
      "No `images_dir` provided. Images will be unpacked to '/opt/project/data/TCGA-BH-A0AZ/01-09-2002-NA-BREAST MRI-21010/2000.000000-CAD MIP-56304'\n",
      "Ignoring unsupported parameter 'overwrite' for importer type <class 'fiftyone.utils.dicom.DICOMDatasetImporter'>\n",
      " 100% |███████████████████| 45/45 [1.9s elapsed, 0s remaining, 24.0 samples/s]      \n"
     ]
    },
    {
     "name": "stderr",
     "output_type": "stream",
     "text": [
      " 30%|██▉       | 334/1128 [32:19<53:58,  4.08s/it]  "
     ]
    },
    {
     "name": "stdout",
     "output_type": "stream",
     "text": [
      "No `images_dir` provided. Images will be unpacked to '/opt/project/data/TCGA-BH-A0C0/08-20-2000-NA-BREAST MRI-05483/101.000000-CAD REG CAD Sub 2-82360'\n",
      "Ignoring unsupported parameter 'overwrite' for importer type <class 'fiftyone.utils.dicom.DICOMDatasetImporter'>\n",
      " 100% |███████████████████| 70/70 [2.6s elapsed, 0s remaining, 35.9 samples/s]      \n"
     ]
    },
    {
     "name": "stderr",
     "output_type": "stream",
     "text": [
      " 30%|██▉       | 335/1128 [32:23<50:23,  3.81s/it]"
     ]
    },
    {
     "name": "stdout",
     "output_type": "stream",
     "text": [
      "No `images_dir` provided. Images will be unpacked to '/opt/project/data/TCGA-AO-A0J9/05-11-2001-NA-NA-96851/115.000000-1547710555-1547710355-85552'\n",
      "Ignoring unsupported parameter 'overwrite' for importer type <class 'fiftyone.utils.dicom.DICOMDatasetImporter'>\n",
      " 100% |███████████████████| 55/55 [1.9s elapsed, 0s remaining, 28.7 samples/s]      \n"
     ]
    },
    {
     "name": "stderr",
     "output_type": "stream",
     "text": [
      " 30%|██▉       | 336/1128 [32:25<44:02,  3.34s/it]"
     ]
    },
    {
     "name": "stdout",
     "output_type": "stream",
     "text": [
      "No `images_dir` provided. Images will be unpacked to '/opt/project/data/TCGA-BH-A0DV/11-29-2000-NA-BREAST MRI-88132/201.000000-CAD SAG REF-85033'\n",
      "Ignoring unsupported parameter 'overwrite' for importer type <class 'fiftyone.utils.dicom.DICOMDatasetImporter'>\n",
      " 100% |███████████████████| 97/97 [3.2s elapsed, 0s remaining, 37.8 samples/s]      \n"
     ]
    },
    {
     "name": "stderr",
     "output_type": "stream",
     "text": [
      " 30%|██▉       | 337/1128 [32:28<45:24,  3.44s/it]"
     ]
    },
    {
     "name": "stdout",
     "output_type": "stream",
     "text": [
      "No `images_dir` provided. Images will be unpacked to '/opt/project/data/TCGA-BH-A0BG/06-11-2001-NA-BREAST MRI-34066/101.000000-CAD sub 4-49093'\n",
      "Ignoring unsupported parameter 'overwrite' for importer type <class 'fiftyone.utils.dicom.DICOMDatasetImporter'>\n",
      " 100% |███████████████████| 82/82 [2.9s elapsed, 0s remaining, 35.7 samples/s]      \n"
     ]
    },
    {
     "name": "stderr",
     "output_type": "stream",
     "text": [
      " 30%|██▉       | 338/1128 [32:32<44:41,  3.39s/it]"
     ]
    },
    {
     "name": "stdout",
     "output_type": "stream",
     "text": [
      "No `images_dir` provided. Images will be unpacked to '/opt/project/data/TCGA-E2-A10F/02-21-2001-NA-MR BREAST BILATERAL WWO CONT-16473/7.000000-SAG 3D PRE-CONTRAST-46195'\n",
      "Ignoring unsupported parameter 'overwrite' for importer type <class 'fiftyone.utils.dicom.DICOMDatasetImporter'>\n",
      " 100% |█████████████████| 128/128 [3.9s elapsed, 0s remaining, 37.7 samples/s]       \n"
     ]
    },
    {
     "name": "stderr",
     "output_type": "stream",
     "text": [
      " 30%|███       | 339/1128 [32:36<49:04,  3.73s/it]"
     ]
    },
    {
     "name": "stdout",
     "output_type": "stream",
     "text": [
      "No `images_dir` provided. Images will be unpacked to '/opt/project/data/TCGA-AR-A1AN/10-14-2001-NA-MRI - BREAST-21682/1.000000-SCOUT-75886'\n",
      "Ignoring unsupported parameter 'overwrite' for importer type <class 'fiftyone.utils.dicom.DICOMDatasetImporter'>\n",
      " 100% |███████████████████| 45/45 [1.9s elapsed, 0s remaining, 23.4 samples/s]      \n"
     ]
    },
    {
     "name": "stderr",
     "output_type": "stream",
     "text": [
      " 30%|███       | 340/1128 [32:39<43:08,  3.29s/it]"
     ]
    },
    {
     "name": "stdout",
     "output_type": "stream",
     "text": [
      "No `images_dir` provided. Images will be unpacked to '/opt/project/data/TCGA-AO-A12E/02-01-2000-NA-NA-34890/113.000000-NA-02309'\n",
      "Ignoring unsupported parameter 'overwrite' for importer type <class 'fiftyone.utils.dicom.DICOMDatasetImporter'>\n",
      " 100% |███████████████████| 56/56 [1.7s elapsed, 0s remaining, 32.8 samples/s]      \n"
     ]
    },
    {
     "name": "stderr",
     "output_type": "stream",
     "text": [
      " 30%|███       | 341/1128 [32:41<38:40,  2.95s/it]"
     ]
    },
    {
     "name": "stdout",
     "output_type": "stream",
     "text": [
      "No `images_dir` provided. Images will be unpacked to '/opt/project/data/TCGA-BH-A0H6/02-03-2002-NA-MRI BREAST-85463/5.000000-Sag Vibrant C-68236'\n",
      "Ignoring unsupported parameter 'overwrite' for importer type <class 'fiftyone.utils.dicom.DICOMDatasetImporter'>\n",
      " 100% |█████████████████| 148/148 [4.5s elapsed, 0s remaining, 37.4 samples/s]       \n"
     ]
    },
    {
     "name": "stderr",
     "output_type": "stream",
     "text": [
      " 30%|███       | 342/1128 [32:46<47:21,  3.62s/it]"
     ]
    },
    {
     "name": "stdout",
     "output_type": "stream",
     "text": [
      "No `images_dir` provided. Images will be unpacked to '/opt/project/data/TCGA-E2-A1LG/11-06-2002-NA-MR BREAST BILATERAL WWO CONT-85265/12.000000-SAG 3D PRE-CONTRAST-10247'\n",
      "Ignoring unsupported parameter 'overwrite' for importer type <class 'fiftyone.utils.dicom.DICOMDatasetImporter'>\n",
      " 100% |█████████████████| 136/136 [5.4s elapsed, 0s remaining, 30.9 samples/s]       \n"
     ]
    },
    {
     "name": "stderr",
     "output_type": "stream",
     "text": [
      " 30%|███       | 343/1128 [32:52<56:26,  4.31s/it]"
     ]
    },
    {
     "name": "stdout",
     "output_type": "stream",
     "text": [
      "No `images_dir` provided. Images will be unpacked to '/opt/project/data/TCGA-E2-A15E/04-06-2002-NA-MR BREAST BILATERAL WWO CONT-26083/1.000000-3-PLANE LOCALIZER-95915'\n",
      "Ignoring unsupported parameter 'overwrite' for importer type <class 'fiftyone.utils.dicom.DICOMDatasetImporter'>\n",
      " 100% |███████████████████| 63/63 [2.3s elapsed, 0s remaining, 35.9 samples/s]      \n"
     ]
    },
    {
     "name": "stderr",
     "output_type": "stream",
     "text": [
      " 30%|███       | 344/1128 [32:54<49:47,  3.81s/it]"
     ]
    },
    {
     "name": "stdout",
     "output_type": "stream",
     "text": [
      "No `images_dir` provided. Images will be unpacked to '/opt/project/data/TCGA-E2-A1L7/12-29-2001-NA-MR BREAST BILATERAL WWO CONT-27861/4.000000-SAG T2 FAT-SAT RIGHT-37235'\n",
      "Ignoring unsupported parameter 'overwrite' for importer type <class 'fiftyone.utils.dicom.DICOMDatasetImporter'>\n",
      " 100% |███████████████████| 52/52 [2.1s elapsed, 0s remaining, 24.7 samples/s]      \n"
     ]
    },
    {
     "name": "stderr",
     "output_type": "stream",
     "text": [
      " 31%|███       | 345/1128 [32:57<44:15,  3.39s/it]"
     ]
    },
    {
     "name": "stdout",
     "output_type": "stream",
     "text": [
      "No `images_dir` provided. Images will be unpacked to '/opt/project/data/TCGA-BH-A0DX/11-21-2000-NA-BREAST MRI-01298/2000.000000-CAD MIP Collection-11497'\n",
      "Ignoring unsupported parameter 'overwrite' for importer type <class 'fiftyone.utils.dicom.DICOMDatasetImporter'>\n",
      " 100% |███████████████████| 45/45 [2.0s elapsed, 0s remaining, 22.6 samples/s]      \n"
     ]
    },
    {
     "name": "stderr",
     "output_type": "stream",
     "text": [
      " 31%|███       | 346/1128 [32:59<40:15,  3.09s/it]"
     ]
    },
    {
     "name": "stdout",
     "output_type": "stream",
     "text": [
      "No `images_dir` provided. Images will be unpacked to '/opt/project/data/TCGA-BH-A0DV/11-29-2000-NA-BREAST MRI-88132/102.000000-CAD REG CAD Sub 3-14829'\n",
      "Ignoring unsupported parameter 'overwrite' for importer type <class 'fiftyone.utils.dicom.DICOMDatasetImporter'>\n",
      " 100% |███████████████████| 82/82 [2.9s elapsed, 0s remaining, 34.1 samples/s]      \n"
     ]
    },
    {
     "name": "stderr",
     "output_type": "stream",
     "text": [
      " 31%|███       | 347/1128 [33:03<41:12,  3.17s/it]"
     ]
    },
    {
     "name": "stdout",
     "output_type": "stream",
     "text": [
      "No `images_dir` provided. Images will be unpacked to '/opt/project/data/TCGA-BH-A0DH/01-09-2001-NA-BREAST MRI-58184/103.000000-CAD REG CAD Sub 4-89185'\n",
      "Ignoring unsupported parameter 'overwrite' for importer type <class 'fiftyone.utils.dicom.DICOMDatasetImporter'>\n",
      " 100% |███████████████████| 96/96 [3.2s elapsed, 0s remaining, 36.8 samples/s]      \n"
     ]
    },
    {
     "name": "stderr",
     "output_type": "stream",
     "text": [
      " 31%|███       | 348/1128 [33:06<42:49,  3.29s/it]"
     ]
    },
    {
     "name": "stdout",
     "output_type": "stream",
     "text": [
      "No `images_dir` provided. Images will be unpacked to '/opt/project/data/TCGA-BH-A0HA/11-17-2001-NA-BREAST MRI-26938/101.000000-CAD sub 4-59325'\n",
      "Ignoring unsupported parameter 'overwrite' for importer type <class 'fiftyone.utils.dicom.DICOMDatasetImporter'>\n",
      " 100% |███████████████████| 92/92 [3.0s elapsed, 0s remaining, 38.3 samples/s]      \n"
     ]
    },
    {
     "name": "stderr",
     "output_type": "stream",
     "text": [
      " 31%|███       | 349/1128 [33:10<43:07,  3.32s/it]"
     ]
    },
    {
     "name": "stdout",
     "output_type": "stream",
     "text": [
      "No `images_dir` provided. Images will be unpacked to '/opt/project/data/TCGA-BH-A0W5/07-25-2001-NA-MRI BREAST-10788/2000.000000-CAD MIP-37131'\n",
      "Ignoring unsupported parameter 'overwrite' for importer type <class 'fiftyone.utils.dicom.DICOMDatasetImporter'>\n",
      " 100% |███████████████████| 45/45 [1.9s elapsed, 0s remaining, 23.8 samples/s]      \n"
     ]
    },
    {
     "name": "stderr",
     "output_type": "stream",
     "text": [
      " 31%|███       | 350/1128 [33:12<38:40,  2.98s/it]"
     ]
    },
    {
     "name": "stdout",
     "output_type": "stream",
     "text": [
      "No `images_dir` provided. Images will be unpacked to '/opt/project/data/TCGA-E2-A14T/03-15-2001-NA-MR BREAST BILATERAL WWO CONT-93911/8.000000-SAG T2 FAT-SAT LEFT-95401'\n",
      "Ignoring unsupported parameter 'overwrite' for importer type <class 'fiftyone.utils.dicom.DICOMDatasetImporter'>\n",
      " 100% |███████████████████| 74/74 [2.4s elapsed, 0s remaining, 40.4 samples/s]      \n"
     ]
    },
    {
     "name": "stderr",
     "output_type": "stream",
     "text": [
      " 31%|███       | 351/1128 [33:14<37:42,  2.91s/it]"
     ]
    },
    {
     "name": "stdout",
     "output_type": "stream",
     "text": [
      "No `images_dir` provided. Images will be unpacked to '/opt/project/data/TCGA-AO-A0JM/09-15-1999-NA-NA-59814/105.000000-NA-69729'\n",
      "Ignoring unsupported parameter 'overwrite' for importer type <class 'fiftyone.utils.dicom.DICOMDatasetImporter'>\n",
      " 100% |███████████████████| 51/51 [1.8s elapsed, 0s remaining, 29.0 samples/s]      \n"
     ]
    },
    {
     "name": "stderr",
     "output_type": "stream",
     "text": [
      " 31%|███       | 352/1128 [33:17<34:45,  2.69s/it]"
     ]
    },
    {
     "name": "stdout",
     "output_type": "stream",
     "text": [
      "No `images_dir` provided. Images will be unpacked to '/opt/project/data/TCGA-E2-A15M/08-11-2002-NA-MR BREAST BILATERAL WWO CONT-35322/3.000000-SAG T2 FAT-SAT LEFT-69480'\n",
      "Ignoring unsupported parameter 'overwrite' for importer type <class 'fiftyone.utils.dicom.DICOMDatasetImporter'>\n",
      " 100% |███████████████████| 56/56 [2.2s elapsed, 0s remaining, 25.2 samples/s]      \n"
     ]
    },
    {
     "name": "stderr",
     "output_type": "stream",
     "text": [
      " 31%|███▏      | 353/1128 [33:19<34:11,  2.65s/it]"
     ]
    },
    {
     "name": "stdout",
     "output_type": "stream",
     "text": [
      "No `images_dir` provided. Images will be unpacked to '/opt/project/data/TCGA-AO-A0JM/09-15-1999-NA-NA-59814/107.000000-NA-98473'\n",
      "Ignoring unsupported parameter 'overwrite' for importer type <class 'fiftyone.utils.dicom.DICOMDatasetImporter'>\n",
      " 100% |███████████████████| 51/51 [1.7s elapsed, 0s remaining, 29.5 samples/s]      \n"
     ]
    },
    {
     "name": "stderr",
     "output_type": "stream",
     "text": [
      " 31%|███▏      | 354/1128 [33:21<31:41,  2.46s/it]"
     ]
    },
    {
     "name": "stdout",
     "output_type": "stream",
     "text": [
      "No `images_dir` provided. Images will be unpacked to '/opt/project/data/TCGA-AO-A12F/10-16-2000-NA-NA-19596/115.000000-564710552-564710352-18298'\n",
      "Ignoring unsupported parameter 'overwrite' for importer type <class 'fiftyone.utils.dicom.DICOMDatasetImporter'>\n",
      " 100% |███████████████████| 52/52 [1.6s elapsed, 0s remaining, 31.6 samples/s]      \n"
     ]
    },
    {
     "name": "stderr",
     "output_type": "stream",
     "text": [
      " 31%|███▏      | 355/1128 [33:23<29:35,  2.30s/it]"
     ]
    },
    {
     "name": "stdout",
     "output_type": "stream",
     "text": [
      "No `images_dir` provided. Images will be unpacked to '/opt/project/data/TCGA-BH-A0DT/10-29-2000-NA-BREAST MRI-03753/103.000000-CAD REG CAD Sub 4-21922'\n",
      "Ignoring unsupported parameter 'overwrite' for importer type <class 'fiftyone.utils.dicom.DICOMDatasetImporter'>\n",
      " 100% |███████████████████| 78/78 [2.4s elapsed, 0s remaining, 41.5 samples/s]      \n"
     ]
    },
    {
     "name": "stderr",
     "output_type": "stream",
     "text": [
      " 32%|███▏      | 356/1128 [33:26<31:17,  2.43s/it]"
     ]
    },
    {
     "name": "stdout",
     "output_type": "stream",
     "text": [
      "No `images_dir` provided. Images will be unpacked to '/opt/project/data/TCGA-E2-A1IK/05-04-2002-NA-MR BREAST BILATERAL WWO CONT-09734/2.000000-SAG T1 PRE-53369'\n",
      "Ignoring unsupported parameter 'overwrite' for importer type <class 'fiftyone.utils.dicom.DICOMDatasetImporter'>\n",
      " 100% |█████████████████| 100/100 [2.8s elapsed, 0s remaining, 44.5 samples/s]      \n"
     ]
    },
    {
     "name": "stderr",
     "output_type": "stream",
     "text": [
      " 32%|███▏      | 357/1128 [33:29<34:07,  2.66s/it]"
     ]
    },
    {
     "name": "stdout",
     "output_type": "stream",
     "text": [
      "No `images_dir` provided. Images will be unpacked to '/opt/project/data/TCGA-AR-A1AX/09-24-2003-NA-MRI BREAST BILATERAL-61364/4.000000-b800-39010'\n",
      "Ignoring unsupported parameter 'overwrite' for importer type <class 'fiftyone.utils.dicom.DICOMDatasetImporter'>\n",
      " 100% |███████████████████| 64/64 [2.0s elapsed, 0s remaining, 32.0 samples/s]      \n"
     ]
    },
    {
     "name": "stderr",
     "output_type": "stream",
     "text": [
      " 32%|███▏      | 358/1128 [33:31<32:48,  2.56s/it]"
     ]
    },
    {
     "name": "stdout",
     "output_type": "stream",
     "text": [
      "No `images_dir` provided. Images will be unpacked to '/opt/project/data/TCGA-E2-A14Y/10-03-2001-NA-MR BREAST BILATERAL WWO CONT-22306/3.000000-SAG T2 FAT-SAT LEFT-28676'\n",
      "Ignoring unsupported parameter 'overwrite' for importer type <class 'fiftyone.utils.dicom.DICOMDatasetImporter'>\n",
      " 100% |███████████████████| 44/44 [1.7s elapsed, 0s remaining, 25.8 samples/s]      \n"
     ]
    },
    {
     "name": "stderr",
     "output_type": "stream",
     "text": [
      " 32%|███▏      | 359/1128 [33:33<30:30,  2.38s/it]"
     ]
    },
    {
     "name": "stdout",
     "output_type": "stream",
     "text": [
      "No `images_dir` provided. Images will be unpacked to '/opt/project/data/TCGA-BH-A0DH/01-09-2001-NA-BREAST MRI-58184/2000.000000-CAD MIP Collection-82115'\n",
      "Ignoring unsupported parameter 'overwrite' for importer type <class 'fiftyone.utils.dicom.DICOMDatasetImporter'>\n",
      " 100% |███████████████████| 45/45 [1.7s elapsed, 0s remaining, 26.5 samples/s]      \n"
     ]
    },
    {
     "name": "stderr",
     "output_type": "stream",
     "text": [
      " 32%|███▏      | 360/1128 [33:35<28:47,  2.25s/it]"
     ]
    },
    {
     "name": "stdout",
     "output_type": "stream",
     "text": [
      "No `images_dir` provided. Images will be unpacked to '/opt/project/data/TCGA-AO-A0JM/09-15-1999-NA-NA-59814/110.000000-42510445-42510245-59482'\n",
      "Ignoring unsupported parameter 'overwrite' for importer type <class 'fiftyone.utils.dicom.DICOMDatasetImporter'>\n",
      " 100% |███████████████████| 45/45 [1.5s elapsed, 0s remaining, 29.7 samples/s]      \n"
     ]
    },
    {
     "name": "stderr",
     "output_type": "stream",
     "text": [
      " 32%|███▏      | 361/1128 [33:37<26:57,  2.11s/it]"
     ]
    },
    {
     "name": "stdout",
     "output_type": "stream",
     "text": [
      "No `images_dir` provided. Images will be unpacked to '/opt/project/data/TCGA-BH-A0H9/09-25-2000-NA-BREAST MRI-55072/102.000000-CAD REG CAD Sub 3-88847'\n",
      "Ignoring unsupported parameter 'overwrite' for importer type <class 'fiftyone.utils.dicom.DICOMDatasetImporter'>\n",
      " 100% |███████████████████| 70/70 [2.2s elapsed, 0s remaining, 41.4 samples/s]      \n"
     ]
    },
    {
     "name": "stderr",
     "output_type": "stream",
     "text": [
      " 32%|███▏      | 362/1128 [33:40<28:30,  2.23s/it]"
     ]
    },
    {
     "name": "stdout",
     "output_type": "stream",
     "text": [
      "No `images_dir` provided. Images will be unpacked to '/opt/project/data/TCGA-E2-A1LG/11-06-2002-NA-MR BREAST BILATERAL WWO CONT-85265/11.000000-ASSET CALIBRATION 512-26384'\n",
      "Ignoring unsupported parameter 'overwrite' for importer type <class 'fiftyone.utils.dicom.DICOMDatasetImporter'>\n",
      " 100% |███████████████████| 94/94 [2.4s elapsed, 0s remaining, 51.0 samples/s]      \n"
     ]
    },
    {
     "name": "stderr",
     "output_type": "stream",
     "text": [
      " 32%|███▏      | 363/1128 [33:42<30:22,  2.38s/it]"
     ]
    },
    {
     "name": "stdout",
     "output_type": "stream",
     "text": [
      "No `images_dir` provided. Images will be unpacked to '/opt/project/data/TCGA-BH-A0HX/11-13-2001-NA-BIOPSY-21222/2.000000-Calibration Scan-56433'\n",
      "Ignoring unsupported parameter 'overwrite' for importer type <class 'fiftyone.utils.dicom.DICOMDatasetImporter'>\n",
      " 100% |███████████████████| 92/92 [2.4s elapsed, 0s remaining, 47.9 samples/s]      \n"
     ]
    },
    {
     "name": "stderr",
     "output_type": "stream",
     "text": [
      " 32%|███▏      | 364/1128 [33:45<32:07,  2.52s/it]"
     ]
    },
    {
     "name": "stdout",
     "output_type": "stream",
     "text": [
      "No `images_dir` provided. Images will be unpacked to '/opt/project/data/TCGA-AO-A12F/10-16-2000-NA-NA-19596/118.000000-PJN-93400'\n",
      "Ignoring unsupported parameter 'overwrite' for importer type <class 'fiftyone.utils.dicom.DICOMDatasetImporter'>\n",
      " 100% |███████████████████| 16/16 [851.6ms elapsed, 0s remaining, 18.8 samples/s]      \n"
     ]
    },
    {
     "name": "stderr",
     "output_type": "stream",
     "text": [
      " 32%|███▏      | 365/1128 [33:46<26:23,  2.07s/it]"
     ]
    },
    {
     "name": "stdout",
     "output_type": "stream",
     "text": [
      "No `images_dir` provided. Images will be unpacked to '/opt/project/data/TCGA-BH-A0AZ/01-09-2002-NA-BREAST MRI-21010/4.000000-Ax Vibrant MULTIPHASE-19954'\n",
      "Ignoring unsupported parameter 'overwrite' for importer type <class 'fiftyone.utils.dicom.DICOMDatasetImporter'>\n",
      " 100% |█████████████████| 410/410 [11.2s elapsed, 0s remaining, 36.0 samples/s]      \n"
     ]
    },
    {
     "name": "stderr",
     "output_type": "stream",
     "text": [
      " 32%|███▏      | 366/1128 [33:59<1:05:42,  5.17s/it]"
     ]
    },
    {
     "name": "stdout",
     "output_type": "stream",
     "text": [
      "No `images_dir` provided. Images will be unpacked to '/opt/project/data/TCGA-BH-A201/05-11-2004-NA-BREAST MRI-49157/1.000000-3 plane loc-70692'\n",
      "Ignoring unsupported parameter 'overwrite' for importer type <class 'fiftyone.utils.dicom.DICOMDatasetImporter'>\n",
      " 100% |███████████████████| 29/29 [1.1s elapsed, 0s remaining, 25.2 samples/s]         \n"
     ]
    },
    {
     "name": "stderr",
     "output_type": "stream",
     "text": [
      " 33%|███▎      | 367/1128 [34:00<51:10,  4.03s/it]  "
     ]
    },
    {
     "name": "stdout",
     "output_type": "stream",
     "text": [
      "No `images_dir` provided. Images will be unpacked to '/opt/project/data/TCGA-E2-A10F/02-21-2001-NA-MR BREAST BILATERAL WWO CONT-16473/3.000000-SAG T1 PRE-88262'\n",
      "Ignoring unsupported parameter 'overwrite' for importer type <class 'fiftyone.utils.dicom.DICOMDatasetImporter'>\n",
      " 100% |███████████████████| 92/92 [2.8s elapsed, 0s remaining, 38.0 samples/s]      \n"
     ]
    },
    {
     "name": "stderr",
     "output_type": "stream",
     "text": [
      " 33%|███▎      | 368/1128 [34:03<47:57,  3.79s/it]"
     ]
    },
    {
     "name": "stdout",
     "output_type": "stream",
     "text": [
      "No `images_dir` provided. Images will be unpacked to '/opt/project/data/TCGA-BH-A28Q/01-26-2004-NA-BREAST MRI-39143/105.000000-CAD sub 1-38852'\n",
      "Ignoring unsupported parameter 'overwrite' for importer type <class 'fiftyone.utils.dicom.DICOMDatasetImporter'>\n",
      " 100% |███████████████████| 74/74 [2.3s elapsed, 0s remaining, 40.3 samples/s]      \n"
     ]
    },
    {
     "name": "stderr",
     "output_type": "stream",
     "text": [
      " 33%|███▎      | 369/1128 [34:06<43:36,  3.45s/it]"
     ]
    },
    {
     "name": "stdout",
     "output_type": "stream",
     "text": [
      "No `images_dir` provided. Images will be unpacked to '/opt/project/data/TCGA-BH-A0BQ/04-25-2000-NA-BREAST MRI-78053/201.000000-CAD SAG REF-70456'\n",
      "Ignoring unsupported parameter 'overwrite' for importer type <class 'fiftyone.utils.dicom.DICOMDatasetImporter'>\n",
      " 100% |███████████████████| 94/94 [2.7s elapsed, 0s remaining, 43.6 samples/s]      \n"
     ]
    },
    {
     "name": "stderr",
     "output_type": "stream",
     "text": [
      " 33%|███▎      | 370/1128 [34:09<42:28,  3.36s/it]"
     ]
    },
    {
     "name": "stdout",
     "output_type": "stream",
     "text": [
      "No `images_dir` provided. Images will be unpacked to '/opt/project/data/TCGA-BH-A0DT/10-29-2000-NA-BREAST MRI-03753/5.000000-Ax Vibrant MULTIPHASE-68936'\n",
      "Ignoring unsupported parameter 'overwrite' for importer type <class 'fiftyone.utils.dicom.DICOMDatasetImporter'>\n",
      " 100% |█████████████████| 390/390 [10.8s elapsed, 0s remaining, 38.0 samples/s]      \n"
     ]
    },
    {
     "name": "stderr",
     "output_type": "stream",
     "text": [
      " 33%|███▎      | 371/1128 [34:21<1:14:34,  5.91s/it]"
     ]
    },
    {
     "name": "stdout",
     "output_type": "stream",
     "text": [
      "No `images_dir` provided. Images will be unpacked to '/opt/project/data/TCGA-BH-A0BM/09-03-2000-NA-BREAST MRI-42240/2000.000000-CAD MIP Collection-42019'\n",
      "Ignoring unsupported parameter 'overwrite' for importer type <class 'fiftyone.utils.dicom.DICOMDatasetImporter'>\n",
      " 100% |███████████████████| 45/45 [1.7s elapsed, 0s remaining, 26.8 samples/s]      \n"
     ]
    },
    {
     "name": "stderr",
     "output_type": "stream",
     "text": [
      " 33%|███▎      | 372/1128 [34:23<59:27,  4.72s/it]  "
     ]
    },
    {
     "name": "stdout",
     "output_type": "stream",
     "text": [
      "No `images_dir` provided. Images will be unpacked to '/opt/project/data/TCGA-BH-A0EI/02-25-2002-NA-BIOPSY-25384/2.000000-Calibration Scan-78786'\n",
      "Ignoring unsupported parameter 'overwrite' for importer type <class 'fiftyone.utils.dicom.DICOMDatasetImporter'>\n",
      " 100% |███████████████████| 92/92 [2.4s elapsed, 0s remaining, 47.4 samples/s]      \n"
     ]
    },
    {
     "name": "stderr",
     "output_type": "stream",
     "text": [
      " 33%|███▎      | 373/1128 [34:26<52:10,  4.15s/it]"
     ]
    },
    {
     "name": "stdout",
     "output_type": "stream",
     "text": [
      "No `images_dir` provided. Images will be unpacked to '/opt/project/data/TCGA-BH-A0H5/06-20-2001-NA-BREAST MRI-23793/202.000000-CAD cor reformat-54371'\n",
      "Ignoring unsupported parameter 'overwrite' for importer type <class 'fiftyone.utils.dicom.DICOMDatasetImporter'>\n",
      " 100% |█████████████████| 145/145 [3.9s elapsed, 0s remaining, 40.1 samples/s]       \n"
     ]
    },
    {
     "name": "stderr",
     "output_type": "stream",
     "text": [
      " 33%|███▎      | 374/1128 [34:30<53:15,  4.24s/it]"
     ]
    },
    {
     "name": "stdout",
     "output_type": "stream",
     "text": [
      "No `images_dir` provided. Images will be unpacked to '/opt/project/data/TCGA-E2-A159/02-10-2002-NA-MR BREAST BILATERAL WWO CONT-48613/1.000000-3-PLANE LOCALIZER-52946'\n",
      "Ignoring unsupported parameter 'overwrite' for importer type <class 'fiftyone.utils.dicom.DICOMDatasetImporter'>\n",
      " 100% |███████████████████| 45/45 [1.6s elapsed, 0s remaining, 28.8 samples/s]      \n"
     ]
    },
    {
     "name": "stderr",
     "output_type": "stream",
     "text": [
      " 33%|███▎      | 375/1128 [34:32<44:18,  3.53s/it]"
     ]
    },
    {
     "name": "stdout",
     "output_type": "stream",
     "text": [
      "No `images_dir` provided. Images will be unpacked to '/opt/project/data/TCGA-E2-A1IG/09-01-2001-NA-MR BREAST BILATERAL WWO CONT-98834/3.000000-SAG T2 FAT-SAT LEFT-82689'\n",
      "Ignoring unsupported parameter 'overwrite' for importer type <class 'fiftyone.utils.dicom.DICOMDatasetImporter'>\n",
      " 100% |███████████████████| 44/44 [1.7s elapsed, 0s remaining, 25.5 samples/s]      \n"
     ]
    },
    {
     "name": "stderr",
     "output_type": "stream",
     "text": [
      " 33%|███▎      | 376/1128 [34:34<38:30,  3.07s/it]"
     ]
    },
    {
     "name": "stdout",
     "output_type": "stream",
     "text": [
      "No `images_dir` provided. Images will be unpacked to '/opt/project/data/TCGA-BH-A0HI/03-14-2002-NA-BREAST MRI-85477/200.000000-CAD sag reformat-21122'\n",
      "Ignoring unsupported parameter 'overwrite' for importer type <class 'fiftyone.utils.dicom.DICOMDatasetImporter'>\n",
      " 100% |█████████████████| 171/171 [4.2s elapsed, 0s remaining, 46.0 samples/s]       \n"
     ]
    },
    {
     "name": "stderr",
     "output_type": "stream",
     "text": [
      " 33%|███▎      | 377/1128 [34:39<44:59,  3.59s/it]"
     ]
    },
    {
     "name": "stdout",
     "output_type": "stream",
     "text": [
      "No `images_dir` provided. Images will be unpacked to '/opt/project/data/TCGA-AR-A1AN/10-14-2001-NA-MRI - BREAST-21682/2.000000-ax t1-00708'\n",
      "Ignoring unsupported parameter 'overwrite' for importer type <class 'fiftyone.utils.dicom.DICOMDatasetImporter'>\n",
      " 100% |███████████████████| 40/40 [1.6s elapsed, 0s remaining, 25.1 samples/s]      \n"
     ]
    },
    {
     "name": "stderr",
     "output_type": "stream",
     "text": [
      " 34%|███▎      | 378/1128 [34:41<38:25,  3.07s/it]"
     ]
    },
    {
     "name": "stdout",
     "output_type": "stream",
     "text": [
      "No `images_dir` provided. Images will be unpacked to '/opt/project/data/TCGA-E2-A1II/03-29-2001-NA-MR BREAST BILATERAL WWO CONT-41862/10.000000-SAG 3D POST-CONTRAST-78582'\n",
      "Ignoring unsupported parameter 'overwrite' for importer type <class 'fiftyone.utils.dicom.DICOMDatasetImporter'>\n",
      " 100% |█████████████████| 468/468 [10.8s elapsed, 0s remaining, 45.2 samples/s]      \n"
     ]
    },
    {
     "name": "stderr",
     "output_type": "stream",
     "text": [
      " 34%|███▎      | 379/1128 [34:53<1:12:30,  5.81s/it]"
     ]
    },
    {
     "name": "stdout",
     "output_type": "stream",
     "text": [
      "No `images_dir` provided. Images will be unpacked to '/opt/project/data/TCGA-BH-A0RX/09-02-2003-NA-BREAST MRI-73444/202.000000-CAD cor reformat-31300'\n",
      "Ignoring unsupported parameter 'overwrite' for importer type <class 'fiftyone.utils.dicom.DICOMDatasetImporter'>\n",
      " 100% |█████████████████| 160/160 [4.2s elapsed, 0s remaining, 42.4 samples/s]       \n"
     ]
    },
    {
     "name": "stderr",
     "output_type": "stream",
     "text": [
      " 34%|███▎      | 380/1128 [34:58<1:08:28,  5.49s/it]"
     ]
    },
    {
     "name": "stdout",
     "output_type": "stream",
     "text": [
      "No `images_dir` provided. Images will be unpacked to '/opt/project/data/TCGA-E2-A14T/03-15-2001-NA-MR BREAST BILATERAL WWO CONT-93911/9.000000-SAG T2 FAT-SAT RIGHT-36998'\n",
      "Ignoring unsupported parameter 'overwrite' for importer type <class 'fiftyone.utils.dicom.DICOMDatasetImporter'>\n",
      " 100% |███████████████████| 72/72 [2.2s elapsed, 0s remaining, 42.0 samples/s]      \n"
     ]
    },
    {
     "name": "stderr",
     "output_type": "stream",
     "text": [
      " 34%|███▍      | 381/1128 [35:00<57:19,  4.60s/it]  "
     ]
    },
    {
     "name": "stdout",
     "output_type": "stream",
     "text": [
      "No `images_dir` provided. Images will be unpacked to '/opt/project/data/TCGA-AO-A12G/03-29-2001-NA-NA-34806/104.000000-T1 Sagittal post fat sat-11117'\n",
      "Ignoring unsupported parameter 'overwrite' for importer type <class 'fiftyone.utils.dicom.DICOMDatasetImporter'>\n",
      " 100% |███████████████████| 39/39 [1.3s elapsed, 0s remaining, 29.0 samples/s]      \n"
     ]
    },
    {
     "name": "stderr",
     "output_type": "stream",
     "text": [
      " 34%|███▍      | 382/1128 [35:02<46:02,  3.70s/it]"
     ]
    },
    {
     "name": "stdout",
     "output_type": "stream",
     "text": [
      "No `images_dir` provided. Images will be unpacked to '/opt/project/data/TCGA-BH-A201/05-11-2004-NA-BREAST MRI-49157/5.000000-Sag Vibrant C-79010'\n",
      "Ignoring unsupported parameter 'overwrite' for importer type <class 'fiftyone.utils.dicom.DICOMDatasetImporter'>\n",
      " 100% |█████████████████| 148/148 [4.4s elapsed, 0s remaining, 38.2 samples/s]       \n"
     ]
    },
    {
     "name": "stderr",
     "output_type": "stream",
     "text": [
      " 34%|███▍      | 383/1128 [35:07<51:13,  4.13s/it]"
     ]
    },
    {
     "name": "stdout",
     "output_type": "stream",
     "text": [
      "No `images_dir` provided. Images will be unpacked to '/opt/project/data/TCGA-BH-A0W3/10-12-2003-NA-BREAST MRI-09153/101.000000-CAD sub 4-15820'\n",
      "Ignoring unsupported parameter 'overwrite' for importer type <class 'fiftyone.utils.dicom.DICOMDatasetImporter'>\n",
      " 100% |███████████████████| 94/94 [2.8s elapsed, 0s remaining, 41.8 samples/s]      \n"
     ]
    },
    {
     "name": "stderr",
     "output_type": "stream",
     "text": [
      " 34%|███▍      | 384/1128 [35:10<47:29,  3.83s/it]"
     ]
    },
    {
     "name": "stdout",
     "output_type": "stream",
     "text": [
      "No `images_dir` provided. Images will be unpacked to '/opt/project/data/TCGA-E2-A1L7/12-29-2001-NA-MR BREAST BILATERAL WWO CONT-27861/6.000000-SAG 3D PRE-CONTRAST-01552'\n",
      "Ignoring unsupported parameter 'overwrite' for importer type <class 'fiftyone.utils.dicom.DICOMDatasetImporter'>\n",
      " 100% |█████████████████| 136/136 [3.5s elapsed, 0s remaining, 46.0 samples/s]       \n"
     ]
    },
    {
     "name": "stderr",
     "output_type": "stream",
     "text": [
      " 34%|███▍      | 385/1128 [35:14<48:16,  3.90s/it]"
     ]
    },
    {
     "name": "stdout",
     "output_type": "stream",
     "text": [
      "No `images_dir` provided. Images will be unpacked to '/opt/project/data/TCGA-AO-A12D/09-23-1999-NA-NA-51146/3.000000-T2 right breast-70862'\n",
      "Ignoring unsupported parameter 'overwrite' for importer type <class 'fiftyone.utils.dicom.DICOMDatasetImporter'>\n",
      " 100% |███████████████████| 42/42 [1.4s elapsed, 0s remaining, 30.6 samples/s]      \n"
     ]
    },
    {
     "name": "stderr",
     "output_type": "stream",
     "text": [
      " 34%|███▍      | 386/1128 [35:16<39:47,  3.22s/it]"
     ]
    },
    {
     "name": "stdout",
     "output_type": "stream",
     "text": [
      "No `images_dir` provided. Images will be unpacked to '/opt/project/data/TCGA-AR-A1AQ/11-21-2001-NA-MRI - BREAST-98628/104.000000-161398448-161398100-48508'\n",
      "Ignoring unsupported parameter 'overwrite' for importer type <class 'fiftyone.utils.dicom.DICOMDatasetImporter'>\n",
      " 100% |█████████████████| 116/116 [2.7s elapsed, 0s remaining, 51.4 samples/s]      \n"
     ]
    },
    {
     "name": "stderr",
     "output_type": "stream",
     "text": [
      " 34%|███▍      | 387/1128 [35:19<39:33,  3.20s/it]"
     ]
    },
    {
     "name": "stdout",
     "output_type": "stream",
     "text": [
      "No `images_dir` provided. Images will be unpacked to '/opt/project/data/TCGA-E2-A1LG/11-06-2002-NA-MR BREAST BILATERAL WWO CONT-85265/10.000000-SAG 3D PRE-CONTRAST-97188'\n",
      "Ignoring unsupported parameter 'overwrite' for importer type <class 'fiftyone.utils.dicom.DICOMDatasetImporter'>\n",
      " 100% |█████████████████| 136/136 [4.1s elapsed, 0s remaining, 36.2 samples/s]       \n"
     ]
    },
    {
     "name": "stderr",
     "output_type": "stream",
     "text": [
      " 34%|███▍      | 388/1128 [35:23<44:54,  3.64s/it]"
     ]
    },
    {
     "name": "stdout",
     "output_type": "stream",
     "text": [
      "No `images_dir` provided. Images will be unpacked to '/opt/project/data/TCGA-AO-A0JM/09-15-1999-NA-NA-59814/113.000000-PJN-40189'\n",
      "Ignoring unsupported parameter 'overwrite' for importer type <class 'fiftyone.utils.dicom.DICOMDatasetImporter'>\n",
      " 100% |███████████████████| 16/16 [850.4ms elapsed, 0s remaining, 18.9 samples/s]      \n"
     ]
    },
    {
     "name": "stderr",
     "output_type": "stream",
     "text": [
      " 34%|███▍      | 389/1128 [35:25<35:11,  2.86s/it]"
     ]
    },
    {
     "name": "stdout",
     "output_type": "stream",
     "text": [
      "No `images_dir` provided. Images will be unpacked to '/opt/project/data/TCGA-BH-A0BQ/04-25-2000-NA-BREAST MRI-78053/200.000000-CAD COR REF-72415'\n",
      "Ignoring unsupported parameter 'overwrite' for importer type <class 'fiftyone.utils.dicom.DICOMDatasetImporter'>\n",
      " 100% |███████████████████| 94/94 [2.6s elapsed, 0s remaining, 43.3 samples/s]      \n"
     ]
    },
    {
     "name": "stderr",
     "output_type": "stream",
     "text": [
      " 35%|███▍      | 390/1128 [35:28<35:45,  2.91s/it]"
     ]
    },
    {
     "name": "stdout",
     "output_type": "stream",
     "text": [
      "No `images_dir` provided. Images will be unpacked to '/opt/project/data/TCGA-BH-A0AW/02-19-2002-NA-BREAST MRI-78041/2.000000-Calibration Scan-99717'\n",
      "Ignoring unsupported parameter 'overwrite' for importer type <class 'fiftyone.utils.dicom.DICOMDatasetImporter'>\n",
      " 100% |███████████████████| 92/92 [2.4s elapsed, 0s remaining, 48.2 samples/s]      \n"
     ]
    },
    {
     "name": "stderr",
     "output_type": "stream",
     "text": [
      " 35%|███▍      | 391/1128 [35:30<35:17,  2.87s/it]"
     ]
    },
    {
     "name": "stdout",
     "output_type": "stream",
     "text": [
      "No `images_dir` provided. Images will be unpacked to '/opt/project/data/TCGA-BH-A0DT/10-29-2000-NA-BREAST MRI-03753/200.000000-CAD COR REF-85180'\n",
      "Ignoring unsupported parameter 'overwrite' for importer type <class 'fiftyone.utils.dicom.DICOMDatasetImporter'>\n",
      " 100% |███████████████████| 97/97 [2.7s elapsed, 0s remaining, 43.8 samples/s]      \n"
     ]
    },
    {
     "name": "stderr",
     "output_type": "stream",
     "text": [
      " 35%|███▍      | 392/1128 [35:33<36:06,  2.94s/it]"
     ]
    },
    {
     "name": "stdout",
     "output_type": "stream",
     "text": [
      "No `images_dir` provided. Images will be unpacked to '/opt/project/data/TCGA-BH-A201/05-11-2004-NA-BREAST MRI-49157/102.000000-CAD sub 2-49005'\n",
      "Ignoring unsupported parameter 'overwrite' for importer type <class 'fiftyone.utils.dicom.DICOMDatasetImporter'>\n",
      " 100% |███████████████████| 90/90 [2.7s elapsed, 0s remaining, 41.0 samples/s]      \n"
     ]
    },
    {
     "name": "stderr",
     "output_type": "stream",
     "text": [
      " 35%|███▍      | 393/1128 [35:37<36:45,  3.00s/it]"
     ]
    },
    {
     "name": "stdout",
     "output_type": "stream",
     "text": [
      "No `images_dir` provided. Images will be unpacked to '/opt/project/data/TCGA-BH-A0DG/12-05-2000-NA-BREAST MRI-74580/2.000000-Calibration Scan-54140'\n",
      "Ignoring unsupported parameter 'overwrite' for importer type <class 'fiftyone.utils.dicom.DICOMDatasetImporter'>\n",
      " 100% |███████████████████| 92/92 [2.4s elapsed, 0s remaining, 47.4 samples/s]      \n"
     ]
    },
    {
     "name": "stderr",
     "output_type": "stream",
     "text": [
      " 35%|███▍      | 394/1128 [35:39<35:56,  2.94s/it]"
     ]
    },
    {
     "name": "stdout",
     "output_type": "stream",
     "text": [
      "No `images_dir` provided. Images will be unpacked to '/opt/project/data/TCGA-AO-A12D/09-23-1999-NA-NA-51146/109.000000-NA-14129'\n",
      "Ignoring unsupported parameter 'overwrite' for importer type <class 'fiftyone.utils.dicom.DICOMDatasetImporter'>\n",
      " 100% |███████████████████| 55/55 [1.5s elapsed, 0s remaining, 36.8 samples/s]      \n"
     ]
    },
    {
     "name": "stderr",
     "output_type": "stream",
     "text": [
      " 35%|███▌      | 395/1128 [35:41<31:39,  2.59s/it]"
     ]
    },
    {
     "name": "stdout",
     "output_type": "stream",
     "text": [
      "No `images_dir` provided. Images will be unpacked to '/opt/project/data/TCGA-AO-A12G/03-29-2001-NA-NA-34806/115.000000-31710541-31710341-35428'\n",
      "Ignoring unsupported parameter 'overwrite' for importer type <class 'fiftyone.utils.dicom.DICOMDatasetImporter'>\n",
      " 100% |███████████████████| 41/41 [1.4s elapsed, 0s remaining, 29.2 samples/s]      \n"
     ]
    },
    {
     "name": "stderr",
     "output_type": "stream",
     "text": [
      " 35%|███▌      | 396/1128 [35:43<28:17,  2.32s/it]"
     ]
    },
    {
     "name": "stdout",
     "output_type": "stream",
     "text": [
      "No `images_dir` provided. Images will be unpacked to '/opt/project/data/TCGA-BH-A0HY/05-29-2002-NA-BREAST MRI-25536/1.000000-3 plane loc-81736'\n",
      "Ignoring unsupported parameter 'overwrite' for importer type <class 'fiftyone.utils.dicom.DICOMDatasetImporter'>\n",
      " 100% |███████████████████| 29/29 [1.1s elapsed, 0s remaining, 25.6 samples/s]         \n"
     ]
    },
    {
     "name": "stderr",
     "output_type": "stream",
     "text": [
      " 35%|███▌      | 397/1128 [35:44<24:43,  2.03s/it]"
     ]
    },
    {
     "name": "stdout",
     "output_type": "stream",
     "text": [
      "No `images_dir` provided. Images will be unpacked to '/opt/project/data/TCGA-E2-A109/03-23-2000-NA-MR BREAST BILATERAL WWO CONT-06870/5.000000-SAG 3D PRE-CONTRAST-57704'\n",
      "Ignoring unsupported parameter 'overwrite' for importer type <class 'fiftyone.utils.dicom.DICOMDatasetImporter'>\n",
      " 100% |█████████████████| 132/132 [3.4s elapsed, 0s remaining, 45.5 samples/s]       \n"
     ]
    },
    {
     "name": "stderr",
     "output_type": "stream",
     "text": [
      " 35%|███▌      | 398/1128 [35:48<31:18,  2.57s/it]"
     ]
    },
    {
     "name": "stdout",
     "output_type": "stream",
     "text": [
      "No `images_dir` provided. Images will be unpacked to '/opt/project/data/TCGA-E2-A15K/07-21-2002-NA-MR BREAST BILATERAL WWO CONT-17072/3.000000-SAG T2 FAT-SAT LEFT-11468'\n",
      "Ignoring unsupported parameter 'overwrite' for importer type <class 'fiftyone.utils.dicom.DICOMDatasetImporter'>\n",
      " 100% |███████████████████| 77/77 [2.4s elapsed, 0s remaining, 40.0 samples/s]      \n"
     ]
    },
    {
     "name": "stderr",
     "output_type": "stream",
     "text": [
      " 35%|███▌      | 399/1128 [35:51<31:53,  2.63s/it]"
     ]
    },
    {
     "name": "stdout",
     "output_type": "stream",
     "text": [
      "No `images_dir` provided. Images will be unpacked to '/opt/project/data/TCGA-E2-A108/10-13-2001-NA-MR BREAST BILATERAL WWO CONT-74709/4.000000-SAG T2 FAT-SAT RIGHT-27599'\n",
      "Ignoring unsupported parameter 'overwrite' for importer type <class 'fiftyone.utils.dicom.DICOMDatasetImporter'>\n",
      " 100% |███████████████████| 46/46 [1.6s elapsed, 0s remaining, 28.8 samples/s]      \n"
     ]
    },
    {
     "name": "stderr",
     "output_type": "stream",
     "text": [
      " 35%|███▌      | 400/1128 [35:53<29:39,  2.44s/it]"
     ]
    },
    {
     "name": "stdout",
     "output_type": "stream",
     "text": [
      "No `images_dir` provided. Images will be unpacked to '/opt/project/data/TCGA-BH-A202/05-24-2004-NA-BREAST MRI-87769/103.000000-CAD sub 3-04168'\n",
      "Ignoring unsupported parameter 'overwrite' for importer type <class 'fiftyone.utils.dicom.DICOMDatasetImporter'>\n",
      " 100% |█████████████████| 106/106 [3.0s elapsed, 0s remaining, 42.6 samples/s]      \n"
     ]
    },
    {
     "name": "stderr",
     "output_type": "stream",
     "text": [
      " 36%|███▌      | 401/1128 [35:56<33:07,  2.73s/it]"
     ]
    },
    {
     "name": "stdout",
     "output_type": "stream",
     "text": [
      "No `images_dir` provided. Images will be unpacked to '/opt/project/data/TCGA-AR-A24X/05-31-2001-NA-MRI - BREAST-56773/5.000000-RT SAG FSE T1-69883'\n",
      "Ignoring unsupported parameter 'overwrite' for importer type <class 'fiftyone.utils.dicom.DICOMDatasetImporter'>\n",
      " 100% |███████████████████| 24/24 [1.2s elapsed, 0s remaining, 20.8 samples/s]         \n"
     ]
    },
    {
     "name": "stderr",
     "output_type": "stream",
     "text": [
      " 36%|███▌      | 402/1128 [35:58<28:15,  2.34s/it]"
     ]
    },
    {
     "name": "stdout",
     "output_type": "stream",
     "text": [
      "No `images_dir` provided. Images will be unpacked to '/opt/project/data/TCGA-E2-A1IN/07-28-2002-NA-MR BREAST BILATERAL WWO CONT-40961/6.000000-SAG 3D PRE-CONTRAST-93075'\n",
      "Ignoring unsupported parameter 'overwrite' for importer type <class 'fiftyone.utils.dicom.DICOMDatasetImporter'>\n",
      " 100% |█████████████████| 128/128 [3.9s elapsed, 0s remaining, 37.4 samples/s]       \n"
     ]
    },
    {
     "name": "stderr",
     "output_type": "stream",
     "text": [
      " 36%|███▌      | 403/1128 [36:02<35:32,  2.94s/it]"
     ]
    },
    {
     "name": "stdout",
     "output_type": "stream",
     "text": [
      "No `images_dir` provided. Images will be unpacked to '/opt/project/data/TCGA-BH-A0EI/02-17-2002-NA-BREAST MRI-14232/200.000000-CAD sag reformat-14421'\n",
      "Ignoring unsupported parameter 'overwrite' for importer type <class 'fiftyone.utils.dicom.DICOMDatasetImporter'>\n",
      " 100% |█████████████████| 160/160 [4.3s elapsed, 0s remaining, 42.8 samples/s]       \n"
     ]
    },
    {
     "name": "stderr",
     "output_type": "stream",
     "text": [
      " 36%|███▌      | 404/1128 [36:07<42:31,  3.52s/it]"
     ]
    },
    {
     "name": "stdout",
     "output_type": "stream",
     "text": [
      "No `images_dir` provided. Images will be unpacked to '/opt/project/data/TCGA-BH-A0GZ/02-17-2003-NA-BREAST MRI-72293/2.000000-Calibration Scan-73465'\n",
      "Ignoring unsupported parameter 'overwrite' for importer type <class 'fiftyone.utils.dicom.DICOMDatasetImporter'>\n",
      " 100% |███████████████████| 92/92 [2.4s elapsed, 0s remaining, 48.7 samples/s]      \n"
     ]
    },
    {
     "name": "stderr",
     "output_type": "stream",
     "text": [
      " 36%|███▌      | 405/1128 [36:10<39:56,  3.31s/it]"
     ]
    },
    {
     "name": "stdout",
     "output_type": "stream",
     "text": [
      "No `images_dir` provided. Images will be unpacked to '/opt/project/data/TCGA-BH-A0H5/06-20-2001-NA-BREAST MRI-23793/5.000000-Sag Vibrant C-70712'\n",
      "Ignoring unsupported parameter 'overwrite' for importer type <class 'fiftyone.utils.dicom.DICOMDatasetImporter'>\n",
      " 100% |█████████████████| 152/152 [4.0s elapsed, 0s remaining, 42.6 samples/s]       \n"
     ]
    },
    {
     "name": "stderr",
     "output_type": "stream",
     "text": [
      " 36%|███▌      | 406/1128 [36:14<44:16,  3.68s/it]"
     ]
    },
    {
     "name": "stdout",
     "output_type": "stream",
     "text": [
      "No `images_dir` provided. Images will be unpacked to '/opt/project/data/TCGA-BH-A0C0/08-20-2000-NA-BREAST MRI-05483/5.000000-Ax Vibrant MULTIPHASE-10588'\n",
      "Ignoring unsupported parameter 'overwrite' for importer type <class 'fiftyone.utils.dicom.DICOMDatasetImporter'>\n",
      " 100% |█████████████████| 350/350 [9.8s elapsed, 0s remaining, 38.7 samples/s]       \n"
     ]
    },
    {
     "name": "stderr",
     "output_type": "stream",
     "text": [
      " 36%|███▌      | 407/1128 [36:25<1:09:52,  5.81s/it]"
     ]
    },
    {
     "name": "stdout",
     "output_type": "stream",
     "text": [
      "No `images_dir` provided. Images will be unpacked to '/opt/project/data/TCGA-E2-A1LG/11-06-2002-NA-MR BREAST BILATERAL WWO CONT-85265/1.000000-3-PLANE LOCALIZER  512-49618'\n",
      "Ignoring unsupported parameter 'overwrite' for importer type <class 'fiftyone.utils.dicom.DICOMDatasetImporter'>\n",
      " 100% |███████████████████| 45/45 [1.6s elapsed, 0s remaining, 27.8 samples/s]      \n"
     ]
    },
    {
     "name": "stderr",
     "output_type": "stream",
     "text": [
      " 36%|███▌      | 408/1128 [36:27<55:44,  4.65s/it]  "
     ]
    },
    {
     "name": "stdout",
     "output_type": "stream",
     "text": [
      "No `images_dir` provided. Images will be unpacked to '/opt/project/data/TCGA-BH-A0BG/06-11-2001-NA-BREAST MRI-34066/2000.000000-CAD MIP-10216'\n",
      "Ignoring unsupported parameter 'overwrite' for importer type <class 'fiftyone.utils.dicom.DICOMDatasetImporter'>\n",
      " 100% |███████████████████| 45/45 [1.6s elapsed, 0s remaining, 27.3 samples/s]      \n"
     ]
    },
    {
     "name": "stderr",
     "output_type": "stream",
     "text": [
      " 36%|███▋      | 409/1128 [36:29<46:00,  3.84s/it]"
     ]
    },
    {
     "name": "stdout",
     "output_type": "stream",
     "text": [
      "No `images_dir` provided. Images will be unpacked to '/opt/project/data/TCGA-AR-A1AX/09-24-2003-NA-MRI BREAST BILATERAL-61364/2.000000-ASSET CAL-97013'\n",
      "Ignoring unsupported parameter 'overwrite' for importer type <class 'fiftyone.utils.dicom.DICOMDatasetImporter'>\n",
      " 100% |███████████████████| 82/82 [2.2s elapsed, 0s remaining, 49.9 samples/s]      \n"
     ]
    },
    {
     "name": "stderr",
     "output_type": "stream",
     "text": [
      " 36%|███▋      | 410/1128 [36:31<41:22,  3.46s/it]"
     ]
    },
    {
     "name": "stdout",
     "output_type": "stream",
     "text": [
      "No `images_dir` provided. Images will be unpacked to '/opt/project/data/TCGA-AO-A0J9/05-11-2001-NA-NA-96851/102.000000-Bind1547761..61-71228'\n",
      "Ignoring unsupported parameter 'overwrite' for importer type <class 'fiftyone.utils.dicom.DICOMDatasetImporter'>\n",
      " 100% |███████████████████| 61/61 [1.8s elapsed, 0s remaining, 33.3 samples/s]      \n"
     ]
    },
    {
     "name": "stderr",
     "output_type": "stream",
     "text": [
      " 36%|███▋      | 411/1128 [36:34<36:31,  3.06s/it]"
     ]
    },
    {
     "name": "stdout",
     "output_type": "stream",
     "text": [
      "No `images_dir` provided. Images will be unpacked to '/opt/project/data/TCGA-BH-A0DK/12-22-2002-NA-BREAST MRI-01189/5.000000-Sag Vibrant C-07385'\n",
      "Ignoring unsupported parameter 'overwrite' for importer type <class 'fiftyone.utils.dicom.DICOMDatasetImporter'>\n",
      " 100% |█████████████████| 168/168 [4.3s elapsed, 0s remaining, 43.1 samples/s]       \n"
     ]
    },
    {
     "name": "stderr",
     "output_type": "stream",
     "text": [
      " 37%|███▋      | 412/1128 [36:38<43:05,  3.61s/it]"
     ]
    },
    {
     "name": "stdout",
     "output_type": "stream",
     "text": [
      "No `images_dir` provided. Images will be unpacked to '/opt/project/data/TCGA-BH-A0HI/03-14-2002-NA-BREAST MRI-85477/101.000000-CAD sub 4-31248'\n",
      "Ignoring unsupported parameter 'overwrite' for importer type <class 'fiftyone.utils.dicom.DICOMDatasetImporter'>\n",
      " 100% |███████████████████| 70/70 [2.2s elapsed, 0s remaining, 40.6 samples/s]      \n"
     ]
    },
    {
     "name": "stderr",
     "output_type": "stream",
     "text": [
      " 37%|███▋      | 413/1128 [36:41<39:14,  3.29s/it]"
     ]
    },
    {
     "name": "stdout",
     "output_type": "stream",
     "text": [
      "No `images_dir` provided. Images will be unpacked to '/opt/project/data/TCGA-E2-A1IK/05-04-2002-NA-MR BREAST BILATERAL WWO CONT-09734/3.000000-SAG T2 FAT-SAT LEFT-87292'\n",
      "Ignoring unsupported parameter 'overwrite' for importer type <class 'fiftyone.utils.dicom.DICOMDatasetImporter'>\n",
      " 100% |███████████████████| 52/52 [1.8s elapsed, 0s remaining, 29.4 samples/s]      \n"
     ]
    },
    {
     "name": "stderr",
     "output_type": "stream",
     "text": [
      " 37%|███▋      | 414/1128 [36:43<34:42,  2.92s/it]"
     ]
    },
    {
     "name": "stdout",
     "output_type": "stream",
     "text": [
      "No `images_dir` provided. Images will be unpacked to '/opt/project/data/TCGA-AO-A12F/10-16-2000-NA-NA-19596/117.000000-564710752-564710352-10041'\n",
      "Ignoring unsupported parameter 'overwrite' for importer type <class 'fiftyone.utils.dicom.DICOMDatasetImporter'>\n",
      " 100% |███████████████████| 52/52 [1.6s elapsed, 0s remaining, 32.6 samples/s]      \n"
     ]
    },
    {
     "name": "stderr",
     "output_type": "stream",
     "text": [
      " 37%|███▋      | 415/1128 [36:45<31:05,  2.62s/it]"
     ]
    },
    {
     "name": "stdout",
     "output_type": "stream",
     "text": [
      "No `images_dir` provided. Images will be unpacked to '/opt/project/data/TCGA-E2-A1II/03-29-2001-NA-MR BREAST BILATERAL WWO CONT-41862/4.000000-SAG T1 PRE-29989'\n",
      "Ignoring unsupported parameter 'overwrite' for importer type <class 'fiftyone.utils.dicom.DICOMDatasetImporter'>\n",
      " 100% |█████████████████| 109/109 [3.0s elapsed, 0s remaining, 43.8 samples/s]      \n"
     ]
    },
    {
     "name": "stderr",
     "output_type": "stream",
     "text": [
      " 37%|███▋      | 416/1128 [36:48<33:40,  2.84s/it]"
     ]
    },
    {
     "name": "stdout",
     "output_type": "stream",
     "text": [
      "No `images_dir` provided. Images will be unpacked to '/opt/project/data/TCGA-BH-A0B1/09-04-2000-NA-BREAST MRI-93235/5.000000-Ax Vibrant MULTIPHASE-77772'\n",
      "Ignoring unsupported parameter 'overwrite' for importer type <class 'fiftyone.utils.dicom.DICOMDatasetImporter'>\n",
      " 100% |█████████████████| 450/450 [12.3s elapsed, 0s remaining, 38.8 samples/s]      \n"
     ]
    },
    {
     "name": "stderr",
     "output_type": "stream",
     "text": [
      " 37%|███▋      | 417/1128 [37:02<1:11:36,  6.04s/it]"
     ]
    },
    {
     "name": "stdout",
     "output_type": "stream",
     "text": [
      "No `images_dir` provided. Images will be unpacked to '/opt/project/data/TCGA-E2-A1IJ/08-02-2001-NA-MR BREAST BILATERAL WWO CONT-31159/4.000000-SAG T2 FAT-SAT LEFT-64816'\n",
      "Ignoring unsupported parameter 'overwrite' for importer type <class 'fiftyone.utils.dicom.DICOMDatasetImporter'>\n",
      " 100% |███████████████████| 42/42 [1.6s elapsed, 0s remaining, 25.7 samples/s]      \n"
     ]
    },
    {
     "name": "stderr",
     "output_type": "stream",
     "text": [
      " 37%|███▋      | 418/1128 [37:04<57:01,  4.82s/it]  "
     ]
    },
    {
     "name": "stdout",
     "output_type": "stream",
     "text": [
      "No `images_dir` provided. Images will be unpacked to '/opt/project/data/TCGA-E2-A1IK/05-04-2002-NA-MR BREAST BILATERAL WWO CONT-09734/7.000000-SAG 3D POST-CONTRAST-23877'\n",
      "Ignoring unsupported parameter 'overwrite' for importer type <class 'fiftyone.utils.dicom.DICOMDatasetImporter'>\n",
      " 100% |█████████████████| 384/384 [8.9s elapsed, 0s remaining, 45.8 samples/s]       \n"
     ]
    },
    {
     "name": "stderr",
     "output_type": "stream",
     "text": [
      " 37%|███▋      | 419/1128 [37:14<1:16:20,  6.46s/it]"
     ]
    },
    {
     "name": "stdout",
     "output_type": "stream",
     "text": [
      "No `images_dir` provided. Images will be unpacked to '/opt/project/data/TCGA-BH-A0DI/11-20-2002-NA-BREAST MRI-40073/3.000000-AX STIR-WaterSat-59169'\n",
      "Ignoring unsupported parameter 'overwrite' for importer type <class 'fiftyone.utils.dicom.DICOMDatasetImporter'>\n",
      " 100% |███████████████████| 44/44 [1.7s elapsed, 0s remaining, 26.2 samples/s]      \n"
     ]
    },
    {
     "name": "stderr",
     "output_type": "stream",
     "text": [
      " 37%|███▋      | 420/1128 [37:16<1:00:17,  5.11s/it]"
     ]
    },
    {
     "name": "stdout",
     "output_type": "stream",
     "text": [
      "No `images_dir` provided. Images will be unpacked to '/opt/project/data/TCGA-BH-A0DE/08-01-2000-NA-BREAST MRI-94390/102.000000-CAD REG CAD Sub 3-34299'\n",
      "Ignoring unsupported parameter 'overwrite' for importer type <class 'fiftyone.utils.dicom.DICOMDatasetImporter'>\n",
      " 100% |███████████████████| 76/76 [2.3s elapsed, 0s remaining, 42.1 samples/s]      \n"
     ]
    },
    {
     "name": "stderr",
     "output_type": "stream",
     "text": [
      " 37%|███▋      | 421/1128 [37:19<51:27,  4.37s/it]  "
     ]
    },
    {
     "name": "stdout",
     "output_type": "stream",
     "text": [
      "No `images_dir` provided. Images will be unpacked to '/opt/project/data/TCGA-BH-A0B1/09-04-2000-NA-BREAST MRI-93235/200.000000-CAD COR REF-90757'\n",
      "Ignoring unsupported parameter 'overwrite' for importer type <class 'fiftyone.utils.dicom.DICOMDatasetImporter'>\n",
      " 100% |█████████████████| 117/117 [3.2s elapsed, 0s remaining, 42.4 samples/s]      \n"
     ]
    },
    {
     "name": "stderr",
     "output_type": "stream",
     "text": [
      " 37%|███▋      | 422/1128 [37:22<48:42,  4.14s/it]"
     ]
    },
    {
     "name": "stdout",
     "output_type": "stream",
     "text": [
      "No `images_dir` provided. Images will be unpacked to '/opt/project/data/TCGA-AO-A12G/03-29-2001-NA-NA-34806/116.000000-LEFT-26089'\n",
      "Ignoring unsupported parameter 'overwrite' for importer type <class 'fiftyone.utils.dicom.DICOMDatasetImporter'>\n",
      " 100% |███████████████████| 13/13 [826.9ms elapsed, 0s remaining, 15.8 samples/s]      \n"
     ]
    },
    {
     "name": "stderr",
     "output_type": "stream",
     "text": [
      " 38%|███▊      | 423/1128 [37:23<37:35,  3.20s/it]"
     ]
    },
    {
     "name": "stdout",
     "output_type": "stream",
     "text": [
      "No `images_dir` provided. Images will be unpacked to '/opt/project/data/TCGA-BH-A0GY/08-27-2001-NA-MRI BREAST-03978/103.000000-CAD sub 3-04806'\n",
      "Ignoring unsupported parameter 'overwrite' for importer type <class 'fiftyone.utils.dicom.DICOMDatasetImporter'>\n",
      " 100% |█████████████████| 106/106 [3.1s elapsed, 0s remaining, 42.6 samples/s]      \n"
     ]
    },
    {
     "name": "stderr",
     "output_type": "stream",
     "text": [
      " 38%|███▊      | 424/1128 [37:27<38:55,  3.32s/it]"
     ]
    },
    {
     "name": "stdout",
     "output_type": "stream",
     "text": [
      "No `images_dir` provided. Images will be unpacked to '/opt/project/data/TCGA-AR-A1AQ/05-07-2003-NA-MRI BREAST BILATERAL-81050/7.000000-ASSET CAL-71370'\n",
      "Ignoring unsupported parameter 'overwrite' for importer type <class 'fiftyone.utils.dicom.DICOMDatasetImporter'>\n",
      " 100% |███████████████████| 88/88 [2.4s elapsed, 0s remaining, 48.5 samples/s]      \n"
     ]
    },
    {
     "name": "stderr",
     "output_type": "stream",
     "text": [
      " 38%|███▊      | 425/1128 [37:30<36:54,  3.15s/it]"
     ]
    },
    {
     "name": "stdout",
     "output_type": "stream",
     "text": [
      "No `images_dir` provided. Images will be unpacked to '/opt/project/data/TCGA-E2-A14S/03-02-2001-NA-MR BREAST BILATERAL WWO CONT-85661/4.000000-SAG T2 FAT-SAT RIGHT-87606'\n",
      "Ignoring unsupported parameter 'overwrite' for importer type <class 'fiftyone.utils.dicom.DICOMDatasetImporter'>\n",
      " 100% |███████████████████| 62/62 [2.0s elapsed, 0s remaining, 31.5 samples/s]      \n"
     ]
    },
    {
     "name": "stderr",
     "output_type": "stream",
     "text": [
      " 38%|███▊      | 426/1128 [37:32<33:41,  2.88s/it]"
     ]
    },
    {
     "name": "stdout",
     "output_type": "stream",
     "text": [
      "No `images_dir` provided. Images will be unpacked to '/opt/project/data/TCGA-AO-A12G/03-29-2001-NA-NA-34806/106.000000-T1 Sagittal post fat sat-96557'\n",
      "Ignoring unsupported parameter 'overwrite' for importer type <class 'fiftyone.utils.dicom.DICOMDatasetImporter'>\n",
      " 100% |███████████████████| 39/39 [1.4s elapsed, 0s remaining, 28.1 samples/s]      \n"
     ]
    },
    {
     "name": "stderr",
     "output_type": "stream",
     "text": [
      " 38%|███▊      | 427/1128 [37:34<29:22,  2.51s/it]"
     ]
    },
    {
     "name": "stdout",
     "output_type": "stream",
     "text": [
      "No `images_dir` provided. Images will be unpacked to '/opt/project/data/TCGA-BH-A18H/02-03-2004-NA-BREAST MRI-53089/4.000000-Ax Vibrant MULTIPHASE-10156'\n",
      "Ignoring unsupported parameter 'overwrite' for importer type <class 'fiftyone.utils.dicom.DICOMDatasetImporter'>\n",
      " 100% |█████████████████| 560/560 [13.9s elapsed, 0s remaining, 42.0 samples/s]      \n"
     ]
    },
    {
     "name": "stderr",
     "output_type": "stream",
     "text": [
      " 38%|███▊      | 428/1128 [37:49<1:14:33,  6.39s/it]"
     ]
    },
    {
     "name": "stdout",
     "output_type": "stream",
     "text": [
      "No `images_dir` provided. Images will be unpacked to '/opt/project/data/TCGA-E2-A109/03-23-2000-NA-MR BREAST BILATERAL WWO CONT-06870/6.000000-SAG 3D POST-CONTRAST-77078'\n",
      "Ignoring unsupported parameter 'overwrite' for importer type <class 'fiftyone.utils.dicom.DICOMDatasetImporter'>\n",
      " 100% |█████████████████| 396/396 [9.2s elapsed, 0s remaining, 46.1 samples/s]       \n"
     ]
    },
    {
     "name": "stderr",
     "output_type": "stream",
     "text": [
      " 38%|███▊      | 429/1128 [37:59<1:28:28,  7.59s/it]"
     ]
    },
    {
     "name": "stdout",
     "output_type": "stream",
     "text": [
      "No `images_dir` provided. Images will be unpacked to '/opt/project/data/TCGA-E2-A1II/03-29-2001-NA-MR BREAST BILATERAL WWO CONT-41862/8.000000-ASSET CALIBRATION-18956'\n",
      "Ignoring unsupported parameter 'overwrite' for importer type <class 'fiftyone.utils.dicom.DICOMDatasetImporter'>\n",
      " 100% |███████████████████| 30/30 [1.1s elapsed, 0s remaining, 28.0 samples/s]         \n"
     ]
    },
    {
     "name": "stderr",
     "output_type": "stream",
     "text": [
      " 38%|███▊      | 430/1128 [38:01<1:06:36,  5.72s/it]"
     ]
    },
    {
     "name": "stdout",
     "output_type": "stream",
     "text": [
      "No `images_dir` provided. Images will be unpacked to '/opt/project/data/TCGA-BH-A0E2/01-21-2003-NA-BREAST MRI-05355/105.000000-CAD sub 1-49048'\n",
      "Ignoring unsupported parameter 'overwrite' for importer type <class 'fiftyone.utils.dicom.DICOMDatasetImporter'>\n",
      " 100% |█████████████████| 106/106 [3.0s elapsed, 0s remaining, 42.8 samples/s]      \n"
     ]
    },
    {
     "name": "stderr",
     "output_type": "stream",
     "text": [
      " 38%|███▊      | 431/1128 [38:04<58:25,  5.03s/it]  "
     ]
    },
    {
     "name": "stdout",
     "output_type": "stream",
     "text": [
      "No `images_dir` provided. Images will be unpacked to '/opt/project/data/TCGA-BH-A0HX/11-05-2001-NA-BREAST MRI-23277/103.000000-CAD sub 3-79744'\n",
      "Ignoring unsupported parameter 'overwrite' for importer type <class 'fiftyone.utils.dicom.DICOMDatasetImporter'>\n",
      " 100% |███████████████████| 82/82 [2.5s elapsed, 0s remaining, 41.6 samples/s]      \n"
     ]
    },
    {
     "name": "stderr",
     "output_type": "stream",
     "text": [
      " 38%|███▊      | 432/1128 [38:07<50:55,  4.39s/it]"
     ]
    },
    {
     "name": "stdout",
     "output_type": "stream",
     "text": [
      "No `images_dir` provided. Images will be unpacked to '/opt/project/data/TCGA-E2-A108/10-13-2001-NA-MR BREAST BILATERAL WWO CONT-74709/2.000000-SAG T1 PRE-13888'\n",
      "Ignoring unsupported parameter 'overwrite' for importer type <class 'fiftyone.utils.dicom.DICOMDatasetImporter'>\n",
      " 100% |███████████████████| 92/92 [2.8s elapsed, 0s remaining, 38.4 samples/s]      \n"
     ]
    },
    {
     "name": "stderr",
     "output_type": "stream",
     "text": [
      " 38%|███▊      | 433/1128 [38:10<47:13,  4.08s/it]"
     ]
    },
    {
     "name": "stdout",
     "output_type": "stream",
     "text": [
      "No `images_dir` provided. Images will be unpacked to '/opt/project/data/TCGA-E2-A15K/07-21-2002-NA-MR BREAST BILATERAL WWO CONT-17072/4.000000-SAG T2 FAT-SAT RIGHT-62807'\n",
      "Ignoring unsupported parameter 'overwrite' for importer type <class 'fiftyone.utils.dicom.DICOMDatasetImporter'>\n",
      " 100% |███████████████████| 79/79 [2.3s elapsed, 0s remaining, 42.3 samples/s]      \n"
     ]
    },
    {
     "name": "stderr",
     "output_type": "stream",
     "text": [
      " 38%|███▊      | 434/1128 [38:13<42:14,  3.65s/it]"
     ]
    },
    {
     "name": "stdout",
     "output_type": "stream",
     "text": [
      "No `images_dir` provided. Images will be unpacked to '/opt/project/data/TCGA-AR-A24S/11-25-1999-NA-MRI - BREAST-35077/6.000000-LEFT sag fse t2-49634'\n",
      "Ignoring unsupported parameter 'overwrite' for importer type <class 'fiftyone.utils.dicom.DICOMDatasetImporter'>\n",
      " 100% |███████████████████| 24/24 [1.1s elapsed, 0s remaining, 22.0 samples/s]         \n"
     ]
    },
    {
     "name": "stderr",
     "output_type": "stream",
     "text": [
      " 39%|███▊      | 435/1128 [38:14<34:01,  2.95s/it]"
     ]
    },
    {
     "name": "stdout",
     "output_type": "stream",
     "text": [
      "No `images_dir` provided. Images will be unpacked to '/opt/project/data/TCGA-BH-A0HX/11-05-2001-NA-BREAST MRI-23277/105.000000-CAD sub 1-92082'\n",
      "Ignoring unsupported parameter 'overwrite' for importer type <class 'fiftyone.utils.dicom.DICOMDatasetImporter'>\n",
      " 100% |███████████████████| 82/82 [2.4s elapsed, 0s remaining, 42.2 samples/s]      \n"
     ]
    },
    {
     "name": "stderr",
     "output_type": "stream",
     "text": [
      " 39%|███▊      | 436/1128 [38:17<33:26,  2.90s/it]"
     ]
    },
    {
     "name": "stdout",
     "output_type": "stream",
     "text": [
      "No `images_dir` provided. Images will be unpacked to '/opt/project/data/TCGA-BH-A0DX/11-21-2000-NA-BREAST MRI-01298/3.000000-AX STIR-WaterSat-11319'\n",
      "Ignoring unsupported parameter 'overwrite' for importer type <class 'fiftyone.utils.dicom.DICOMDatasetImporter'>\n",
      " 100% |███████████████████| 43/43 [1.6s elapsed, 0s remaining, 27.5 samples/s]      \n"
     ]
    },
    {
     "name": "stderr",
     "output_type": "stream",
     "text": [
      " 39%|███▊      | 437/1128 [38:19<29:39,  2.58s/it]"
     ]
    },
    {
     "name": "stdout",
     "output_type": "stream",
     "text": [
      "No `images_dir` provided. Images will be unpacked to '/opt/project/data/TCGA-BH-A0BJ/12-24-2001-NA-BREAST MRI-76352/3.000000-AX STIR-WaterSat-13418'\n",
      "Ignoring unsupported parameter 'overwrite' for importer type <class 'fiftyone.utils.dicom.DICOMDatasetImporter'>\n",
      " 100% |███████████████████| 50/50 [1.8s elapsed, 0s remaining, 28.3 samples/s]      \n"
     ]
    },
    {
     "name": "stderr",
     "output_type": "stream",
     "text": [
      " 39%|███▉      | 438/1128 [38:21<27:46,  2.42s/it]"
     ]
    },
    {
     "name": "stdout",
     "output_type": "stream",
     "text": [
      "No `images_dir` provided. Images will be unpacked to '/opt/project/data/TCGA-BH-A0RX/09-02-2003-NA-BREAST MRI-73444/20003.000000-DERIVED MOCO MIP SUB DCE  50 updown-20406'\n",
      "Ignoring unsupported parameter 'overwrite' for importer type <class 'fiftyone.utils.dicom.DICOMDatasetImporter'>\n",
      " 100% |███████████████████| 18/18 [4.1s elapsed, 0s remaining, 6.6 samples/s]      \n"
     ]
    },
    {
     "name": "stderr",
     "output_type": "stream",
     "text": [
      " 39%|███▉      | 439/1128 [38:25<34:18,  2.99s/it]"
     ]
    },
    {
     "name": "stdout",
     "output_type": "stream",
     "text": [
      "No `images_dir` provided. Images will be unpacked to '/opt/project/data/TCGA-BH-A0B3/10-09-2000-NA-BREAST MRI-95408/103.000000-CAD REG CAD Sub 4-81611'\n",
      "Ignoring unsupported parameter 'overwrite' for importer type <class 'fiftyone.utils.dicom.DICOMDatasetImporter'>\n",
      " 100% |███████████████████| 82/82 [2.5s elapsed, 0s remaining, 41.9 samples/s]      \n"
     ]
    },
    {
     "name": "stderr",
     "output_type": "stream",
     "text": [
      " 39%|███▉      | 440/1128 [38:28<33:52,  2.95s/it]"
     ]
    },
    {
     "name": "stdout",
     "output_type": "stream",
     "text": [
      "No `images_dir` provided. Images will be unpacked to '/opt/project/data/TCGA-E2-A15I/06-15-2002-NA-MR BREAST BILATERAL WWO CONT-84178/7.000000-SAG 3D POST-CONTRAST-12440'\n",
      "Ignoring unsupported parameter 'overwrite' for importer type <class 'fiftyone.utils.dicom.DICOMDatasetImporter'>\n",
      " 100% |█████████████████| 348/348 [9.3s elapsed, 0s remaining, 40.6 samples/s]       \n"
     ]
    },
    {
     "name": "stderr",
     "output_type": "stream",
     "text": [
      " 39%|███▉      | 441/1128 [38:39<59:01,  5.16s/it]"
     ]
    },
    {
     "name": "stdout",
     "output_type": "stream",
     "text": [
      "No `images_dir` provided. Images will be unpacked to '/opt/project/data/TCGA-BH-A0E2/01-21-2003-NA-BREAST MRI-05355/101.000000-CAD sub 4-95452'\n",
      "Ignoring unsupported parameter 'overwrite' for importer type <class 'fiftyone.utils.dicom.DICOMDatasetImporter'>\n",
      " 100% |█████████████████| 106/106 [3.0s elapsed, 0s remaining, 41.2 samples/s]      \n"
     ]
    },
    {
     "name": "stderr",
     "output_type": "stream",
     "text": [
      " 39%|███▉      | 442/1128 [38:42<53:06,  4.65s/it]"
     ]
    },
    {
     "name": "stdout",
     "output_type": "stream",
     "text": [
      "No `images_dir` provided. Images will be unpacked to '/opt/project/data/TCGA-BH-A0H3/07-27-2001-NA-BREAST MRI-61560/5.000000-Sag Vibrant C-12516'\n",
      "Ignoring unsupported parameter 'overwrite' for importer type <class 'fiftyone.utils.dicom.DICOMDatasetImporter'>\n",
      " 100% |█████████████████| 128/128 [3.6s elapsed, 0s remaining, 40.7 samples/s]      \n"
     ]
    },
    {
     "name": "stderr",
     "output_type": "stream",
     "text": [
      " 39%|███▉      | 443/1128 [38:46<50:55,  4.46s/it]"
     ]
    },
    {
     "name": "stdout",
     "output_type": "stream",
     "text": [
      "No `images_dir` provided. Images will be unpacked to '/opt/project/data/TCGA-BH-A0H3/07-27-2001-NA-BREAST MRI-61560/202.000000-CAD cor reformat-38927'\n",
      "Ignoring unsupported parameter 'overwrite' for importer type <class 'fiftyone.utils.dicom.DICOMDatasetImporter'>\n",
      " 100% |█████████████████| 150/150 [4.1s elapsed, 0s remaining, 40.6 samples/s]       \n"
     ]
    },
    {
     "name": "stderr",
     "output_type": "stream",
     "text": [
      " 39%|███▉      | 444/1128 [38:51<51:16,  4.50s/it]"
     ]
    },
    {
     "name": "stdout",
     "output_type": "stream",
     "text": [
      "No `images_dir` provided. Images will be unpacked to '/opt/project/data/TCGA-BH-A0H7/03-26-2002-NA-BREAST MRI-96862/101.000000-CAD sub 4-34878'\n",
      "Ignoring unsupported parameter 'overwrite' for importer type <class 'fiftyone.utils.dicom.DICOMDatasetImporter'>\n",
      " 100% |███████████████████| 58/58 [2.1s elapsed, 0s remaining, 27.8 samples/s]      \n"
     ]
    },
    {
     "name": "stderr",
     "output_type": "stream",
     "text": [
      " 39%|███▉      | 445/1128 [38:53<44:08,  3.88s/it]"
     ]
    },
    {
     "name": "stdout",
     "output_type": "stream",
     "text": [
      "No `images_dir` provided. Images will be unpacked to '/opt/project/data/TCGA-E2-A14P/10-13-2000-NA-MR BREAST BILATERAL WWO CONT-27050/3.000000-SAG T1 PRE-62374'\n",
      "Ignoring unsupported parameter 'overwrite' for importer type <class 'fiftyone.utils.dicom.DICOMDatasetImporter'>\n",
      " 100% |█████████████████| 114/114 [3.1s elapsed, 0s remaining, 43.3 samples/s]      \n"
     ]
    },
    {
     "name": "stderr",
     "output_type": "stream",
     "text": [
      " 40%|███▉      | 446/1128 [38:57<42:56,  3.78s/it]"
     ]
    },
    {
     "name": "stdout",
     "output_type": "stream",
     "text": [
      "No `images_dir` provided. Images will be unpacked to '/opt/project/data/TCGA-BH-A0DH/01-09-2001-NA-BREAST MRI-58184/102.000000-CAD REG CAD Sub 3-78836'\n",
      "Ignoring unsupported parameter 'overwrite' for importer type <class 'fiftyone.utils.dicom.DICOMDatasetImporter'>\n",
      " 100% |███████████████████| 96/96 [2.8s elapsed, 0s remaining, 41.4 samples/s]      \n"
     ]
    },
    {
     "name": "stderr",
     "output_type": "stream",
     "text": [
      " 40%|███▉      | 447/1128 [39:00<40:56,  3.61s/it]"
     ]
    },
    {
     "name": "stdout",
     "output_type": "stream",
     "text": [
      "No `images_dir` provided. Images will be unpacked to '/opt/project/data/TCGA-AO-A12F/10-16-2000-NA-NA-19596/106.000000-Bind56477105..156-59374'\n",
      "Ignoring unsupported parameter 'overwrite' for importer type <class 'fiftyone.utils.dicom.DICOMDatasetImporter'>\n",
      " 100% |███████████████████| 52/52 [1.6s elapsed, 0s remaining, 32.6 samples/s]      \n"
     ]
    },
    {
     "name": "stderr",
     "output_type": "stream",
     "text": [
      " 40%|███▉      | 448/1128 [39:02<35:09,  3.10s/it]"
     ]
    },
    {
     "name": "stdout",
     "output_type": "stream",
     "text": [
      "No `images_dir` provided. Images will be unpacked to '/opt/project/data/TCGA-AO-A03M/03-15-2001-NA-NA-80891/114.000000-Bind112517193..242-56874'\n",
      "Ignoring unsupported parameter 'overwrite' for importer type <class 'fiftyone.utils.dicom.DICOMDatasetImporter'>\n",
      " 100% |███████████████████| 50/50 [1.6s elapsed, 0s remaining, 30.8 samples/s]      \n"
     ]
    },
    {
     "name": "stderr",
     "output_type": "stream",
     "text": [
      " 40%|███▉      | 449/1128 [39:04<30:57,  2.74s/it]"
     ]
    },
    {
     "name": "stdout",
     "output_type": "stream",
     "text": [
      "No `images_dir` provided. Images will be unpacked to '/opt/project/data/TCGA-BH-A0GZ/02-17-2003-NA-BREAST MRI-72293/200.000000-CAD sag reformat-02859'\n",
      "Ignoring unsupported parameter 'overwrite' for importer type <class 'fiftyone.utils.dicom.DICOMDatasetImporter'>\n",
      " 100% |█████████████████| 180/180 [4.9s elapsed, 0s remaining, 44.1 samples/s]       \n"
     ]
    },
    {
     "name": "stderr",
     "output_type": "stream",
     "text": [
      " 40%|███▉      | 450/1128 [39:09<40:06,  3.55s/it]"
     ]
    },
    {
     "name": "stdout",
     "output_type": "stream",
     "text": [
      "No `images_dir` provided. Images will be unpacked to '/opt/project/data/TCGA-AO-A12G/03-29-2001-NA-NA-34806/113.000000-T1 Sagittal post fat sat-58309'\n",
      "Ignoring unsupported parameter 'overwrite' for importer type <class 'fiftyone.utils.dicom.DICOMDatasetImporter'>\n",
      " 100% |███████████████████| 41/41 [1.4s elapsed, 0s remaining, 28.9 samples/s]      \n"
     ]
    },
    {
     "name": "stderr",
     "output_type": "stream",
     "text": [
      " 40%|███▉      | 451/1128 [39:11<33:40,  2.99s/it]"
     ]
    },
    {
     "name": "stdout",
     "output_type": "stream",
     "text": [
      "No `images_dir` provided. Images will be unpacked to '/opt/project/data/TCGA-AO-A12G/03-29-2001-NA-NA-34806/110.000000-T1 Sagittal post fat sat-50612'\n",
      "Ignoring unsupported parameter 'overwrite' for importer type <class 'fiftyone.utils.dicom.DICOMDatasetImporter'>\n",
      " 100% |███████████████████| 39/39 [1.3s elapsed, 0s remaining, 29.3 samples/s]      \n"
     ]
    },
    {
     "name": "stderr",
     "output_type": "stream",
     "text": [
      " 40%|████      | 452/1128 [39:12<28:59,  2.57s/it]"
     ]
    },
    {
     "name": "stdout",
     "output_type": "stream",
     "text": [
      "No `images_dir` provided. Images will be unpacked to '/opt/project/data/TCGA-BH-A0DX/11-25-2000-NA-BIOPSY-11698/1.000000-3 plane loc-29801'\n",
      "Ignoring unsupported parameter 'overwrite' for importer type <class 'fiftyone.utils.dicom.DICOMDatasetImporter'>\n",
      " 100% |███████████████████| 29/29 [1.1s elapsed, 0s remaining, 25.7 samples/s]         \n"
     ]
    },
    {
     "name": "stderr",
     "output_type": "stream",
     "text": [
      " 40%|████      | 453/1128 [39:14<24:49,  2.21s/it]"
     ]
    },
    {
     "name": "stdout",
     "output_type": "stream",
     "text": [
      "No `images_dir` provided. Images will be unpacked to '/opt/project/data/TCGA-BH-A0E0/04-06-2003-NA-BREAST MRI-53761/103.000000-CAD sub 3-84289'\n",
      "Ignoring unsupported parameter 'overwrite' for importer type <class 'fiftyone.utils.dicom.DICOMDatasetImporter'>\n",
      " 100% |███████████████████| 76/76 [2.3s elapsed, 0s remaining, 40.7 samples/s]      \n"
     ]
    },
    {
     "name": "stderr",
     "output_type": "stream",
     "text": [
      " 40%|████      | 454/1128 [39:16<26:19,  2.34s/it]"
     ]
    },
    {
     "name": "stdout",
     "output_type": "stream",
     "text": [
      "No `images_dir` provided. Images will be unpacked to '/opt/project/data/TCGA-E2-A15L/07-18-2002-NA-MR BREAST BILATERAL WWO CONT-99306/2.000000-SAG T1 PRE-22232'\n",
      "Ignoring unsupported parameter 'overwrite' for importer type <class 'fiftyone.utils.dicom.DICOMDatasetImporter'>\n",
      " 100% |█████████████████| 125/125 [3.7s elapsed, 0s remaining, 37.7 samples/s]      \n"
     ]
    },
    {
     "name": "stderr",
     "output_type": "stream",
     "text": [
      " 40%|████      | 455/1128 [39:21<32:28,  2.90s/it]"
     ]
    },
    {
     "name": "stdout",
     "output_type": "stream",
     "text": [
      "No `images_dir` provided. Images will be unpacked to '/opt/project/data/TCGA-BH-A0GZ/02-17-2003-NA-BREAST MRI-72293/101.000000-CAD sub 4-19704'\n",
      "Ignoring unsupported parameter 'overwrite' for importer type <class 'fiftyone.utils.dicom.DICOMDatasetImporter'>\n",
      " 100% |█████████████████| 104/104 [3.0s elapsed, 0s remaining, 42.4 samples/s]      \n"
     ]
    },
    {
     "name": "stderr",
     "output_type": "stream",
     "text": [
      " 40%|████      | 456/1128 [39:24<34:15,  3.06s/it]"
     ]
    },
    {
     "name": "stdout",
     "output_type": "stream",
     "text": [
      "No `images_dir` provided. Images will be unpacked to '/opt/project/data/TCGA-BH-A0DV/11-29-2000-NA-BREAST MRI-88132/200.000000-CAD COR REF-86375'\n",
      "Ignoring unsupported parameter 'overwrite' for importer type <class 'fiftyone.utils.dicom.DICOMDatasetImporter'>\n",
      " 100% |███████████████████| 97/97 [2.8s elapsed, 0s remaining, 41.8 samples/s]      \n"
     ]
    },
    {
     "name": "stderr",
     "output_type": "stream",
     "text": [
      " 41%|████      | 457/1128 [39:27<34:36,  3.10s/it]"
     ]
    },
    {
     "name": "stdout",
     "output_type": "stream",
     "text": [
      "No `images_dir` provided. Images will be unpacked to '/opt/project/data/TCGA-E2-A1IE/01-04-2001-NA-MR BREAST BILATERAL WWO CONT-63539/9.000000-SAG T2 FAT-SAT RIGHT-05193'\n",
      "Ignoring unsupported parameter 'overwrite' for importer type <class 'fiftyone.utils.dicom.DICOMDatasetImporter'>\n",
      " 100% |███████████████████| 50/50 [1.8s elapsed, 0s remaining, 27.5 samples/s]      \n"
     ]
    },
    {
     "name": "stderr",
     "output_type": "stream",
     "text": [
      " 41%|████      | 458/1128 [39:29<31:09,  2.79s/it]"
     ]
    },
    {
     "name": "stdout",
     "output_type": "stream",
     "text": [
      "No `images_dir` provided. Images will be unpacked to '/opt/project/data/TCGA-AO-A0JI/05-05-2001-NA-NA-32428/5147.000000-DIAG MAMMOGRAM U-73748'\n",
      "Ignoring unsupported parameter 'overwrite' for importer type <class 'fiftyone.utils.dicom.DICOMDatasetImporter'>\n"
     ]
    },
    {
     "name": "stderr",
     "output_type": "stream",
     "text": [
      "/usr/local/lib/python3.8/site-packages/fiftyone/utils/dicom.py:99: UserWarning: Ignoring field 'VOILUTSequence' with unsupported type <class 'pydicom.sequence.Sequence'>\n",
      "  warnings.warn(msg)\n"
     ]
    },
    {
     "name": "stdout",
     "output_type": "stream",
     "text": [
      " 100% |█████████████████████| 2/2 [1.4s elapsed, 0s remaining, 1.5 samples/s]   \n"
     ]
    },
    {
     "name": "stderr",
     "output_type": "stream",
     "text": [
      " 41%|████      | 459/1128 [39:31<26:47,  2.40s/it]"
     ]
    },
    {
     "name": "stdout",
     "output_type": "stream",
     "text": [
      "No `images_dir` provided. Images will be unpacked to '/opt/project/data/TCGA-BH-A0AW/02-19-2002-NA-BREAST MRI-78041/101.000000-CAD sub 4-28707'\n",
      "Ignoring unsupported parameter 'overwrite' for importer type <class 'fiftyone.utils.dicom.DICOMDatasetImporter'>\n",
      " 100% |███████████████████| 88/88 [2.6s elapsed, 0s remaining, 41.0 samples/s]      \n"
     ]
    },
    {
     "name": "stderr",
     "output_type": "stream",
     "text": [
      " 41%|████      | 460/1128 [39:34<28:40,  2.58s/it]"
     ]
    },
    {
     "name": "stdout",
     "output_type": "stream",
     "text": [
      "No `images_dir` provided. Images will be unpacked to '/opt/project/data/TCGA-BH-A0BM/09-03-2000-NA-BREAST MRI-42240/100.000000-CAD REG CAD Sub 1-16704'\n",
      "Ignoring unsupported parameter 'overwrite' for importer type <class 'fiftyone.utils.dicom.DICOMDatasetImporter'>\n",
      " 100% |███████████████████| 76/76 [2.3s elapsed, 0s remaining, 43.1 samples/s]      \n"
     ]
    },
    {
     "name": "stderr",
     "output_type": "stream",
     "text": [
      " 41%|████      | 461/1128 [39:36<28:48,  2.59s/it]"
     ]
    },
    {
     "name": "stdout",
     "output_type": "stream",
     "text": [
      "No `images_dir` provided. Images will be unpacked to '/opt/project/data/TCGA-BH-A0HY/05-29-2002-NA-BREAST MRI-25536/2000.000000-CAD MIP-76380'\n",
      "Ignoring unsupported parameter 'overwrite' for importer type <class 'fiftyone.utils.dicom.DICOMDatasetImporter'>\n",
      " 100% |███████████████████| 45/45 [1.7s elapsed, 0s remaining, 26.3 samples/s]      \n"
     ]
    },
    {
     "name": "stderr",
     "output_type": "stream",
     "text": [
      " 41%|████      | 462/1128 [39:38<26:46,  2.41s/it]"
     ]
    },
    {
     "name": "stdout",
     "output_type": "stream",
     "text": [
      "No `images_dir` provided. Images will be unpacked to '/opt/project/data/TCGA-AO-A12G/03-29-2001-NA-NA-34806/102.000000-T1 Sagittal pre fat sat-87365'\n",
      "Ignoring unsupported parameter 'overwrite' for importer type <class 'fiftyone.utils.dicom.DICOMDatasetImporter'>\n",
      " 100% |███████████████████| 39/39 [1.3s elapsed, 0s remaining, 29.0 samples/s]      \n"
     ]
    },
    {
     "name": "stderr",
     "output_type": "stream",
     "text": [
      " 41%|████      | 463/1128 [39:40<23:58,  2.16s/it]"
     ]
    },
    {
     "name": "stdout",
     "output_type": "stream",
     "text": [
      "No `images_dir` provided. Images will be unpacked to '/opt/project/data/TCGA-BH-A0B1/09-04-2000-NA-BREAST MRI-93235/100.000000-CAD REG CAD Sub 1-36730'\n",
      "Ignoring unsupported parameter 'overwrite' for importer type <class 'fiftyone.utils.dicom.DICOMDatasetImporter'>\n",
      " 100% |███████████████████| 90/90 [2.7s elapsed, 0s remaining, 41.4 samples/s]      \n"
     ]
    },
    {
     "name": "stderr",
     "output_type": "stream",
     "text": [
      " 41%|████      | 464/1128 [39:43<26:48,  2.42s/it]"
     ]
    },
    {
     "name": "stdout",
     "output_type": "stream",
     "text": [
      "No `images_dir` provided. Images will be unpacked to '/opt/project/data/TCGA-E2-A1IE/01-04-2001-NA-MR BREAST BILATERAL WWO CONT-63539/10.000000-ASSET CALIBRATION-04576'\n",
      "Ignoring unsupported parameter 'overwrite' for importer type <class 'fiftyone.utils.dicom.DICOMDatasetImporter'>\n",
      " 100% |███████████████████| 30/30 [1.1s elapsed, 0s remaining, 28.4 samples/s]         \n"
     ]
    },
    {
     "name": "stderr",
     "output_type": "stream",
     "text": [
      " 41%|████      | 465/1128 [39:44<23:00,  2.08s/it]"
     ]
    },
    {
     "name": "stdout",
     "output_type": "stream",
     "text": [
      "No `images_dir` provided. Images will be unpacked to '/opt/project/data/TCGA-BH-A0DT/10-29-2000-NA-BREAST MRI-03753/1.000000-3 plane loc-59887'\n",
      "Ignoring unsupported parameter 'overwrite' for importer type <class 'fiftyone.utils.dicom.DICOMDatasetImporter'>\n",
      " 100% |███████████████████| 29/29 [1.1s elapsed, 0s remaining, 25.5 samples/s]         \n"
     ]
    },
    {
     "name": "stderr",
     "output_type": "stream",
     "text": [
      " 41%|████▏     | 466/1128 [39:46<20:35,  1.87s/it]"
     ]
    },
    {
     "name": "stdout",
     "output_type": "stream",
     "text": [
      "No `images_dir` provided. Images will be unpacked to '/opt/project/data/TCGA-BH-A0GZ/02-17-2003-NA-BREAST MRI-72293/1001.000000-CAD VOLUME-76677'\n",
      "Ignoring unsupported parameter 'overwrite' for importer type <class 'fiftyone.utils.dicom.DICOMDatasetImporter'>\n",
      " 100% |█████████████████████| 4/4 [665.9ms elapsed, 0s remaining, 6.0 samples/s]   \n"
     ]
    },
    {
     "name": "stderr",
     "output_type": "stream",
     "text": [
      " 41%|████▏     | 467/1128 [39:46<17:04,  1.55s/it]"
     ]
    },
    {
     "name": "stdout",
     "output_type": "stream",
     "text": [
      "No `images_dir` provided. Images will be unpacked to '/opt/project/data/TCGA-BH-A0DI/11-20-2002-NA-BREAST MRI-40073/2.000000-Calibration Scan-01852'\n",
      "Ignoring unsupported parameter 'overwrite' for importer type <class 'fiftyone.utils.dicom.DICOMDatasetImporter'>\n",
      " 100% |███████████████████| 96/96 [2.5s elapsed, 0s remaining, 48.6 samples/s]      \n"
     ]
    },
    {
     "name": "stderr",
     "output_type": "stream",
     "text": [
      " 41%|████▏     | 468/1128 [39:49<21:25,  1.95s/it]"
     ]
    },
    {
     "name": "stdout",
     "output_type": "stream",
     "text": [
      "No `images_dir` provided. Images will be unpacked to '/opt/project/data/TCGA-BH-A0BJ/01-08-2002-NA-BIOPSY-69800/2.000000-Calibration Scan-49422'\n",
      "Ignoring unsupported parameter 'overwrite' for importer type <class 'fiftyone.utils.dicom.DICOMDatasetImporter'>\n",
      " 100% |███████████████████| 96/96 [2.5s elapsed, 0s remaining, 48.9 samples/s]      \n"
     ]
    },
    {
     "name": "stderr",
     "output_type": "stream",
     "text": [
      " 42%|████▏     | 469/1128 [39:52<24:39,  2.25s/it]"
     ]
    },
    {
     "name": "stdout",
     "output_type": "stream",
     "text": [
      "No `images_dir` provided. Images will be unpacked to '/opt/project/data/TCGA-BH-A18H/02-03-2004-NA-BREAST MRI-53089/1001.000000-CAD VOLUME-73900'\n",
      "Ignoring unsupported parameter 'overwrite' for importer type <class 'fiftyone.utils.dicom.DICOMDatasetImporter'>\n",
      " 100% |█████████████████████| 4/4 [696.3ms elapsed, 0s remaining, 5.7 samples/s]   \n"
     ]
    },
    {
     "name": "stderr",
     "output_type": "stream",
     "text": [
      " 42%|████▏     | 470/1128 [39:53<20:02,  1.83s/it]"
     ]
    },
    {
     "name": "stdout",
     "output_type": "stream",
     "text": [
      "No `images_dir` provided. Images will be unpacked to '/opt/project/data/TCGA-AO-A03V/08-10-2002-NA-NA-16391/2.000000-T2 left breast-95468'\n",
      "Ignoring unsupported parameter 'overwrite' for importer type <class 'fiftyone.utils.dicom.DICOMDatasetImporter'>\n",
      " 100% |███████████████████| 42/42 [1.4s elapsed, 0s remaining, 30.4 samples/s]      \n"
     ]
    },
    {
     "name": "stderr",
     "output_type": "stream",
     "text": [
      " 42%|████▏     | 471/1128 [39:55<19:27,  1.78s/it]"
     ]
    },
    {
     "name": "stdout",
     "output_type": "stream",
     "text": [
      "No `images_dir` provided. Images will be unpacked to '/opt/project/data/TCGA-BH-A0HX/11-05-2001-NA-BREAST MRI-23277/200.000000-CAD sag reformat-04501'\n",
      "Ignoring unsupported parameter 'overwrite' for importer type <class 'fiftyone.utils.dicom.DICOMDatasetImporter'>\n",
      " 100% |█████████████████| 150/150 [3.9s elapsed, 0s remaining, 43.1 samples/s]       \n"
     ]
    },
    {
     "name": "stderr",
     "output_type": "stream",
     "text": [
      " 42%|████▏     | 472/1128 [39:59<28:09,  2.58s/it]"
     ]
    },
    {
     "name": "stdout",
     "output_type": "stream",
     "text": [
      "No `images_dir` provided. Images will be unpacked to '/opt/project/data/TCGA-BH-A0HY/05-29-2002-NA-BREAST MRI-25536/200.000000-CAD sag reformat-28946'\n",
      "Ignoring unsupported parameter 'overwrite' for importer type <class 'fiftyone.utils.dicom.DICOMDatasetImporter'>\n",
      " 100% |█████████████████| 150/150 [4.1s elapsed, 0s remaining, 41.3 samples/s]       \n"
     ]
    },
    {
     "name": "stderr",
     "output_type": "stream",
     "text": [
      " 42%|████▏     | 473/1128 [40:04<34:37,  3.17s/it]"
     ]
    },
    {
     "name": "stdout",
     "output_type": "stream",
     "text": [
      "No `images_dir` provided. Images will be unpacked to '/opt/project/data/TCGA-BH-A0H3/07-27-2001-NA-BREAST MRI-61560/2000.000000-CAD MIP-18625'\n",
      "Ignoring unsupported parameter 'overwrite' for importer type <class 'fiftyone.utils.dicom.DICOMDatasetImporter'>\n",
      " 100% |███████████████████| 45/45 [1.7s elapsed, 0s remaining, 26.9 samples/s]      \n"
     ]
    },
    {
     "name": "stderr",
     "output_type": "stream",
     "text": [
      " 42%|████▏     | 474/1128 [40:06<30:32,  2.80s/it]"
     ]
    },
    {
     "name": "stdout",
     "output_type": "stream",
     "text": [
      "No `images_dir` provided. Images will be unpacked to '/opt/project/data/TCGA-AR-A1AX/09-24-2003-NA-MRI BREAST BILATERAL-61364/2000.000000-CAD Collection MIP 106-50442'\n",
      "Ignoring unsupported parameter 'overwrite' for importer type <class 'fiftyone.utils.dicom.DICOMDatasetImporter'>\n",
      " 100% |███████████████████| 45/45 [1.8s elapsed, 0s remaining, 24.4 samples/s]      \n"
     ]
    },
    {
     "name": "stderr",
     "output_type": "stream",
     "text": [
      " 42%|████▏     | 475/1128 [40:08<28:31,  2.62s/it]"
     ]
    },
    {
     "name": "stdout",
     "output_type": "stream",
     "text": [
      "No `images_dir` provided. Images will be unpacked to '/opt/project/data/TCGA-BH-A0W5/07-25-2001-NA-MRI BREAST-10788/5.000000-Sag Vibrant C-81330'\n",
      "Ignoring unsupported parameter 'overwrite' for importer type <class 'fiftyone.utils.dicom.DICOMDatasetImporter'>\n",
      " 100% |█████████████████| 152/152 [4.0s elapsed, 0s remaining, 42.2 samples/s]       \n"
     ]
    },
    {
     "name": "stderr",
     "output_type": "stream",
     "text": [
      " 42%|████▏     | 476/1128 [40:12<35:01,  3.22s/it]"
     ]
    },
    {
     "name": "stdout",
     "output_type": "stream",
     "text": [
      "No `images_dir` provided. Images will be unpacked to '/opt/project/data/TCGA-BH-A18F/12-22-2003-NA-BREAST MRI-50626/1.000000-3 plane loc-78202'\n",
      "Ignoring unsupported parameter 'overwrite' for importer type <class 'fiftyone.utils.dicom.DICOMDatasetImporter'>\n",
      " 100% |███████████████████| 29/29 [1.2s elapsed, 0s remaining, 24.7 samples/s]         \n"
     ]
    },
    {
     "name": "stderr",
     "output_type": "stream",
     "text": [
      " 42%|████▏     | 477/1128 [40:14<29:01,  2.68s/it]"
     ]
    },
    {
     "name": "stdout",
     "output_type": "stream",
     "text": [
      "No `images_dir` provided. Images will be unpacked to '/opt/project/data/TCGA-AR-A1AQ/05-07-2003-NA-MRI BREAST BILATERAL-81050/9.000000-brava  1 Min.-63760'\n",
      "Ignoring unsupported parameter 'overwrite' for importer type <class 'fiftyone.utils.dicom.DICOMDatasetImporter'>\n",
      " 100% |█████████████████| 136/136 [4.0s elapsed, 0s remaining, 40.0 samples/s]       \n"
     ]
    },
    {
     "name": "stderr",
     "output_type": "stream",
     "text": [
      " 42%|████▏     | 478/1128 [40:18<34:45,  3.21s/it]"
     ]
    },
    {
     "name": "stdout",
     "output_type": "stream",
     "text": [
      "No `images_dir` provided. Images will be unpacked to '/opt/project/data/TCGA-AO-A12G/03-29-2001-NA-NA-34806/112.000000-T1 Sagittal post fat sat-88586'\n",
      "Ignoring unsupported parameter 'overwrite' for importer type <class 'fiftyone.utils.dicom.DICOMDatasetImporter'>\n",
      " 100% |███████████████████| 39/39 [1.4s elapsed, 0s remaining, 28.2 samples/s]      \n"
     ]
    },
    {
     "name": "stderr",
     "output_type": "stream",
     "text": [
      " 42%|████▏     | 479/1128 [40:20<29:41,  2.74s/it]"
     ]
    },
    {
     "name": "stdout",
     "output_type": "stream",
     "text": [
      "No `images_dir` provided. Images will be unpacked to '/opt/project/data/TCGA-BH-A0B6/10-18-1999-NA-BREAST MRI-60819/103.000000-CAD REG CAD Sub 4-53076'\n",
      "Ignoring unsupported parameter 'overwrite' for importer type <class 'fiftyone.utils.dicom.DICOMDatasetImporter'>\n",
      " 100% |███████████████████| 92/92 [2.7s elapsed, 0s remaining, 41.1 samples/s]      \n"
     ]
    },
    {
     "name": "stderr",
     "output_type": "stream",
     "text": [
      " 43%|████▎     | 480/1128 [40:23<30:47,  2.85s/it]"
     ]
    },
    {
     "name": "stdout",
     "output_type": "stream",
     "text": [
      "No `images_dir` provided. Images will be unpacked to '/opt/project/data/TCGA-AO-A0J9/05-11-2001-NA-NA-96851/114.000000-1547710461-1547710261-66193'\n",
      "Ignoring unsupported parameter 'overwrite' for importer type <class 'fiftyone.utils.dicom.DICOMDatasetImporter'>\n",
      " 100% |███████████████████| 61/61 [1.8s elapsed, 0s remaining, 34.5 samples/s]      \n"
     ]
    },
    {
     "name": "stderr",
     "output_type": "stream",
     "text": [
      " 43%|████▎     | 481/1128 [40:25<28:19,  2.63s/it]"
     ]
    },
    {
     "name": "stdout",
     "output_type": "stream",
     "text": [
      "No `images_dir` provided. Images will be unpacked to '/opt/project/data/TCGA-BH-A0AZ/01-09-2002-NA-BREAST MRI-21010/5.000000-Sag Vibrant C-98230'\n",
      "Ignoring unsupported parameter 'overwrite' for importer type <class 'fiftyone.utils.dicom.DICOMDatasetImporter'>\n",
      " 100% |█████████████████| 148/148 [4.0s elapsed, 0s remaining, 40.6 samples/s]       \n"
     ]
    },
    {
     "name": "stderr",
     "output_type": "stream",
     "text": [
      " 43%|████▎     | 482/1128 [40:30<34:22,  3.19s/it]"
     ]
    },
    {
     "name": "stdout",
     "output_type": "stream",
     "text": [
      "No `images_dir` provided. Images will be unpacked to '/opt/project/data/TCGA-BH-A0HX/11-05-2001-NA-BREAST MRI-23277/4.000000-Ax Vibrant MULTIPHASE-84007'\n",
      "Ignoring unsupported parameter 'overwrite' for importer type <class 'fiftyone.utils.dicom.DICOMDatasetImporter'>\n",
      " 100% |█████████████████| 410/410 [11.1s elapsed, 0s remaining, 39.0 samples/s]      \n"
     ]
    },
    {
     "name": "stderr",
     "output_type": "stream",
     "text": [
      " 43%|████▎     | 483/1128 [40:42<1:03:32,  5.91s/it]"
     ]
    },
    {
     "name": "stdout",
     "output_type": "stream",
     "text": [
      "No `images_dir` provided. Images will be unpacked to '/opt/project/data/TCGA-AO-A0JM/09-15-1999-NA-NA-59814/106.000000-NA-87496'\n",
      "Ignoring unsupported parameter 'overwrite' for importer type <class 'fiftyone.utils.dicom.DICOMDatasetImporter'>\n",
      " 100% |███████████████████| 45/45 [1.5s elapsed, 0s remaining, 30.5 samples/s]      \n"
     ]
    },
    {
     "name": "stderr",
     "output_type": "stream",
     "text": [
      " 43%|████▎     | 484/1128 [40:44<50:00,  4.66s/it]  "
     ]
    },
    {
     "name": "stdout",
     "output_type": "stream",
     "text": [
      "No `images_dir` provided. Images will be unpacked to '/opt/project/data/TCGA-AO-A03V/08-10-2002-NA-NA-16391/1.000000-Localization-54541'\n",
      "Ignoring unsupported parameter 'overwrite' for importer type <class 'fiftyone.utils.dicom.DICOMDatasetImporter'>\n",
      " 100% |███████████████████| 35/35 [1.2s elapsed, 0s remaining, 28.9 samples/s]         \n"
     ]
    },
    {
     "name": "stderr",
     "output_type": "stream",
     "text": [
      " 43%|████▎     | 485/1128 [40:45<39:38,  3.70s/it]"
     ]
    },
    {
     "name": "stdout",
     "output_type": "stream",
     "text": [
      "No `images_dir` provided. Images will be unpacked to '/opt/project/data/TCGA-AO-A0JI/11-06-2001-NA-NA-80329/103.000000-Bind18029657..112-66971'\n",
      "Ignoring unsupported parameter 'overwrite' for importer type <class 'fiftyone.utils.dicom.DICOMDatasetImporter'>\n",
      " 100% |███████████████████| 56/56 [1.6s elapsed, 0s remaining, 34.4 samples/s]      \n"
     ]
    },
    {
     "name": "stderr",
     "output_type": "stream",
     "text": [
      " 43%|████▎     | 486/1128 [40:47<33:50,  3.16s/it]"
     ]
    },
    {
     "name": "stdout",
     "output_type": "stream",
     "text": [
      "No `images_dir` provided. Images will be unpacked to '/opt/project/data/TCGA-BH-A0AZ/01-09-2002-NA-BREAST MRI-21010/202.000000-CAD cor reformat-41362'\n",
      "Ignoring unsupported parameter 'overwrite' for importer type <class 'fiftyone.utils.dicom.DICOMDatasetImporter'>\n",
      " 100% |█████████████████| 150/150 [3.9s elapsed, 0s remaining, 43.0 samples/s]       \n"
     ]
    },
    {
     "name": "stderr",
     "output_type": "stream",
     "text": [
      " 43%|████▎     | 487/1128 [40:52<37:58,  3.56s/it]"
     ]
    },
    {
     "name": "stdout",
     "output_type": "stream",
     "text": [
      "No `images_dir` provided. Images will be unpacked to '/opt/project/data/TCGA-E2-A15I/06-15-2002-NA-MR BREAST BILATERAL WWO CONT-84178/6.000000-SAG 3D PRE-CONTRAST-59845'\n",
      "Ignoring unsupported parameter 'overwrite' for importer type <class 'fiftyone.utils.dicom.DICOMDatasetImporter'>\n",
      " 100% |█████████████████| 116/116 [3.4s elapsed, 0s remaining, 39.0 samples/s]      \n"
     ]
    },
    {
     "name": "stderr",
     "output_type": "stream",
     "text": [
      " 43%|████▎     | 488/1128 [40:55<38:57,  3.65s/it]"
     ]
    },
    {
     "name": "stdout",
     "output_type": "stream",
     "text": [
      "No `images_dir` provided. Images will be unpacked to '/opt/project/data/TCGA-BH-A0HY/05-29-2002-NA-BREAST MRI-25536/202.000000-CAD cor reformat-03671'\n",
      "Ignoring unsupported parameter 'overwrite' for importer type <class 'fiftyone.utils.dicom.DICOMDatasetImporter'>\n",
      " 100% |█████████████████| 150/150 [4.0s elapsed, 0s remaining, 41.0 samples/s]       \n"
     ]
    },
    {
     "name": "stderr",
     "output_type": "stream",
     "text": [
      " 43%|████▎     | 489/1128 [41:00<41:47,  3.92s/it]"
     ]
    },
    {
     "name": "stdout",
     "output_type": "stream",
     "text": [
      "No `images_dir` provided. Images will be unpacked to '/opt/project/data/TCGA-AO-A12D/09-23-1999-NA-NA-51146/1.000000-Localization-51109'\n",
      "Ignoring unsupported parameter 'overwrite' for importer type <class 'fiftyone.utils.dicom.DICOMDatasetImporter'>\n",
      " 100% |███████████████████| 57/57 [1.7s elapsed, 0s remaining, 34.2 samples/s]      \n"
     ]
    },
    {
     "name": "stderr",
     "output_type": "stream",
     "text": [
      " 43%|████▎     | 490/1128 [41:02<35:24,  3.33s/it]"
     ]
    },
    {
     "name": "stdout",
     "output_type": "stream",
     "text": [
      "No `images_dir` provided. Images will be unpacked to '/opt/project/data/TCGA-BH-A0H9/09-25-2000-NA-BREAST MRI-55072/101.000000-CAD REG CAD Sub 2-03900'\n",
      "Ignoring unsupported parameter 'overwrite' for importer type <class 'fiftyone.utils.dicom.DICOMDatasetImporter'>\n",
      " 100% |███████████████████| 70/70 [2.1s elapsed, 0s remaining, 42.0 samples/s]      \n"
     ]
    },
    {
     "name": "stderr",
     "output_type": "stream",
     "text": [
      " 44%|████▎     | 491/1128 [41:04<32:34,  3.07s/it]"
     ]
    },
    {
     "name": "stdout",
     "output_type": "stream",
     "text": [
      "No `images_dir` provided. Images will be unpacked to '/opt/project/data/TCGA-AR-A1AX/09-12-2002-NA-MRI BREAST BILATERAL-55235/9.000000-brava  1 Min.-01170'\n",
      "Ignoring unsupported parameter 'overwrite' for importer type <class 'fiftyone.utils.dicom.DICOMDatasetImporter'>\n",
      " 100% |█████████████████| 144/144 [4.3s elapsed, 0s remaining, 40.7 samples/s]       \n"
     ]
    },
    {
     "name": "stderr",
     "output_type": "stream",
     "text": [
      " 44%|████▎     | 492/1128 [41:09<38:09,  3.60s/it]"
     ]
    },
    {
     "name": "stdout",
     "output_type": "stream",
     "text": [
      "No `images_dir` provided. Images will be unpacked to '/opt/project/data/TCGA-E2-A1LG/11-06-2002-NA-MR BREAST BILATERAL WWO CONT-85265/13.000000-SAG 3D POST-CONTRAST-59576'\n",
      "Ignoring unsupported parameter 'overwrite' for importer type <class 'fiftyone.utils.dicom.DICOMDatasetImporter'>\n",
      " 100% |█████████████████| 136/136 [4.0s elapsed, 0s remaining, 38.2 samples/s]       \n"
     ]
    },
    {
     "name": "stderr",
     "output_type": "stream",
     "text": [
      " 44%|████▎     | 493/1128 [41:14<40:55,  3.87s/it]"
     ]
    },
    {
     "name": "stdout",
     "output_type": "stream",
     "text": [
      "No `images_dir` provided. Images will be unpacked to '/opt/project/data/TCGA-BH-A0H5/06-20-2001-NA-BREAST MRI-23793/200.000000-CAD sag reformat-30233'\n",
      "Ignoring unsupported parameter 'overwrite' for importer type <class 'fiftyone.utils.dicom.DICOMDatasetImporter'>\n",
      " 100% |█████████████████| 145/145 [3.9s elapsed, 0s remaining, 42.9 samples/s]       \n"
     ]
    },
    {
     "name": "stderr",
     "output_type": "stream",
     "text": [
      " 44%|████▍     | 494/1128 [41:18<42:29,  4.02s/it]"
     ]
    },
    {
     "name": "stdout",
     "output_type": "stream",
     "text": [
      "No `images_dir` provided. Images will be unpacked to '/opt/project/data/TCGA-BH-A0B3/10-09-2000-NA-BREAST MRI-95408/4.000000-Sag Vibrant Pre-38259'\n",
      "Ignoring unsupported parameter 'overwrite' for importer type <class 'fiftyone.utils.dicom.DICOMDatasetImporter'>\n",
      " 100% |█████████████████| 140/140 [3.7s elapsed, 0s remaining, 44.1 samples/s]       \n"
     ]
    },
    {
     "name": "stderr",
     "output_type": "stream",
     "text": [
      " 44%|████▍     | 495/1128 [41:22<42:58,  4.07s/it]"
     ]
    },
    {
     "name": "stdout",
     "output_type": "stream",
     "text": [
      "No `images_dir` provided. Images will be unpacked to '/opt/project/data/TCGA-AR-A1AX/09-24-2003-NA-MRI BREAST BILATERAL-61364/203.000000-CAD Rt Sagittal Sub-96016'\n",
      "Ignoring unsupported parameter 'overwrite' for importer type <class 'fiftyone.utils.dicom.DICOMDatasetImporter'>\n",
      " 100% |███████████████████| 60/60 [2.0s elapsed, 0s remaining, 29.9 samples/s]      \n"
     ]
    },
    {
     "name": "stderr",
     "output_type": "stream",
     "text": [
      " 44%|████▍     | 496/1128 [41:25<37:18,  3.54s/it]"
     ]
    },
    {
     "name": "stdout",
     "output_type": "stream",
     "text": [
      "No `images_dir` provided. Images will be unpacked to '/opt/project/data/TCGA-BH-A0BQ/04-25-2000-NA-BREAST MRI-78053/6.000000-Ax Vibrant MULTIPHASE-29923'\n",
      "Ignoring unsupported parameter 'overwrite' for importer type <class 'fiftyone.utils.dicom.DICOMDatasetImporter'>\n",
      " 100% |█████████████████| 360/360 [9.9s elapsed, 0s remaining, 37.4 samples/s]       \n"
     ]
    },
    {
     "name": "stderr",
     "output_type": "stream",
     "text": [
      " 44%|████▍     | 497/1128 [41:36<1:00:43,  5.77s/it]"
     ]
    },
    {
     "name": "stdout",
     "output_type": "stream",
     "text": [
      "No `images_dir` provided. Images will be unpacked to '/opt/project/data/TCGA-BH-A0H6/02-03-2002-NA-MRI BREAST-85463/101.000000-CAD sub 4-56901'\n",
      "Ignoring unsupported parameter 'overwrite' for importer type <class 'fiftyone.utils.dicom.DICOMDatasetImporter'>\n",
      " 100% |███████████████████| 68/68 [2.1s elapsed, 0s remaining, 41.5 samples/s]      \n"
     ]
    },
    {
     "name": "stderr",
     "output_type": "stream",
     "text": [
      " 44%|████▍     | 498/1128 [41:38<50:05,  4.77s/it]  "
     ]
    },
    {
     "name": "stdout",
     "output_type": "stream",
     "text": [
      "No `images_dir` provided. Images will be unpacked to '/opt/project/data/TCGA-BH-A0DZ/10-16-2002-NA-BREAST MRI-48146/103.000000-CAD sub 3-73105'\n",
      "Ignoring unsupported parameter 'overwrite' for importer type <class 'fiftyone.utils.dicom.DICOMDatasetImporter'>\n",
      " 100% |█████████████████| 102/102 [3.0s elapsed, 0s remaining, 40.5 samples/s]      \n"
     ]
    },
    {
     "name": "stderr",
     "output_type": "stream",
     "text": [
      " 44%|████▍     | 499/1128 [41:41<45:45,  4.36s/it]"
     ]
    },
    {
     "name": "stdout",
     "output_type": "stream",
     "text": [
      "No `images_dir` provided. Images will be unpacked to '/opt/project/data/TCGA-AR-A24S/12-11-1999-NA-MRI - BREAST-03194/5.000000-sag 3dpost-51989'\n",
      "Ignoring unsupported parameter 'overwrite' for importer type <class 'fiftyone.utils.dicom.DICOMDatasetImporter'>\n",
      " 100% |███████████████████| 24/24 [1.1s elapsed, 0s remaining, 21.9 samples/s]         \n"
     ]
    },
    {
     "name": "stderr",
     "output_type": "stream",
     "text": [
      " 44%|████▍     | 500/1128 [41:43<36:09,  3.45s/it]"
     ]
    },
    {
     "name": "stdout",
     "output_type": "stream",
     "text": [
      "No `images_dir` provided. Images will be unpacked to '/opt/project/data/TCGA-AO-A12F/10-16-2000-NA-NA-19596/107.000000-Bind56477157..208-64934'\n",
      "Ignoring unsupported parameter 'overwrite' for importer type <class 'fiftyone.utils.dicom.DICOMDatasetImporter'>\n",
      " 100% |███████████████████| 52/52 [1.6s elapsed, 0s remaining, 33.0 samples/s]      \n"
     ]
    },
    {
     "name": "stderr",
     "output_type": "stream",
     "text": [
      " 44%|████▍     | 501/1128 [41:45<31:06,  2.98s/it]"
     ]
    },
    {
     "name": "stdout",
     "output_type": "stream",
     "text": [
      "No `images_dir` provided. Images will be unpacked to '/opt/project/data/TCGA-AR-A24S/11-25-1999-NA-MRI - BREAST-35077/100.000000-10185898-10185810-50056'\n",
      "Ignoring unsupported parameter 'overwrite' for importer type <class 'fiftyone.utils.dicom.DICOMDatasetImporter'>\n",
      " 100% |███████████████████| 88/88 [2.1s elapsed, 0s remaining, 51.6 samples/s]      \n"
     ]
    },
    {
     "name": "stderr",
     "output_type": "stream",
     "text": [
      " 45%|████▍     | 502/1128 [41:47<29:23,  2.82s/it]"
     ]
    },
    {
     "name": "stdout",
     "output_type": "stream",
     "text": [
      "No `images_dir` provided. Images will be unpacked to '/opt/project/data/TCGA-BH-A0C0/08-20-2000-NA-BREAST MRI-05483/103.000000-CAD REG CAD Sub 4-09003'\n",
      "Ignoring unsupported parameter 'overwrite' for importer type <class 'fiftyone.utils.dicom.DICOMDatasetImporter'>\n",
      " 100% |███████████████████| 70/70 [2.2s elapsed, 0s remaining, 40.6 samples/s]      \n"
     ]
    },
    {
     "name": "stderr",
     "output_type": "stream",
     "text": [
      " 45%|████▍     | 503/1128 [41:50<28:31,  2.74s/it]"
     ]
    },
    {
     "name": "stdout",
     "output_type": "stream",
     "text": [
      "No `images_dir` provided. Images will be unpacked to '/opt/project/data/TCGA-E2-A1IN/07-28-2002-NA-MR BREAST BILATERAL WWO CONT-40961/2.000000-SAG T1 PRE-79188'\n",
      "Ignoring unsupported parameter 'overwrite' for importer type <class 'fiftyone.utils.dicom.DICOMDatasetImporter'>\n",
      " 100% |███████████████████| 90/90 [2.7s elapsed, 0s remaining, 40.9 samples/s]      \n"
     ]
    },
    {
     "name": "stderr",
     "output_type": "stream",
     "text": [
      " 45%|████▍     | 504/1128 [41:53<29:26,  2.83s/it]"
     ]
    },
    {
     "name": "stdout",
     "output_type": "stream",
     "text": [
      "No `images_dir` provided. Images will be unpacked to '/opt/project/data/TCGA-AO-A12D/09-23-1999-NA-NA-51146/115.000000-PJN-13216'\n",
      "Ignoring unsupported parameter 'overwrite' for importer type <class 'fiftyone.utils.dicom.DICOMDatasetImporter'>\n",
      " 100% |███████████████████| 13/13 [656.8ms elapsed, 0s remaining, 19.8 samples/s]      \n"
     ]
    },
    {
     "name": "stderr",
     "output_type": "stream",
     "text": [
      " 45%|████▍     | 505/1128 [41:54<23:11,  2.23s/it]"
     ]
    },
    {
     "name": "stdout",
     "output_type": "stream",
     "text": [
      "No `images_dir` provided. Images will be unpacked to '/opt/project/data/TCGA-E2-A15M/08-11-2002-NA-MR BREAST BILATERAL WWO CONT-35322/1.000000-3-PLANE LOCALIZER-55260'\n",
      "Ignoring unsupported parameter 'overwrite' for importer type <class 'fiftyone.utils.dicom.DICOMDatasetImporter'>\n",
      " 100% |███████████████████| 45/45 [1.8s elapsed, 0s remaining, 25.6 samples/s]      \n"
     ]
    },
    {
     "name": "stderr",
     "output_type": "stream",
     "text": [
      " 45%|████▍     | 506/1128 [41:56<22:25,  2.16s/it]"
     ]
    },
    {
     "name": "stdout",
     "output_type": "stream",
     "text": [
      "No `images_dir` provided. Images will be unpacked to '/opt/project/data/TCGA-BH-A18F/12-22-2003-NA-BREAST MRI-50626/103.000000-CAD sub 3-71138'\n",
      "Ignoring unsupported parameter 'overwrite' for importer type <class 'fiftyone.utils.dicom.DICOMDatasetImporter'>\n",
      " 100% |███████████████████| 88/88 [2.7s elapsed, 0s remaining, 40.3 samples/s]      \n"
     ]
    },
    {
     "name": "stderr",
     "output_type": "stream",
     "text": [
      " 45%|████▍     | 507/1128 [41:59<25:12,  2.44s/it]"
     ]
    },
    {
     "name": "stdout",
     "output_type": "stream",
     "text": [
      "No `images_dir` provided. Images will be unpacked to '/opt/project/data/TCGA-BH-A28Q/01-26-2004-NA-BREAST MRI-39143/200.000000-CAD sag reformat-52156'\n",
      "Ignoring unsupported parameter 'overwrite' for importer type <class 'fiftyone.utils.dicom.DICOMDatasetImporter'>\n",
      " 100% |█████████████████| 150/150 [3.9s elapsed, 0s remaining, 44.0 samples/s]       \n"
     ]
    },
    {
     "name": "stderr",
     "output_type": "stream",
     "text": [
      " 45%|████▌     | 508/1128 [42:03<31:16,  3.03s/it]"
     ]
    },
    {
     "name": "stdout",
     "output_type": "stream",
     "text": [
      "No `images_dir` provided. Images will be unpacked to '/opt/project/data/TCGA-BH-A0B6/10-18-1999-NA-BREAST MRI-60819/1.000000-3 plane loc-64832'\n",
      "Ignoring unsupported parameter 'overwrite' for importer type <class 'fiftyone.utils.dicom.DICOMDatasetImporter'>\n",
      " 100% |███████████████████| 29/29 [1.1s elapsed, 0s remaining, 25.9 samples/s]         \n"
     ]
    },
    {
     "name": "stderr",
     "output_type": "stream",
     "text": [
      " 45%|████▌     | 509/1128 [42:04<26:04,  2.53s/it]"
     ]
    },
    {
     "name": "stdout",
     "output_type": "stream",
     "text": [
      "No `images_dir` provided. Images will be unpacked to '/opt/project/data/TCGA-E2-A1L7/12-29-2001-NA-MR BREAST BILATERAL WWO CONT-27861/1.000000-3-PLANE LOCALIZER-80222'\n",
      "Ignoring unsupported parameter 'overwrite' for importer type <class 'fiftyone.utils.dicom.DICOMDatasetImporter'>\n",
      " 100% |███████████████████| 45/45 [1.6s elapsed, 0s remaining, 28.3 samples/s]      \n"
     ]
    },
    {
     "name": "stderr",
     "output_type": "stream",
     "text": [
      " 45%|████▌     | 510/1128 [42:06<23:59,  2.33s/it]"
     ]
    },
    {
     "name": "stdout",
     "output_type": "stream",
     "text": [
      "No `images_dir` provided. Images will be unpacked to '/opt/project/data/TCGA-BH-A0DT/11-11-2000-NA-BIOPSY-26175/4.000000-Sag Vibrant C-48100'\n",
      "Ignoring unsupported parameter 'overwrite' for importer type <class 'fiftyone.utils.dicom.DICOMDatasetImporter'>\n",
      " 100% |█████████████████| 104/104 [3.0s elapsed, 0s remaining, 43.9 samples/s]      \n"
     ]
    },
    {
     "name": "stderr",
     "output_type": "stream",
     "text": [
      " 45%|████▌     | 511/1128 [42:10<27:03,  2.63s/it]"
     ]
    },
    {
     "name": "stdout",
     "output_type": "stream",
     "text": [
      "No `images_dir` provided. Images will be unpacked to '/opt/project/data/TCGA-BH-A0DZ/10-16-2002-NA-BREAST MRI-48146/101.000000-CAD sub 4-10023'\n",
      "Ignoring unsupported parameter 'overwrite' for importer type <class 'fiftyone.utils.dicom.DICOMDatasetImporter'>\n",
      " 100% |█████████████████| 102/102 [2.9s elapsed, 0s remaining, 41.4 samples/s]      \n"
     ]
    },
    {
     "name": "stderr",
     "output_type": "stream",
     "text": [
      " 45%|████▌     | 512/1128 [42:13<29:17,  2.85s/it]"
     ]
    },
    {
     "name": "stdout",
     "output_type": "stream",
     "text": [
      "No `images_dir` provided. Images will be unpacked to '/opt/project/data/TCGA-AO-A12D/09-23-1999-NA-NA-51146/101.000000-NA-79604'\n",
      "Ignoring unsupported parameter 'overwrite' for importer type <class 'fiftyone.utils.dicom.DICOMDatasetImporter'>\n",
      " 100% |███████████████████| 55/55 [1.4s elapsed, 0s remaining, 38.6 samples/s]         \n"
     ]
    },
    {
     "name": "stderr",
     "output_type": "stream",
     "text": [
      " 45%|████▌     | 513/1128 [42:15<25:49,  2.52s/it]"
     ]
    },
    {
     "name": "stdout",
     "output_type": "stream",
     "text": [
      "No `images_dir` provided. Images will be unpacked to '/opt/project/data/TCGA-BH-A0DE/08-01-2000-NA-BREAST MRI-94390/101.000000-CAD REG CAD Sub 2-40852'\n",
      "Ignoring unsupported parameter 'overwrite' for importer type <class 'fiftyone.utils.dicom.DICOMDatasetImporter'>\n",
      " 100% |███████████████████| 76/76 [2.4s elapsed, 0s remaining, 40.3 samples/s]      \n"
     ]
    },
    {
     "name": "stderr",
     "output_type": "stream",
     "text": [
      " 46%|████▌     | 514/1128 [42:17<26:23,  2.58s/it]"
     ]
    },
    {
     "name": "stdout",
     "output_type": "stream",
     "text": [
      "No `images_dir` provided. Images will be unpacked to '/opt/project/data/TCGA-AO-A0JM/09-15-1999-NA-NA-59814/114.000000-PJN-19523'\n",
      "Ignoring unsupported parameter 'overwrite' for importer type <class 'fiftyone.utils.dicom.DICOMDatasetImporter'>\n",
      " 100% |███████████████████| 16/16 [834.9ms elapsed, 0s remaining, 19.2 samples/s]      \n"
     ]
    },
    {
     "name": "stderr",
     "output_type": "stream",
     "text": [
      " 46%|████▌     | 515/1128 [42:18<21:33,  2.11s/it]"
     ]
    },
    {
     "name": "stdout",
     "output_type": "stream",
     "text": [
      "No `images_dir` provided. Images will be unpacked to '/opt/project/data/TCGA-BH-A0H3/07-27-2001-NA-BREAST MRI-61560/4.000000-Ax Vibrant MULTIPHASE-53347'\n",
      "Ignoring unsupported parameter 'overwrite' for importer type <class 'fiftyone.utils.dicom.DICOMDatasetImporter'>\n",
      " 100% |█████████████████| 460/460 [12.4s elapsed, 0s remaining, 39.1 samples/s]      \n"
     ]
    },
    {
     "name": "stderr",
     "output_type": "stream",
     "text": [
      " 46%|████▌     | 516/1128 [42:32<57:02,  5.59s/it]"
     ]
    },
    {
     "name": "stdout",
     "output_type": "stream",
     "text": [
      "No `images_dir` provided. Images will be unpacked to '/opt/project/data/TCGA-AR-A1AN/10-18-2001-NA-MRI - BREAST-52081/2.000000-left sag 3d-57337'\n",
      "Ignoring unsupported parameter 'overwrite' for importer type <class 'fiftyone.utils.dicom.DICOMDatasetImporter'>\n",
      " 100% |█████████████████| 100/100 [3.0s elapsed, 0s remaining, 41.0 samples/s]      \n"
     ]
    },
    {
     "name": "stderr",
     "output_type": "stream",
     "text": [
      " 46%|████▌     | 517/1128 [42:36<50:24,  4.95s/it]"
     ]
    },
    {
     "name": "stdout",
     "output_type": "stream",
     "text": [
      "No `images_dir` provided. Images will be unpacked to '/opt/project/data/TCGA-AO-A0J9/05-11-2001-NA-NA-96851/106.000000-Bind154777117..177-35662'\n",
      "Ignoring unsupported parameter 'overwrite' for importer type <class 'fiftyone.utils.dicom.DICOMDatasetImporter'>\n",
      " 100% |███████████████████| 61/61 [1.7s elapsed, 0s remaining, 35.1 samples/s]      \n"
     ]
    },
    {
     "name": "stderr",
     "output_type": "stream",
     "text": [
      " 46%|████▌     | 518/1128 [42:38<41:31,  4.08s/it]"
     ]
    },
    {
     "name": "stdout",
     "output_type": "stream",
     "text": [
      "No `images_dir` provided. Images will be unpacked to '/opt/project/data/TCGA-E2-A15A/03-06-2002-NA-MR BREAST BILATERAL WWO CONT-46241/6.000000-SAG 3D PRE-CONTRAST-46871'\n",
      "Ignoring unsupported parameter 'overwrite' for importer type <class 'fiftyone.utils.dicom.DICOMDatasetImporter'>\n",
      " 100% |█████████████████| 128/128 [3.3s elapsed, 0s remaining, 45.2 samples/s]      \n"
     ]
    },
    {
     "name": "stderr",
     "output_type": "stream",
     "text": [
      " 46%|████▌     | 519/1128 [42:41<40:43,  4.01s/it]"
     ]
    },
    {
     "name": "stdout",
     "output_type": "stream",
     "text": [
      "No `images_dir` provided. Images will be unpacked to '/opt/project/data/TCGA-AR-A1AX/09-24-2003-NA-MRI BREAST BILATERAL-61364/5.000000-AX VIBRANT-02983'\n",
      "Ignoring unsupported parameter 'overwrite' for importer type <class 'fiftyone.utils.dicom.DICOMDatasetImporter'>\n",
      " 100% |█████████████████| 552/552 [14.6s elapsed, 0s remaining, 40.5 samples/s]      \n"
     ]
    },
    {
     "name": "stderr",
     "output_type": "stream",
     "text": [
      " 46%|████▌     | 520/1128 [42:58<1:17:31,  7.65s/it]"
     ]
    },
    {
     "name": "stdout",
     "output_type": "stream",
     "text": [
      "No `images_dir` provided. Images will be unpacked to '/opt/project/data/TCGA-BH-A0E0/04-06-2003-NA-BREAST MRI-53761/1.000000-3 plane loc-82525'\n",
      "Ignoring unsupported parameter 'overwrite' for importer type <class 'fiftyone.utils.dicom.DICOMDatasetImporter'>\n",
      " 100% |███████████████████| 29/29 [1.2s elapsed, 0s remaining, 24.9 samples/s]         \n"
     ]
    },
    {
     "name": "stderr",
     "output_type": "stream",
     "text": [
      " 46%|████▌     | 521/1128 [42:59<58:23,  5.77s/it]  "
     ]
    },
    {
     "name": "stdout",
     "output_type": "stream",
     "text": [
      "No `images_dir` provided. Images will be unpacked to '/opt/project/data/TCGA-BH-A0H6/02-03-2002-NA-MRI BREAST-85463/202.000000-CAD cor reformat-84959'\n",
      "Ignoring unsupported parameter 'overwrite' for importer type <class 'fiftyone.utils.dicom.DICOMDatasetImporter'>\n",
      " 100% |█████████████████| 150/150 [3.9s elapsed, 0s remaining, 43.4 samples/s]       \n"
     ]
    },
    {
     "name": "stderr",
     "output_type": "stream",
     "text": [
      " 46%|████▋     | 522/1128 [43:03<54:06,  5.36s/it]"
     ]
    },
    {
     "name": "stdout",
     "output_type": "stream",
     "text": [
      "No `images_dir` provided. Images will be unpacked to '/opt/project/data/TCGA-E2-A150/01-11-2002-NA-MR BREAST BILATERAL WWO CONT-28816/7.000000-SAG 3D POST-CONTRAST-78610'\n",
      "Ignoring unsupported parameter 'overwrite' for importer type <class 'fiftyone.utils.dicom.DICOMDatasetImporter'>\n",
      " 100% |█████████████████| 408/408 [10.0s elapsed, 0s remaining, 43.1 samples/s]      \n"
     ]
    },
    {
     "name": "stderr",
     "output_type": "stream",
     "text": [
      " 46%|████▋     | 523/1128 [43:15<1:11:28,  7.09s/it]"
     ]
    },
    {
     "name": "stdout",
     "output_type": "stream",
     "text": [
      "No `images_dir` provided. Images will be unpacked to '/opt/project/data/TCGA-BH-A0E2/01-21-2003-NA-BREAST MRI-05355/5.000000-Sag Vibrant C-26823'\n",
      "Ignoring unsupported parameter 'overwrite' for importer type <class 'fiftyone.utils.dicom.DICOMDatasetImporter'>\n",
      " 100% |█████████████████| 180/180 [4.6s elapsed, 0s remaining, 43.8 samples/s]       \n"
     ]
    },
    {
     "name": "stderr",
     "output_type": "stream",
     "text": [
      " 46%|████▋     | 524/1128 [43:20<1:05:32,  6.51s/it]"
     ]
    },
    {
     "name": "stdout",
     "output_type": "stream",
     "text": [
      "No `images_dir` provided. Images will be unpacked to '/opt/project/data/TCGA-BH-A0DG/12-05-2000-NA-BREAST MRI-74580/102.000000-CAD REG CAD Sub 3-55964'\n",
      "Ignoring unsupported parameter 'overwrite' for importer type <class 'fiftyone.utils.dicom.DICOMDatasetImporter'>\n",
      " 100% |███████████████████| 72/72 [2.2s elapsed, 0s remaining, 41.9 samples/s]      \n"
     ]
    },
    {
     "name": "stderr",
     "output_type": "stream",
     "text": [
      " 47%|████▋     | 525/1128 [43:22<53:30,  5.32s/it]  "
     ]
    },
    {
     "name": "stdout",
     "output_type": "stream",
     "text": [
      "No `images_dir` provided. Images will be unpacked to '/opt/project/data/TCGA-BH-A0E9/12-07-1999-NA-BREAST MRI-15168/200.000000-CAD COR REF-27383'\n",
      "Ignoring unsupported parameter 'overwrite' for importer type <class 'fiftyone.utils.dicom.DICOMDatasetImporter'>\n",
      " 100% |█████████████████| 104/104 [2.8s elapsed, 0s remaining, 44.0 samples/s]      \n"
     ]
    },
    {
     "name": "stderr",
     "output_type": "stream",
     "text": [
      " 47%|████▋     | 526/1128 [43:25<47:06,  4.70s/it]"
     ]
    },
    {
     "name": "stdout",
     "output_type": "stream",
     "text": [
      "No `images_dir` provided. Images will be unpacked to '/opt/project/data/TCGA-AR-A1AX/09-24-2003-NA-MRI BREAST BILATERAL-61364/104.000000-CAD Sub1-02563'\n",
      "Ignoring unsupported parameter 'overwrite' for importer type <class 'fiftyone.utils.dicom.DICOMDatasetImporter'>\n",
      " 100% |███████████████████| 92/92 [2.7s elapsed, 0s remaining, 43.8 samples/s]      \n"
     ]
    },
    {
     "name": "stderr",
     "output_type": "stream",
     "text": [
      " 47%|████▋     | 527/1128 [43:29<42:08,  4.21s/it]"
     ]
    },
    {
     "name": "stdout",
     "output_type": "stream",
     "text": [
      "No `images_dir` provided. Images will be unpacked to '/opt/project/data/TCGA-E2-A10F/02-21-2001-NA-MR BREAST BILATERAL WWO CONT-16473/4.000000-SAG T2 FAT-SAT LEFT-59401'\n",
      "Ignoring unsupported parameter 'overwrite' for importer type <class 'fiftyone.utils.dicom.DICOMDatasetImporter'>\n",
      " 100% |███████████████████| 46/46 [1.6s elapsed, 0s remaining, 28.0 samples/s]      \n"
     ]
    },
    {
     "name": "stderr",
     "output_type": "stream",
     "text": [
      " 47%|████▋     | 528/1128 [43:30<35:15,  3.53s/it]"
     ]
    },
    {
     "name": "stdout",
     "output_type": "stream",
     "text": [
      "No `images_dir` provided. Images will be unpacked to '/opt/project/data/TCGA-BH-A0H6/02-03-2002-NA-MRI BREAST-85463/200.000000-CAD sag reformat-56347'\n",
      "Ignoring unsupported parameter 'overwrite' for importer type <class 'fiftyone.utils.dicom.DICOMDatasetImporter'>\n",
      " 100% |█████████████████| 150/150 [3.8s elapsed, 0s remaining, 44.8 samples/s]       \n"
     ]
    },
    {
     "name": "stderr",
     "output_type": "stream",
     "text": [
      " 47%|████▋     | 529/1128 [43:35<37:30,  3.76s/it]"
     ]
    },
    {
     "name": "stdout",
     "output_type": "stream",
     "text": [
      "No `images_dir` provided. Images will be unpacked to '/opt/project/data/TCGA-BH-A0DV/11-29-2000-NA-BREAST MRI-88132/101.000000-CAD REG CAD Sub 2-04119'\n",
      "Ignoring unsupported parameter 'overwrite' for importer type <class 'fiftyone.utils.dicom.DICOMDatasetImporter'>\n",
      " 100% |███████████████████| 82/82 [2.5s elapsed, 0s remaining, 41.9 samples/s]      \n"
     ]
    },
    {
     "name": "stderr",
     "output_type": "stream",
     "text": [
      " 47%|████▋     | 530/1128 [43:38<34:39,  3.48s/it]"
     ]
    },
    {
     "name": "stdout",
     "output_type": "stream",
     "text": [
      "No `images_dir` provided. Images will be unpacked to '/opt/project/data/TCGA-E2-A109/03-23-2000-NA-MR BREAST BILATERAL WWO CONT-06870/3.000000-SAG T1-96045'\n",
      "Ignoring unsupported parameter 'overwrite' for importer type <class 'fiftyone.utils.dicom.DICOMDatasetImporter'>\n",
      " 100% |███████████████████| 86/86 [2.5s elapsed, 0s remaining, 44.0 samples/s]      \n"
     ]
    },
    {
     "name": "stderr",
     "output_type": "stream",
     "text": [
      " 47%|████▋     | 531/1128 [43:40<32:41,  3.28s/it]"
     ]
    },
    {
     "name": "stdout",
     "output_type": "stream",
     "text": [
      "No `images_dir` provided. Images will be unpacked to '/opt/project/data/TCGA-BH-A0HI/03-14-2002-NA-BREAST MRI-85477/5.000000-Sag Vibrant C-15914'\n",
      "Ignoring unsupported parameter 'overwrite' for importer type <class 'fiftyone.utils.dicom.DICOMDatasetImporter'>\n",
      " 100% |█████████████████| 152/152 [4.0s elapsed, 0s remaining, 43.5 samples/s]       \n"
     ]
    },
    {
     "name": "stderr",
     "output_type": "stream",
     "text": [
      " 47%|████▋     | 532/1128 [43:45<36:24,  3.66s/it]"
     ]
    },
    {
     "name": "stdout",
     "output_type": "stream",
     "text": [
      "No `images_dir` provided. Images will be unpacked to '/opt/project/data/TCGA-BH-A0AZ/01-09-2002-NA-BREAST MRI-21010/102.000000-CAD sub 2-99975'\n",
      "Ignoring unsupported parameter 'overwrite' for importer type <class 'fiftyone.utils.dicom.DICOMDatasetImporter'>\n",
      " 100% |███████████████████| 82/82 [2.5s elapsed, 0s remaining, 40.4 samples/s]      \n"
     ]
    },
    {
     "name": "stderr",
     "output_type": "stream",
     "text": [
      " 47%|████▋     | 533/1128 [43:48<34:18,  3.46s/it]"
     ]
    },
    {
     "name": "stdout",
     "output_type": "stream",
     "text": [
      "No `images_dir` provided. Images will be unpacked to '/opt/project/data/TCGA-AO-A12G/03-29-2001-NA-NA-34806/118.000000-LEFT-72759'\n",
      "Ignoring unsupported parameter 'overwrite' for importer type <class 'fiftyone.utils.dicom.DICOMDatasetImporter'>\n",
      " 100% |███████████████████| 13/13 [845.6ms elapsed, 0s remaining, 15.4 samples/s]      \n"
     ]
    },
    {
     "name": "stderr",
     "output_type": "stream",
     "text": [
      " 47%|████▋     | 534/1128 [43:49<26:59,  2.73s/it]"
     ]
    },
    {
     "name": "stdout",
     "output_type": "stream",
     "text": [
      "No `images_dir` provided. Images will be unpacked to '/opt/project/data/TCGA-AO-A03M/03-15-2001-NA-NA-80891/104.000000-Bind1125171..50-25174'\n",
      "Ignoring unsupported parameter 'overwrite' for importer type <class 'fiftyone.utils.dicom.DICOMDatasetImporter'>\n",
      " 100% |███████████████████| 50/50 [1.6s elapsed, 0s remaining, 31.6 samples/s]      \n"
     ]
    },
    {
     "name": "stderr",
     "output_type": "stream",
     "text": [
      " 47%|████▋     | 535/1128 [43:51<24:23,  2.47s/it]"
     ]
    },
    {
     "name": "stdout",
     "output_type": "stream",
     "text": [
      "No `images_dir` provided. Images will be unpacked to '/opt/project/data/TCGA-BH-A0HI/03-14-2002-NA-BREAST MRI-85477/3.000000-AX STIR-WaterSat-16124'\n",
      "Ignoring unsupported parameter 'overwrite' for importer type <class 'fiftyone.utils.dicom.DICOMDatasetImporter'>\n",
      " 100% |███████████████████| 37/37 [1.4s elapsed, 0s remaining, 26.6 samples/s]      \n"
     ]
    },
    {
     "name": "stderr",
     "output_type": "stream",
     "text": [
      " 48%|████▊     | 536/1128 [43:52<21:57,  2.23s/it]"
     ]
    },
    {
     "name": "stdout",
     "output_type": "stream",
     "text": [
      "No `images_dir` provided. Images will be unpacked to '/opt/project/data/TCGA-AO-A12G/03-29-2001-NA-NA-34806/108.000000-T1 Sagittal post fat sat-66324'\n",
      "Ignoring unsupported parameter 'overwrite' for importer type <class 'fiftyone.utils.dicom.DICOMDatasetImporter'>\n",
      " 100% |███████████████████| 39/39 [1.4s elapsed, 0s remaining, 28.5 samples/s]      \n"
     ]
    },
    {
     "name": "stderr",
     "output_type": "stream",
     "text": [
      " 48%|████▊     | 537/1128 [43:54<20:07,  2.04s/it]"
     ]
    },
    {
     "name": "stdout",
     "output_type": "stream",
     "text": [
      "No `images_dir` provided. Images will be unpacked to '/opt/project/data/TCGA-E2-A14V/06-10-2001-NA-MR BREAST BILATERAL WWO CONT-38155/3.000000-SAG T2 FAT-SAT LEFT-80747'\n",
      "Ignoring unsupported parameter 'overwrite' for importer type <class 'fiftyone.utils.dicom.DICOMDatasetImporter'>\n",
      " 100% |███████████████████| 38/38 [1.4s elapsed, 0s remaining, 27.2 samples/s]      \n"
     ]
    },
    {
     "name": "stderr",
     "output_type": "stream",
     "text": [
      " 48%|████▊     | 538/1128 [43:56<18:56,  1.93s/it]"
     ]
    },
    {
     "name": "stdout",
     "output_type": "stream",
     "text": [
      "No `images_dir` provided. Images will be unpacked to '/opt/project/data/TCGA-AR-A24X/05-31-2001-NA-MRI - BREAST-56773/100.000000-28248106-2824810-16383'\n",
      "Ignoring unsupported parameter 'overwrite' for importer type <class 'fiftyone.utils.dicom.DICOMDatasetImporter'>\n",
      " 100% |███████████████████| 96/96 [2.6s elapsed, 0s remaining, 46.6 samples/s]      \n"
     ]
    },
    {
     "name": "stderr",
     "output_type": "stream",
     "text": [
      " 48%|████▊     | 539/1128 [43:59<22:11,  2.26s/it]"
     ]
    },
    {
     "name": "stdout",
     "output_type": "stream",
     "text": [
      "No `images_dir` provided. Images will be unpacked to '/opt/project/data/TCGA-BH-A0GY/08-27-2001-NA-MRI BREAST-03978/2000.000000-CAD MIP-20438'\n",
      "Ignoring unsupported parameter 'overwrite' for importer type <class 'fiftyone.utils.dicom.DICOMDatasetImporter'>\n",
      " 100% |███████████████████| 45/45 [1.7s elapsed, 0s remaining, 26.7 samples/s]      \n"
     ]
    },
    {
     "name": "stderr",
     "output_type": "stream",
     "text": [
      " 48%|████▊     | 540/1128 [44:01<21:16,  2.17s/it]"
     ]
    },
    {
     "name": "stdout",
     "output_type": "stream",
     "text": [
      "No `images_dir` provided. Images will be unpacked to '/opt/project/data/TCGA-E2-A1IG/09-01-2001-NA-MR BREAST BILATERAL WWO CONT-98834/2.000000-SAG T1 PRE-46782'\n",
      "Ignoring unsupported parameter 'overwrite' for importer type <class 'fiftyone.utils.dicom.DICOMDatasetImporter'>\n",
      " 100% |███████████████████| 87/87 [2.5s elapsed, 0s remaining, 43.2 samples/s]      \n"
     ]
    },
    {
     "name": "stderr",
     "output_type": "stream",
     "text": [
      " 48%|████▊     | 541/1128 [44:04<23:16,  2.38s/it]"
     ]
    },
    {
     "name": "stdout",
     "output_type": "stream",
     "text": [
      "No `images_dir` provided. Images will be unpacked to '/opt/project/data/TCGA-BH-A18F/12-22-2003-NA-BREAST MRI-50626/4.000000-Ax Vibrant MULTIPHASE-47112'\n",
      "Ignoring unsupported parameter 'overwrite' for importer type <class 'fiftyone.utils.dicom.DICOMDatasetImporter'>\n",
      " 100% |█████████████████| 440/440 [12.2s elapsed, 0s remaining, 35.4 samples/s]      \n"
     ]
    },
    {
     "name": "stderr",
     "output_type": "stream",
     "text": [
      " 48%|████▊     | 542/1128 [44:17<55:47,  5.71s/it]"
     ]
    },
    {
     "name": "stdout",
     "output_type": "stream",
     "text": [
      "No `images_dir` provided. Images will be unpacked to '/opt/project/data/TCGA-BH-A0GZ/02-17-2003-NA-BREAST MRI-72293/103.000000-CAD sub 3-67041'\n",
      "Ignoring unsupported parameter 'overwrite' for importer type <class 'fiftyone.utils.dicom.DICOMDatasetImporter'>\n",
      " 100% |█████████████████| 104/104 [2.9s elapsed, 0s remaining, 42.8 samples/s]      \n"
     ]
    },
    {
     "name": "stderr",
     "output_type": "stream",
     "text": [
      " 48%|████▊     | 543/1128 [44:20<48:47,  5.00s/it]"
     ]
    },
    {
     "name": "stdout",
     "output_type": "stream",
     "text": [
      "No `images_dir` provided. Images will be unpacked to '/opt/project/data/TCGA-BH-A0HA/11-17-2001-NA-BREAST MRI-26938/103.000000-CAD sub 3-58281'\n",
      "Ignoring unsupported parameter 'overwrite' for importer type <class 'fiftyone.utils.dicom.DICOMDatasetImporter'>\n",
      " 100% |███████████████████| 92/92 [2.7s elapsed, 0s remaining, 42.3 samples/s]      \n"
     ]
    },
    {
     "name": "stderr",
     "output_type": "stream",
     "text": [
      " 48%|████▊     | 544/1128 [44:24<43:39,  4.49s/it]"
     ]
    },
    {
     "name": "stdout",
     "output_type": "stream",
     "text": [
      "No `images_dir` provided. Images will be unpacked to '/opt/project/data/TCGA-BH-A0DT/11-11-2000-NA-BIOPSY-26175/5.000000-Ax Vibrant C-58584'\n",
      "Ignoring unsupported parameter 'overwrite' for importer type <class 'fiftyone.utils.dicom.DICOMDatasetImporter'>\n",
      " 100% |███████████████████| 74/74 [2.3s elapsed, 0s remaining, 40.0 samples/s]      \n"
     ]
    },
    {
     "name": "stderr",
     "output_type": "stream",
     "text": [
      " 48%|████▊     | 545/1128 [44:26<38:17,  3.94s/it]"
     ]
    },
    {
     "name": "stdout",
     "output_type": "stream",
     "text": [
      "No `images_dir` provided. Images will be unpacked to '/opt/project/data/TCGA-BH-A18I/01-28-2004-NA-BREAST MRI-54013/1.000000-3 plane loc-82415'\n",
      "Ignoring unsupported parameter 'overwrite' for importer type <class 'fiftyone.utils.dicom.DICOMDatasetImporter'>\n",
      " 100% |███████████████████| 29/29 [1.1s elapsed, 0s remaining, 25.5 samples/s]         \n"
     ]
    },
    {
     "name": "stderr",
     "output_type": "stream",
     "text": [
      " 48%|████▊     | 546/1128 [44:28<30:42,  3.17s/it]"
     ]
    },
    {
     "name": "stdout",
     "output_type": "stream",
     "text": [
      "No `images_dir` provided. Images will be unpacked to '/opt/project/data/TCGA-BH-A0E9/12-07-1999-NA-BREAST MRI-15168/201.000000-CAD SAG REF-90412'\n",
      "Ignoring unsupported parameter 'overwrite' for importer type <class 'fiftyone.utils.dicom.DICOMDatasetImporter'>\n",
      " 100% |█████████████████| 104/104 [2.8s elapsed, 0s remaining, 45.4 samples/s]      \n"
     ]
    },
    {
     "name": "stderr",
     "output_type": "stream",
     "text": [
      " 48%|████▊     | 547/1128 [44:31<30:44,  3.17s/it]"
     ]
    },
    {
     "name": "stdout",
     "output_type": "stream",
     "text": [
      "No `images_dir` provided. Images will be unpacked to '/opt/project/data/TCGA-AO-A0J9/05-11-2001-NA-NA-96851/100.000000-Bind1547751..61-72307'\n",
      "Ignoring unsupported parameter 'overwrite' for importer type <class 'fiftyone.utils.dicom.DICOMDatasetImporter'>\n",
      " 100% |███████████████████| 61/61 [1.8s elapsed, 0s remaining, 34.5 samples/s]      \n"
     ]
    },
    {
     "name": "stderr",
     "output_type": "stream",
     "text": [
      " 49%|████▊     | 548/1128 [44:33<27:45,  2.87s/it]"
     ]
    },
    {
     "name": "stdout",
     "output_type": "stream",
     "text": [
      "No `images_dir` provided. Images will be unpacked to '/opt/project/data/TCGA-AR-A1AQ/05-07-2003-NA-MRI BREAST BILATERAL-81050/3.000000-LT SAG FSE T1-89735'\n",
      "Ignoring unsupported parameter 'overwrite' for importer type <class 'fiftyone.utils.dicom.DICOMDatasetImporter'>\n",
      " 100% |███████████████████| 40/40 [1.7s elapsed, 0s remaining, 24.1 samples/s]      \n"
     ]
    },
    {
     "name": "stderr",
     "output_type": "stream",
     "text": [
      " 49%|████▊     | 549/1128 [44:35<25:06,  2.60s/it]"
     ]
    },
    {
     "name": "stdout",
     "output_type": "stream",
     "text": [
      "No `images_dir` provided. Images will be unpacked to '/opt/project/data/TCGA-AO-A03M/03-15-2001-NA-NA-80891/113.000000-Bind112517147..192-19816'\n",
      "Ignoring unsupported parameter 'overwrite' for importer type <class 'fiftyone.utils.dicom.DICOMDatasetImporter'>\n",
      " 100% |███████████████████| 46/46 [1.6s elapsed, 0s remaining, 29.5 samples/s]      \n"
     ]
    },
    {
     "name": "stderr",
     "output_type": "stream",
     "text": [
      " 49%|████▉     | 550/1128 [44:37<22:52,  2.37s/it]"
     ]
    },
    {
     "name": "stdout",
     "output_type": "stream",
     "text": [
      "No `images_dir` provided. Images will be unpacked to '/opt/project/data/TCGA-BH-A0BM/09-03-2000-NA-BREAST MRI-42240/3.000000-AX STIR-WaterSat-81124'\n",
      "Ignoring unsupported parameter 'overwrite' for importer type <class 'fiftyone.utils.dicom.DICOMDatasetImporter'>\n",
      " 100% |███████████████████| 43/43 [1.7s elapsed, 0s remaining, 25.9 samples/s]      \n"
     ]
    },
    {
     "name": "stderr",
     "output_type": "stream",
     "text": [
      " 49%|████▉     | 551/1128 [44:39<21:32,  2.24s/it]"
     ]
    },
    {
     "name": "stdout",
     "output_type": "stream",
     "text": [
      "No `images_dir` provided. Images will be unpacked to '/opt/project/data/TCGA-E2-A15F/04-28-2002-NA-MR BREAST BILATERAL WWO CONT-08560/7.000000-SAG 3D POST-CONTRAST-53503'\n",
      "Ignoring unsupported parameter 'overwrite' for importer type <class 'fiftyone.utils.dicom.DICOMDatasetImporter'>\n",
      " 100% |█████████████████| 384/384 [9.1s elapsed, 0s remaining, 44.1 samples/s]       \n"
     ]
    },
    {
     "name": "stderr",
     "output_type": "stream",
     "text": [
      " 49%|████▉     | 552/1128 [44:49<44:32,  4.64s/it]"
     ]
    },
    {
     "name": "stdout",
     "output_type": "stream",
     "text": [
      "No `images_dir` provided. Images will be unpacked to '/opt/project/data/TCGA-BH-A0DX/11-21-2000-NA-BREAST MRI-01298/4.000000-Sag Vibrant Pre-99042'\n",
      "Ignoring unsupported parameter 'overwrite' for importer type <class 'fiftyone.utils.dicom.DICOMDatasetImporter'>\n",
      " 100% |█████████████████| 152/152 [4.0s elapsed, 0s remaining, 42.2 samples/s]       \n"
     ]
    },
    {
     "name": "stderr",
     "output_type": "stream",
     "text": [
      " 49%|████▉     | 553/1128 [44:54<44:10,  4.61s/it]"
     ]
    },
    {
     "name": "stdout",
     "output_type": "stream",
     "text": [
      "No `images_dir` provided. Images will be unpacked to '/opt/project/data/TCGA-BH-A0DK/01-01-2003-NA-BIOPSY-76460/6.000000-Ax Vibrant C-45284'\n",
      "Ignoring unsupported parameter 'overwrite' for importer type <class 'fiftyone.utils.dicom.DICOMDatasetImporter'>\n",
      " 100% |███████████████████| 70/70 [2.4s elapsed, 0s remaining, 36.5 samples/s]      \n"
     ]
    },
    {
     "name": "stderr",
     "output_type": "stream",
     "text": [
      " 49%|████▉     | 554/1128 [44:56<38:41,  4.04s/it]"
     ]
    },
    {
     "name": "stdout",
     "output_type": "stream",
     "text": [
      "No `images_dir` provided. Images will be unpacked to '/opt/project/data/TCGA-BH-A18I/01-28-2004-NA-BREAST MRI-54013/202.000000-CAD cor reformat-69550'\n",
      "Ignoring unsupported parameter 'overwrite' for importer type <class 'fiftyone.utils.dicom.DICOMDatasetImporter'>\n",
      " 100% |█████████████████| 150/150 [4.0s elapsed, 0s remaining, 41.6 samples/s]       \n"
     ]
    },
    {
     "name": "stderr",
     "output_type": "stream",
     "text": [
      " 49%|████▉     | 555/1128 [45:01<40:04,  4.20s/it]"
     ]
    },
    {
     "name": "stdout",
     "output_type": "stream",
     "text": [
      "No `images_dir` provided. Images will be unpacked to '/opt/project/data/TCGA-BH-A18I/01-28-2004-NA-BREAST MRI-54013/105.000000-CAD sub 1-79420'\n",
      "Ignoring unsupported parameter 'overwrite' for importer type <class 'fiftyone.utils.dicom.DICOMDatasetImporter'>\n",
      " 100% |███████████████████| 88/88 [2.6s elapsed, 0s remaining, 41.6 samples/s]      \n"
     ]
    },
    {
     "name": "stderr",
     "output_type": "stream",
     "text": [
      " 49%|████▉     | 556/1128 [45:04<36:30,  3.83s/it]"
     ]
    },
    {
     "name": "stdout",
     "output_type": "stream",
     "text": [
      "No `images_dir` provided. Images will be unpacked to '/opt/project/data/TCGA-BH-A0AZ/01-09-2002-NA-BREAST MRI-21010/103.000000-CAD sub 3-06616'\n",
      "Ignoring unsupported parameter 'overwrite' for importer type <class 'fiftyone.utils.dicom.DICOMDatasetImporter'>\n",
      " 100% |███████████████████| 82/82 [2.4s elapsed, 0s remaining, 42.1 samples/s]      \n"
     ]
    },
    {
     "name": "stderr",
     "output_type": "stream",
     "text": [
      " 49%|████▉     | 557/1128 [45:07<33:29,  3.52s/it]"
     ]
    },
    {
     "name": "stdout",
     "output_type": "stream",
     "text": [
      "No `images_dir` provided. Images will be unpacked to '/opt/project/data/TCGA-E2-A15L/07-18-2002-NA-MR BREAST BILATERAL WWO CONT-99306/5.000000-ASSET CALIBRATION-13998'\n",
      "Ignoring unsupported parameter 'overwrite' for importer type <class 'fiftyone.utils.dicom.DICOMDatasetImporter'>\n",
      " 100% |███████████████████| 74/74 [2.0s elapsed, 0s remaining, 37.9 samples/s]      \n"
     ]
    },
    {
     "name": "stderr",
     "output_type": "stream",
     "text": [
      " 49%|████▉     | 558/1128 [45:09<30:12,  3.18s/it]"
     ]
    },
    {
     "name": "stdout",
     "output_type": "stream",
     "text": [
      "No `images_dir` provided. Images will be unpacked to '/opt/project/data/TCGA-E2-A1B1/12-21-1999-NA-MR BREAST BILATERAL WWO CONT-74167/5.000000-SAG T2 FAT-SAT-47366'\n",
      "Ignoring unsupported parameter 'overwrite' for importer type <class 'fiftyone.utils.dicom.DICOMDatasetImporter'>\n",
      " 100% |███████████████████| 89/89 [2.4s elapsed, 0s remaining, 45.2 samples/s]      \n"
     ]
    },
    {
     "name": "stderr",
     "output_type": "stream",
     "text": [
      " 50%|████▉     | 559/1128 [45:12<29:40,  3.13s/it]"
     ]
    },
    {
     "name": "stdout",
     "output_type": "stream",
     "text": [
      "No `images_dir` provided. Images will be unpacked to '/opt/project/data/TCGA-BH-A18I/01-28-2004-NA-BREAST MRI-54013/102.000000-CAD sub 2-99057'\n",
      "Ignoring unsupported parameter 'overwrite' for importer type <class 'fiftyone.utils.dicom.DICOMDatasetImporter'>\n",
      " 100% |███████████████████| 88/88 [2.7s elapsed, 0s remaining, 40.5 samples/s]      \n"
     ]
    },
    {
     "name": "stderr",
     "output_type": "stream",
     "text": [
      " 50%|████▉     | 560/1128 [45:15<29:22,  3.10s/it]"
     ]
    },
    {
     "name": "stdout",
     "output_type": "stream",
     "text": [
      "No `images_dir` provided. Images will be unpacked to '/opt/project/data/TCGA-AO-A0JM/09-15-1999-NA-NA-59814/109.000000-NA-10219'\n",
      "Ignoring unsupported parameter 'overwrite' for importer type <class 'fiftyone.utils.dicom.DICOMDatasetImporter'>\n",
      " 100% |███████████████████| 51/51 [1.5s elapsed, 0s remaining, 33.0 samples/s]      \n"
     ]
    },
    {
     "name": "stderr",
     "output_type": "stream",
     "text": [
      " 50%|████▉     | 561/1128 [45:17<25:48,  2.73s/it]"
     ]
    },
    {
     "name": "stdout",
     "output_type": "stream",
     "text": [
      "No `images_dir` provided. Images will be unpacked to '/opt/project/data/TCGA-AO-A12F/10-16-2000-NA-NA-19596/120.000000-PJN-36055'\n",
      "Ignoring unsupported parameter 'overwrite' for importer type <class 'fiftyone.utils.dicom.DICOMDatasetImporter'>\n",
      " 100% |███████████████████| 16/16 [813.3ms elapsed, 0s remaining, 19.7 samples/s]      \n"
     ]
    },
    {
     "name": "stderr",
     "output_type": "stream",
     "text": [
      " 50%|████▉     | 562/1128 [45:18<21:05,  2.24s/it]"
     ]
    },
    {
     "name": "stdout",
     "output_type": "stream",
     "text": [
      "No `images_dir` provided. Images will be unpacked to '/opt/project/data/TCGA-BH-A0DZ/10-16-2002-NA-BREAST MRI-48146/2.000000-Calibration Scan-96016'\n",
      "Ignoring unsupported parameter 'overwrite' for importer type <class 'fiftyone.utils.dicom.DICOMDatasetImporter'>\n",
      " 100% |███████████████████| 54/54 [1.6s elapsed, 0s remaining, 33.8 samples/s]      \n"
     ]
    },
    {
     "name": "stderr",
     "output_type": "stream",
     "text": [
      " 50%|████▉     | 563/1128 [45:20<20:05,  2.13s/it]"
     ]
    },
    {
     "name": "stdout",
     "output_type": "stream",
     "text": [
      "No `images_dir` provided. Images will be unpacked to '/opt/project/data/TCGA-BH-A18I/02-07-2004-NA-BIOPSY-35028/1.000000-3 plane loc-38655'\n",
      "Ignoring unsupported parameter 'overwrite' for importer type <class 'fiftyone.utils.dicom.DICOMDatasetImporter'>\n",
      " 100% |███████████████████| 29/29 [1.2s elapsed, 0s remaining, 25.2 samples/s]         \n"
     ]
    },
    {
     "name": "stderr",
     "output_type": "stream",
     "text": [
      " 50%|█████     | 564/1128 [45:21<17:53,  1.90s/it]"
     ]
    },
    {
     "name": "stdout",
     "output_type": "stream",
     "text": [
      "No `images_dir` provided. Images will be unpacked to '/opt/project/data/TCGA-AR-A24S/12-11-1999-NA-MRI - BREAST-03194/2.000000-sag 3dpre-14917'\n",
      "Ignoring unsupported parameter 'overwrite' for importer type <class 'fiftyone.utils.dicom.DICOMDatasetImporter'>\n",
      " 100% |███████████████████| 20/20 [983.5ms elapsed, 0s remaining, 20.3 samples/s]      \n"
     ]
    },
    {
     "name": "stderr",
     "output_type": "stream",
     "text": [
      " 50%|█████     | 565/1128 [45:23<15:51,  1.69s/it]"
     ]
    },
    {
     "name": "stdout",
     "output_type": "stream",
     "text": [
      "No `images_dir` provided. Images will be unpacked to '/opt/project/data/TCGA-BH-A0B5/10-26-2000-NA-BREAST MRI-16171/103.000000-CAD REG CAD Sub 4-95192'\n",
      "Ignoring unsupported parameter 'overwrite' for importer type <class 'fiftyone.utils.dicom.DICOMDatasetImporter'>\n",
      " 100% |███████████████████| 70/70 [2.2s elapsed, 0s remaining, 40.9 samples/s]      \n"
     ]
    },
    {
     "name": "stderr",
     "output_type": "stream",
     "text": [
      " 50%|█████     | 566/1128 [45:25<18:11,  1.94s/it]"
     ]
    },
    {
     "name": "stdout",
     "output_type": "stream",
     "text": [
      "No `images_dir` provided. Images will be unpacked to '/opt/project/data/TCGA-E2-A1IE/01-04-2001-NA-MR BREAST BILATERAL WWO CONT-63539/1.000000-3-PLANE LOCALIZER-35644'\n",
      "Ignoring unsupported parameter 'overwrite' for importer type <class 'fiftyone.utils.dicom.DICOMDatasetImporter'>\n",
      " 100% |███████████████████| 45/45 [1.5s elapsed, 0s remaining, 29.4 samples/s]      \n"
     ]
    },
    {
     "name": "stderr",
     "output_type": "stream",
     "text": [
      " 50%|█████     | 567/1128 [45:27<17:46,  1.90s/it]"
     ]
    },
    {
     "name": "stdout",
     "output_type": "stream",
     "text": [
      "No `images_dir` provided. Images will be unpacked to '/opt/project/data/TCGA-BH-A0AW/02-19-2002-NA-BREAST MRI-78041/3.000000-AX STIR-WaterSat-08738'\n",
      "Ignoring unsupported parameter 'overwrite' for importer type <class 'fiftyone.utils.dicom.DICOMDatasetImporter'>\n",
      " 100% |███████████████████| 45/45 [1.6s elapsed, 0s remaining, 27.9 samples/s]      \n"
     ]
    },
    {
     "name": "stderr",
     "output_type": "stream",
     "text": [
      " 50%|█████     | 568/1128 [45:29<17:42,  1.90s/it]"
     ]
    },
    {
     "name": "stdout",
     "output_type": "stream",
     "text": [
      "No `images_dir` provided. Images will be unpacked to '/opt/project/data/TCGA-AO-A12D/09-23-1999-NA-NA-51146/111.000000-345610555-345610355-46262'\n",
      "Ignoring unsupported parameter 'overwrite' for importer type <class 'fiftyone.utils.dicom.DICOMDatasetImporter'>\n",
      " 100% |███████████████████| 55/55 [1.5s elapsed, 0s remaining, 37.8 samples/s]         \n"
     ]
    },
    {
     "name": "stderr",
     "output_type": "stream",
     "text": [
      " 50%|█████     | 569/1128 [45:31<17:14,  1.85s/it]"
     ]
    },
    {
     "name": "stdout",
     "output_type": "stream",
     "text": [
      "No `images_dir` provided. Images will be unpacked to '/opt/project/data/TCGA-BH-A0DK/12-22-2002-NA-BREAST MRI-01189/103.000000-CAD sub 3-99634'\n",
      "Ignoring unsupported parameter 'overwrite' for importer type <class 'fiftyone.utils.dicom.DICOMDatasetImporter'>\n",
      " 100% |█████████████████| 102/102 [3.0s elapsed, 0s remaining, 40.9 samples/s]      \n"
     ]
    },
    {
     "name": "stderr",
     "output_type": "stream",
     "text": [
      " 51%|█████     | 570/1128 [45:34<21:24,  2.30s/it]"
     ]
    },
    {
     "name": "stdout",
     "output_type": "stream",
     "text": [
      "No `images_dir` provided. Images will be unpacked to '/opt/project/data/TCGA-AR-A24X/05-31-2001-NA-MRI - BREAST-56773/101.000000-28248298-2824810-77659'\n",
      "Ignoring unsupported parameter 'overwrite' for importer type <class 'fiftyone.utils.dicom.DICOMDatasetImporter'>\n",
      " 100% |███████████████████| 96/96 [2.5s elapsed, 0s remaining, 48.9 samples/s]      \n"
     ]
    },
    {
     "name": "stderr",
     "output_type": "stream",
     "text": [
      " 51%|█████     | 571/1128 [45:37<23:04,  2.49s/it]"
     ]
    },
    {
     "name": "stdout",
     "output_type": "stream",
     "text": [
      "No `images_dir` provided. Images will be unpacked to '/opt/project/data/TCGA-BH-A18H/02-03-2004-NA-BREAST MRI-53089/5.000000-Sag Vibrant C-13548'\n",
      "Ignoring unsupported parameter 'overwrite' for importer type <class 'fiftyone.utils.dicom.DICOMDatasetImporter'>\n",
      " 100% |█████████████████| 200/200 [5.2s elapsed, 0s remaining, 42.1 samples/s]       \n"
     ]
    },
    {
     "name": "stderr",
     "output_type": "stream",
     "text": [
      " 51%|█████     | 572/1128 [45:43<32:37,  3.52s/it]"
     ]
    },
    {
     "name": "stdout",
     "output_type": "stream",
     "text": [
      "No `images_dir` provided. Images will be unpacked to '/opt/project/data/TCGA-BH-A0E2/01-21-2003-NA-BREAST MRI-05355/200.000000-CAD sag reformat-43820'\n",
      "Ignoring unsupported parameter 'overwrite' for importer type <class 'fiftyone.utils.dicom.DICOMDatasetImporter'>\n",
      " 100% |█████████████████| 176/176 [4.7s elapsed, 0s remaining, 42.7 samples/s]       \n"
     ]
    },
    {
     "name": "stderr",
     "output_type": "stream",
     "text": [
      " 51%|█████     | 573/1128 [45:48<38:03,  4.12s/it]"
     ]
    },
    {
     "name": "stdout",
     "output_type": "stream",
     "text": [
      "No `images_dir` provided. Images will be unpacked to '/opt/project/data/TCGA-E2-A1IE/01-04-2001-NA-MR BREAST BILATERAL WWO CONT-63539/6.000000-ASSET CALIBRATION-84512'\n",
      "Ignoring unsupported parameter 'overwrite' for importer type <class 'fiftyone.utils.dicom.DICOMDatasetImporter'>\n",
      " 100% |███████████████████| 30/30 [1.1s elapsed, 0s remaining, 27.7 samples/s]         \n"
     ]
    },
    {
     "name": "stderr",
     "output_type": "stream",
     "text": [
      " 51%|█████     | 574/1128 [45:50<30:12,  3.27s/it]"
     ]
    },
    {
     "name": "stdout",
     "output_type": "stream",
     "text": [
      "No `images_dir` provided. Images will be unpacked to '/opt/project/data/TCGA-E2-A1IK/05-04-2002-NA-MR BREAST BILATERAL WWO CONT-09734/6.000000-SAG 3D PRE-CONTRAST-12622'\n",
      "Ignoring unsupported parameter 'overwrite' for importer type <class 'fiftyone.utils.dicom.DICOMDatasetImporter'>\n",
      " 100% |█████████████████| 128/128 [3.5s elapsed, 0s remaining, 40.7 samples/s]      \n"
     ]
    },
    {
     "name": "stderr",
     "output_type": "stream",
     "text": [
      " 51%|█████     | 575/1128 [45:54<32:08,  3.49s/it]"
     ]
    },
    {
     "name": "stdout",
     "output_type": "stream",
     "text": [
      "No `images_dir` provided. Images will be unpacked to '/opt/project/data/TCGA-E2-A159/02-10-2002-NA-MR BREAST BILATERAL WWO CONT-48613/4.000000-SAG T2 FAT-SAT RIGHT-26597'\n",
      "Ignoring unsupported parameter 'overwrite' for importer type <class 'fiftyone.utils.dicom.DICOMDatasetImporter'>\n",
      " 100% |███████████████████| 52/52 [1.8s elapsed, 0s remaining, 28.4 samples/s]      \n"
     ]
    },
    {
     "name": "stderr",
     "output_type": "stream",
     "text": [
      " 51%|█████     | 576/1128 [45:56<28:14,  3.07s/it]"
     ]
    },
    {
     "name": "stdout",
     "output_type": "stream",
     "text": [
      "No `images_dir` provided. Images will be unpacked to '/opt/project/data/TCGA-BH-A18I/01-28-2004-NA-BREAST MRI-54013/3.000000-AX STIR-WaterSat-24743'\n",
      "Ignoring unsupported parameter 'overwrite' for importer type <class 'fiftyone.utils.dicom.DICOMDatasetImporter'>\n",
      " 100% |███████████████████| 46/46 [1.6s elapsed, 0s remaining, 29.1 samples/s]      \n"
     ]
    },
    {
     "name": "stderr",
     "output_type": "stream",
     "text": [
      " 51%|█████     | 577/1128 [45:57<24:48,  2.70s/it]"
     ]
    },
    {
     "name": "stdout",
     "output_type": "stream",
     "text": [
      "No `images_dir` provided. Images will be unpacked to '/opt/project/data/TCGA-AR-A1AX/09-12-2002-NA-MRI BREAST BILATERAL-55235/102.000000-2978265-29781-68035'\n",
      "Ignoring unsupported parameter 'overwrite' for importer type <class 'fiftyone.utils.dicom.DICOMDatasetImporter'>\n",
      " 100% |███████████████████| 88/88 [2.5s elapsed, 0s remaining, 47.3 samples/s]      \n"
     ]
    },
    {
     "name": "stderr",
     "output_type": "stream",
     "text": [
      " 51%|█████     | 578/1128 [46:00<25:09,  2.74s/it]"
     ]
    },
    {
     "name": "stdout",
     "output_type": "stream",
     "text": [
      "No `images_dir` provided. Images will be unpacked to '/opt/project/data/TCGA-E2-A1IE/01-04-2001-NA-MR BREAST BILATERAL WWO CONT-63539/4.000000-ASSET CALIBRATION-35804'\n",
      "Ignoring unsupported parameter 'overwrite' for importer type <class 'fiftyone.utils.dicom.DICOMDatasetImporter'>\n",
      " 100% |███████████████████| 30/30 [1.1s elapsed, 0s remaining, 28.2 samples/s]         \n"
     ]
    },
    {
     "name": "stderr",
     "output_type": "stream",
     "text": [
      " 51%|█████▏    | 579/1128 [46:02<21:08,  2.31s/it]"
     ]
    },
    {
     "name": "stdout",
     "output_type": "stream",
     "text": [
      "No `images_dir` provided. Images will be unpacked to '/opt/project/data/TCGA-E2-A1IK/05-04-2002-NA-MR BREAST BILATERAL WWO CONT-09734/1.000000-3-PLANE LOCALIZER-44551'\n",
      "Ignoring unsupported parameter 'overwrite' for importer type <class 'fiftyone.utils.dicom.DICOMDatasetImporter'>\n",
      " 100% |███████████████████| 45/45 [1.6s elapsed, 0s remaining, 28.9 samples/s]      \n"
     ]
    },
    {
     "name": "stderr",
     "output_type": "stream",
     "text": [
      " 51%|█████▏    | 580/1128 [46:03<19:54,  2.18s/it]"
     ]
    },
    {
     "name": "stdout",
     "output_type": "stream",
     "text": [
      "No `images_dir` provided. Images will be unpacked to '/opt/project/data/TCGA-BH-A0DH/01-09-2001-NA-BREAST MRI-58184/1.000000-3 plane loc-26456'\n",
      "Ignoring unsupported parameter 'overwrite' for importer type <class 'fiftyone.utils.dicom.DICOMDatasetImporter'>\n",
      " 100% |███████████████████| 29/29 [1.2s elapsed, 0s remaining, 25.1 samples/s]         \n"
     ]
    },
    {
     "name": "stderr",
     "output_type": "stream",
     "text": [
      " 52%|█████▏    | 581/1128 [46:05<17:41,  1.94s/it]"
     ]
    },
    {
     "name": "stdout",
     "output_type": "stream",
     "text": [
      "No `images_dir` provided. Images will be unpacked to '/opt/project/data/TCGA-AO-A0J9/05-11-2001-NA-NA-96851/111.000000-Bind154777410..464-92402'\n",
      "Ignoring unsupported parameter 'overwrite' for importer type <class 'fiftyone.utils.dicom.DICOMDatasetImporter'>\n",
      " 100% |███████████████████| 55/55 [1.8s elapsed, 0s remaining, 31.3 samples/s]      \n"
     ]
    },
    {
     "name": "stderr",
     "output_type": "stream",
     "text": [
      " 52%|█████▏    | 582/1128 [46:07<17:56,  1.97s/it]"
     ]
    },
    {
     "name": "stdout",
     "output_type": "stream",
     "text": [
      "No `images_dir` provided. Images will be unpacked to '/opt/project/data/TCGA-AO-A03M/03-15-2001-NA-NA-80891/101.000000-Bind11251551..96-40994'\n",
      "Ignoring unsupported parameter 'overwrite' for importer type <class 'fiftyone.utils.dicom.DICOMDatasetImporter'>\n",
      " 100% |███████████████████| 46/46 [1.5s elapsed, 0s remaining, 31.4 samples/s]      \n"
     ]
    },
    {
     "name": "stderr",
     "output_type": "stream",
     "text": [
      " 52%|█████▏    | 583/1128 [46:09<17:13,  1.90s/it]"
     ]
    },
    {
     "name": "stdout",
     "output_type": "stream",
     "text": [
      "No `images_dir` provided. Images will be unpacked to '/opt/project/data/TCGA-AO-A12D/09-23-1999-NA-NA-51146/103.000000-NA-75743'\n",
      "Ignoring unsupported parameter 'overwrite' for importer type <class 'fiftyone.utils.dicom.DICOMDatasetImporter'>\n",
      " 100% |███████████████████| 55/55 [1.6s elapsed, 0s remaining, 33.9 samples/s]      \n"
     ]
    },
    {
     "name": "stderr",
     "output_type": "stream",
     "text": [
      " 52%|█████▏    | 584/1128 [46:11<17:16,  1.90s/it]"
     ]
    },
    {
     "name": "stdout",
     "output_type": "stream",
     "text": [
      "No `images_dir` provided. Images will be unpacked to '/opt/project/data/TCGA-BH-A0B6/10-18-1999-NA-BREAST MRI-60819/5.000000-Ax Vibrant MULTIPHASE-45726'\n",
      "Ignoring unsupported parameter 'overwrite' for importer type <class 'fiftyone.utils.dicom.DICOMDatasetImporter'>\n",
      " 100% |█████████████████| 644/644 [17.3s elapsed, 0s remaining, 35.4 samples/s]      \n"
     ]
    },
    {
     "name": "stderr",
     "output_type": "stream",
     "text": [
      " 52%|█████▏    | 585/1128 [46:30<1:03:41,  7.04s/it]"
     ]
    },
    {
     "name": "stdout",
     "output_type": "stream",
     "text": [
      "No `images_dir` provided. Images will be unpacked to '/opt/project/data/TCGA-E2-A15E/04-06-2002-NA-MR BREAST BILATERAL WWO CONT-26083/8.000000-SAG 3D PRE-CONTRAST-88547'\n",
      "Ignoring unsupported parameter 'overwrite' for importer type <class 'fiftyone.utils.dicom.DICOMDatasetImporter'>\n",
      " 100% |█████████████████| 128/128 [3.4s elapsed, 0s remaining, 45.9 samples/s]       \n"
     ]
    },
    {
     "name": "stderr",
     "output_type": "stream",
     "text": [
      " 52%|█████▏    | 586/1128 [46:33<55:03,  6.10s/it]  "
     ]
    },
    {
     "name": "stdout",
     "output_type": "stream",
     "text": [
      "No `images_dir` provided. Images will be unpacked to '/opt/project/data/TCGA-E2-A1IE/01-04-2001-NA-MR BREAST BILATERAL WWO CONT-63539/8.000000-SAG T2 FAT-SAT LEFT-01874'\n",
      "Ignoring unsupported parameter 'overwrite' for importer type <class 'fiftyone.utils.dicom.DICOMDatasetImporter'>\n",
      " 100% |███████████████████| 56/56 [1.9s elapsed, 0s remaining, 30.1 samples/s]      \n"
     ]
    },
    {
     "name": "stderr",
     "output_type": "stream",
     "text": [
      " 52%|█████▏    | 587/1128 [46:36<44:17,  4.91s/it]"
     ]
    },
    {
     "name": "stdout",
     "output_type": "stream",
     "text": [
      "No `images_dir` provided. Images will be unpacked to '/opt/project/data/TCGA-E2-A14S/03-02-2001-NA-MR BREAST BILATERAL WWO CONT-85661/7.000000-SAG 3D POST-CONTRAST-37407'\n",
      "Ignoring unsupported parameter 'overwrite' for importer type <class 'fiftyone.utils.dicom.DICOMDatasetImporter'>\n",
      " 100% |█████████████████| 456/456 [10.6s elapsed, 0s remaining, 43.5 samples/s]      \n"
     ]
    },
    {
     "name": "stderr",
     "output_type": "stream",
     "text": [
      " 52%|█████▏    | 588/1128 [46:48<1:03:08,  7.02s/it]"
     ]
    },
    {
     "name": "stdout",
     "output_type": "stream",
     "text": [
      "No `images_dir` provided. Images will be unpacked to '/opt/project/data/TCGA-BH-A0B5/10-26-2000-NA-BREAST MRI-16171/2.000000-Calibration Scan-96836'\n",
      "Ignoring unsupported parameter 'overwrite' for importer type <class 'fiftyone.utils.dicom.DICOMDatasetImporter'>\n",
      " 100% |███████████████████| 96/96 [2.5s elapsed, 0s remaining, 48.5 samples/s]      \n"
     ]
    },
    {
     "name": "stderr",
     "output_type": "stream",
     "text": [
      " 52%|█████▏    | 589/1128 [46:50<51:53,  5.78s/it]  "
     ]
    },
    {
     "name": "stdout",
     "output_type": "stream",
     "text": [
      "No `images_dir` provided. Images will be unpacked to '/opt/project/data/TCGA-E2-A108/10-13-2001-NA-MR BREAST BILATERAL WWO CONT-74709/6.000000-SAG 3D PRE-CONTRAST-40146'\n",
      "Ignoring unsupported parameter 'overwrite' for importer type <class 'fiftyone.utils.dicom.DICOMDatasetImporter'>\n",
      " 100% |█████████████████| 128/128 [3.9s elapsed, 0s remaining, 35.7 samples/s]      \n"
     ]
    },
    {
     "name": "stderr",
     "output_type": "stream",
     "text": [
      " 52%|█████▏    | 590/1128 [46:55<48:03,  5.36s/it]"
     ]
    },
    {
     "name": "stdout",
     "output_type": "stream",
     "text": [
      "No `images_dir` provided. Images will be unpacked to '/opt/project/data/TCGA-AO-A03V/08-10-2002-NA-NA-16391/110.000000-419810448-419810248-57806'\n",
      "Ignoring unsupported parameter 'overwrite' for importer type <class 'fiftyone.utils.dicom.DICOMDatasetImporter'>\n",
      " 100% |███████████████████| 48/48 [1.6s elapsed, 0s remaining, 31.0 samples/s]      \n"
     ]
    },
    {
     "name": "stderr",
     "output_type": "stream",
     "text": [
      " 52%|█████▏    | 591/1128 [46:57<38:36,  4.31s/it]"
     ]
    },
    {
     "name": "stdout",
     "output_type": "stream",
     "text": [
      "No `images_dir` provided. Images will be unpacked to '/opt/project/data/TCGA-AO-A03V/08-10-2002-NA-NA-16391/107.000000-T1 Sagittal post fat sat-06044'\n",
      "Ignoring unsupported parameter 'overwrite' for importer type <class 'fiftyone.utils.dicom.DICOMDatasetImporter'>\n",
      " 100% |███████████████████| 40/40 [1.4s elapsed, 0s remaining, 28.7 samples/s]      \n"
     ]
    },
    {
     "name": "stderr",
     "output_type": "stream",
     "text": [
      " 52%|█████▏    | 592/1128 [46:58<31:26,  3.52s/it]"
     ]
    },
    {
     "name": "stdout",
     "output_type": "stream",
     "text": [
      "No `images_dir` provided. Images will be unpacked to '/opt/project/data/TCGA-BH-A0BQ/04-25-2000-NA-BREAST MRI-78053/3.000000-AX STIR-WaterSat-95323'\n",
      "Ignoring unsupported parameter 'overwrite' for importer type <class 'fiftyone.utils.dicom.DICOMDatasetImporter'>\n",
      " 100% |███████████████████| 41/41 [1.6s elapsed, 0s remaining, 26.2 samples/s]      \n"
     ]
    },
    {
     "name": "stderr",
     "output_type": "stream",
     "text": [
      " 53%|█████▎    | 593/1128 [47:00<26:49,  3.01s/it]"
     ]
    },
    {
     "name": "stdout",
     "output_type": "stream",
     "text": [
      "No `images_dir` provided. Images will be unpacked to '/opt/project/data/TCGA-E2-A1L9/05-03-2002-NA-MR BREAST BILATERAL WWO CONT-62542/4.000000-SAG T2 FAT-SAT RIGHT-50561'\n",
      "Ignoring unsupported parameter 'overwrite' for importer type <class 'fiftyone.utils.dicom.DICOMDatasetImporter'>\n",
      " 100% |███████████████████| 40/40 [1.5s elapsed, 0s remaining, 25.8 samples/s]      \n"
     ]
    },
    {
     "name": "stderr",
     "output_type": "stream",
     "text": [
      " 53%|█████▎    | 594/1128 [47:02<23:32,  2.64s/it]"
     ]
    },
    {
     "name": "stdout",
     "output_type": "stream",
     "text": [
      "No `images_dir` provided. Images will be unpacked to '/opt/project/data/TCGA-E2-A109/03-23-2000-NA-MR BREAST BILATERAL WWO CONT-06870/2.000000-ASSET CALIBRATION-46012'\n",
      "Ignoring unsupported parameter 'overwrite' for importer type <class 'fiftyone.utils.dicom.DICOMDatasetImporter'>\n",
      " 100% |███████████████████| 61/61 [1.7s elapsed, 0s remaining, 35.8 samples/s]      \n"
     ]
    },
    {
     "name": "stderr",
     "output_type": "stream",
     "text": [
      " 53%|█████▎    | 595/1128 [47:04<21:47,  2.45s/it]"
     ]
    },
    {
     "name": "stdout",
     "output_type": "stream",
     "text": [
      "No `images_dir` provided. Images will be unpacked to '/opt/project/data/TCGA-AO-A12G/03-29-2001-NA-NA-34806/103.000000-T1 Sagittal pre fat sat-82951'\n",
      "Ignoring unsupported parameter 'overwrite' for importer type <class 'fiftyone.utils.dicom.DICOMDatasetImporter'>\n",
      " 100% |███████████████████| 41/41 [1.4s elapsed, 0s remaining, 30.2 samples/s]      \n"
     ]
    },
    {
     "name": "stderr",
     "output_type": "stream",
     "text": [
      " 53%|█████▎    | 596/1128 [47:06<19:30,  2.20s/it]"
     ]
    },
    {
     "name": "stdout",
     "output_type": "stream",
     "text": [
      "No `images_dir` provided. Images will be unpacked to '/opt/project/data/TCGA-BH-A0E9/12-07-1999-NA-BREAST MRI-15168/105.000000-CAD REG CAD Sub 6-73264'\n",
      "Ignoring unsupported parameter 'overwrite' for importer type <class 'fiftyone.utils.dicom.DICOMDatasetImporter'>\n",
      " 100% |███████████████████| 76/76 [2.4s elapsed, 0s remaining, 40.4 samples/s]      \n"
     ]
    },
    {
     "name": "stderr",
     "output_type": "stream",
     "text": [
      " 53%|█████▎    | 597/1128 [47:08<20:51,  2.36s/it]"
     ]
    },
    {
     "name": "stdout",
     "output_type": "stream",
     "text": [
      "No `images_dir` provided. Images will be unpacked to '/opt/project/data/TCGA-AR-A24S/11-25-1999-NA-MRI - BREAST-35077/8.000000-vibrant-90550'\n",
      "Ignoring unsupported parameter 'overwrite' for importer type <class 'fiftyone.utils.dicom.DICOMDatasetImporter'>\n",
      " 100% |█████████████████| 352/352 [8.5s elapsed, 0s remaining, 45.4 samples/s]       \n"
     ]
    },
    {
     "name": "stderr",
     "output_type": "stream",
     "text": [
      " 53%|█████▎    | 598/1128 [47:18<39:48,  4.51s/it]"
     ]
    },
    {
     "name": "stdout",
     "output_type": "stream",
     "text": [
      "No `images_dir` provided. Images will be unpacked to '/opt/project/data/TCGA-BH-A0B5/10-26-2000-NA-BREAST MRI-16171/1.000000-3 plane loc-45019'\n",
      "Ignoring unsupported parameter 'overwrite' for importer type <class 'fiftyone.utils.dicom.DICOMDatasetImporter'>\n",
      " 100% |███████████████████| 29/29 [1.2s elapsed, 0s remaining, 24.2 samples/s]         \n"
     ]
    },
    {
     "name": "stderr",
     "output_type": "stream",
     "text": [
      " 53%|█████▎    | 599/1128 [47:19<31:35,  3.58s/it]"
     ]
    },
    {
     "name": "stdout",
     "output_type": "stream",
     "text": [
      "No `images_dir` provided. Images will be unpacked to '/opt/project/data/TCGA-BH-A0RX/09-02-2003-NA-BREAST MRI-73444/2000.000000-CAD MIP-23959'\n",
      "Ignoring unsupported parameter 'overwrite' for importer type <class 'fiftyone.utils.dicom.DICOMDatasetImporter'>\n",
      " 100% |███████████████████| 45/45 [1.7s elapsed, 0s remaining, 26.7 samples/s]      \n"
     ]
    },
    {
     "name": "stderr",
     "output_type": "stream",
     "text": [
      " 53%|█████▎    | 600/1128 [47:21<27:30,  3.13s/it]"
     ]
    },
    {
     "name": "stdout",
     "output_type": "stream",
     "text": [
      "No `images_dir` provided. Images will be unpacked to '/opt/project/data/TCGA-BH-A0HI/03-14-2002-NA-BREAST MRI-85477/2000.000000-CAD MIP-11607'\n",
      "Ignoring unsupported parameter 'overwrite' for importer type <class 'fiftyone.utils.dicom.DICOMDatasetImporter'>\n",
      " 100% |███████████████████| 45/45 [1.6s elapsed, 0s remaining, 28.5 samples/s]      \n"
     ]
    },
    {
     "name": "stderr",
     "output_type": "stream",
     "text": [
      " 53%|█████▎    | 601/1128 [47:23<24:06,  2.74s/it]"
     ]
    },
    {
     "name": "stdout",
     "output_type": "stream",
     "text": [
      "No `images_dir` provided. Images will be unpacked to '/opt/project/data/TCGA-BH-A0C0/08-20-2000-NA-BREAST MRI-05483/4.000000-Sag Vibrant Pre-88296'\n",
      "Ignoring unsupported parameter 'overwrite' for importer type <class 'fiftyone.utils.dicom.DICOMDatasetImporter'>\n",
      " 100% |█████████████████| 128/128 [3.4s elapsed, 0s remaining, 43.8 samples/s]      \n"
     ]
    },
    {
     "name": "stderr",
     "output_type": "stream",
     "text": [
      " 53%|█████▎    | 602/1128 [47:27<27:06,  3.09s/it]"
     ]
    },
    {
     "name": "stdout",
     "output_type": "stream",
     "text": [
      "No `images_dir` provided. Images will be unpacked to '/opt/project/data/TCGA-AR-A1AN/10-14-2001-NA-MRI - BREAST-21682/101.000000-38228424-38228100-90552'\n",
      "Ignoring unsupported parameter 'overwrite' for importer type <class 'fiftyone.utils.dicom.DICOMDatasetImporter'>\n",
      " 100% |█████████████████| 108/108 [2.9s elapsed, 0s remaining, 47.4 samples/s]      \n"
     ]
    },
    {
     "name": "stderr",
     "output_type": "stream",
     "text": [
      " 53%|█████▎    | 603/1128 [47:30<27:40,  3.16s/it]"
     ]
    },
    {
     "name": "stdout",
     "output_type": "stream",
     "text": [
      "No `images_dir` provided. Images will be unpacked to '/opt/project/data/TCGA-BH-A18F/12-22-2003-NA-BREAST MRI-50626/102.000000-CAD sub 2-16472'\n",
      "Ignoring unsupported parameter 'overwrite' for importer type <class 'fiftyone.utils.dicom.DICOMDatasetImporter'>\n",
      " 100% |███████████████████| 88/88 [2.6s elapsed, 0s remaining, 42.2 samples/s]      \n"
     ]
    },
    {
     "name": "stderr",
     "output_type": "stream",
     "text": [
      " 54%|█████▎    | 604/1128 [47:33<27:23,  3.14s/it]"
     ]
    },
    {
     "name": "stdout",
     "output_type": "stream",
     "text": [
      "No `images_dir` provided. Images will be unpacked to '/opt/project/data/TCGA-BH-A18F/12-22-2003-NA-BREAST MRI-50626/202.000000-CAD cor reformat-99365'\n",
      "Ignoring unsupported parameter 'overwrite' for importer type <class 'fiftyone.utils.dicom.DICOMDatasetImporter'>\n",
      " 100% |█████████████████| 171/171 [4.4s elapsed, 0s remaining, 42.8 samples/s]       \n"
     ]
    },
    {
     "name": "stderr",
     "output_type": "stream",
     "text": [
      " 54%|█████▎    | 605/1128 [47:39<32:20,  3.71s/it]"
     ]
    },
    {
     "name": "stdout",
     "output_type": "stream",
     "text": [
      "No `images_dir` provided. Images will be unpacked to '/opt/project/data/TCGA-BH-A0H5/06-20-2001-NA-BREAST MRI-23793/3.000000-AX STIR-WaterSat-45425'\n",
      "Ignoring unsupported parameter 'overwrite' for importer type <class 'fiftyone.utils.dicom.DICOMDatasetImporter'>\n",
      " 100% |███████████████████| 43/43 [1.7s elapsed, 0s remaining, 24.7 samples/s]      \n"
     ]
    },
    {
     "name": "stderr",
     "output_type": "stream",
     "text": [
      " 54%|█████▎    | 606/1128 [47:41<27:48,  3.20s/it]"
     ]
    },
    {
     "name": "stdout",
     "output_type": "stream",
     "text": [
      "No `images_dir` provided. Images will be unpacked to '/opt/project/data/TCGA-BH-A0B3/10-09-2000-NA-BREAST MRI-95408/1.000000-3 plane loc-08929'\n",
      "Ignoring unsupported parameter 'overwrite' for importer type <class 'fiftyone.utils.dicom.DICOMDatasetImporter'>\n",
      " 100% |███████████████████| 29/29 [1.1s elapsed, 0s remaining, 25.8 samples/s]         \n"
     ]
    },
    {
     "name": "stderr",
     "output_type": "stream",
     "text": [
      " 54%|█████▍    | 607/1128 [47:42<23:02,  2.65s/it]"
     ]
    },
    {
     "name": "stdout",
     "output_type": "stream",
     "text": [
      "No `images_dir` provided. Images will be unpacked to '/opt/project/data/TCGA-E2-A15J/06-20-2002-NA-MR BREAST BILATERAL WWO CONT-27666/7.000000-SAG 3D POST-CONTRAST-83725'\n",
      "Ignoring unsupported parameter 'overwrite' for importer type <class 'fiftyone.utils.dicom.DICOMDatasetImporter'>\n",
      " 100% |█████████████████| 384/384 [10.4s elapsed, 0s remaining, 39.1 samples/s]      \n"
     ]
    },
    {
     "name": "stderr",
     "output_type": "stream",
     "text": [
      " 54%|█████▍    | 608/1128 [47:53<45:54,  5.30s/it]"
     ]
    },
    {
     "name": "stdout",
     "output_type": "stream",
     "text": [
      "No `images_dir` provided. Images will be unpacked to '/opt/project/data/TCGA-AR-A1AQ/11-21-2001-NA-MRI - BREAST-98628/8.000000-VIBRANT-56538'\n",
      "Ignoring unsupported parameter 'overwrite' for importer type <class 'fiftyone.utils.dicom.DICOMDatasetImporter'>\n",
      " 100% |█████████████████| 464/464 [10.9s elapsed, 0s remaining, 42.1 samples/s]      \n"
     ]
    },
    {
     "name": "stderr",
     "output_type": "stream",
     "text": [
      " 54%|█████▍    | 609/1128 [48:06<1:03:39,  7.36s/it]"
     ]
    },
    {
     "name": "stdout",
     "output_type": "stream",
     "text": [
      "No `images_dir` provided. Images will be unpacked to '/opt/project/data/TCGA-BH-A0W5/07-25-2001-NA-MRI BREAST-10788/105.000000-CAD sub 1-29131'\n",
      "Ignoring unsupported parameter 'overwrite' for importer type <class 'fiftyone.utils.dicom.DICOMDatasetImporter'>\n",
      " 100% |███████████████████| 82/82 [2.4s elapsed, 0s remaining, 42.6 samples/s]      \n"
     ]
    },
    {
     "name": "stderr",
     "output_type": "stream",
     "text": [
      " 54%|█████▍    | 610/1128 [48:08<51:41,  5.99s/it]  "
     ]
    },
    {
     "name": "stdout",
     "output_type": "stream",
     "text": [
      "No `images_dir` provided. Images will be unpacked to '/opt/project/data/TCGA-BH-A0H9/09-25-2000-NA-BREAST MRI-55072/6.000000-Sag Vibrant C-37714'\n",
      "Ignoring unsupported parameter 'overwrite' for importer type <class 'fiftyone.utils.dicom.DICOMDatasetImporter'>\n",
      " 100% |█████████████████| 160/160 [4.2s elapsed, 0s remaining, 41.6 samples/s]       \n"
     ]
    },
    {
     "name": "stderr",
     "output_type": "stream",
     "text": [
      " 54%|█████▍    | 611/1128 [48:13<48:29,  5.63s/it]"
     ]
    },
    {
     "name": "stdout",
     "output_type": "stream",
     "text": [
      "No `images_dir` provided. Images will be unpacked to '/opt/project/data/TCGA-E2-A15I/06-15-2002-NA-MR BREAST BILATERAL WWO CONT-84178/3.000000-SAG T2 FAT-SAT LEFT-87860'\n",
      "Ignoring unsupported parameter 'overwrite' for importer type <class 'fiftyone.utils.dicom.DICOMDatasetImporter'>\n",
      " 100% |███████████████████| 37/37 [1.4s elapsed, 0s remaining, 26.2 samples/s]      \n"
     ]
    },
    {
     "name": "stderr",
     "output_type": "stream",
     "text": [
      " 54%|█████▍    | 612/1128 [48:15<38:13,  4.45s/it]"
     ]
    },
    {
     "name": "stdout",
     "output_type": "stream",
     "text": [
      "No `images_dir` provided. Images will be unpacked to '/opt/project/data/TCGA-BH-A18H/02-03-2004-NA-BREAST MRI-53089/2000.000000-CAD MIP-70672'\n",
      "Ignoring unsupported parameter 'overwrite' for importer type <class 'fiftyone.utils.dicom.DICOMDatasetImporter'>\n",
      " 100% |███████████████████| 45/45 [1.7s elapsed, 0s remaining, 26.2 samples/s]      \n"
     ]
    },
    {
     "name": "stderr",
     "output_type": "stream",
     "text": [
      " 54%|█████▍    | 613/1128 [48:17<31:56,  3.72s/it]"
     ]
    },
    {
     "name": "stdout",
     "output_type": "stream",
     "text": [
      "No `images_dir` provided. Images will be unpacked to '/opt/project/data/TCGA-BH-A0DT/10-29-2000-NA-BREAST MRI-03753/4.000000-Sag Vibrant Pre-31989'\n",
      "Ignoring unsupported parameter 'overwrite' for importer type <class 'fiftyone.utils.dicom.DICOMDatasetImporter'>\n",
      " 100% |█████████████████| 152/152 [4.0s elapsed, 0s remaining, 42.1 samples/s]       \n"
     ]
    },
    {
     "name": "stderr",
     "output_type": "stream",
     "text": [
      " 54%|█████▍    | 614/1128 [48:21<34:04,  3.98s/it]"
     ]
    },
    {
     "name": "stdout",
     "output_type": "stream",
     "text": [
      "No `images_dir` provided. Images will be unpacked to '/opt/project/data/TCGA-BH-A0W5/07-25-2001-NA-MRI BREAST-10788/2.000000-Calibration Scan-65628'\n",
      "Ignoring unsupported parameter 'overwrite' for importer type <class 'fiftyone.utils.dicom.DICOMDatasetImporter'>\n",
      " 100% |███████████████████| 54/54 [1.6s elapsed, 0s remaining, 33.0 samples/s]      \n"
     ]
    },
    {
     "name": "stderr",
     "output_type": "stream",
     "text": [
      " 55%|█████▍    | 615/1128 [48:23<28:45,  3.36s/it]"
     ]
    },
    {
     "name": "stdout",
     "output_type": "stream",
     "text": [
      "No `images_dir` provided. Images will be unpacked to '/opt/project/data/TCGA-E2-A1IJ/08-02-2001-NA-MR BREAST BILATERAL WWO CONT-31159/3.000000-SAG T1 PRE-53593'\n",
      "Ignoring unsupported parameter 'overwrite' for importer type <class 'fiftyone.utils.dicom.DICOMDatasetImporter'>\n",
      " 100% |███████████████████| 85/85 [2.4s elapsed, 0s remaining, 43.6 samples/s]      \n"
     ]
    },
    {
     "name": "stderr",
     "output_type": "stream",
     "text": [
      " 55%|█████▍    | 616/1128 [48:26<27:13,  3.19s/it]"
     ]
    },
    {
     "name": "stdout",
     "output_type": "stream",
     "text": [
      "No `images_dir` provided. Images will be unpacked to '/opt/project/data/TCGA-BH-A0E9/12-07-1999-NA-BREAST MRI-15168/4.000000-Sag Vibrant Pre-56447'\n",
      "Ignoring unsupported parameter 'overwrite' for importer type <class 'fiftyone.utils.dicom.DICOMDatasetImporter'>\n",
      " 100% |█████████████████| 164/164 [4.2s elapsed, 0s remaining, 44.7 samples/s]       \n"
     ]
    },
    {
     "name": "stderr",
     "output_type": "stream",
     "text": [
      " 55%|█████▍    | 617/1128 [48:31<31:07,  3.65s/it]"
     ]
    },
    {
     "name": "stdout",
     "output_type": "stream",
     "text": [
      "No `images_dir` provided. Images will be unpacked to '/opt/project/data/TCGA-BH-A0W3/10-12-2003-NA-BREAST MRI-09153/2000.000000-CAD MIP-07954'\n",
      "Ignoring unsupported parameter 'overwrite' for importer type <class 'fiftyone.utils.dicom.DICOMDatasetImporter'>\n",
      " 100% |███████████████████| 45/45 [1.6s elapsed, 0s remaining, 27.6 samples/s]      \n"
     ]
    },
    {
     "name": "stderr",
     "output_type": "stream",
     "text": [
      " 55%|█████▍    | 618/1128 [48:33<26:51,  3.16s/it]"
     ]
    },
    {
     "name": "stdout",
     "output_type": "stream",
     "text": [
      "No `images_dir` provided. Images will be unpacked to '/opt/project/data/TCGA-BH-A0C0/08-20-2000-NA-BREAST MRI-05483/6.000000-Sag Vibrant C-43623'\n",
      "Ignoring unsupported parameter 'overwrite' for importer type <class 'fiftyone.utils.dicom.DICOMDatasetImporter'>\n",
      " 100% |█████████████████| 128/128 [3.6s elapsed, 0s remaining, 39.4 samples/s]      \n"
     ]
    },
    {
     "name": "stderr",
     "output_type": "stream",
     "text": [
      " 55%|█████▍    | 619/1128 [48:37<29:10,  3.44s/it]"
     ]
    },
    {
     "name": "stdout",
     "output_type": "stream",
     "text": [
      "No `images_dir` provided. Images will be unpacked to '/opt/project/data/TCGA-BH-A0B5/10-26-2000-NA-BREAST MRI-16171/6.000000-Sag Vibrant C-47323'\n",
      "Ignoring unsupported parameter 'overwrite' for importer type <class 'fiftyone.utils.dicom.DICOMDatasetImporter'>\n",
      " 100% |█████████████████| 132/132 [3.5s elapsed, 0s remaining, 43.6 samples/s]       \n"
     ]
    },
    {
     "name": "stderr",
     "output_type": "stream",
     "text": [
      " 55%|█████▍    | 620/1128 [48:41<30:22,  3.59s/it]"
     ]
    },
    {
     "name": "stdout",
     "output_type": "stream",
     "text": [
      "No `images_dir` provided. Images will be unpacked to '/opt/project/data/TCGA-AR-A1AN/10-14-2001-NA-MRI - BREAST-21682/9.000000-brava  1 Min.-15226'\n",
      "Ignoring unsupported parameter 'overwrite' for importer type <class 'fiftyone.utils.dicom.DICOMDatasetImporter'>\n",
      " 100% |█████████████████| 124/124 [3.6s elapsed, 0s remaining, 40.2 samples/s]       \n"
     ]
    },
    {
     "name": "stderr",
     "output_type": "stream",
     "text": [
      " 55%|█████▌    | 621/1128 [48:45<31:40,  3.75s/it]"
     ]
    },
    {
     "name": "stdout",
     "output_type": "stream",
     "text": [
      "No `images_dir` provided. Images will be unpacked to '/opt/project/data/TCGA-BH-A0BM/09-03-2000-NA-BREAST MRI-42240/6.000000-Sag Vibrant C-75837'\n",
      "Ignoring unsupported parameter 'overwrite' for importer type <class 'fiftyone.utils.dicom.DICOMDatasetImporter'>\n",
      " 100% |█████████████████| 152/152 [4.0s elapsed, 0s remaining, 44.5 samples/s]       \n"
     ]
    },
    {
     "name": "stderr",
     "output_type": "stream",
     "text": [
      " 55%|█████▌    | 622/1128 [48:50<33:31,  3.97s/it]"
     ]
    },
    {
     "name": "stdout",
     "output_type": "stream",
     "text": [
      "No `images_dir` provided. Images will be unpacked to '/opt/project/data/TCGA-BH-A0BG/06-11-2001-NA-BREAST MRI-34066/105.000000-CAD sub 1-71835'\n",
      "Ignoring unsupported parameter 'overwrite' for importer type <class 'fiftyone.utils.dicom.DICOMDatasetImporter'>\n",
      " 100% |███████████████████| 82/82 [2.4s elapsed, 0s remaining, 42.7 samples/s]      \n"
     ]
    },
    {
     "name": "stderr",
     "output_type": "stream",
     "text": [
      " 55%|█████▌    | 623/1128 [48:52<30:29,  3.62s/it]"
     ]
    },
    {
     "name": "stdout",
     "output_type": "stream",
     "text": [
      "No `images_dir` provided. Images will be unpacked to '/opt/project/data/TCGA-BH-A0DT/10-29-2000-NA-BREAST MRI-03753/6.000000-Sag Vibrant C-39581'\n",
      "Ignoring unsupported parameter 'overwrite' for importer type <class 'fiftyone.utils.dicom.DICOMDatasetImporter'>\n",
      " 100% |█████████████████| 152/152 [4.0s elapsed, 0s remaining, 43.4 samples/s]       \n"
     ]
    },
    {
     "name": "stderr",
     "output_type": "stream",
     "text": [
      " 55%|█████▌    | 624/1128 [48:57<32:42,  3.89s/it]"
     ]
    },
    {
     "name": "stdout",
     "output_type": "stream",
     "text": [
      "No `images_dir` provided. Images will be unpacked to '/opt/project/data/TCGA-BH-A0E1/11-04-2002-NA-BREAST MRI-66574/2000.000000-CAD MIP-92936'\n",
      "Ignoring unsupported parameter 'overwrite' for importer type <class 'fiftyone.utils.dicom.DICOMDatasetImporter'>\n",
      " 100% |███████████████████| 45/45 [1.6s elapsed, 0s remaining, 27.9 samples/s]      \n"
     ]
    },
    {
     "name": "stderr",
     "output_type": "stream",
     "text": [
      " 55%|█████▌    | 625/1128 [48:59<27:36,  3.29s/it]"
     ]
    },
    {
     "name": "stdout",
     "output_type": "stream",
     "text": [
      "No `images_dir` provided. Images will be unpacked to '/opt/project/data/TCGA-BH-A0HY/05-29-2002-NA-BREAST MRI-25536/3.000000-AX STIR-WaterSat-50764'\n",
      "Ignoring unsupported parameter 'overwrite' for importer type <class 'fiftyone.utils.dicom.DICOMDatasetImporter'>\n",
      " 100% |███████████████████| 56/56 [1.9s elapsed, 0s remaining, 30.2 samples/s]      \n"
     ]
    },
    {
     "name": "stderr",
     "output_type": "stream",
     "text": [
      " 55%|█████▌    | 626/1128 [49:01<24:42,  2.95s/it]"
     ]
    },
    {
     "name": "stdout",
     "output_type": "stream",
     "text": [
      "No `images_dir` provided. Images will be unpacked to '/opt/project/data/TCGA-BH-A18H/02-03-2004-NA-BREAST MRI-53089/3.000000-AX STIR-WaterSat-48359'\n",
      "Ignoring unsupported parameter 'overwrite' for importer type <class 'fiftyone.utils.dicom.DICOMDatasetImporter'>\n",
      " 100% |███████████████████| 57/57 [1.8s elapsed, 0s remaining, 31.2 samples/s]      \n"
     ]
    },
    {
     "name": "stderr",
     "output_type": "stream",
     "text": [
      " 56%|█████▌    | 627/1128 [49:03<22:37,  2.71s/it]"
     ]
    },
    {
     "name": "stdout",
     "output_type": "stream",
     "text": [
      "No `images_dir` provided. Images will be unpacked to '/opt/project/data/TCGA-AR-A1AQ/05-07-2003-NA-MRI BREAST BILATERAL-81050/5.000000-RT SAG FSE T1-21306'\n",
      "Ignoring unsupported parameter 'overwrite' for importer type <class 'fiftyone.utils.dicom.DICOMDatasetImporter'>\n",
      " 100% |███████████████████| 40/40 [1.6s elapsed, 0s remaining, 25.5 samples/s]      \n"
     ]
    },
    {
     "name": "stderr",
     "output_type": "stream",
     "text": [
      " 56%|█████▌    | 628/1128 [49:05<20:19,  2.44s/it]"
     ]
    },
    {
     "name": "stdout",
     "output_type": "stream",
     "text": [
      "No `images_dir` provided. Images will be unpacked to '/opt/project/data/TCGA-E2-A1LG/11-06-2002-NA-MR BREAST BILATERAL WWO CONT-85265/4.000000-SAG 3D POST-CONTRAST512-03515'\n",
      "Ignoring unsupported parameter 'overwrite' for importer type <class 'fiftyone.utils.dicom.DICOMDatasetImporter'>\n",
      " 100% |█████████████████| 408/408 [10.9s elapsed, 0s remaining, 39.8 samples/s]      \n"
     ]
    },
    {
     "name": "stderr",
     "output_type": "stream",
     "text": [
      " 56%|█████▌    | 629/1128 [49:17<44:20,  5.33s/it]"
     ]
    },
    {
     "name": "stdout",
     "output_type": "stream",
     "text": [
      "No `images_dir` provided. Images will be unpacked to '/opt/project/data/TCGA-AR-A1AX/09-12-2002-NA-MRI BREAST BILATERAL-55235/8.000000-VIBRANT-12424'\n",
      "Ignoring unsupported parameter 'overwrite' for importer type <class 'fiftyone.utils.dicom.DICOMDatasetImporter'>\n",
      " 100% |█████████████████| 352/352 [8.5s elapsed, 0s remaining, 45.1 samples/s]       \n"
     ]
    },
    {
     "name": "stderr",
     "output_type": "stream",
     "text": [
      " 56%|█████▌    | 630/1128 [49:27<55:46,  6.72s/it]"
     ]
    },
    {
     "name": "stdout",
     "output_type": "stream",
     "text": [
      "No `images_dir` provided. Images will be unpacked to '/opt/project/data/TCGA-BH-A18F/12-22-2003-NA-BREAST MRI-50626/2.000000-Calibration Scan-44901'\n",
      "Ignoring unsupported parameter 'overwrite' for importer type <class 'fiftyone.utils.dicom.DICOMDatasetImporter'>\n",
      " 100% |███████████████████| 92/92 [2.4s elapsed, 0s remaining, 48.5 samples/s]      \n"
     ]
    },
    {
     "name": "stderr",
     "output_type": "stream",
     "text": [
      " 56%|█████▌    | 631/1128 [49:30<45:52,  5.54s/it]"
     ]
    },
    {
     "name": "stdout",
     "output_type": "stream",
     "text": [
      "No `images_dir` provided. Images will be unpacked to '/opt/project/data/TCGA-BH-A0BM/09-03-2000-NA-BREAST MRI-42240/2.000000-Calibration Scan-95940'\n",
      "Ignoring unsupported parameter 'overwrite' for importer type <class 'fiftyone.utils.dicom.DICOMDatasetImporter'>\n",
      " 100% |███████████████████| 92/92 [2.4s elapsed, 0s remaining, 48.8 samples/s]      \n"
     ]
    },
    {
     "name": "stderr",
     "output_type": "stream",
     "text": [
      " 56%|█████▌    | 632/1128 [49:32<38:53,  4.70s/it]"
     ]
    },
    {
     "name": "stdout",
     "output_type": "stream",
     "text": [
      "No `images_dir` provided. Images will be unpacked to '/opt/project/data/TCGA-BH-A0EI/02-17-2002-NA-BREAST MRI-14232/102.000000-CAD sub 2-95164'\n",
      "Ignoring unsupported parameter 'overwrite' for importer type <class 'fiftyone.utils.dicom.DICOMDatasetImporter'>\n",
      " 100% |███████████████████| 80/80 [2.5s elapsed, 0s remaining, 41.3 samples/s]      \n"
     ]
    },
    {
     "name": "stderr",
     "output_type": "stream",
     "text": [
      " 56%|█████▌    | 633/1128 [49:35<34:09,  4.14s/it]"
     ]
    },
    {
     "name": "stdout",
     "output_type": "stream",
     "text": [
      "No `images_dir` provided. Images will be unpacked to '/opt/project/data/TCGA-E2-A15A/03-06-2002-NA-MR BREAST BILATERAL WWO CONT-46241/1.000000-3-PLANE LOCALIZER-68268'\n",
      "Ignoring unsupported parameter 'overwrite' for importer type <class 'fiftyone.utils.dicom.DICOMDatasetImporter'>\n",
      " 100% |███████████████████| 45/45 [1.7s elapsed, 0s remaining, 26.3 samples/s]      \n"
     ]
    },
    {
     "name": "stderr",
     "output_type": "stream",
     "text": [
      " 56%|█████▌    | 634/1128 [49:37<28:47,  3.50s/it]"
     ]
    },
    {
     "name": "stdout",
     "output_type": "stream",
     "text": [
      "No `images_dir` provided. Images will be unpacked to '/opt/project/data/TCGA-BH-A0DZ/10-16-2002-NA-BREAST MRI-48146/202.000000-CAD cor reformat-55369'\n",
      "Ignoring unsupported parameter 'overwrite' for importer type <class 'fiftyone.utils.dicom.DICOMDatasetImporter'>\n",
      " 100% |█████████████████| 150/150 [4.1s elapsed, 0s remaining, 40.6 samples/s]       \n"
     ]
    },
    {
     "name": "stderr",
     "output_type": "stream",
     "text": [
      " 56%|█████▋    | 635/1128 [49:42<31:35,  3.85s/it]"
     ]
    },
    {
     "name": "stdout",
     "output_type": "stream",
     "text": [
      "No `images_dir` provided. Images will be unpacked to '/opt/project/data/TCGA-BH-A0DT/11-11-2000-NA-BIOPSY-26175/3.000000-Ax Vibrant C-89023'\n",
      "Ignoring unsupported parameter 'overwrite' for importer type <class 'fiftyone.utils.dicom.DICOMDatasetImporter'>\n",
      " 100% |█████████████████| 222/222 [6.2s elapsed, 0s remaining, 38.1 samples/s]       \n"
     ]
    },
    {
     "name": "stderr",
     "output_type": "stream",
     "text": [
      " 56%|█████▋    | 636/1128 [49:49<39:11,  4.78s/it]"
     ]
    },
    {
     "name": "stdout",
     "output_type": "stream",
     "text": [
      "No `images_dir` provided. Images will be unpacked to '/opt/project/data/TCGA-BH-A0BM/09-03-2000-NA-BREAST MRI-42240/201.000000-CAD SAG REF-39451'\n",
      "Ignoring unsupported parameter 'overwrite' for importer type <class 'fiftyone.utils.dicom.DICOMDatasetImporter'>\n",
      " 100% |█████████████████| 107/107 [2.8s elapsed, 0s remaining, 46.9 samples/s]      \n"
     ]
    },
    {
     "name": "stderr",
     "output_type": "stream",
     "text": [
      " 56%|█████▋    | 637/1128 [49:52<35:22,  4.32s/it]"
     ]
    },
    {
     "name": "stdout",
     "output_type": "stream",
     "text": [
      "No `images_dir` provided. Images will be unpacked to '/opt/project/data/TCGA-BH-A0E2/01-21-2003-NA-BREAST MRI-05355/4.000000-Ax Vibrant MULTIPHASE-97188'\n",
      "Ignoring unsupported parameter 'overwrite' for importer type <class 'fiftyone.utils.dicom.DICOMDatasetImporter'>\n",
      " 100% |█████████████████| 530/530 [14.2s elapsed, 0s remaining, 39.0 samples/s]      \n"
     ]
    },
    {
     "name": "stderr",
     "output_type": "stream",
     "text": [
      " 57%|█████▋    | 638/1128 [50:08<1:03:13,  7.74s/it]"
     ]
    },
    {
     "name": "stdout",
     "output_type": "stream",
     "text": [
      "No `images_dir` provided. Images will be unpacked to '/opt/project/data/TCGA-E2-A1IN/07-28-2002-NA-MR BREAST BILATERAL WWO CONT-40961/1.000000-3-PLANE LOCALIZER-69195'\n",
      "Ignoring unsupported parameter 'overwrite' for importer type <class 'fiftyone.utils.dicom.DICOMDatasetImporter'>\n",
      " 100% |███████████████████| 45/45 [1.7s elapsed, 0s remaining, 26.7 samples/s]      \n"
     ]
    },
    {
     "name": "stderr",
     "output_type": "stream",
     "text": [
      " 57%|█████▋    | 639/1128 [50:10<48:57,  6.01s/it]  "
     ]
    },
    {
     "name": "stdout",
     "output_type": "stream",
     "text": [
      "No `images_dir` provided. Images will be unpacked to '/opt/project/data/TCGA-E2-A14P/10-13-2000-NA-MR BREAST BILATERAL WWO CONT-27050/6.000000-SAG 3D POST-CONTRAST-83179'\n",
      "Ignoring unsupported parameter 'overwrite' for importer type <class 'fiftyone.utils.dicom.DICOMDatasetImporter'>\n",
      " 100% |█████████████████| 408/408 [9.7s elapsed, 0s remaining, 44.4 samples/s]       \n"
     ]
    },
    {
     "name": "stderr",
     "output_type": "stream",
     "text": [
      " 57%|█████▋    | 640/1128 [50:21<1:00:36,  7.45s/it]"
     ]
    },
    {
     "name": "stdout",
     "output_type": "stream",
     "text": [
      "No `images_dir` provided. Images will be unpacked to '/opt/project/data/TCGA-AR-A1AX/09-12-2002-NA-MRI BREAST BILATERAL-55235/4.000000-LT SAG FSE T2-57221'\n",
      "Ignoring unsupported parameter 'overwrite' for importer type <class 'fiftyone.utils.dicom.DICOMDatasetImporter'>\n",
      " 100% |███████████████████| 28/28 [1.2s elapsed, 0s remaining, 22.9 samples/s]         \n"
     ]
    },
    {
     "name": "stderr",
     "output_type": "stream",
     "text": [
      " 57%|█████▋    | 641/1128 [50:22<45:51,  5.65s/it]  "
     ]
    },
    {
     "name": "stdout",
     "output_type": "stream",
     "text": [
      "No `images_dir` provided. Images will be unpacked to '/opt/project/data/TCGA-BH-A0RX/09-02-2003-NA-BREAST MRI-73444/105.000000-CAD sub 1-71936'\n",
      "Ignoring unsupported parameter 'overwrite' for importer type <class 'fiftyone.utils.dicom.DICOMDatasetImporter'>\n",
      " 100% |█████████████████| 102/102 [2.9s elapsed, 0s remaining, 41.6 samples/s]      \n"
     ]
    },
    {
     "name": "stderr",
     "output_type": "stream",
     "text": [
      " 57%|█████▋    | 642/1128 [50:25<40:10,  4.96s/it]"
     ]
    },
    {
     "name": "stdout",
     "output_type": "stream",
     "text": [
      "No `images_dir` provided. Images will be unpacked to '/opt/project/data/TCGA-E2-A1B5/04-29-2001-NA-MR BREAST BILATERAL WWO CONT-98814/4.000000-ASSET CALIBRATION-13427'\n",
      "Ignoring unsupported parameter 'overwrite' for importer type <class 'fiftyone.utils.dicom.DICOMDatasetImporter'>\n",
      " 100% |███████████████████| 19/19 [834.2ms elapsed, 0s remaining, 22.8 samples/s]      \n"
     ]
    },
    {
     "name": "stderr",
     "output_type": "stream",
     "text": [
      " 57%|█████▋    | 643/1128 [50:26<30:32,  3.78s/it]"
     ]
    },
    {
     "name": "stdout",
     "output_type": "stream",
     "text": [
      "No `images_dir` provided. Images will be unpacked to '/opt/project/data/TCGA-BH-A0RX/09-02-2003-NA-BREAST MRI-73444/103.000000-CAD sub 3-10620'\n",
      "Ignoring unsupported parameter 'overwrite' for importer type <class 'fiftyone.utils.dicom.DICOMDatasetImporter'>\n",
      " 100% |█████████████████| 102/102 [3.0s elapsed, 0s remaining, 41.3 samples/s]      \n"
     ]
    },
    {
     "name": "stderr",
     "output_type": "stream",
     "text": [
      " 57%|█████▋    | 644/1128 [50:30<29:30,  3.66s/it]"
     ]
    },
    {
     "name": "stdout",
     "output_type": "stream",
     "text": [
      "No `images_dir` provided. Images will be unpacked to '/opt/project/data/TCGA-BH-A0E1/11-04-2002-NA-BREAST MRI-66574/102.000000-CAD sub 2-32228'\n",
      "Ignoring unsupported parameter 'overwrite' for importer type <class 'fiftyone.utils.dicom.DICOMDatasetImporter'>\n",
      " 100% |███████████████████| 80/80 [2.4s elapsed, 0s remaining, 41.5 samples/s]      \n"
     ]
    },
    {
     "name": "stderr",
     "output_type": "stream",
     "text": [
      " 57%|█████▋    | 645/1128 [50:33<27:31,  3.42s/it]"
     ]
    },
    {
     "name": "stdout",
     "output_type": "stream",
     "text": [
      "No `images_dir` provided. Images will be unpacked to '/opt/project/data/TCGA-AR-A24S/12-11-1999-NA-MRI - BREAST-03194/10.000000-sag 3dpost-16603'\n",
      "Ignoring unsupported parameter 'overwrite' for importer type <class 'fiftyone.utils.dicom.DICOMDatasetImporter'>\n",
      " 100% |███████████████████| 24/24 [1.1s elapsed, 0s remaining, 21.6 samples/s]         \n"
     ]
    },
    {
     "name": "stderr",
     "output_type": "stream",
     "text": [
      " 57%|█████▋    | 646/1128 [50:34<22:23,  2.79s/it]"
     ]
    },
    {
     "name": "stdout",
     "output_type": "stream",
     "text": [
      "No `images_dir` provided. Images will be unpacked to '/opt/project/data/TCGA-BH-A0H3/07-27-2001-NA-BREAST MRI-61560/1001.000000-CAD VOLUME-35082'\n",
      "Ignoring unsupported parameter 'overwrite' for importer type <class 'fiftyone.utils.dicom.DICOMDatasetImporter'>\n",
      " 100% |█████████████████████| 4/4 [685.0ms elapsed, 0s remaining, 5.8 samples/s]   \n"
     ]
    },
    {
     "name": "stderr",
     "output_type": "stream",
     "text": [
      " 57%|█████▋    | 647/1128 [50:35<17:39,  2.20s/it]"
     ]
    },
    {
     "name": "stdout",
     "output_type": "stream",
     "text": [
      "No `images_dir` provided. Images will be unpacked to '/opt/project/data/TCGA-BH-A202/05-24-2004-NA-BREAST MRI-87769/5.000000-Sag Vibrant C-16404'\n",
      "Ignoring unsupported parameter 'overwrite' for importer type <class 'fiftyone.utils.dicom.DICOMDatasetImporter'>\n",
      " 100% |█████████████████| 196/196 [5.4s elapsed, 0s remaining, 39.6 samples/s]       \n"
     ]
    },
    {
     "name": "stderr",
     "output_type": "stream",
     "text": [
      " 57%|█████▋    | 648/1128 [50:41<27:00,  3.38s/it]"
     ]
    },
    {
     "name": "stdout",
     "output_type": "stream",
     "text": [
      "No `images_dir` provided. Images will be unpacked to '/opt/project/data/TCGA-BH-A0B1/09-04-2000-NA-BREAST MRI-93235/6.000000-Sag Vibrant C-52500'\n",
      "Ignoring unsupported parameter 'overwrite' for importer type <class 'fiftyone.utils.dicom.DICOMDatasetImporter'>\n",
      " 100% |█████████████████| 172/172 [4.6s elapsed, 0s remaining, 39.7 samples/s]       \n"
     ]
    },
    {
     "name": "stderr",
     "output_type": "stream",
     "text": [
      " 58%|█████▊    | 649/1128 [50:46<31:25,  3.94s/it]"
     ]
    },
    {
     "name": "stdout",
     "output_type": "stream",
     "text": [
      "No `images_dir` provided. Images will be unpacked to '/opt/project/data/TCGA-AO-A03V/08-10-2002-NA-NA-16391/108.000000-T1 Sagittal post fat sat-59101'\n",
      "Ignoring unsupported parameter 'overwrite' for importer type <class 'fiftyone.utils.dicom.DICOMDatasetImporter'>\n",
      " 100% |███████████████████| 48/48 [1.5s elapsed, 0s remaining, 31.5 samples/s]      \n"
     ]
    },
    {
     "name": "stderr",
     "output_type": "stream",
     "text": [
      " 58%|█████▊    | 650/1128 [50:48<26:17,  3.30s/it]"
     ]
    },
    {
     "name": "stdout",
     "output_type": "stream",
     "text": [
      "No `images_dir` provided. Images will be unpacked to '/opt/project/data/TCGA-E2-A1IJ/08-02-2001-NA-MR BREAST BILATERAL WWO CONT-31159/6.000000-ASSET CALIBRATION-44073'\n",
      "Ignoring unsupported parameter 'overwrite' for importer type <class 'fiftyone.utils.dicom.DICOMDatasetImporter'>\n",
      " 100% |███████████████████| 74/74 [1.9s elapsed, 0s remaining, 38.7 samples/s]      \n"
     ]
    },
    {
     "name": "stderr",
     "output_type": "stream",
     "text": [
      " 58%|█████▊    | 651/1128 [50:50<23:53,  3.00s/it]"
     ]
    },
    {
     "name": "stdout",
     "output_type": "stream",
     "text": [
      "No `images_dir` provided. Images will be unpacked to '/opt/project/data/TCGA-BH-A0E9/12-07-1999-NA-BREAST MRI-15168/101.000000-CAD REG CAD Sub 2-50677'\n",
      "Ignoring unsupported parameter 'overwrite' for importer type <class 'fiftyone.utils.dicom.DICOMDatasetImporter'>\n",
      " 100% |███████████████████| 76/76 [2.3s elapsed, 0s remaining, 42.6 samples/s]      \n"
     ]
    },
    {
     "name": "stderr",
     "output_type": "stream",
     "text": [
      " 58%|█████▊    | 652/1128 [50:53<22:54,  2.89s/it]"
     ]
    },
    {
     "name": "stdout",
     "output_type": "stream",
     "text": [
      "No `images_dir` provided. Images will be unpacked to '/opt/project/data/TCGA-BH-A202/05-24-2004-NA-BREAST MRI-87769/4.000000-Ax Vibrant MULTIPHASE-09372'\n",
      "Ignoring unsupported parameter 'overwrite' for importer type <class 'fiftyone.utils.dicom.DICOMDatasetImporter'>\n",
      " 100% |█████████████████| 530/530 [14.3s elapsed, 0s remaining, 38.7 samples/s]      \n"
     ]
    },
    {
     "name": "stderr",
     "output_type": "stream",
     "text": [
      " 58%|█████▊    | 653/1128 [51:09<53:35,  6.77s/it]"
     ]
    },
    {
     "name": "stdout",
     "output_type": "stream",
     "text": [
      "No `images_dir` provided. Images will be unpacked to '/opt/project/data/TCGA-AO-A03V/08-10-2002-NA-NA-16391/104.000000-T1 Sagittal post fat sat-90621'\n",
      "Ignoring unsupported parameter 'overwrite' for importer type <class 'fiftyone.utils.dicom.DICOMDatasetImporter'>\n",
      " 100% |███████████████████| 48/48 [1.5s elapsed, 0s remaining, 31.5 samples/s]      \n"
     ]
    },
    {
     "name": "stderr",
     "output_type": "stream",
     "text": [
      " 58%|█████▊    | 654/1128 [51:11<41:44,  5.28s/it]"
     ]
    },
    {
     "name": "stdout",
     "output_type": "stream",
     "text": [
      "No `images_dir` provided. Images will be unpacked to '/opt/project/data/TCGA-AO-A12E/02-01-2000-NA-NA-34890/1.000000-Localization-76516'\n",
      "Ignoring unsupported parameter 'overwrite' for importer type <class 'fiftyone.utils.dicom.DICOMDatasetImporter'>\n",
      " 100% |███████████████████| 33/33 [1.2s elapsed, 0s remaining, 27.1 samples/s]         \n"
     ]
    },
    {
     "name": "stderr",
     "output_type": "stream",
     "text": [
      " 58%|█████▊    | 655/1128 [51:12<32:34,  4.13s/it]"
     ]
    },
    {
     "name": "stdout",
     "output_type": "stream",
     "text": [
      "No `images_dir` provided. Images will be unpacked to '/opt/project/data/TCGA-BH-A0RX/09-02-2003-NA-BREAST MRI-73444/101.000000-CAD sub 4-97797'\n",
      "Ignoring unsupported parameter 'overwrite' for importer type <class 'fiftyone.utils.dicom.DICOMDatasetImporter'>\n",
      " 100% |█████████████████| 102/102 [3.0s elapsed, 0s remaining, 41.6 samples/s]      \n"
     ]
    },
    {
     "name": "stderr",
     "output_type": "stream",
     "text": [
      " 58%|█████▊    | 656/1128 [51:15<30:52,  3.93s/it]"
     ]
    },
    {
     "name": "stdout",
     "output_type": "stream",
     "text": [
      "No `images_dir` provided. Images will be unpacked to '/opt/project/data/TCGA-E2-A15E/04-06-2002-NA-MR BREAST BILATERAL WWO CONT-26083/9.000000-SAG 3D POST-CONTRAST-08237'\n",
      "Ignoring unsupported parameter 'overwrite' for importer type <class 'fiftyone.utils.dicom.DICOMDatasetImporter'>\n",
      " 100% |█████████████████| 384/384 [9.3s elapsed, 0s remaining, 43.3 samples/s]       \n"
     ]
    },
    {
     "name": "stderr",
     "output_type": "stream",
     "text": [
      " 58%|█████▊    | 657/1128 [51:26<46:16,  5.90s/it]"
     ]
    },
    {
     "name": "stdout",
     "output_type": "stream",
     "text": [
      "No `images_dir` provided. Images will be unpacked to '/opt/project/data/TCGA-BH-A0E9/12-07-1999-NA-BREAST MRI-15168/6.000000-Sag Vibrant C-54281'\n",
      "Ignoring unsupported parameter 'overwrite' for importer type <class 'fiftyone.utils.dicom.DICOMDatasetImporter'>\n",
      " 100% |█████████████████| 164/164 [4.2s elapsed, 0s remaining, 43.9 samples/s]       \n"
     ]
    },
    {
     "name": "stderr",
     "output_type": "stream",
     "text": [
      " 58%|█████▊    | 658/1128 [51:31<43:42,  5.58s/it]"
     ]
    },
    {
     "name": "stdout",
     "output_type": "stream",
     "text": [
      "No `images_dir` provided. Images will be unpacked to '/opt/project/data/TCGA-BH-A202/05-24-2004-NA-BREAST MRI-87769/105.000000-CAD sub 1-17903'\n",
      "Ignoring unsupported parameter 'overwrite' for importer type <class 'fiftyone.utils.dicom.DICOMDatasetImporter'>\n",
      " 100% |█████████████████| 106/106 [3.0s elapsed, 0s remaining, 41.7 samples/s]      \n"
     ]
    },
    {
     "name": "stderr",
     "output_type": "stream",
     "text": [
      " 58%|█████▊    | 659/1128 [51:34<38:41,  4.95s/it]"
     ]
    },
    {
     "name": "stdout",
     "output_type": "stream",
     "text": [
      "No `images_dir` provided. Images will be unpacked to '/opt/project/data/TCGA-E2-A14V/06-10-2001-NA-MR BREAST BILATERAL WWO CONT-38155/1.000000-3-PLANE LOCALIZER-01791'\n",
      "Ignoring unsupported parameter 'overwrite' for importer type <class 'fiftyone.utils.dicom.DICOMDatasetImporter'>\n",
      " 100% |███████████████████| 45/45 [1.5s elapsed, 0s remaining, 29.1 samples/s]      \n"
     ]
    },
    {
     "name": "stderr",
     "output_type": "stream",
     "text": [
      " 59%|█████▊    | 660/1128 [51:36<31:23,  4.03s/it]"
     ]
    },
    {
     "name": "stdout",
     "output_type": "stream",
     "text": [
      "No `images_dir` provided. Images will be unpacked to '/opt/project/data/TCGA-E2-A159/02-10-2002-NA-MR BREAST BILATERAL WWO CONT-48613/6.000000-SAG 3D PRE-CONTRAST-61438'\n",
      "Ignoring unsupported parameter 'overwrite' for importer type <class 'fiftyone.utils.dicom.DICOMDatasetImporter'>\n",
      " 100% |█████████████████| 128/128 [3.3s elapsed, 0s remaining, 45.0 samples/s]      \n"
     ]
    },
    {
     "name": "stderr",
     "output_type": "stream",
     "text": [
      " 59%|█████▊    | 661/1128 [51:40<30:46,  3.95s/it]"
     ]
    },
    {
     "name": "stdout",
     "output_type": "stream",
     "text": [
      "No `images_dir` provided. Images will be unpacked to '/opt/project/data/TCGA-E2-A1B1/12-21-1999-NA-MR BREAST BILATERAL WWO CONT-74167/9.000000-SAG 3D POST-CONTRAST-67166'\n",
      "Ignoring unsupported parameter 'overwrite' for importer type <class 'fiftyone.utils.dicom.DICOMDatasetImporter'>\n",
      " 100% |█████████████████| 360/360 [8.6s elapsed, 0s remaining, 45.0 samples/s]       \n"
     ]
    },
    {
     "name": "stderr",
     "output_type": "stream",
     "text": [
      " 59%|█████▊    | 662/1128 [51:50<44:04,  5.67s/it]"
     ]
    },
    {
     "name": "stdout",
     "output_type": "stream",
     "text": [
      "No `images_dir` provided. Images will be unpacked to '/opt/project/data/TCGA-BH-A0C0/08-20-2000-NA-BREAST MRI-05483/102.000000-CAD REG CAD Sub 3-11181'\n",
      "Ignoring unsupported parameter 'overwrite' for importer type <class 'fiftyone.utils.dicom.DICOMDatasetImporter'>\n",
      " 100% |███████████████████| 70/70 [2.2s elapsed, 0s remaining, 41.4 samples/s]      \n"
     ]
    },
    {
     "name": "stderr",
     "output_type": "stream",
     "text": [
      " 59%|█████▉    | 663/1128 [51:52<36:50,  4.75s/it]"
     ]
    },
    {
     "name": "stdout",
     "output_type": "stream",
     "text": [
      "No `images_dir` provided. Images will be unpacked to '/opt/project/data/TCGA-E2-A14V/06-10-2001-NA-MR BREAST BILATERAL WWO CONT-38155/6.000000-SAG 3D PRE-CONTRAST-09569'\n",
      "Ignoring unsupported parameter 'overwrite' for importer type <class 'fiftyone.utils.dicom.DICOMDatasetImporter'>\n",
      " 100% |█████████████████| 128/128 [3.5s elapsed, 0s remaining, 43.0 samples/s]       \n"
     ]
    },
    {
     "name": "stderr",
     "output_type": "stream",
     "text": [
      " 59%|█████▉    | 664/1128 [51:56<34:57,  4.52s/it]"
     ]
    },
    {
     "name": "stdout",
     "output_type": "stream",
     "text": [
      "No `images_dir` provided. Images will be unpacked to '/opt/project/data/TCGA-AO-A0JM/09-15-1999-NA-NA-59814/111.000000-42510551-42510351-43086'\n",
      "Ignoring unsupported parameter 'overwrite' for importer type <class 'fiftyone.utils.dicom.DICOMDatasetImporter'>\n",
      " 100% |███████████████████| 51/51 [1.6s elapsed, 0s remaining, 32.1 samples/s]      \n"
     ]
    },
    {
     "name": "stderr",
     "output_type": "stream",
     "text": [
      " 59%|█████▉    | 665/1128 [51:58<28:49,  3.74s/it]"
     ]
    },
    {
     "name": "stdout",
     "output_type": "stream",
     "text": [
      "No `images_dir` provided. Images will be unpacked to '/opt/project/data/TCGA-BH-A0BM/09-03-2000-NA-BREAST MRI-42240/5.000000-Ax Vibrant MULTIPHASE-92183'\n",
      "Ignoring unsupported parameter 'overwrite' for importer type <class 'fiftyone.utils.dicom.DICOMDatasetImporter'>\n",
      " 100% |█████████████████| 380/380 [10.4s elapsed, 0s remaining, 38.8 samples/s]      \n"
     ]
    },
    {
     "name": "stderr",
     "output_type": "stream",
     "text": [
      " 59%|█████▉    | 666/1128 [52:10<46:36,  6.05s/it]"
     ]
    },
    {
     "name": "stdout",
     "output_type": "stream",
     "text": [
      "No `images_dir` provided. Images will be unpacked to '/opt/project/data/TCGA-E2-A14Y/10-03-2001-NA-MR BREAST BILATERAL WWO CONT-22306/5.000000-SAG T1 PRE-95911'\n",
      "Ignoring unsupported parameter 'overwrite' for importer type <class 'fiftyone.utils.dicom.DICOMDatasetImporter'>\n",
      " 100% |███████████████████| 93/93 [2.6s elapsed, 0s remaining, 43.1 samples/s]      \n"
     ]
    },
    {
     "name": "stderr",
     "output_type": "stream",
     "text": [
      " 59%|█████▉    | 667/1128 [52:13<39:35,  5.15s/it]"
     ]
    },
    {
     "name": "stdout",
     "output_type": "stream",
     "text": [
      "No `images_dir` provided. Images will be unpacked to '/opt/project/data/TCGA-BH-A0BT/06-01-2000-NA-BREAST MRI-32173/1.000000-3 plane loc-94617'\n",
      "Ignoring unsupported parameter 'overwrite' for importer type <class 'fiftyone.utils.dicom.DICOMDatasetImporter'>\n",
      " 100% |███████████████████| 29/29 [1.2s elapsed, 0s remaining, 24.2 samples/s]         \n"
     ]
    },
    {
     "name": "stderr",
     "output_type": "stream",
     "text": [
      " 59%|█████▉    | 668/1128 [52:14<31:11,  4.07s/it]"
     ]
    },
    {
     "name": "stdout",
     "output_type": "stream",
     "text": [
      "No `images_dir` provided. Images will be unpacked to '/opt/project/data/TCGA-BH-A0E0/04-06-2003-NA-BREAST MRI-53761/200.000000-CAD sag reformat-41912'\n",
      "Ignoring unsupported parameter 'overwrite' for importer type <class 'fiftyone.utils.dicom.DICOMDatasetImporter'>\n",
      " 100% |█████████████████| 141/141 [3.8s elapsed, 0s remaining, 43.3 samples/s]      \n"
     ]
    },
    {
     "name": "stderr",
     "output_type": "stream",
     "text": [
      " 59%|█████▉    | 669/1128 [52:18<31:40,  4.14s/it]"
     ]
    },
    {
     "name": "stdout",
     "output_type": "stream",
     "text": [
      "No `images_dir` provided. Images will be unpacked to '/opt/project/data/TCGA-BH-A0DT/10-29-2000-NA-BREAST MRI-03753/100.000000-CAD REG CAD Sub 1-92197'\n",
      "Ignoring unsupported parameter 'overwrite' for importer type <class 'fiftyone.utils.dicom.DICOMDatasetImporter'>\n",
      " 100% |███████████████████| 78/78 [2.4s elapsed, 0s remaining, 40.4 samples/s]      \n"
     ]
    },
    {
     "name": "stderr",
     "output_type": "stream",
     "text": [
      " 59%|█████▉    | 670/1128 [52:21<28:26,  3.73s/it]"
     ]
    },
    {
     "name": "stdout",
     "output_type": "stream",
     "text": [
      "No `images_dir` provided. Images will be unpacked to '/opt/project/data/TCGA-BH-A0B3/10-09-2000-NA-BREAST MRI-95408/200.000000-CAD COR REF-38334'\n",
      "Ignoring unsupported parameter 'overwrite' for importer type <class 'fiftyone.utils.dicom.DICOMDatasetImporter'>\n",
      " 100% |███████████████████| 97/97 [2.8s elapsed, 0s remaining, 42.3 samples/s]      \n"
     ]
    },
    {
     "name": "stderr",
     "output_type": "stream",
     "text": [
      " 59%|█████▉    | 671/1128 [52:24<27:07,  3.56s/it]"
     ]
    },
    {
     "name": "stdout",
     "output_type": "stream",
     "text": [
      "No `images_dir` provided. Images will be unpacked to '/opt/project/data/TCGA-BH-A0E0/04-06-2003-NA-BREAST MRI-53761/1001.000000-CAD VOLUME-42738'\n",
      "Ignoring unsupported parameter 'overwrite' for importer type <class 'fiftyone.utils.dicom.DICOMDatasetImporter'>\n",
      " 100% |█████████████████████| 4/4 [661.2ms elapsed, 0s remaining, 6.0 samples/s]   \n"
     ]
    },
    {
     "name": "stderr",
     "output_type": "stream",
     "text": [
      " 60%|█████▉    | 672/1128 [52:25<20:47,  2.74s/it]"
     ]
    },
    {
     "name": "stdout",
     "output_type": "stream",
     "text": [
      "No `images_dir` provided. Images will be unpacked to '/opt/project/data/TCGA-BH-A0DI/11-20-2002-NA-BREAST MRI-40073/1.000000-3 plane loc-20114'\n",
      "Ignoring unsupported parameter 'overwrite' for importer type <class 'fiftyone.utils.dicom.DICOMDatasetImporter'>\n",
      " 100% |███████████████████| 29/29 [1.2s elapsed, 0s remaining, 24.8 samples/s]         \n"
     ]
    },
    {
     "name": "stderr",
     "output_type": "stream",
     "text": [
      " 60%|█████▉    | 673/1128 [52:27<17:41,  2.33s/it]"
     ]
    },
    {
     "name": "stdout",
     "output_type": "stream",
     "text": [
      "No `images_dir` provided. Images will be unpacked to '/opt/project/data/TCGA-BH-A0RX/09-02-2003-NA-BREAST MRI-73444/1001.000000-CAD VOLUME-00050'\n",
      "Ignoring unsupported parameter 'overwrite' for importer type <class 'fiftyone.utils.dicom.DICOMDatasetImporter'>\n",
      " 100% |█████████████████████| 4/4 [692.2ms elapsed, 0s remaining, 5.8 samples/s]   \n"
     ]
    },
    {
     "name": "stderr",
     "output_type": "stream",
     "text": [
      " 60%|█████▉    | 674/1128 [52:27<14:15,  1.88s/it]"
     ]
    },
    {
     "name": "stdout",
     "output_type": "stream",
     "text": [
      "No `images_dir` provided. Images will be unpacked to '/opt/project/data/TCGA-E2-A1IE/01-04-2001-NA-MR BREAST BILATERAL WWO CONT-63539/11.000000-SAG 3D PRE-CONTRAST-39720'\n",
      "Ignoring unsupported parameter 'overwrite' for importer type <class 'fiftyone.utils.dicom.DICOMDatasetImporter'>\n",
      " 100% |█████████████████| 132/132 [3.5s elapsed, 0s remaining, 44.6 samples/s]       \n"
     ]
    },
    {
     "name": "stderr",
     "output_type": "stream",
     "text": [
      " 60%|█████▉    | 675/1128 [52:32<19:29,  2.58s/it]"
     ]
    },
    {
     "name": "stdout",
     "output_type": "stream",
     "text": [
      "No `images_dir` provided. Images will be unpacked to '/opt/project/data/TCGA-AO-A03M/03-15-2001-NA-NA-80891/102.000000-Bind1125161..50-98859'\n",
      "Ignoring unsupported parameter 'overwrite' for importer type <class 'fiftyone.utils.dicom.DICOMDatasetImporter'>\n",
      " 100% |███████████████████| 50/50 [1.5s elapsed, 0s remaining, 32.9 samples/s]      \n"
     ]
    },
    {
     "name": "stderr",
     "output_type": "stream",
     "text": [
      " 60%|█████▉    | 676/1128 [52:33<17:43,  2.35s/it]"
     ]
    },
    {
     "name": "stdout",
     "output_type": "stream",
     "text": [
      "No `images_dir` provided. Images will be unpacked to '/opt/project/data/TCGA-BH-A0DK/01-01-2003-NA-BIOPSY-76460/3.000000-Sag Vibrant-36679'\n",
      "Ignoring unsupported parameter 'overwrite' for importer type <class 'fiftyone.utils.dicom.DICOMDatasetImporter'>\n",
      " 100% |█████████████████| 128/128 [3.4s elapsed, 0s remaining, 42.9 samples/s]      \n"
     ]
    },
    {
     "name": "stderr",
     "output_type": "stream",
     "text": [
      " 60%|██████    | 677/1128 [52:37<21:25,  2.85s/it]"
     ]
    },
    {
     "name": "stdout",
     "output_type": "stream",
     "text": [
      "No `images_dir` provided. Images will be unpacked to '/opt/project/data/TCGA-E2-A1IK/05-04-2002-NA-MR BREAST BILATERAL WWO CONT-09734/5.000000-ASSET CALIBRATION-40210'\n",
      "Ignoring unsupported parameter 'overwrite' for importer type <class 'fiftyone.utils.dicom.DICOMDatasetImporter'>\n",
      " 100% |███████████████████| 74/74 [1.9s elapsed, 0s remaining, 38.2 samples/s]      \n"
     ]
    },
    {
     "name": "stderr",
     "output_type": "stream",
     "text": [
      " 60%|██████    | 678/1128 [52:40<20:07,  2.68s/it]"
     ]
    },
    {
     "name": "stdout",
     "output_type": "stream",
     "text": [
      "No `images_dir` provided. Images will be unpacked to '/opt/project/data/TCGA-BH-A0AZ/01-09-2002-NA-BREAST MRI-21010/2.000000-Calibration Scan-79106'\n",
      "Ignoring unsupported parameter 'overwrite' for importer type <class 'fiftyone.utils.dicom.DICOMDatasetImporter'>\n",
      " 100% |█████████████████| 100/100 [2.5s elapsed, 0s remaining, 48.0 samples/s]      \n"
     ]
    },
    {
     "name": "stderr",
     "output_type": "stream",
     "text": [
      " 60%|██████    | 679/1128 [52:43<21:30,  2.87s/it]"
     ]
    },
    {
     "name": "stdout",
     "output_type": "stream",
     "text": [
      "No `images_dir` provided. Images will be unpacked to '/opt/project/data/TCGA-BH-A0HX/11-13-2001-NA-BIOPSY-21222/3.000000-Ax Vibrant C-03476'\n",
      "Ignoring unsupported parameter 'overwrite' for importer type <class 'fiftyone.utils.dicom.DICOMDatasetImporter'>\n",
      " 100% |█████████████████| 192/192 [5.5s elapsed, 0s remaining, 38.4 samples/s]       \n"
     ]
    },
    {
     "name": "stderr",
     "output_type": "stream",
     "text": [
      " 60%|██████    | 680/1128 [52:49<28:43,  3.85s/it]"
     ]
    },
    {
     "name": "stdout",
     "output_type": "stream",
     "text": [
      "No `images_dir` provided. Images will be unpacked to '/opt/project/data/TCGA-AO-A12F/10-16-2000-NA-NA-19596/113.000000-Bind56477469..520-23182'\n",
      "Ignoring unsupported parameter 'overwrite' for importer type <class 'fiftyone.utils.dicom.DICOMDatasetImporter'>\n",
      " 100% |███████████████████| 52/52 [1.7s elapsed, 0s remaining, 31.0 samples/s]      \n"
     ]
    },
    {
     "name": "stderr",
     "output_type": "stream",
     "text": [
      " 60%|██████    | 681/1128 [52:51<24:28,  3.29s/it]"
     ]
    },
    {
     "name": "stdout",
     "output_type": "stream",
     "text": [
      "No `images_dir` provided. Images will be unpacked to '/opt/project/data/TCGA-AO-A0JM/09-15-1999-NA-NA-59814/3.000000-T2 right breast-67691'\n",
      "Ignoring unsupported parameter 'overwrite' for importer type <class 'fiftyone.utils.dicom.DICOMDatasetImporter'>\n",
      " 100% |███████████████████| 38/38 [1.3s elapsed, 0s remaining, 28.6 samples/s]      \n"
     ]
    },
    {
     "name": "stderr",
     "output_type": "stream",
     "text": [
      " 60%|██████    | 682/1128 [52:53<20:38,  2.78s/it]"
     ]
    },
    {
     "name": "stdout",
     "output_type": "stream",
     "text": [
      "No `images_dir` provided. Images will be unpacked to '/opt/project/data/TCGA-AO-A12F/10-16-2000-NA-NA-19596/105.000000-Bind5647753..104-57008'\n",
      "Ignoring unsupported parameter 'overwrite' for importer type <class 'fiftyone.utils.dicom.DICOMDatasetImporter'>\n",
      " 100% |███████████████████| 52/52 [1.6s elapsed, 0s remaining, 32.9 samples/s]      \n"
     ]
    },
    {
     "name": "stderr",
     "output_type": "stream",
     "text": [
      " 61%|██████    | 683/1128 [52:55<18:36,  2.51s/it]"
     ]
    },
    {
     "name": "stdout",
     "output_type": "stream",
     "text": [
      "No `images_dir` provided. Images will be unpacked to '/opt/project/data/TCGA-AO-A12F/10-16-2000-NA-NA-19596/119.000000-PJN-12878'\n",
      "Ignoring unsupported parameter 'overwrite' for importer type <class 'fiftyone.utils.dicom.DICOMDatasetImporter'>\n",
      " 100% |███████████████████| 16/16 [841.6ms elapsed, 0s remaining, 19.1 samples/s]      \n"
     ]
    },
    {
     "name": "stderr",
     "output_type": "stream",
     "text": [
      " 61%|██████    | 684/1128 [52:56<15:15,  2.06s/it]"
     ]
    },
    {
     "name": "stdout",
     "output_type": "stream",
     "text": [
      "No `images_dir` provided. Images will be unpacked to '/opt/project/data/TCGA-E2-A1IJ/08-02-2001-NA-MR BREAST BILATERAL WWO CONT-31159/2.000000-3-PLANE LOCALIZER-89363'\n",
      "Ignoring unsupported parameter 'overwrite' for importer type <class 'fiftyone.utils.dicom.DICOMDatasetImporter'>\n",
      " 100% |███████████████████| 45/45 [1.7s elapsed, 0s remaining, 26.8 samples/s]      \n"
     ]
    },
    {
     "name": "stderr",
     "output_type": "stream",
     "text": [
      " 61%|██████    | 685/1128 [52:58<14:56,  2.02s/it]"
     ]
    },
    {
     "name": "stdout",
     "output_type": "stream",
     "text": [
      "No `images_dir` provided. Images will be unpacked to '/opt/project/data/TCGA-BH-A0E2/01-21-2003-NA-BREAST MRI-05355/202.000000-CAD cor reformat-41359'\n",
      "Ignoring unsupported parameter 'overwrite' for importer type <class 'fiftyone.utils.dicom.DICOMDatasetImporter'>\n",
      " 100% |█████████████████| 176/176 [4.6s elapsed, 0s remaining, 42.2 samples/s]       \n"
     ]
    },
    {
     "name": "stderr",
     "output_type": "stream",
     "text": [
      " 61%|██████    | 686/1128 [53:03<21:58,  2.98s/it]"
     ]
    },
    {
     "name": "stdout",
     "output_type": "stream",
     "text": [
      "No `images_dir` provided. Images will be unpacked to '/opt/project/data/TCGA-E2-A159/02-10-2002-NA-MR BREAST BILATERAL WWO CONT-48613/3.000000-SAG T2 FAT-SAT LEFT-16591'\n",
      "Ignoring unsupported parameter 'overwrite' for importer type <class 'fiftyone.utils.dicom.DICOMDatasetImporter'>\n",
      " 100% |███████████████████| 52/52 [1.8s elapsed, 0s remaining, 29.2 samples/s]      \n"
     ]
    },
    {
     "name": "stderr",
     "output_type": "stream",
     "text": [
      " 61%|██████    | 687/1128 [53:05<19:56,  2.71s/it]"
     ]
    },
    {
     "name": "stdout",
     "output_type": "stream",
     "text": [
      "No `images_dir` provided. Images will be unpacked to '/opt/project/data/TCGA-BH-A0GZ/02-17-2003-NA-BREAST MRI-72293/2000.000000-CAD MIP-78537'\n",
      "Ignoring unsupported parameter 'overwrite' for importer type <class 'fiftyone.utils.dicom.DICOMDatasetImporter'>\n",
      " 100% |███████████████████| 45/45 [1.6s elapsed, 0s remaining, 27.3 samples/s]      \n"
     ]
    },
    {
     "name": "stderr",
     "output_type": "stream",
     "text": [
      " 61%|██████    | 688/1128 [53:07<18:10,  2.48s/it]"
     ]
    },
    {
     "name": "stdout",
     "output_type": "stream",
     "text": [
      "No `images_dir` provided. Images will be unpacked to '/opt/project/data/TCGA-AO-A12G/03-29-2001-NA-NA-34806/109.000000-T1 Sagittal post fat sat-24521'\n",
      "Ignoring unsupported parameter 'overwrite' for importer type <class 'fiftyone.utils.dicom.DICOMDatasetImporter'>\n",
      " 100% |███████████████████| 41/41 [1.5s elapsed, 0s remaining, 27.4 samples/s]      \n"
     ]
    },
    {
     "name": "stderr",
     "output_type": "stream",
     "text": [
      " 61%|██████    | 689/1128 [53:09<16:32,  2.26s/it]"
     ]
    },
    {
     "name": "stdout",
     "output_type": "stream",
     "text": [
      "No `images_dir` provided. Images will be unpacked to '/opt/project/data/TCGA-BH-A18F/12-22-2003-NA-BREAST MRI-50626/101.000000-CAD sub 4-41610'\n",
      "Ignoring unsupported parameter 'overwrite' for importer type <class 'fiftyone.utils.dicom.DICOMDatasetImporter'>\n",
      " 100% |███████████████████| 88/88 [2.6s elapsed, 0s remaining, 42.4 samples/s]      \n"
     ]
    },
    {
     "name": "stderr",
     "output_type": "stream",
     "text": [
      " 61%|██████    | 690/1128 [53:12<18:08,  2.49s/it]"
     ]
    },
    {
     "name": "stdout",
     "output_type": "stream",
     "text": [
      "No `images_dir` provided. Images will be unpacked to '/opt/project/data/TCGA-BH-A0DT/10-29-2000-NA-BREAST MRI-03753/3.000000-AX STIR-WaterSat-28355'\n",
      "Ignoring unsupported parameter 'overwrite' for importer type <class 'fiftyone.utils.dicom.DICOMDatasetImporter'>\n",
      " 100% |███████████████████| 38/38 [1.6s elapsed, 0s remaining, 24.1 samples/s]      \n"
     ]
    },
    {
     "name": "stderr",
     "output_type": "stream",
     "text": [
      " 61%|██████▏   | 691/1128 [53:13<16:40,  2.29s/it]"
     ]
    },
    {
     "name": "stdout",
     "output_type": "stream",
     "text": [
      "No `images_dir` provided. Images will be unpacked to '/opt/project/data/TCGA-E2-A150/01-11-2002-NA-MR BREAST BILATERAL WWO CONT-28816/4.000000-SAG T2 FAT-SAT RIGHT-88748'\n",
      "Ignoring unsupported parameter 'overwrite' for importer type <class 'fiftyone.utils.dicom.DICOMDatasetImporter'>\n",
      " 100% |███████████████████| 52/52 [2.0s elapsed, 0s remaining, 26.6 samples/s]      \n"
     ]
    },
    {
     "name": "stderr",
     "output_type": "stream",
     "text": [
      " 61%|██████▏   | 692/1128 [53:16<16:35,  2.28s/it]"
     ]
    },
    {
     "name": "stdout",
     "output_type": "stream",
     "text": [
      "No `images_dir` provided. Images will be unpacked to '/opt/project/data/TCGA-E2-A15K/07-21-2002-NA-MR BREAST BILATERAL WWO CONT-17072/6.000000-SAG 3D PRE-CONTRAST-71990'\n",
      "Ignoring unsupported parameter 'overwrite' for importer type <class 'fiftyone.utils.dicom.DICOMDatasetImporter'>\n",
      " 100% |█████████████████| 164/164 [4.1s elapsed, 0s remaining, 44.6 samples/s]       \n"
     ]
    },
    {
     "name": "stderr",
     "output_type": "stream",
     "text": [
      " 61%|██████▏   | 693/1128 [53:20<21:45,  3.00s/it]"
     ]
    },
    {
     "name": "stdout",
     "output_type": "stream",
     "text": [
      "No `images_dir` provided. Images will be unpacked to '/opt/project/data/TCGA-BH-A0DE/08-01-2000-NA-BREAST MRI-94390/2000.000000-CAD MIP Collection-45625'\n",
      "Ignoring unsupported parameter 'overwrite' for importer type <class 'fiftyone.utils.dicom.DICOMDatasetImporter'>\n",
      " 100% |███████████████████| 45/45 [1.6s elapsed, 0s remaining, 28.1 samples/s]      \n"
     ]
    },
    {
     "name": "stderr",
     "output_type": "stream",
     "text": [
      " 62%|██████▏   | 694/1128 [53:22<19:22,  2.68s/it]"
     ]
    },
    {
     "name": "stdout",
     "output_type": "stream",
     "text": [
      "No `images_dir` provided. Images will be unpacked to '/opt/project/data/TCGA-BH-A0W5/07-25-2001-NA-MRI BREAST-10788/103.000000-CAD sub 3-43397'\n",
      "Ignoring unsupported parameter 'overwrite' for importer type <class 'fiftyone.utils.dicom.DICOMDatasetImporter'>\n",
      " 100% |███████████████████| 82/82 [2.5s elapsed, 0s remaining, 41.7 samples/s]      \n"
     ]
    },
    {
     "name": "stderr",
     "output_type": "stream",
     "text": [
      " 62%|██████▏   | 695/1128 [53:25<19:38,  2.72s/it]"
     ]
    },
    {
     "name": "stdout",
     "output_type": "stream",
     "text": [
      "No `images_dir` provided. Images will be unpacked to '/opt/project/data/TCGA-AO-A03V/08-10-2002-NA-NA-16391/3.000000-T2 right breast-22002'\n",
      "Ignoring unsupported parameter 'overwrite' for importer type <class 'fiftyone.utils.dicom.DICOMDatasetImporter'>\n",
      " 100% |███████████████████| 36/36 [1.2s elapsed, 0s remaining, 29.0 samples/s]      \n"
     ]
    },
    {
     "name": "stderr",
     "output_type": "stream",
     "text": [
      " 62%|██████▏   | 696/1128 [53:27<16:59,  2.36s/it]"
     ]
    },
    {
     "name": "stdout",
     "output_type": "stream",
     "text": [
      "No `images_dir` provided. Images will be unpacked to '/opt/project/data/TCGA-AO-A0JM/09-15-1999-NA-NA-59814/112.000000-PJN-12986'\n",
      "Ignoring unsupported parameter 'overwrite' for importer type <class 'fiftyone.utils.dicom.DICOMDatasetImporter'>\n",
      " 100% |███████████████████| 16/16 [822.5ms elapsed, 0s remaining, 19.5 samples/s]      \n"
     ]
    },
    {
     "name": "stderr",
     "output_type": "stream",
     "text": [
      " 62%|██████▏   | 697/1128 [53:28<14:04,  1.96s/it]"
     ]
    },
    {
     "name": "stdout",
     "output_type": "stream",
     "text": [
      "No `images_dir` provided. Images will be unpacked to '/opt/project/data/TCGA-AR-A1AQ/05-07-2003-NA-MRI BREAST BILATERAL-81050/8.000000-VIBRANT-66943'\n",
      "Ignoring unsupported parameter 'overwrite' for importer type <class 'fiftyone.utils.dicom.DICOMDatasetImporter'>\n",
      " 100% |█████████████████| 448/448 [10.5s elapsed, 0s remaining, 44.0 samples/s]      \n"
     ]
    },
    {
     "name": "stderr",
     "output_type": "stream",
     "text": [
      " 62%|██████▏   | 698/1128 [53:41<38:48,  5.41s/it]"
     ]
    },
    {
     "name": "stdout",
     "output_type": "stream",
     "text": [
      "No `images_dir` provided. Images will be unpacked to '/opt/project/data/TCGA-AR-A1AX/09-12-2002-NA-MRI BREAST BILATERAL-55235/6.000000-RT SAG FSE T2-63954'\n",
      "Ignoring unsupported parameter 'overwrite' for importer type <class 'fiftyone.utils.dicom.DICOMDatasetImporter'>\n",
      " 100% |███████████████████| 28/28 [1.2s elapsed, 0s remaining, 22.8 samples/s]         \n"
     ]
    },
    {
     "name": "stderr",
     "output_type": "stream",
     "text": [
      " 62%|██████▏   | 699/1128 [53:43<30:15,  4.23s/it]"
     ]
    },
    {
     "name": "stdout",
     "output_type": "stream",
     "text": [
      "No `images_dir` provided. Images will be unpacked to '/opt/project/data/TCGA-BH-A0BQ/04-25-2000-NA-BREAST MRI-78053/4.000000-Ax DWI 750-77554'\n",
      "Ignoring unsupported parameter 'overwrite' for importer type <class 'fiftyone.utils.dicom.DICOMDatasetImporter'>\n",
      " 100% |███████████████████| 82/82 [2.4s elapsed, 0s remaining, 40.9 samples/s]      \n"
     ]
    },
    {
     "name": "stderr",
     "output_type": "stream",
     "text": [
      " 62%|██████▏   | 700/1128 [53:45<27:11,  3.81s/it]"
     ]
    },
    {
     "name": "stdout",
     "output_type": "stream",
     "text": [
      "No `images_dir` provided. Images will be unpacked to '/opt/project/data/TCGA-AO-A03V/08-10-2002-NA-NA-16391/114.000000-LT SUB-61354'\n",
      "Ignoring unsupported parameter 'overwrite' for importer type <class 'fiftyone.utils.dicom.DICOMDatasetImporter'>\n",
      " 100% |███████████████████| 13/13 [823.0ms elapsed, 0s remaining, 15.8 samples/s]      \n"
     ]
    },
    {
     "name": "stderr",
     "output_type": "stream",
     "text": [
      " 62%|██████▏   | 701/1128 [53:46<21:09,  2.97s/it]"
     ]
    },
    {
     "name": "stdout",
     "output_type": "stream",
     "text": [
      "No `images_dir` provided. Images will be unpacked to '/opt/project/data/TCGA-AO-A12F/10-16-2000-NA-NA-19596/2.000000-T2 left breast-15705'\n",
      "Ignoring unsupported parameter 'overwrite' for importer type <class 'fiftyone.utils.dicom.DICOMDatasetImporter'>\n",
      " 100% |███████████████████| 38/38 [1.3s elapsed, 0s remaining, 28.2 samples/s]      \n"
     ]
    },
    {
     "name": "stderr",
     "output_type": "stream",
     "text": [
      " 62%|██████▏   | 702/1128 [53:48<18:09,  2.56s/it]"
     ]
    },
    {
     "name": "stdout",
     "output_type": "stream",
     "text": [
      "No `images_dir` provided. Images will be unpacked to '/opt/project/data/TCGA-BH-A0DT/10-29-2000-NA-BREAST MRI-03753/201.000000-CAD SAG REF-57170'\n",
      "Ignoring unsupported parameter 'overwrite' for importer type <class 'fiftyone.utils.dicom.DICOMDatasetImporter'>\n",
      " 100% |███████████████████| 97/97 [2.7s elapsed, 0s remaining, 42.2 samples/s]      \n"
     ]
    },
    {
     "name": "stderr",
     "output_type": "stream",
     "text": [
      " 62%|██████▏   | 703/1128 [53:51<19:15,  2.72s/it]"
     ]
    },
    {
     "name": "stdout",
     "output_type": "stream",
     "text": [
      "No `images_dir` provided. Images will be unpacked to '/opt/project/data/TCGA-AR-A1AQ/05-07-2003-NA-MRI BREAST BILATERAL-81050/1.000000-SCOUT-33743'\n",
      "Ignoring unsupported parameter 'overwrite' for importer type <class 'fiftyone.utils.dicom.DICOMDatasetImporter'>\n",
      " 100% |███████████████████| 51/51 [1.8s elapsed, 0s remaining, 28.9 samples/s]      \n"
     ]
    },
    {
     "name": "stderr",
     "output_type": "stream",
     "text": [
      " 62%|██████▏   | 704/1128 [53:53<17:47,  2.52s/it]"
     ]
    },
    {
     "name": "stdout",
     "output_type": "stream",
     "text": [
      "No `images_dir` provided. Images will be unpacked to '/opt/project/data/TCGA-E2-A15L/07-18-2002-NA-MR BREAST BILATERAL WWO CONT-99306/1.000000-3-PLANE LOCALIZER-76372'\n",
      "Ignoring unsupported parameter 'overwrite' for importer type <class 'fiftyone.utils.dicom.DICOMDatasetImporter'>\n",
      " 100% |███████████████████| 45/45 [1.7s elapsed, 0s remaining, 26.8 samples/s]      \n"
     ]
    },
    {
     "name": "stderr",
     "output_type": "stream",
     "text": [
      " 62%|██████▎   | 705/1128 [53:55<16:30,  2.34s/it]"
     ]
    },
    {
     "name": "stdout",
     "output_type": "stream",
     "text": [
      "No `images_dir` provided. Images will be unpacked to '/opt/project/data/TCGA-BH-A0HX/11-13-2001-NA-BIOPSY-21222/4.000000-Ax Vibrant C-98308'\n",
      "Ignoring unsupported parameter 'overwrite' for importer type <class 'fiftyone.utils.dicom.DICOMDatasetImporter'>\n",
      " 100% |███████████████████| 64/64 [2.1s elapsed, 0s remaining, 39.5 samples/s]      \n"
     ]
    },
    {
     "name": "stderr",
     "output_type": "stream",
     "text": [
      " 63%|██████▎   | 706/1128 [53:58<16:50,  2.39s/it]"
     ]
    },
    {
     "name": "stdout",
     "output_type": "stream",
     "text": [
      "No `images_dir` provided. Images will be unpacked to '/opt/project/data/TCGA-AO-A0J9/05-11-2001-NA-NA-96851/112.000000-Bind154777465..525-55846'\n",
      "Ignoring unsupported parameter 'overwrite' for importer type <class 'fiftyone.utils.dicom.DICOMDatasetImporter'>\n",
      " 100% |███████████████████| 61/61 [1.8s elapsed, 0s remaining, 34.6 samples/s]      \n"
     ]
    },
    {
     "name": "stderr",
     "output_type": "stream",
     "text": [
      " 63%|██████▎   | 707/1128 [54:00<16:07,  2.30s/it]"
     ]
    },
    {
     "name": "stdout",
     "output_type": "stream",
     "text": [
      "No `images_dir` provided. Images will be unpacked to '/opt/project/data/TCGA-BH-A0GZ/02-17-2003-NA-BREAST MRI-72293/5.000000-Sag Vibrant C-29239'\n",
      "Ignoring unsupported parameter 'overwrite' for importer type <class 'fiftyone.utils.dicom.DICOMDatasetImporter'>\n",
      " 100% |█████████████████| 180/180 [4.6s elapsed, 0s remaining, 43.2 samples/s]       \n"
     ]
    },
    {
     "name": "stderr",
     "output_type": "stream",
     "text": [
      " 63%|██████▎   | 708/1128 [54:05<22:51,  3.27s/it]"
     ]
    },
    {
     "name": "stdout",
     "output_type": "stream",
     "text": [
      "No `images_dir` provided. Images will be unpacked to '/opt/project/data/TCGA-AO-A03M/03-15-2001-NA-NA-80891/112.000000-Bind11251797..146-29221'\n",
      "Ignoring unsupported parameter 'overwrite' for importer type <class 'fiftyone.utils.dicom.DICOMDatasetImporter'>\n",
      " 100% |███████████████████| 50/50 [1.6s elapsed, 0s remaining, 31.3 samples/s]      \n"
     ]
    },
    {
     "name": "stderr",
     "output_type": "stream",
     "text": [
      " 63%|██████▎   | 709/1128 [54:07<20:00,  2.86s/it]"
     ]
    },
    {
     "name": "stdout",
     "output_type": "stream",
     "text": [
      "No `images_dir` provided. Images will be unpacked to '/opt/project/data/TCGA-AO-A12F/10-16-2000-NA-NA-19596/104.000000-Bind564771..52-11318'\n",
      "Ignoring unsupported parameter 'overwrite' for importer type <class 'fiftyone.utils.dicom.DICOMDatasetImporter'>\n",
      " 100% |███████████████████| 52/52 [1.6s elapsed, 0s remaining, 33.2 samples/s]      \n"
     ]
    },
    {
     "name": "stderr",
     "output_type": "stream",
     "text": [
      " 63%|██████▎   | 710/1128 [54:09<17:50,  2.56s/it]"
     ]
    },
    {
     "name": "stdout",
     "output_type": "stream",
     "text": [
      "No `images_dir` provided. Images will be unpacked to '/opt/project/data/TCGA-BH-A0H9/09-25-2000-NA-BREAST MRI-55072/100.000000-CAD REG CAD Sub 1-03403'\n",
      "Ignoring unsupported parameter 'overwrite' for importer type <class 'fiftyone.utils.dicom.DICOMDatasetImporter'>\n",
      " 100% |███████████████████| 70/70 [2.1s elapsed, 0s remaining, 42.6 samples/s]      \n"
     ]
    },
    {
     "name": "stderr",
     "output_type": "stream",
     "text": [
      " 63%|██████▎   | 711/1128 [54:11<17:36,  2.53s/it]"
     ]
    },
    {
     "name": "stdout",
     "output_type": "stream",
     "text": [
      "No `images_dir` provided. Images will be unpacked to '/opt/project/data/TCGA-E2-A1IG/09-01-2001-NA-MR BREAST BILATERAL WWO CONT-98834/1.000000-3-PLANE LOCALIZER-08077'\n",
      "Ignoring unsupported parameter 'overwrite' for importer type <class 'fiftyone.utils.dicom.DICOMDatasetImporter'>\n",
      " 100% |███████████████████| 45/45 [1.7s elapsed, 0s remaining, 26.8 samples/s]      \n"
     ]
    },
    {
     "name": "stderr",
     "output_type": "stream",
     "text": [
      " 63%|██████▎   | 712/1128 [54:13<16:20,  2.36s/it]"
     ]
    },
    {
     "name": "stdout",
     "output_type": "stream",
     "text": [
      "No `images_dir` provided. Images will be unpacked to '/opt/project/data/TCGA-AO-A03V/08-10-2002-NA-NA-16391/105.000000-T1 Sagittal post fat sat-67555'\n",
      "Ignoring unsupported parameter 'overwrite' for importer type <class 'fiftyone.utils.dicom.DICOMDatasetImporter'>\n",
      " 100% |███████████████████| 40/40 [1.5s elapsed, 0s remaining, 26.1 samples/s]      \n"
     ]
    },
    {
     "name": "stderr",
     "output_type": "stream",
     "text": [
      " 63%|██████▎   | 713/1128 [54:15<15:07,  2.19s/it]"
     ]
    },
    {
     "name": "stdout",
     "output_type": "stream",
     "text": [
      "No `images_dir` provided. Images will be unpacked to '/opt/project/data/TCGA-BH-A0BJ/12-24-2001-NA-BREAST MRI-76352/5.000000-Sag Vibrant C-24031'\n",
      "Ignoring unsupported parameter 'overwrite' for importer type <class 'fiftyone.utils.dicom.DICOMDatasetImporter'>\n",
      " 100% |█████████████████| 200/200 [5.0s elapsed, 0s remaining, 44.1 samples/s]       \n"
     ]
    },
    {
     "name": "stderr",
     "output_type": "stream",
     "text": [
      " 63%|██████▎   | 714/1128 [54:21<22:25,  3.25s/it]"
     ]
    },
    {
     "name": "stdout",
     "output_type": "stream",
     "text": [
      "No `images_dir` provided. Images will be unpacked to '/opt/project/data/TCGA-E2-A1LG/11-06-2002-NA-MR BREAST BILATERAL WWO CONT-85265/1.000000-3-PLANE LOCALIZER-80055'\n",
      "Ignoring unsupported parameter 'overwrite' for importer type <class 'fiftyone.utils.dicom.DICOMDatasetImporter'>\n",
      " 100% |███████████████████| 45/45 [1.7s elapsed, 0s remaining, 27.2 samples/s]      \n"
     ]
    },
    {
     "name": "stderr",
     "output_type": "stream",
     "text": [
      " 63%|██████▎   | 715/1128 [54:23<19:38,  2.85s/it]"
     ]
    },
    {
     "name": "stdout",
     "output_type": "stream",
     "text": [
      "No `images_dir` provided. Images will be unpacked to '/opt/project/data/TCGA-AR-A24X/05-31-2001-NA-MRI - BREAST-56773/9.000000-brava  1 Min.-69258'\n",
      "Ignoring unsupported parameter 'overwrite' for importer type <class 'fiftyone.utils.dicom.DICOMDatasetImporter'>\n",
      " 100% |█████████████████| 120/120 [3.7s elapsed, 0s remaining, 37.0 samples/s]       \n"
     ]
    },
    {
     "name": "stderr",
     "output_type": "stream",
     "text": [
      " 63%|██████▎   | 716/1128 [54:27<22:22,  3.26s/it]"
     ]
    },
    {
     "name": "stdout",
     "output_type": "stream",
     "text": [
      "No `images_dir` provided. Images will be unpacked to '/opt/project/data/TCGA-BH-A0EI/02-17-2002-NA-BREAST MRI-14232/101.000000-CAD sub 4-55747'\n",
      "Ignoring unsupported parameter 'overwrite' for importer type <class 'fiftyone.utils.dicom.DICOMDatasetImporter'>\n",
      " 100% |███████████████████| 80/80 [2.3s elapsed, 0s remaining, 42.6 samples/s]      \n"
     ]
    },
    {
     "name": "stderr",
     "output_type": "stream",
     "text": [
      " 64%|██████▎   | 717/1128 [54:30<21:08,  3.09s/it]"
     ]
    },
    {
     "name": "stdout",
     "output_type": "stream",
     "text": [
      "No `images_dir` provided. Images will be unpacked to '/opt/project/data/TCGA-E2-A1L7/12-29-2001-NA-MR BREAST BILATERAL WWO CONT-27861/2.000000-SAG T1 PRE-89575'\n",
      "Ignoring unsupported parameter 'overwrite' for importer type <class 'fiftyone.utils.dicom.DICOMDatasetImporter'>\n",
      " 100% |█████████████████| 104/104 [2.8s elapsed, 0s remaining, 45.8 samples/s]      \n"
     ]
    },
    {
     "name": "stderr",
     "output_type": "stream",
     "text": [
      " 64%|██████▎   | 718/1128 [54:33<21:59,  3.22s/it]"
     ]
    },
    {
     "name": "stdout",
     "output_type": "stream",
     "text": [
      "No `images_dir` provided. Images will be unpacked to '/opt/project/data/TCGA-BH-A0DZ/10-16-2002-NA-BREAST MRI-48146/105.000000-CAD sub 1-18650'\n",
      "Ignoring unsupported parameter 'overwrite' for importer type <class 'fiftyone.utils.dicom.DICOMDatasetImporter'>\n",
      " 100% |█████████████████| 102/102 [3.0s elapsed, 0s remaining, 40.4 samples/s]      \n"
     ]
    },
    {
     "name": "stderr",
     "output_type": "stream",
     "text": [
      " 64%|██████▎   | 719/1128 [54:37<22:12,  3.26s/it]"
     ]
    },
    {
     "name": "stdout",
     "output_type": "stream",
     "text": [
      "No `images_dir` provided. Images will be unpacked to '/opt/project/data/TCGA-BH-A0B3/10-09-2000-NA-BREAST MRI-95408/102.000000-CAD REG CAD Sub 3-27888'\n",
      "Ignoring unsupported parameter 'overwrite' for importer type <class 'fiftyone.utils.dicom.DICOMDatasetImporter'>\n",
      " 100% |███████████████████| 82/82 [2.4s elapsed, 0s remaining, 43.2 samples/s]      \n"
     ]
    },
    {
     "name": "stderr",
     "output_type": "stream",
     "text": [
      " 64%|██████▍   | 720/1128 [54:39<21:10,  3.11s/it]"
     ]
    },
    {
     "name": "stdout",
     "output_type": "stream",
     "text": [
      "No `images_dir` provided. Images will be unpacked to '/opt/project/data/TCGA-BH-A0H3/07-27-2001-NA-BREAST MRI-61560/105.000000-CAD sub 1-74987'\n",
      "Ignoring unsupported parameter 'overwrite' for importer type <class 'fiftyone.utils.dicom.DICOMDatasetImporter'>\n",
      " 100% |███████████████████| 92/92 [2.7s elapsed, 0s remaining, 42.2 samples/s]      \n"
     ]
    },
    {
     "name": "stderr",
     "output_type": "stream",
     "text": [
      " 64%|██████▍   | 721/1128 [54:43<21:04,  3.11s/it]"
     ]
    },
    {
     "name": "stdout",
     "output_type": "stream",
     "text": [
      "No `images_dir` provided. Images will be unpacked to '/opt/project/data/TCGA-E2-A159/02-10-2002-NA-MR BREAST BILATERAL WWO CONT-48613/2.000000-SAG T1 PRE-76115'\n",
      "Ignoring unsupported parameter 'overwrite' for importer type <class 'fiftyone.utils.dicom.DICOMDatasetImporter'>\n",
      " 100% |███████████████████| 92/92 [2.4s elapsed, 0s remaining, 46.8 samples/s]      \n"
     ]
    },
    {
     "name": "stderr",
     "output_type": "stream",
     "text": [
      " 64%|██████▍   | 722/1128 [54:45<20:26,  3.02s/it]"
     ]
    },
    {
     "name": "stdout",
     "output_type": "stream",
     "text": [
      "No `images_dir` provided. Images will be unpacked to '/opt/project/data/TCGA-BH-A0H5/06-20-2001-NA-BREAST MRI-23793/101.000000-CAD sub 4-16195'\n",
      "Ignoring unsupported parameter 'overwrite' for importer type <class 'fiftyone.utils.dicom.DICOMDatasetImporter'>\n",
      " 100% |███████████████████| 90/90 [2.6s elapsed, 0s remaining, 41.8 samples/s]      \n"
     ]
    },
    {
     "name": "stderr",
     "output_type": "stream",
     "text": [
      " 64%|██████▍   | 723/1128 [54:49<20:46,  3.08s/it]"
     ]
    },
    {
     "name": "stdout",
     "output_type": "stream",
     "text": [
      "No `images_dir` provided. Images will be unpacked to '/opt/project/data/TCGA-BH-A0DH/01-09-2001-NA-BREAST MRI-58184/201.000000-CAD SAG REF-51634'\n",
      "Ignoring unsupported parameter 'overwrite' for importer type <class 'fiftyone.utils.dicom.DICOMDatasetImporter'>\n",
      " 100% |███████████████████| 97/97 [2.8s elapsed, 0s remaining, 40.9 samples/s]      \n"
     ]
    },
    {
     "name": "stderr",
     "output_type": "stream",
     "text": [
      " 64%|██████▍   | 724/1128 [54:52<21:04,  3.13s/it]"
     ]
    },
    {
     "name": "stdout",
     "output_type": "stream",
     "text": [
      "No `images_dir` provided. Images will be unpacked to '/opt/project/data/TCGA-BH-A0DT/11-11-2000-NA-BIOPSY-26175/6.000000-Ax Vibrant C-03048'\n",
      "Ignoring unsupported parameter 'overwrite' for importer type <class 'fiftyone.utils.dicom.DICOMDatasetImporter'>\n",
      " 100% |███████████████████| 74/74 [2.4s elapsed, 0s remaining, 39.1 samples/s]      \n"
     ]
    },
    {
     "name": "stderr",
     "output_type": "stream",
     "text": [
      " 64%|██████▍   | 725/1128 [54:55<20:15,  3.02s/it]"
     ]
    },
    {
     "name": "stdout",
     "output_type": "stream",
     "text": [
      "No `images_dir` provided. Images will be unpacked to '/opt/project/data/TCGA-BH-A0B3/10-09-2000-NA-BREAST MRI-95408/2.000000-Calibration Scan-00142'\n",
      "Ignoring unsupported parameter 'overwrite' for importer type <class 'fiftyone.utils.dicom.DICOMDatasetImporter'>\n",
      " 100% |███████████████████| 92/92 [2.4s elapsed, 0s remaining, 48.5 samples/s]      \n"
     ]
    },
    {
     "name": "stderr",
     "output_type": "stream",
     "text": [
      " 64%|██████▍   | 726/1128 [54:57<19:41,  2.94s/it]"
     ]
    },
    {
     "name": "stdout",
     "output_type": "stream",
     "text": [
      "No `images_dir` provided. Images will be unpacked to '/opt/project/data/TCGA-BH-A0RX/09-02-2003-NA-BREAST MRI-73444/20000.000000-DERIVED MOCO Ax Vibrant MULTIPHASE SUB-47510'\n",
      "Ignoring unsupported parameter 'overwrite' for importer type <class 'fiftyone.utils.dicom.DICOMDatasetImporter'>\n",
      " 100% |█████████████████| 102/102 [3.0s elapsed, 0s remaining, 41.3 samples/s]      \n"
     ]
    },
    {
     "name": "stderr",
     "output_type": "stream",
     "text": [
      " 64%|██████▍   | 727/1128 [55:01<20:34,  3.08s/it]"
     ]
    },
    {
     "name": "stdout",
     "output_type": "stream",
     "text": [
      "No `images_dir` provided. Images will be unpacked to '/opt/project/data/TCGA-BH-A0DV/11-29-2000-NA-BREAST MRI-88132/2000.000000-CAD MIP Collection-25830'\n",
      "Ignoring unsupported parameter 'overwrite' for importer type <class 'fiftyone.utils.dicom.DICOMDatasetImporter'>\n",
      " 100% |███████████████████| 45/45 [1.6s elapsed, 0s remaining, 27.5 samples/s]      \n"
     ]
    },
    {
     "name": "stderr",
     "output_type": "stream",
     "text": [
      " 65%|██████▍   | 728/1128 [55:03<18:14,  2.74s/it]"
     ]
    },
    {
     "name": "stdout",
     "output_type": "stream",
     "text": [
      "No `images_dir` provided. Images will be unpacked to '/opt/project/data/TCGA-AO-A12D/09-23-1999-NA-NA-51146/104.000000-NA-80957'\n",
      "Ignoring unsupported parameter 'overwrite' for importer type <class 'fiftyone.utils.dicom.DICOMDatasetImporter'>\n",
      " 100% |███████████████████| 53/53 [1.4s elapsed, 0s remaining, 38.1 samples/s]         \n"
     ]
    },
    {
     "name": "stderr",
     "output_type": "stream",
     "text": [
      " 65%|██████▍   | 729/1128 [55:04<16:06,  2.42s/it]"
     ]
    },
    {
     "name": "stdout",
     "output_type": "stream",
     "text": [
      "No `images_dir` provided. Images will be unpacked to '/opt/project/data/TCGA-BH-A0DK/12-22-2002-NA-BREAST MRI-01189/1.000000-3 plane loc-80710'\n",
      "Ignoring unsupported parameter 'overwrite' for importer type <class 'fiftyone.utils.dicom.DICOMDatasetImporter'>\n",
      " 100% |███████████████████| 29/29 [1.1s elapsed, 0s remaining, 25.3 samples/s]         \n"
     ]
    },
    {
     "name": "stderr",
     "output_type": "stream",
     "text": [
      " 65%|██████▍   | 730/1128 [55:06<13:59,  2.11s/it]"
     ]
    },
    {
     "name": "stdout",
     "output_type": "stream",
     "text": [
      "No `images_dir` provided. Images will be unpacked to '/opt/project/data/TCGA-BH-A0E2/01-21-2003-NA-BREAST MRI-05355/103.000000-CAD sub 3-01746'\n",
      "Ignoring unsupported parameter 'overwrite' for importer type <class 'fiftyone.utils.dicom.DICOMDatasetImporter'>\n",
      " 100% |█████████████████| 106/106 [3.0s elapsed, 0s remaining, 42.7 samples/s]      \n"
     ]
    },
    {
     "name": "stderr",
     "output_type": "stream",
     "text": [
      " 65%|██████▍   | 731/1128 [55:09<16:32,  2.50s/it]"
     ]
    },
    {
     "name": "stdout",
     "output_type": "stream",
     "text": [
      "No `images_dir` provided. Images will be unpacked to '/opt/project/data/TCGA-BH-A0DV/11-29-2000-NA-BREAST MRI-88132/3.000000-AX STIR-WaterSat-08332'\n",
      "Ignoring unsupported parameter 'overwrite' for importer type <class 'fiftyone.utils.dicom.DICOMDatasetImporter'>\n",
      " 100% |███████████████████| 43/43 [1.6s elapsed, 0s remaining, 27.1 samples/s]      \n"
     ]
    },
    {
     "name": "stderr",
     "output_type": "stream",
     "text": [
      " 65%|██████▍   | 732/1128 [55:11<15:14,  2.31s/it]"
     ]
    },
    {
     "name": "stdout",
     "output_type": "stream",
     "text": [
      "No `images_dir` provided. Images will be unpacked to '/opt/project/data/TCGA-E2-A1L9/05-03-2002-NA-MR BREAST BILATERAL WWO CONT-62542/5.000000-ASSET CALIBRATION-84240'\n",
      "Ignoring unsupported parameter 'overwrite' for importer type <class 'fiftyone.utils.dicom.DICOMDatasetImporter'>\n",
      " 100% |███████████████████| 74/74 [1.9s elapsed, 0s remaining, 38.8 samples/s]      \n"
     ]
    },
    {
     "name": "stderr",
     "output_type": "stream",
     "text": [
      " 65%|██████▍   | 733/1128 [55:13<15:07,  2.30s/it]"
     ]
    },
    {
     "name": "stdout",
     "output_type": "stream",
     "text": [
      "No `images_dir` provided. Images will be unpacked to '/opt/project/data/TCGA-BH-A0BT/06-01-2000-NA-BREAST MRI-32173/5.000000-Ax Vibrant MULTIPHASE-20594'\n",
      "Ignoring unsupported parameter 'overwrite' for importer type <class 'fiftyone.utils.dicom.DICOMDatasetImporter'>\n",
      " 100% |█████████████████| 400/400 [11.7s elapsed, 0s remaining, 36.5 samples/s]      \n"
     ]
    },
    {
     "name": "stderr",
     "output_type": "stream",
     "text": [
      " 65%|██████▌   | 734/1128 [55:26<35:43,  5.44s/it]"
     ]
    },
    {
     "name": "stdout",
     "output_type": "stream",
     "text": [
      "No `images_dir` provided. Images will be unpacked to '/opt/project/data/TCGA-E2-A15J/06-20-2002-NA-MR BREAST BILATERAL WWO CONT-27666/2.000000-SAG T1 PRE-36538'\n",
      "Ignoring unsupported parameter 'overwrite' for importer type <class 'fiftyone.utils.dicom.DICOMDatasetImporter'>\n",
      " 100% |███████████████████| 94/94 [2.8s elapsed, 0s remaining, 41.8 samples/s]      \n"
     ]
    },
    {
     "name": "stderr",
     "output_type": "stream",
     "text": [
      " 65%|██████▌   | 735/1128 [55:29<31:17,  4.78s/it]"
     ]
    },
    {
     "name": "stdout",
     "output_type": "stream",
     "text": [
      "No `images_dir` provided. Images will be unpacked to '/opt/project/data/TCGA-BH-A18F/12-22-2003-NA-BREAST MRI-50626/5.000000-Sag Vibrant C-63551'\n",
      "Ignoring unsupported parameter 'overwrite' for importer type <class 'fiftyone.utils.dicom.DICOMDatasetImporter'>\n",
      " 100% |█████████████████| 160/160 [4.6s elapsed, 0s remaining, 39.5 samples/s]       \n"
     ]
    },
    {
     "name": "stderr",
     "output_type": "stream",
     "text": [
      " 65%|██████▌   | 736/1128 [55:34<31:56,  4.89s/it]"
     ]
    },
    {
     "name": "stdout",
     "output_type": "stream",
     "text": [
      "No `images_dir` provided. Images will be unpacked to '/opt/project/data/TCGA-E2-A159/02-10-2002-NA-MR BREAST BILATERAL WWO CONT-48613/5.000000-ASSET CALIBRATION-39610'\n",
      "Ignoring unsupported parameter 'overwrite' for importer type <class 'fiftyone.utils.dicom.DICOMDatasetImporter'>\n",
      " 100% |█████████████████| 102/102 [2.5s elapsed, 0s remaining, 51.3 samples/s]      \n"
     ]
    },
    {
     "name": "stderr",
     "output_type": "stream",
     "text": [
      " 65%|██████▌   | 737/1128 [55:37<27:53,  4.28s/it]"
     ]
    },
    {
     "name": "stdout",
     "output_type": "stream",
     "text": [
      "No `images_dir` provided. Images will be unpacked to '/opt/project/data/TCGA-AO-A12F/10-16-2000-NA-NA-19596/109.000000-Bind56477261..312-49367'\n",
      "Ignoring unsupported parameter 'overwrite' for importer type <class 'fiftyone.utils.dicom.DICOMDatasetImporter'>\n",
      " 100% |███████████████████| 52/52 [1.6s elapsed, 0s remaining, 33.3 samples/s]      \n"
     ]
    },
    {
     "name": "stderr",
     "output_type": "stream",
     "text": [
      " 65%|██████▌   | 738/1128 [55:39<23:03,  3.55s/it]"
     ]
    },
    {
     "name": "stdout",
     "output_type": "stream",
     "text": [
      "No `images_dir` provided. Images will be unpacked to '/opt/project/data/TCGA-BH-A0DK/01-01-2003-NA-BIOPSY-76460/5.000000-Ax Vibrant C-35365'\n",
      "Ignoring unsupported parameter 'overwrite' for importer type <class 'fiftyone.utils.dicom.DICOMDatasetImporter'>\n",
      " 100% |███████████████████| 70/70 [2.3s elapsed, 0s remaining, 38.9 samples/s]      \n"
     ]
    },
    {
     "name": "stderr",
     "output_type": "stream",
     "text": [
      " 66%|██████▌   | 739/1128 [55:42<21:13,  3.27s/it]"
     ]
    },
    {
     "name": "stdout",
     "output_type": "stream",
     "text": [
      "No `images_dir` provided. Images will be unpacked to '/opt/project/data/TCGA-BH-A0B1/09-04-2000-NA-BREAST MRI-93235/102.000000-CAD REG CAD Sub 3-78797'\n",
      "Ignoring unsupported parameter 'overwrite' for importer type <class 'fiftyone.utils.dicom.DICOMDatasetImporter'>\n",
      " 100% |███████████████████| 90/90 [2.6s elapsed, 0s remaining, 42.5 samples/s]      \n"
     ]
    },
    {
     "name": "stderr",
     "output_type": "stream",
     "text": [
      " 66%|██████▌   | 740/1128 [55:45<21:19,  3.30s/it]"
     ]
    },
    {
     "name": "stdout",
     "output_type": "stream",
     "text": [
      "No `images_dir` provided. Images will be unpacked to '/opt/project/data/TCGA-E2-A1LG/11-06-2002-NA-MR BREAST BILATERAL WWO CONT-85265/9.000000-SAG 3D PRE-CONTRAST-37216'\n",
      "Ignoring unsupported parameter 'overwrite' for importer type <class 'fiftyone.utils.dicom.DICOMDatasetImporter'>\n",
      " 100% |█████████████████| 136/136 [4.0s elapsed, 0s remaining, 39.1 samples/s]       \n"
     ]
    },
    {
     "name": "stderr",
     "output_type": "stream",
     "text": [
      " 66%|██████▌   | 741/1128 [55:50<23:44,  3.68s/it]"
     ]
    },
    {
     "name": "stdout",
     "output_type": "stream",
     "text": [
      "No `images_dir` provided. Images will be unpacked to '/opt/project/data/TCGA-BH-A0W3/10-12-2003-NA-BREAST MRI-09153/103.000000-CAD sub 3-24390'\n",
      "Ignoring unsupported parameter 'overwrite' for importer type <class 'fiftyone.utils.dicom.DICOMDatasetImporter'>\n",
      " 100% |███████████████████| 94/94 [2.8s elapsed, 0s remaining, 41.6 samples/s]      \n"
     ]
    },
    {
     "name": "stderr",
     "output_type": "stream",
     "text": [
      " 66%|██████▌   | 742/1128 [55:53<22:40,  3.52s/it]"
     ]
    },
    {
     "name": "stdout",
     "output_type": "stream",
     "text": [
      "No `images_dir` provided. Images will be unpacked to '/opt/project/data/TCGA-BH-A0C0/08-20-2000-NA-BREAST MRI-05483/100.000000-CAD REG CAD Sub 1-52201'\n",
      "Ignoring unsupported parameter 'overwrite' for importer type <class 'fiftyone.utils.dicom.DICOMDatasetImporter'>\n",
      " 100% |███████████████████| 70/70 [2.2s elapsed, 0s remaining, 41.3 samples/s]      \n"
     ]
    },
    {
     "name": "stderr",
     "output_type": "stream",
     "text": [
      " 66%|██████▌   | 743/1128 [55:55<20:54,  3.26s/it]"
     ]
    },
    {
     "name": "stdout",
     "output_type": "stream",
     "text": [
      "No `images_dir` provided. Images will be unpacked to '/opt/project/data/TCGA-BH-A0DX/11-21-2000-NA-BREAST MRI-01298/5.000000-Ax Vibrant MULTIPHASE-89565'\n",
      "Ignoring unsupported parameter 'overwrite' for importer type <class 'fiftyone.utils.dicom.DICOMDatasetImporter'>\n",
      " 100% |█████████████████| 410/410 [11.3s elapsed, 0s remaining, 38.5 samples/s]      \n"
     ]
    },
    {
     "name": "stderr",
     "output_type": "stream",
     "text": [
      " 66%|██████▌   | 744/1128 [56:08<38:35,  6.03s/it]"
     ]
    },
    {
     "name": "stdout",
     "output_type": "stream",
     "text": [
      "No `images_dir` provided. Images will be unpacked to '/opt/project/data/TCGA-AR-A1AQ/11-21-2001-NA-MRI - BREAST-98628/2.000000-ax t1-23931'\n",
      "Ignoring unsupported parameter 'overwrite' for importer type <class 'fiftyone.utils.dicom.DICOMDatasetImporter'>\n",
      " 100% |███████████████████| 40/40 [1.5s elapsed, 0s remaining, 27.3 samples/s]      \n"
     ]
    },
    {
     "name": "stderr",
     "output_type": "stream",
     "text": [
      " 66%|██████▌   | 745/1128 [56:10<30:14,  4.74s/it]"
     ]
    },
    {
     "name": "stdout",
     "output_type": "stream",
     "text": [
      "No `images_dir` provided. Images will be unpacked to '/opt/project/data/TCGA-E2-A14Y/10-03-2001-NA-MR BREAST BILATERAL WWO CONT-22306/7.000000-SAG 3D PRE-CONTRAST-23267'\n",
      "Ignoring unsupported parameter 'overwrite' for importer type <class 'fiftyone.utils.dicom.DICOMDatasetImporter'>\n",
      " 100% |█████████████████| 128/128 [3.8s elapsed, 0s remaining, 37.9 samples/s]       \n"
     ]
    },
    {
     "name": "stderr",
     "output_type": "stream",
     "text": [
      " 66%|██████▌   | 746/1128 [56:14<29:21,  4.61s/it]"
     ]
    },
    {
     "name": "stdout",
     "output_type": "stream",
     "text": [
      "No `images_dir` provided. Images will be unpacked to '/opt/project/data/TCGA-AO-A03M/03-15-2001-NA-NA-80891/3.000000-T2 right breast-01768'\n",
      "Ignoring unsupported parameter 'overwrite' for importer type <class 'fiftyone.utils.dicom.DICOMDatasetImporter'>\n",
      " 100% |███████████████████| 33/33 [1.2s elapsed, 0s remaining, 27.1 samples/s]         \n"
     ]
    },
    {
     "name": "stderr",
     "output_type": "stream",
     "text": [
      " 66%|██████▌   | 747/1128 [56:16<23:19,  3.67s/it]"
     ]
    },
    {
     "name": "stdout",
     "output_type": "stream",
     "text": [
      "No `images_dir` provided. Images will be unpacked to '/opt/project/data/TCGA-AO-A12E/02-01-2000-NA-NA-34890/104.000000-NA-21097'\n",
      "Ignoring unsupported parameter 'overwrite' for importer type <class 'fiftyone.utils.dicom.DICOMDatasetImporter'>\n",
      " 100% |███████████████████| 60/60 [1.7s elapsed, 0s remaining, 35.1 samples/s]      \n"
     ]
    },
    {
     "name": "stderr",
     "output_type": "stream",
     "text": [
      " 66%|██████▋   | 748/1128 [56:18<20:07,  3.18s/it]"
     ]
    },
    {
     "name": "stdout",
     "output_type": "stream",
     "text": [
      "No `images_dir` provided. Images will be unpacked to '/opt/project/data/TCGA-BH-A202/05-24-2004-NA-BREAST MRI-87769/200.000000-CAD sag reformat-66458'\n",
      "Ignoring unsupported parameter 'overwrite' for importer type <class 'fiftyone.utils.dicom.DICOMDatasetImporter'>\n",
      " 100% |█████████████████| 191/191 [4.8s elapsed, 0s remaining, 43.9 samples/s]       \n"
     ]
    },
    {
     "name": "stderr",
     "output_type": "stream",
     "text": [
      " 66%|██████▋   | 749/1128 [56:23<24:28,  3.87s/it]"
     ]
    },
    {
     "name": "stdout",
     "output_type": "stream",
     "text": [
      "No `images_dir` provided. Images will be unpacked to '/opt/project/data/TCGA-BH-A0BG/06-11-2001-NA-BREAST MRI-34066/200.000000-CAD sag reformat-23858'\n",
      "Ignoring unsupported parameter 'overwrite' for importer type <class 'fiftyone.utils.dicom.DICOMDatasetImporter'>\n",
      " 100% |█████████████████| 171/171 [4.2s elapsed, 0s remaining, 46.5 samples/s]       \n"
     ]
    },
    {
     "name": "stderr",
     "output_type": "stream",
     "text": [
      " 66%|██████▋   | 750/1128 [56:28<26:07,  4.15s/it]"
     ]
    },
    {
     "name": "stdout",
     "output_type": "stream",
     "text": [
      "No `images_dir` provided. Images will be unpacked to '/opt/project/data/TCGA-E2-A15F/04-28-2002-NA-MR BREAST BILATERAL WWO CONT-08560/3.000000-SAG T2 FAT-SAT LEFT-02920'\n",
      "Ignoring unsupported parameter 'overwrite' for importer type <class 'fiftyone.utils.dicom.DICOMDatasetImporter'>\n",
      " 100% |███████████████████| 44/44 [1.7s elapsed, 0s remaining, 26.6 samples/s]      \n"
     ]
    },
    {
     "name": "stderr",
     "output_type": "stream",
     "text": [
      " 67%|██████▋   | 751/1128 [56:30<21:53,  3.49s/it]"
     ]
    },
    {
     "name": "stdout",
     "output_type": "stream",
     "text": [
      "No `images_dir` provided. Images will be unpacked to '/opt/project/data/TCGA-AO-A12G/03-29-2001-NA-NA-34806/3.000000-T2 right breast-11109'\n",
      "Ignoring unsupported parameter 'overwrite' for importer type <class 'fiftyone.utils.dicom.DICOMDatasetImporter'>\n",
      " 100% |███████████████████| 36/36 [1.3s elapsed, 0s remaining, 28.1 samples/s]      \n"
     ]
    },
    {
     "name": "stderr",
     "output_type": "stream",
     "text": [
      " 67%|██████▋   | 752/1128 [56:31<18:08,  2.89s/it]"
     ]
    },
    {
     "name": "stdout",
     "output_type": "stream",
     "text": [
      "No `images_dir` provided. Images will be unpacked to '/opt/project/data/TCGA-AO-A03V/08-10-2002-NA-NA-16391/112.000000-LT-78666'\n",
      "Ignoring unsupported parameter 'overwrite' for importer type <class 'fiftyone.utils.dicom.DICOMDatasetImporter'>\n",
      " 100% |███████████████████| 13/13 [824.2ms elapsed, 0s remaining, 15.8 samples/s]      \n"
     ]
    },
    {
     "name": "stderr",
     "output_type": "stream",
     "text": [
      " 67%|██████▋   | 753/1128 [56:32<14:32,  2.33s/it]"
     ]
    },
    {
     "name": "stdout",
     "output_type": "stream",
     "text": [
      "No `images_dir` provided. Images will be unpacked to '/opt/project/data/TCGA-BH-A0EI/02-17-2002-NA-BREAST MRI-14232/2000.000000-CAD MIP-97263'\n",
      "Ignoring unsupported parameter 'overwrite' for importer type <class 'fiftyone.utils.dicom.DICOMDatasetImporter'>\n",
      " 100% |███████████████████| 45/45 [1.7s elapsed, 0s remaining, 26.8 samples/s]      \n"
     ]
    },
    {
     "name": "stderr",
     "output_type": "stream",
     "text": [
      " 67%|██████▋   | 754/1128 [56:34<13:49,  2.22s/it]"
     ]
    },
    {
     "name": "stdout",
     "output_type": "stream",
     "text": [
      "No `images_dir` provided. Images will be unpacked to '/opt/project/data/TCGA-AR-A1AQ/05-07-2003-NA-MRI BREAST BILATERAL-81050/6.000000-RT SAG FSE T2-33547'\n",
      "Ignoring unsupported parameter 'overwrite' for importer type <class 'fiftyone.utils.dicom.DICOMDatasetImporter'>\n",
      " 100% |███████████████████| 40/40 [1.5s elapsed, 0s remaining, 26.9 samples/s]      \n"
     ]
    },
    {
     "name": "stderr",
     "output_type": "stream",
     "text": [
      " 67%|██████▋   | 755/1128 [56:36<12:56,  2.08s/it]"
     ]
    },
    {
     "name": "stdout",
     "output_type": "stream",
     "text": [
      "No `images_dir` provided. Images will be unpacked to '/opt/project/data/TCGA-BH-A0E9/12-07-1999-NA-BREAST MRI-15168/100.000000-CAD REG CAD Sub 1-50186'\n",
      "Ignoring unsupported parameter 'overwrite' for importer type <class 'fiftyone.utils.dicom.DICOMDatasetImporter'>\n",
      " 100% |███████████████████| 76/76 [2.3s elapsed, 0s remaining, 42.1 samples/s]      \n"
     ]
    },
    {
     "name": "stderr",
     "output_type": "stream",
     "text": [
      " 67%|██████▋   | 756/1128 [56:39<13:59,  2.26s/it]"
     ]
    },
    {
     "name": "stdout",
     "output_type": "stream",
     "text": [
      "No `images_dir` provided. Images will be unpacked to '/opt/project/data/TCGA-AR-A1AQ/11-21-2001-NA-MRI - BREAST-98628/7.000000-ASSET CAL-95670'\n",
      "Ignoring unsupported parameter 'overwrite' for importer type <class 'fiftyone.utils.dicom.DICOMDatasetImporter'>\n",
      " 100% |███████████████████| 64/64 [1.8s elapsed, 0s remaining, 34.9 samples/s]      \n"
     ]
    },
    {
     "name": "stderr",
     "output_type": "stream",
     "text": [
      " 67%|██████▋   | 757/1128 [56:41<13:44,  2.22s/it]"
     ]
    },
    {
     "name": "stdout",
     "output_type": "stream",
     "text": [
      "No `images_dir` provided. Images will be unpacked to '/opt/project/data/TCGA-BH-A0H7/03-26-2002-NA-BREAST MRI-96862/4.000000-Ax Vibrant MULTIPHASE-69715'\n",
      "Ignoring unsupported parameter 'overwrite' for importer type <class 'fiftyone.utils.dicom.DICOMDatasetImporter'>\n",
      " 100% |█████████████████| 290/290 [8.2s elapsed, 0s remaining, 36.9 samples/s]       \n"
     ]
    },
    {
     "name": "stderr",
     "output_type": "stream",
     "text": [
      " 67%|██████▋   | 758/1128 [56:50<26:19,  4.27s/it]"
     ]
    },
    {
     "name": "stdout",
     "output_type": "stream",
     "text": [
      "No `images_dir` provided. Images will be unpacked to '/opt/project/data/TCGA-BH-A0H9/09-25-2000-NA-BREAST MRI-55072/1.000000-3 plane loc-86491'\n",
      "Ignoring unsupported parameter 'overwrite' for importer type <class 'fiftyone.utils.dicom.DICOMDatasetImporter'>\n",
      " 100% |███████████████████| 29/29 [1.1s elapsed, 0s remaining, 25.3 samples/s]         \n"
     ]
    },
    {
     "name": "stderr",
     "output_type": "stream",
     "text": [
      " 67%|██████▋   | 759/1128 [56:51<20:56,  3.41s/it]"
     ]
    },
    {
     "name": "stdout",
     "output_type": "stream",
     "text": [
      "No `images_dir` provided. Images will be unpacked to '/opt/project/data/TCGA-BH-A0DX/11-25-2000-NA-BIOPSY-11698/3.000000-Ax Vibrant C-24263'\n",
      "Ignoring unsupported parameter 'overwrite' for importer type <class 'fiftyone.utils.dicom.DICOMDatasetImporter'>\n",
      " 100% |█████████████████| 234/234 [6.6s elapsed, 0s remaining, 38.6 samples/s]       \n"
     ]
    },
    {
     "name": "stderr",
     "output_type": "stream",
     "text": [
      " 67%|██████▋   | 760/1128 [56:59<28:13,  4.60s/it]"
     ]
    },
    {
     "name": "stdout",
     "output_type": "stream",
     "text": [
      "No `images_dir` provided. Images will be unpacked to '/opt/project/data/TCGA-E2-A10F/02-21-2001-NA-MR BREAST BILATERAL WWO CONT-16473/8.000000-SAG 3D POST-CONTRAST-09247'\n",
      "Ignoring unsupported parameter 'overwrite' for importer type <class 'fiftyone.utils.dicom.DICOMDatasetImporter'>\n",
      " 100% |█████████████████| 384/384 [9.4s elapsed, 0s remaining, 43.4 samples/s]       \n"
     ]
    },
    {
     "name": "stderr",
     "output_type": "stream",
     "text": [
      " 67%|██████▋   | 761/1128 [57:09<39:09,  6.40s/it]"
     ]
    },
    {
     "name": "stdout",
     "output_type": "stream",
     "text": [
      "No `images_dir` provided. Images will be unpacked to '/opt/project/data/TCGA-BH-A0DE/08-01-2000-NA-BREAST MRI-94390/1.000000-3 plane loc-01130'\n",
      "Ignoring unsupported parameter 'overwrite' for importer type <class 'fiftyone.utils.dicom.DICOMDatasetImporter'>\n",
      " 100% |███████████████████| 29/29 [1.1s elapsed, 0s remaining, 25.3 samples/s]         \n"
     ]
    },
    {
     "name": "stderr",
     "output_type": "stream",
     "text": [
      " 68%|██████▊   | 762/1128 [57:11<29:52,  4.90s/it]"
     ]
    },
    {
     "name": "stdout",
     "output_type": "stream",
     "text": [
      "No `images_dir` provided. Images will be unpacked to '/opt/project/data/TCGA-AO-A0JM/09-15-1999-NA-NA-59814/102.000000-NA-91369'\n",
      "Ignoring unsupported parameter 'overwrite' for importer type <class 'fiftyone.utils.dicom.DICOMDatasetImporter'>\n",
      " 100% |███████████████████| 45/45 [1.4s elapsed, 0s remaining, 31.3 samples/s]         \n"
     ]
    },
    {
     "name": "stderr",
     "output_type": "stream",
     "text": [
      " 68%|██████▊   | 763/1128 [57:12<23:57,  3.94s/it]"
     ]
    },
    {
     "name": "stdout",
     "output_type": "stream",
     "text": [
      "No `images_dir` provided. Images will be unpacked to '/opt/project/data/TCGA-BH-A0E9/12-07-1999-NA-BREAST MRI-15168/102.000000-CAD REG CAD Sub 3-89660'\n",
      "Ignoring unsupported parameter 'overwrite' for importer type <class 'fiftyone.utils.dicom.DICOMDatasetImporter'>\n",
      " 100% |███████████████████| 76/76 [2.3s elapsed, 0s remaining, 41.2 samples/s]      \n"
     ]
    },
    {
     "name": "stderr",
     "output_type": "stream",
     "text": [
      " 68%|██████▊   | 764/1128 [57:15<21:35,  3.56s/it]"
     ]
    },
    {
     "name": "stdout",
     "output_type": "stream",
     "text": [
      "No `images_dir` provided. Images will be unpacked to '/opt/project/data/TCGA-AO-A12F/10-16-2000-NA-NA-19596/102.000000-Bind564761..52-05038'\n",
      "Ignoring unsupported parameter 'overwrite' for importer type <class 'fiftyone.utils.dicom.DICOMDatasetImporter'>\n",
      " 100% |███████████████████| 52/52 [1.7s elapsed, 0s remaining, 30.5 samples/s]      \n"
     ]
    },
    {
     "name": "stderr",
     "output_type": "stream",
     "text": [
      " 68%|██████▊   | 765/1128 [57:17<18:46,  3.10s/it]"
     ]
    },
    {
     "name": "stdout",
     "output_type": "stream",
     "text": [
      "No `images_dir` provided. Images will be unpacked to '/opt/project/data/TCGA-E2-A15K/07-21-2002-NA-MR BREAST BILATERAL WWO CONT-17072/7.000000-SAG 3D POST-CONTRAST-68379'\n",
      "Ignoring unsupported parameter 'overwrite' for importer type <class 'fiftyone.utils.dicom.DICOMDatasetImporter'>\n",
      " 100% |█████████████████| 492/492 [11.3s elapsed, 0s remaining, 46.2 samples/s]      \n"
     ]
    },
    {
     "name": "stderr",
     "output_type": "stream",
     "text": [
      " 68%|██████▊   | 766/1128 [57:30<36:30,  6.05s/it]"
     ]
    },
    {
     "name": "stdout",
     "output_type": "stream",
     "text": [
      "No `images_dir` provided. Images will be unpacked to '/opt/project/data/TCGA-BH-A201/05-11-2004-NA-BREAST MRI-49157/4.000000-Ax Vibrant MULTIPHASE-39040'\n",
      "Ignoring unsupported parameter 'overwrite' for importer type <class 'fiftyone.utils.dicom.DICOMDatasetImporter'>\n",
      " 100% |█████████████████| 450/450 [12.4s elapsed, 0s remaining, 36.2 samples/s]      \n"
     ]
    },
    {
     "name": "stderr",
     "output_type": "stream",
     "text": [
      " 68%|██████▊   | 767/1128 [57:44<50:11,  8.34s/it]"
     ]
    },
    {
     "name": "stdout",
     "output_type": "stream",
     "text": [
      "No `images_dir` provided. Images will be unpacked to '/opt/project/data/TCGA-AO-A0JM/09-15-1999-NA-NA-59814/108.000000-NA-92685'\n",
      "Ignoring unsupported parameter 'overwrite' for importer type <class 'fiftyone.utils.dicom.DICOMDatasetImporter'>\n",
      " 100% |███████████████████| 45/45 [1.5s elapsed, 0s remaining, 29.9 samples/s]      \n"
     ]
    },
    {
     "name": "stderr",
     "output_type": "stream",
     "text": [
      " 68%|██████▊   | 768/1128 [57:45<38:16,  6.38s/it]"
     ]
    },
    {
     "name": "stdout",
     "output_type": "stream",
     "text": [
      "No `images_dir` provided. Images will be unpacked to '/opt/project/data/TCGA-BH-A0DZ/10-16-2002-NA-BREAST MRI-48146/3.000000-AX STIR-WaterSat-60141'\n",
      "Ignoring unsupported parameter 'overwrite' for importer type <class 'fiftyone.utils.dicom.DICOMDatasetImporter'>\n",
      " 100% |███████████████████| 50/50 [1.7s elapsed, 0s remaining, 28.9 samples/s]      \n"
     ]
    },
    {
     "name": "stderr",
     "output_type": "stream",
     "text": [
      " 68%|██████▊   | 769/1128 [57:47<30:20,  5.07s/it]"
     ]
    },
    {
     "name": "stdout",
     "output_type": "stream",
     "text": [
      "No `images_dir` provided. Images will be unpacked to '/opt/project/data/TCGA-E2-A1B6/05-31-2001-NA-MR BREAST BILATERAL WWO CONT-82932/5.000000-ASSET CALIBRATION-85446'\n",
      "Ignoring unsupported parameter 'overwrite' for importer type <class 'fiftyone.utils.dicom.DICOMDatasetImporter'>\n",
      " 100% |███████████████████| 74/74 [1.9s elapsed, 0s remaining, 39.0 samples/s]      \n"
     ]
    },
    {
     "name": "stderr",
     "output_type": "stream",
     "text": [
      " 68%|██████▊   | 770/1128 [57:50<25:24,  4.26s/it]"
     ]
    },
    {
     "name": "stdout",
     "output_type": "stream",
     "text": [
      "No `images_dir` provided. Images will be unpacked to '/opt/project/data/TCGA-BH-A0H7/03-26-2002-NA-BREAST MRI-96862/1.000000-3 plane loc-87572'\n",
      "Ignoring unsupported parameter 'overwrite' for importer type <class 'fiftyone.utils.dicom.DICOMDatasetImporter'>\n",
      " 100% |███████████████████| 29/29 [1.1s elapsed, 0s remaining, 25.5 samples/s]         \n"
     ]
    },
    {
     "name": "stderr",
     "output_type": "stream",
     "text": [
      " 68%|██████▊   | 771/1128 [57:51<20:14,  3.40s/it]"
     ]
    },
    {
     "name": "stdout",
     "output_type": "stream",
     "text": [
      "No `images_dir` provided. Images will be unpacked to '/opt/project/data/TCGA-AO-A12E/02-01-2000-NA-NA-34890/103.000000-NA-74718'\n",
      "Ignoring unsupported parameter 'overwrite' for importer type <class 'fiftyone.utils.dicom.DICOMDatasetImporter'>\n",
      " 100% |███████████████████| 56/56 [1.4s elapsed, 0s remaining, 39.1 samples/s]         \n"
     ]
    },
    {
     "name": "stderr",
     "output_type": "stream",
     "text": [
      " 68%|██████▊   | 772/1128 [57:53<17:16,  2.91s/it]"
     ]
    },
    {
     "name": "stdout",
     "output_type": "stream",
     "text": [
      "No `images_dir` provided. Images will be unpacked to '/opt/project/data/TCGA-BH-A18H/02-03-2004-NA-BREAST MRI-53089/1.000000-3 plane loc-03279'\n",
      "Ignoring unsupported parameter 'overwrite' for importer type <class 'fiftyone.utils.dicom.DICOMDatasetImporter'>\n",
      " 100% |███████████████████| 29/29 [1.1s elapsed, 0s remaining, 26.8 samples/s]         \n"
     ]
    },
    {
     "name": "stderr",
     "output_type": "stream",
     "text": [
      " 69%|██████▊   | 773/1128 [57:54<14:21,  2.43s/it]"
     ]
    },
    {
     "name": "stdout",
     "output_type": "stream",
     "text": [
      "No `images_dir` provided. Images will be unpacked to '/opt/project/data/TCGA-AR-A1AQ/11-21-2001-NA-MRI - BREAST-98628/6.000000-RT SAG FSE T2-84835'\n",
      "Ignoring unsupported parameter 'overwrite' for importer type <class 'fiftyone.utils.dicom.DICOMDatasetImporter'>\n",
      " 100% |███████████████████| 40/40 [1.5s elapsed, 0s remaining, 26.8 samples/s]      \n"
     ]
    },
    {
     "name": "stderr",
     "output_type": "stream",
     "text": [
      " 69%|██████▊   | 774/1128 [57:56<13:10,  2.23s/it]"
     ]
    },
    {
     "name": "stdout",
     "output_type": "stream",
     "text": [
      "No `images_dir` provided. Images will be unpacked to '/opt/project/data/TCGA-BH-A0HA/11-17-2001-NA-BREAST MRI-26938/2.000000-Calibration Scan-78664'\n",
      "Ignoring unsupported parameter 'overwrite' for importer type <class 'fiftyone.utils.dicom.DICOMDatasetImporter'>\n",
      " 100% |███████████████████| 92/92 [2.4s elapsed, 0s remaining, 46.9 samples/s]      \n"
     ]
    },
    {
     "name": "stderr",
     "output_type": "stream",
     "text": [
      " 69%|██████▊   | 775/1128 [57:59<14:13,  2.42s/it]"
     ]
    },
    {
     "name": "stdout",
     "output_type": "stream",
     "text": [
      "No `images_dir` provided. Images will be unpacked to '/opt/project/data/TCGA-BH-A0W3/10-12-2003-NA-BREAST MRI-09153/200.000000-CAD sag reformat-76114'\n",
      "Ignoring unsupported parameter 'overwrite' for importer type <class 'fiftyone.utils.dicom.DICOMDatasetImporter'>\n",
      " 100% |█████████████████| 141/141 [3.8s elapsed, 0s remaining, 42.3 samples/s]       \n"
     ]
    },
    {
     "name": "stderr",
     "output_type": "stream",
     "text": [
      " 69%|██████▉   | 776/1128 [58:03<17:30,  2.98s/it]"
     ]
    },
    {
     "name": "stdout",
     "output_type": "stream",
     "text": [
      "No `images_dir` provided. Images will be unpacked to '/opt/project/data/TCGA-BH-A0W3/10-12-2003-NA-BREAST MRI-09153/202.000000-CAD cor reformat-10988'\n",
      "Ignoring unsupported parameter 'overwrite' for importer type <class 'fiftyone.utils.dicom.DICOMDatasetImporter'>\n",
      " 100% |█████████████████| 141/141 [3.9s elapsed, 0s remaining, 42.4 samples/s]       \n"
     ]
    },
    {
     "name": "stderr",
     "output_type": "stream",
     "text": [
      " 69%|██████▉   | 777/1128 [58:08<19:54,  3.40s/it]"
     ]
    },
    {
     "name": "stdout",
     "output_type": "stream",
     "text": [
      "No `images_dir` provided. Images will be unpacked to '/opt/project/data/TCGA-BH-A0HX/11-05-2001-NA-BREAST MRI-23277/101.000000-CAD sub 4-17370'\n",
      "Ignoring unsupported parameter 'overwrite' for importer type <class 'fiftyone.utils.dicom.DICOMDatasetImporter'>\n",
      " 100% |███████████████████| 82/82 [2.4s elapsed, 0s remaining, 42.4 samples/s]      \n"
     ]
    },
    {
     "name": "stderr",
     "output_type": "stream",
     "text": [
      " 69%|██████▉   | 778/1128 [58:10<18:50,  3.23s/it]"
     ]
    },
    {
     "name": "stdout",
     "output_type": "stream",
     "text": [
      "No `images_dir` provided. Images will be unpacked to '/opt/project/data/TCGA-E2-A14P/10-13-2000-NA-MR BREAST BILATERAL WWO CONT-27050/5.000000-SAG 3D PRE-CONTRAST-96964'\n",
      "Ignoring unsupported parameter 'overwrite' for importer type <class 'fiftyone.utils.dicom.DICOMDatasetImporter'>\n",
      " 100% |█████████████████| 136/136 [3.5s elapsed, 0s remaining, 45.9 samples/s]       \n"
     ]
    },
    {
     "name": "stderr",
     "output_type": "stream",
     "text": [
      " 69%|██████▉   | 779/1128 [58:14<20:04,  3.45s/it]"
     ]
    },
    {
     "name": "stdout",
     "output_type": "stream",
     "text": [
      "No `images_dir` provided. Images will be unpacked to '/opt/project/data/TCGA-E2-A15E/04-06-2002-NA-MR BREAST BILATERAL WWO CONT-26083/4.000000-SAG T2 FAT-SAT RIGHT-34612'\n",
      "Ignoring unsupported parameter 'overwrite' for importer type <class 'fiftyone.utils.dicom.DICOMDatasetImporter'>\n",
      " 100% |███████████████████| 50/50 [1.7s elapsed, 0s remaining, 29.8 samples/s]      \n"
     ]
    },
    {
     "name": "stderr",
     "output_type": "stream",
     "text": [
      " 69%|██████▉   | 780/1128 [58:16<17:26,  3.01s/it]"
     ]
    },
    {
     "name": "stdout",
     "output_type": "stream",
     "text": [
      "No `images_dir` provided. Images will be unpacked to '/opt/project/data/TCGA-E2-A15J/06-20-2002-NA-MR BREAST BILATERAL WWO CONT-27666/5.000000-ASSET CALIBRATION-48007'\n",
      "Ignoring unsupported parameter 'overwrite' for importer type <class 'fiftyone.utils.dicom.DICOMDatasetImporter'>\n",
      " 100% |███████████████████| 74/74 [2.0s elapsed, 0s remaining, 37.8 samples/s]      \n"
     ]
    },
    {
     "name": "stderr",
     "output_type": "stream",
     "text": [
      " 69%|██████▉   | 781/1128 [58:19<16:10,  2.80s/it]"
     ]
    },
    {
     "name": "stdout",
     "output_type": "stream",
     "text": [
      "No `images_dir` provided. Images will be unpacked to '/opt/project/data/TCGA-AR-A24S/11-25-1999-NA-MRI - BREAST-35077/1.000000-scout-07533'\n",
      "Ignoring unsupported parameter 'overwrite' for importer type <class 'fiftyone.utils.dicom.DICOMDatasetImporter'>\n",
      " 100% |███████████████████| 45/45 [1.6s elapsed, 0s remaining, 28.2 samples/s]      \n"
     ]
    },
    {
     "name": "stderr",
     "output_type": "stream",
     "text": [
      " 69%|██████▉   | 782/1128 [58:21<14:31,  2.52s/it]"
     ]
    },
    {
     "name": "stdout",
     "output_type": "stream",
     "text": [
      "No `images_dir` provided. Images will be unpacked to '/opt/project/data/TCGA-BH-A0DZ/10-16-2002-NA-BREAST MRI-48146/1.000000-3 plane loc-71712'\n",
      "Ignoring unsupported parameter 'overwrite' for importer type <class 'fiftyone.utils.dicom.DICOMDatasetImporter'>\n",
      " 100% |███████████████████| 29/29 [1.1s elapsed, 0s remaining, 25.5 samples/s]         \n"
     ]
    },
    {
     "name": "stderr",
     "output_type": "stream",
     "text": [
      " 69%|██████▉   | 783/1128 [58:22<12:28,  2.17s/it]"
     ]
    },
    {
     "name": "stdout",
     "output_type": "stream",
     "text": [
      "No `images_dir` provided. Images will be unpacked to '/opt/project/data/TCGA-E2-A14S/03-02-2001-NA-MR BREAST BILATERAL WWO CONT-85661/6.000000-SAG 3D PRE-CONTRAST-79482'\n",
      "Ignoring unsupported parameter 'overwrite' for importer type <class 'fiftyone.utils.dicom.DICOMDatasetImporter'>\n",
      " 100% |█████████████████| 152/152 [3.9s elapsed, 0s remaining, 41.1 samples/s]       \n"
     ]
    },
    {
     "name": "stderr",
     "output_type": "stream",
     "text": [
      " 70%|██████▉   | 784/1128 [58:26<16:22,  2.86s/it]"
     ]
    },
    {
     "name": "stdout",
     "output_type": "stream",
     "text": [
      "No `images_dir` provided. Images will be unpacked to '/opt/project/data/TCGA-BH-A0DK/12-22-2002-NA-BREAST MRI-01189/4.000000-Ax Vibrant MULTIPHASE-16099'\n",
      "Ignoring unsupported parameter 'overwrite' for importer type <class 'fiftyone.utils.dicom.DICOMDatasetImporter'>\n",
      " 100% |█████████████████| 510/510 [13.6s elapsed, 0s remaining, 39.3 samples/s]      \n"
     ]
    },
    {
     "name": "stderr",
     "output_type": "stream",
     "text": [
      " 70%|██████▉   | 785/1128 [58:41<37:08,  6.50s/it]"
     ]
    },
    {
     "name": "stdout",
     "output_type": "stream",
     "text": [
      "No `images_dir` provided. Images will be unpacked to '/opt/project/data/TCGA-AR-A24S/12-11-1999-NA-MRI - BREAST-03194/7.000000-sag 3dpost-32318'\n",
      "Ignoring unsupported parameter 'overwrite' for importer type <class 'fiftyone.utils.dicom.DICOMDatasetImporter'>\n",
      " 100% |███████████████████| 24/24 [1.0s elapsed, 0s remaining, 22.9 samples/s]         \n"
     ]
    },
    {
     "name": "stderr",
     "output_type": "stream",
     "text": [
      " 70%|██████▉   | 786/1128 [58:43<28:09,  4.94s/it]"
     ]
    },
    {
     "name": "stdout",
     "output_type": "stream",
     "text": [
      "No `images_dir` provided. Images will be unpacked to '/opt/project/data/TCGA-BH-A0RX/09-02-2003-NA-BREAST MRI-73444/200.000000-CAD sag reformat-75762'\n",
      "Ignoring unsupported parameter 'overwrite' for importer type <class 'fiftyone.utils.dicom.DICOMDatasetImporter'>\n",
      " 100% |█████████████████| 160/160 [4.2s elapsed, 0s remaining, 41.8 samples/s]       \n"
     ]
    },
    {
     "name": "stderr",
     "output_type": "stream",
     "text": [
      " 70%|██████▉   | 787/1128 [58:47<27:51,  4.90s/it]"
     ]
    },
    {
     "name": "stdout",
     "output_type": "stream",
     "text": [
      "No `images_dir` provided. Images will be unpacked to '/opt/project/data/TCGA-BH-A0B1/09-04-2000-NA-BREAST MRI-93235/201.000000-CAD SAG REF-33173'\n",
      "Ignoring unsupported parameter 'overwrite' for importer type <class 'fiftyone.utils.dicom.DICOMDatasetImporter'>\n",
      " 100% |█████████████████| 117/117 [3.2s elapsed, 0s remaining, 43.1 samples/s]      \n"
     ]
    },
    {
     "name": "stderr",
     "output_type": "stream",
     "text": [
      " 70%|██████▉   | 788/1128 [58:51<25:37,  4.52s/it]"
     ]
    },
    {
     "name": "stdout",
     "output_type": "stream",
     "text": [
      "No `images_dir` provided. Images will be unpacked to '/opt/project/data/TCGA-AO-A0JI/05-05-2001-NA-NA-32428/5144.000000-DIAG MAMMOGRAM U-53099'\n",
      "Ignoring unsupported parameter 'overwrite' for importer type <class 'fiftyone.utils.dicom.DICOMDatasetImporter'>\n",
      " 100% |█████████████████████| 2/2 [1.2s elapsed, 0s remaining, 1.7 samples/s]         \n"
     ]
    },
    {
     "name": "stderr",
     "output_type": "stream",
     "text": [
      " 70%|██████▉   | 789/1128 [58:52<20:07,  3.56s/it]"
     ]
    },
    {
     "name": "stdout",
     "output_type": "stream",
     "text": [
      "No `images_dir` provided. Images will be unpacked to '/opt/project/data/TCGA-BH-A0DH/01-09-2001-NA-BREAST MRI-58184/4.000000-Sag Vibrant Pre-91645'\n",
      "Ignoring unsupported parameter 'overwrite' for importer type <class 'fiftyone.utils.dicom.DICOMDatasetImporter'>\n",
      " 100% |█████████████████| 160/160 [4.1s elapsed, 0s remaining, 44.6 samples/s]       \n"
     ]
    },
    {
     "name": "stderr",
     "output_type": "stream",
     "text": [
      " 70%|███████   | 790/1128 [58:57<21:55,  3.89s/it]"
     ]
    },
    {
     "name": "stdout",
     "output_type": "stream",
     "text": [
      "No `images_dir` provided. Images will be unpacked to '/opt/project/data/TCGA-AO-A0J9/05-11-2001-NA-NA-96851/110.000000-Bind154777349..409-51659'\n",
      "Ignoring unsupported parameter 'overwrite' for importer type <class 'fiftyone.utils.dicom.DICOMDatasetImporter'>\n",
      " 100% |███████████████████| 61/61 [1.8s elapsed, 0s remaining, 34.8 samples/s]      \n"
     ]
    },
    {
     "name": "stderr",
     "output_type": "stream",
     "text": [
      " 70%|███████   | 791/1128 [58:59<18:53,  3.36s/it]"
     ]
    },
    {
     "name": "stdout",
     "output_type": "stream",
     "text": [
      "No `images_dir` provided. Images will be unpacked to '/opt/project/data/TCGA-BH-A0BJ/12-24-2001-NA-BREAST MRI-76352/1.000000-3 plane loc-18370'\n",
      "Ignoring unsupported parameter 'overwrite' for importer type <class 'fiftyone.utils.dicom.DICOMDatasetImporter'>\n",
      " 100% |███████████████████| 29/29 [1.1s elapsed, 0s remaining, 25.5 samples/s]         \n"
     ]
    },
    {
     "name": "stderr",
     "output_type": "stream",
     "text": [
      " 70%|███████   | 792/1128 [59:01<15:32,  2.78s/it]"
     ]
    },
    {
     "name": "stdout",
     "output_type": "stream",
     "text": [
      "No `images_dir` provided. Images will be unpacked to '/opt/project/data/TCGA-BH-A0RX/09-02-2003-NA-BREAST MRI-73444/20002.000000-DERIVED MOCO Ax MIP SUB DCE  50-53937'\n",
      "Ignoring unsupported parameter 'overwrite' for importer type <class 'fiftyone.utils.dicom.DICOMDatasetImporter'>\n",
      " 100% |███████████████████| 18/18 [3.7s elapsed, 0s remaining, 6.6 samples/s]       \n"
     ]
    },
    {
     "name": "stderr",
     "output_type": "stream",
     "text": [
      " 70%|███████   | 793/1128 [59:05<17:21,  3.11s/it]"
     ]
    },
    {
     "name": "stdout",
     "output_type": "stream",
     "text": [
      "No `images_dir` provided. Images will be unpacked to '/opt/project/data/TCGA-BH-A0DE/08-01-2000-NA-BREAST MRI-94390/4.000000-Sag Vibrant Pre-30118'\n",
      "Ignoring unsupported parameter 'overwrite' for importer type <class 'fiftyone.utils.dicom.DICOMDatasetImporter'>\n",
      " 100% |█████████████████| 144/144 [3.9s elapsed, 0s remaining, 41.0 samples/s]       \n"
     ]
    },
    {
     "name": "stderr",
     "output_type": "stream",
     "text": [
      " 70%|███████   | 794/1128 [59:09<19:31,  3.51s/it]"
     ]
    },
    {
     "name": "stdout",
     "output_type": "stream",
     "text": [
      "No `images_dir` provided. Images will be unpacked to '/opt/project/data/TCGA-BH-A0GY/08-27-2001-NA-MRI BREAST-03978/5.000000-Sag Vibrant C-86336'\n",
      "Ignoring unsupported parameter 'overwrite' for importer type <class 'fiftyone.utils.dicom.DICOMDatasetImporter'>\n",
      " 100% |█████████████████| 180/180 [4.7s elapsed, 0s remaining, 41.6 samples/s]       \n"
     ]
    },
    {
     "name": "stderr",
     "output_type": "stream",
     "text": [
      " 70%|███████   | 795/1128 [59:14<22:27,  4.05s/it]"
     ]
    },
    {
     "name": "stdout",
     "output_type": "stream",
     "text": [
      "No `images_dir` provided. Images will be unpacked to '/opt/project/data/TCGA-BH-A0HA/11-17-2001-NA-BREAST MRI-26938/5.000000-Sag Vibrant C-48101'\n",
      "Ignoring unsupported parameter 'overwrite' for importer type <class 'fiftyone.utils.dicom.DICOMDatasetImporter'>\n",
      " 100% |█████████████████| 152/152 [4.1s elapsed, 0s remaining, 41.1 samples/s]       \n"
     ]
    },
    {
     "name": "stderr",
     "output_type": "stream",
     "text": [
      " 71%|███████   | 796/1128 [59:19<23:21,  4.22s/it]"
     ]
    },
    {
     "name": "stdout",
     "output_type": "stream",
     "text": [
      "No `images_dir` provided. Images will be unpacked to '/opt/project/data/TCGA-E2-A15L/07-18-2002-NA-MR BREAST BILATERAL WWO CONT-99306/6.000000-SAG 3D PRE-CONTRAST-81834'\n",
      "Ignoring unsupported parameter 'overwrite' for importer type <class 'fiftyone.utils.dicom.DICOMDatasetImporter'>\n",
      " 100% |█████████████████| 160/160 [4.8s elapsed, 0s remaining, 36.9 samples/s]       \n"
     ]
    },
    {
     "name": "stderr",
     "output_type": "stream",
     "text": [
      " 71%|███████   | 797/1128 [59:24<25:12,  4.57s/it]"
     ]
    },
    {
     "name": "stdout",
     "output_type": "stream",
     "text": [
      "No `images_dir` provided. Images will be unpacked to '/opt/project/data/TCGA-AR-A1AQ/05-07-2003-NA-MRI BREAST BILATERAL-81050/2.000000-ax t1-69444'\n",
      "Ignoring unsupported parameter 'overwrite' for importer type <class 'fiftyone.utils.dicom.DICOMDatasetImporter'>\n",
      " 100% |███████████████████| 40/40 [1.6s elapsed, 0s remaining, 25.8 samples/s]      \n"
     ]
    },
    {
     "name": "stderr",
     "output_type": "stream",
     "text": [
      " 71%|███████   | 798/1128 [59:26<20:34,  3.74s/it]"
     ]
    },
    {
     "name": "stdout",
     "output_type": "stream",
     "text": [
      "No `images_dir` provided. Images will be unpacked to '/opt/project/data/TCGA-AO-A12E/02-01-2000-NA-NA-34890/115.000000-541910556-541910356-79216'\n",
      "Ignoring unsupported parameter 'overwrite' for importer type <class 'fiftyone.utils.dicom.DICOMDatasetImporter'>\n",
      " 100% |███████████████████| 56/56 [1.5s elapsed, 0s remaining, 38.0 samples/s]      \n"
     ]
    },
    {
     "name": "stderr",
     "output_type": "stream",
     "text": [
      " 71%|███████   | 799/1128 [59:28<17:21,  3.16s/it]"
     ]
    },
    {
     "name": "stdout",
     "output_type": "stream",
     "text": [
      "No `images_dir` provided. Images will be unpacked to '/opt/project/data/TCGA-BH-A0BM/09-03-2000-NA-BREAST MRI-42240/200.000000-CAD COR REF-50775'\n",
      "Ignoring unsupported parameter 'overwrite' for importer type <class 'fiftyone.utils.dicom.DICOMDatasetImporter'>\n",
      " 100% |█████████████████| 107/107 [2.8s elapsed, 0s remaining, 45.8 samples/s]      \n"
     ]
    },
    {
     "name": "stderr",
     "output_type": "stream",
     "text": [
      " 71%|███████   | 800/1128 [59:31<17:25,  3.19s/it]"
     ]
    },
    {
     "name": "stdout",
     "output_type": "stream",
     "text": [
      "No `images_dir` provided. Images will be unpacked to '/opt/project/data/TCGA-BH-A0BT/06-01-2000-NA-BREAST MRI-32173/201.000000-CAD SAG REF-94450'\n",
      "Ignoring unsupported parameter 'overwrite' for importer type <class 'fiftyone.utils.dicom.DICOMDatasetImporter'>\n",
      " 100% |█████████████████| 120/120 [3.1s elapsed, 0s remaining, 45.8 samples/s]      \n"
     ]
    },
    {
     "name": "stderr",
     "output_type": "stream",
     "text": [
      " 71%|███████   | 801/1128 [59:35<18:05,  3.32s/it]"
     ]
    },
    {
     "name": "stdout",
     "output_type": "stream",
     "text": [
      "No `images_dir` provided. Images will be unpacked to '/opt/project/data/TCGA-BH-A0DG/12-05-2000-NA-BREAST MRI-74580/100.000000-CAD REG CAD Sub 1-01518'\n",
      "Ignoring unsupported parameter 'overwrite' for importer type <class 'fiftyone.utils.dicom.DICOMDatasetImporter'>\n",
      " 100% |███████████████████| 72/72 [2.5s elapsed, 0s remaining, 36.6 samples/s]      \n"
     ]
    },
    {
     "name": "stderr",
     "output_type": "stream",
     "text": [
      " 71%|███████   | 802/1128 [59:38<17:13,  3.17s/it]"
     ]
    },
    {
     "name": "stdout",
     "output_type": "stream",
     "text": [
      "No `images_dir` provided. Images will be unpacked to '/opt/project/data/TCGA-BH-A0H5/06-20-2001-NA-BREAST MRI-23793/103.000000-CAD sub 3-18502'\n",
      "Ignoring unsupported parameter 'overwrite' for importer type <class 'fiftyone.utils.dicom.DICOMDatasetImporter'>\n",
      " 100% |███████████████████| 90/90 [2.6s elapsed, 0s remaining, 42.1 samples/s]      \n"
     ]
    },
    {
     "name": "stderr",
     "output_type": "stream",
     "text": [
      " 71%|███████   | 803/1128 [59:41<16:59,  3.14s/it]"
     ]
    },
    {
     "name": "stdout",
     "output_type": "stream",
     "text": [
      "No `images_dir` provided. Images will be unpacked to '/opt/project/data/TCGA-BH-A0RX/09-02-2003-NA-BREAST MRI-73444/3.000000-AX STIR-WaterSat-23206'\n",
      "Ignoring unsupported parameter 'overwrite' for importer type <class 'fiftyone.utils.dicom.DICOMDatasetImporter'>\n",
      " 100% |███████████████████| 54/54 [1.8s elapsed, 0s remaining, 29.7 samples/s]      \n"
     ]
    },
    {
     "name": "stderr",
     "output_type": "stream",
     "text": [
      " 71%|███████▏  | 804/1128 [59:43<15:15,  2.83s/it]"
     ]
    },
    {
     "name": "stdout",
     "output_type": "stream",
     "text": [
      "No `images_dir` provided. Images will be unpacked to '/opt/project/data/TCGA-BH-A202/05-24-2004-NA-BREAST MRI-87769/202.000000-CAD cor reformat-21544'\n",
      "Ignoring unsupported parameter 'overwrite' for importer type <class 'fiftyone.utils.dicom.DICOMDatasetImporter'>\n",
      " 100% |█████████████████| 191/191 [5.1s elapsed, 0s remaining, 38.8 samples/s]       \n"
     ]
    },
    {
     "name": "stderr",
     "output_type": "stream",
     "text": [
      " 71%|███████▏  | 805/1128 [59:49<20:17,  3.77s/it]"
     ]
    },
    {
     "name": "stdout",
     "output_type": "stream",
     "text": [
      "No `images_dir` provided. Images will be unpacked to '/opt/project/data/TCGA-AR-A1AQ/05-07-2003-NA-MRI BREAST BILATERAL-81050/100.000000-21268113-212681-71117'\n",
      "Ignoring unsupported parameter 'overwrite' for importer type <class 'fiftyone.utils.dicom.DICOMDatasetImporter'>\n",
      " 100% |█████████████████| 112/112 [3.1s elapsed, 0s remaining, 46.3 samples/s]       \n"
     ]
    },
    {
     "name": "stderr",
     "output_type": "stream",
     "text": [
      " 71%|███████▏  | 806/1128 [59:52<19:48,  3.69s/it]"
     ]
    },
    {
     "name": "stdout",
     "output_type": "stream",
     "text": [
      "No `images_dir` provided. Images will be unpacked to '/opt/project/data/TCGA-BH-A0GZ/02-17-2003-NA-BREAST MRI-72293/3.000000-AX STIR-WaterSat-84577'\n",
      "Ignoring unsupported parameter 'overwrite' for importer type <class 'fiftyone.utils.dicom.DICOMDatasetImporter'>\n",
      " 100% |███████████████████| 54/54 [1.9s elapsed, 0s remaining, 28.8 samples/s]      \n"
     ]
    },
    {
     "name": "stderr",
     "output_type": "stream",
     "text": [
      " 72%|███████▏  | 807/1128 [59:54<17:20,  3.24s/it]"
     ]
    },
    {
     "name": "stdout",
     "output_type": "stream",
     "text": [
      "No `images_dir` provided. Images will be unpacked to '/opt/project/data/TCGA-BH-A0H7/03-26-2002-NA-BREAST MRI-96862/5.000000-Sag Vibrant C-87199'\n",
      "Ignoring unsupported parameter 'overwrite' for importer type <class 'fiftyone.utils.dicom.DICOMDatasetImporter'>\n",
      " 100% |█████████████████| 112/112 [3.1s elapsed, 0s remaining, 42.5 samples/s]      \n"
     ]
    },
    {
     "name": "stderr",
     "output_type": "stream",
     "text": [
      " 72%|███████▏  | 808/1128 [59:58<17:44,  3.33s/it]"
     ]
    },
    {
     "name": "stdout",
     "output_type": "stream",
     "text": [
      "No `images_dir` provided. Images will be unpacked to '/opt/project/data/TCGA-AO-A03V/08-10-2002-NA-NA-16391/106.000000-T1 Sagittal post fat sat-97965'\n",
      "Ignoring unsupported parameter 'overwrite' for importer type <class 'fiftyone.utils.dicom.DICOMDatasetImporter'>\n",
      " 100% |███████████████████| 48/48 [1.6s elapsed, 0s remaining, 30.4 samples/s]      \n"
     ]
    },
    {
     "name": "stderr",
     "output_type": "stream",
     "text": [
      " 72%|███████▏  | 809/1128 [1:00:00<15:23,  2.89s/it]"
     ]
    },
    {
     "name": "stdout",
     "output_type": "stream",
     "text": [
      "No `images_dir` provided. Images will be unpacked to '/opt/project/data/TCGA-AO-A12G/03-29-2001-NA-NA-34806/107.000000-T1 Sagittal post fat sat-57074'\n",
      "Ignoring unsupported parameter 'overwrite' for importer type <class 'fiftyone.utils.dicom.DICOMDatasetImporter'>\n",
      " 100% |███████████████████| 41/41 [1.6s elapsed, 0s remaining, 25.1 samples/s]      \n"
     ]
    },
    {
     "name": "stderr",
     "output_type": "stream",
     "text": [
      " 72%|███████▏  | 810/1128 [1:00:02<13:45,  2.60s/it]"
     ]
    },
    {
     "name": "stdout",
     "output_type": "stream",
     "text": [
      "No `images_dir` provided. Images will be unpacked to '/opt/project/data/TCGA-BH-A0DE/08-01-2000-NA-BREAST MRI-94390/103.000000-CAD REG CAD Sub 4-63812'\n",
      "Ignoring unsupported parameter 'overwrite' for importer type <class 'fiftyone.utils.dicom.DICOMDatasetImporter'>\n",
      " 100% |███████████████████| 76/76 [2.3s elapsed, 0s remaining, 42.1 samples/s]      \n"
     ]
    },
    {
     "name": "stderr",
     "output_type": "stream",
     "text": [
      " 72%|███████▏  | 811/1128 [1:00:04<13:49,  2.62s/it]"
     ]
    },
    {
     "name": "stdout",
     "output_type": "stream",
     "text": [
      "No `images_dir` provided. Images will be unpacked to '/opt/project/data/TCGA-BH-A0DK/01-01-2003-NA-BIOPSY-76460/1.000000-3 plane loc-44544'\n",
      "Ignoring unsupported parameter 'overwrite' for importer type <class 'fiftyone.utils.dicom.DICOMDatasetImporter'>\n",
      " 100% |███████████████████| 29/29 [1.2s elapsed, 0s remaining, 25.0 samples/s]         \n"
     ]
    },
    {
     "name": "stderr",
     "output_type": "stream",
     "text": [
      " 72%|███████▏  | 812/1128 [1:00:06<11:51,  2.25s/it]"
     ]
    },
    {
     "name": "stdout",
     "output_type": "stream",
     "text": [
      "No `images_dir` provided. Images will be unpacked to '/opt/project/data/TCGA-AO-A12G/03-29-2001-NA-NA-34806/2.000000-T2 left breast-33676'\n",
      "Ignoring unsupported parameter 'overwrite' for importer type <class 'fiftyone.utils.dicom.DICOMDatasetImporter'>\n",
      " 100% |███████████████████| 38/38 [1.4s elapsed, 0s remaining, 27.5 samples/s]      \n"
     ]
    },
    {
     "name": "stderr",
     "output_type": "stream",
     "text": [
      " 72%|███████▏  | 813/1128 [1:00:07<10:53,  2.08s/it]"
     ]
    },
    {
     "name": "stdout",
     "output_type": "stream",
     "text": [
      "No `images_dir` provided. Images will be unpacked to '/opt/project/data/TCGA-BH-A0H5/06-20-2001-NA-BREAST MRI-23793/105.000000-CAD sub 1-80570'\n",
      "Ignoring unsupported parameter 'overwrite' for importer type <class 'fiftyone.utils.dicom.DICOMDatasetImporter'>\n",
      " 100% |███████████████████| 90/90 [2.7s elapsed, 0s remaining, 40.7 samples/s]      \n"
     ]
    },
    {
     "name": "stderr",
     "output_type": "stream",
     "text": [
      " 72%|███████▏  | 814/1128 [1:00:11<12:26,  2.38s/it]"
     ]
    },
    {
     "name": "stdout",
     "output_type": "stream",
     "text": [
      "No `images_dir` provided. Images will be unpacked to '/opt/project/data/TCGA-BH-A0AZ/01-09-2002-NA-BREAST MRI-21010/3.000000-AX STIR-WaterSat-06271'\n",
      "Ignoring unsupported parameter 'overwrite' for importer type <class 'fiftyone.utils.dicom.DICOMDatasetImporter'>\n",
      " 100% |███████████████████| 48/48 [1.8s elapsed, 0s remaining, 27.4 samples/s]      \n"
     ]
    },
    {
     "name": "stderr",
     "output_type": "stream",
     "text": [
      " 72%|███████▏  | 815/1128 [1:00:13<11:51,  2.27s/it]"
     ]
    },
    {
     "name": "stdout",
     "output_type": "stream",
     "text": [
      "No `images_dir` provided. Images will be unpacked to '/opt/project/data/TCGA-BH-A0AW/02-19-2002-NA-BREAST MRI-78041/2000.000000-CAD MIP-77353'\n",
      "Ignoring unsupported parameter 'overwrite' for importer type <class 'fiftyone.utils.dicom.DICOMDatasetImporter'>\n",
      " 100% |███████████████████| 45/45 [1.6s elapsed, 0s remaining, 27.5 samples/s]      \n"
     ]
    },
    {
     "name": "stderr",
     "output_type": "stream",
     "text": [
      " 72%|███████▏  | 816/1128 [1:00:14<11:13,  2.16s/it]"
     ]
    },
    {
     "name": "stdout",
     "output_type": "stream",
     "text": [
      "No `images_dir` provided. Images will be unpacked to '/opt/project/data/TCGA-AR-A1AQ/05-07-2003-NA-MRI BREAST BILATERAL-81050/100.000000-21268337-212681-39197'\n",
      "Ignoring unsupported parameter 'overwrite' for importer type <class 'fiftyone.utils.dicom.DICOMDatasetImporter'>\n",
      " 100% |█████████████████| 112/112 [3.0s elapsed, 0s remaining, 46.9 samples/s]      \n"
     ]
    },
    {
     "name": "stderr",
     "output_type": "stream",
     "text": [
      " 72%|███████▏  | 817/1128 [1:00:18<13:25,  2.59s/it]"
     ]
    },
    {
     "name": "stdout",
     "output_type": "stream",
     "text": [
      "No `images_dir` provided. Images will be unpacked to '/opt/project/data/TCGA-AR-A24S/11-25-1999-NA-MRI - BREAST-35077/3.000000-ax t1-86698'\n",
      "Ignoring unsupported parameter 'overwrite' for importer type <class 'fiftyone.utils.dicom.DICOMDatasetImporter'>\n",
      " 100% |███████████████████| 30/30 [1.3s elapsed, 0s remaining, 22.4 samples/s]         \n"
     ]
    },
    {
     "name": "stderr",
     "output_type": "stream",
     "text": [
      " 73%|███████▎  | 818/1128 [1:00:20<11:48,  2.29s/it]"
     ]
    },
    {
     "name": "stdout",
     "output_type": "stream",
     "text": [
      "No `images_dir` provided. Images will be unpacked to '/opt/project/data/TCGA-AO-A12E/02-01-2000-NA-NA-34890/108.000000-NA-03020'\n",
      "Ignoring unsupported parameter 'overwrite' for importer type <class 'fiftyone.utils.dicom.DICOMDatasetImporter'>\n",
      " 100% |███████████████████| 60/60 [1.6s elapsed, 0s remaining, 38.3 samples/s]      \n"
     ]
    },
    {
     "name": "stderr",
     "output_type": "stream",
     "text": [
      " 73%|███████▎  | 819/1128 [1:00:22<11:15,  2.19s/it]"
     ]
    },
    {
     "name": "stdout",
     "output_type": "stream",
     "text": [
      "No `images_dir` provided. Images will be unpacked to '/opt/project/data/TCGA-AR-A24S/12-11-1999-NA-MRI - BREAST-03194/8.000000-sag 3dpost-43970'\n",
      "Ignoring unsupported parameter 'overwrite' for importer type <class 'fiftyone.utils.dicom.DICOMDatasetImporter'>\n",
      " 100% |███████████████████| 24/24 [1.1s elapsed, 0s remaining, 22.1 samples/s]         \n"
     ]
    },
    {
     "name": "stderr",
     "output_type": "stream",
     "text": [
      " 73%|███████▎  | 820/1128 [1:00:23<09:53,  1.93s/it]"
     ]
    },
    {
     "name": "stdout",
     "output_type": "stream",
     "text": [
      "No `images_dir` provided. Images will be unpacked to '/opt/project/data/TCGA-BH-A18H/02-03-2004-NA-BREAST MRI-53089/202.000000-CAD cor reformat-99513'\n",
      "Ignoring unsupported parameter 'overwrite' for importer type <class 'fiftyone.utils.dicom.DICOMDatasetImporter'>\n",
      " 100% |█████████████████| 201/201 [5.2s elapsed, 0s remaining, 42.7 samples/s]       \n"
     ]
    },
    {
     "name": "stderr",
     "output_type": "stream",
     "text": [
      " 73%|███████▎  | 821/1128 [1:00:29<15:53,  3.11s/it]"
     ]
    },
    {
     "name": "stdout",
     "output_type": "stream",
     "text": [
      "No `images_dir` provided. Images will be unpacked to '/opt/project/data/TCGA-BH-A0DT/10-29-2000-NA-BREAST MRI-03753/101.000000-CAD REG CAD Sub 2-89466'\n",
      "Ignoring unsupported parameter 'overwrite' for importer type <class 'fiftyone.utils.dicom.DICOMDatasetImporter'>\n",
      " 100% |███████████████████| 78/78 [2.4s elapsed, 0s remaining, 39.9 samples/s]      \n"
     ]
    },
    {
     "name": "stderr",
     "output_type": "stream",
     "text": [
      " 73%|███████▎  | 822/1128 [1:00:32<15:19,  3.00s/it]"
     ]
    },
    {
     "name": "stdout",
     "output_type": "stream",
     "text": [
      "No `images_dir` provided. Images will be unpacked to '/opt/project/data/TCGA-BH-A0B5/10-26-2000-NA-BREAST MRI-16171/201.000000-CAD SAG REF-01300'\n",
      "Ignoring unsupported parameter 'overwrite' for importer type <class 'fiftyone.utils.dicom.DICOMDatasetImporter'>\n",
      " 100% |███████████████████| 94/94 [2.6s elapsed, 0s remaining, 44.6 samples/s]      \n"
     ]
    },
    {
     "name": "stderr",
     "output_type": "stream",
     "text": [
      " 73%|███████▎  | 823/1128 [1:00:35<15:49,  3.11s/it]"
     ]
    },
    {
     "name": "stdout",
     "output_type": "stream",
     "text": [
      "No `images_dir` provided. Images will be unpacked to '/opt/project/data/TCGA-BH-A0GZ/02-17-2003-NA-BREAST MRI-72293/4.000000-Ax Vibrant MULTIPHASE-16892'\n",
      "Ignoring unsupported parameter 'overwrite' for importer type <class 'fiftyone.utils.dicom.DICOMDatasetImporter'>\n",
      " 100% |█████████████████| 520/520 [13.8s elapsed, 0s remaining, 39.7 samples/s]      \n"
     ]
    },
    {
     "name": "stderr",
     "output_type": "stream",
     "text": [
      " 73%|███████▎  | 824/1128 [1:00:50<34:19,  6.77s/it]"
     ]
    },
    {
     "name": "stdout",
     "output_type": "stream",
     "text": [
      "No `images_dir` provided. Images will be unpacked to '/opt/project/data/TCGA-E2-A15F/04-28-2002-NA-MR BREAST BILATERAL WWO CONT-08560/4.000000-SAG T2 FAT-SAT RIGHT-34392'\n",
      "Ignoring unsupported parameter 'overwrite' for importer type <class 'fiftyone.utils.dicom.DICOMDatasetImporter'>\n",
      " 100% |███████████████████| 44/44 [1.7s elapsed, 0s remaining, 26.1 samples/s]      \n"
     ]
    },
    {
     "name": "stderr",
     "output_type": "stream",
     "text": [
      " 73%|███████▎  | 825/1128 [1:00:52<26:58,  5.34s/it]"
     ]
    },
    {
     "name": "stdout",
     "output_type": "stream",
     "text": [
      "No `images_dir` provided. Images will be unpacked to '/opt/project/data/TCGA-AO-A03M/03-15-2001-NA-NA-80891/110.000000-PJN-95410'\n",
      "Ignoring unsupported parameter 'overwrite' for importer type <class 'fiftyone.utils.dicom.DICOMDatasetImporter'>\n",
      " 100% |███████████████████| 13/13 [765.2ms elapsed, 0s remaining, 17.0 samples/s]      \n"
     ]
    },
    {
     "name": "stderr",
     "output_type": "stream",
     "text": [
      " 73%|███████▎  | 826/1128 [1:00:53<20:15,  4.02s/it]"
     ]
    },
    {
     "name": "stdout",
     "output_type": "stream",
     "text": [
      "No `images_dir` provided. Images will be unpacked to '/opt/project/data/TCGA-BH-A0BJ/01-08-2002-NA-BIOPSY-69800/1.000000-3 plane loc-07703'\n",
      "Ignoring unsupported parameter 'overwrite' for importer type <class 'fiftyone.utils.dicom.DICOMDatasetImporter'>\n",
      " 100% |███████████████████| 29/29 [1.2s elapsed, 0s remaining, 24.9 samples/s]         \n"
     ]
    },
    {
     "name": "stderr",
     "output_type": "stream",
     "text": [
      " 73%|███████▎  | 827/1128 [1:00:55<16:14,  3.24s/it]"
     ]
    },
    {
     "name": "stdout",
     "output_type": "stream",
     "text": [
      "No `images_dir` provided. Images will be unpacked to '/opt/project/data/TCGA-BH-A0DV/11-29-2000-NA-BREAST MRI-88132/1.000000-3 plane loc-76519'\n",
      "Ignoring unsupported parameter 'overwrite' for importer type <class 'fiftyone.utils.dicom.DICOMDatasetImporter'>\n",
      " 100% |███████████████████| 29/29 [1.2s elapsed, 0s remaining, 25.1 samples/s]         \n"
     ]
    },
    {
     "name": "stderr",
     "output_type": "stream",
     "text": [
      " 73%|███████▎  | 828/1128 [1:00:56<13:24,  2.68s/it]"
     ]
    },
    {
     "name": "stdout",
     "output_type": "stream",
     "text": [
      "No `images_dir` provided. Images will be unpacked to '/opt/project/data/TCGA-AR-A24S/11-25-1999-NA-MRI - BREAST-35077/5.000000-RIGHT sag fse t2-93168'\n",
      "Ignoring unsupported parameter 'overwrite' for importer type <class 'fiftyone.utils.dicom.DICOMDatasetImporter'>\n",
      " 100% |███████████████████| 26/26 [1.3s elapsed, 0s remaining, 20.4 samples/s]         \n"
     ]
    },
    {
     "name": "stderr",
     "output_type": "stream",
     "text": [
      " 73%|███████▎  | 829/1128 [1:00:57<11:34,  2.32s/it]"
     ]
    },
    {
     "name": "stdout",
     "output_type": "stream",
     "text": [
      "No `images_dir` provided. Images will be unpacked to '/opt/project/data/TCGA-BH-A0H6/02-03-2002-NA-MRI BREAST-85463/105.000000-CAD sub 1-83706'\n",
      "Ignoring unsupported parameter 'overwrite' for importer type <class 'fiftyone.utils.dicom.DICOMDatasetImporter'>\n",
      " 100% |███████████████████| 68/68 [2.1s elapsed, 0s remaining, 42.0 samples/s]      \n"
     ]
    },
    {
     "name": "stderr",
     "output_type": "stream",
     "text": [
      " 74%|███████▎  | 830/1128 [1:01:00<11:45,  2.37s/it]"
     ]
    },
    {
     "name": "stdout",
     "output_type": "stream",
     "text": [
      "No `images_dir` provided. Images will be unpacked to '/opt/project/data/TCGA-BH-A18I/01-28-2004-NA-BREAST MRI-54013/103.000000-CAD sub 3-92040'\n",
      "Ignoring unsupported parameter 'overwrite' for importer type <class 'fiftyone.utils.dicom.DICOMDatasetImporter'>\n",
      " 100% |███████████████████| 88/88 [2.7s elapsed, 0s remaining, 39.5 samples/s]      \n"
     ]
    },
    {
     "name": "stderr",
     "output_type": "stream",
     "text": [
      " 74%|███████▎  | 831/1128 [1:01:03<12:45,  2.58s/it]"
     ]
    },
    {
     "name": "stdout",
     "output_type": "stream",
     "text": [
      "No `images_dir` provided. Images will be unpacked to '/opt/project/data/TCGA-AR-A24S/11-25-1999-NA-MRI - BREAST-35077/102.000000-101858274-10185810-76114'\n",
      "Ignoring unsupported parameter 'overwrite' for importer type <class 'fiftyone.utils.dicom.DICOMDatasetImporter'>\n",
      " 100% |███████████████████| 88/88 [2.1s elapsed, 0s remaining, 50.6 samples/s]      \n"
     ]
    },
    {
     "name": "stderr",
     "output_type": "stream",
     "text": [
      " 74%|███████▍  | 832/1128 [1:01:06<12:40,  2.57s/it]"
     ]
    },
    {
     "name": "stdout",
     "output_type": "stream",
     "text": [
      "No `images_dir` provided. Images will be unpacked to '/opt/project/data/TCGA-AO-A03M/03-15-2001-NA-NA-80891/107.000000-1125110546-1125110346-77457'\n",
      "Ignoring unsupported parameter 'overwrite' for importer type <class 'fiftyone.utils.dicom.DICOMDatasetImporter'>\n",
      " 100% |███████████████████| 46/46 [1.5s elapsed, 0s remaining, 30.5 samples/s]      \n"
     ]
    },
    {
     "name": "stderr",
     "output_type": "stream",
     "text": [
      " 74%|███████▍  | 833/1128 [1:01:07<11:30,  2.34s/it]"
     ]
    },
    {
     "name": "stdout",
     "output_type": "stream",
     "text": [
      "No `images_dir` provided. Images will be unpacked to '/opt/project/data/TCGA-BH-A0BQ/04-25-2000-NA-BREAST MRI-78053/7.000000-Sag Vibrant C-34104'\n",
      "Ignoring unsupported parameter 'overwrite' for importer type <class 'fiftyone.utils.dicom.DICOMDatasetImporter'>\n",
      " 100% |█████████████████| 140/140 [3.7s elapsed, 0s remaining, 44.3 samples/s]       \n"
     ]
    },
    {
     "name": "stderr",
     "output_type": "stream",
     "text": [
      " 74%|███████▍  | 834/1128 [1:01:12<14:13,  2.90s/it]"
     ]
    },
    {
     "name": "stdout",
     "output_type": "stream",
     "text": [
      "No `images_dir` provided. Images will be unpacked to '/opt/project/data/TCGA-BH-A0DI/11-25-2002-NA-BIOPSY-71577/3.000000-Ax Vibrant C-00074'\n",
      "Ignoring unsupported parameter 'overwrite' for importer type <class 'fiftyone.utils.dicom.DICOMDatasetImporter'>\n",
      " 100% |█████████████████| 168/168 [4.7s elapsed, 0s remaining, 40.2 samples/s]       \n"
     ]
    },
    {
     "name": "stderr",
     "output_type": "stream",
     "text": [
      " 74%|███████▍  | 835/1128 [1:01:17<17:43,  3.63s/it]"
     ]
    },
    {
     "name": "stdout",
     "output_type": "stream",
     "text": [
      "No `images_dir` provided. Images will be unpacked to '/opt/project/data/TCGA-BH-A28Q/01-26-2004-NA-BREAST MRI-39143/6.000000-BREASE right-25040'\n",
      "Ignoring unsupported parameter 'overwrite' for importer type <class 'fiftyone.utils.dicom.DICOMDatasetImporter'>\n",
      " 100% |█████████████████████| 1/1 [532.1ms elapsed, 0s remaining, 1.9 samples/s] \n"
     ]
    },
    {
     "name": "stderr",
     "output_type": "stream",
     "text": [
      " 74%|███████▍  | 836/1128 [1:01:18<13:21,  2.75s/it]"
     ]
    },
    {
     "name": "stdout",
     "output_type": "stream",
     "text": [
      "No `images_dir` provided. Images will be unpacked to '/opt/project/data/TCGA-E2-A14V/06-10-2001-NA-MR BREAST BILATERAL WWO CONT-38155/2.000000-SAG T1 PRE-55224'\n",
      "Ignoring unsupported parameter 'overwrite' for importer type <class 'fiftyone.utils.dicom.DICOMDatasetImporter'>\n",
      " 100% |███████████████████| 78/78 [2.4s elapsed, 0s remaining, 42.0 samples/s]      \n"
     ]
    },
    {
     "name": "stderr",
     "output_type": "stream",
     "text": [
      " 74%|███████▍  | 837/1128 [1:01:20<13:17,  2.74s/it]"
     ]
    },
    {
     "name": "stdout",
     "output_type": "stream",
     "text": [
      "No `images_dir` provided. Images will be unpacked to '/opt/project/data/TCGA-E2-A1B6/05-31-2001-NA-MR BREAST BILATERAL WWO CONT-82932/1.000000-3-PLANE LOCALIZER-75465'\n",
      "Ignoring unsupported parameter 'overwrite' for importer type <class 'fiftyone.utils.dicom.DICOMDatasetImporter'>\n",
      " 100% |███████████████████| 45/45 [1.5s elapsed, 0s remaining, 29.3 samples/s]      \n"
     ]
    },
    {
     "name": "stderr",
     "output_type": "stream",
     "text": [
      " 74%|███████▍  | 838/1128 [1:01:22<11:53,  2.46s/it]"
     ]
    },
    {
     "name": "stdout",
     "output_type": "stream",
     "text": [
      "No `images_dir` provided. Images will be unpacked to '/opt/project/data/TCGA-BH-A0DG/12-05-2000-NA-BREAST MRI-74580/1.000000-3 plane loc-26229'\n",
      "Ignoring unsupported parameter 'overwrite' for importer type <class 'fiftyone.utils.dicom.DICOMDatasetImporter'>\n",
      " 100% |███████████████████| 29/29 [1.1s elapsed, 0s remaining, 25.4 samples/s]         \n"
     ]
    },
    {
     "name": "stderr",
     "output_type": "stream",
     "text": [
      " 74%|███████▍  | 839/1128 [1:01:24<10:23,  2.16s/it]"
     ]
    },
    {
     "name": "stdout",
     "output_type": "stream",
     "text": [
      "No `images_dir` provided. Images will be unpacked to '/opt/project/data/TCGA-BH-A0GY/08-27-2001-NA-MRI BREAST-03978/200.000000-CAD sag reformat-83979'\n",
      "Ignoring unsupported parameter 'overwrite' for importer type <class 'fiftyone.utils.dicom.DICOMDatasetImporter'>\n",
      " 100% |█████████████████| 171/171 [4.5s elapsed, 0s remaining, 43.4 samples/s]       \n"
     ]
    },
    {
     "name": "stderr",
     "output_type": "stream",
     "text": [
      " 74%|███████▍  | 840/1128 [1:01:29<14:31,  3.03s/it]"
     ]
    },
    {
     "name": "stdout",
     "output_type": "stream",
     "text": [
      "No `images_dir` provided. Images will be unpacked to '/opt/project/data/TCGA-AR-A24S/11-25-1999-NA-MRI - BREAST-35077/2.000000-asset calib-62174'\n",
      "Ignoring unsupported parameter 'overwrite' for importer type <class 'fiftyone.utils.dicom.DICOMDatasetImporter'>\n",
      " 100% |███████████████████| 61/61 [1.7s elapsed, 0s remaining, 35.3 samples/s]      \n"
     ]
    },
    {
     "name": "stderr",
     "output_type": "stream",
     "text": [
      " 75%|███████▍  | 841/1128 [1:01:31<13:03,  2.73s/it]"
     ]
    },
    {
     "name": "stdout",
     "output_type": "stream",
     "text": [
      "No `images_dir` provided. Images will be unpacked to '/opt/project/data/TCGA-AO-A12E/02-01-2000-NA-NA-34890/3.000000-T2 right breast-45647'\n",
      "Ignoring unsupported parameter 'overwrite' for importer type <class 'fiftyone.utils.dicom.DICOMDatasetImporter'>\n",
      " 100% |███████████████████| 44/44 [1.4s elapsed, 0s remaining, 32.0 samples/s]         \n"
     ]
    },
    {
     "name": "stderr",
     "output_type": "stream",
     "text": [
      " 75%|███████▍  | 842/1128 [1:01:32<11:28,  2.41s/it]"
     ]
    },
    {
     "name": "stdout",
     "output_type": "stream",
     "text": [
      "No `images_dir` provided. Images will be unpacked to '/opt/project/data/TCGA-BH-A0H7/03-26-2002-NA-BREAST MRI-96862/2.000000-Calibration Scan-93588'\n",
      "Ignoring unsupported parameter 'overwrite' for importer type <class 'fiftyone.utils.dicom.DICOMDatasetImporter'>\n",
      " 100% |███████████████████| 92/92 [2.3s elapsed, 0s remaining, 48.9 samples/s]      \n"
     ]
    },
    {
     "name": "stderr",
     "output_type": "stream",
     "text": [
      " 75%|███████▍  | 843/1128 [1:01:35<11:54,  2.51s/it]"
     ]
    },
    {
     "name": "stdout",
     "output_type": "stream",
     "text": [
      "No `images_dir` provided. Images will be unpacked to '/opt/project/data/TCGA-E2-A1B6/05-31-2001-NA-MR BREAST BILATERAL WWO CONT-82932/7.000000-SAG 3D POST-CONTRAST-38762'\n",
      "Ignoring unsupported parameter 'overwrite' for importer type <class 'fiftyone.utils.dicom.DICOMDatasetImporter'>\n",
      " 100% |█████████████████| 348/348 [8.3s elapsed, 0s remaining, 46.5 samples/s]       \n"
     ]
    },
    {
     "name": "stderr",
     "output_type": "stream",
     "text": [
      " 75%|███████▍  | 844/1128 [1:01:44<21:27,  4.53s/it]"
     ]
    },
    {
     "name": "stdout",
     "output_type": "stream",
     "text": [
      "No `images_dir` provided. Images will be unpacked to '/opt/project/data/TCGA-E2-A14V/06-10-2001-NA-MR BREAST BILATERAL WWO CONT-38155/5.000000-ASSET CALIBRATION-25381'\n",
      "Ignoring unsupported parameter 'overwrite' for importer type <class 'fiftyone.utils.dicom.DICOMDatasetImporter'>\n",
      " 100% |███████████████████| 62/62 [1.7s elapsed, 0s remaining, 36.9 samples/s]      \n"
     ]
    },
    {
     "name": "stderr",
     "output_type": "stream",
     "text": [
      " 75%|███████▍  | 845/1128 [1:01:46<17:47,  3.77s/it]"
     ]
    },
    {
     "name": "stdout",
     "output_type": "stream",
     "text": [
      "No `images_dir` provided. Images will be unpacked to '/opt/project/data/TCGA-BH-A28Q/01-26-2004-NA-BREAST MRI-39143/101.000000-CAD sub 4-78885'\n",
      "Ignoring unsupported parameter 'overwrite' for importer type <class 'fiftyone.utils.dicom.DICOMDatasetImporter'>\n",
      " 100% |███████████████████| 74/74 [2.3s elapsed, 0s remaining, 41.0 samples/s]      \n"
     ]
    },
    {
     "name": "stderr",
     "output_type": "stream",
     "text": [
      " 75%|███████▌  | 846/1128 [1:01:49<16:10,  3.44s/it]"
     ]
    },
    {
     "name": "stdout",
     "output_type": "stream",
     "text": [
      "No `images_dir` provided. Images will be unpacked to '/opt/project/data/TCGA-BH-A0DH/01-09-2001-NA-BREAST MRI-58184/1001.000000-CAD VOLUME-47654'\n",
      "Ignoring unsupported parameter 'overwrite' for importer type <class 'fiftyone.utils.dicom.DICOMDatasetImporter'>\n",
      " 100% |█████████████████████| 4/4 [690.2ms elapsed, 0s remaining, 5.8 samples/s]   \n"
     ]
    },
    {
     "name": "stderr",
     "output_type": "stream",
     "text": [
      " 75%|███████▌  | 847/1128 [1:01:50<12:27,  2.66s/it]"
     ]
    },
    {
     "name": "stdout",
     "output_type": "stream",
     "text": [
      "No `images_dir` provided. Images will be unpacked to '/opt/project/data/TCGA-AR-A1AX/09-24-2003-NA-MRI BREAST BILATERAL-61364/201.000000-CAD Rt Sagittal Peak-52887'\n",
      "Ignoring unsupported parameter 'overwrite' for importer type <class 'fiftyone.utils.dicom.DICOMDatasetImporter'>\n",
      " 100% |███████████████████| 60/60 [2.0s elapsed, 0s remaining, 30.6 samples/s]      \n"
     ]
    },
    {
     "name": "stderr",
     "output_type": "stream",
     "text": [
      " 75%|███████▌  | 848/1128 [1:01:52<11:57,  2.56s/it]"
     ]
    },
    {
     "name": "stdout",
     "output_type": "stream",
     "text": [
      "No `images_dir` provided. Images will be unpacked to '/opt/project/data/TCGA-BH-A0DT/10-29-2000-NA-BREAST MRI-03753/2000.000000-CAD MIP Collection-74440'\n",
      "Ignoring unsupported parameter 'overwrite' for importer type <class 'fiftyone.utils.dicom.DICOMDatasetImporter'>\n",
      " 100% |███████████████████| 45/45 [1.6s elapsed, 0s remaining, 27.6 samples/s]      \n"
     ]
    },
    {
     "name": "stderr",
     "output_type": "stream",
     "text": [
      " 75%|███████▌  | 849/1128 [1:01:54<11:02,  2.37s/it]"
     ]
    },
    {
     "name": "stdout",
     "output_type": "stream",
     "text": [
      "No `images_dir` provided. Images will be unpacked to '/opt/project/data/TCGA-BH-A0BQ/04-25-2000-NA-BREAST MRI-78053/401.000000-Apparent Diffusion Coefficient ms-44211'\n",
      "Ignoring unsupported parameter 'overwrite' for importer type <class 'fiftyone.utils.dicom.DICOMDatasetImporter'>\n",
      " 100% |███████████████████| 41/41 [1.3s elapsed, 0s remaining, 31.8 samples/s]         \n"
     ]
    },
    {
     "name": "stderr",
     "output_type": "stream",
     "text": [
      " 75%|███████▌  | 850/1128 [1:01:56<09:54,  2.14s/it]"
     ]
    },
    {
     "name": "stdout",
     "output_type": "stream",
     "text": [
      "No `images_dir` provided. Images will be unpacked to '/opt/project/data/TCGA-E2-A14Y/10-03-2001-NA-MR BREAST BILATERAL WWO CONT-22306/2.000000-SAG T1 PRE-04488'\n",
      "Ignoring unsupported parameter 'overwrite' for importer type <class 'fiftyone.utils.dicom.DICOMDatasetImporter'>\n",
      " 100% |███████████████████| 93/93 [2.6s elapsed, 0s remaining, 42.9 samples/s]      \n"
     ]
    },
    {
     "name": "stderr",
     "output_type": "stream",
     "text": [
      " 75%|███████▌  | 851/1128 [1:01:59<11:02,  2.39s/it]"
     ]
    },
    {
     "name": "stdout",
     "output_type": "stream",
     "text": [
      "No `images_dir` provided. Images will be unpacked to '/opt/project/data/TCGA-BH-A0DX/11-25-2000-NA-BIOPSY-11698/6.000000-Ax Vibrant C-04829'\n",
      "Ignoring unsupported parameter 'overwrite' for importer type <class 'fiftyone.utils.dicom.DICOMDatasetImporter'>\n",
      " 100% |███████████████████| 78/78 [2.5s elapsed, 0s remaining, 38.7 samples/s]      \n"
     ]
    },
    {
     "name": "stderr",
     "output_type": "stream",
     "text": [
      " 76%|███████▌  | 852/1128 [1:02:02<11:46,  2.56s/it]"
     ]
    },
    {
     "name": "stdout",
     "output_type": "stream",
     "text": [
      "No `images_dir` provided. Images will be unpacked to '/opt/project/data/TCGA-AO-A12D/09-23-1999-NA-NA-51146/107.000000-NA-06270'\n",
      "Ignoring unsupported parameter 'overwrite' for importer type <class 'fiftyone.utils.dicom.DICOMDatasetImporter'>\n",
      " 100% |███████████████████| 55/55 [1.5s elapsed, 0s remaining, 35.6 samples/s]         \n"
     ]
    },
    {
     "name": "stderr",
     "output_type": "stream",
     "text": [
      " 76%|███████▌  | 853/1128 [1:02:04<10:52,  2.37s/it]"
     ]
    },
    {
     "name": "stdout",
     "output_type": "stream",
     "text": [
      "No `images_dir` provided. Images will be unpacked to '/opt/project/data/TCGA-BH-A0BQ/04-25-2000-NA-BREAST MRI-78053/5.000000-Sag Vibrant Pre-37216'\n",
      "Ignoring unsupported parameter 'overwrite' for importer type <class 'fiftyone.utils.dicom.DICOMDatasetImporter'>\n",
      " 100% |█████████████████| 140/140 [3.7s elapsed, 0s remaining, 43.8 samples/s]       \n"
     ]
    },
    {
     "name": "stderr",
     "output_type": "stream",
     "text": [
      " 76%|███████▌  | 854/1128 [1:02:08<13:24,  2.94s/it]"
     ]
    },
    {
     "name": "stdout",
     "output_type": "stream",
     "text": [
      "No `images_dir` provided. Images will be unpacked to '/opt/project/data/TCGA-E2-A15A/03-06-2002-NA-MR BREAST BILATERAL WWO CONT-46241/2.000000-SAG T1 PRE-34489'\n",
      "Ignoring unsupported parameter 'overwrite' for importer type <class 'fiftyone.utils.dicom.DICOMDatasetImporter'>\n",
      " 100% |███████████████████| 82/82 [2.3s elapsed, 0s remaining, 45.9 samples/s]      \n"
     ]
    },
    {
     "name": "stderr",
     "output_type": "stream",
     "text": [
      " 76%|███████▌  | 855/1128 [1:02:10<12:57,  2.85s/it]"
     ]
    },
    {
     "name": "stdout",
     "output_type": "stream",
     "text": [
      "No `images_dir` provided. Images will be unpacked to '/opt/project/data/TCGA-AO-A12E/02-01-2000-NA-NA-34890/110.000000-NA-36070'\n",
      "Ignoring unsupported parameter 'overwrite' for importer type <class 'fiftyone.utils.dicom.DICOMDatasetImporter'>\n",
      " 100% |███████████████████| 60/60 [1.5s elapsed, 0s remaining, 39.0 samples/s]      \n"
     ]
    },
    {
     "name": "stderr",
     "output_type": "stream",
     "text": [
      " 76%|███████▌  | 856/1128 [1:02:12<11:34,  2.55s/it]"
     ]
    },
    {
     "name": "stdout",
     "output_type": "stream",
     "text": [
      "No `images_dir` provided. Images will be unpacked to '/opt/project/data/TCGA-AO-A0JI/05-05-2001-NA-NA-32428/5146.000000-DIAG MAMMOGRAM U-96928'\n",
      "Ignoring unsupported parameter 'overwrite' for importer type <class 'fiftyone.utils.dicom.DICOMDatasetImporter'>\n",
      " 100% |█████████████████████| 2/2 [1.1s elapsed, 0s remaining, 1.9 samples/s]         \n"
     ]
    },
    {
     "name": "stderr",
     "output_type": "stream",
     "text": [
      " 76%|███████▌  | 857/1128 [1:02:14<09:43,  2.15s/it]"
     ]
    },
    {
     "name": "stdout",
     "output_type": "stream",
     "text": [
      "No `images_dir` provided. Images will be unpacked to '/opt/project/data/TCGA-BH-A0BM/09-03-2000-NA-BREAST MRI-42240/101.000000-CAD REG CAD Sub 2-64515'\n",
      "Ignoring unsupported parameter 'overwrite' for importer type <class 'fiftyone.utils.dicom.DICOMDatasetImporter'>\n",
      " 100% |███████████████████| 76/76 [2.3s elapsed, 0s remaining, 41.7 samples/s]      \n"
     ]
    },
    {
     "name": "stderr",
     "output_type": "stream",
     "text": [
      " 76%|███████▌  | 858/1128 [1:02:16<10:23,  2.31s/it]"
     ]
    },
    {
     "name": "stdout",
     "output_type": "stream",
     "text": [
      "No `images_dir` provided. Images will be unpacked to '/opt/project/data/TCGA-BH-A0HA/11-17-2001-NA-BREAST MRI-26938/1.000000-3 plane loc-80483'\n",
      "Ignoring unsupported parameter 'overwrite' for importer type <class 'fiftyone.utils.dicom.DICOMDatasetImporter'>\n",
      " 100% |███████████████████| 29/29 [1.1s elapsed, 0s remaining, 25.3 samples/s]         \n"
     ]
    },
    {
     "name": "stderr",
     "output_type": "stream",
     "text": [
      " 76%|███████▌  | 859/1128 [1:02:18<09:05,  2.03s/it]"
     ]
    },
    {
     "name": "stdout",
     "output_type": "stream",
     "text": [
      "No `images_dir` provided. Images will be unpacked to '/opt/project/data/TCGA-E2-A1IJ/08-02-2001-NA-MR BREAST BILATERAL WWO CONT-31159/5.000000-SAG T2 FAT-SAT RIGHT-00782'\n",
      "Ignoring unsupported parameter 'overwrite' for importer type <class 'fiftyone.utils.dicom.DICOMDatasetImporter'>\n",
      " 100% |███████████████████| 43/43 [1.5s elapsed, 0s remaining, 28.1 samples/s]      \n"
     ]
    },
    {
     "name": "stderr",
     "output_type": "stream",
     "text": [
      " 76%|███████▌  | 860/1128 [1:02:19<08:45,  1.96s/it]"
     ]
    },
    {
     "name": "stdout",
     "output_type": "stream",
     "text": [
      "No `images_dir` provided. Images will be unpacked to '/opt/project/data/TCGA-BH-A0DG/12-05-2000-NA-BREAST MRI-74580/200.000000-CAD COR REF-36036'\n",
      "Ignoring unsupported parameter 'overwrite' for importer type <class 'fiftyone.utils.dicom.DICOMDatasetImporter'>\n",
      " 100% |███████████████████| 97/97 [2.7s elapsed, 0s remaining, 44.2 samples/s]      \n"
     ]
    },
    {
     "name": "stderr",
     "output_type": "stream",
     "text": [
      " 76%|███████▋  | 861/1128 [1:02:22<10:17,  2.31s/it]"
     ]
    },
    {
     "name": "stdout",
     "output_type": "stream",
     "text": [
      "No `images_dir` provided. Images will be unpacked to '/opt/project/data/TCGA-E2-A1B5/04-29-2001-NA-MR BREAST BILATERAL WWO CONT-98814/3.000000-SAG T2 FAT-SAT-89485'\n",
      "Ignoring unsupported parameter 'overwrite' for importer type <class 'fiftyone.utils.dicom.DICOMDatasetImporter'>\n",
      " 100% |█████████████████| 111/111 [3.4s elapsed, 0s remaining, 37.0 samples/s]      \n"
     ]
    },
    {
     "name": "stderr",
     "output_type": "stream",
     "text": [
      " 76%|███████▋  | 862/1128 [1:02:26<12:22,  2.79s/it]"
     ]
    },
    {
     "name": "stdout",
     "output_type": "stream",
     "text": [
      "No `images_dir` provided. Images will be unpacked to '/opt/project/data/TCGA-AO-A03V/08-10-2002-NA-NA-16391/102.000000-T1 Sagittal pre fat sat-97516'\n",
      "Ignoring unsupported parameter 'overwrite' for importer type <class 'fiftyone.utils.dicom.DICOMDatasetImporter'>\n",
      " 100% |███████████████████| 48/48 [1.5s elapsed, 0s remaining, 31.8 samples/s]      \n"
     ]
    },
    {
     "name": "stderr",
     "output_type": "stream",
     "text": [
      " 77%|███████▋  | 863/1128 [1:02:28<11:02,  2.50s/it]"
     ]
    },
    {
     "name": "stdout",
     "output_type": "stream",
     "text": [
      "No `images_dir` provided. Images will be unpacked to '/opt/project/data/TCGA-BH-A0DX/11-21-2000-NA-BREAST MRI-01298/103.000000-CAD REG CAD Sub 4-74818'\n",
      "Ignoring unsupported parameter 'overwrite' for importer type <class 'fiftyone.utils.dicom.DICOMDatasetImporter'>\n",
      " 100% |███████████████████| 82/82 [2.4s elapsed, 0s remaining, 42.6 samples/s]      \n"
     ]
    },
    {
     "name": "stderr",
     "output_type": "stream",
     "text": [
      " 77%|███████▋  | 864/1128 [1:02:31<11:20,  2.58s/it]"
     ]
    },
    {
     "name": "stdout",
     "output_type": "stream",
     "text": [
      "No `images_dir` provided. Images will be unpacked to '/opt/project/data/TCGA-AR-A24S/12-11-1999-NA-MRI - BREAST-03194/6.000000-sag 3dpost-56962'\n",
      "Ignoring unsupported parameter 'overwrite' for importer type <class 'fiftyone.utils.dicom.DICOMDatasetImporter'>\n",
      " 100% |███████████████████| 24/24 [1.1s elapsed, 0s remaining, 22.0 samples/s]         \n"
     ]
    },
    {
     "name": "stderr",
     "output_type": "stream",
     "text": [
      " 77%|███████▋  | 865/1128 [1:02:32<09:36,  2.19s/it]"
     ]
    },
    {
     "name": "stdout",
     "output_type": "stream",
     "text": [
      "No `images_dir` provided. Images will be unpacked to '/opt/project/data/TCGA-BH-A0BJ/12-24-2001-NA-BREAST MRI-76352/2.000000-Calibration Scan-38512'\n",
      "Ignoring unsupported parameter 'overwrite' for importer type <class 'fiftyone.utils.dicom.DICOMDatasetImporter'>\n",
      " 100% |█████████████████| 110/110 [2.7s elapsed, 0s remaining, 48.1 samples/s]      \n"
     ]
    },
    {
     "name": "stderr",
     "output_type": "stream",
     "text": [
      " 77%|███████▋  | 866/1128 [1:02:35<10:51,  2.49s/it]"
     ]
    },
    {
     "name": "stdout",
     "output_type": "stream",
     "text": [
      "No `images_dir` provided. Images will be unpacked to '/opt/project/data/TCGA-AR-A1AX/09-12-2002-NA-MRI BREAST BILATERAL-55235/2.000000-ax t1-47980'\n",
      "Ignoring unsupported parameter 'overwrite' for importer type <class 'fiftyone.utils.dicom.DICOMDatasetImporter'>\n",
      " 100% |███████████████████| 45/45 [1.7s elapsed, 0s remaining, 26.9 samples/s]      \n"
     ]
    },
    {
     "name": "stderr",
     "output_type": "stream",
     "text": [
      " 77%|███████▋  | 867/1128 [1:02:37<10:07,  2.33s/it]"
     ]
    },
    {
     "name": "stdout",
     "output_type": "stream",
     "text": [
      "No `images_dir` provided. Images will be unpacked to '/opt/project/data/TCGA-E2-A108/10-13-2001-NA-MR BREAST BILATERAL WWO CONT-74709/1.000000-3-PLANE LOCALIZER-35045'\n",
      "Ignoring unsupported parameter 'overwrite' for importer type <class 'fiftyone.utils.dicom.DICOMDatasetImporter'>\n",
      " 100% |███████████████████| 45/45 [1.7s elapsed, 0s remaining, 27.3 samples/s]      \n"
     ]
    },
    {
     "name": "stderr",
     "output_type": "stream",
     "text": [
      " 77%|███████▋  | 868/1128 [1:02:39<09:33,  2.20s/it]"
     ]
    },
    {
     "name": "stdout",
     "output_type": "stream",
     "text": [
      "No `images_dir` provided. Images will be unpacked to '/opt/project/data/TCGA-E2-A15H/06-09-2002-NA-MR BREAST BILATERAL WWO CONT-16052/4.000000-SAG T2 FAT-SAT RIGHT-21886'\n",
      "Ignoring unsupported parameter 'overwrite' for importer type <class 'fiftyone.utils.dicom.DICOMDatasetImporter'>\n",
      " 100% |███████████████████| 44/44 [1.5s elapsed, 0s remaining, 29.5 samples/s]      \n"
     ]
    },
    {
     "name": "stderr",
     "output_type": "stream",
     "text": [
      " 77%|███████▋  | 869/1128 [1:02:41<08:55,  2.07s/it]"
     ]
    },
    {
     "name": "stdout",
     "output_type": "stream",
     "text": [
      "No `images_dir` provided. Images will be unpacked to '/opt/project/data/TCGA-E2-A1II/03-29-2001-NA-MR BREAST BILATERAL WWO CONT-41862/5.000000-SAG T2 FAT-SAT LEFT-87271'\n",
      "Ignoring unsupported parameter 'overwrite' for importer type <class 'fiftyone.utils.dicom.DICOMDatasetImporter'>\n",
      " 100% |███████████████████| 84/84 [2.5s elapsed, 0s remaining, 39.6 samples/s]      \n"
     ]
    },
    {
     "name": "stderr",
     "output_type": "stream",
     "text": [
      " 77%|███████▋  | 870/1128 [1:02:44<10:00,  2.33s/it]"
     ]
    },
    {
     "name": "stdout",
     "output_type": "stream",
     "text": [
      "No `images_dir` provided. Images will be unpacked to '/opt/project/data/TCGA-BH-A0DV/11-29-2000-NA-BREAST MRI-88132/2.000000-Calibration Scan-90404'\n",
      "Ignoring unsupported parameter 'overwrite' for importer type <class 'fiftyone.utils.dicom.DICOMDatasetImporter'>\n",
      " 100% |███████████████████| 92/92 [2.4s elapsed, 0s remaining, 48.8 samples/s]      \n"
     ]
    },
    {
     "name": "stderr",
     "output_type": "stream",
     "text": [
      " 77%|███████▋  | 871/1128 [1:02:47<10:42,  2.50s/it]"
     ]
    },
    {
     "name": "stdout",
     "output_type": "stream",
     "text": [
      "No `images_dir` provided. Images will be unpacked to '/opt/project/data/TCGA-BH-A0W5/07-25-2001-NA-MRI BREAST-10788/101.000000-CAD sub 4-28599'\n",
      "Ignoring unsupported parameter 'overwrite' for importer type <class 'fiftyone.utils.dicom.DICOMDatasetImporter'>\n",
      " 100% |███████████████████| 82/82 [2.5s elapsed, 0s remaining, 41.5 samples/s]      \n"
     ]
    },
    {
     "name": "stderr",
     "output_type": "stream",
     "text": [
      " 77%|███████▋  | 872/1128 [1:02:50<11:06,  2.61s/it]"
     ]
    },
    {
     "name": "stdout",
     "output_type": "stream",
     "text": [
      "No `images_dir` provided. Images will be unpacked to '/opt/project/data/TCGA-BH-A201/05-11-2004-NA-BREAST MRI-49157/202.000000-CAD cor reformat-78195'\n",
      "Ignoring unsupported parameter 'overwrite' for importer type <class 'fiftyone.utils.dicom.DICOMDatasetImporter'>\n",
      " 100% |█████████████████| 145/145 [3.9s elapsed, 0s remaining, 42.5 samples/s]       \n"
     ]
    },
    {
     "name": "stderr",
     "output_type": "stream",
     "text": [
      " 77%|███████▋  | 873/1128 [1:02:54<13:33,  3.19s/it]"
     ]
    },
    {
     "name": "stdout",
     "output_type": "stream",
     "text": [
      "No `images_dir` provided. Images will be unpacked to '/opt/project/data/TCGA-E2-A1LG/11-06-2002-NA-MR BREAST BILATERAL WWO CONT-85265/4.000000-SAG T1 PRE-03593'\n",
      "Ignoring unsupported parameter 'overwrite' for importer type <class 'fiftyone.utils.dicom.DICOMDatasetImporter'>\n",
      " 100% |█████████████████| 113/113 [3.2s elapsed, 0s remaining, 41.3 samples/s]      \n"
     ]
    },
    {
     "name": "stderr",
     "output_type": "stream",
     "text": [
      " 77%|███████▋  | 874/1128 [1:02:58<14:08,  3.34s/it]"
     ]
    },
    {
     "name": "stdout",
     "output_type": "stream",
     "text": [
      "No `images_dir` provided. Images will be unpacked to '/opt/project/data/TCGA-AO-A03V/08-10-2002-NA-NA-16391/101.000000-T1 Sagittal not fat sat-37356'\n",
      "Ignoring unsupported parameter 'overwrite' for importer type <class 'fiftyone.utils.dicom.DICOMDatasetImporter'>\n",
      " 100% |███████████████████| 40/40 [1.3s elapsed, 0s remaining, 29.9 samples/s]      \n"
     ]
    },
    {
     "name": "stderr",
     "output_type": "stream",
     "text": [
      " 78%|███████▊  | 875/1128 [1:03:00<11:52,  2.82s/it]"
     ]
    },
    {
     "name": "stdout",
     "output_type": "stream",
     "text": [
      "No `images_dir` provided. Images will be unpacked to '/opt/project/data/TCGA-AO-A03M/03-15-2001-NA-NA-80891/109.000000-PJN-49408'\n",
      "Ignoring unsupported parameter 'overwrite' for importer type <class 'fiftyone.utils.dicom.DICOMDatasetImporter'>\n",
      " 100% |███████████████████| 13/13 [780.8ms elapsed, 0s remaining, 16.7 samples/s]      \n"
     ]
    },
    {
     "name": "stderr",
     "output_type": "stream",
     "text": [
      " 78%|███████▊  | 876/1128 [1:03:01<09:30,  2.26s/it]"
     ]
    },
    {
     "name": "stdout",
     "output_type": "stream",
     "text": [
      "No `images_dir` provided. Images will be unpacked to '/opt/project/data/TCGA-BH-A0BJ/12-24-2001-NA-BREAST MRI-76352/4.000000-Ax Vibrant MULTIPHASE-25367'\n",
      "Ignoring unsupported parameter 'overwrite' for importer type <class 'fiftyone.utils.dicom.DICOMDatasetImporter'>\n",
      " 100% |█████████████████| 540/540 [14.4s elapsed, 0s remaining, 39.1 samples/s]      \n"
     ]
    },
    {
     "name": "stderr",
     "output_type": "stream",
     "text": [
      " 78%|███████▊  | 877/1128 [1:03:17<26:37,  6.37s/it]"
     ]
    },
    {
     "name": "stdout",
     "output_type": "stream",
     "text": [
      "No `images_dir` provided. Images will be unpacked to '/opt/project/data/TCGA-AO-A03V/08-10-2002-NA-NA-16391/103.000000-T1 Sagittal pre fat sat-37874'\n",
      "Ignoring unsupported parameter 'overwrite' for importer type <class 'fiftyone.utils.dicom.DICOMDatasetImporter'>\n",
      " 100% |███████████████████| 40/40 [1.3s elapsed, 0s remaining, 30.7 samples/s]      \n"
     ]
    },
    {
     "name": "stderr",
     "output_type": "stream",
     "text": [
      " 78%|███████▊  | 878/1128 [1:03:18<20:30,  4.92s/it]"
     ]
    },
    {
     "name": "stdout",
     "output_type": "stream",
     "text": [
      "No `images_dir` provided. Images will be unpacked to '/opt/project/data/TCGA-BH-A0DX/11-25-2000-NA-BIOPSY-11698/4.000000-Sag Vibrant C-27501'\n",
      "Ignoring unsupported parameter 'overwrite' for importer type <class 'fiftyone.utils.dicom.DICOMDatasetImporter'>\n",
      " 100% |█████████████████| 116/116 [3.2s elapsed, 0s remaining, 42.5 samples/s]      \n"
     ]
    },
    {
     "name": "stderr",
     "output_type": "stream",
     "text": [
      " 78%|███████▊  | 879/1128 [1:03:22<18:46,  4.52s/it]"
     ]
    },
    {
     "name": "stdout",
     "output_type": "stream",
     "text": [
      "No `images_dir` provided. Images will be unpacked to '/opt/project/data/TCGA-BH-A0BT/06-01-2000-NA-BREAST MRI-32173/103.000000-CAD REG CAD Sub 4-68783'\n",
      "Ignoring unsupported parameter 'overwrite' for importer type <class 'fiftyone.utils.dicom.DICOMDatasetImporter'>\n",
      " 100% |███████████████████| 80/80 [2.4s elapsed, 0s remaining, 42.1 samples/s]      \n"
     ]
    },
    {
     "name": "stderr",
     "output_type": "stream",
     "text": [
      " 78%|███████▊  | 880/1128 [1:03:24<16:31,  4.00s/it]"
     ]
    },
    {
     "name": "stdout",
     "output_type": "stream",
     "text": [
      "No `images_dir` provided. Images will be unpacked to '/opt/project/data/TCGA-BH-A0B1/09-04-2000-NA-BREAST MRI-93235/1.000000-3 plane loc-38964'\n",
      "Ignoring unsupported parameter 'overwrite' for importer type <class 'fiftyone.utils.dicom.DICOMDatasetImporter'>\n",
      " 100% |███████████████████| 29/29 [1.1s elapsed, 0s remaining, 26.0 samples/s]         \n"
     ]
    },
    {
     "name": "stderr",
     "output_type": "stream",
     "text": [
      " 78%|███████▊  | 881/1128 [1:03:26<13:13,  3.21s/it]"
     ]
    },
    {
     "name": "stdout",
     "output_type": "stream",
     "text": [
      "No `images_dir` provided. Images will be unpacked to '/opt/project/data/TCGA-BH-A0E1/11-04-2002-NA-BREAST MRI-66574/202.000000-CAD cor reformat-47867'\n",
      "Ignoring unsupported parameter 'overwrite' for importer type <class 'fiftyone.utils.dicom.DICOMDatasetImporter'>\n",
      " 100% |█████████████████| 150/150 [3.9s elapsed, 0s remaining, 42.3 samples/s]       \n"
     ]
    },
    {
     "name": "stderr",
     "output_type": "stream",
     "text": [
      " 78%|███████▊  | 882/1128 [1:03:30<14:40,  3.58s/it]"
     ]
    },
    {
     "name": "stdout",
     "output_type": "stream",
     "text": [
      "No `images_dir` provided. Images will be unpacked to '/opt/project/data/TCGA-BH-A0GZ/02-17-2003-NA-BREAST MRI-72293/202.000000-CAD cor reformat-33524'\n",
      "Ignoring unsupported parameter 'overwrite' for importer type <class 'fiftyone.utils.dicom.DICOMDatasetImporter'>\n",
      " 100% |█████████████████| 180/180 [4.6s elapsed, 0s remaining, 42.3 samples/s]       \n"
     ]
    },
    {
     "name": "stderr",
     "output_type": "stream",
     "text": [
      " 78%|███████▊  | 883/1128 [1:03:35<16:33,  4.06s/it]"
     ]
    },
    {
     "name": "stdout",
     "output_type": "stream",
     "text": [
      "No `images_dir` provided. Images will be unpacked to '/opt/project/data/TCGA-BH-A28Q/01-26-2004-NA-BREAST MRI-39143/20006.000000-Screen Save-79961'\n",
      "Ignoring unsupported parameter 'overwrite' for importer type <class 'fiftyone.utils.dicom.DICOMDatasetImporter'>\n",
      " 100% |█████████████████████| 3/3 [310.9ms elapsed, 0s remaining, 9.6 samples/s]      \n"
     ]
    },
    {
     "name": "stderr",
     "output_type": "stream",
     "text": [
      " 78%|███████▊  | 884/1128 [1:03:36<12:06,  2.98s/it]"
     ]
    },
    {
     "name": "stdout",
     "output_type": "stream",
     "text": [
      "No `images_dir` provided. Images will be unpacked to '/opt/project/data/TCGA-BH-A0RX/09-02-2003-NA-BREAST MRI-73444/20001.000000-DERIVED MOCO Ax Vibrant MULTIPHASE DCE  50-27131'\n",
      "Ignoring unsupported parameter 'overwrite' for importer type <class 'fiftyone.utils.dicom.DICOMDatasetImporter'>\n",
      " 100% |█████████████████| 510/510 [16.6s elapsed, 0s remaining, 30.9 samples/s]      \n"
     ]
    },
    {
     "name": "stderr",
     "output_type": "stream",
     "text": [
      " 78%|███████▊  | 885/1128 [1:03:54<30:18,  7.48s/it]"
     ]
    },
    {
     "name": "stdout",
     "output_type": "stream",
     "text": [
      "No `images_dir` provided. Images will be unpacked to '/opt/project/data/TCGA-BH-A28Q/01-26-2004-NA-BREAST MRI-39143/400.000000-Reformatted-15580'\n",
      "Ignoring unsupported parameter 'overwrite' for importer type <class 'fiftyone.utils.dicom.DICOMDatasetImporter'>\n",
      " 100% |█████████████████| 127/127 [3.4s elapsed, 0s remaining, 43.9 samples/s]      \n"
     ]
    },
    {
     "name": "stderr",
     "output_type": "stream",
     "text": [
      " 79%|███████▊  | 886/1128 [1:03:58<25:48,  6.40s/it]"
     ]
    },
    {
     "name": "stdout",
     "output_type": "stream",
     "text": [
      "No `images_dir` provided. Images will be unpacked to '/opt/project/data/TCGA-E2-A15F/04-28-2002-NA-MR BREAST BILATERAL WWO CONT-08560/2.000000-SAG T1 PRE-61389'\n",
      "Ignoring unsupported parameter 'overwrite' for importer type <class 'fiftyone.utils.dicom.DICOMDatasetImporter'>\n",
      " 100% |███████████████████| 84/84 [2.3s elapsed, 0s remaining, 45.6 samples/s]      \n"
     ]
    },
    {
     "name": "stderr",
     "output_type": "stream",
     "text": [
      " 79%|███████▊  | 887/1128 [1:04:00<21:18,  5.30s/it]"
     ]
    },
    {
     "name": "stdout",
     "output_type": "stream",
     "text": [
      "No `images_dir` provided. Images will be unpacked to '/opt/project/data/TCGA-AR-A1AN/10-14-2001-NA-MRI - BREAST-21682/3.000000-LT SAG FSE T1-41090'\n",
      "Ignoring unsupported parameter 'overwrite' for importer type <class 'fiftyone.utils.dicom.DICOMDatasetImporter'>\n",
      " 100% |███████████████████| 24/24 [1.2s elapsed, 0s remaining, 20.9 samples/s]         \n"
     ]
    },
    {
     "name": "stderr",
     "output_type": "stream",
     "text": [
      " 79%|███████▊  | 888/1128 [1:04:02<16:31,  4.13s/it]"
     ]
    },
    {
     "name": "stdout",
     "output_type": "stream",
     "text": [
      "No `images_dir` provided. Images will be unpacked to '/opt/project/data/TCGA-AO-A0J9/05-11-2001-NA-NA-96851/103.000000-Bind15477662..116-06009'\n",
      "Ignoring unsupported parameter 'overwrite' for importer type <class 'fiftyone.utils.dicom.DICOMDatasetImporter'>\n",
      " 100% |███████████████████| 55/55 [1.6s elapsed, 0s remaining, 33.4 samples/s]      \n"
     ]
    },
    {
     "name": "stderr",
     "output_type": "stream",
     "text": [
      " 79%|███████▉  | 889/1128 [1:04:04<13:51,  3.48s/it]"
     ]
    },
    {
     "name": "stdout",
     "output_type": "stream",
     "text": [
      "No `images_dir` provided. Images will be unpacked to '/opt/project/data/TCGA-AO-A03M/03-15-2001-NA-NA-80891/117.000000-Bind112517339..384-01389'\n",
      "Ignoring unsupported parameter 'overwrite' for importer type <class 'fiftyone.utils.dicom.DICOMDatasetImporter'>\n",
      " 100% |███████████████████| 46/46 [1.5s elapsed, 0s remaining, 30.2 samples/s]      \n"
     ]
    },
    {
     "name": "stderr",
     "output_type": "stream",
     "text": [
      " 79%|███████▉  | 890/1128 [1:04:06<11:48,  2.98s/it]"
     ]
    },
    {
     "name": "stdout",
     "output_type": "stream",
     "text": [
      "No `images_dir` provided. Images will be unpacked to '/opt/project/data/TCGA-E2-A15L/07-18-2002-NA-MR BREAST BILATERAL WWO CONT-99306/3.000000-SAG T2 FAT-SAT LEFT-94701'\n",
      "Ignoring unsupported parameter 'overwrite' for importer type <class 'fiftyone.utils.dicom.DICOMDatasetImporter'>\n",
      " 100% |███████████████████| 64/64 [2.3s elapsed, 0s remaining, 35.4 samples/s]      \n"
     ]
    },
    {
     "name": "stderr",
     "output_type": "stream",
     "text": [
      " 79%|███████▉  | 891/1128 [1:04:08<11:21,  2.87s/it]"
     ]
    },
    {
     "name": "stdout",
     "output_type": "stream",
     "text": [
      "No `images_dir` provided. Images will be unpacked to '/opt/project/data/TCGA-BH-A0RX/09-02-2003-NA-BREAST MRI-73444/20004.000000-DERIVED 3D MOCO Ax Vibrant MULTIPHASE SUB DCE  50-43407'\n",
      "Ignoring unsupported parameter 'overwrite' for importer type <class 'fiftyone.utils.dicom.DICOMDatasetImporter'>\n",
      " 100% |█████████████████| 102/102 [3.7s elapsed, 0s remaining, 32.3 samples/s]      \n"
     ]
    },
    {
     "name": "stderr",
     "output_type": "stream",
     "text": [
      " 79%|███████▉  | 892/1128 [1:04:13<13:15,  3.37s/it]"
     ]
    },
    {
     "name": "stdout",
     "output_type": "stream",
     "text": [
      "No `images_dir` provided. Images will be unpacked to '/opt/project/data/TCGA-BH-A0B5/10-26-2000-NA-BREAST MRI-16171/4.000000-Sag Vibrant Pre-56063'\n",
      "Ignoring unsupported parameter 'overwrite' for importer type <class 'fiftyone.utils.dicom.DICOMDatasetImporter'>\n",
      " 100% |█████████████████| 132/132 [3.5s elapsed, 0s remaining, 43.8 samples/s]       \n"
     ]
    },
    {
     "name": "stderr",
     "output_type": "stream",
     "text": [
      " 79%|███████▉  | 893/1128 [1:04:17<13:59,  3.57s/it]"
     ]
    },
    {
     "name": "stdout",
     "output_type": "stream",
     "text": [
      "No `images_dir` provided. Images will be unpacked to '/opt/project/data/TCGA-E2-A1LG/11-06-2002-NA-MR BREAST BILATERAL WWO CONT-85265/8.000000-ASSET CALIBRATION-93252'\n",
      "Ignoring unsupported parameter 'overwrite' for importer type <class 'fiftyone.utils.dicom.DICOMDatasetImporter'>\n",
      " 100% |███████████████████| 86/86 [2.3s elapsed, 0s remaining, 45.5 samples/s]      \n"
     ]
    },
    {
     "name": "stderr",
     "output_type": "stream",
     "text": [
      " 79%|███████▉  | 894/1128 [1:04:20<12:55,  3.31s/it]"
     ]
    },
    {
     "name": "stdout",
     "output_type": "stream",
     "text": [
      "No `images_dir` provided. Images will be unpacked to '/opt/project/data/TCGA-BH-A0E0/04-06-2003-NA-BREAST MRI-53761/105.000000-CAD sub 1-10786'\n",
      "Ignoring unsupported parameter 'overwrite' for importer type <class 'fiftyone.utils.dicom.DICOMDatasetImporter'>\n",
      " 100% |███████████████████| 76/76 [2.5s elapsed, 0s remaining, 37.7 samples/s]      \n"
     ]
    },
    {
     "name": "stderr",
     "output_type": "stream",
     "text": [
      " 79%|███████▉  | 895/1128 [1:04:22<12:23,  3.19s/it]"
     ]
    },
    {
     "name": "stdout",
     "output_type": "stream",
     "text": [
      "No `images_dir` provided. Images will be unpacked to '/opt/project/data/TCGA-BH-A0AZ/01-09-2002-NA-BREAST MRI-21010/101.000000-CAD sub 4-33200'\n",
      "Ignoring unsupported parameter 'overwrite' for importer type <class 'fiftyone.utils.dicom.DICOMDatasetImporter'>\n",
      " 100% |███████████████████| 82/82 [2.5s elapsed, 0s remaining, 41.4 samples/s]      \n"
     ]
    },
    {
     "name": "stderr",
     "output_type": "stream",
     "text": [
      " 79%|███████▉  | 896/1128 [1:04:25<11:54,  3.08s/it]"
     ]
    },
    {
     "name": "stdout",
     "output_type": "stream",
     "text": [
      "No `images_dir` provided. Images will be unpacked to '/opt/project/data/TCGA-BH-A0DV/11-29-2000-NA-BREAST MRI-88132/6.000000-Sag Vibrant C-72799'\n",
      "Ignoring unsupported parameter 'overwrite' for importer type <class 'fiftyone.utils.dicom.DICOMDatasetImporter'>\n",
      " 100% |█████████████████| 152/152 [4.0s elapsed, 0s remaining, 42.0 samples/s]       \n"
     ]
    },
    {
     "name": "stderr",
     "output_type": "stream",
     "text": [
      " 80%|███████▉  | 897/1128 [1:04:30<13:31,  3.51s/it]"
     ]
    },
    {
     "name": "stdout",
     "output_type": "stream",
     "text": [
      "No `images_dir` provided. Images will be unpacked to '/opt/project/data/TCGA-BH-A0B6/10-18-1999-NA-BREAST MRI-60819/102.000000-CAD REG CAD Sub 3-34003'\n",
      "Ignoring unsupported parameter 'overwrite' for importer type <class 'fiftyone.utils.dicom.DICOMDatasetImporter'>\n",
      " 100% |███████████████████| 92/92 [2.7s elapsed, 0s remaining, 41.5 samples/s]      \n"
     ]
    },
    {
     "name": "stderr",
     "output_type": "stream",
     "text": [
      " 80%|███████▉  | 898/1128 [1:04:33<13:01,  3.40s/it]"
     ]
    },
    {
     "name": "stdout",
     "output_type": "stream",
     "text": [
      "No `images_dir` provided. Images will be unpacked to '/opt/project/data/TCGA-BH-A0B1/09-04-2000-NA-BREAST MRI-93235/3.000000-AX STIR-WaterSat-03090'\n",
      "Ignoring unsupported parameter 'overwrite' for importer type <class 'fiftyone.utils.dicom.DICOMDatasetImporter'>\n",
      " 100% |███████████████████| 48/48 [1.7s elapsed, 0s remaining, 28.2 samples/s]      \n"
     ]
    },
    {
     "name": "stderr",
     "output_type": "stream",
     "text": [
      " 80%|███████▉  | 899/1128 [1:04:35<11:20,  2.97s/it]"
     ]
    },
    {
     "name": "stdout",
     "output_type": "stream",
     "text": [
      "No `images_dir` provided. Images will be unpacked to '/opt/project/data/TCGA-BH-A0GZ/02-17-2003-NA-BREAST MRI-72293/105.000000-CAD sub 1-35364'\n",
      "Ignoring unsupported parameter 'overwrite' for importer type <class 'fiftyone.utils.dicom.DICOMDatasetImporter'>\n",
      " 100% |█████████████████| 104/104 [2.9s elapsed, 0s remaining, 42.3 samples/s]      \n"
     ]
    },
    {
     "name": "stderr",
     "output_type": "stream",
     "text": [
      " 80%|███████▉  | 900/1128 [1:04:38<11:50,  3.12s/it]"
     ]
    },
    {
     "name": "stdout",
     "output_type": "stream",
     "text": [
      "No `images_dir` provided. Images will be unpacked to '/opt/project/data/TCGA-AR-A1AX/09-12-2002-NA-MRI BREAST BILATERAL-55235/5.000000-RT SAG FSE T1-62710'\n",
      "Ignoring unsupported parameter 'overwrite' for importer type <class 'fiftyone.utils.dicom.DICOMDatasetImporter'>\n",
      " 100% |███████████████████| 28/28 [1.3s elapsed, 0s remaining, 21.9 samples/s]         \n"
     ]
    },
    {
     "name": "stderr",
     "output_type": "stream",
     "text": [
      " 80%|███████▉  | 901/1128 [1:04:40<09:58,  2.64s/it]"
     ]
    },
    {
     "name": "stdout",
     "output_type": "stream",
     "text": [
      "No `images_dir` provided. Images will be unpacked to '/opt/project/data/TCGA-BH-A0W3/10-12-2003-NA-BREAST MRI-09153/3.000000-AX STIR-WaterSat-07372'\n",
      "Ignoring unsupported parameter 'overwrite' for importer type <class 'fiftyone.utils.dicom.DICOMDatasetImporter'>\n",
      " 100% |███████████████████| 49/49 [1.7s elapsed, 0s remaining, 28.7 samples/s]      \n"
     ]
    },
    {
     "name": "stderr",
     "output_type": "stream",
     "text": [
      " 80%|███████▉  | 902/1128 [1:04:42<09:13,  2.45s/it]"
     ]
    },
    {
     "name": "stdout",
     "output_type": "stream",
     "text": [
      "No `images_dir` provided. Images will be unpacked to '/opt/project/data/TCGA-BH-A0B5/10-26-2000-NA-BREAST MRI-16171/3.000000-AX STIR-WaterSat-15757'\n",
      "Ignoring unsupported parameter 'overwrite' for importer type <class 'fiftyone.utils.dicom.DICOMDatasetImporter'>\n",
      " 100% |███████████████████| 41/41 [1.5s elapsed, 0s remaining, 26.6 samples/s]      \n"
     ]
    },
    {
     "name": "stderr",
     "output_type": "stream",
     "text": [
      " 80%|████████  | 903/1128 [1:04:44<08:25,  2.25s/it]"
     ]
    },
    {
     "name": "stdout",
     "output_type": "stream",
     "text": [
      "No `images_dir` provided. Images will be unpacked to '/opt/project/data/TCGA-E2-A14T/03-15-2001-NA-MR BREAST BILATERAL WWO CONT-93911/1.000000-3-PLANE LOCALIZER-10769'\n",
      "Ignoring unsupported parameter 'overwrite' for importer type <class 'fiftyone.utils.dicom.DICOMDatasetImporter'>\n",
      " 100% |███████████████████| 45/45 [1.5s elapsed, 0s remaining, 29.7 samples/s]      \n"
     ]
    },
    {
     "name": "stderr",
     "output_type": "stream",
     "text": [
      " 80%|████████  | 904/1128 [1:04:45<07:55,  2.12s/it]"
     ]
    },
    {
     "name": "stdout",
     "output_type": "stream",
     "text": [
      "No `images_dir` provided. Images will be unpacked to '/opt/project/data/TCGA-BH-A0H3/07-27-2001-NA-BREAST MRI-61560/101.000000-CAD sub 4-07473'\n",
      "Ignoring unsupported parameter 'overwrite' for importer type <class 'fiftyone.utils.dicom.DICOMDatasetImporter'>\n",
      " 100% |███████████████████| 92/92 [2.7s elapsed, 0s remaining, 42.6 samples/s]      \n"
     ]
    },
    {
     "name": "stderr",
     "output_type": "stream",
     "text": [
      " 80%|████████  | 905/1128 [1:04:49<09:25,  2.54s/it]"
     ]
    },
    {
     "name": "stdout",
     "output_type": "stream",
     "text": [
      "No `images_dir` provided. Images will be unpacked to '/opt/project/data/TCGA-BH-A0GY/08-27-2001-NA-MRI BREAST-03978/202.000000-CAD cor reformat-07500'\n",
      "Ignoring unsupported parameter 'overwrite' for importer type <class 'fiftyone.utils.dicom.DICOMDatasetImporter'>\n",
      " 100% |█████████████████| 171/171 [4.5s elapsed, 0s remaining, 40.9 samples/s]       \n"
     ]
    },
    {
     "name": "stderr",
     "output_type": "stream",
     "text": [
      " 80%|████████  | 906/1128 [1:04:54<12:17,  3.32s/it]"
     ]
    },
    {
     "name": "stdout",
     "output_type": "stream",
     "text": [
      "No `images_dir` provided. Images will be unpacked to '/opt/project/data/TCGA-AR-A1AN/10-14-2001-NA-MRI - BREAST-21682/8.000000-VIBRANT-91555'\n",
      "Ignoring unsupported parameter 'overwrite' for importer type <class 'fiftyone.utils.dicom.DICOMDatasetImporter'>\n",
      " 100% |█████████████████| 432/432 [10.2s elapsed, 0s remaining, 44.5 samples/s]      \n"
     ]
    },
    {
     "name": "stderr",
     "output_type": "stream",
     "text": [
      " 80%|████████  | 907/1128 [1:05:06<21:09,  5.74s/it]"
     ]
    },
    {
     "name": "stdout",
     "output_type": "stream",
     "text": [
      "No `images_dir` provided. Images will be unpacked to '/opt/project/data/TCGA-AR-A1AQ/05-07-2003-NA-MRI BREAST BILATERAL-81050/4.000000-LT SAG FSE T2-08614'\n",
      "Ignoring unsupported parameter 'overwrite' for importer type <class 'fiftyone.utils.dicom.DICOMDatasetImporter'>\n",
      " 100% |███████████████████| 40/40 [1.5s elapsed, 0s remaining, 26.7 samples/s]      \n"
     ]
    },
    {
     "name": "stderr",
     "output_type": "stream",
     "text": [
      " 80%|████████  | 908/1128 [1:05:07<16:43,  4.56s/it]"
     ]
    },
    {
     "name": "stdout",
     "output_type": "stream",
     "text": [
      "No `images_dir` provided. Images will be unpacked to '/opt/project/data/TCGA-BH-A0AW/02-19-2002-NA-BREAST MRI-78041/102.000000-CAD sub 2-51523'\n",
      "Ignoring unsupported parameter 'overwrite' for importer type <class 'fiftyone.utils.dicom.DICOMDatasetImporter'>\n",
      " 100% |███████████████████| 88/88 [2.6s elapsed, 0s remaining, 41.7 samples/s]      \n"
     ]
    },
    {
     "name": "stderr",
     "output_type": "stream",
     "text": [
      " 81%|████████  | 909/1128 [1:05:10<15:01,  4.12s/it]"
     ]
    },
    {
     "name": "stdout",
     "output_type": "stream",
     "text": [
      "No `images_dir` provided. Images will be unpacked to '/opt/project/data/TCGA-BH-A0BT/06-01-2000-NA-BREAST MRI-32173/6.000000-Sag Vibrant C-82128'\n",
      "Ignoring unsupported parameter 'overwrite' for importer type <class 'fiftyone.utils.dicom.DICOMDatasetImporter'>\n",
      " 100% |█████████████████| 160/160 [4.3s elapsed, 0s remaining, 42.9 samples/s]       \n"
     ]
    },
    {
     "name": "stderr",
     "output_type": "stream",
     "text": [
      " 81%|████████  | 910/1128 [1:05:15<15:44,  4.33s/it]"
     ]
    },
    {
     "name": "stdout",
     "output_type": "stream",
     "text": [
      "No `images_dir` provided. Images will be unpacked to '/opt/project/data/TCGA-AO-A0J9/05-11-2001-NA-NA-96851/101.000000-Bind15477562..116-12286'\n",
      "Ignoring unsupported parameter 'overwrite' for importer type <class 'fiftyone.utils.dicom.DICOMDatasetImporter'>\n",
      " 100% |███████████████████| 55/55 [1.6s elapsed, 0s remaining, 33.8 samples/s]      \n"
     ]
    },
    {
     "name": "stderr",
     "output_type": "stream",
     "text": [
      " 81%|████████  | 911/1128 [1:05:17<13:04,  3.62s/it]"
     ]
    },
    {
     "name": "stdout",
     "output_type": "stream",
     "text": [
      "No `images_dir` provided. Images will be unpacked to '/opt/project/data/TCGA-BH-A202/05-24-2004-NA-BREAST MRI-87769/102.000000-CAD sub 2-46197'\n",
      "Ignoring unsupported parameter 'overwrite' for importer type <class 'fiftyone.utils.dicom.DICOMDatasetImporter'>\n",
      " 100% |█████████████████| 106/106 [3.0s elapsed, 0s remaining, 42.0 samples/s]      \n"
     ]
    },
    {
     "name": "stderr",
     "output_type": "stream",
     "text": [
      " 81%|████████  | 912/1128 [1:05:21<12:50,  3.57s/it]"
     ]
    },
    {
     "name": "stdout",
     "output_type": "stream",
     "text": [
      "No `images_dir` provided. Images will be unpacked to '/opt/project/data/TCGA-E2-A1B6/05-31-2001-NA-MR BREAST BILATERAL WWO CONT-82932/6.000000-SAG 3D PRE-CONTRAST-12356'\n",
      "Ignoring unsupported parameter 'overwrite' for importer type <class 'fiftyone.utils.dicom.DICOMDatasetImporter'>\n",
      " 100% |█████████████████| 116/116 [3.2s elapsed, 0s remaining, 45.3 samples/s]      \n"
     ]
    },
    {
     "name": "stderr",
     "output_type": "stream",
     "text": [
      " 81%|████████  | 913/1128 [1:05:24<12:48,  3.58s/it]"
     ]
    },
    {
     "name": "stdout",
     "output_type": "stream",
     "text": [
      "No `images_dir` provided. Images will be unpacked to '/opt/project/data/TCGA-BH-A0H7/03-26-2002-NA-BREAST MRI-96862/102.000000-CAD sub 2-68045'\n",
      "Ignoring unsupported parameter 'overwrite' for importer type <class 'fiftyone.utils.dicom.DICOMDatasetImporter'>\n",
      " 100% |███████████████████| 58/58 [1.9s elapsed, 0s remaining, 30.8 samples/s]      \n"
     ]
    },
    {
     "name": "stderr",
     "output_type": "stream",
     "text": [
      " 81%|████████  | 914/1128 [1:05:26<11:17,  3.16s/it]"
     ]
    },
    {
     "name": "stdout",
     "output_type": "stream",
     "text": [
      "No `images_dir` provided. Images will be unpacked to '/opt/project/data/TCGA-BH-A0DZ/10-16-2002-NA-BREAST MRI-48146/5.000000-Sag Vibrant C-70329'\n",
      "Ignoring unsupported parameter 'overwrite' for importer type <class 'fiftyone.utils.dicom.DICOMDatasetImporter'>\n",
      " 100% |█████████████████| 152/152 [3.9s elapsed, 0s remaining, 43.9 samples/s]       \n"
     ]
    },
    {
     "name": "stderr",
     "output_type": "stream",
     "text": [
      " 81%|████████  | 915/1128 [1:05:31<12:36,  3.55s/it]"
     ]
    },
    {
     "name": "stdout",
     "output_type": "stream",
     "text": [
      "No `images_dir` provided. Images will be unpacked to '/opt/project/data/TCGA-AO-A0J9/05-11-2001-NA-NA-96851/1.000000-Localization-18424'\n",
      "Ignoring unsupported parameter 'overwrite' for importer type <class 'fiftyone.utils.dicom.DICOMDatasetImporter'>\n",
      " 100% |███████████████████| 33/33 [1.2s elapsed, 0s remaining, 26.8 samples/s]         \n"
     ]
    },
    {
     "name": "stderr",
     "output_type": "stream",
     "text": [
      " 81%|████████  | 916/1128 [1:05:32<10:20,  2.93s/it]"
     ]
    },
    {
     "name": "stdout",
     "output_type": "stream",
     "text": [
      "No `images_dir` provided. Images will be unpacked to '/opt/project/data/TCGA-BH-A18H/02-03-2004-NA-BREAST MRI-53089/105.000000-CAD sub 1-76053'\n",
      "Ignoring unsupported parameter 'overwrite' for importer type <class 'fiftyone.utils.dicom.DICOMDatasetImporter'>\n",
      " 100% |█████████████████| 112/112 [3.3s elapsed, 0s remaining, 39.5 samples/s]      \n"
     ]
    },
    {
     "name": "stderr",
     "output_type": "stream",
     "text": [
      " 81%|████████▏ | 917/1128 [1:05:36<11:13,  3.19s/it]"
     ]
    },
    {
     "name": "stdout",
     "output_type": "stream",
     "text": [
      "No `images_dir` provided. Images will be unpacked to '/opt/project/data/TCGA-BH-A202/05-24-2004-NA-BREAST MRI-87769/1.000000-3 plane loc-85501'\n",
      "Ignoring unsupported parameter 'overwrite' for importer type <class 'fiftyone.utils.dicom.DICOMDatasetImporter'>\n",
      " 100% |███████████████████| 29/29 [1.1s elapsed, 0s remaining, 25.4 samples/s]         \n"
     ]
    },
    {
     "name": "stderr",
     "output_type": "stream",
     "text": [
      " 81%|████████▏ | 918/1128 [1:05:38<09:15,  2.65s/it]"
     ]
    },
    {
     "name": "stdout",
     "output_type": "stream",
     "text": [
      "No `images_dir` provided. Images will be unpacked to '/opt/project/data/TCGA-E2-A15I/06-15-2002-NA-MR BREAST BILATERAL WWO CONT-84178/1.000000-3-PLANE LOCALIZER-51283'\n",
      "Ignoring unsupported parameter 'overwrite' for importer type <class 'fiftyone.utils.dicom.DICOMDatasetImporter'>\n",
      " 100% |███████████████████| 45/45 [1.7s elapsed, 0s remaining, 26.9 samples/s]      \n"
     ]
    },
    {
     "name": "stderr",
     "output_type": "stream",
     "text": [
      " 81%|████████▏ | 919/1128 [1:05:40<08:30,  2.44s/it]"
     ]
    },
    {
     "name": "stdout",
     "output_type": "stream",
     "text": [
      "No `images_dir` provided. Images will be unpacked to '/opt/project/data/TCGA-BH-A0B6/10-18-1999-NA-BREAST MRI-60819/105.000000-CAD REG CAD Sub 6-80345'\n",
      "Ignoring unsupported parameter 'overwrite' for importer type <class 'fiftyone.utils.dicom.DICOMDatasetImporter'>\n",
      " 100% |███████████████████| 92/92 [2.7s elapsed, 0s remaining, 41.5 samples/s]      \n"
     ]
    },
    {
     "name": "stderr",
     "output_type": "stream",
     "text": [
      " 82%|████████▏ | 920/1128 [1:05:43<09:10,  2.65s/it]"
     ]
    },
    {
     "name": "stdout",
     "output_type": "stream",
     "text": [
      "No `images_dir` provided. Images will be unpacked to '/opt/project/data/TCGA-BH-A0AZ/01-09-2002-NA-BREAST MRI-21010/105.000000-CAD sub 1-15548'\n",
      "Ignoring unsupported parameter 'overwrite' for importer type <class 'fiftyone.utils.dicom.DICOMDatasetImporter'>\n",
      " 100% |███████████████████| 82/82 [2.4s elapsed, 0s remaining, 42.0 samples/s]      \n"
     ]
    },
    {
     "name": "stderr",
     "output_type": "stream",
     "text": [
      " 82%|████████▏ | 921/1128 [1:05:45<09:17,  2.70s/it]"
     ]
    },
    {
     "name": "stdout",
     "output_type": "stream",
     "text": [
      "No `images_dir` provided. Images will be unpacked to '/opt/project/data/TCGA-AO-A0J9/05-11-2001-NA-NA-96851/108.000000-Bind154777233..293-84616'\n",
      "Ignoring unsupported parameter 'overwrite' for importer type <class 'fiftyone.utils.dicom.DICOMDatasetImporter'>\n",
      " 100% |███████████████████| 61/61 [1.8s elapsed, 0s remaining, 34.3 samples/s]      \n"
     ]
    },
    {
     "name": "stderr",
     "output_type": "stream",
     "text": [
      " 82%|████████▏ | 922/1128 [1:05:48<08:40,  2.53s/it]"
     ]
    },
    {
     "name": "stdout",
     "output_type": "stream",
     "text": [
      "No `images_dir` provided. Images will be unpacked to '/opt/project/data/TCGA-E2-A15A/03-06-2002-NA-MR BREAST BILATERAL WWO CONT-46241/4.000000-SAG T2 FAT-SAT RIGHT-24445'\n",
      "Ignoring unsupported parameter 'overwrite' for importer type <class 'fiftyone.utils.dicom.DICOMDatasetImporter'>\n",
      " 100% |███████████████████| 37/37 [1.4s elapsed, 0s remaining, 26.7 samples/s]      \n"
     ]
    },
    {
     "name": "stderr",
     "output_type": "stream",
     "text": [
      " 82%|████████▏ | 923/1128 [1:05:49<07:44,  2.27s/it]"
     ]
    },
    {
     "name": "stdout",
     "output_type": "stream",
     "text": [
      "No `images_dir` provided. Images will be unpacked to '/opt/project/data/TCGA-AO-A12G/03-29-2001-NA-NA-34806/105.000000-T1 Sagittal post fat sat-68892'\n",
      "Ignoring unsupported parameter 'overwrite' for importer type <class 'fiftyone.utils.dicom.DICOMDatasetImporter'>\n",
      " 100% |███████████████████| 41/41 [1.4s elapsed, 0s remaining, 29.1 samples/s]      \n"
     ]
    },
    {
     "name": "stderr",
     "output_type": "stream",
     "text": [
      " 82%|████████▏ | 924/1128 [1:05:51<07:05,  2.09s/it]"
     ]
    },
    {
     "name": "stdout",
     "output_type": "stream",
     "text": [
      "No `images_dir` provided. Images will be unpacked to '/opt/project/data/TCGA-AO-A0J9/05-11-2001-NA-NA-96851/2.000000-T2 left breast-88752'\n",
      "Ignoring unsupported parameter 'overwrite' for importer type <class 'fiftyone.utils.dicom.DICOMDatasetImporter'>\n",
      " 100% |███████████████████| 50/50 [1.6s elapsed, 0s remaining, 31.5 samples/s]      \n"
     ]
    },
    {
     "name": "stderr",
     "output_type": "stream",
     "text": [
      " 82%|████████▏ | 925/1128 [1:05:53<06:51,  2.03s/it]"
     ]
    },
    {
     "name": "stdout",
     "output_type": "stream",
     "text": [
      "No `images_dir` provided. Images will be unpacked to '/opt/project/data/TCGA-BH-A0AZ/01-09-2002-NA-BREAST MRI-21010/1.000000-3 plane loc-65600'\n",
      "Ignoring unsupported parameter 'overwrite' for importer type <class 'fiftyone.utils.dicom.DICOMDatasetImporter'>\n",
      " 100% |███████████████████| 29/29 [1.1s elapsed, 0s remaining, 25.5 samples/s]         \n"
     ]
    },
    {
     "name": "stderr",
     "output_type": "stream",
     "text": [
      " 82%|████████▏ | 926/1128 [1:05:54<06:09,  1.83s/it]"
     ]
    },
    {
     "name": "stdout",
     "output_type": "stream",
     "text": [
      "No `images_dir` provided. Images will be unpacked to '/opt/project/data/TCGA-BH-A201/05-11-2004-NA-BREAST MRI-49157/105.000000-CAD sub 1-13612'\n",
      "Ignoring unsupported parameter 'overwrite' for importer type <class 'fiftyone.utils.dicom.DICOMDatasetImporter'>\n",
      " 100% |███████████████████| 90/90 [2.7s elapsed, 0s remaining, 41.7 samples/s]      \n"
     ]
    },
    {
     "name": "stderr",
     "output_type": "stream",
     "text": [
      " 82%|████████▏ | 927/1128 [1:05:57<07:21,  2.20s/it]"
     ]
    },
    {
     "name": "stdout",
     "output_type": "stream",
     "text": [
      "No `images_dir` provided. Images will be unpacked to '/opt/project/data/TCGA-AO-A12D/09-23-1999-NA-NA-51146/113.000000-PJN-22521'\n",
      "Ignoring unsupported parameter 'overwrite' for importer type <class 'fiftyone.utils.dicom.DICOMDatasetImporter'>\n",
      " 100% |███████████████████| 13/13 [672.8ms elapsed, 0s remaining, 19.4 samples/s]      \n"
     ]
    },
    {
     "name": "stderr",
     "output_type": "stream",
     "text": [
      " 82%|████████▏ | 928/1128 [1:05:58<05:58,  1.79s/it]"
     ]
    },
    {
     "name": "stdout",
     "output_type": "stream",
     "text": [
      "No `images_dir` provided. Images will be unpacked to '/opt/project/data/TCGA-BH-A0DE/08-01-2000-NA-BREAST MRI-94390/100.000000-CAD REG CAD Sub 1-79291'\n",
      "Ignoring unsupported parameter 'overwrite' for importer type <class 'fiftyone.utils.dicom.DICOMDatasetImporter'>\n",
      " 100% |███████████████████| 76/76 [2.3s elapsed, 0s remaining, 42.0 samples/s]      \n"
     ]
    },
    {
     "name": "stderr",
     "output_type": "stream",
     "text": [
      " 82%|████████▏ | 929/1128 [1:06:01<06:49,  2.06s/it]"
     ]
    },
    {
     "name": "stdout",
     "output_type": "stream",
     "text": [
      "No `images_dir` provided. Images will be unpacked to '/opt/project/data/TCGA-BH-A0EI/02-17-2002-NA-BREAST MRI-14232/3.000000-AX STIR-WaterSat-80907'\n",
      "Ignoring unsupported parameter 'overwrite' for importer type <class 'fiftyone.utils.dicom.DICOMDatasetImporter'>\n",
      " 100% |███████████████████| 41/41 [1.5s elapsed, 0s remaining, 26.8 samples/s]      \n"
     ]
    },
    {
     "name": "stderr",
     "output_type": "stream",
     "text": [
      " 82%|████████▏ | 930/1128 [1:06:03<06:32,  1.98s/it]"
     ]
    },
    {
     "name": "stdout",
     "output_type": "stream",
     "text": [
      "No `images_dir` provided. Images will be unpacked to '/opt/project/data/TCGA-AO-A0JM/09-15-1999-NA-NA-59814/1.000000-Localization-42430'\n",
      "Ignoring unsupported parameter 'overwrite' for importer type <class 'fiftyone.utils.dicom.DICOMDatasetImporter'>\n",
      " 100% |███████████████████| 33/33 [1.2s elapsed, 0s remaining, 28.5 samples/s]         \n"
     ]
    },
    {
     "name": "stderr",
     "output_type": "stream",
     "text": [
      " 83%|████████▎ | 931/1128 [1:06:04<05:57,  1.81s/it]"
     ]
    },
    {
     "name": "stdout",
     "output_type": "stream",
     "text": [
      "No `images_dir` provided. Images will be unpacked to '/opt/project/data/TCGA-BH-A0EI/02-17-2002-NA-BREAST MRI-14232/1.000000-3 plane loc-84603'\n",
      "Ignoring unsupported parameter 'overwrite' for importer type <class 'fiftyone.utils.dicom.DICOMDatasetImporter'>\n",
      " 100% |███████████████████| 29/29 [1.1s elapsed, 0s remaining, 25.4 samples/s]         \n"
     ]
    },
    {
     "name": "stderr",
     "output_type": "stream",
     "text": [
      " 83%|████████▎ | 932/1128 [1:06:05<05:30,  1.69s/it]"
     ]
    },
    {
     "name": "stdout",
     "output_type": "stream",
     "text": [
      "No `images_dir` provided. Images will be unpacked to '/opt/project/data/TCGA-AO-A0J9/05-11-2001-NA-NA-96851/3.000000-T2 right breast-90643'\n",
      "Ignoring unsupported parameter 'overwrite' for importer type <class 'fiftyone.utils.dicom.DICOMDatasetImporter'>\n",
      " 100% |███████████████████| 52/52 [1.6s elapsed, 0s remaining, 31.9 samples/s]      \n"
     ]
    },
    {
     "name": "stderr",
     "output_type": "stream",
     "text": [
      " 83%|████████▎ | 933/1128 [1:06:07<05:45,  1.77s/it]"
     ]
    },
    {
     "name": "stdout",
     "output_type": "stream",
     "text": [
      "No `images_dir` provided. Images will be unpacked to '/opt/project/data/TCGA-BH-A18I/01-28-2004-NA-BREAST MRI-54013/200.000000-CAD sag reformat-92815'\n",
      "Ignoring unsupported parameter 'overwrite' for importer type <class 'fiftyone.utils.dicom.DICOMDatasetImporter'>\n",
      " 100% |█████████████████| 150/150 [4.1s elapsed, 0s remaining, 43.6 samples/s]       \n"
     ]
    },
    {
     "name": "stderr",
     "output_type": "stream",
     "text": [
      " 83%|████████▎ | 934/1128 [1:06:12<08:29,  2.62s/it]"
     ]
    },
    {
     "name": "stdout",
     "output_type": "stream",
     "text": [
      "No `images_dir` provided. Images will be unpacked to '/opt/project/data/TCGA-BH-A202/05-24-2004-NA-BREAST MRI-87769/3.000000-AX STIR-WaterSat-16948'\n",
      "Ignoring unsupported parameter 'overwrite' for importer type <class 'fiftyone.utils.dicom.DICOMDatasetImporter'>\n",
      " 100% |███████████████████| 54/54 [2.0s elapsed, 0s remaining, 27.4 samples/s]      \n"
     ]
    },
    {
     "name": "stderr",
     "output_type": "stream",
     "text": [
      " 83%|████████▎ | 935/1128 [1:06:14<08:07,  2.53s/it]"
     ]
    },
    {
     "name": "stdout",
     "output_type": "stream",
     "text": [
      "No `images_dir` provided. Images will be unpacked to '/opt/project/data/TCGA-BH-A28Q/01-26-2004-NA-BREAST MRI-39143/4.000000-Ax Vibrant MULTIPHASE-30739'\n",
      "Ignoring unsupported parameter 'overwrite' for importer type <class 'fiftyone.utils.dicom.DICOMDatasetImporter'>\n",
      " 100% |█████████████████| 370/370 [9.7s elapsed, 0s remaining, 41.2 samples/s]       \n"
     ]
    },
    {
     "name": "stderr",
     "output_type": "stream",
     "text": [
      " 83%|████████▎ | 936/1128 [1:06:25<16:00,  5.00s/it]"
     ]
    },
    {
     "name": "stdout",
     "output_type": "stream",
     "text": [
      "No `images_dir` provided. Images will be unpacked to '/opt/project/data/TCGA-BH-A0H5/06-20-2001-NA-BREAST MRI-23793/1.000000-3 plane loc-48922'\n",
      "Ignoring unsupported parameter 'overwrite' for importer type <class 'fiftyone.utils.dicom.DICOMDatasetImporter'>\n",
      " 100% |███████████████████| 29/29 [1.1s elapsed, 0s remaining, 25.6 samples/s]         \n"
     ]
    },
    {
     "name": "stderr",
     "output_type": "stream",
     "text": [
      " 83%|████████▎ | 937/1128 [1:06:26<12:27,  3.91s/it]"
     ]
    },
    {
     "name": "stdout",
     "output_type": "stream",
     "text": [
      "No `images_dir` provided. Images will be unpacked to '/opt/project/data/TCGA-E2-A15M/08-11-2002-NA-MR BREAST BILATERAL WWO CONT-35322/7.000000-SAG 3D POST-CONTRAST-72166'\n",
      "Ignoring unsupported parameter 'overwrite' for importer type <class 'fiftyone.utils.dicom.DICOMDatasetImporter'>\n",
      " 100% |█████████████████| 444/444 [12.2s elapsed, 0s remaining, 38.8 samples/s]      \n"
     ]
    },
    {
     "name": "stderr",
     "output_type": "stream",
     "text": [
      " 83%|████████▎ | 938/1128 [1:06:40<21:27,  6.78s/it]"
     ]
    },
    {
     "name": "stdout",
     "output_type": "stream",
     "text": [
      "No `images_dir` provided. Images will be unpacked to '/opt/project/data/TCGA-AR-A1AQ/11-21-2001-NA-MRI - BREAST-98628/4.000000-LT SAG FSE T2-53345'\n",
      "Ignoring unsupported parameter 'overwrite' for importer type <class 'fiftyone.utils.dicom.DICOMDatasetImporter'>\n",
      " 100% |███████████████████| 36/36 [1.4s elapsed, 0s remaining, 26.4 samples/s]      \n"
     ]
    },
    {
     "name": "stderr",
     "output_type": "stream",
     "text": [
      " 83%|████████▎ | 939/1128 [1:06:41<16:27,  5.22s/it]"
     ]
    },
    {
     "name": "stdout",
     "output_type": "stream",
     "text": [
      "No `images_dir` provided. Images will be unpacked to '/opt/project/data/TCGA-BH-A0C0/08-20-2000-NA-BREAST MRI-05483/200.000000-CAD COR REF-71289'\n",
      "Ignoring unsupported parameter 'overwrite' for importer type <class 'fiftyone.utils.dicom.DICOMDatasetImporter'>\n",
      " 100% |███████████████████| 87/87 [2.5s elapsed, 0s remaining, 42.5 samples/s]      \n"
     ]
    },
    {
     "name": "stderr",
     "output_type": "stream",
     "text": [
      " 83%|████████▎ | 940/1128 [1:06:44<14:09,  4.52s/it]"
     ]
    },
    {
     "name": "stdout",
     "output_type": "stream",
     "text": [
      "No `images_dir` provided. Images will be unpacked to '/opt/project/data/TCGA-BH-A0DG/12-05-2000-NA-BREAST MRI-74580/103.000000-CAD REG CAD Sub 4-94703'\n",
      "Ignoring unsupported parameter 'overwrite' for importer type <class 'fiftyone.utils.dicom.DICOMDatasetImporter'>\n",
      " 100% |███████████████████| 72/72 [2.2s elapsed, 0s remaining, 41.8 samples/s]      \n"
     ]
    },
    {
     "name": "stderr",
     "output_type": "stream",
     "text": [
      " 83%|████████▎ | 941/1128 [1:06:47<12:15,  3.93s/it]"
     ]
    },
    {
     "name": "stdout",
     "output_type": "stream",
     "text": [
      "No `images_dir` provided. Images will be unpacked to '/opt/project/data/TCGA-BH-A0DX/11-21-2000-NA-BREAST MRI-01298/2.000000-Calibration Scan-64385'\n",
      "Ignoring unsupported parameter 'overwrite' for importer type <class 'fiftyone.utils.dicom.DICOMDatasetImporter'>\n",
      " 100% |███████████████████| 92/92 [2.4s elapsed, 0s remaining, 48.2 samples/s]      \n"
     ]
    },
    {
     "name": "stderr",
     "output_type": "stream",
     "text": [
      " 84%|████████▎ | 942/1128 [1:06:50<11:08,  3.60s/it]"
     ]
    },
    {
     "name": "stdout",
     "output_type": "stream",
     "text": [
      "No `images_dir` provided. Images will be unpacked to '/opt/project/data/TCGA-BH-A28Q/01-26-2004-NA-BREAST MRI-39143/3.000000-AX STIR-WaterSat-10069'\n",
      "Ignoring unsupported parameter 'overwrite' for importer type <class 'fiftyone.utils.dicom.DICOMDatasetImporter'>\n",
      " 100% |███████████████████| 40/40 [1.4s elapsed, 0s remaining, 28.1 samples/s]      \n"
     ]
    },
    {
     "name": "stderr",
     "output_type": "stream",
     "text": [
      " 84%|████████▎ | 943/1128 [1:06:51<09:20,  3.03s/it]"
     ]
    },
    {
     "name": "stdout",
     "output_type": "stream",
     "text": [
      "No `images_dir` provided. Images will be unpacked to '/opt/project/data/TCGA-E2-A1L7/12-29-2001-NA-MR BREAST BILATERAL WWO CONT-27861/5.000000-ASSET CALIBRATION-38875'\n",
      "Ignoring unsupported parameter 'overwrite' for importer type <class 'fiftyone.utils.dicom.DICOMDatasetImporter'>\n",
      " 100% |███████████████████| 74/74 [1.9s elapsed, 0s remaining, 38.1 samples/s]      \n"
     ]
    },
    {
     "name": "stderr",
     "output_type": "stream",
     "text": [
      " 84%|████████▎ | 944/1128 [1:06:54<08:36,  2.81s/it]"
     ]
    },
    {
     "name": "stdout",
     "output_type": "stream",
     "text": [
      "No `images_dir` provided. Images will be unpacked to '/opt/project/data/TCGA-BH-A0HY/05-29-2002-NA-BREAST MRI-25536/102.000000-CAD sub 2-42834'\n",
      "Ignoring unsupported parameter 'overwrite' for importer type <class 'fiftyone.utils.dicom.DICOMDatasetImporter'>\n",
      " 100% |█████████████████| 106/106 [3.0s elapsed, 0s remaining, 42.3 samples/s]      \n"
     ]
    },
    {
     "name": "stderr",
     "output_type": "stream",
     "text": [
      " 84%|████████▍ | 945/1128 [1:06:57<09:07,  2.99s/it]"
     ]
    },
    {
     "name": "stdout",
     "output_type": "stream",
     "text": [
      "No `images_dir` provided. Images will be unpacked to '/opt/project/data/TCGA-E2-A14V/06-10-2001-NA-MR BREAST BILATERAL WWO CONT-38155/7.000000-SAG 3D POST-CONTRAST-75132'\n",
      "Ignoring unsupported parameter 'overwrite' for importer type <class 'fiftyone.utils.dicom.DICOMDatasetImporter'>\n",
      " 100% |█████████████████| 384/384 [9.3s elapsed, 0s remaining, 44.4 samples/s]       \n"
     ]
    },
    {
     "name": "stderr",
     "output_type": "stream",
     "text": [
      " 84%|████████▍ | 946/1128 [1:07:08<15:51,  5.23s/it]"
     ]
    },
    {
     "name": "stdout",
     "output_type": "stream",
     "text": [
      "No `images_dir` provided. Images will be unpacked to '/opt/project/data/TCGA-AR-A1AN/10-14-2001-NA-MRI - BREAST-21682/4.000000-LT SAG FSE T2-48448'\n",
      "Ignoring unsupported parameter 'overwrite' for importer type <class 'fiftyone.utils.dicom.DICOMDatasetImporter'>\n",
      " 100% |███████████████████| 24/24 [1.1s elapsed, 0s remaining, 22.2 samples/s]         \n"
     ]
    },
    {
     "name": "stderr",
     "output_type": "stream",
     "text": [
      " 84%|████████▍ | 947/1128 [1:07:09<12:13,  4.06s/it]"
     ]
    },
    {
     "name": "stdout",
     "output_type": "stream",
     "text": [
      "No `images_dir` provided. Images will be unpacked to '/opt/project/data/TCGA-AO-A03M/03-15-2001-NA-NA-80891/1.000000-Localization-27022'\n",
      "Ignoring unsupported parameter 'overwrite' for importer type <class 'fiftyone.utils.dicom.DICOMDatasetImporter'>\n",
      " 100% |███████████████████| 37/37 [1.4s elapsed, 0s remaining, 26.8 samples/s]      \n"
     ]
    },
    {
     "name": "stderr",
     "output_type": "stream",
     "text": [
      " 84%|████████▍ | 948/1128 [1:07:11<10:06,  3.37s/it]"
     ]
    },
    {
     "name": "stdout",
     "output_type": "stream",
     "text": [
      "No `images_dir` provided. Images will be unpacked to '/opt/project/data/TCGA-AO-A12D/09-23-1999-NA-NA-51146/106.000000-NA-93238'\n",
      "Ignoring unsupported parameter 'overwrite' for importer type <class 'fiftyone.utils.dicom.DICOMDatasetImporter'>\n",
      " 100% |███████████████████| 53/53 [1.4s elapsed, 0s remaining, 37.3 samples/s]         \n"
     ]
    },
    {
     "name": "stderr",
     "output_type": "stream",
     "text": [
      " 84%|████████▍ | 949/1128 [1:07:12<08:34,  2.87s/it]"
     ]
    },
    {
     "name": "stdout",
     "output_type": "stream",
     "text": [
      "No `images_dir` provided. Images will be unpacked to '/opt/project/data/TCGA-BH-A0HY/05-29-2002-NA-BREAST MRI-25536/5.000000-Sag Vibrant C-71158'\n",
      "Ignoring unsupported parameter 'overwrite' for importer type <class 'fiftyone.utils.dicom.DICOMDatasetImporter'>\n",
      " 100% |█████████████████| 152/152 [3.9s elapsed, 0s remaining, 44.3 samples/s]       \n"
     ]
    },
    {
     "name": "stderr",
     "output_type": "stream",
     "text": [
      " 84%|████████▍ | 950/1128 [1:07:17<09:57,  3.35s/it]"
     ]
    },
    {
     "name": "stdout",
     "output_type": "stream",
     "text": [
      "No `images_dir` provided. Images will be unpacked to '/opt/project/data/TCGA-AR-A1AX/09-24-2003-NA-MRI BREAST BILATERAL-61364/6.000000-HiRes Post-56853'\n",
      "Ignoring unsupported parameter 'overwrite' for importer type <class 'fiftyone.utils.dicom.DICOMDatasetImporter'>\n",
      " 100% |█████████████████| 176/176 [5.3s elapsed, 0s remaining, 38.5 samples/s]      \n"
     ]
    },
    {
     "name": "stderr",
     "output_type": "stream",
     "text": [
      " 84%|████████▍ | 951/1128 [1:07:23<12:07,  4.11s/it]"
     ]
    },
    {
     "name": "stdout",
     "output_type": "stream",
     "text": [
      "No `images_dir` provided. Images will be unpacked to '/opt/project/data/TCGA-AO-A0JI/11-06-2001-NA-NA-80329/102.000000-Bind1802961..56-36518'\n",
      "Ignoring unsupported parameter 'overwrite' for importer type <class 'fiftyone.utils.dicom.DICOMDatasetImporter'>\n",
      " 100% |███████████████████| 56/56 [1.8s elapsed, 0s remaining, 31.5 samples/s]      \n"
     ]
    },
    {
     "name": "stderr",
     "output_type": "stream",
     "text": [
      " 84%|████████▍ | 952/1128 [1:07:25<10:17,  3.51s/it]"
     ]
    },
    {
     "name": "stdout",
     "output_type": "stream",
     "text": [
      "No `images_dir` provided. Images will be unpacked to '/opt/project/data/TCGA-AR-A24X/05-31-2001-NA-MRI - BREAST-56773/7.000000-ASSET CAL-53248'\n",
      "Ignoring unsupported parameter 'overwrite' for importer type <class 'fiftyone.utils.dicom.DICOMDatasetImporter'>\n",
      " 100% |███████████████████| 90/90 [2.3s elapsed, 0s remaining, 50.1 samples/s]      \n"
     ]
    },
    {
     "name": "stderr",
     "output_type": "stream",
     "text": [
      " 84%|████████▍ | 953/1128 [1:07:28<09:34,  3.28s/it]"
     ]
    },
    {
     "name": "stdout",
     "output_type": "stream",
     "text": [
      "No `images_dir` provided. Images will be unpacked to '/opt/project/data/TCGA-AO-A0JM/09-15-1999-NA-NA-59814/115.000000-PJN-57342'\n",
      "Ignoring unsupported parameter 'overwrite' for importer type <class 'fiftyone.utils.dicom.DICOMDatasetImporter'>\n",
      " 100% |███████████████████| 16/16 [858.3ms elapsed, 0s remaining, 18.7 samples/s]      \n"
     ]
    },
    {
     "name": "stderr",
     "output_type": "stream",
     "text": [
      " 85%|████████▍ | 954/1128 [1:07:29<07:34,  2.61s/it]"
     ]
    },
    {
     "name": "stdout",
     "output_type": "stream",
     "text": [
      "No `images_dir` provided. Images will be unpacked to '/opt/project/data/TCGA-BH-A0DX/11-21-2000-NA-BREAST MRI-01298/1.000000-3 plane loc-26140'\n",
      "Ignoring unsupported parameter 'overwrite' for importer type <class 'fiftyone.utils.dicom.DICOMDatasetImporter'>\n",
      " 100% |███████████████████| 29/29 [1.1s elapsed, 0s remaining, 25.4 samples/s]         \n"
     ]
    },
    {
     "name": "stderr",
     "output_type": "stream",
     "text": [
      " 85%|████████▍ | 955/1128 [1:07:30<06:27,  2.24s/it]"
     ]
    },
    {
     "name": "stdout",
     "output_type": "stream",
     "text": [
      "No `images_dir` provided. Images will be unpacked to '/opt/project/data/TCGA-BH-A0B5/10-26-2000-NA-BREAST MRI-16171/100.000000-CAD REG CAD Sub 1-68202'\n",
      "Ignoring unsupported parameter 'overwrite' for importer type <class 'fiftyone.utils.dicom.DICOMDatasetImporter'>\n",
      " 100% |███████████████████| 70/70 [2.2s elapsed, 0s remaining, 40.4 samples/s]      \n"
     ]
    },
    {
     "name": "stderr",
     "output_type": "stream",
     "text": [
      " 85%|████████▍ | 956/1128 [1:07:33<06:41,  2.34s/it]"
     ]
    },
    {
     "name": "stdout",
     "output_type": "stream",
     "text": [
      "No `images_dir` provided. Images will be unpacked to '/opt/project/data/TCGA-AR-A1AQ/11-21-2001-NA-MRI - BREAST-98628/3.000000-LT SAG FSE T1-48305'\n",
      "Ignoring unsupported parameter 'overwrite' for importer type <class 'fiftyone.utils.dicom.DICOMDatasetImporter'>\n",
      " 100% |███████████████████| 36/36 [1.4s elapsed, 0s remaining, 24.9 samples/s]      \n"
     ]
    },
    {
     "name": "stderr",
     "output_type": "stream",
     "text": [
      " 85%|████████▍ | 957/1128 [1:07:34<06:05,  2.14s/it]"
     ]
    },
    {
     "name": "stdout",
     "output_type": "stream",
     "text": [
      "No `images_dir` provided. Images will be unpacked to '/opt/project/data/TCGA-AO-A12F/10-16-2000-NA-NA-19596/101.000000-Bind5647553..104-34949'\n",
      "Ignoring unsupported parameter 'overwrite' for importer type <class 'fiftyone.utils.dicom.DICOMDatasetImporter'>\n",
      " 100% |███████████████████| 52/52 [1.5s elapsed, 0s remaining, 33.9 samples/s]         \n"
     ]
    },
    {
     "name": "stderr",
     "output_type": "stream",
     "text": [
      " 85%|████████▍ | 958/1128 [1:07:36<05:51,  2.07s/it]"
     ]
    },
    {
     "name": "stdout",
     "output_type": "stream",
     "text": [
      "No `images_dir` provided. Images will be unpacked to '/opt/project/data/TCGA-BH-A0C0/08-20-2000-NA-BREAST MRI-05483/201.000000-CAD SAG REF-12172'\n",
      "Ignoring unsupported parameter 'overwrite' for importer type <class 'fiftyone.utils.dicom.DICOMDatasetImporter'>\n",
      " 100% |███████████████████| 87/87 [2.5s elapsed, 0s remaining, 44.4 samples/s]      \n"
     ]
    },
    {
     "name": "stderr",
     "output_type": "stream",
     "text": [
      " 85%|████████▌ | 959/1128 [1:07:39<06:27,  2.29s/it]"
     ]
    },
    {
     "name": "stdout",
     "output_type": "stream",
     "text": [
      "No `images_dir` provided. Images will be unpacked to '/opt/project/data/TCGA-E2-A15K/07-21-2002-NA-MR BREAST BILATERAL WWO CONT-17072/2.000000-SAG T1 PRE-11681'\n",
      "Ignoring unsupported parameter 'overwrite' for importer type <class 'fiftyone.utils.dicom.DICOMDatasetImporter'>\n",
      " 100% |█████████████████| 156/156 [3.8s elapsed, 0s remaining, 46.4 samples/s]       \n"
     ]
    },
    {
     "name": "stderr",
     "output_type": "stream",
     "text": [
      " 85%|████████▌ | 960/1128 [1:07:43<08:14,  2.94s/it]"
     ]
    },
    {
     "name": "stdout",
     "output_type": "stream",
     "text": [
      "No `images_dir` provided. Images will be unpacked to '/opt/project/data/TCGA-BH-A0DK/12-22-2002-NA-BREAST MRI-01189/200.000000-CAD sag reformat-32072'\n",
      "Ignoring unsupported parameter 'overwrite' for importer type <class 'fiftyone.utils.dicom.DICOMDatasetImporter'>\n",
      " 100% |█████████████████| 171/171 [4.4s elapsed, 0s remaining, 42.4 samples/s]       \n"
     ]
    },
    {
     "name": "stderr",
     "output_type": "stream",
     "text": [
      " 85%|████████▌ | 961/1128 [1:07:49<09:57,  3.58s/it]"
     ]
    },
    {
     "name": "stdout",
     "output_type": "stream",
     "text": [
      "No `images_dir` provided. Images will be unpacked to '/opt/project/data/TCGA-BH-A0EI/02-17-2002-NA-BREAST MRI-14232/5.000000-Sag Vibrant C-90332'\n",
      "Ignoring unsupported parameter 'overwrite' for importer type <class 'fiftyone.utils.dicom.DICOMDatasetImporter'>\n",
      " 100% |█████████████████| 152/152 [4.2s elapsed, 0s remaining, 43.7 samples/s]       \n"
     ]
    },
    {
     "name": "stderr",
     "output_type": "stream",
     "text": [
      " 85%|████████▌ | 962/1128 [1:07:53<10:55,  3.95s/it]"
     ]
    },
    {
     "name": "stdout",
     "output_type": "stream",
     "text": [
      "No `images_dir` provided. Images will be unpacked to '/opt/project/data/TCGA-AO-A12F/10-16-2000-NA-NA-19596/110.000000-Bind56477313..364-26506'\n",
      "Ignoring unsupported parameter 'overwrite' for importer type <class 'fiftyone.utils.dicom.DICOMDatasetImporter'>\n",
      " 100% |███████████████████| 52/52 [1.6s elapsed, 0s remaining, 33.0 samples/s]      \n"
     ]
    },
    {
     "name": "stderr",
     "output_type": "stream",
     "text": [
      " 85%|████████▌ | 963/1128 [1:07:55<09:12,  3.35s/it]"
     ]
    },
    {
     "name": "stdout",
     "output_type": "stream",
     "text": [
      "No `images_dir` provided. Images will be unpacked to '/opt/project/data/TCGA-BH-A201/05-11-2004-NA-BREAST MRI-49157/101.000000-CAD sub 4-24725'\n",
      "Ignoring unsupported parameter 'overwrite' for importer type <class 'fiftyone.utils.dicom.DICOMDatasetImporter'>\n",
      " 100% |███████████████████| 90/90 [2.6s elapsed, 0s remaining, 42.8 samples/s]      \n"
     ]
    },
    {
     "name": "stderr",
     "output_type": "stream",
     "text": [
      " 85%|████████▌ | 964/1128 [1:07:58<08:59,  3.29s/it]"
     ]
    },
    {
     "name": "stdout",
     "output_type": "stream",
     "text": [
      "No `images_dir` provided. Images will be unpacked to '/opt/project/data/TCGA-BH-A0HI/03-14-2002-NA-BREAST MRI-85477/202.000000-CAD cor reformat-09882'\n",
      "Ignoring unsupported parameter 'overwrite' for importer type <class 'fiftyone.utils.dicom.DICOMDatasetImporter'>\n",
      " 100% |█████████████████| 171/171 [4.1s elapsed, 0s remaining, 45.9 samples/s]       \n"
     ]
    },
    {
     "name": "stderr",
     "output_type": "stream",
     "text": [
      " 86%|████████▌ | 965/1128 [1:08:04<10:36,  3.91s/it]"
     ]
    },
    {
     "name": "stdout",
     "output_type": "stream",
     "text": [
      "No `images_dir` provided. Images will be unpacked to '/opt/project/data/TCGA-AR-A1AQ/11-21-2001-NA-MRI - BREAST-98628/9.000000-BRAVA--1 MIN-20012'\n",
      "Ignoring unsupported parameter 'overwrite' for importer type <class 'fiftyone.utils.dicom.DICOMDatasetImporter'>\n",
      " 100% |█████████████████| 136/136 [4.0s elapsed, 0s remaining, 39.6 samples/s]       \n"
     ]
    },
    {
     "name": "stderr",
     "output_type": "stream",
     "text": [
      " 86%|████████▌ | 966/1128 [1:08:08<11:05,  4.11s/it]"
     ]
    },
    {
     "name": "stdout",
     "output_type": "stream",
     "text": [
      "No `images_dir` provided. Images will be unpacked to '/opt/project/data/TCGA-BH-A0B3/10-09-2000-NA-BREAST MRI-95408/6.000000-Sag Vibrant C-41016'\n",
      "Ignoring unsupported parameter 'overwrite' for importer type <class 'fiftyone.utils.dicom.DICOMDatasetImporter'>\n",
      " 100% |█████████████████| 140/140 [3.7s elapsed, 0s remaining, 43.7 samples/s]       \n"
     ]
    },
    {
     "name": "stderr",
     "output_type": "stream",
     "text": [
      " 86%|████████▌ | 967/1128 [1:08:13<11:08,  4.15s/it]"
     ]
    },
    {
     "name": "stdout",
     "output_type": "stream",
     "text": [
      "No `images_dir` provided. Images will be unpacked to '/opt/project/data/TCGA-BH-A0H9/09-25-2000-NA-BREAST MRI-55072/5.000000-Ax Vibrant MULTIPHASE-88475'\n",
      "Ignoring unsupported parameter 'overwrite' for importer type <class 'fiftyone.utils.dicom.DICOMDatasetImporter'>\n",
      " 100% |█████████████████| 350/350 [9.6s elapsed, 0s remaining, 38.9 samples/s]       \n"
     ]
    },
    {
     "name": "stderr",
     "output_type": "stream",
     "text": [
      " 86%|████████▌ | 968/1128 [1:08:23<16:17,  6.11s/it]"
     ]
    },
    {
     "name": "stdout",
     "output_type": "stream",
     "text": [
      "No `images_dir` provided. Images will be unpacked to '/opt/project/data/TCGA-AO-A03V/08-10-2002-NA-NA-16391/113.000000-RT-23352'\n",
      "Ignoring unsupported parameter 'overwrite' for importer type <class 'fiftyone.utils.dicom.DICOMDatasetImporter'>\n",
      " 100% |███████████████████| 13/13 [939.3ms elapsed, 0s remaining, 13.9 samples/s]      \n"
     ]
    },
    {
     "name": "stderr",
     "output_type": "stream",
     "text": [
      " 86%|████████▌ | 969/1128 [1:08:24<12:13,  4.61s/it]"
     ]
    },
    {
     "name": "stdout",
     "output_type": "stream",
     "text": [
      "No `images_dir` provided. Images will be unpacked to '/opt/project/data/TCGA-BH-A0W3/10-12-2003-NA-BREAST MRI-09153/2.000000-Calibration Scan-92836'\n",
      "Ignoring unsupported parameter 'overwrite' for importer type <class 'fiftyone.utils.dicom.DICOMDatasetImporter'>\n",
      " 100% |███████████████████| 54/54 [1.6s elapsed, 0s remaining, 33.7 samples/s]      \n"
     ]
    },
    {
     "name": "stderr",
     "output_type": "stream",
     "text": [
      " 86%|████████▌ | 970/1128 [1:08:26<10:05,  3.83s/it]"
     ]
    },
    {
     "name": "stdout",
     "output_type": "stream",
     "text": [
      "No `images_dir` provided. Images will be unpacked to '/opt/project/data/TCGA-BH-A0E0/04-06-2003-NA-BREAST MRI-53761/3.000000-AX STIR-WaterSat-91914'\n",
      "Ignoring unsupported parameter 'overwrite' for importer type <class 'fiftyone.utils.dicom.DICOMDatasetImporter'>\n",
      " 100% |███████████████████| 42/42 [1.5s elapsed, 0s remaining, 27.4 samples/s]      \n"
     ]
    },
    {
     "name": "stderr",
     "output_type": "stream",
     "text": [
      " 86%|████████▌ | 971/1128 [1:08:28<08:25,  3.22s/it]"
     ]
    },
    {
     "name": "stdout",
     "output_type": "stream",
     "text": [
      "No `images_dir` provided. Images will be unpacked to '/opt/project/data/TCGA-E2-A1II/03-29-2001-NA-MR BREAST BILATERAL WWO CONT-41862/1.000000-3-PLANE LOCALIZER-48728'\n",
      "Ignoring unsupported parameter 'overwrite' for importer type <class 'fiftyone.utils.dicom.DICOMDatasetImporter'>\n",
      " 100% |███████████████████| 45/45 [1.6s elapsed, 0s remaining, 27.7 samples/s]      \n"
     ]
    },
    {
     "name": "stderr",
     "output_type": "stream",
     "text": [
      " 86%|████████▌ | 972/1128 [1:08:30<07:21,  2.83s/it]"
     ]
    },
    {
     "name": "stdout",
     "output_type": "stream",
     "text": [
      "No `images_dir` provided. Images will be unpacked to '/opt/project/data/TCGA-AR-A1AX/09-24-2003-NA-MRI BREAST BILATERAL-61364/1.000000-SCOUT-57671'\n",
      "Ignoring unsupported parameter 'overwrite' for importer type <class 'fiftyone.utils.dicom.DICOMDatasetImporter'>\n",
      " 100% |███████████████████| 51/51 [2.0s elapsed, 0s remaining, 25.8 samples/s]      \n"
     ]
    },
    {
     "name": "stderr",
     "output_type": "stream",
     "text": [
      " 86%|████████▋ | 973/1128 [1:08:32<06:49,  2.64s/it]"
     ]
    },
    {
     "name": "stdout",
     "output_type": "stream",
     "text": [
      "No `images_dir` provided. Images will be unpacked to '/opt/project/data/TCGA-BH-A0DE/08-01-2000-NA-BREAST MRI-94390/6.000000-Sag Vibrant C-79936'\n",
      "Ignoring unsupported parameter 'overwrite' for importer type <class 'fiftyone.utils.dicom.DICOMDatasetImporter'>\n",
      " 100% |█████████████████| 144/144 [3.8s elapsed, 0s remaining, 44.3 samples/s]       \n"
     ]
    },
    {
     "name": "stderr",
     "output_type": "stream",
     "text": [
      " 86%|████████▋ | 974/1128 [1:08:37<08:02,  3.13s/it]"
     ]
    },
    {
     "name": "stdout",
     "output_type": "stream",
     "text": [
      "No `images_dir` provided. Images will be unpacked to '/opt/project/data/TCGA-BH-A0E1/11-04-2002-NA-BREAST MRI-66574/200.000000-CAD sag reformat-88618'\n",
      "Ignoring unsupported parameter 'overwrite' for importer type <class 'fiftyone.utils.dicom.DICOMDatasetImporter'>\n",
      " 100% |█████████████████| 150/150 [3.9s elapsed, 0s remaining, 43.6 samples/s]       \n"
     ]
    },
    {
     "name": "stderr",
     "output_type": "stream",
     "text": [
      " 86%|████████▋ | 975/1128 [1:08:41<09:01,  3.54s/it]"
     ]
    },
    {
     "name": "stdout",
     "output_type": "stream",
     "text": [
      "No `images_dir` provided. Images will be unpacked to '/opt/project/data/TCGA-BH-A0E1/11-04-2002-NA-BREAST MRI-66574/1001.000000-CAD VOLUME-28885'\n",
      "Ignoring unsupported parameter 'overwrite' for importer type <class 'fiftyone.utils.dicom.DICOMDatasetImporter'>\n",
      " 100% |█████████████████████| 4/4 [700.8ms elapsed, 0s remaining, 5.7 samples/s]   \n"
     ]
    },
    {
     "name": "stderr",
     "output_type": "stream",
     "text": [
      " 87%|████████▋ | 976/1128 [1:08:42<06:55,  2.73s/it]"
     ]
    },
    {
     "name": "stdout",
     "output_type": "stream",
     "text": [
      "No `images_dir` provided. Images will be unpacked to '/opt/project/data/TCGA-E2-A1B5/04-29-2001-NA-MR BREAST BILATERAL WWO CONT-98814/5.000000-SAG 3D PRE-CONTRAST-94195'\n",
      "Ignoring unsupported parameter 'overwrite' for importer type <class 'fiftyone.utils.dicom.DICOMDatasetImporter'>\n",
      " 100% |█████████████████| 128/128 [3.6s elapsed, 0s remaining, 38.7 samples/s]      \n"
     ]
    },
    {
     "name": "stderr",
     "output_type": "stream",
     "text": [
      " 87%|████████▋ | 977/1128 [1:08:46<07:56,  3.15s/it]"
     ]
    },
    {
     "name": "stdout",
     "output_type": "stream",
     "text": [
      "No `images_dir` provided. Images will be unpacked to '/opt/project/data/TCGA-BH-A0DX/11-25-2000-NA-BIOPSY-11698/2.000000-Calibration Scan-24157'\n",
      "Ignoring unsupported parameter 'overwrite' for importer type <class 'fiftyone.utils.dicom.DICOMDatasetImporter'>\n",
      " 100% |███████████████████| 92/92 [2.4s elapsed, 0s remaining, 48.2 samples/s]      \n"
     ]
    },
    {
     "name": "stderr",
     "output_type": "stream",
     "text": [
      " 87%|████████▋ | 978/1128 [1:08:49<07:36,  3.04s/it]"
     ]
    },
    {
     "name": "stdout",
     "output_type": "stream",
     "text": [
      "No `images_dir` provided. Images will be unpacked to '/opt/project/data/TCGA-BH-A0GY/08-27-2001-NA-MRI BREAST-03978/3.000000-AX STIR-WaterSat-95520'\n",
      "Ignoring unsupported parameter 'overwrite' for importer type <class 'fiftyone.utils.dicom.DICOMDatasetImporter'>\n",
      " 100% |███████████████████| 53/53 [1.8s elapsed, 0s remaining, 29.0 samples/s]      \n"
     ]
    },
    {
     "name": "stderr",
     "output_type": "stream",
     "text": [
      " 87%|████████▋ | 979/1128 [1:08:51<06:52,  2.77s/it]"
     ]
    },
    {
     "name": "stdout",
     "output_type": "stream",
     "text": [
      "No `images_dir` provided. Images will be unpacked to '/opt/project/data/TCGA-BH-A0DT/10-29-2000-NA-BREAST MRI-03753/102.000000-CAD REG CAD Sub 3-06787'\n",
      "Ignoring unsupported parameter 'overwrite' for importer type <class 'fiftyone.utils.dicom.DICOMDatasetImporter'>\n",
      " 100% |███████████████████| 78/78 [2.4s elapsed, 0s remaining, 41.8 samples/s]      \n"
     ]
    },
    {
     "name": "stderr",
     "output_type": "stream",
     "text": [
      " 87%|████████▋ | 980/1128 [1:08:54<06:48,  2.76s/it]"
     ]
    },
    {
     "name": "stdout",
     "output_type": "stream",
     "text": [
      "No `images_dir` provided. Images will be unpacked to '/opt/project/data/TCGA-E2-A14T/03-15-2001-NA-MR BREAST BILATERAL WWO CONT-93911/10.000000-SAG 3D PRE-CONTRAST-52606'\n",
      "Ignoring unsupported parameter 'overwrite' for importer type <class 'fiftyone.utils.dicom.DICOMDatasetImporter'>\n",
      " 100% |█████████████████| 172/172 [4.2s elapsed, 0s remaining, 46.4 samples/s]       \n"
     ]
    },
    {
     "name": "stderr",
     "output_type": "stream",
     "text": [
      " 87%|████████▋ | 981/1128 [1:08:59<08:14,  3.36s/it]"
     ]
    },
    {
     "name": "stdout",
     "output_type": "stream",
     "text": [
      "No `images_dir` provided. Images will be unpacked to '/opt/project/data/TCGA-E2-A1LG/11-06-2002-NA-MR BREAST BILATERAL WWO CONT-85265/5.000000-SAG T2 FAT-SAT LEFT-10563'\n",
      "Ignoring unsupported parameter 'overwrite' for importer type <class 'fiftyone.utils.dicom.DICOMDatasetImporter'>\n",
      " 100% |███████████████████| 56/56 [2.0s elapsed, 0s remaining, 28.7 samples/s]      \n"
     ]
    },
    {
     "name": "stderr",
     "output_type": "stream",
     "text": [
      " 87%|████████▋ | 982/1128 [1:09:01<07:23,  3.04s/it]"
     ]
    },
    {
     "name": "stdout",
     "output_type": "stream",
     "text": [
      "No `images_dir` provided. Images will be unpacked to '/opt/project/data/TCGA-BH-A0DX/11-25-2000-NA-BIOPSY-11698/5.000000-Ax Vibrant C-19281'\n",
      "Ignoring unsupported parameter 'overwrite' for importer type <class 'fiftyone.utils.dicom.DICOMDatasetImporter'>\n",
      " 100% |███████████████████| 78/78 [2.5s elapsed, 0s remaining, 38.2 samples/s]      \n"
     ]
    },
    {
     "name": "stderr",
     "output_type": "stream",
     "text": [
      " 87%|████████▋ | 983/1128 [1:09:04<07:28,  3.10s/it]"
     ]
    },
    {
     "name": "stdout",
     "output_type": "stream",
     "text": [
      "No `images_dir` provided. Images will be unpacked to '/opt/project/data/TCGA-AO-A03M/03-15-2001-NA-NA-80891/111.000000-PJN-71907'\n",
      "Ignoring unsupported parameter 'overwrite' for importer type <class 'fiftyone.utils.dicom.DICOMDatasetImporter'>\n",
      " 100% |███████████████████| 13/13 [796.2ms elapsed, 0s remaining, 16.4 samples/s]      \n"
     ]
    },
    {
     "name": "stderr",
     "output_type": "stream",
     "text": [
      " 87%|████████▋ | 984/1128 [1:09:05<05:55,  2.47s/it]"
     ]
    },
    {
     "name": "stdout",
     "output_type": "stream",
     "text": [
      "No `images_dir` provided. Images will be unpacked to '/opt/project/data/TCGA-BH-A0DE/08-01-2000-NA-BREAST MRI-94390/3.000000-AX STIR-WaterSat-77556'\n",
      "Ignoring unsupported parameter 'overwrite' for importer type <class 'fiftyone.utils.dicom.DICOMDatasetImporter'>\n",
      " 100% |███████████████████| 43/43 [1.6s elapsed, 0s remaining, 26.4 samples/s]      \n"
     ]
    },
    {
     "name": "stderr",
     "output_type": "stream",
     "text": [
      " 87%|████████▋ | 985/1128 [1:09:07<05:28,  2.29s/it]"
     ]
    },
    {
     "name": "stdout",
     "output_type": "stream",
     "text": [
      "No `images_dir` provided. Images will be unpacked to '/opt/project/data/TCGA-AO-A12E/02-01-2000-NA-NA-34890/105.000000-NA-75044'\n",
      "Ignoring unsupported parameter 'overwrite' for importer type <class 'fiftyone.utils.dicom.DICOMDatasetImporter'>\n",
      " 100% |███████████████████| 56/56 [1.5s elapsed, 0s remaining, 38.0 samples/s]      \n"
     ]
    },
    {
     "name": "stderr",
     "output_type": "stream",
     "text": [
      " 87%|████████▋ | 986/1128 [1:09:09<05:04,  2.14s/it]"
     ]
    },
    {
     "name": "stdout",
     "output_type": "stream",
     "text": [
      "No `images_dir` provided. Images will be unpacked to '/opt/project/data/TCGA-BH-A0HY/05-29-2002-NA-BREAST MRI-25536/2.000000-Calibration Scan-41482'\n",
      "Ignoring unsupported parameter 'overwrite' for importer type <class 'fiftyone.utils.dicom.DICOMDatasetImporter'>\n",
      " 100% |███████████████████| 92/92 [2.4s elapsed, 0s remaining, 46.8 samples/s]      \n"
     ]
    },
    {
     "name": "stderr",
     "output_type": "stream",
     "text": [
      " 88%|████████▊ | 987/1128 [1:09:12<05:32,  2.36s/it]"
     ]
    },
    {
     "name": "stdout",
     "output_type": "stream",
     "text": [
      "No `images_dir` provided. Images will be unpacked to '/opt/project/data/TCGA-AO-A0J9/05-11-2001-NA-NA-96851/113.000000-Bind154777526..580-17835'\n",
      "Ignoring unsupported parameter 'overwrite' for importer type <class 'fiftyone.utils.dicom.DICOMDatasetImporter'>\n",
      " 100% |███████████████████| 55/55 [1.6s elapsed, 0s remaining, 33.9 samples/s]      \n"
     ]
    },
    {
     "name": "stderr",
     "output_type": "stream",
     "text": [
      " 88%|████████▊ | 988/1128 [1:09:14<05:14,  2.24s/it]"
     ]
    },
    {
     "name": "stdout",
     "output_type": "stream",
     "text": [
      "No `images_dir` provided. Images will be unpacked to '/opt/project/data/TCGA-AO-A0JM/09-15-1999-NA-NA-59814/104.000000-NA-30992'\n",
      "Ignoring unsupported parameter 'overwrite' for importer type <class 'fiftyone.utils.dicom.DICOMDatasetImporter'>\n",
      " 100% |███████████████████| 45/45 [1.4s elapsed, 0s remaining, 31.3 samples/s]      \n"
     ]
    },
    {
     "name": "stderr",
     "output_type": "stream",
     "text": [
      " 88%|████████▊ | 989/1128 [1:09:15<04:50,  2.09s/it]"
     ]
    },
    {
     "name": "stdout",
     "output_type": "stream",
     "text": [
      "No `images_dir` provided. Images will be unpacked to '/opt/project/data/TCGA-AO-A03M/03-15-2001-NA-NA-80891/116.000000-Bind112517289..338-47150'\n",
      "Ignoring unsupported parameter 'overwrite' for importer type <class 'fiftyone.utils.dicom.DICOMDatasetImporter'>\n",
      " 100% |███████████████████| 50/50 [1.6s elapsed, 0s remaining, 32.2 samples/s]      \n"
     ]
    },
    {
     "name": "stderr",
     "output_type": "stream",
     "text": [
      " 88%|████████▊ | 990/1128 [1:09:17<04:38,  2.02s/it]"
     ]
    },
    {
     "name": "stdout",
     "output_type": "stream",
     "text": [
      "No `images_dir` provided. Images will be unpacked to '/opt/project/data/TCGA-AO-A12F/10-16-2000-NA-NA-19596/123.000000-PJN-91138'\n",
      "Ignoring unsupported parameter 'overwrite' for importer type <class 'fiftyone.utils.dicom.DICOMDatasetImporter'>\n",
      " 100% |███████████████████| 16/16 [843.2ms elapsed, 0s remaining, 19.0 samples/s]      \n"
     ]
    },
    {
     "name": "stderr",
     "output_type": "stream",
     "text": [
      " 88%|████████▊ | 991/1128 [1:09:18<03:58,  1.74s/it]"
     ]
    },
    {
     "name": "stdout",
     "output_type": "stream",
     "text": [
      "No `images_dir` provided. Images will be unpacked to '/opt/project/data/TCGA-E2-A1B5/04-29-2001-NA-MR BREAST BILATERAL WWO CONT-98814/1.000000-3-PLANE LOCALIZER-81193'\n",
      "Ignoring unsupported parameter 'overwrite' for importer type <class 'fiftyone.utils.dicom.DICOMDatasetImporter'>\n",
      " 100% |███████████████████| 45/45 [1.7s elapsed, 0s remaining, 26.3 samples/s]      \n"
     ]
    },
    {
     "name": "stderr",
     "output_type": "stream",
     "text": [
      " 88%|████████▊ | 992/1128 [1:09:20<04:07,  1.82s/it]"
     ]
    },
    {
     "name": "stdout",
     "output_type": "stream",
     "text": [
      "No `images_dir` provided. Images will be unpacked to '/opt/project/data/TCGA-BH-A28Q/01-26-2004-NA-BREAST MRI-39143/103.000000-CAD sub 3-92395'\n",
      "Ignoring unsupported parameter 'overwrite' for importer type <class 'fiftyone.utils.dicom.DICOMDatasetImporter'>\n",
      " 100% |███████████████████| 74/74 [2.3s elapsed, 0s remaining, 40.6 samples/s]      \n"
     ]
    },
    {
     "name": "stderr",
     "output_type": "stream",
     "text": [
      " 88%|████████▊ | 993/1128 [1:09:23<04:50,  2.15s/it]"
     ]
    },
    {
     "name": "stdout",
     "output_type": "stream",
     "text": [
      "No `images_dir` provided. Images will be unpacked to '/opt/project/data/TCGA-BH-A0B6/10-18-1999-NA-BREAST MRI-60819/104.000000-CAD REG CAD Sub 5-49558'\n",
      "Ignoring unsupported parameter 'overwrite' for importer type <class 'fiftyone.utils.dicom.DICOMDatasetImporter'>\n",
      " 100% |███████████████████| 92/92 [2.8s elapsed, 0s remaining, 38.8 samples/s]      \n"
     ]
    },
    {
     "name": "stderr",
     "output_type": "stream",
     "text": [
      " 88%|████████▊ | 994/1128 [1:09:26<05:31,  2.47s/it]"
     ]
    },
    {
     "name": "stdout",
     "output_type": "stream",
     "text": [
      "No `images_dir` provided. Images will be unpacked to '/opt/project/data/TCGA-E2-A1L9/05-03-2002-NA-MR BREAST BILATERAL WWO CONT-62542/3.000000-SAG T2 FAT-SAT LEFT-33424'\n",
      "Ignoring unsupported parameter 'overwrite' for importer type <class 'fiftyone.utils.dicom.DICOMDatasetImporter'>\n",
      " 100% |███████████████████| 40/40 [1.6s elapsed, 0s remaining, 25.5 samples/s]      \n"
     ]
    },
    {
     "name": "stderr",
     "output_type": "stream",
     "text": [
      " 88%|████████▊ | 995/1128 [1:09:28<05:04,  2.29s/it]"
     ]
    },
    {
     "name": "stdout",
     "output_type": "stream",
     "text": [
      "No `images_dir` provided. Images will be unpacked to '/opt/project/data/TCGA-AO-A03M/03-15-2001-NA-NA-80891/119.000000-Bind112517435..480-39915'\n",
      "Ignoring unsupported parameter 'overwrite' for importer type <class 'fiftyone.utils.dicom.DICOMDatasetImporter'>\n",
      " 100% |███████████████████| 46/46 [1.5s elapsed, 0s remaining, 30.9 samples/s]      \n"
     ]
    },
    {
     "name": "stderr",
     "output_type": "stream",
     "text": [
      " 88%|████████▊ | 996/1128 [1:09:30<04:44,  2.15s/it]"
     ]
    },
    {
     "name": "stdout",
     "output_type": "stream",
     "text": [
      "No `images_dir` provided. Images will be unpacked to '/opt/project/data/TCGA-BH-A0DI/11-25-2002-NA-BIOPSY-71577/2.000000-Calibration Scan-66568'\n",
      "Ignoring unsupported parameter 'overwrite' for importer type <class 'fiftyone.utils.dicom.DICOMDatasetImporter'>\n",
      " 100% |███████████████████| 92/92 [2.3s elapsed, 0s remaining, 49.5 samples/s]      \n"
     ]
    },
    {
     "name": "stderr",
     "output_type": "stream",
     "text": [
      " 88%|████████▊ | 997/1128 [1:09:33<05:06,  2.34s/it]"
     ]
    },
    {
     "name": "stdout",
     "output_type": "stream",
     "text": [
      "No `images_dir` provided. Images will be unpacked to '/opt/project/data/TCGA-BH-A0DT/11-11-2000-NA-BIOPSY-26175/1.000000-3 plane loc-76369'\n",
      "Ignoring unsupported parameter 'overwrite' for importer type <class 'fiftyone.utils.dicom.DICOMDatasetImporter'>\n",
      " 100% |███████████████████| 29/29 [1.1s elapsed, 0s remaining, 26.0 samples/s]         \n"
     ]
    },
    {
     "name": "stderr",
     "output_type": "stream",
     "text": [
      " 88%|████████▊ | 998/1128 [1:09:34<04:25,  2.04s/it]"
     ]
    },
    {
     "name": "stdout",
     "output_type": "stream",
     "text": [
      "No `images_dir` provided. Images will be unpacked to '/opt/project/data/TCGA-AO-A0JI/11-06-2001-NA-NA-80329/105.000000-1802910256-1802910156-70217'\n",
      "Ignoring unsupported parameter 'overwrite' for importer type <class 'fiftyone.utils.dicom.DICOMDatasetImporter'>\n",
      " 100% |███████████████████| 56/56 [1.6s elapsed, 0s remaining, 34.0 samples/s]      \n"
     ]
    },
    {
     "name": "stderr",
     "output_type": "stream",
     "text": [
      " 89%|████████▊ | 999/1128 [1:09:36<04:20,  2.02s/it]"
     ]
    },
    {
     "name": "stdout",
     "output_type": "stream",
     "text": [
      "No `images_dir` provided. Images will be unpacked to '/opt/project/data/TCGA-BH-A0GY/08-27-2001-NA-MRI BREAST-03978/105.000000-CAD sub 1-77866'\n",
      "Ignoring unsupported parameter 'overwrite' for importer type <class 'fiftyone.utils.dicom.DICOMDatasetImporter'>\n",
      " 100% |█████████████████| 106/106 [3.1s elapsed, 0s remaining, 41.6 samples/s]      \n"
     ]
    },
    {
     "name": "stderr",
     "output_type": "stream",
     "text": [
      " 89%|████████▊ | 1000/1128 [1:09:40<05:14,  2.46s/it]"
     ]
    },
    {
     "name": "stdout",
     "output_type": "stream",
     "text": [
      "No `images_dir` provided. Images will be unpacked to '/opt/project/data/TCGA-BH-A0DZ/10-16-2002-NA-BREAST MRI-48146/102.000000-CAD sub 2-33596'\n",
      "Ignoring unsupported parameter 'overwrite' for importer type <class 'fiftyone.utils.dicom.DICOMDatasetImporter'>\n",
      " 100% |█████████████████| 102/102 [2.9s elapsed, 0s remaining, 41.1 samples/s]      \n"
     ]
    },
    {
     "name": "stderr",
     "output_type": "stream",
     "text": [
      " 89%|████████▊ | 1001/1128 [1:09:43<05:46,  2.73s/it]"
     ]
    },
    {
     "name": "stdout",
     "output_type": "stream",
     "text": [
      "No `images_dir` provided. Images will be unpacked to '/opt/project/data/TCGA-BH-A0HA/11-17-2001-NA-BREAST MRI-26938/102.000000-CAD sub 2-64765'\n",
      "Ignoring unsupported parameter 'overwrite' for importer type <class 'fiftyone.utils.dicom.DICOMDatasetImporter'>\n",
      " 100% |███████████████████| 92/92 [2.7s elapsed, 0s remaining, 42.4 samples/s]      \n"
     ]
    },
    {
     "name": "stderr",
     "output_type": "stream",
     "text": [
      " 89%|████████▉ | 1002/1128 [1:09:46<05:56,  2.83s/it]"
     ]
    },
    {
     "name": "stdout",
     "output_type": "stream",
     "text": [
      "No `images_dir` provided. Images will be unpacked to '/opt/project/data/TCGA-BH-A0HI/03-14-2002-NA-BREAST MRI-85477/103.000000-CAD sub 3-33161'\n",
      "Ignoring unsupported parameter 'overwrite' for importer type <class 'fiftyone.utils.dicom.DICOMDatasetImporter'>\n",
      " 100% |███████████████████| 70/70 [2.2s elapsed, 0s remaining, 41.0 samples/s]      \n"
     ]
    },
    {
     "name": "stderr",
     "output_type": "stream",
     "text": [
      " 89%|████████▉ | 1003/1128 [1:09:49<05:43,  2.75s/it]"
     ]
    },
    {
     "name": "stdout",
     "output_type": "stream",
     "text": [
      "No `images_dir` provided. Images will be unpacked to '/opt/project/data/TCGA-E2-A109/03-23-2000-NA-MR BREAST BILATERAL WWO CONT-06870/1.000000-3-PLANE LOCALIZER-91023'\n",
      "Ignoring unsupported parameter 'overwrite' for importer type <class 'fiftyone.utils.dicom.DICOMDatasetImporter'>\n",
      " 100% |███████████████████| 27/27 [1.1s elapsed, 0s remaining, 24.2 samples/s]         \n"
     ]
    },
    {
     "name": "stderr",
     "output_type": "stream",
     "text": [
      " 89%|████████▉ | 1004/1128 [1:09:50<04:49,  2.33s/it]"
     ]
    },
    {
     "name": "stdout",
     "output_type": "stream",
     "text": [
      "No `images_dir` provided. Images will be unpacked to '/opt/project/data/TCGA-AO-A03M/03-15-2001-NA-NA-80891/2.000000-T2 left breast-50265'\n",
      "Ignoring unsupported parameter 'overwrite' for importer type <class 'fiftyone.utils.dicom.DICOMDatasetImporter'>\n",
      " 100% |███████████████████| 33/33 [1.2s elapsed, 0s remaining, 27.3 samples/s]         \n"
     ]
    },
    {
     "name": "stderr",
     "output_type": "stream",
     "text": [
      " 89%|████████▉ | 1005/1128 [1:09:51<04:14,  2.07s/it]"
     ]
    },
    {
     "name": "stdout",
     "output_type": "stream",
     "text": [
      "No `images_dir` provided. Images will be unpacked to '/opt/project/data/TCGA-BH-A0H6/02-03-2002-NA-MRI BREAST-85463/3.000000-AX STIR-WaterSat-23623'\n",
      "Ignoring unsupported parameter 'overwrite' for importer type <class 'fiftyone.utils.dicom.DICOMDatasetImporter'>\n",
      " 100% |███████████████████| 34/34 [1.3s elapsed, 0s remaining, 25.2 samples/s]         \n"
     ]
    },
    {
     "name": "stderr",
     "output_type": "stream",
     "text": [
      " 89%|████████▉ | 1006/1128 [1:09:53<03:55,  1.93s/it]"
     ]
    },
    {
     "name": "stdout",
     "output_type": "stream",
     "text": [
      "No `images_dir` provided. Images will be unpacked to '/opt/project/data/TCGA-BH-A0DI/11-25-2002-NA-BIOPSY-71577/1.000000-3 plane loc-86301'\n",
      "Ignoring unsupported parameter 'overwrite' for importer type <class 'fiftyone.utils.dicom.DICOMDatasetImporter'>\n",
      " 100% |███████████████████| 29/29 [1.1s elapsed, 0s remaining, 25.7 samples/s]         \n"
     ]
    },
    {
     "name": "stderr",
     "output_type": "stream",
     "text": [
      " 89%|████████▉ | 1007/1128 [1:09:54<03:33,  1.77s/it]"
     ]
    },
    {
     "name": "stdout",
     "output_type": "stream",
     "text": [
      "No `images_dir` provided. Images will be unpacked to '/opt/project/data/TCGA-AO-A0JI/11-06-2001-NA-NA-80329/106.000000-PJN-93359'\n",
      "Ignoring unsupported parameter 'overwrite' for importer type <class 'fiftyone.utils.dicom.DICOMDatasetImporter'>\n",
      " 100% |███████████████████| 13/13 [716.6ms elapsed, 0s remaining, 18.2 samples/s]      \n"
     ]
    },
    {
     "name": "stderr",
     "output_type": "stream",
     "text": [
      " 89%|████████▉ | 1008/1128 [1:09:55<03:01,  1.51s/it]"
     ]
    },
    {
     "name": "stdout",
     "output_type": "stream",
     "text": [
      "No `images_dir` provided. Images will be unpacked to '/opt/project/data/TCGA-BH-A0HA/11-17-2001-NA-BREAST MRI-26938/1001.000000-CAD VOLUME-66531'\n",
      "Ignoring unsupported parameter 'overwrite' for importer type <class 'fiftyone.utils.dicom.DICOMDatasetImporter'>\n",
      " 100% |█████████████████████| 4/4 [665.1ms elapsed, 0s remaining, 6.0 samples/s]   \n"
     ]
    },
    {
     "name": "stderr",
     "output_type": "stream",
     "text": [
      " 89%|████████▉ | 1009/1128 [1:09:56<02:35,  1.31s/it]"
     ]
    },
    {
     "name": "stdout",
     "output_type": "stream",
     "text": [
      "No `images_dir` provided. Images will be unpacked to '/opt/project/data/TCGA-BH-A18H/02-03-2004-NA-BREAST MRI-53089/102.000000-CAD sub 2-00421'\n",
      "Ignoring unsupported parameter 'overwrite' for importer type <class 'fiftyone.utils.dicom.DICOMDatasetImporter'>\n",
      " 100% |█████████████████| 112/112 [3.2s elapsed, 0s remaining, 42.5 samples/s]      \n"
     ]
    },
    {
     "name": "stderr",
     "output_type": "stream",
     "text": [
      " 90%|████████▉ | 1010/1128 [1:10:00<03:56,  2.01s/it]"
     ]
    },
    {
     "name": "stdout",
     "output_type": "stream",
     "text": [
      "No `images_dir` provided. Images will be unpacked to '/opt/project/data/TCGA-AO-A12F/10-16-2000-NA-NA-19596/103.000000-Bind5647653..104-73450'\n",
      "Ignoring unsupported parameter 'overwrite' for importer type <class 'fiftyone.utils.dicom.DICOMDatasetImporter'>\n",
      " 100% |███████████████████| 52/52 [1.6s elapsed, 0s remaining, 32.4 samples/s]      \n"
     ]
    },
    {
     "name": "stderr",
     "output_type": "stream",
     "text": [
      " 90%|████████▉ | 1011/1128 [1:10:02<03:51,  1.98s/it]"
     ]
    },
    {
     "name": "stdout",
     "output_type": "stream",
     "text": [
      "No `images_dir` provided. Images will be unpacked to '/opt/project/data/TCGA-E2-A14S/03-02-2001-NA-MR BREAST BILATERAL WWO CONT-85661/2.000000-SAG T1 PRE-18239'\n",
      "Ignoring unsupported parameter 'overwrite' for importer type <class 'fiftyone.utils.dicom.DICOMDatasetImporter'>\n",
      " 100% |█████████████████| 132/132 [3.4s elapsed, 0s remaining, 44.0 samples/s]       \n"
     ]
    },
    {
     "name": "stderr",
     "output_type": "stream",
     "text": [
      " 90%|████████▉ | 1012/1128 [1:10:06<05:01,  2.60s/it]"
     ]
    },
    {
     "name": "stdout",
     "output_type": "stream",
     "text": [
      "No `images_dir` provided. Images will be unpacked to '/opt/project/data/TCGA-BH-A0HX/11-05-2001-NA-BREAST MRI-23277/1.000000-3 plane loc-77910'\n",
      "Ignoring unsupported parameter 'overwrite' for importer type <class 'fiftyone.utils.dicom.DICOMDatasetImporter'>\n",
      " 100% |███████████████████| 29/29 [1.2s elapsed, 0s remaining, 24.1 samples/s]         \n"
     ]
    },
    {
     "name": "stderr",
     "output_type": "stream",
     "text": [
      " 90%|████████▉ | 1013/1128 [1:10:07<04:19,  2.26s/it]"
     ]
    },
    {
     "name": "stdout",
     "output_type": "stream",
     "text": [
      "No `images_dir` provided. Images will be unpacked to '/opt/project/data/TCGA-E2-A15L/07-18-2002-NA-MR BREAST BILATERAL WWO CONT-99306/4.000000-SAG T2 FAT-SAT RIGHT-43202'\n",
      "Ignoring unsupported parameter 'overwrite' for importer type <class 'fiftyone.utils.dicom.DICOMDatasetImporter'>\n",
      " 100% |███████████████████| 61/61 [2.2s elapsed, 0s remaining, 36.1 samples/s]      \n"
     ]
    },
    {
     "name": "stderr",
     "output_type": "stream",
     "text": [
      " 90%|████████▉ | 1014/1128 [1:10:10<04:26,  2.34s/it]"
     ]
    },
    {
     "name": "stdout",
     "output_type": "stream",
     "text": [
      "No `images_dir` provided. Images will be unpacked to '/opt/project/data/TCGA-BH-A0EI/02-17-2002-NA-BREAST MRI-14232/4.000000-Ax Vibrant MULTIPHASE-16094'\n",
      "Ignoring unsupported parameter 'overwrite' for importer type <class 'fiftyone.utils.dicom.DICOMDatasetImporter'>\n",
      " 100% |█████████████████| 400/400 [11.1s elapsed, 0s remaining, 39.1 samples/s]      \n"
     ]
    },
    {
     "name": "stderr",
     "output_type": "stream",
     "text": [
      " 90%|████████▉ | 1015/1128 [1:10:22<09:59,  5.30s/it]"
     ]
    },
    {
     "name": "stdout",
     "output_type": "stream",
     "text": [
      "No `images_dir` provided. Images will be unpacked to '/opt/project/data/TCGA-BH-A0H6/02-03-2002-NA-MRI BREAST-85463/1001.000000-CAD VOLUME-66616'\n",
      "Ignoring unsupported parameter 'overwrite' for importer type <class 'fiftyone.utils.dicom.DICOMDatasetImporter'>\n",
      " 100% |█████████████████████| 4/4 [673.7ms elapsed, 0s remaining, 5.9 samples/s]   \n"
     ]
    },
    {
     "name": "stderr",
     "output_type": "stream",
     "text": [
      " 90%|█████████ | 1016/1128 [1:10:23<07:23,  3.96s/it]"
     ]
    },
    {
     "name": "stdout",
     "output_type": "stream",
     "text": [
      "No `images_dir` provided. Images will be unpacked to '/opt/project/data/TCGA-AO-A03M/03-15-2001-NA-NA-80891/103.000000-Bind11251651..96-49431'\n",
      "Ignoring unsupported parameter 'overwrite' for importer type <class 'fiftyone.utils.dicom.DICOMDatasetImporter'>\n",
      " 100% |███████████████████| 46/46 [1.5s elapsed, 0s remaining, 30.5 samples/s]      \n"
     ]
    },
    {
     "name": "stderr",
     "output_type": "stream",
     "text": [
      " 90%|█████████ | 1017/1128 [1:10:25<06:07,  3.31s/it]"
     ]
    },
    {
     "name": "stdout",
     "output_type": "stream",
     "text": [
      "No `images_dir` provided. Images will be unpacked to '/opt/project/data/TCGA-E2-A14P/10-13-2000-NA-MR BREAST BILATERAL WWO CONT-27050/4.000000-SAG T2 FAT-SAT-00277'\n",
      "Ignoring unsupported parameter 'overwrite' for importer type <class 'fiftyone.utils.dicom.DICOMDatasetImporter'>\n",
      " 100% |█████████████████| 114/114 [3.1s elapsed, 0s remaining, 42.0 samples/s]      \n"
     ]
    },
    {
     "name": "stderr",
     "output_type": "stream",
     "text": [
      " 90%|█████████ | 1018/1128 [1:10:28<06:18,  3.44s/it]"
     ]
    },
    {
     "name": "stdout",
     "output_type": "stream",
     "text": [
      "No `images_dir` provided. Images will be unpacked to '/opt/project/data/TCGA-BH-A0BT/06-01-2000-NA-BREAST MRI-32173/4.000000-Sag Vibrant Pre-10808'\n",
      "Ignoring unsupported parameter 'overwrite' for importer type <class 'fiftyone.utils.dicom.DICOMDatasetImporter'>\n",
      " 100% |█████████████████| 160/160 [4.0s elapsed, 0s remaining, 44.8 samples/s]       \n"
     ]
    },
    {
     "name": "stderr",
     "output_type": "stream",
     "text": [
      " 90%|█████████ | 1019/1128 [1:10:33<06:53,  3.79s/it]"
     ]
    },
    {
     "name": "stdout",
     "output_type": "stream",
     "text": [
      "No `images_dir` provided. Images will be unpacked to '/opt/project/data/TCGA-AO-A12G/03-29-2001-NA-NA-34806/111.000000-T1 Sagittal post fat sat-49341'\n",
      "Ignoring unsupported parameter 'overwrite' for importer type <class 'fiftyone.utils.dicom.DICOMDatasetImporter'>\n",
      " 100% |███████████████████| 41/41 [1.4s elapsed, 0s remaining, 28.4 samples/s]      \n"
     ]
    },
    {
     "name": "stderr",
     "output_type": "stream",
     "text": [
      " 90%|█████████ | 1020/1128 [1:10:35<05:42,  3.17s/it]"
     ]
    },
    {
     "name": "stdout",
     "output_type": "stream",
     "text": [
      "No `images_dir` provided. Images will be unpacked to '/opt/project/data/TCGA-AR-A24S/11-25-1999-NA-MRI - BREAST-35077/101.000000-101858186-10185810-65329'\n",
      "Ignoring unsupported parameter 'overwrite' for importer type <class 'fiftyone.utils.dicom.DICOMDatasetImporter'>\n",
      " 100% |███████████████████| 88/88 [2.1s elapsed, 0s remaining, 51.2 samples/s]      \n"
     ]
    },
    {
     "name": "stderr",
     "output_type": "stream",
     "text": [
      " 91%|█████████ | 1021/1128 [1:10:37<05:17,  2.97s/it]"
     ]
    },
    {
     "name": "stdout",
     "output_type": "stream",
     "text": [
      "No `images_dir` provided. Images will be unpacked to '/opt/project/data/TCGA-BH-A0H5/06-20-2001-NA-BREAST MRI-23793/102.000000-CAD sub 2-55359'\n",
      "Ignoring unsupported parameter 'overwrite' for importer type <class 'fiftyone.utils.dicom.DICOMDatasetImporter'>\n",
      " 100% |███████████████████| 90/90 [2.6s elapsed, 0s remaining, 42.1 samples/s]      \n"
     ]
    },
    {
     "name": "stderr",
     "output_type": "stream",
     "text": [
      " 91%|█████████ | 1022/1128 [1:10:40<05:16,  2.99s/it]"
     ]
    },
    {
     "name": "stdout",
     "output_type": "stream",
     "text": [
      "No `images_dir` provided. Images will be unpacked to '/opt/project/data/TCGA-BH-A0BG/06-11-2001-NA-BREAST MRI-34066/202.000000-CAD cor reformat-56872'\n",
      "Ignoring unsupported parameter 'overwrite' for importer type <class 'fiftyone.utils.dicom.DICOMDatasetImporter'>\n",
      " 100% |█████████████████| 171/171 [4.2s elapsed, 0s remaining, 45.3 samples/s]       \n"
     ]
    },
    {
     "name": "stderr",
     "output_type": "stream",
     "text": [
      " 91%|█████████ | 1023/1128 [1:10:45<06:08,  3.51s/it]"
     ]
    },
    {
     "name": "stdout",
     "output_type": "stream",
     "text": [
      "No `images_dir` provided. Images will be unpacked to '/opt/project/data/TCGA-BH-A0B5/10-26-2000-NA-BREAST MRI-16171/101.000000-CAD REG CAD Sub 2-57500'\n",
      "Ignoring unsupported parameter 'overwrite' for importer type <class 'fiftyone.utils.dicom.DICOMDatasetImporter'>\n",
      " 100% |███████████████████| 70/70 [2.2s elapsed, 0s remaining, 41.5 samples/s]      \n"
     ]
    },
    {
     "name": "stderr",
     "output_type": "stream",
     "text": [
      " 91%|█████████ | 1024/1128 [1:10:48<05:38,  3.25s/it]"
     ]
    },
    {
     "name": "stdout",
     "output_type": "stream",
     "text": [
      "No `images_dir` provided. Images will be unpacked to '/opt/project/data/TCGA-BH-A0EI/02-17-2002-NA-BREAST MRI-14232/103.000000-CAD sub 3-80400'\n",
      "Ignoring unsupported parameter 'overwrite' for importer type <class 'fiftyone.utils.dicom.DICOMDatasetImporter'>\n",
      " 100% |███████████████████| 80/80 [2.4s elapsed, 0s remaining, 42.5 samples/s]      \n"
     ]
    },
    {
     "name": "stderr",
     "output_type": "stream",
     "text": [
      " 91%|█████████ | 1025/1128 [1:10:50<05:18,  3.10s/it]"
     ]
    },
    {
     "name": "stdout",
     "output_type": "stream",
     "text": [
      "No `images_dir` provided. Images will be unpacked to '/opt/project/data/TCGA-BH-A0HX/11-05-2001-NA-BREAST MRI-23277/3.000000-AX STIR-WaterSat-96359'\n",
      "Ignoring unsupported parameter 'overwrite' for importer type <class 'fiftyone.utils.dicom.DICOMDatasetImporter'>\n",
      " 100% |███████████████████| 42/42 [1.5s elapsed, 0s remaining, 27.5 samples/s]      \n"
     ]
    },
    {
     "name": "stderr",
     "output_type": "stream",
     "text": [
      " 91%|█████████ | 1026/1128 [1:10:52<04:37,  2.72s/it]"
     ]
    },
    {
     "name": "stdout",
     "output_type": "stream",
     "text": [
      "No `images_dir` provided. Images will be unpacked to '/opt/project/data/TCGA-BH-A0E0/04-06-2003-NA-BREAST MRI-53761/2000.000000-CAD MIP-83091'\n",
      "Ignoring unsupported parameter 'overwrite' for importer type <class 'fiftyone.utils.dicom.DICOMDatasetImporter'>\n",
      " 100% |███████████████████| 45/45 [1.7s elapsed, 0s remaining, 27.3 samples/s]      \n"
     ]
    },
    {
     "name": "stderr",
     "output_type": "stream",
     "text": [
      " 91%|█████████ | 1027/1128 [1:10:54<04:10,  2.48s/it]"
     ]
    },
    {
     "name": "stdout",
     "output_type": "stream",
     "text": [
      "No `images_dir` provided. Images will be unpacked to '/opt/project/data/TCGA-AO-A0J9/05-11-2001-NA-NA-96851/107.000000-Bind154777178..232-01321'\n",
      "Ignoring unsupported parameter 'overwrite' for importer type <class 'fiftyone.utils.dicom.DICOMDatasetImporter'>\n",
      " 100% |███████████████████| 55/55 [1.7s elapsed, 0s remaining, 32.7 samples/s]      \n"
     ]
    },
    {
     "name": "stderr",
     "output_type": "stream",
     "text": [
      " 91%|█████████ | 1028/1128 [1:10:56<03:53,  2.33s/it]"
     ]
    },
    {
     "name": "stdout",
     "output_type": "stream",
     "text": [
      "No `images_dir` provided. Images will be unpacked to '/opt/project/data/TCGA-E2-A14Y/10-03-2001-NA-MR BREAST BILATERAL WWO CONT-22306/8.000000-SAG 3D POST-CONTRAST-73377'\n",
      "Ignoring unsupported parameter 'overwrite' for importer type <class 'fiftyone.utils.dicom.DICOMDatasetImporter'>\n",
      " 100% |█████████████████| 384/384 [9.8s elapsed, 0s remaining, 40.8 samples/s]       \n"
     ]
    },
    {
     "name": "stderr",
     "output_type": "stream",
     "text": [
      " 91%|█████████ | 1029/1128 [1:11:07<08:04,  4.89s/it]"
     ]
    },
    {
     "name": "stdout",
     "output_type": "stream",
     "text": [
      "No `images_dir` provided. Images will be unpacked to '/opt/project/data/TCGA-E2-A1B1/12-21-1999-NA-MR BREAST BILATERAL WWO CONT-74167/8.000000-SAG 3D PRE-CONTRAST-23640'\n",
      "Ignoring unsupported parameter 'overwrite' for importer type <class 'fiftyone.utils.dicom.DICOMDatasetImporter'>\n",
      " 100% |█████████████████| 120/120 [3.3s elapsed, 0s remaining, 45.4 samples/s]      \n"
     ]
    },
    {
     "name": "stderr",
     "output_type": "stream",
     "text": [
      " 91%|█████████▏| 1030/1128 [1:11:11<07:25,  4.54s/it]"
     ]
    },
    {
     "name": "stdout",
     "output_type": "stream",
     "text": [
      "No `images_dir` provided. Images will be unpacked to '/opt/project/data/TCGA-AO-A12G/03-29-2001-NA-NA-34806/117.000000-RIGHT-74637'\n",
      "Ignoring unsupported parameter 'overwrite' for importer type <class 'fiftyone.utils.dicom.DICOMDatasetImporter'>\n",
      " 100% |███████████████████| 13/13 [865.7ms elapsed, 0s remaining, 15.0 samples/s]      \n"
     ]
    },
    {
     "name": "stderr",
     "output_type": "stream",
     "text": [
      " 91%|█████████▏| 1031/1128 [1:11:12<05:39,  3.50s/it]"
     ]
    },
    {
     "name": "stdout",
     "output_type": "stream",
     "text": [
      "No `images_dir` provided. Images will be unpacked to '/opt/project/data/TCGA-BH-A0HX/11-05-2001-NA-BREAST MRI-23277/2000.000000-CAD MIP-63703'\n",
      "Ignoring unsupported parameter 'overwrite' for importer type <class 'fiftyone.utils.dicom.DICOMDatasetImporter'>\n",
      " 100% |███████████████████| 45/45 [1.7s elapsed, 0s remaining, 27.0 samples/s]      \n"
     ]
    },
    {
     "name": "stderr",
     "output_type": "stream",
     "text": [
      " 91%|█████████▏| 1032/1128 [1:11:14<04:51,  3.03s/it]"
     ]
    },
    {
     "name": "stdout",
     "output_type": "stream",
     "text": [
      "No `images_dir` provided. Images will be unpacked to '/opt/project/data/TCGA-BH-A0AW/02-19-2002-NA-BREAST MRI-78041/4.000000-Ax Vibrant MULTIPHASE-14966'\n",
      "Ignoring unsupported parameter 'overwrite' for importer type <class 'fiftyone.utils.dicom.DICOMDatasetImporter'>\n",
      " 100% |█████████████████| 440/440 [12.1s elapsed, 0s remaining, 36.5 samples/s]      \n"
     ]
    },
    {
     "name": "stderr",
     "output_type": "stream",
     "text": [
      " 92%|█████████▏| 1033/1128 [1:11:27<09:46,  6.17s/it]"
     ]
    },
    {
     "name": "stdout",
     "output_type": "stream",
     "text": [
      "No `images_dir` provided. Images will be unpacked to '/opt/project/data/TCGA-AR-A24X/05-31-2001-NA-MRI - BREAST-56773/2.000000-ax t1-37775'\n",
      "Ignoring unsupported parameter 'overwrite' for importer type <class 'fiftyone.utils.dicom.DICOMDatasetImporter'>\n",
      " 100% |███████████████████| 45/45 [1.7s elapsed, 0s remaining, 26.8 samples/s]      \n"
     ]
    },
    {
     "name": "stderr",
     "output_type": "stream",
     "text": [
      " 92%|█████████▏| 1034/1128 [1:11:29<07:41,  4.91s/it]"
     ]
    },
    {
     "name": "stdout",
     "output_type": "stream",
     "text": [
      "No `images_dir` provided. Images will be unpacked to '/opt/project/data/TCGA-BH-A0B1/09-04-2000-NA-BREAST MRI-93235/101.000000-CAD REG CAD Sub 2-82477'\n",
      "Ignoring unsupported parameter 'overwrite' for importer type <class 'fiftyone.utils.dicom.DICOMDatasetImporter'>\n",
      " 100% |███████████████████| 90/90 [2.7s elapsed, 0s remaining, 40.6 samples/s]      \n"
     ]
    },
    {
     "name": "stderr",
     "output_type": "stream",
     "text": [
      " 92%|█████████▏| 1035/1128 [1:11:32<06:48,  4.39s/it]"
     ]
    },
    {
     "name": "stdout",
     "output_type": "stream",
     "text": [
      "No `images_dir` provided. Images will be unpacked to '/opt/project/data/TCGA-BH-A0HY/05-29-2002-NA-BREAST MRI-25536/1001.000000-CAD VOLUME-83716'\n",
      "Ignoring unsupported parameter 'overwrite' for importer type <class 'fiftyone.utils.dicom.DICOMDatasetImporter'>\n",
      " 100% |█████████████████████| 4/4 [649.0ms elapsed, 0s remaining, 6.2 samples/s]   \n"
     ]
    },
    {
     "name": "stderr",
     "output_type": "stream",
     "text": [
      " 92%|█████████▏| 1036/1128 [1:11:33<05:05,  3.32s/it]"
     ]
    },
    {
     "name": "stdout",
     "output_type": "stream",
     "text": [
      "No `images_dir` provided. Images will be unpacked to '/opt/project/data/TCGA-AO-A0J9/05-11-2001-NA-NA-96851/105.000000-Bind15477762..116-88319'\n",
      "Ignoring unsupported parameter 'overwrite' for importer type <class 'fiftyone.utils.dicom.DICOMDatasetImporter'>\n",
      " 100% |███████████████████| 55/55 [1.6s elapsed, 0s remaining, 33.4 samples/s]      \n"
     ]
    },
    {
     "name": "stderr",
     "output_type": "stream",
     "text": [
      " 92%|█████████▏| 1037/1128 [1:11:35<04:25,  2.92s/it]"
     ]
    },
    {
     "name": "stdout",
     "output_type": "stream",
     "text": [
      "No `images_dir` provided. Images will be unpacked to '/opt/project/data/TCGA-AO-A12E/02-01-2000-NA-NA-34890/100.000000-NA-78154'\n",
      "Ignoring unsupported parameter 'overwrite' for importer type <class 'fiftyone.utils.dicom.DICOMDatasetImporter'>\n",
      " 100% |███████████████████| 60/60 [1.7s elapsed, 0s remaining, 36.1 samples/s]      \n"
     ]
    },
    {
     "name": "stderr",
     "output_type": "stream",
     "text": [
      " 92%|█████████▏| 1038/1128 [1:11:37<03:56,  2.63s/it]"
     ]
    },
    {
     "name": "stdout",
     "output_type": "stream",
     "text": [
      "No `images_dir` provided. Images will be unpacked to '/opt/project/data/TCGA-AO-A12E/02-01-2000-NA-NA-34890/106.000000-NA-32228'\n",
      "Ignoring unsupported parameter 'overwrite' for importer type <class 'fiftyone.utils.dicom.DICOMDatasetImporter'>\n",
      " 100% |███████████████████| 60/60 [1.6s elapsed, 0s remaining, 37.2 samples/s]      \n"
     ]
    },
    {
     "name": "stderr",
     "output_type": "stream",
     "text": [
      " 92%|█████████▏| 1039/1128 [1:11:39<03:36,  2.43s/it]"
     ]
    },
    {
     "name": "stdout",
     "output_type": "stream",
     "text": [
      "No `images_dir` provided. Images will be unpacked to '/opt/project/data/TCGA-BH-A0HI/03-14-2002-NA-BREAST MRI-85477/4.000000-Ax Vibrant MULTIPHASE-01053'\n",
      "Ignoring unsupported parameter 'overwrite' for importer type <class 'fiftyone.utils.dicom.DICOMDatasetImporter'>\n",
      " 100% |█████████████████| 350/350 [9.6s elapsed, 0s remaining, 39.0 samples/s]       \n"
     ]
    },
    {
     "name": "stderr",
     "output_type": "stream",
     "text": [
      " 92%|█████████▏| 1040/1128 [1:11:50<07:09,  4.89s/it]"
     ]
    },
    {
     "name": "stdout",
     "output_type": "stream",
     "text": [
      "No `images_dir` provided. Images will be unpacked to '/opt/project/data/TCGA-E2-A15F/04-28-2002-NA-MR BREAST BILATERAL WWO CONT-08560/6.000000-SAG 3D PRE-CONTRAST-59171'\n",
      "Ignoring unsupported parameter 'overwrite' for importer type <class 'fiftyone.utils.dicom.DICOMDatasetImporter'>\n",
      " 100% |█████████████████| 128/128 [3.5s elapsed, 0s remaining, 40.6 samples/s]      \n"
     ]
    },
    {
     "name": "stderr",
     "output_type": "stream",
     "text": [
      " 92%|█████████▏| 1041/1128 [1:11:54<06:41,  4.62s/it]"
     ]
    },
    {
     "name": "stdout",
     "output_type": "stream",
     "text": [
      "No `images_dir` provided. Images will be unpacked to '/opt/project/data/TCGA-BH-A0DV/11-29-2000-NA-BREAST MRI-88132/5.000000-Ax Vibrant MULTIPHASE-30808'\n",
      "Ignoring unsupported parameter 'overwrite' for importer type <class 'fiftyone.utils.dicom.DICOMDatasetImporter'>\n",
      " 100% |█████████████████| 410/410 [11.3s elapsed, 0s remaining, 37.7 samples/s]      \n"
     ]
    },
    {
     "name": "stderr",
     "output_type": "stream",
     "text": [
      " 92%|█████████▏| 1042/1128 [1:12:06<10:02,  7.00s/it]"
     ]
    },
    {
     "name": "stdout",
     "output_type": "stream",
     "text": [
      "No `images_dir` provided. Images will be unpacked to '/opt/project/data/TCGA-BH-A0H5/06-20-2001-NA-BREAST MRI-23793/2000.000000-CAD MIP-46663'\n",
      "Ignoring unsupported parameter 'overwrite' for importer type <class 'fiftyone.utils.dicom.DICOMDatasetImporter'>\n",
      " 100% |███████████████████| 45/45 [1.8s elapsed, 0s remaining, 25.5 samples/s]      \n"
     ]
    },
    {
     "name": "stderr",
     "output_type": "stream",
     "text": [
      " 92%|█████████▏| 1043/1128 [1:12:08<07:49,  5.52s/it]"
     ]
    },
    {
     "name": "stdout",
     "output_type": "stream",
     "text": [
      "No `images_dir` provided. Images will be unpacked to '/opt/project/data/TCGA-BH-A0B6/10-18-1999-NA-BREAST MRI-60819/2000.000000-CAD MIP Collection-59981'\n",
      "Ignoring unsupported parameter 'overwrite' for importer type <class 'fiftyone.utils.dicom.DICOMDatasetImporter'>\n",
      " 100% |███████████████████| 45/45 [1.7s elapsed, 0s remaining, 27.1 samples/s]      \n"
     ]
    },
    {
     "name": "stderr",
     "output_type": "stream",
     "text": [
      " 93%|█████████▎| 1044/1128 [1:12:10<06:13,  4.45s/it]"
     ]
    },
    {
     "name": "stdout",
     "output_type": "stream",
     "text": [
      "No `images_dir` provided. Images will be unpacked to '/opt/project/data/TCGA-BH-A0H7/03-26-2002-NA-BREAST MRI-96862/3.000000-AX STIR-WaterSat-94724'\n",
      "Ignoring unsupported parameter 'overwrite' for importer type <class 'fiftyone.utils.dicom.DICOMDatasetImporter'>\n",
      " 100% |███████████████████| 28/28 [1.2s elapsed, 0s remaining, 22.7 samples/s]         \n"
     ]
    },
    {
     "name": "stderr",
     "output_type": "stream",
     "text": [
      " 93%|█████████▎| 1045/1128 [1:12:12<04:54,  3.55s/it]"
     ]
    },
    {
     "name": "stdout",
     "output_type": "stream",
     "text": [
      "No `images_dir` provided. Images will be unpacked to '/opt/project/data/TCGA-BH-A0C0/08-20-2000-NA-BREAST MRI-05483/3.000000-AX STIR-WaterSat-41146'\n",
      "Ignoring unsupported parameter 'overwrite' for importer type <class 'fiftyone.utils.dicom.DICOMDatasetImporter'>\n",
      " 100% |███████████████████| 39/39 [1.5s elapsed, 0s remaining, 26.4 samples/s]      \n"
     ]
    },
    {
     "name": "stderr",
     "output_type": "stream",
     "text": [
      " 93%|█████████▎| 1046/1128 [1:12:13<04:06,  3.01s/it]"
     ]
    },
    {
     "name": "stdout",
     "output_type": "stream",
     "text": [
      "No `images_dir` provided. Images will be unpacked to '/opt/project/data/TCGA-BH-A18F/12-22-2003-NA-BREAST MRI-50626/2000.000000-CAD MIP-37325'\n",
      "Ignoring unsupported parameter 'overwrite' for importer type <class 'fiftyone.utils.dicom.DICOMDatasetImporter'>\n",
      " 100% |███████████████████| 45/45 [1.7s elapsed, 0s remaining, 26.5 samples/s]      \n"
     ]
    },
    {
     "name": "stderr",
     "output_type": "stream",
     "text": [
      " 93%|█████████▎| 1047/1128 [1:12:15<03:40,  2.72s/it]"
     ]
    },
    {
     "name": "stdout",
     "output_type": "stream",
     "text": [
      "No `images_dir` provided. Images will be unpacked to '/opt/project/data/TCGA-BH-A0DH/01-09-2001-NA-BREAST MRI-58184/2.000000-Calibration Scan-36816'\n",
      "Ignoring unsupported parameter 'overwrite' for importer type <class 'fiftyone.utils.dicom.DICOMDatasetImporter'>\n",
      " 100% |███████████████████| 92/92 [2.4s elapsed, 0s remaining, 48.1 samples/s]      \n"
     ]
    },
    {
     "name": "stderr",
     "output_type": "stream",
     "text": [
      " 93%|█████████▎| 1048/1128 [1:12:18<03:41,  2.77s/it]"
     ]
    },
    {
     "name": "stdout",
     "output_type": "stream",
     "text": [
      "No `images_dir` provided. Images will be unpacked to '/opt/project/data/TCGA-AO-A12E/02-01-2000-NA-NA-34890/2.000000-T2 left breast-90225'\n",
      "Ignoring unsupported parameter 'overwrite' for importer type <class 'fiftyone.utils.dicom.DICOMDatasetImporter'>\n",
      " 100% |███████████████████| 48/48 [1.5s elapsed, 0s remaining, 31.2 samples/s]      \n"
     ]
    },
    {
     "name": "stderr",
     "output_type": "stream",
     "text": [
      " 93%|█████████▎| 1049/1128 [1:12:20<03:19,  2.52s/it]"
     ]
    },
    {
     "name": "stdout",
     "output_type": "stream",
     "text": [
      "No `images_dir` provided. Images will be unpacked to '/opt/project/data/TCGA-BH-A0AW/02-19-2002-NA-BREAST MRI-78041/105.000000-CAD sub 1-93030'\n",
      "Ignoring unsupported parameter 'overwrite' for importer type <class 'fiftyone.utils.dicom.DICOMDatasetImporter'>\n",
      " 100% |███████████████████| 88/88 [2.7s elapsed, 0s remaining, 41.2 samples/s]      \n"
     ]
    },
    {
     "name": "stderr",
     "output_type": "stream",
     "text": [
      " 93%|█████████▎| 1050/1128 [1:12:23<03:29,  2.68s/it]"
     ]
    },
    {
     "name": "stdout",
     "output_type": "stream",
     "text": [
      "No `images_dir` provided. Images will be unpacked to '/opt/project/data/TCGA-BH-A0C0/08-20-2000-NA-BREAST MRI-05483/1.000000-3 plane loc-68877'\n",
      "Ignoring unsupported parameter 'overwrite' for importer type <class 'fiftyone.utils.dicom.DICOMDatasetImporter'>\n",
      " 100% |███████████████████| 29/29 [1.1s elapsed, 0s remaining, 25.3 samples/s]         \n"
     ]
    },
    {
     "name": "stderr",
     "output_type": "stream",
     "text": [
      " 93%|█████████▎| 1051/1128 [1:12:25<02:56,  2.29s/it]"
     ]
    },
    {
     "name": "stdout",
     "output_type": "stream",
     "text": [
      "No `images_dir` provided. Images will be unpacked to '/opt/project/data/TCGA-BH-A0E1/11-04-2002-NA-BREAST MRI-66574/101.000000-CAD sub 4-01942'\n",
      "Ignoring unsupported parameter 'overwrite' for importer type <class 'fiftyone.utils.dicom.DICOMDatasetImporter'>\n",
      " 100% |███████████████████| 80/80 [2.7s elapsed, 0s remaining, 36.5 samples/s]      \n"
     ]
    },
    {
     "name": "stderr",
     "output_type": "stream",
     "text": [
      " 93%|█████████▎| 1052/1128 [1:12:28<03:11,  2.52s/it]"
     ]
    },
    {
     "name": "stdout",
     "output_type": "stream",
     "text": [
      "No `images_dir` provided. Images will be unpacked to '/opt/project/data/TCGA-AO-A12G/03-29-2001-NA-NA-34806/119.000000-RIGHT-68655'\n",
      "Ignoring unsupported parameter 'overwrite' for importer type <class 'fiftyone.utils.dicom.DICOMDatasetImporter'>\n",
      " 100% |███████████████████| 13/13 [837.7ms elapsed, 0s remaining, 15.5 samples/s]      \n"
     ]
    },
    {
     "name": "stderr",
     "output_type": "stream",
     "text": [
      " 93%|█████████▎| 1053/1128 [1:12:29<02:35,  2.07s/it]"
     ]
    },
    {
     "name": "stdout",
     "output_type": "stream",
     "text": [
      "No `images_dir` provided. Images will be unpacked to '/opt/project/data/TCGA-BH-A0W5/07-25-2001-NA-MRI BREAST-10788/3.000000-AX STIR-WaterSat-94988'\n",
      "Ignoring unsupported parameter 'overwrite' for importer type <class 'fiftyone.utils.dicom.DICOMDatasetImporter'>\n",
      " 100% |███████████████████| 43/43 [1.6s elapsed, 0s remaining, 27.3 samples/s]      \n"
     ]
    },
    {
     "name": "stderr",
     "output_type": "stream",
     "text": [
      " 93%|█████████▎| 1054/1128 [1:12:31<02:29,  2.03s/it]"
     ]
    },
    {
     "name": "stdout",
     "output_type": "stream",
     "text": [
      "No `images_dir` provided. Images will be unpacked to '/opt/project/data/TCGA-BH-A0W3/10-12-2003-NA-BREAST MRI-09153/5.000000-Sag Vibrant C-52116'\n",
      "Ignoring unsupported parameter 'overwrite' for importer type <class 'fiftyone.utils.dicom.DICOMDatasetImporter'>\n",
      " 100% |█████████████████| 140/140 [3.8s elapsed, 0s remaining, 41.8 samples/s]       \n"
     ]
    },
    {
     "name": "stderr",
     "output_type": "stream",
     "text": [
      " 94%|█████████▎| 1055/1128 [1:12:35<03:17,  2.71s/it]"
     ]
    },
    {
     "name": "stdout",
     "output_type": "stream",
     "text": [
      "No `images_dir` provided. Images will be unpacked to '/opt/project/data/TCGA-E2-A1II/03-29-2001-NA-MR BREAST BILATERAL WWO CONT-41862/7.000000-SAG T2 FAT-SAT RIGHT-67454'\n",
      "Ignoring unsupported parameter 'overwrite' for importer type <class 'fiftyone.utils.dicom.DICOMDatasetImporter'>\n",
      " 100% |███████████████████| 51/51 [1.8s elapsed, 0s remaining, 28.3 samples/s]      \n"
     ]
    },
    {
     "name": "stderr",
     "output_type": "stream",
     "text": [
      " 94%|█████████▎| 1056/1128 [1:12:37<03:01,  2.52s/it]"
     ]
    },
    {
     "name": "stdout",
     "output_type": "stream",
     "text": [
      "No `images_dir` provided. Images will be unpacked to '/opt/project/data/TCGA-BH-A0E1/11-04-2002-NA-BREAST MRI-66574/4.000000-Ax Vibrant MULTIPHASE-98915'\n",
      "Ignoring unsupported parameter 'overwrite' for importer type <class 'fiftyone.utils.dicom.DICOMDatasetImporter'>\n",
      " 100% |█████████████████| 400/400 [11.0s elapsed, 0s remaining, 39.3 samples/s]      \n"
     ]
    },
    {
     "name": "stderr",
     "output_type": "stream",
     "text": [
      " 94%|█████████▎| 1057/1128 [1:12:49<06:23,  5.40s/it]"
     ]
    },
    {
     "name": "stdout",
     "output_type": "stream",
     "text": [
      "No `images_dir` provided. Images will be unpacked to '/opt/project/data/TCGA-BH-A0H9/09-25-2000-NA-BREAST MRI-55072/103.000000-CAD REG CAD Sub 4-78768'\n",
      "Ignoring unsupported parameter 'overwrite' for importer type <class 'fiftyone.utils.dicom.DICOMDatasetImporter'>\n",
      " 100% |███████████████████| 70/70 [2.2s elapsed, 0s remaining, 41.0 samples/s]      \n"
     ]
    },
    {
     "name": "stderr",
     "output_type": "stream",
     "text": [
      " 94%|█████████▍| 1058/1128 [1:12:52<05:17,  4.54s/it]"
     ]
    },
    {
     "name": "stdout",
     "output_type": "stream",
     "text": [
      "No `images_dir` provided. Images will be unpacked to '/opt/project/data/TCGA-BH-A0AW/02-19-2002-NA-BREAST MRI-78041/103.000000-CAD sub 3-78113'\n",
      "Ignoring unsupported parameter 'overwrite' for importer type <class 'fiftyone.utils.dicom.DICOMDatasetImporter'>\n",
      " 100% |███████████████████| 88/88 [2.5s elapsed, 0s remaining, 43.8 samples/s]      \n"
     ]
    },
    {
     "name": "stderr",
     "output_type": "stream",
     "text": [
      " 94%|█████████▍| 1059/1128 [1:12:55<04:39,  4.06s/it]"
     ]
    },
    {
     "name": "stdout",
     "output_type": "stream",
     "text": [
      "No `images_dir` provided. Images will be unpacked to '/opt/project/data/TCGA-E2-A1IN/07-28-2002-NA-MR BREAST BILATERAL WWO CONT-40961/7.000000-SAG 3D POST-CONTRAST-04003'\n",
      "Ignoring unsupported parameter 'overwrite' for importer type <class 'fiftyone.utils.dicom.DICOMDatasetImporter'>\n",
      " 100% |█████████████████| 384/384 [10.4s elapsed, 0s remaining, 38.9 samples/s]      \n"
     ]
    },
    {
     "name": "stderr",
     "output_type": "stream",
     "text": [
      " 94%|█████████▍| 1060/1128 [1:13:06<07:09,  6.31s/it]"
     ]
    },
    {
     "name": "stdout",
     "output_type": "stream",
     "text": [
      "No `images_dir` provided. Images will be unpacked to '/opt/project/data/TCGA-BH-A0BG/06-11-2001-NA-BREAST MRI-34066/3.000000-AX STIR-WaterSat-32992'\n",
      "Ignoring unsupported parameter 'overwrite' for importer type <class 'fiftyone.utils.dicom.DICOMDatasetImporter'>\n",
      " 100% |███████████████████| 40/40 [1.5s elapsed, 0s remaining, 26.2 samples/s]      \n"
     ]
    },
    {
     "name": "stderr",
     "output_type": "stream",
     "text": [
      " 94%|█████████▍| 1061/1128 [1:13:08<05:32,  4.96s/it]"
     ]
    },
    {
     "name": "stdout",
     "output_type": "stream",
     "text": [
      "No `images_dir` provided. Images will be unpacked to '/opt/project/data/TCGA-BH-A0B6/10-18-1999-NA-BREAST MRI-60819/100.000000-CAD REG CAD Sub 1-10000'\n",
      "Ignoring unsupported parameter 'overwrite' for importer type <class 'fiftyone.utils.dicom.DICOMDatasetImporter'>\n",
      " 100% |███████████████████| 92/92 [2.7s elapsed, 0s remaining, 41.7 samples/s]      \n"
     ]
    },
    {
     "name": "stderr",
     "output_type": "stream",
     "text": [
      " 94%|█████████▍| 1062/1128 [1:13:11<04:50,  4.41s/it]"
     ]
    },
    {
     "name": "stdout",
     "output_type": "stream",
     "text": [
      "No `images_dir` provided. Images will be unpacked to '/opt/project/data/TCGA-BH-A0H9/09-25-2000-NA-BREAST MRI-55072/4.000000-Sag Vibrant Pre-94627'\n",
      "Ignoring unsupported parameter 'overwrite' for importer type <class 'fiftyone.utils.dicom.DICOMDatasetImporter'>\n",
      " 100% |█████████████████| 160/160 [4.1s elapsed, 0s remaining, 44.0 samples/s]       \n"
     ]
    },
    {
     "name": "stderr",
     "output_type": "stream",
     "text": [
      " 94%|█████████▍| 1063/1128 [1:13:16<04:51,  4.48s/it]"
     ]
    },
    {
     "name": "stdout",
     "output_type": "stream",
     "text": [
      "No `images_dir` provided. Images will be unpacked to '/opt/project/data/TCGA-AO-A12D/09-23-1999-NA-NA-51146/112.000000-PJN-85757'\n",
      "Ignoring unsupported parameter 'overwrite' for importer type <class 'fiftyone.utils.dicom.DICOMDatasetImporter'>\n",
      " 100% |███████████████████| 13/13 [762.3ms elapsed, 0s remaining, 17.1 samples/s]      \n"
     ]
    },
    {
     "name": "stderr",
     "output_type": "stream",
     "text": [
      " 94%|█████████▍| 1064/1128 [1:13:17<03:39,  3.43s/it]"
     ]
    },
    {
     "name": "stdout",
     "output_type": "stream",
     "text": [
      "No `images_dir` provided. Images will be unpacked to '/opt/project/data/TCGA-BH-A18I/01-28-2004-NA-BREAST MRI-54013/101.000000-CAD sub 4-89659'\n",
      "Ignoring unsupported parameter 'overwrite' for importer type <class 'fiftyone.utils.dicom.DICOMDatasetImporter'>\n",
      " 100% |███████████████████| 88/88 [2.6s elapsed, 0s remaining, 41.8 samples/s]      \n"
     ]
    },
    {
     "name": "stderr",
     "output_type": "stream",
     "text": [
      " 94%|█████████▍| 1065/1128 [1:13:20<03:28,  3.31s/it]"
     ]
    },
    {
     "name": "stdout",
     "output_type": "stream",
     "text": [
      "No `images_dir` provided. Images will be unpacked to '/opt/project/data/TCGA-BH-A0H9/09-25-2000-NA-BREAST MRI-55072/3.000000-AX STIR-WaterSat-47682'\n",
      "Ignoring unsupported parameter 'overwrite' for importer type <class 'fiftyone.utils.dicom.DICOMDatasetImporter'>\n",
      " 100% |███████████████████| 43/43 [1.6s elapsed, 0s remaining, 27.0 samples/s]      \n"
     ]
    },
    {
     "name": "stderr",
     "output_type": "stream",
     "text": [
      " 95%|█████████▍| 1066/1128 [1:13:22<02:58,  2.88s/it]"
     ]
    },
    {
     "name": "stdout",
     "output_type": "stream",
     "text": [
      "No `images_dir` provided. Images will be unpacked to '/opt/project/data/TCGA-BH-A202/05-24-2004-NA-BREAST MRI-87769/2000.000000-CAD MIP-13605'\n",
      "Ignoring unsupported parameter 'overwrite' for importer type <class 'fiftyone.utils.dicom.DICOMDatasetImporter'>\n",
      " 100% |███████████████████| 45/45 [1.7s elapsed, 0s remaining, 26.2 samples/s]      \n"
     ]
    },
    {
     "name": "stderr",
     "output_type": "stream",
     "text": [
      " 95%|█████████▍| 1067/1128 [1:13:24<02:39,  2.61s/it]"
     ]
    },
    {
     "name": "stdout",
     "output_type": "stream",
     "text": [
      "No `images_dir` provided. Images will be unpacked to '/opt/project/data/TCGA-E2-A15H/06-09-2002-NA-MR BREAST BILATERAL WWO CONT-16052/2.000000-SAG T1 PRE-71782'\n",
      "Ignoring unsupported parameter 'overwrite' for importer type <class 'fiftyone.utils.dicom.DICOMDatasetImporter'>\n",
      " 100% |███████████████████| 86/86 [2.4s elapsed, 0s remaining, 44.2 samples/s]      \n"
     ]
    },
    {
     "name": "stderr",
     "output_type": "stream",
     "text": [
      " 95%|█████████▍| 1068/1128 [1:13:27<02:42,  2.71s/it]"
     ]
    },
    {
     "name": "stdout",
     "output_type": "stream",
     "text": [
      "No `images_dir` provided. Images will be unpacked to '/opt/project/data/TCGA-E2-A1L9/05-03-2002-NA-MR BREAST BILATERAL WWO CONT-62542/6.000000-SAG 3D PRE-CONTRAST-61430'\n",
      "Ignoring unsupported parameter 'overwrite' for importer type <class 'fiftyone.utils.dicom.DICOMDatasetImporter'>\n",
      " 100% |█████████████████| 128/128 [3.6s elapsed, 0s remaining, 42.3 samples/s]       \n"
     ]
    },
    {
     "name": "stderr",
     "output_type": "stream",
     "text": [
      " 95%|█████████▍| 1069/1128 [1:13:31<03:04,  3.13s/it]"
     ]
    },
    {
     "name": "stdout",
     "output_type": "stream",
     "text": [
      "No `images_dir` provided. Images will be unpacked to '/opt/project/data/TCGA-E2-A1LG/11-06-2002-NA-MR BREAST BILATERAL WWO CONT-85265/2.000000-ASSET CALIBRATION-75511'\n",
      "Ignoring unsupported parameter 'overwrite' for importer type <class 'fiftyone.utils.dicom.DICOMDatasetImporter'>\n",
      " 100% |███████████████████| 74/74 [1.9s elapsed, 0s remaining, 38.2 samples/s]      \n"
     ]
    },
    {
     "name": "stderr",
     "output_type": "stream",
     "text": [
      " 95%|█████████▍| 1070/1128 [1:13:33<02:47,  2.89s/it]"
     ]
    },
    {
     "name": "stdout",
     "output_type": "stream",
     "text": [
      "No `images_dir` provided. Images will be unpacked to '/opt/project/data/TCGA-AR-A1AQ/11-21-2001-NA-MRI - BREAST-98628/102.000000-161398216-161398100-06256'\n",
      "Ignoring unsupported parameter 'overwrite' for importer type <class 'fiftyone.utils.dicom.DICOMDatasetImporter'>\n",
      " 100% |█████████████████| 116/116 [2.6s elapsed, 0s remaining, 52.6 samples/s]      \n"
     ]
    },
    {
     "name": "stderr",
     "output_type": "stream",
     "text": [
      " 95%|█████████▍| 1071/1128 [1:13:36<02:48,  2.95s/it]"
     ]
    },
    {
     "name": "stdout",
     "output_type": "stream",
     "text": [
      "No `images_dir` provided. Images will be unpacked to '/opt/project/data/TCGA-AO-A0J9/05-11-2001-NA-NA-96851/104.000000-Bind1547771..61-22532'\n",
      "Ignoring unsupported parameter 'overwrite' for importer type <class 'fiftyone.utils.dicom.DICOMDatasetImporter'>\n",
      " 100% |███████████████████| 61/61 [1.7s elapsed, 0s remaining, 35.1 samples/s]      \n"
     ]
    },
    {
     "name": "stderr",
     "output_type": "stream",
     "text": [
      " 95%|█████████▌| 1072/1128 [1:13:38<02:30,  2.68s/it]"
     ]
    },
    {
     "name": "stdout",
     "output_type": "stream",
     "text": [
      "No `images_dir` provided. Images will be unpacked to '/opt/project/data/TCGA-BH-A0HX/11-05-2001-NA-BREAST MRI-23277/1001.000000-CAD VOLUME-61937'\n",
      "Ignoring unsupported parameter 'overwrite' for importer type <class 'fiftyone.utils.dicom.DICOMDatasetImporter'>\n",
      " 100% |█████████████████████| 4/4 [707.2ms elapsed, 0s remaining, 5.7 samples/s]   \n"
     ]
    },
    {
     "name": "stderr",
     "output_type": "stream",
     "text": [
      " 95%|█████████▌| 1073/1128 [1:13:39<01:57,  2.14s/it]"
     ]
    },
    {
     "name": "stdout",
     "output_type": "stream",
     "text": [
      "No `images_dir` provided. Images will be unpacked to '/opt/project/data/TCGA-BH-A0H7/03-26-2002-NA-BREAST MRI-96862/200.000000-CAD sag reformat-26254'\n",
      "Ignoring unsupported parameter 'overwrite' for importer type <class 'fiftyone.utils.dicom.DICOMDatasetImporter'>\n",
      " 100% |█████████████████| 150/150 [3.7s elapsed, 0s remaining, 47.3 samples/s]       \n"
     ]
    },
    {
     "name": "stderr",
     "output_type": "stream",
     "text": [
      " 95%|█████████▌| 1074/1128 [1:13:43<02:29,  2.77s/it]"
     ]
    },
    {
     "name": "stdout",
     "output_type": "stream",
     "text": [
      "No `images_dir` provided. Images will be unpacked to '/opt/project/data/TCGA-BH-A0E9/12-07-1999-NA-BREAST MRI-15168/1.000000-3 plane loc-40714'\n",
      "Ignoring unsupported parameter 'overwrite' for importer type <class 'fiftyone.utils.dicom.DICOMDatasetImporter'>\n",
      " 100% |███████████████████| 29/29 [1.1s elapsed, 0s remaining, 25.9 samples/s]         \n"
     ]
    },
    {
     "name": "stderr",
     "output_type": "stream",
     "text": [
      " 95%|█████████▌| 1075/1128 [1:13:45<02:05,  2.36s/it]"
     ]
    },
    {
     "name": "stdout",
     "output_type": "stream",
     "text": [
      "No `images_dir` provided. Images will be unpacked to '/opt/project/data/TCGA-BH-A0BJ/01-08-2002-NA-BIOPSY-69800/3.000000-Ax Vibrant C-02529'\n",
      "Ignoring unsupported parameter 'overwrite' for importer type <class 'fiftyone.utils.dicom.DICOMDatasetImporter'>\n",
      " 100% |█████████████████| 210/210 [5.8s elapsed, 0s remaining, 39.4 samples/s]       \n"
     ]
    },
    {
     "name": "stderr",
     "output_type": "stream",
     "text": [
      " 95%|█████████▌| 1076/1128 [1:13:51<03:07,  3.61s/it]"
     ]
    },
    {
     "name": "stdout",
     "output_type": "stream",
     "text": [
      "No `images_dir` provided. Images will be unpacked to '/opt/project/data/TCGA-E2-A1B5/04-29-2001-NA-MR BREAST BILATERAL WWO CONT-98814/2.000000-SAG T1 PRE-32424'\n",
      "Ignoring unsupported parameter 'overwrite' for importer type <class 'fiftyone.utils.dicom.DICOMDatasetImporter'>\n",
      " 100% |█████████████████| 111/111 [2.8s elapsed, 0s remaining, 46.8 samples/s]      \n"
     ]
    },
    {
     "name": "stderr",
     "output_type": "stream",
     "text": [
      " 95%|█████████▌| 1077/1128 [1:13:55<02:58,  3.51s/it]"
     ]
    },
    {
     "name": "stdout",
     "output_type": "stream",
     "text": [
      "No `images_dir` provided. Images will be unpacked to '/opt/project/data/TCGA-AO-A0JI/11-06-2001-NA-NA-80329/7.000000-Ax Vibrant post-12275'\n",
      "Ignoring unsupported parameter 'overwrite' for importer type <class 'fiftyone.utils.dicom.DICOMDatasetImporter'>\n",
      " 100% |███████████████████| 62/62 [2.1s elapsed, 0s remaining, 29.5 samples/s]      \n"
     ]
    },
    {
     "name": "stderr",
     "output_type": "stream",
     "text": [
      " 96%|█████████▌| 1078/1128 [1:13:57<02:40,  3.21s/it]"
     ]
    },
    {
     "name": "stdout",
     "output_type": "stream",
     "text": [
      "No `images_dir` provided. Images will be unpacked to '/opt/project/data/TCGA-AR-A24S/12-11-1999-NA-MRI - BREAST-03194/9.000000-sag 3dpost-67379'\n",
      "Ignoring unsupported parameter 'overwrite' for importer type <class 'fiftyone.utils.dicom.DICOMDatasetImporter'>\n",
      " 100% |███████████████████| 24/24 [1.1s elapsed, 0s remaining, 22.3 samples/s]         \n"
     ]
    },
    {
     "name": "stderr",
     "output_type": "stream",
     "text": [
      " 96%|█████████▌| 1079/1128 [1:13:58<02:09,  2.65s/it]"
     ]
    },
    {
     "name": "stdout",
     "output_type": "stream",
     "text": [
      "No `images_dir` provided. Images will be unpacked to '/opt/project/data/TCGA-BH-A0B1/09-04-2000-NA-BREAST MRI-93235/2000.000000-CAD MIP Collection-99882'\n",
      "Ignoring unsupported parameter 'overwrite' for importer type <class 'fiftyone.utils.dicom.DICOMDatasetImporter'>\n",
      " 100% |███████████████████| 45/45 [1.7s elapsed, 0s remaining, 26.8 samples/s]      \n"
     ]
    },
    {
     "name": "stderr",
     "output_type": "stream",
     "text": [
      " 96%|█████████▌| 1080/1128 [1:14:00<01:57,  2.44s/it]"
     ]
    },
    {
     "name": "stdout",
     "output_type": "stream",
     "text": [
      "No `images_dir` provided. Images will be unpacked to '/opt/project/data/TCGA-BH-A0B3/10-09-2000-NA-BREAST MRI-95408/5.000000-Ax Vibrant MULTIPHASE-03173'\n",
      "Ignoring unsupported parameter 'overwrite' for importer type <class 'fiftyone.utils.dicom.DICOMDatasetImporter'>\n",
      " 100% |█████████████████| 410/410 [11.5s elapsed, 0s remaining, 37.4 samples/s]      \n"
     ]
    },
    {
     "name": "stderr",
     "output_type": "stream",
     "text": [
      " 96%|█████████▌| 1081/1128 [1:14:13<04:18,  5.49s/it]"
     ]
    },
    {
     "name": "stdout",
     "output_type": "stream",
     "text": [
      "No `images_dir` provided. Images will be unpacked to '/opt/project/data/TCGA-BH-A0W5/07-25-2001-NA-MRI BREAST-10788/202.000000-CAD cor reformat-60298'\n",
      "Ignoring unsupported parameter 'overwrite' for importer type <class 'fiftyone.utils.dicom.DICOMDatasetImporter'>\n",
      " 100% |█████████████████| 150/150 [4.0s elapsed, 0s remaining, 39.4 samples/s]       \n"
     ]
    },
    {
     "name": "stderr",
     "output_type": "stream",
     "text": [
      " 96%|█████████▌| 1082/1128 [1:14:18<03:59,  5.21s/it]"
     ]
    },
    {
     "name": "stdout",
     "output_type": "stream",
     "text": [
      "No `images_dir` provided. Images will be unpacked to '/opt/project/data/TCGA-BH-A0HX/11-05-2001-NA-BREAST MRI-23277/102.000000-CAD sub 2-57760'\n",
      "Ignoring unsupported parameter 'overwrite' for importer type <class 'fiftyone.utils.dicom.DICOMDatasetImporter'>\n",
      " 100% |███████████████████| 82/82 [2.4s elapsed, 0s remaining, 42.2 samples/s]      \n"
     ]
    },
    {
     "name": "stderr",
     "output_type": "stream",
     "text": [
      " 96%|█████████▌| 1083/1128 [1:14:20<03:22,  4.49s/it]"
     ]
    },
    {
     "name": "stdout",
     "output_type": "stream",
     "text": [
      "No `images_dir` provided. Images will be unpacked to '/opt/project/data/TCGA-AO-A12G/03-29-2001-NA-NA-34806/114.000000-31710439-31710239-87594'\n",
      "Ignoring unsupported parameter 'overwrite' for importer type <class 'fiftyone.utils.dicom.DICOMDatasetImporter'>\n",
      " 100% |███████████████████| 39/39 [1.4s elapsed, 0s remaining, 28.4 samples/s]      \n"
     ]
    },
    {
     "name": "stderr",
     "output_type": "stream",
     "text": [
      " 96%|█████████▌| 1084/1128 [1:14:22<02:40,  3.64s/it]"
     ]
    },
    {
     "name": "stdout",
     "output_type": "stream",
     "text": [
      "No `images_dir` provided. Images will be unpacked to '/opt/project/data/TCGA-AR-A24S/12-11-1999-NA-MRI - BREAST-03194/4.000000-sag 3dpre-89244'\n",
      "Ignoring unsupported parameter 'overwrite' for importer type <class 'fiftyone.utils.dicom.DICOMDatasetImporter'>\n",
      " 100% |███████████████████| 24/24 [1.1s elapsed, 0s remaining, 21.1 samples/s]         \n"
     ]
    },
    {
     "name": "stderr",
     "output_type": "stream",
     "text": [
      " 96%|█████████▌| 1085/1128 [1:14:23<02:07,  2.96s/it]"
     ]
    },
    {
     "name": "stdout",
     "output_type": "stream",
     "text": [
      "No `images_dir` provided. Images will be unpacked to '/opt/project/data/TCGA-AO-A12E/02-01-2000-NA-NA-34890/117.000000-PJN-78918'\n",
      "Ignoring unsupported parameter 'overwrite' for importer type <class 'fiftyone.utils.dicom.DICOMDatasetImporter'>\n",
      " 100% |███████████████████| 13/13 [626.2ms elapsed, 0s remaining, 20.8 samples/s]      \n"
     ]
    },
    {
     "name": "stderr",
     "output_type": "stream",
     "text": [
      " 96%|█████████▋| 1086/1128 [1:14:24<01:37,  2.31s/it]"
     ]
    },
    {
     "name": "stdout",
     "output_type": "stream",
     "text": [
      "No `images_dir` provided. Images will be unpacked to '/opt/project/data/TCGA-BH-A0DT/10-29-2000-NA-BREAST MRI-03753/2.000000-Calibration Scan-25080'\n",
      "Ignoring unsupported parameter 'overwrite' for importer type <class 'fiftyone.utils.dicom.DICOMDatasetImporter'>\n",
      " 100% |███████████████████| 92/92 [2.3s elapsed, 0s remaining, 50.2 samples/s]      \n"
     ]
    },
    {
     "name": "stderr",
     "output_type": "stream",
     "text": [
      " 96%|█████████▋| 1087/1128 [1:14:27<01:40,  2.44s/it]"
     ]
    },
    {
     "name": "stdout",
     "output_type": "stream",
     "text": [
      "No `images_dir` provided. Images will be unpacked to '/opt/project/data/TCGA-BH-A0DT/11-11-2000-NA-BIOPSY-26175/2.000000-Calibration Scan-46736'\n",
      "Ignoring unsupported parameter 'overwrite' for importer type <class 'fiftyone.utils.dicom.DICOMDatasetImporter'>\n",
      " 100% |███████████████████| 92/92 [2.4s elapsed, 0s remaining, 46.7 samples/s]      \n"
     ]
    },
    {
     "name": "stderr",
     "output_type": "stream",
     "text": [
      " 96%|█████████▋| 1088/1128 [1:14:30<01:43,  2.58s/it]"
     ]
    },
    {
     "name": "stdout",
     "output_type": "stream",
     "text": [
      "No `images_dir` provided. Images will be unpacked to '/opt/project/data/TCGA-E2-A14T/03-15-2001-NA-MR BREAST BILATERAL WWO CONT-93911/11.000000-SAG 3D POST-CONTRAST-66499'\n",
      "Ignoring unsupported parameter 'overwrite' for importer type <class 'fiftyone.utils.dicom.DICOMDatasetImporter'>\n",
      " 100% |█████████████████| 516/516 [11.9s elapsed, 0s remaining, 43.9 samples/s]      \n"
     ]
    },
    {
     "name": "stderr",
     "output_type": "stream",
     "text": [
      " 97%|█████████▋| 1089/1128 [1:14:43<03:46,  5.80s/it]"
     ]
    },
    {
     "name": "stdout",
     "output_type": "stream",
     "text": [
      "No `images_dir` provided. Images will be unpacked to '/opt/project/data/TCGA-E2-A14V/06-10-2001-NA-MR BREAST BILATERAL WWO CONT-38155/4.000000-SAG T2 FAT-SAT RIGHT-36172'\n",
      "Ignoring unsupported parameter 'overwrite' for importer type <class 'fiftyone.utils.dicom.DICOMDatasetImporter'>\n",
      " 100% |███████████████████| 40/40 [1.5s elapsed, 0s remaining, 26.7 samples/s]      \n"
     ]
    },
    {
     "name": "stderr",
     "output_type": "stream",
     "text": [
      " 97%|█████████▋| 1090/1128 [1:14:45<02:54,  4.60s/it]"
     ]
    },
    {
     "name": "stdout",
     "output_type": "stream",
     "text": [
      "No `images_dir` provided. Images will be unpacked to '/opt/project/data/TCGA-AO-A0J9/05-11-2001-NA-NA-96851/109.000000-Bind154777294..348-30972'\n",
      "Ignoring unsupported parameter 'overwrite' for importer type <class 'fiftyone.utils.dicom.DICOMDatasetImporter'>\n",
      " 100% |███████████████████| 55/55 [1.7s elapsed, 0s remaining, 33.3 samples/s]      \n"
     ]
    },
    {
     "name": "stderr",
     "output_type": "stream",
     "text": [
      " 97%|█████████▋| 1091/1128 [1:14:47<02:20,  3.80s/it]"
     ]
    },
    {
     "name": "stdout",
     "output_type": "stream",
     "text": [
      "No `images_dir` provided. Images will be unpacked to '/opt/project/data/TCGA-E2-A1L7/12-29-2001-NA-MR BREAST BILATERAL WWO CONT-27861/7.000000-SAG 3D POST-CONTRAST-55993'\n",
      "Ignoring unsupported parameter 'overwrite' for importer type <class 'fiftyone.utils.dicom.DICOMDatasetImporter'>\n",
      " 100% |█████████████████| 408/408 [9.6s elapsed, 0s remaining, 45.1 samples/s]       \n"
     ]
    },
    {
     "name": "stderr",
     "output_type": "stream",
     "text": [
      " 97%|█████████▋| 1092/1128 [1:14:58<03:32,  5.91s/it]"
     ]
    },
    {
     "name": "stdout",
     "output_type": "stream",
     "text": [
      "No `images_dir` provided. Images will be unpacked to '/opt/project/data/TCGA-E2-A1IE/01-04-2001-NA-MR BREAST BILATERAL WWO CONT-63539/12.000000-SAG 3D POST-CONTRAST-71642'\n",
      "Ignoring unsupported parameter 'overwrite' for importer type <class 'fiftyone.utils.dicom.DICOMDatasetImporter'>\n",
      " 100% |█████████████████| 396/396 [9.1s elapsed, 0s remaining, 46.9 samples/s]       \n"
     ]
    },
    {
     "name": "stderr",
     "output_type": "stream",
     "text": [
      " 97%|█████████▋| 1093/1128 [1:15:08<04:12,  7.21s/it]"
     ]
    },
    {
     "name": "stdout",
     "output_type": "stream",
     "text": [
      "No `images_dir` provided. Images will be unpacked to '/opt/project/data/TCGA-AO-A0JI/11-06-2001-NA-NA-80329/100.000000-Bind1802941..56-90472'\n",
      "Ignoring unsupported parameter 'overwrite' for importer type <class 'fiftyone.utils.dicom.DICOMDatasetImporter'>\n",
      " 100% |███████████████████| 56/56 [1.6s elapsed, 0s remaining, 34.4 samples/s]      \n"
     ]
    },
    {
     "name": "stderr",
     "output_type": "stream",
     "text": [
      " 97%|█████████▋| 1094/1128 [1:15:10<03:11,  5.63s/it]"
     ]
    },
    {
     "name": "stdout",
     "output_type": "stream",
     "text": [
      "No `images_dir` provided. Images will be unpacked to '/opt/project/data/TCGA-BH-A0E0/04-06-2003-NA-BREAST MRI-53761/202.000000-CAD cor reformat-84665'\n",
      "Ignoring unsupported parameter 'overwrite' for importer type <class 'fiftyone.utils.dicom.DICOMDatasetImporter'>\n",
      " 100% |█████████████████| 141/141 [3.7s elapsed, 0s remaining, 42.5 samples/s]       \n"
     ]
    },
    {
     "name": "stderr",
     "output_type": "stream",
     "text": [
      " 97%|█████████▋| 1095/1128 [1:15:14<02:51,  5.20s/it]"
     ]
    },
    {
     "name": "stdout",
     "output_type": "stream",
     "text": [
      "No `images_dir` provided. Images will be unpacked to '/opt/project/data/TCGA-E2-A14S/03-02-2001-NA-MR BREAST BILATERAL WWO CONT-85661/3.000000-SAG T2 FAT-SAT LEFT-15369'\n",
      "Ignoring unsupported parameter 'overwrite' for importer type <class 'fiftyone.utils.dicom.DICOMDatasetImporter'>\n",
      " 100% |███████████████████| 70/70 [2.1s elapsed, 0s remaining, 43.1 samples/s]      \n"
     ]
    },
    {
     "name": "stderr",
     "output_type": "stream",
     "text": [
      " 97%|█████████▋| 1096/1128 [1:15:17<02:20,  4.38s/it]"
     ]
    },
    {
     "name": "stdout",
     "output_type": "stream",
     "text": [
      "No `images_dir` provided. Images will be unpacked to '/opt/project/data/TCGA-E2-A15I/06-15-2002-NA-MR BREAST BILATERAL WWO CONT-84178/5.000000-ASSET CALIBRATION-39786'\n",
      "Ignoring unsupported parameter 'overwrite' for importer type <class 'fiftyone.utils.dicom.DICOMDatasetImporter'>\n",
      " 100% |███████████████████| 74/74 [2.1s elapsed, 0s remaining, 35.1 samples/s]      \n"
     ]
    },
    {
     "name": "stderr",
     "output_type": "stream",
     "text": [
      " 97%|█████████▋| 1097/1128 [1:15:19<02:00,  3.88s/it]"
     ]
    },
    {
     "name": "stdout",
     "output_type": "stream",
     "text": [
      "No `images_dir` provided. Images will be unpacked to '/opt/project/data/TCGA-BH-A0E0/04-06-2003-NA-BREAST MRI-53761/101.000000-CAD sub 4-01440'\n",
      "Ignoring unsupported parameter 'overwrite' for importer type <class 'fiftyone.utils.dicom.DICOMDatasetImporter'>\n",
      " 100% |███████████████████| 76/76 [2.3s elapsed, 0s remaining, 41.1 samples/s]      \n"
     ]
    },
    {
     "name": "stderr",
     "output_type": "stream",
     "text": [
      " 97%|█████████▋| 1098/1128 [1:15:22<01:45,  3.52s/it]"
     ]
    },
    {
     "name": "stdout",
     "output_type": "stream",
     "text": [
      "No `images_dir` provided. Images will be unpacked to '/opt/project/data/TCGA-BH-A0DK/12-22-2002-NA-BREAST MRI-01189/101.000000-CAD sub 4-14334'\n",
      "Ignoring unsupported parameter 'overwrite' for importer type <class 'fiftyone.utils.dicom.DICOMDatasetImporter'>\n",
      " 100% |█████████████████| 102/102 [2.9s elapsed, 0s remaining, 42.3 samples/s]      \n"
     ]
    },
    {
     "name": "stderr",
     "output_type": "stream",
     "text": [
      " 97%|█████████▋| 1099/1128 [1:15:25<01:40,  3.47s/it]"
     ]
    },
    {
     "name": "stdout",
     "output_type": "stream",
     "text": [
      "No `images_dir` provided. Images will be unpacked to '/opt/project/data/TCGA-E2-A1B6/05-31-2001-NA-MR BREAST BILATERAL WWO CONT-82932/3.000000-SAG T2 FAT-SAT LEFT-23837'\n",
      "Ignoring unsupported parameter 'overwrite' for importer type <class 'fiftyone.utils.dicom.DICOMDatasetImporter'>\n",
      " 100% |███████████████████| 39/39 [1.4s elapsed, 0s remaining, 27.9 samples/s]      \n"
     ]
    },
    {
     "name": "stderr",
     "output_type": "stream",
     "text": [
      " 98%|█████████▊| 1100/1128 [1:15:27<01:21,  2.93s/it]"
     ]
    },
    {
     "name": "stdout",
     "output_type": "stream",
     "text": [
      "No `images_dir` provided. Images will be unpacked to '/opt/project/data/TCGA-E2-A14Y/10-03-2001-NA-MR BREAST BILATERAL WWO CONT-22306/4.000000-SAG T2 FAT-SAT RIGHT-57033'\n",
      "Ignoring unsupported parameter 'overwrite' for importer type <class 'fiftyone.utils.dicom.DICOMDatasetImporter'>\n",
      " 100% |███████████████████| 49/49 [1.7s elapsed, 0s remaining, 29.3 samples/s]      \n"
     ]
    },
    {
     "name": "stderr",
     "output_type": "stream",
     "text": [
      " 98%|█████████▊| 1101/1128 [1:15:29<01:11,  2.64s/it]"
     ]
    },
    {
     "name": "stdout",
     "output_type": "stream",
     "text": [
      "No `images_dir` provided. Images will be unpacked to '/opt/project/data/TCGA-E2-A1B1/12-21-1999-NA-MR BREAST BILATERAL WWO CONT-74167/2.000000-3-PLANE LOCALIZER-08949'\n",
      "Ignoring unsupported parameter 'overwrite' for importer type <class 'fiftyone.utils.dicom.DICOMDatasetImporter'>\n",
      " 100% |███████████████████| 27/27 [1.2s elapsed, 0s remaining, 22.9 samples/s]         \n"
     ]
    },
    {
     "name": "stderr",
     "output_type": "stream",
     "text": [
      " 98%|█████████▊| 1102/1128 [1:15:30<00:59,  2.30s/it]"
     ]
    },
    {
     "name": "stdout",
     "output_type": "stream",
     "text": [
      "No `images_dir` provided. Images will be unpacked to '/opt/project/data/TCGA-AR-A24S/12-11-1999-NA-MRI - BREAST-03194/1.000000-scout-65424'\n",
      "Ignoring unsupported parameter 'overwrite' for importer type <class 'fiftyone.utils.dicom.DICOMDatasetImporter'>\n",
      " 100% |███████████████████| 63/63 [2.0s elapsed, 0s remaining, 31.4 samples/s]      \n"
     ]
    },
    {
     "name": "stderr",
     "output_type": "stream",
     "text": [
      " 98%|█████████▊| 1103/1128 [1:15:33<00:57,  2.30s/it]"
     ]
    },
    {
     "name": "stdout",
     "output_type": "stream",
     "text": [
      "No `images_dir` provided. Images will be unpacked to '/opt/project/data/TCGA-AO-A12D/09-23-1999-NA-NA-51146/114.000000-PJN-40471'\n",
      "Ignoring unsupported parameter 'overwrite' for importer type <class 'fiftyone.utils.dicom.DICOMDatasetImporter'>\n",
      " 100% |███████████████████| 13/13 [652.4ms elapsed, 0s remaining, 20.0 samples/s]      \n"
     ]
    },
    {
     "name": "stderr",
     "output_type": "stream",
     "text": [
      " 98%|█████████▊| 1104/1128 [1:15:34<00:44,  1.87s/it]"
     ]
    },
    {
     "name": "stdout",
     "output_type": "stream",
     "text": [
      "No `images_dir` provided. Images will be unpacked to '/opt/project/data/TCGA-E2-A1IG/09-01-2001-NA-MR BREAST BILATERAL WWO CONT-98834/6.000000-SAG 3D PRE-CONTRAST-95775'\n",
      "Ignoring unsupported parameter 'overwrite' for importer type <class 'fiftyone.utils.dicom.DICOMDatasetImporter'>\n",
      " 100% |█████████████████| 128/128 [4.1s elapsed, 0s remaining, 36.7 samples/s]       \n"
     ]
    },
    {
     "name": "stderr",
     "output_type": "stream",
     "text": [
      " 98%|█████████▊| 1105/1128 [1:15:38<01:01,  2.67s/it]"
     ]
    },
    {
     "name": "stdout",
     "output_type": "stream",
     "text": [
      "No `images_dir` provided. Images will be unpacked to '/opt/project/data/TCGA-AO-A03M/03-15-2001-NA-NA-80891/105.000000-Bind11251751..96-91946'\n",
      "Ignoring unsupported parameter 'overwrite' for importer type <class 'fiftyone.utils.dicom.DICOMDatasetImporter'>\n",
      " 100% |███████████████████| 46/46 [1.5s elapsed, 0s remaining, 30.8 samples/s]      \n"
     ]
    },
    {
     "name": "stderr",
     "output_type": "stream",
     "text": [
      " 98%|█████████▊| 1106/1128 [1:15:40<00:52,  2.40s/it]"
     ]
    },
    {
     "name": "stdout",
     "output_type": "stream",
     "text": [
      "No `images_dir` provided. Images will be unpacked to '/opt/project/data/TCGA-BH-A18F/12-22-2003-NA-BREAST MRI-50626/20006.000000-Screen Save-46007'\n",
      "Ignoring unsupported parameter 'overwrite' for importer type <class 'fiftyone.utils.dicom.DICOMDatasetImporter'>\n",
      " 100% |█████████████████████| 3/3 [320.1ms elapsed, 0s remaining, 9.4 samples/s]      \n"
     ]
    },
    {
     "name": "stderr",
     "output_type": "stream",
     "text": [
      " 98%|█████████▊| 1107/1128 [1:15:40<00:38,  1.82s/it]"
     ]
    },
    {
     "name": "stdout",
     "output_type": "stream",
     "text": [
      "No `images_dir` provided. Images will be unpacked to '/opt/project/data/TCGA-E2-A14P/10-13-2000-NA-MR BREAST BILATERAL WWO CONT-27050/1.000000-3-PLANE LOCALIZER-41929'\n",
      "Ignoring unsupported parameter 'overwrite' for importer type <class 'fiftyone.utils.dicom.DICOMDatasetImporter'>\n",
      " 100% |███████████████████| 27/27 [1.1s elapsed, 0s remaining, 24.0 samples/s]         \n"
     ]
    },
    {
     "name": "stderr",
     "output_type": "stream",
     "text": [
      " 98%|█████████▊| 1108/1128 [1:15:42<00:33,  1.69s/it]"
     ]
    },
    {
     "name": "stdout",
     "output_type": "stream",
     "text": [
      "No `images_dir` provided. Images will be unpacked to '/opt/project/data/TCGA-AR-A1AQ/11-21-2001-NA-MRI - BREAST-98628/1.000000-SCOUT-44961'\n",
      "Ignoring unsupported parameter 'overwrite' for importer type <class 'fiftyone.utils.dicom.DICOMDatasetImporter'>\n",
      " 100% |███████████████████| 63/63 [2.0s elapsed, 0s remaining, 30.9 samples/s]      \n"
     ]
    },
    {
     "name": "stderr",
     "output_type": "stream",
     "text": [
      " 98%|█████████▊| 1109/1128 [1:15:44<00:35,  1.89s/it]"
     ]
    },
    {
     "name": "stdout",
     "output_type": "stream",
     "text": [
      "No `images_dir` provided. Images will be unpacked to '/opt/project/data/TCGA-BH-A0DE/08-01-2000-NA-BREAST MRI-94390/2.000000-Calibration Scan-06910'\n",
      "Ignoring unsupported parameter 'overwrite' for importer type <class 'fiftyone.utils.dicom.DICOMDatasetImporter'>\n",
      " 100% |███████████████████| 62/62 [1.8s elapsed, 0s remaining, 34.6 samples/s]      \n"
     ]
    },
    {
     "name": "stderr",
     "output_type": "stream",
     "text": [
      " 98%|█████████▊| 1110/1128 [1:15:46<00:35,  1.96s/it]"
     ]
    },
    {
     "name": "stdout",
     "output_type": "stream",
     "text": [
      "No `images_dir` provided. Images will be unpacked to '/opt/project/data/TCGA-BH-A0E2/01-21-2003-NA-BREAST MRI-05355/1.000000-3 plane loc-74099'\n",
      "Ignoring unsupported parameter 'overwrite' for importer type <class 'fiftyone.utils.dicom.DICOMDatasetImporter'>\n",
      " 100% |███████████████████| 29/29 [1.2s elapsed, 0s remaining, 24.8 samples/s]         \n"
     ]
    },
    {
     "name": "stderr",
     "output_type": "stream",
     "text": [
      " 98%|█████████▊| 1111/1128 [1:15:48<00:30,  1.79s/it]"
     ]
    },
    {
     "name": "stdout",
     "output_type": "stream",
     "text": [
      "No `images_dir` provided. Images will be unpacked to '/opt/project/data/TCGA-BH-A0E9/12-07-1999-NA-BREAST MRI-15168/2000.000000-CAD MIP Collection-58272'\n",
      "Ignoring unsupported parameter 'overwrite' for importer type <class 'fiftyone.utils.dicom.DICOMDatasetImporter'>\n",
      " 100% |███████████████████| 45/45 [1.7s elapsed, 0s remaining, 27.3 samples/s]      \n"
     ]
    },
    {
     "name": "stderr",
     "output_type": "stream",
     "text": [
      " 99%|█████████▊| 1112/1128 [1:15:50<00:29,  1.84s/it]"
     ]
    },
    {
     "name": "stdout",
     "output_type": "stream",
     "text": [
      "No `images_dir` provided. Images will be unpacked to '/opt/project/data/TCGA-AR-A1AN/10-14-2001-NA-MRI - BREAST-21682/6.000000-RT SAG FSE T2-22061'\n",
      "Ignoring unsupported parameter 'overwrite' for importer type <class 'fiftyone.utils.dicom.DICOMDatasetImporter'>\n",
      " 100% |███████████████████| 24/24 [1.1s elapsed, 0s remaining, 20.9 samples/s]         \n"
     ]
    },
    {
     "name": "stderr",
     "output_type": "stream",
     "text": [
      " 99%|█████████▊| 1113/1128 [1:15:51<00:25,  1.70s/it]"
     ]
    },
    {
     "name": "stdout",
     "output_type": "stream",
     "text": [
      "No `images_dir` provided. Images will be unpacked to '/opt/project/data/TCGA-BH-A0BM/09-03-2000-NA-BREAST MRI-42240/4.000000-Sag Vibrant Pre-75907'\n",
      "Ignoring unsupported parameter 'overwrite' for importer type <class 'fiftyone.utils.dicom.DICOMDatasetImporter'>\n",
      " 100% |█████████████████| 152/152 [4.0s elapsed, 0s remaining, 43.0 samples/s]       \n"
     ]
    },
    {
     "name": "stderr",
     "output_type": "stream",
     "text": [
      " 99%|█████████▉| 1114/1128 [1:15:56<00:35,  2.56s/it]"
     ]
    },
    {
     "name": "stdout",
     "output_type": "stream",
     "text": [
      "No `images_dir` provided. Images will be unpacked to '/opt/project/data/TCGA-AO-A03M/03-15-2001-NA-NA-80891/100.000000-Bind1125151..50-39838'\n",
      "Ignoring unsupported parameter 'overwrite' for importer type <class 'fiftyone.utils.dicom.DICOMDatasetImporter'>\n",
      " 100% |███████████████████| 50/50 [1.5s elapsed, 0s remaining, 32.6 samples/s]      \n"
     ]
    },
    {
     "name": "stderr",
     "output_type": "stream",
     "text": [
      " 99%|█████████▉| 1115/1128 [1:15:57<00:30,  2.34s/it]"
     ]
    },
    {
     "name": "stdout",
     "output_type": "stream",
     "text": [
      "No `images_dir` provided. Images will be unpacked to '/opt/project/data/TCGA-BH-A0H7/03-26-2002-NA-BREAST MRI-96862/2000.000000-CAD MIP-76443'\n",
      "Ignoring unsupported parameter 'overwrite' for importer type <class 'fiftyone.utils.dicom.DICOMDatasetImporter'>\n",
      " 100% |███████████████████| 45/45 [1.7s elapsed, 0s remaining, 26.9 samples/s]      \n"
     ]
    },
    {
     "name": "stderr",
     "output_type": "stream",
     "text": [
      " 99%|█████████▉| 1116/1128 [1:15:59<00:26,  2.22s/it]"
     ]
    },
    {
     "name": "stdout",
     "output_type": "stream",
     "text": [
      "No `images_dir` provided. Images will be unpacked to '/opt/project/data/TCGA-BH-A0DG/12-05-2000-NA-BREAST MRI-74580/201.000000-CAD SAG REF-00117'\n",
      "Ignoring unsupported parameter 'overwrite' for importer type <class 'fiftyone.utils.dicom.DICOMDatasetImporter'>\n",
      " 100% |███████████████████| 97/97 [2.7s elapsed, 0s remaining, 44.2 samples/s]      \n"
     ]
    },
    {
     "name": "stderr",
     "output_type": "stream",
     "text": [
      " 99%|█████████▉| 1117/1128 [1:16:02<00:27,  2.49s/it]"
     ]
    },
    {
     "name": "stdout",
     "output_type": "stream",
     "text": [
      "No `images_dir` provided. Images will be unpacked to '/opt/project/data/TCGA-BH-A0B3/10-09-2000-NA-BREAST MRI-95408/3.000000-AX STIR-WaterSat-94702'\n",
      "Ignoring unsupported parameter 'overwrite' for importer type <class 'fiftyone.utils.dicom.DICOMDatasetImporter'>\n",
      " 100% |███████████████████| 48/48 [1.7s elapsed, 0s remaining, 27.9 samples/s]      \n"
     ]
    },
    {
     "name": "stderr",
     "output_type": "stream",
     "text": [
      " 99%|█████████▉| 1118/1128 [1:16:04<00:23,  2.34s/it]"
     ]
    },
    {
     "name": "stdout",
     "output_type": "stream",
     "text": [
      "No `images_dir` provided. Images will be unpacked to '/opt/project/data/TCGA-BH-A0HA/11-17-2001-NA-BREAST MRI-26938/2000.000000-CAD MIP-46969'\n",
      "Ignoring unsupported parameter 'overwrite' for importer type <class 'fiftyone.utils.dicom.DICOMDatasetImporter'>\n",
      " 100% |███████████████████| 45/45 [1.7s elapsed, 0s remaining, 26.3 samples/s]      \n"
     ]
    },
    {
     "name": "stderr",
     "output_type": "stream",
     "text": [
      " 99%|█████████▉| 1119/1128 [1:16:06<00:20,  2.24s/it]"
     ]
    },
    {
     "name": "stdout",
     "output_type": "stream",
     "text": [
      "No `images_dir` provided. Images will be unpacked to '/opt/project/data/TCGA-E2-A1IE/01-04-2001-NA-MR BREAST BILATERAL WWO CONT-63539/7.000000-SAG T1 PRE-35738'\n",
      "Ignoring unsupported parameter 'overwrite' for importer type <class 'fiftyone.utils.dicom.DICOMDatasetImporter'>\n",
      " 100% |█████████████████| 132/132 [3.3s elapsed, 0s remaining, 46.1 samples/s]      \n"
     ]
    },
    {
     "name": "stderr",
     "output_type": "stream",
     "text": [
      " 99%|█████████▉| 1120/1128 [1:16:10<00:21,  2.72s/it]"
     ]
    },
    {
     "name": "stdout",
     "output_type": "stream",
     "text": [
      "No `images_dir` provided. Images will be unpacked to '/opt/project/data/TCGA-BH-A0B3/10-09-2000-NA-BREAST MRI-95408/201.000000-CAD SAG REF-81086'\n",
      "Ignoring unsupported parameter 'overwrite' for importer type <class 'fiftyone.utils.dicom.DICOMDatasetImporter'>\n",
      " 100% |███████████████████| 97/97 [2.8s elapsed, 0s remaining, 43.6 samples/s]      \n"
     ]
    },
    {
     "name": "stderr",
     "output_type": "stream",
     "text": [
      " 99%|█████████▉| 1121/1128 [1:16:13<00:19,  2.85s/it]"
     ]
    },
    {
     "name": "stdout",
     "output_type": "stream",
     "text": [
      "No `images_dir` provided. Images will be unpacked to '/opt/project/data/TCGA-E2-A150/01-11-2002-NA-MR BREAST BILATERAL WWO CONT-28816/6.000000-SAG 3D PRE-CONTRAST-71840'\n",
      "Ignoring unsupported parameter 'overwrite' for importer type <class 'fiftyone.utils.dicom.DICOMDatasetImporter'>\n",
      " 100% |█████████████████| 136/136 [3.7s elapsed, 0s remaining, 41.8 samples/s]       \n"
     ]
    },
    {
     "name": "stderr",
     "output_type": "stream",
     "text": [
      " 99%|█████████▉| 1122/1128 [1:16:18<00:19,  3.25s/it]"
     ]
    },
    {
     "name": "stdout",
     "output_type": "stream",
     "text": [
      "No `images_dir` provided. Images will be unpacked to '/opt/project/data/TCGA-BH-A0C0/08-20-2000-NA-BREAST MRI-05483/2000.000000-CAD MIP Collection-44012'\n",
      "Ignoring unsupported parameter 'overwrite' for importer type <class 'fiftyone.utils.dicom.DICOMDatasetImporter'>\n",
      " 100% |███████████████████| 45/45 [1.7s elapsed, 0s remaining, 26.2 samples/s]      \n"
     ]
    },
    {
     "name": "stderr",
     "output_type": "stream",
     "text": [
      "100%|█████████▉| 1123/1128 [1:16:20<00:14,  2.88s/it]"
     ]
    },
    {
     "name": "stdout",
     "output_type": "stream",
     "text": [
      "No `images_dir` provided. Images will be unpacked to '/opt/project/data/TCGA-BH-A0E0/04-06-2003-NA-BREAST MRI-53761/102.000000-CAD sub 2-96164'\n",
      "Ignoring unsupported parameter 'overwrite' for importer type <class 'fiftyone.utils.dicom.DICOMDatasetImporter'>\n",
      " 100% |███████████████████| 76/76 [2.3s elapsed, 0s remaining, 41.5 samples/s]      \n"
     ]
    },
    {
     "name": "stderr",
     "output_type": "stream",
     "text": [
      "100%|█████████▉| 1124/1128 [1:16:22<00:11,  2.83s/it]"
     ]
    },
    {
     "name": "stdout",
     "output_type": "stream",
     "text": [
      "No `images_dir` provided. Images will be unpacked to '/opt/project/data/TCGA-BH-A28Q/01-26-2004-NA-BREAST MRI-39143/102.000000-CAD sub 2-28024'\n",
      "Ignoring unsupported parameter 'overwrite' for importer type <class 'fiftyone.utils.dicom.DICOMDatasetImporter'>\n",
      " 100% |███████████████████| 74/74 [2.3s elapsed, 0s remaining, 42.1 samples/s]      \n"
     ]
    },
    {
     "name": "stderr",
     "output_type": "stream",
     "text": [
      "100%|█████████▉| 1125/1128 [1:16:25<00:08,  2.79s/it]"
     ]
    },
    {
     "name": "stdout",
     "output_type": "stream",
     "text": [
      "No `images_dir` provided. Images will be unpacked to '/opt/project/data/TCGA-BH-A0H6/02-03-2002-NA-MRI BREAST-85463/1.000000-3 plane loc-92518'\n",
      "Ignoring unsupported parameter 'overwrite' for importer type <class 'fiftyone.utils.dicom.DICOMDatasetImporter'>\n",
      " 100% |███████████████████| 29/29 [1.1s elapsed, 0s remaining, 26.0 samples/s]         \n"
     ]
    },
    {
     "name": "stderr",
     "output_type": "stream",
     "text": [
      "100%|█████████▉| 1126/1128 [1:16:26<00:04,  2.37s/it]"
     ]
    },
    {
     "name": "stdout",
     "output_type": "stream",
     "text": [
      "No `images_dir` provided. Images will be unpacked to '/opt/project/data/TCGA-BH-A0HA/11-17-2001-NA-BREAST MRI-26938/202.000000-CAD cor reformat-37313'\n",
      "Ignoring unsupported parameter 'overwrite' for importer type <class 'fiftyone.utils.dicom.DICOMDatasetImporter'>\n",
      " 100% |█████████████████| 145/145 [4.0s elapsed, 0s remaining, 37.7 samples/s]       \n"
     ]
    },
    {
     "name": "stderr",
     "output_type": "stream",
     "text": [
      "100%|█████████▉| 1127/1128 [1:16:31<00:03,  3.03s/it]"
     ]
    },
    {
     "name": "stdout",
     "output_type": "stream",
     "text": [
      "No `images_dir` provided. Images will be unpacked to '/opt/project/data/TCGA-E2-A10F/02-21-2001-NA-MR BREAST BILATERAL WWO CONT-16473/1.000000-3-PLANE LOCALIZER-59047'\n",
      "Ignoring unsupported parameter 'overwrite' for importer type <class 'fiftyone.utils.dicom.DICOMDatasetImporter'>\n",
      " 100% |███████████████████| 45/45 [1.7s elapsed, 0s remaining, 26.0 samples/s]      \n"
     ]
    },
    {
     "name": "stderr",
     "output_type": "stream",
     "text": [
      "100%|██████████| 1128/1128 [1:16:33<00:00,  4.07s/it]\n"
     ]
    }
   ],
   "source": [
    "from tqdm import tqdm\n",
    "for base_path in tqdm(list(set(base_paths))[1:]):\n",
    "    try:\n",
    "        dataset = fo.Dataset.from_dir(\n",
    "        dataset_dir=base_path,\n",
    "        dataset_type=fo.types.DICOMDataset,\n",
    "        name=base_path.split('/')[4] + base_path.split('/')[5] + base_path.split('/')[6],\n",
    "        overwrite=True\n",
    "        )\n",
    "    except Exception as e:\n",
    "        print(e)\n",
    "        pass"
   ]
  },
  {
   "cell_type": "code",
   "execution_count": 9,
   "metadata": {},
   "outputs": [],
   "source": [
    "datasets = [fo.load_dataset(ds_name) for ds_name in fo.list_datasets()]"
   ]
  },
  {
   "cell_type": "code",
   "execution_count": 11,
   "metadata": {},
   "outputs": [],
   "source": [
    "merge_dataset = datasets[0].clone()"
   ]
  },
  {
   "cell_type": "code",
   "execution_count": 12,
   "metadata": {},
   "outputs": [
    {
     "ename": "ValueError",
     "evalue": "Field 'ScanOptions' type fiftyone.core.fields.StringField does not match existing field type fiftyone.core.fields.ListField(fiftyone.core.fields.StringField)",
     "output_type": "error",
     "traceback": [
      "\u001b[0;31m---------------------------------------------------------------------------\u001b[0m",
      "\u001b[0;31mValueError\u001b[0m                                Traceback (most recent call last)",
      "\u001b[1;32m/opt/project/playground.ipynb Cell 9'\u001b[0m in \u001b[0;36m<cell line: 1>\u001b[0;34m()\u001b[0m\n\u001b[1;32m      <a href='vscode-notebook-cell://attached-container%2B7b22636f6e7461696e65724e616d65223a222f6d72692d646174612d6d7269646174612d31227d/opt/project/playground.ipynb#ch0000020vscode-remote?line=0'>1</a>\u001b[0m \u001b[39mfor\u001b[39;00m dataset \u001b[39min\u001b[39;00m datasets[\u001b[39m1\u001b[39m:]:\n\u001b[0;32m----> <a href='vscode-notebook-cell://attached-container%2B7b22636f6e7461696e65724e616d65223a222f6d72692d646174612d6d7269646174612d31227d/opt/project/playground.ipynb#ch0000020vscode-remote?line=1'>2</a>\u001b[0m     merge_dataset\u001b[39m.\u001b[39;49mmerge_samples(dataset)\n",
      "File \u001b[0;32m/usr/local/lib/python3.8/site-packages/fiftyone/core/dataset.py:1664\u001b[0m, in \u001b[0;36mDataset.merge_samples\u001b[0;34m(self, samples, key_field, key_fcn, skip_existing, insert_new, fields, omit_fields, merge_lists, overwrite, expand_schema, include_info, overwrite_info, num_samples)\u001b[0m\n\u001b[1;32m   <a href='file:///usr/local/lib/python3.8/site-packages/fiftyone/core/dataset.py?line=1660'>1661</a>\u001b[0m         omit_fields \u001b[39m=\u001b[39m \u001b[39mlist\u001b[39m(omit_fields)\n\u001b[1;32m   <a href='file:///usr/local/lib/python3.8/site-packages/fiftyone/core/dataset.py?line=1662'>1663</a>\u001b[0m \u001b[39mif\u001b[39;00m \u001b[39misinstance\u001b[39m(samples, foc\u001b[39m.\u001b[39mSampleCollection):\n\u001b[0;32m-> <a href='file:///usr/local/lib/python3.8/site-packages/fiftyone/core/dataset.py?line=1663'>1664</a>\u001b[0m     _merge_dataset_doc(\n\u001b[1;32m   <a href='file:///usr/local/lib/python3.8/site-packages/fiftyone/core/dataset.py?line=1664'>1665</a>\u001b[0m         \u001b[39mself\u001b[39;49m,\n\u001b[1;32m   <a href='file:///usr/local/lib/python3.8/site-packages/fiftyone/core/dataset.py?line=1665'>1666</a>\u001b[0m         samples,\n\u001b[1;32m   <a href='file:///usr/local/lib/python3.8/site-packages/fiftyone/core/dataset.py?line=1666'>1667</a>\u001b[0m         fields\u001b[39m=\u001b[39;49mfields,\n\u001b[1;32m   <a href='file:///usr/local/lib/python3.8/site-packages/fiftyone/core/dataset.py?line=1667'>1668</a>\u001b[0m         omit_fields\u001b[39m=\u001b[39;49momit_fields,\n\u001b[1;32m   <a href='file:///usr/local/lib/python3.8/site-packages/fiftyone/core/dataset.py?line=1668'>1669</a>\u001b[0m         expand_schema\u001b[39m=\u001b[39;49mexpand_schema,\n\u001b[1;32m   <a href='file:///usr/local/lib/python3.8/site-packages/fiftyone/core/dataset.py?line=1669'>1670</a>\u001b[0m         merge_info\u001b[39m=\u001b[39;49minclude_info,\n\u001b[1;32m   <a href='file:///usr/local/lib/python3.8/site-packages/fiftyone/core/dataset.py?line=1670'>1671</a>\u001b[0m         overwrite_info\u001b[39m=\u001b[39;49moverwrite_info,\n\u001b[1;32m   <a href='file:///usr/local/lib/python3.8/site-packages/fiftyone/core/dataset.py?line=1671'>1672</a>\u001b[0m     )\n\u001b[1;32m   <a href='file:///usr/local/lib/python3.8/site-packages/fiftyone/core/dataset.py?line=1673'>1674</a>\u001b[0m     expand_schema \u001b[39m=\u001b[39m \u001b[39mFalse\u001b[39;00m\n\u001b[1;32m   <a href='file:///usr/local/lib/python3.8/site-packages/fiftyone/core/dataset.py?line=1675'>1676</a>\u001b[0m \u001b[39m# If we're merging a collection, use aggregation pipelines\u001b[39;00m\n",
      "File \u001b[0;32m/usr/local/lib/python3.8/site-packages/fiftyone/core/dataset.py:5059\u001b[0m, in \u001b[0;36m_merge_dataset_doc\u001b[0;34m(dataset, collection_or_doc, fields, omit_fields, expand_schema, merge_info, overwrite_info)\u001b[0m\n\u001b[1;32m   <a href='file:///usr/local/lib/python3.8/site-packages/fiftyone/core/dataset.py?line=5050'>5051</a>\u001b[0m         frame_schema \u001b[39m=\u001b[39m {\n\u001b[1;32m   <a href='file:///usr/local/lib/python3.8/site-packages/fiftyone/core/dataset.py?line=5051'>5052</a>\u001b[0m             frame_fields[k]: v\n\u001b[1;32m   <a href='file:///usr/local/lib/python3.8/site-packages/fiftyone/core/dataset.py?line=5052'>5053</a>\u001b[0m             \u001b[39mfor\u001b[39;00m k, v \u001b[39min\u001b[39;00m frame_schema\u001b[39m.\u001b[39mitems()\n\u001b[1;32m   <a href='file:///usr/local/lib/python3.8/site-packages/fiftyone/core/dataset.py?line=5053'>5054</a>\u001b[0m             \u001b[39mif\u001b[39;00m k \u001b[39min\u001b[39;00m frame_fields\n\u001b[1;32m   <a href='file:///usr/local/lib/python3.8/site-packages/fiftyone/core/dataset.py?line=5054'>5055</a>\u001b[0m         }\n\u001b[1;32m   <a href='file:///usr/local/lib/python3.8/site-packages/fiftyone/core/dataset.py?line=5056'>5057</a>\u001b[0m     schema \u001b[39m=\u001b[39m {fields[k]: v \u001b[39mfor\u001b[39;00m k, v \u001b[39min\u001b[39;00m schema\u001b[39m.\u001b[39mitems() \u001b[39mif\u001b[39;00m k \u001b[39min\u001b[39;00m fields}\n\u001b[0;32m-> <a href='file:///usr/local/lib/python3.8/site-packages/fiftyone/core/dataset.py?line=5058'>5059</a>\u001b[0m dataset\u001b[39m.\u001b[39;49m_sample_doc_cls\u001b[39m.\u001b[39;49mmerge_field_schema(\n\u001b[1;32m   <a href='file:///usr/local/lib/python3.8/site-packages/fiftyone/core/dataset.py?line=5059'>5060</a>\u001b[0m     schema, expand_schema\u001b[39m=\u001b[39;49mexpand_schema\n\u001b[1;32m   <a href='file:///usr/local/lib/python3.8/site-packages/fiftyone/core/dataset.py?line=5060'>5061</a>\u001b[0m )\n\u001b[1;32m   <a href='file:///usr/local/lib/python3.8/site-packages/fiftyone/core/dataset.py?line=5061'>5062</a>\u001b[0m \u001b[39mif\u001b[39;00m is_video \u001b[39mand\u001b[39;00m frame_schema \u001b[39mis\u001b[39;00m \u001b[39mnot\u001b[39;00m \u001b[39mNone\u001b[39;00m:\n\u001b[1;32m   <a href='file:///usr/local/lib/python3.8/site-packages/fiftyone/core/dataset.py?line=5062'>5063</a>\u001b[0m     dataset\u001b[39m.\u001b[39m_frame_doc_cls\u001b[39m.\u001b[39mmerge_field_schema(\n\u001b[1;32m   <a href='file:///usr/local/lib/python3.8/site-packages/fiftyone/core/dataset.py?line=5063'>5064</a>\u001b[0m         frame_schema, expand_schema\u001b[39m=\u001b[39mexpand_schema\n\u001b[1;32m   <a href='file:///usr/local/lib/python3.8/site-packages/fiftyone/core/dataset.py?line=5064'>5065</a>\u001b[0m     )\n",
      "File \u001b[0;32m/usr/local/lib/python3.8/site-packages/fiftyone/core/odm/mixins.py:366\u001b[0m, in \u001b[0;36mDatasetMixin.merge_field_schema\u001b[0;34m(cls, schema, expand_schema)\u001b[0m\n\u001b[1;32m    <a href='file:///usr/local/lib/python3.8/site-packages/fiftyone/core/odm/mixins.py?line=362'>363</a>\u001b[0m     \u001b[39mcontinue\u001b[39;00m\n\u001b[1;32m    <a href='file:///usr/local/lib/python3.8/site-packages/fiftyone/core/odm/mixins.py?line=364'>365</a>\u001b[0m \u001b[39mif\u001b[39;00m field_name \u001b[39min\u001b[39;00m _schema:\n\u001b[0;32m--> <a href='file:///usr/local/lib/python3.8/site-packages/fiftyone/core/odm/mixins.py?line=365'>366</a>\u001b[0m     validate_fields_match(field_name, field, _schema[field_name])\n\u001b[1;32m    <a href='file:///usr/local/lib/python3.8/site-packages/fiftyone/core/odm/mixins.py?line=366'>367</a>\u001b[0m \u001b[39melse\u001b[39;00m:\n\u001b[1;32m    <a href='file:///usr/local/lib/python3.8/site-packages/fiftyone/core/odm/mixins.py?line=367'>368</a>\u001b[0m     add_fields\u001b[39m.\u001b[39mappend(field_name)\n",
      "File \u001b[0;32m/usr/local/lib/python3.8/site-packages/fiftyone/core/odm/mixins.py:78\u001b[0m, in \u001b[0;36mvalidate_fields_match\u001b[0;34m(field_name, field_or_kwargs, existing_field_or_kwargs)\u001b[0m\n\u001b[1;32m     <a href='file:///usr/local/lib/python3.8/site-packages/fiftyone/core/odm/mixins.py?line=74'>75</a>\u001b[0m     existing_field \u001b[39m=\u001b[39m existing_field_or_kwargs\n\u001b[1;32m     <a href='file:///usr/local/lib/python3.8/site-packages/fiftyone/core/odm/mixins.py?line=76'>77</a>\u001b[0m \u001b[39mif\u001b[39;00m \u001b[39mtype\u001b[39m(field) \u001b[39mis\u001b[39;00m \u001b[39mnot\u001b[39;00m \u001b[39mtype\u001b[39m(existing_field):\n\u001b[0;32m---> <a href='file:///usr/local/lib/python3.8/site-packages/fiftyone/core/odm/mixins.py?line=77'>78</a>\u001b[0m     \u001b[39mraise\u001b[39;00m \u001b[39mValueError\u001b[39;00m(\n\u001b[1;32m     <a href='file:///usr/local/lib/python3.8/site-packages/fiftyone/core/odm/mixins.py?line=78'>79</a>\u001b[0m         \u001b[39m\"\u001b[39m\u001b[39mField \u001b[39m\u001b[39m'\u001b[39m\u001b[39m%s\u001b[39;00m\u001b[39m'\u001b[39m\u001b[39m type \u001b[39m\u001b[39m%s\u001b[39;00m\u001b[39m does not match existing field \u001b[39m\u001b[39m\"\u001b[39m\n\u001b[1;32m     <a href='file:///usr/local/lib/python3.8/site-packages/fiftyone/core/odm/mixins.py?line=79'>80</a>\u001b[0m         \u001b[39m\"\u001b[39m\u001b[39mtype \u001b[39m\u001b[39m%s\u001b[39;00m\u001b[39m\"\u001b[39m \u001b[39m%\u001b[39m (field_name, field, existing_field)\n\u001b[1;32m     <a href='file:///usr/local/lib/python3.8/site-packages/fiftyone/core/odm/mixins.py?line=80'>81</a>\u001b[0m     )\n\u001b[1;32m     <a href='file:///usr/local/lib/python3.8/site-packages/fiftyone/core/odm/mixins.py?line=82'>83</a>\u001b[0m \u001b[39mif\u001b[39;00m \u001b[39misinstance\u001b[39m(field, fof\u001b[39m.\u001b[39mEmbeddedDocumentField):\n\u001b[1;32m     <a href='file:///usr/local/lib/python3.8/site-packages/fiftyone/core/odm/mixins.py?line=83'>84</a>\u001b[0m     \u001b[39mif\u001b[39;00m \u001b[39mnot\u001b[39;00m \u001b[39missubclass\u001b[39m(field\u001b[39m.\u001b[39mdocument_type, existing_field\u001b[39m.\u001b[39mdocument_type):\n",
      "\u001b[0;31mValueError\u001b[0m: Field 'ScanOptions' type fiftyone.core.fields.StringField does not match existing field type fiftyone.core.fields.ListField(fiftyone.core.fields.StringField)"
     ]
    }
   ],
   "source": [
    "for dataset in datasets[1:]:\n",
    "    merge_dataset.merge_samples(dataset)"
   ]
  },
  {
   "cell_type": "code",
   "execution_count": null,
   "metadata": {},
   "outputs": [],
   "source": [
    "merge_dataset = fo.Dataset()"
   ]
  },
  {
   "cell_type": "code",
   "execution_count": null,
   "metadata": {},
   "outputs": [],
   "source": [
    "ds = fo.load_dataset(fo.list_datasets()[0])"
   ]
  },
  {
   "cell_type": "code",
   "execution_count": null,
   "metadata": {},
   "outputs": [],
   "source": [
    "ds1 = fo.load_dataset(fo.list_datasets()[0])\n",
    "ds2 = fo.load_dataset(fo.list_datasets()[1])"
   ]
  },
  {
   "cell_type": "code",
   "execution_count": null,
   "metadata": {},
   "outputs": [],
   "source": [
    "ds1.merge_samples(ds2)"
   ]
  },
  {
   "cell_type": "code",
   "execution_count": null,
   "metadata": {},
   "outputs": [],
   "source": [
    "fo.list_datasets()[0]"
   ]
  },
  {
   "cell_type": "code",
   "execution_count": null,
   "metadata": {},
   "outputs": [],
   "source": [
    "merge_dataset = ds1.clone(name='merge-dataset')"
   ]
  },
  {
   "cell_type": "code",
   "execution_count": null,
   "metadata": {},
   "outputs": [],
   "source": [
    "[merge_dataset.merge_samples(fo.load_dataset(ds)) for ds_name in fo.list_datasets()[2:]]"
   ]
  },
  {
   "cell_type": "code",
   "execution_count": null,
   "metadata": {},
   "outputs": [],
   "source": [
    "fo.delete_dataset('2022.04.26.07.32.46')"
   ]
  },
  {
   "cell_type": "code",
   "execution_count": null,
   "metadata": {},
   "outputs": [],
   "source": [
    "from fiftyone.utils.dicom import DICOMDatasetImporter"
   ]
  },
  {
   "cell_type": "code",
   "execution_count": null,
   "metadata": {},
   "outputs": [],
   "source": [
    "ds = DICOMDatasetImporter(dicom_path='./data/**/*.dcm')"
   ]
  },
  {
   "cell_type": "code",
   "execution_count": null,
   "metadata": {},
   "outputs": [],
   "source": [
    "ds.setup()"
   ]
  },
  {
   "cell_type": "code",
   "execution_count": null,
   "metadata": {},
   "outputs": [],
   "source": []
  }
 ],
 "metadata": {
  "interpreter": {
   "hash": "949777d72b0d2535278d3dc13498b2535136f6dfe0678499012e853ee9abcab1"
  },
  "kernelspec": {
   "display_name": "Python 3.6.8 64-bit",
   "language": "python",
   "name": "python3"
  },
  "language_info": {
   "codemirror_mode": {
    "name": "ipython",
    "version": 3
   },
   "file_extension": ".py",
   "mimetype": "text/x-python",
   "name": "python",
   "nbconvert_exporter": "python",
   "pygments_lexer": "ipython3",
   "version": "3.8.13"
  },
  "orig_nbformat": 4
 },
 "nbformat": 4,
 "nbformat_minor": 2
}
